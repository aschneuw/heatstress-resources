{
 "cells": [
  {
   "cell_type": "markdown",
   "id": "71f75996-e687-48ac-87ae-4fbd5e83d882",
   "metadata": {},
   "source": [
    "# Milk Data Preprocessing (merge Raw Data from Swiss Herdbook and Holstein Switzerland to parquet format)\n",
    "HS = Holstein Switzerland\n",
    "\n",
    "BS = Braunvieh Schweiz\n",
    "\n",
    "SHB = Swiss Herdbook"
   ]
  },
  {
   "cell_type": "code",
   "execution_count": null,
   "id": "f2e22a75-678f-40bf-a570-b45fea56404e",
   "metadata": {},
   "outputs": [],
   "source": [
    "from pathlib import Path\n",
    "from typing import Any, Callable, Dict, List\n",
    "from datetime import datetime\n",
    "import pandas as pd\n",
    "from joblib import Parallel, delayed"
   ]
  },
  {
   "cell_type": "code",
   "execution_count": null,
   "id": "4e4a876a-b6dd-4429-b3e0-587e9f393ee8",
   "metadata": {},
   "outputs": [],
   "source": [
    "workspace = Path(\"/home/aschneuwl/workspace/\")\n",
    "workspace2 = Path(\"/mnt/wks3/aschneuwl/workspace\")\n",
    "shb_bs = workspace / Path(\"data/dairy/shb_bs/Daten_ETH_Masterarbeit_202404\")\n",
    "holstein_dir = workspace / Path(\"data/dairy/holstein\")"
   ]
  },
  {
   "cell_type": "code",
   "execution_count": null,
   "id": "5b223686-74f5-41cc-bdca-6e9e1c029cd4",
   "metadata": {},
   "outputs": [],
   "source": [
    "def float_and_none(input_data: str) -> float:\n",
    "    if(input_data != \"\" and input_data != \"####\" and input_data != \"#####\"):\n",
    "        output = float(input_data) \n",
    "    else:\n",
    "        output = None\n",
    "\n",
    "    return output\n",
    "\n",
    "def str_and_none(input_data: str) -> str:\n",
    "    if(input_data != \"\" and input_data != \"####\" and input_data != \"#####\"):\n",
    "        output = input_data \n",
    "    else:\n",
    "        output = None\n",
    "\n",
    "    return output"
   ]
  },
  {
   "cell_type": "code",
   "execution_count": null,
   "id": "e67bc36d-ffd4-43f2-8de8-0384ff79b32e",
   "metadata": {},
   "outputs": [],
   "source": [
    "def parse_raw_file_parallel(fpath: Path, source: str) -> Dict[str, Any]:\n",
    "    with open(fpath,  encoding=\"cp437\") as fp:\n",
    "        lines = fp.readlines()\n",
    "\n",
    "    records = Parallel(n_jobs=-1, verbose=10)(delayed(b01_record)(line, \"bv\") for line in lines)\n",
    "\n",
    "    return records"
   ]
  },
  {
   "cell_type": "code",
   "execution_count": null,
   "id": "e223bc05-00e3-47ef-a157-f4b821b3df06",
   "metadata": {},
   "outputs": [],
   "source": [
    "class QualitasDataReader():\n",
    "    def __init__(self):\n",
    "        self._line_reader: Callable[[str, str], Dict[str,Any]] = None\n",
    "\n",
    "    def _select_reader(self, fpath: Path) -> Callable[[str, str], Dict[str,Any]]:\n",
    "        ext = fpath.suffix\n",
    "\n",
    "        if ext == \".B01\":\n",
    "            self._line_reader = b01_record\n",
    "        elif ext == \".K33\":\n",
    "            self._line_reader = k33_record\n",
    "        elif ext == \".K10\":\n",
    "            self._line_reader = k10_record\n",
    "        elif ext == \".K11\":\n",
    "            self._line_reader = k11_record\n",
    "        elif ext == \".K03\":\n",
    "            self._line_reader = k03_record_ho\n",
    "        else:\n",
    "            raise ArgumentError(f\"Unknown file type: {ext}.\")\n",
    "\n",
    "        return self._line_reader\n",
    "\n",
    "    def parse_raw_file(self, fpath: Path, source: str) -> List[Dict[str,Any]]:\n",
    "        self._select_reader(fpath)\n",
    "        records = []\n",
    "        line_count = 0\n",
    "        with open(fpath,  encoding=\"cp437\") as fp:\n",
    "            while line := fp.readline():\n",
    "                try:\n",
    "                    record = self._line_reader(line, source)\n",
    "                    records.append(record)\n",
    "                except Exception as e:\n",
    "                    print(line_count, \"-\", line)\n",
    "                    print(e)\n",
    "\n",
    "                line_count += 1\n",
    "\n",
    "        records = [r for r in records if r is not None]\n",
    "        \n",
    "        return records\n",
    "\n",
    "    def read_into_df(self, fpath: Path, source: str) -> pd.DataFrame:\n",
    "        records = self.parse_raw_file(fpath, source)\n",
    "        df = pd.DataFrame.from_dict(records)\n",
    "\n",
    "        return df"
   ]
  },
  {
   "cell_type": "code",
   "execution_count": null,
   "id": "45d54f77-8d9d-4579-afbd-dc7ac6f9431d",
   "metadata": {},
   "outputs": [],
   "source": [
    "def b01_record(line: str, source: str):\n",
    "    \"\"\"\n",
    "    Extracts B01 records from Datenschnittstelle Rindvieh-Schweiz Data Exports\n",
    "    # Stammdaten des Betriebes\n",
    "    \"\"\"\n",
    "    if line == '\\x1a':\n",
    "        return None\n",
    "    \n",
    "    n_line = len(line)\n",
    "    if not (n_line == 222 or n_line == 272):\n",
    "        raise ValueError(f\"Expected B01 record length is 222 or 272 (Holstein Switzerland). Received {n_line} char(s)\")\n",
    "    \n",
    "    # Empty Record\n",
    "    record = {}\n",
    "    record[\"source\"] = source\n",
    "\n",
    "    # Satzart\n",
    "    record[\"recordType\"] = line[0:3]\n",
    "    \n",
    "    # Versionsnummer Satzformat\n",
    "    record[\"recordVersion\"] = line[3:5].strip()\n",
    "\n",
    "    # Betriebsidentifikation\n",
    "    record[\"farmId\"] = line[5:15].strip()\n",
    "\n",
    "    # Betriebsidentifikation TVD\n",
    "    record[\"farmIdTvd\"] =  line[15:22].strip()\n",
    "\n",
    "    # Postleihzahl\n",
    "    record[\"zip\"] = line[144:149].strip()\n",
    "\n",
    "    # Ort\n",
    "    record[\"city\"] = line[149:179].strip()\n",
    "\n",
    "    # Land\n",
    "    record[\"country\"] = line[181:184].strip()\n",
    "\n",
    "    # Kataster-Zone\n",
    "    record[\"cadasterZone\"] = line[184:185].strip()\n",
    "\n",
    "    # Standort-Höhe\n",
    "    data_cols = line[185:187].strip()\n",
    "    record[\"altitude\"] = float_and_none(data_cols)\n",
    "\n",
    "    # Region\n",
    "    record[\"region\"] = line[187:189].strip()\n",
    "\n",
    "    # Gemeindenummer\n",
    "    record[\"municipalityId\"] = line[189:193].strip()\n",
    "\n",
    "\n",
    "    # Standort Typ\n",
    "    record[\"locationType\"] = line[208:212].strip()\n",
    "\n",
    "    # Prüfbetrieb Status\n",
    "    record[\"testFarmStatus\"] = line[212:213].strip()\n",
    "\n",
    "    # Prüfbetrieb Datum Beginnn\n",
    "    data_cols = line[213:221].strip()\n",
    "    \n",
    "    try:\n",
    "        parsed_date = datetime.strptime(data_cols, '%Y%m%d').date() if (data_cols) else None\n",
    "    except ValueError:\n",
    "        parsed_date = None\n",
    "    record[\"testFarmStart\"] = parsed_date\n",
    "\n",
    "    return record    "
   ]
  },
  {
   "cell_type": "code",
   "execution_count": null,
   "id": "face5e1e-1824-4a4f-92ac-d81317c7b65a",
   "metadata": {},
   "outputs": [],
   "source": [
    "def k10_record(line: str, source: str = None):\n",
    "    \"\"\"\n",
    "    Extracts K10 records from Datenschnittstelle Rindvieh-Schweiz Data Exports\n",
    "    Besamungs-/Belegungsdaten der Kühe\n",
    "    \"\"\"\n",
    "    \n",
    "    n_line = len(line)\n",
    "    if not (n_line == 208 or n_line == 147):\n",
    "        raise ValueError(f\"Expected K10 record length is 208 (BS, SHB) or 147 (HS). Received {n_line} char(s)\")\n",
    "    \n",
    "    # Empty Record\n",
    "    record = {}\n",
    "\n",
    "    record[\"source\"] = source\n",
    "    \n",
    "    # Satzart\n",
    "    record[\"recordType\"] = line[0:3]\n",
    "    \n",
    "    # Versionsnummer Satzformat\n",
    "    record[\"recordVersion\"] = line[3:5].strip()\n",
    "\n",
    "    # Betriebsidentifikation aktueller Standort\n",
    "    record[\"currentFarmId\"] = line[5:15].strip()\n",
    "\n",
    "    # Betriebsidentifikation TVD\n",
    "    record[\"currentFarmIdTvd\"] = line[15:22].strip()\n",
    "\n",
    "    # Tier Identifikation\n",
    "    record[\"animalId\"] = line[22:36].strip()\n",
    "\n",
    "    # Tier Rassecode\n",
    "    record[\"animalBreedCode\"] = line[36:39].strip()\n",
    "\n",
    "    # Tiername\n",
    "    record[\"animalName\"] = line[39:51].strip()\n",
    "\n",
    "    # Betriebsidentifikation Standort\n",
    "    record[\"farmId\"] = line[51:61].strip()\n",
    "\n",
    "    # Betriebsidentifikation nach TVD\n",
    "    record[\"farmIdTvd\"] = line[61:68].strip()\n",
    "\n",
    "    # Kuh / Rind\n",
    "    record[\"cowHeifer\"] = line[70:71].strip()\n",
    "\n",
    "    # Datum letze Abkalbung\n",
    "    record[\"lastCalving\"] = line[71:79].strip()\n",
    "\n",
    "    # Besamungs- / Belegungsdatum\n",
    "    data_cols = line[79:87].strip()\n",
    "    parsed_date = datetime.strptime(data_cols, '%Y%m%d').date() if (data_cols) else None\n",
    "    record[\"inseminationDate\"] = parsed_date\n",
    "    \n",
    "    # Besamungs/Belegungscode\n",
    "    record[\"inseminationCode\"] = line[87:88].strip()\n",
    "    \n",
    "    # Nummer der Besamung/Belegung\n",
    "    record[\"inseminationCount\"] = line[88:90].strip()\n",
    "    \n",
    "    # Stier Identifikation\n",
    "    record[\"bullId\"] = line[90:104].strip()\n",
    "    \n",
    "    # Stier Rassencode\n",
    "    record[\"bullBreedId\"] = line[104:107].strip()\n",
    "    \n",
    "    # Stier-Name\n",
    "    record[\"inseminationDate\"] = parsed_date\n",
    "    record[\"bullName\"] = line[107:119].strip()\n",
    "    \n",
    "    # Datum vorhergehende Besamung / Belegung\n",
    "    data_cols = line[119:127].strip()\n",
    "    parsed_date = datetime.strptime(data_cols, '%Y%m%d').date() if (data_cols) else None\n",
    "    record[\"previousInseminationDate\"] = parsed_date\n",
    "    \n",
    "    # Code Daten Lieferant\n",
    "    record[\"dataSourceCode\"] = line[127:129].strip()\n",
    "\n",
    "    # Identifikation Daten Lieferant\n",
    "    record[\"dataSourceId\"] = line[129:136].strip()\n",
    "    \n",
    "    # Code Besamer\n",
    "    record[\"inseminatorCode\"] = line[136:138].strip()\n",
    "    \n",
    "    # Code Teststier\n",
    "    record[\"testBullCode\"] = line[138:139].strip()\n",
    "    \n",
    "    # Code Stierenwechsel\n",
    "    record[\"bullChange\"] = line[139:140].strip()\n",
    "    \n",
    "    # Stierkategorie\n",
    "    record[\"bullCategory\"] = line[140:142].strip()\n",
    "    \n",
    "    # Hofcontainer\n",
    "    record[\"farmContainer\"] = line[142:143].strip()\n",
    "    \n",
    "    # Reservation\n",
    "    record[\"reservation\"] = line[143:144].strip()\n",
    "    \n",
    "    # Spezialcode\n",
    "    record[\"specialCode\"] = line[144:146].strip()\n",
    "\n",
    "    if n_line > 147:\n",
    "        # Ejakulationsdatum\n",
    "        data_cols = line[146:154].strip()\n",
    "        parsed_date = datetime.strptime(data_cols, '%Y%m%d').date() if (data_cols) else None\n",
    "        record[\"ejaculationDate\"] = parsed_date\n",
    "        \n",
    "        # Samenbehandlung\n",
    "        record[\"semenTreatment\"] = line[154:155].strip()\n",
    "        \n",
    "        # BesamungsID\n",
    "        record[\"inseminationId\"] = line[155:170].strip()\n",
    "        \n",
    "        # Mutationscode\n",
    "        record[\"mutationCode\"] = line[170:171].strip()\n",
    "        \n",
    "        # Code Daten Lieferant\n",
    "        record[\"dataSourceCode\"] = line[171:179].strip()\n",
    "        \n",
    "        # Bei ET, Identifikation der genetischen Mutter\n",
    "        record[\"geneticalMotherId\"] = line[179:193].strip()\n",
    "        \n",
    "        # Bei ET, Rassencode der genetischen Mutter\n",
    "        record[\"geneticalMotherBreed\"] = line[193:196].strip()\n",
    "        \n",
    "        # Gesextes Spterma geschlecht\n",
    "        record[\"sexedSemenGender\"] = line[196:197].strip()\n",
    "            \n",
    "        # Belegdatum bis (für Sprungeperioden)\n",
    "        record[\"inseminationDateTo\"] = line[197:205].strip()\n",
    "        \n",
    "        # Daten Herkunft\n",
    "        record[\"dataSource\"] = line[205:207].strip()\n",
    "\n",
    "    return record"
   ]
  },
  {
   "cell_type": "code",
   "execution_count": null,
   "id": "9c1e0ada-d036-4fbd-9b32-6a55cbade508",
   "metadata": {},
   "outputs": [],
   "source": [
    "def k11_record(line: str, source: str = None):\n",
    "    \"\"\"\n",
    "    Extracts K11 records from Datenschnittstelle Rindvieh-Schweiz Data Exports\n",
    "    Abkalbedaten der Kühe\n",
    "    \"\"\"\n",
    "    \n",
    "    n_line = len(line)\n",
    "    if n_line != 253 and n_line != 246 and n_line != 250:\n",
    "        raise ValueError(f\"Expected K11 record length is 253. Received {n_line} char(s)\")\n",
    "    \n",
    "    # Empty Record\n",
    "    record = {}\n",
    "\n",
    "    record[\"source\"] = source\n",
    "    \n",
    "    # Satzart\n",
    "    record[\"recordType\"] = line[0:3]\n",
    "    \n",
    "    # Versionsnummer Satzformat\n",
    "    record[\"recordVersion\"] = line[3:5].strip()\n",
    "\n",
    "    # Betriebsidentifikation aktueller Standort\n",
    "    record[\"currentFarmId\"] = line[5:15].strip()\n",
    "\n",
    "    # Betriebsidentifikation TVD\n",
    "    record[\"currentFarmIdTvd\"] = line[15:22].strip()\n",
    "\n",
    "    # Mutter Identifikation\n",
    "    record[\"damId\"] = line[22:36].strip()\n",
    "\n",
    "    # Mutter Rassecode\n",
    "    record[\"dambreedCode\"] = line[36:39].strip()\n",
    "\n",
    "    # Tiername\n",
    "    record[\"animalName\"] = line[39:51].strip()\n",
    "\n",
    "    # Betriebsidentifikation Standort bei der Abkalbung\n",
    "    record[\"calvingFarmId\"] = line[51:61].strip()\n",
    "\n",
    "    # Betriebsidentifikation nach TVD bei der Abkalbung\n",
    "    record[\"calvingFarmIdTvd\"] = line[61:68].strip()\n",
    "\n",
    "    # Laktationsnummer\n",
    "    record[\"lactationNumber\"] = line[68:70]\n",
    "\n",
    "    # Kalbedatum\n",
    "    data_cols = line[70:78].strip()\n",
    "    parsed_date = datetime.strptime(data_cols, '%Y%m%d').date() if (data_cols) else None\n",
    "    record[\"calvingDate\"] = parsed_date\n",
    "\n",
    "    # Kalb Identifikation\n",
    "    record[\"calfId\"] = line[78:92].strip()\n",
    "\n",
    "    # Kalb Rassecode\n",
    "    record[\"calfBreedCode\"] = line[92:95].strip()\n",
    "\n",
    "    # Kalb Geschlecht\n",
    "    record[\"gender\"]= line[95:96].strip()\n",
    "\n",
    "    # Zwilling / Drilling\n",
    "    record[\"twinTriplet\"] = line[96:97].strip()\n",
    "\n",
    "    # Vater Identifikation\n",
    "    record[\"fatherId\"] = line[97:111].strip()\n",
    "\n",
    "    # Vater Rassecode\n",
    "    record[\"fatherBreedCode\"] = line[111:114].strip()\n",
    "\n",
    "    # Abort\n",
    "    record[\"abort\"] = line[114:115].strip()\n",
    "\n",
    "    # ZKZ (Zwischenkalbzeit) Tage\n",
    "    record[\"intercalvingPeriod\"] = line[115:118].strip()\n",
    "\n",
    "    # Geburtsverlauf\n",
    "    record[\"birthProcedure\"] = line[118:119].strip()\n",
    "\n",
    "    # Kalb verendet innterhalb 24 Stunden\n",
    "    record[\"calfDeath24\"] = line[119:120].strip()\n",
    "\n",
    "    # Geburtsgewicht\n",
    "    record[\"birthWeight\"] = line[120:122].strip()\n",
    "\n",
    "    # Farbe\n",
    "    record[\"color\"] = line[122:124].strip()\n",
    "\n",
    "    # Ausweis erwünscht\n",
    "    record[\"certificateDesired\"] = line[124:125].strip()\n",
    "\n",
    "    # Bei ET (Embryonentransfer), Identifikation der genetischen Mutter\n",
    "    record[\"etGeneticMotherId\"] = line[125:139].strip()\n",
    "\n",
    "    # Bei ET (Embryonentransfer), Rassencode der genetischem Mutter\n",
    "    record[\"etGeneticMotherBreedCode\"] = line[139:142].strip()\n",
    "\n",
    "    # Besamungs / Belegunsdatum\n",
    "    data_cols = line[142:150].strip()\n",
    "    parsed_date = datetime.strptime(data_cols, '%Y%m%d').date() if (data_cols) else None\n",
    "    record[\"inseminationDate\"] = parsed_date\n",
    "\n",
    "    # Kastriert\n",
    "    record[\"castrated\"] = line[150:151].strip()\n",
    "\n",
    "    # Totgeburt\n",
    "    record[\"stillBirth\"] = line[151:152].strip()\n",
    "\n",
    "    # Zeitpunkt des Todes\n",
    "    record[\"deathTime\"] = line[152:155].strip()\n",
    "\n",
    "    # Erbfehlercode\n",
    "    record[\"geneticDefectCode\"] = line[155:158].strip()\n",
    "\n",
    "    # Erbfehlercode\n",
    "    record[\"geneticDefectCode2\"] = line[158:161].strip()\n",
    "\n",
    "    # Erbfehler / Missbildung\n",
    "    record[\"geneticDefect\"] = line[162:197].strip()\n",
    "\n",
    "    # original Bewegungs Id TVD\n",
    "    record[\"originalMovementIdTvd\"] = line[197:212].strip()\n",
    "\n",
    "    # aktuelle Bewegungs ID TVD\n",
    "    record[\"currentMovementIdTvd\"] = line[212:227].strip()\n",
    "\n",
    "    # Mutationscode\n",
    "    record[\"mutationCode\"] = line[227:228].strip()\n",
    "\n",
    "    # Missbildung\n",
    "    record[\"malformation\"] = line[228:231].strip()\n",
    "\n",
    "    # Stanzprobenummer\n",
    "    record[\"sampleId\"] = line[231:237].strip()\n",
    "\n",
    "    # Geburtsdatum Mutter\n",
    "    data_cols = line[237:245].strip()\n",
    "    parsed_date = datetime.strptime(data_cols, '%Y%m%d').date() if (data_cols) else None\n",
    "    record[\"dateOfBirthMother\"] = parsed_date\n",
    "\n",
    "    # Betriebsidentifikation Ganzjahrestierhaltung nach TVD\n",
    "    if n_line > 250:\n",
    "        record[\"yearRoundHusbandryFarmId\"] = line[245:252]\n",
    "    \n",
    "    return record"
   ]
  },
  {
   "cell_type": "code",
   "execution_count": null,
   "id": "80aa895e-4dc5-45c0-9f9c-b51aa74abb0b",
   "metadata": {},
   "outputs": [],
   "source": [
    "def k33_record(line: str, source: str):\n",
    "    \"\"\"\n",
    "    Extracts K33 records from Datenschnittstelle Rindvieh-Schweiz Data Exports\n",
    "    Ergebnisse der einzelnen Milchwägungen der Kühe\n",
    "    \"\"\"\n",
    "    n_line = len(line)\n",
    "    if n_line != 207:\n",
    "        raise ValueError(f\"Expected K33 record length is 222. Received {n_line} char(s)\")\n",
    "    \n",
    "    # Empty Record\n",
    "    record = {}\n",
    "    record[\"source\"] = source\n",
    "    \n",
    "    # Satzart\n",
    "    record[\"recordType\"] = line[0:3]\n",
    "    \n",
    "    # Versionsnummer Satzformat\n",
    "    record[\"recordVersion\"] = line[3:5].strip()\n",
    "\n",
    "    # Betriebsidentifikation\n",
    "    data_cols = line[5:15].strip()\n",
    "    record[\"farmId\"] = str_and_none(data_cols)\n",
    "\n",
    "    # Betriebsidentifikation TVD\n",
    "    data_cols = line[15:22].strip()\n",
    "    record[\"farmIdTvd\"] = str_and_none(data_cols)\n",
    "\n",
    "    # Tier Identifikation\n",
    "    data_cols = line[22:36].strip()\n",
    "    record[\"animalId\"] = str_and_none(data_cols)\n",
    "\n",
    "    # Tier Rassencode\n",
    "    data_cols = line[36:39].strip()\n",
    "    record[\"animalBreedCode\"] = str_and_none(data_cols)\n",
    "    \n",
    "    # Animal Name\n",
    "    data_cols = line[39:51].strip()\n",
    "    record[\"animalName\"] = str_and_none(data_cols)\n",
    "\n",
    "    # Betriebsidentifikation Standort, wo Milchprobe\n",
    "    data_cols = line[51:61].strip()\n",
    "    record[\"farmIdLocationSample\"] = str_and_none(data_cols)\n",
    "\n",
    "    # Betriebsidentifikation nach TVD, wo MilchProbe\n",
    "    data_cols =  line[61:68].strip()\n",
    "    record[\"farmIdTvdSample\"] = str_and_none(data_cols)\n",
    "\n",
    "    # Kalbedatum\n",
    "    data_cols = line[68:76].strip()\n",
    "    parsed_date = datetime.strptime(data_cols, '%Y%m%d').date() if (data_cols) else None\n",
    "    record[\"calvingDate\"] = parsed_date\n",
    "\n",
    "    # Laktationsnummer\n",
    "    data_cols = line[76:78].strip()\n",
    "    record[\"lactationNumber\"] = float_and_none(data_cols)\n",
    "\n",
    "    # Probenummer\n",
    "    data_cols = line[78:81].strip()\n",
    "    record[\"sampleNumber\"] = float_and_none(data_cols)\n",
    "\n",
    "    # Datum Probewägung\n",
    "    data_cols = line[81:89].strip()\n",
    "    parsed_date = datetime.strptime(data_cols, '%Y%m%d').date() if (data_cols) else None\n",
    "    record[\"sampleWeighingDate\"] = parsed_date\n",
    "\n",
    "    # Milch kg\n",
    "    record[\"milk\"] = float(line[89:93].strip())\n",
    "\n",
    "    # Fett %\n",
    "    data_cols = line[93:97].strip()\n",
    "    record[\"fat\"] = float_and_none(data_cols)\n",
    "\n",
    "    # Protein %\n",
    "    data_cols = line[97:101].strip()\n",
    "    record[\"protein\"] = float_and_none(data_cols)\n",
    "\n",
    "    # Lactose %\n",
    "    data_cols = line[101:105].strip()\n",
    "    record[\"lactose\"] = float_and_none(data_cols)\n",
    "    \n",
    "    # Proben-Persitenz %\n",
    "    data_cols = line[105:108].strip()\n",
    "    record[\"samplePersistence\"] = float_and_none(data_cols)\n",
    "\n",
    "    # Zellzahl %\n",
    "    data_cols = line[108:112].strip()\n",
    "    record[\"somaticCellCount\"] = float_and_none(data_cols)\n",
    "\n",
    "    # Milchharnstoff x1000/ml\n",
    "    data_cols = line[112:115].strip()\n",
    "    record[\"milkUreaNitrogen\"] = float_and_none(data_cols)\n",
    "    \n",
    "\n",
    "    # Bemerkung\n",
    "    data_cols = line[115:117].strip()\n",
    "    record[\"comment\"] = str_and_none(data_cols)\n",
    "\n",
    "    # Alp-Höhe x100m\n",
    "    data_cols = line[117:119].strip()\n",
    "    record[\"alpAltitude\"] = float_and_none(data_cols)\n",
    "\n",
    "    # Citrat\n",
    "    data_cols = line[119:122].strip()\n",
    "    record[\"citrate\"] = float_and_none(data_cols)\n",
    "\n",
    "    # Melkmethode\n",
    "    data_cols = line[123:124].strip()\n",
    "    record[\"milkingMethod\"] = float_and_none(data_cols)\n",
    "\n",
    "    # Prüfmethode\n",
    "    data_cols = line[123:124].strip()\n",
    "    record[\"sampleMethod\"] =  str_and_none(data_cols)\n",
    "\n",
    "    # Aceton mg/l\n",
    "    data_cols = line[126:129].strip()\n",
    "    record[\"aceton\"] =  float_and_none(data_cols)\n",
    "\n",
    "    # Milch kg morgen gewogen\n",
    "    data_cols = line[129:133].strip()\n",
    "    record[\"milkMorning\"] = float_and_none(data_cols)\n",
    "\n",
    "    # Milch kg abend gewogen\n",
    "    data_cols = line[133:137].strip()\n",
    "    record[\"milkEvening\"] = float_and_none(data_cols)\n",
    "\n",
    "    # Fett % gemessen\n",
    "    data_cols = line[137:141].strip()\n",
    "    record[\"fatMeasured\"] = float_and_none(data_cols)\n",
    "\n",
    "    # Protein % gemessen\n",
    "    data_cols = line[141:145].strip()\n",
    "    record[\"proteinMeasured\"] = float_and_none(data_cols)\n",
    "\n",
    "    # Code Wägung\n",
    "    data_cols = line[145:147].strip()\n",
    "    record[\"weighingCode\"] = str_and_none(data_cols)\n",
    "\n",
    "    # Code Labor\n",
    "    data_cols = line[147:149].strip()\n",
    "    record[\"labCode\"] = str_and_none(data_cols)\n",
    "\n",
    "    # Melkzeit morgen\n",
    "    data_cols = line[149:154].strip()\n",
    "    parsed_time =  datetime.strptime(data_cols, \"%H:%M\").time() if data_cols else None\n",
    "    record[\"milkingTimeMorning\"] = parsed_time\n",
    "\n",
    "    # Melkzeit abend\n",
    "    data_cols = line[154:159].strip()\n",
    "    parsed_time =  datetime.strptime(data_cols, \"%H:%M\").time() if data_cols else None\n",
    "    record[\"milkingTimeEvening\"] = parsed_time\n",
    "\n",
    "    # Anmeldung MBK (Melkbarkeitsprüfung)\n",
    "    data_cols = line[159:161].strip()\n",
    "    record[\"registrationMbk\"] = str_and_none(data_cols)\n",
    "    \n",
    "\n",
    "    # Anmeldung LBE (Lineare Beschreibung und Einstufung)\n",
    "    data_cols = line[161:163].strip()\n",
    "    record[\"registrationLbe\"] = str_and_none(data_cols)\n",
    "\n",
    "    # Kasein %\n",
    "    data_cols = line[163:167].strip()\n",
    "    record[\"caseinMeasured\"] = float_and_none(data_cols)\n",
    "\n",
    "    # 38 - Laufnummer in Herde\n",
    "    data_cols = line[167:171].strip()\n",
    "    record[\"herdIdentification\"] =  str_and_none(data_cols)\n",
    "\n",
    "    # Wägetyp\n",
    "    data_cols =  line[171:172].strip()\n",
    "    record[\"weighingType\"] = str_and_none(data_cols)\n",
    "\n",
    "    # Daten Herkunft\n",
    "    data_cols = line[172:174].strip()\n",
    "    record[\"dataOrigin\"] = str_and_none(data_cols)\n",
    "\n",
    "    # Aceton mmol/l\n",
    "    data_cols = line[174:178].strip()\n",
    "    record[\"acetonMmol\"] = float_and_none(data_cols)\n",
    "\n",
    "    # Fett %\n",
    "    data_cols = line[178:183].strip()\n",
    "    record[\"fat2\"] = float_and_none(data_cols)\n",
    "\n",
    "    # AcetonIR (Infrarotspektroskopie?)\n",
    "    data_cols = line[183:187].strip()\n",
    "    record[\"acetonIr\"] = float_and_none(data_cols)\n",
    "\n",
    "    # BHB (beta-hydroxybutyrate)\n",
    "    data_cols = line[187:191].strip()\n",
    "    record[\"bhbConcentration\"] = float_and_none(data_cols)\n",
    "\n",
    "    # Protein\n",
    "    data_cols = line[191:196].strip()\n",
    "    record[\"protein2\"] = float_and_none(data_cols)\n",
    "\n",
    "    # Fett gemessen %\n",
    "    data_cols = line[196:201].strip()\n",
    "    record[\"fatMeasured2\"] = float_and_none(data_cols)\n",
    "\n",
    "    # Portein measured %\n",
    "    data_cols = line[201:206].strip()\n",
    "    record[\"proteinMeasured2\"] = float_and_none(data_cols)\n",
    "    \n",
    "    return record    "
   ]
  },
  {
   "cell_type": "code",
   "execution_count": null,
   "id": "1cf95595-ec94-43f4-ad75-b708d19e1734",
   "metadata": {},
   "outputs": [],
   "source": [
    "def k03_record_ho(line: str, source: str):\n",
    "    \"\"\"\n",
    "    Extracts K03 records from Datenschnittstelle Rindvieh-Schweiz Data Exports for Holstein Switzerland\n",
    "    \"\"\"\n",
    "    n_line = len(line)\n",
    "    if n_line != 172:\n",
    "        raise ValueError(f\"Expected K03 v4 record length is 172. Received {n_line} char(s)\")\n",
    "    \n",
    "    # Empty Record\n",
    "    record = {}\n",
    "    record[\"source\"] = source\n",
    "    \n",
    "    # Satzart\n",
    "    record[\"recordType\"] = line[0:3]\n",
    "    \n",
    "    # Versionsnummer Satzformat\n",
    "    record[\"recordVersion\"] = line[3:5].strip()\n",
    "\n",
    "    # Betriebsidentifikation\n",
    "    data_cols = line[5:15].strip()\n",
    "    record[\"farmId\"] = str_and_none(data_cols)\n",
    "\n",
    "    # Betriebsidentifikation TVD\n",
    "    data_cols = line[15:22].strip()\n",
    "    record[\"farmIdTvd\"] = str_and_none(data_cols)\n",
    "\n",
    "    # Tier Identifikation\n",
    "    data_cols = line[22:36].strip()\n",
    "    record[\"animalId\"] = str_and_none(data_cols)\n",
    "\n",
    "    # Tier Rassencode\n",
    "    data_cols = line[36:39].strip()\n",
    "    record[\"animalBreedCode\"] = str_and_none(data_cols)\n",
    "    \n",
    "    # Animal Name\n",
    "    data_cols = line[39:51].strip()\n",
    "    record[\"animalName\"] = str_and_none(data_cols)\n",
    "\n",
    "    # Betriebsidentifikation Standort, wo Milchprobe\n",
    "    data_cols = line[51:61].strip()\n",
    "    record[\"farmIdLocationSample\"] = str_and_none(data_cols)\n",
    "\n",
    "    # Betriebsidentifikation nach TVD, wo MilchProbe\n",
    "    data_cols =  line[61:68].strip()\n",
    "    record[\"farmIdTvdSample\"] = str_and_none(data_cols)\n",
    "\n",
    "    # Kalbedatum\n",
    "    data_cols = line[68:76].strip()\n",
    "    parsed_date = datetime.strptime(data_cols, '%Y%m%d').date() if (data_cols) else None\n",
    "    record[\"calvingDate\"] = parsed_date\n",
    "\n",
    "    # Laktationsnummer\n",
    "    data_cols = line[76:78].strip()\n",
    "    record[\"lactationNumber\"] = float_and_none(data_cols)\n",
    "\n",
    "    # Probenummer\n",
    "    data_cols = line[78:81].strip()\n",
    "    record[\"sampleNumber\"] = float_and_none(data_cols)\n",
    "\n",
    "    # Datum Probewägung\n",
    "    data_cols = line[81:89].strip()\n",
    "    parsed_date = datetime.strptime(data_cols, '%Y%m%d').date() if (data_cols) else None\n",
    "    record[\"sampleWeighingDate\"] = parsed_date\n",
    "\n",
    "    # Milch kg\n",
    "    data_cols = line[89:93].strip()\n",
    "    record[\"milk\"] = float_and_none(data_cols)\n",
    "\n",
    "    # Fett %\n",
    "    data_cols = line[93:97].strip()\n",
    "    record[\"fat\"] = float_and_none(data_cols)\n",
    "\n",
    "    # Protein %\n",
    "    data_cols = line[97:101].strip()\n",
    "    record[\"protein\"] = float_and_none(data_cols)\n",
    "\n",
    "    # Lactose %\n",
    "    data_cols = line[101:105].strip()\n",
    "    record[\"lactose\"] = float_and_none(data_cols)\n",
    "    \n",
    "    # Proben-Persitenz %\n",
    "    data_cols = line[105:108].strip()\n",
    "    record[\"samplePersistence\"] = float_and_none(data_cols)\n",
    "\n",
    "    # Zellzahl %\n",
    "    data_cols = line[108:112].strip()\n",
    "    record[\"somaticCellCount\"] = float_and_none(data_cols)\n",
    "\n",
    "    # Milchharnstoff x1000/ml\n",
    "    data_cols = line[112:115].strip()\n",
    "    record[\"milkUreaNitrogen\"] = float_and_none(data_cols)\n",
    "    \n",
    "\n",
    "    # Bemerkung\n",
    "    data_cols = line[115:117].strip()\n",
    "    record[\"comment\"] = str_and_none(data_cols)\n",
    "\n",
    "    # Alp-Höhe x100m\n",
    "    data_cols = line[117:119].strip()\n",
    "    record[\"alpAltitude\"] = float_and_none(data_cols)\n",
    "\n",
    "    # Citrat\n",
    "    data_cols = line[119:122].strip()\n",
    "    record[\"citrate\"] = float_and_none(data_cols)\n",
    "\n",
    "    # Melkmethode\n",
    "    data_cols = line[123:124].strip()\n",
    "    record[\"milkingMethod\"] = float_and_none(data_cols)\n",
    "\n",
    "    # Prüfmethode\n",
    "    data_cols = line[123:124].strip()\n",
    "    record[\"sampleMethod\"] =  str_and_none(data_cols)\n",
    "\n",
    "    # Aceton mg/l\n",
    "    data_cols = line[126:129].strip()\n",
    "    record[\"aceton\"] =  float_and_none(data_cols)\n",
    "\n",
    "    # Milch kg morgen gewogen\n",
    "    data_cols = line[129:133].strip()\n",
    "    record[\"milkMorning\"] = float_and_none(data_cols)\n",
    "\n",
    "    # Milch kg abend gewogen\n",
    "    data_cols = line[133:137].strip()\n",
    "    record[\"milkEvening\"] = float_and_none(data_cols)\n",
    "\n",
    "    # Fett % gemessen\n",
    "    data_cols = line[137:141].strip()\n",
    "    record[\"fatMeasured\"] = float_and_none(data_cols)\n",
    "\n",
    "    # Protein % gemessen\n",
    "    data_cols = line[141:145].strip()\n",
    "    record[\"proteinMeasured\"] = float_and_none(data_cols)\n",
    "\n",
    "    # Code Wägung\n",
    "    data_cols = line[145:147].strip()\n",
    "    record[\"weighingCode\"] = str_and_none(data_cols)\n",
    "\n",
    "    # Code Labor\n",
    "    data_cols = line[147:149].strip()\n",
    "    record[\"labCode\"] = str_and_none(data_cols)\n",
    "\n",
    "    # Melkzeit morgen\n",
    "    data_cols = line[149:154].strip()\n",
    "    parsed_time =  datetime.strptime(data_cols, \"%H:%M\").time() if data_cols else None\n",
    "    record[\"milkingTimeMorning\"] = parsed_time\n",
    "\n",
    "    # Melkzeit abend\n",
    "    data_cols = line[154:159].strip()\n",
    "    parsed_time =  datetime.strptime(data_cols, \"%H:%M\").time() if data_cols else None\n",
    "    record[\"milkingTimeEvening\"] = parsed_time\n",
    "\n",
    "    # Anmeldung MBK (Melkbarkeitsprüfung)\n",
    "    data_cols = line[159:161].strip()\n",
    "    record[\"registrationMbk\"] = str_and_none(data_cols)\n",
    "    \n",
    "\n",
    "    # Anmeldung LBE (Lineare Beschreibung und Einstufung)\n",
    "    data_cols = line[161:163].strip()\n",
    "    record[\"registrationLbe\"] = str_and_none(data_cols)\n",
    "\n",
    "    # Kasein %\n",
    "    data_cols = line[163:167].strip()\n",
    "    record[\"caseinMeasured\"] = float_and_none(data_cols)\n",
    "\n",
    "    # 38 - Laufnummer in Herde\n",
    "    data_cols = line[167:171].strip()\n",
    "    record[\"herdIdentification\"] =  str_and_none(data_cols)\n",
    "\n",
    "    # Wägetyp\n",
    "    data_cols =  line[171:172].strip()\n",
    "    record[\"weighingType\"] = str_and_none(data_cols)\n",
    "    \n",
    "    return record    "
   ]
  },
  {
   "cell_type": "code",
   "execution_count": null,
   "id": "2845c343-a7c6-46fd-873d-f91a63a74ea1",
   "metadata": {},
   "outputs": [],
   "source": [
    "from typing import Iterable\n",
    "\n",
    "def read_parallel(file_list: Iterable[Path]):\n",
    "    qdr = QualitasDataReader()\n",
    "    dfs = Parallel(n_jobs=-1, verbose=10)(delayed(qdr.read_into_df)(f, f.name) for f in file_list)\n",
    "    df = pd.concat(dfs)\n",
    "\n",
    "    return df"
   ]
  },
  {
   "cell_type": "markdown",
   "id": "1a9c8739-51a3-4fad-8282-accf653c5922",
   "metadata": {},
   "source": [
    "## Farm Data (B01)"
   ]
  },
  {
   "cell_type": "markdown",
   "id": "a5aefcd9-f428-431a-b1d7-5a4ace09cc90",
   "metadata": {},
   "source": [
    "Holstein Switzerland Data"
   ]
  },
  {
   "cell_type": "code",
   "execution_count": null,
   "id": "e200ac06-d823-499a-b78c-8ab668c30945",
   "metadata": {},
   "outputs": [],
   "source": [
    "df_b01_hs = read_parallel(holstein_dir.glob(\"*.B01\"))"
   ]
  },
  {
   "cell_type": "markdown",
   "id": "2d206843-6155-4d4c-a2c0-9a91b6b14c60",
   "metadata": {},
   "source": [
    "Swissherdbook Data"
   ]
  },
  {
   "cell_type": "code",
   "execution_count": null,
   "id": "ddf8b694-a4f0-46e7-b8af-fe40ca32aecb",
   "metadata": {},
   "outputs": [],
   "source": [
    "df_b01_shb = read_parallel(shb_bs.glob(\"*.B01\"))"
   ]
  },
  {
   "cell_type": "markdown",
   "id": "787e14e2-03e7-4138-955d-74938c8b9dd9",
   "metadata": {},
   "source": [
    "Merge"
   ]
  },
  {
   "cell_type": "code",
   "execution_count": null,
   "id": "45aa875f-b8e9-4e47-b4b0-a6fec2a1c790",
   "metadata": {},
   "outputs": [],
   "source": [
    "df_b01 = pd.concat([df_b01_hs, df_b01_shb])"
   ]
  },
  {
   "cell_type": "markdown",
   "id": "bb864b51-a923-4191-995f-c5ae6ae8bfc8",
   "metadata": {},
   "source": [
    "Save"
   ]
  },
  {
   "cell_type": "code",
   "execution_count": null,
   "id": "0d63785b-5e16-42de-9c6f-d3b37069b528",
   "metadata": {},
   "outputs": [],
   "source": [
    "df_b01.to_parquet(workspace2 / Path(\"data/preprocessed/dairy\") / Path(\"b01.parquet\"))"
   ]
  },
  {
   "cell_type": "markdown",
   "id": "c62002a1-3182-4193-9e3e-300b1a1d3c4d",
   "metadata": {},
   "source": [
    "## Insemination Data (K10)"
   ]
  },
  {
   "cell_type": "code",
   "execution_count": null,
   "id": "d392ddff-24eb-48c5-9fed-c53f8eeecf86",
   "metadata": {},
   "outputs": [],
   "source": [
    "df_k10_shb = read_parallel(shb_bs.glob(\"*.K10\"))"
   ]
  },
  {
   "cell_type": "code",
   "execution_count": null,
   "id": "8736af6f-3caf-4d04-be67-daa7a1264bc7",
   "metadata": {},
   "outputs": [],
   "source": [
    "df_k10_hs = read_parallel(holstein_dir.glob(\"*.K10\"))"
   ]
  },
  {
   "cell_type": "code",
   "execution_count": null,
   "id": "7705ad8f-4f76-4728-a14c-32670eebe48c",
   "metadata": {},
   "outputs": [],
   "source": [
    "df_k10 = pd.concat([df_k10_shb, df_k10_hs])"
   ]
  },
  {
   "cell_type": "code",
   "execution_count": null,
   "id": "02d2cc54-60eb-4ac0-8d99-a9961a7bf0aa",
   "metadata": {},
   "outputs": [],
   "source": [
    "df_k10.to_parquet(workspace2 / Path(\"data/preprocessed/dairy\") / Path(\"k10.parquet\"))"
   ]
  },
  {
   "cell_type": "markdown",
   "id": "cd13fafb-3580-4380-95fe-2ba6c238d6c3",
   "metadata": {},
   "source": [
    "## Calving Data"
   ]
  },
  {
   "cell_type": "code",
   "execution_count": null,
   "id": "3fb7c484-dc98-4992-8dd3-0b192888bcda",
   "metadata": {},
   "outputs": [],
   "source": [
    "df_k11_shb = read_parallel(shb_bs.glob(\"*.K11\"))"
   ]
  },
  {
   "cell_type": "code",
   "execution_count": null,
   "id": "89b0b5cd-568e-432f-8aea-c8bdb90fe56e",
   "metadata": {},
   "outputs": [],
   "source": [
    "df_k11_hs = read_parallel(holstein_dir.glob(\"*.K11\"))"
   ]
  },
  {
   "cell_type": "code",
   "execution_count": null,
   "id": "de1bc1e8-fac8-4d2b-8e38-aead6982937c",
   "metadata": {},
   "outputs": [],
   "source": [
    "df_k11_shb.columns"
   ]
  },
  {
   "cell_type": "code",
   "execution_count": null,
   "id": "910cb14e-1321-49d7-91e3-d8bf99ce6516",
   "metadata": {},
   "outputs": [],
   "source": [
    "df_k11 = pd.concat([df_k11_shb, df_k11_hs])"
   ]
  },
  {
   "cell_type": "code",
   "execution_count": null,
   "id": "4e9cbe42-8698-42de-8048-788a1a16c712",
   "metadata": {},
   "outputs": [],
   "source": [
    "df_k11[\"calvingDate\"] = pd.to_datetime(df_k11.calvingDate, errors='coerce')\n",
    "df_k11[\"dateOfBirthMother\"] = pd.to_datetime(df_k11.dateOfBirthMother, errors='coerce')"
   ]
  },
  {
   "cell_type": "code",
   "execution_count": null,
   "id": "0b9e37cb-ff94-48e1-8a63-423324251b5c",
   "metadata": {},
   "outputs": [],
   "source": [
    "df_k11.to_parquet(workspace2 / Path(\"data/preprocessed/dairy\") / Path(\"k11.parquet\"))"
   ]
  },
  {
   "cell_type": "markdown",
   "id": "1394a37a-8caa-43e5-9b3b-87506041cb58",
   "metadata": {},
   "source": [
    "## Milk Data"
   ]
  },
  {
   "cell_type": "code",
   "execution_count": null,
   "id": "2e2b662c-3fef-46bd-b42a-0989a0d9bf6a",
   "metadata": {},
   "outputs": [],
   "source": [
    "df_shb_bs_k33 = read_parallel(shb_bs.glob(\"*.K33\"))"
   ]
  },
  {
   "cell_type": "markdown",
   "id": "f7b2ddbb-fc49-4cac-a094-0fc4708ca092",
   "metadata": {},
   "source": [
    "The records from Holstein Switzerland are provided as K03 data points. K03 sample = most recent milk samples, K33 = all milk samples -> Holstein Switzerland provides them as a merge from K03. Hence, nothing to worry. Double checked with Mr Neuenschwander."
   ]
  },
  {
   "cell_type": "code",
   "execution_count": null,
   "id": "56ebae51-a04d-4750-98c1-c4a66c964948",
   "metadata": {},
   "outputs": [],
   "source": [
    "df_hs_k33 = read_parallel(holstein_dir.glob(\"*.K03\"))"
   ]
  },
  {
   "cell_type": "code",
   "execution_count": null,
   "id": "c61b1fbb-fe5f-47b1-94de-8a72d39abe38",
   "metadata": {},
   "outputs": [],
   "source": [
    "df_k33 = pd.concat([df_shb_bs_k33, df_hs_k33], axis=0)"
   ]
  },
  {
   "cell_type": "code",
   "execution_count": null,
   "id": "fb912393-c7cc-406e-bbba-4888687ce6e4",
   "metadata": {},
   "outputs": [],
   "source": [
    "df_k33[\"sampleWeighingDate\"] = pd.to_datetime(df_k33.sampleWeighingDate, errors='coerce')\n",
    "df_k33[\"calvingDate\"] = pd.to_datetime(df_k33.calvingDate, errors='coerce')"
   ]
  },
  {
   "cell_type": "code",
   "execution_count": null,
   "id": "85f20698-05d3-4f8e-bb08-402e65cb965c",
   "metadata": {},
   "outputs": [],
   "source": [
    "df_k33.loc[:,\"year\"] = df_k33.sampleWeighingDate.dt.year"
   ]
  },
  {
   "cell_type": "code",
   "execution_count": null,
   "id": "02030d70-3721-4aee-ab64-5d0c522a54ad",
   "metadata": {},
   "outputs": [],
   "source": [
    "df_k33.to_parquet(\"k33.parquet\", partition_cols=[\"year\", \"animalBreedCode\"])"
   ]
  },
  {
   "cell_type": "code",
   "execution_count": null,
   "id": "624267e5-a12d-4985-82ba-e543fb371ecd",
   "metadata": {},
   "outputs": [],
   "source": [
    "df_k33.animalBreedCode.unique()"
   ]
  },
  {
   "cell_type": "markdown",
   "id": "30a8db9b-7a2d-45d2-923b-2795551db58a",
   "metadata": {},
   "source": [
    "je = JE (Jersey)\n",
    "\n",
    "ob = OB (Original Braunvieh)\n",
    "\n",
    "rob\n",
    "\n",
    "bs = BS (Brown Swiss)\n",
    "\n",
    "bv =\n",
    "\n",
    "ho = HO, RH, RF (Holstein)\n",
    "\n",
    "sf = SF (Swiss Fleckvieh)\n",
    "\n",
    "si = SI, 60, 70 (Simmental)\n",
    "\n",
    "mo = ? (Montbéillard)"
   ]
  },
  {
   "cell_type": "code",
   "execution_count": null,
   "id": "b8750fc3-9ac1-4c4b-9101-7f884e81c591",
   "metadata": {},
   "outputs": [],
   "source": [
    "df_k33.animalBreedCode.value_counts()"
   ]
  },
  {
   "cell_type": "code",
   "execution_count": null,
   "id": "59057de5-5a64-4098-9e74-19f55c489296",
   "metadata": {},
   "outputs": [],
   "source": [
    "df_k33[df_k33[\"animalBreedCode\"] == \"60\"]"
   ]
  },
  {
   "cell_type": "code",
   "execution_count": null,
   "id": "28b41d20-7954-469b-a955-965282a0f8cd",
   "metadata": {},
   "outputs": [],
   "source": [
    "df_k33[df_k33[\"animalBreedCode\"] == \"70\"]"
   ]
  },
  {
   "cell_type": "markdown",
   "id": "b4ab979d-2620-46c9-ae30-6d1667f11d80",
   "metadata": {},
   "source": [
    "# Farms"
   ]
  },
  {
   "cell_type": "code",
   "execution_count": null,
   "id": "dd02a7f5-9c7d-4c62-a153-97f61b0667f3",
   "metadata": {},
   "outputs": [],
   "source": [
    "df_k33.farmId.nunique()"
   ]
  },
  {
   "cell_type": "code",
   "execution_count": null,
   "id": "0b589c51-7d5c-464b-8dd4-348d26c2962f",
   "metadata": {},
   "outputs": [],
   "source": [
    "df_k33.farmIdTvd.nunique()"
   ]
  },
  {
   "cell_type": "code",
   "execution_count": null,
   "id": "cbc975be-a81c-42c0-8c66-1f0443ecb8ff",
   "metadata": {},
   "outputs": [],
   "source": [
    "df_k33.farmIdLocation.nunique()"
   ]
  },
  {
   "cell_type": "markdown",
   "id": "a0ec1b1f-91bf-4c94-81e5-9a43c9748ebc",
   "metadata": {},
   "source": [
    "# Animals"
   ]
  },
  {
   "cell_type": "code",
   "execution_count": null,
   "id": "0f0fad45-07ad-4007-a7b2-a3baab5117fc",
   "metadata": {},
   "outputs": [],
   "source": [
    "df_k33.calvingDate.min()"
   ]
  },
  {
   "cell_type": "code",
   "execution_count": null,
   "id": "2de46bba-e31d-4050-9001-48ca9aca74cd",
   "metadata": {},
   "outputs": [],
   "source": [
    "df_k33.calvingDate.max()"
   ]
  },
  {
   "cell_type": "code",
   "execution_count": null,
   "id": "3e63d7da-7b76-4122-97d2-cabd90512c33",
   "metadata": {},
   "outputs": [],
   "source": [
    "pd.options.plotting.backend = \"matplotlib\""
   ]
  },
  {
   "cell_type": "code",
   "execution_count": null,
   "id": "b80ca6b3-edcb-4639-a731-1551d7ee1673",
   "metadata": {},
   "outputs": [],
   "source": [
    "sample_per_breed_per_day = df_k33[[\"sampleWeighingDate\", \"animalBreedCode\"]].value_counts().reset_index()"
   ]
  },
  {
   "cell_type": "code",
   "execution_count": null,
   "id": "f0dc1cb0-2ca1-415a-a831-0ed55b242146",
   "metadata": {},
   "outputs": [],
   "source": [
    "sample_per_breed_per_day"
   ]
  },
  {
   "cell_type": "code",
   "execution_count": null,
   "id": "ffc2e59d-d66e-46f0-bd62-c7206b5ba76b",
   "metadata": {},
   "outputs": [],
   "source": [
    "df_b01 = "
   ]
  },
  {
   "cell_type": "code",
   "execution_count": null,
   "id": "b0f1ebfb-36be-4e22-a3e8-2bcd72fae55b",
   "metadata": {},
   "outputs": [],
   "source": [
    "sample_meta = [\"sampleNumber\", \"sampleWeighingDate\", \"comment\", \"milkingMethod\", \"sampleMethod\", \"milkEvening\", \"milkMorning\", \"weighingCode\", \"labCode\", \"milkingTimeMorning\", \"milkingTimeEvening\"]\n",
    "animal_meta = [\"animalId\", \"animalBreedCode\", \"calvingDate\", \"lactationNumber\"]\n",
    "farm_meta = [\"farmId\", \"farmIdTvd\" , \"farmIdLocation\", \"alpAltitude\"]\n",
    "yield_cols = ['milk', 'fat', 'protein', 'lactose', 'samplePersistence', 'somaticCellCount', \"citrate\", \"milkUreaNitrogen\", \"aceton\", \"fatMeasured\", \"proteinMeasured\", \"acetonMmol\", \"acetonIr\", \"bhbConcentration\"]"
   ]
  },
  {
   "cell_type": "code",
   "execution_count": null,
   "id": "ee79d0a1-1290-4f86-8e92-a97625019b40",
   "metadata": {},
   "outputs": [],
   "source": [
    "df_k33[yield_cols]"
   ]
  },
  {
   "cell_type": "code",
   "execution_count": null,
   "id": "0b161144-14f9-4759-9a41-3c8536b1b5bd",
   "metadata": {},
   "outputs": [],
   "source": [
    "df_k33[[, \"milk\"]]"
   ]
  },
  {
   "cell_type": "code",
   "execution_count": null,
   "id": "88fdc3d0-4bd4-4dd7-97a4-e9a1a04ec310",
   "metadata": {},
   "outputs": [],
   "source": [
    "df_k33"
   ]
  },
  {
   "cell_type": "code",
   "execution_count": null,
   "id": "197c050d-78f5-4b61-9e74-d41884f0e35b",
   "metadata": {},
   "outputs": [],
   "source": [
    "df_k33.animalId.nunique()"
   ]
  },
  {
   "cell_type": "code",
   "execution_count": null,
   "id": "80d04814-0b75-47b3-86f9-8377b9971bcb",
   "metadata": {},
   "outputs": [],
   "source": [
    "import pandas as pd\n",
    "df = pd.read_parquet(\"k33.parquet\")"
   ]
  },
  {
   "cell_type": "code",
   "execution_count": null,
   "id": "0d6fb79b-691d-4330-9bfa-a6b817014fe3",
   "metadata": {},
   "outputs": [],
   "source": [
    "df."
   ]
  },
  {
   "cell_type": "code",
   "execution_count": null,
   "id": "a350ffd0-f93e-46c3-9d47-4975c92cb3a5",
   "metadata": {},
   "outputs": [],
   "source": [
    "milk = df"
   ]
  },
  {
   "cell_type": "code",
   "execution_count": null,
   "id": "f86e7793-dda6-447e-875f-1fc09a304e35",
   "metadata": {},
   "outputs": [],
   "source": [
    "df.animalId.nunique()"
   ]
  },
  {
   "cell_type": "code",
   "execution_count": null,
   "id": "77d0bdc8-d1b0-47fb-84e7-b4d296947227",
   "metadata": {},
   "outputs": [],
   "source": [
    "(milk.groupby(\"farmId\").sampleWeighingDate.max()- milk.groupby(\"farmId\").sampleWeighingDate.min()).dt.years.hist()"
   ]
  },
  {
   "cell_type": "code",
   "execution_count": null,
   "id": "4457a3f0-f135-4124-8add-0be3342ae4c0",
   "metadata": {},
   "outputs": [],
   "source": [
    "(milk.groupby(\"animalId\").sampleWeighingDate.max()- milk.groupby(\"animalId\").sampleWeighingDate.min()).dt.days.hist()"
   ]
  },
  {
   "cell_type": "code",
   "execution_count": null,
   "id": "aa26f245-5267-45c5-9c99-985d11ae89bb",
   "metadata": {},
   "outputs": [],
   "source": []
  },
  {
   "cell_type": "code",
   "execution_count": null,
   "id": "37b43463-1917-475b-9a71-0fdf42332a3b",
   "metadata": {},
   "outputs": [],
   "source": [
    "milk.loc[milk.animalBreedCode == \"70\", \"animalBreedCode\"] = \"SI\"\n",
    "milk.loc[milk.animalBreedCode == \"60\", \"animalBreedCode\"] = \"SI\"\n",
    "milk.loc[milk.animalBreedCode == \"RH\", \"animalBreedCode\"] = \"HO\"\n",
    "milk.loc[milk.animalBreedCode == \"RF\", \"animalBreedCode\"] = \"HO\""
   ]
  },
  {
   "cell_type": "code",
   "execution_count": null,
   "id": "2d8f8ade-3533-4b76-9f8b-93b06bc80b0d",
   "metadata": {},
   "outputs": [],
   "source": [
    "import numpy as np"
   ]
  },
  {
   "cell_type": "code",
   "execution_count": null,
   "id": "7688cebe-9262-426b-b89e-59fd0a9538ab",
   "metadata": {},
   "outputs": [],
   "source": [
    "milk[milk.sampleWeighingDate.dt.year == 2023].groupby(\"animalBreedCode\").somaticCellCount.apply(np.log10).reset_index().groupby(\"animalBreedCode\").mean()"
   ]
  },
  {
   "cell_type": "code",
   "execution_count": null,
   "id": "f889916e-8501-4ac7-82d1-fe20607752f3",
   "metadata": {},
   "outputs": [],
   "source": [
    "milk[milk.sampleWeighingDate.dt.year == 2023].groupby(\"animalBreedCode\").somaticCellCount.apply(np.log10).reset_index().groupby(\"animalBreedCode\").std()"
   ]
  },
  {
   "cell_type": "code",
   "execution_count": null,
   "id": "4686f4d2-d544-4d26-8f76-64ca1313234b",
   "metadata": {},
   "outputs": [],
   "source": [
    "df[df.sampleWeighingDate.dt.year == 2023].groupby(\"animalBreedCode\").fat.std()"
   ]
  },
  {
   "cell_type": "code",
   "execution_count": null,
   "id": "50dde836-208f-4046-92eb-d28539a9ec03",
   "metadata": {},
   "outputs": [],
   "source": [
    "df[df.sampleWeighingDate.dt.year == 2023].groupby(\"animalBreedCode\").milk.max()"
   ]
  },
  {
   "cell_type": "code",
   "execution_count": null,
   "id": "7fed16f9-f0c3-45a4-b1e9-5db2948fb05d",
   "metadata": {},
   "outputs": [],
   "source": [
    "df[df.sampleWeighingDate.dt.year == 2023].groupby(\"animalBreedCode\").milk.std()"
   ]
  },
  {
   "cell_type": "code",
   "execution_count": null,
   "id": "79a2f933-1097-430c-9175-26b7716e0d5c",
   "metadata": {},
   "outputs": [],
   "source": [
    "df.m"
   ]
  },
  {
   "cell_type": "code",
   "execution_count": null,
   "id": "a104d1bc-a318-40d2-a98e-6dbfcd43fd21",
   "metadata": {},
   "outputs": [],
   "source": []
  },
  {
   "cell_type": "code",
   "execution_count": null,
   "id": "2410cfdf-5747-42cf-868b-c3c4a2ac68dc",
   "metadata": {},
   "outputs": [],
   "source": [
    "import numpy as np"
   ]
  }
 ],
 "metadata": {
  "kernelspec": {
   "display_name": "Python 3 (ipykernel)",
   "language": "python",
   "name": "python3"
  },
  "language_info": {
   "codemirror_mode": {
    "name": "ipython",
    "version": 3
   },
   "file_extension": ".py",
   "mimetype": "text/x-python",
   "name": "python",
   "nbconvert_exporter": "python",
   "pygments_lexer": "ipython3",
   "version": "3.12.3"
  }
 },
 "nbformat": 4,
 "nbformat_minor": 5
}
