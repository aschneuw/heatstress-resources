{
 "cells": [
  {
   "cell_type": "markdown",
   "id": "fe2b61e7-afb4-4cc9-9726-019626cfb595",
   "metadata": {},
   "source": [
    "# Farm Data Cleanup and match with locality geospatial information"
   ]
  },
  {
   "cell_type": "code",
   "execution_count": null,
   "id": "50258c37-e35e-45e8-be6b-590f2d1e0ee1",
   "metadata": {},
   "outputs": [],
   "source": [
    "import pandas as pd\n",
    "from pathlib import Path\n",
    "import plotly.express as px\n",
    "import numpy as np\n",
    "import json\n",
    "import geopandas as gp\n",
    "gp.options.io_engine = \"pyogrio\""
   ]
  },
  {
   "cell_type": "markdown",
   "id": "a86ee942-a6c1-40fc-8703-53bc42856a74",
   "metadata": {},
   "source": [
    "Preprocessing and augmentation of farm data with geospatial information"
   ]
  },
  {
   "cell_type": "code",
   "execution_count": null,
   "id": "bb419aad-a2dd-4529-92c8-eb7ff8af30b3",
   "metadata": {},
   "outputs": [],
   "source": [
    "ws = Path(\"/home/aschneuwl/workspace/\")\n",
    "ws2 = Path(\"/mnt/wks3/aschneuwl/workspace\")"
   ]
  },
  {
   "cell_type": "markdown",
   "id": "0504777f-c463-4557-ae73-72efc4402ef8",
   "metadata": {},
   "source": [
    "# Farm Data"
   ]
  },
  {
   "cell_type": "code",
   "execution_count": null,
   "id": "7c222089-b039-489b-b25c-1eb0dc613f22",
   "metadata": {},
   "outputs": [],
   "source": [
    "farms = pd.read_parquet(ws2 / Path(\"data/preprocessed/dairy\") / Path(\"b01.parquet\"))"
   ]
  },
  {
   "cell_type": "code",
   "execution_count": null,
   "id": "937588c9-2900-494f-9cdd-ca011c01708c",
   "metadata": {},
   "outputs": [],
   "source": [
    "farms[\"zip\"]"
   ]
  },
  {
   "cell_type": "code",
   "execution_count": null,
   "id": "09de2a10-3f65-4eee-b54d-316245c97dc0",
   "metadata": {},
   "outputs": [],
   "source": [
    "farms = farms.drop_duplicates(subset =\"farmId\")\n",
    "farms.loc[farms.country == \"CHE\", \"country\"] = \"CH\""
   ]
  },
  {
   "cell_type": "markdown",
   "id": "b87893d1-44fa-4d4a-9112-a83df33914c9",
   "metadata": {},
   "source": [
    "# Geospatial Data"
   ]
  },
  {
   "cell_type": "code",
   "execution_count": null,
   "id": "d9b8c825-b6e3-4901-b228-4c4237abfe0a",
   "metadata": {},
   "outputs": [],
   "source": [
    "geodata_fpath = Path(\"/home/aschneuwl/workspace/data/geo/historisierte-administrative_grenzen_g0_1850-2015_gemeinde_2056.json\")"
   ]
  },
  {
   "cell_type": "code",
   "execution_count": null,
   "id": "8df93147-2b04-4aec-a2fb-84c44d2fb896",
   "metadata": {},
   "outputs": [],
   "source": [
    "with open(geodata_fpath) as fp:\n",
    "    geojson_data = json.load(fp)"
   ]
  },
  {
   "cell_type": "code",
   "execution_count": null,
   "id": "acb1bd90-b10b-4f0f-ae7b-cea8556b4dcb",
   "metadata": {},
   "outputs": [],
   "source": [
    "geodata_2024_fpath = Path(\"/home/aschneuwl/workspace/agecon-thesis/notebooks/swissBOUNDARIES3D_1_5_TLM_HOHEITSGEBIET.shp\")\n",
    "geojson_data_2024 = gp.read_file(geodata_2024_fpath)"
   ]
  },
  {
   "cell_type": "code",
   "execution_count": null,
   "id": "41f762fb-c3cf-4e9f-b01a-b226be38427c",
   "metadata": {},
   "outputs": [],
   "source": [
    "localities_zip = gp.read_parquet(ws2 / Path(\"data/preprocessed/geo\") / Path(\"swiss_localities_with_altitudes.parquet\"))"
   ]
  },
  {
   "cell_type": "code",
   "execution_count": null,
   "id": "3affff64-4cda-4455-8eb1-afb129ee9d0e",
   "metadata": {},
   "outputs": [],
   "source": [
    "zip_to_largst_bfs_fpath = Path(\"/home/aschneuwl/workspace/agecon-thesis/notebooks/zip_largest_bfs_2024.json\")\n",
    "\n",
    "with open(zip_to_largst_bfs_fpath) as fp:\n",
    "    zip_to_largst_bfs = json.load(fp)"
   ]
  },
  {
   "cell_type": "markdown",
   "id": "3152a190-c309-4ac5-9ed1-675f18489137",
   "metadata": {},
   "source": [
    "# City Directory (Municipality Identification Codes) - Deprecated\n",
    "BFS Nr -> Municipality Number assigned by the BFS (Bundesamt für Statistik)"
   ]
  },
  {
   "cell_type": "code",
   "execution_count": null,
   "id": "cefdd1ef-b9c9-4fb6-b860-2d8497ad28e6",
   "metadata": {},
   "outputs": [],
   "source": [
    "city_directory = pd.read_csv(\"/home/aschneuwl/workspace/data/geo/AMTOVZ_CSV_LV95/AMTOVZ_CSV_LV95.csv\", sep=\";\",\n",
    "                             names=[\"city\", \"plz\", \"addDigit\", \"municipality\", \"bfs\", \"kt\", \"e\", \"n\", \"lang\", \"val\"])\n",
    "city_directory[\"plz_str\"] = city_directory.plz.apply(lambda x: str(x))"
   ]
  },
  {
   "cell_type": "code",
   "execution_count": null,
   "id": "16ed5488-f3e4-4f6e-9f21-c4c1ba40e2ef",
   "metadata": {},
   "outputs": [],
   "source": [
    "### https://www.bfs.admin.ch/bfsstatic/dam/assets/343051/master\n",
    "\n",
    "manual_mappings_zip_bfs = {\n",
    "    # Montagny-Chamard\n",
    "    \"1440\": \"5922\",\n",
    "    # Chavannes-sous-Orsonnens\n",
    "    \"1693\": \"2114\",\n",
    "    # Bouloz\n",
    "    \"1698\": \"2324\",\n",
    "    # Sion\n",
    "    \"1951\": \"6266\",\n",
    "    # Bienne\n",
    "    \"2500\": \"371\",\n",
    "    # Le Prédame\n",
    "    \"2711\" : \"6748\",\n",
    "    # Montfaucon\n",
    "    \"2875\": \"6751\",\n",
    "    # Niesen Kulm\n",
    "    \"3712\": \"567\",\n",
    "    # Waldegg BE\n",
    "    \"3802\": \"571\",\n",
    "    # Montana-Vermala\n",
    "    \"3962\": \"6243\",\n",
    "    # Solothurn\n",
    "    \"4502\": \"2601\",\n",
    "    # Brugg AG \n",
    "    \"5201\": \"4095\",\n",
    "    # Linn (heute Bötzberg) \n",
    "    \"5224\": \"4103\",\n",
    "    # Oberehrendingen\n",
    "    \"5422\" : \"4049\",\n",
    "    # Unterehrendingen\n",
    "    \"5424\": \"4049\",\n",
    "    # Luzern\n",
    "    \"6000\" : \"1061\",\n",
    "    # Engelberg\n",
    "    \"6391\" : \"6391\",\n",
    "    # Schwyz\n",
    "    \"6431\": \"1372\",\n",
    "    # Campsut-Crüt \n",
    "    \"7446\": \"3681\",\n",
    "    # Zürich\n",
    "    \"8000\": \"261\",\n",
    "    # ETHZ\n",
    "    \"8092\": \"261\",\n",
    "    # Kindhausen AG\n",
    "    \"8963\": \"4023\",\n",
    "    # Rindal\n",
    "    \"9234\": \"3393\",\n",
    "    # Kronbühl\n",
    "    \"9302\": \"3204\", \n",
    "    # Chur\n",
    "    \"7005\": \"3901\",\n",
    "    \"7007\": \"3901\",\n",
    "    # Landquart Fabriken\n",
    "    \"7207\": \"3942\",\n",
    "    # Fruthwilen\n",
    "    \"8559\" : \"4851\",\n",
    "    # Wil SG\n",
    "    \"9501\" : \"3427\",\n",
    "}"
   ]
  },
  {
   "cell_type": "code",
   "execution_count": null,
   "id": "d96ddd56-4044-4b0b-92d2-325c18720848",
   "metadata": {},
   "outputs": [],
   "source": [
    "def map_plz_to_bfs(plz: str):\n",
    "    res = city_directory[city_directory[\"plz_str\"] == plz]\n",
    "\n",
    "    bfs = None\n",
    "    if res.shape[0] != 0:\n",
    "        bfs = res.bfs.values[0]\n",
    "    elif plz in manual_mappings_zip_bfs.keys():\n",
    "        bfs = manual_mappings_zip_bfs[plz]\n",
    "        \n",
    "    return bfs\n",
    "        "
   ]
  },
  {
   "cell_type": "code",
   "execution_count": null,
   "id": "7af95ae7-f52e-49f0-8de3-ce09805be114",
   "metadata": {},
   "outputs": [],
   "source": [
    "def map_plz_to_bfs(plz: str):\n",
    "    bfs = None\n",
    "    \n",
    "    if plz in zip_to_largst_bfs.keys():\n",
    "        bfs = zip_to_largst_bfs[plz]\n",
    "\n",
    "    elif plz in manual_mappings_zip_bfs.keys():\n",
    "        bfs = manual_mappings_zip_bfs[plz]\n",
    "    \n",
    "    return bfs"
   ]
  },
  {
   "cell_type": "markdown",
   "id": "09a0a6b7-4683-4cc5-b258-13d961bbbbe1",
   "metadata": {},
   "source": [
    "## Countries"
   ]
  },
  {
   "cell_type": "markdown",
   "id": "1d7d9de7-bf52-49e6-ba05-454ca172158d",
   "metadata": {},
   "source": [
    "### Number of countries"
   ]
  },
  {
   "cell_type": "code",
   "execution_count": null,
   "id": "97db7c0d-d3cb-4563-9e23-9ac0b9cd0b68",
   "metadata": {},
   "outputs": [],
   "source": [
    "farms.country.nunique()"
   ]
  },
  {
   "cell_type": "markdown",
   "id": "36d5f151-4c9c-491e-8414-cfcf449dfdd4",
   "metadata": {},
   "source": [
    "### Number of farms not in Switzerland"
   ]
  },
  {
   "cell_type": "code",
   "execution_count": null,
   "id": "bc69b47c-116b-44bb-a881-8501c471fbfb",
   "metadata": {},
   "outputs": [],
   "source": [
    "(farms.country != \"CH\").sum()"
   ]
  },
  {
   "cell_type": "markdown",
   "id": "32bbb3a5-d172-4ea0-b92b-a1c0833d7bcb",
   "metadata": {},
   "source": [
    "### Country Distribution"
   ]
  },
  {
   "cell_type": "code",
   "execution_count": null,
   "id": "522445e6-0d8a-4419-914a-1ea277477892",
   "metadata": {},
   "outputs": [],
   "source": [
    "farms.country.value_counts()"
   ]
  },
  {
   "cell_type": "code",
   "execution_count": null,
   "id": "5449ee0c-110d-470c-8a4e-4e1efc85760a",
   "metadata": {},
   "outputs": [],
   "source": [
    "farms_ch.columns"
   ]
  },
  {
   "cell_type": "markdown",
   "id": "d7993527-c629-4e78-bb63-cd9e480c7489",
   "metadata": {},
   "source": [
    "# Swiss Farms Data Cleaning"
   ]
  },
  {
   "cell_type": "code",
   "execution_count": null,
   "id": "c526f06c-584f-4d2b-b1a1-d97a66af5a00",
   "metadata": {},
   "outputs": [],
   "source": [
    "farms_ch = farms[(farms.country == \"CH\") & (farms.zip != \"\")]\n",
    "farms_ch = farms_ch[~(farms_ch[\"zip\"] == \"0\")]"
   ]
  },
  {
   "cell_type": "code",
   "execution_count": null,
   "id": "51bb4a75-ac75-4727-870b-bb77c4623ee0",
   "metadata": {},
   "outputs": [],
   "source": [
    "missing_zip_codes = set(farms_ch.zip.unique()).difference(set(localities_zip.ZIP4.unique()))"
   ]
  },
  {
   "cell_type": "code",
   "execution_count": null,
   "id": "38931ab6-6f47-479a-b40d-0f1234885bc0",
   "metadata": {},
   "outputs": [],
   "source": [
    "for z in sorted(missing_zip_codes):\n",
    "    print(z, farms_ch[farms_ch[\"zip\"] == z].city.values)"
   ]
  },
  {
   "cell_type": "code",
   "execution_count": null,
   "id": "fb11f316-136f-4c9f-8e32-905cc824a02f",
   "metadata": {},
   "outputs": [],
   "source": [
    "localities_zip.ZIP_ID.nunique()"
   ]
  },
  {
   "cell_type": "code",
   "execution_count": null,
   "id": "412bccd1-c8e6-48f9-8109-c7cc3eaeec84",
   "metadata": {},
   "outputs": [],
   "source": [
    "localities_zip.shape"
   ]
  },
  {
   "cell_type": "code",
   "execution_count": null,
   "id": "839ee4d1-d817-4f6a-afb9-0eabf26f5e37",
   "metadata": {},
   "outputs": [],
   "source": [
    "manual_mappings_zip_to_current_zip = {\n",
    "    # Montagny-Chamard\n",
    "    \"1440\": \"1442\",\n",
    "    # Treytorrens\n",
    "    \"1488\": \"1538\",\n",
    "    # Chavannes-sous-Orsonnens\n",
    "    \"1693\": \"1694\",\n",
    "    # Bouloz\n",
    "    \"1698\": \"1699\",\n",
    "    # Sion\n",
    "    \"1951\": \"1950\",\n",
    "    #Le Col-des-Roches\n",
    "    \"2412\": \"2400\",\n",
    "    # Bienne\n",
    "    \"2500\": \"2504\",\n",
    "    # Brüttelen\n",
    "    \"2578\": \"3237\",\n",
    "    # Le Prédame\n",
    "    \"2711\" : \"2714\",\n",
    "    # Montfaucon\n",
    "    \"2875\": \"2362\",\n",
    "    # Niesen Kulm\n",
    "    \"3712\": \"3713\",\n",
    "    # Waldegg BE\n",
    "    \"3802\": \"3800\",\n",
    "    # Montana-Vermala\n",
    "    \"3962\": \"3963\",\n",
    "    # Solothurn\n",
    "    \"4502\": \"4500\",\n",
    "    # Brugg AG \n",
    "    \"5201\": \"5200\",\n",
    "    # Linn (heute Bötzberg) \n",
    "    \"5224\": \"5225\",\n",
    "    # Oberehrendingen\n",
    "    \"5422\" : \"5420\",\n",
    "    # Unterehrendingen\n",
    "    \"5424\": \"5420\",\n",
    "    # Luzern\n",
    "    \"6000\" : \"6003\",\n",
    "    # Engelberg\n",
    "    \"6391\" : \"6390\",\n",
    "    # Schwyz\n",
    "    \"6431\": \"6430\",\n",
    "    # Chur\n",
    "    \"7005\": \"7000\",\n",
    "    \"7007\": \"7000\",\n",
    "    # Landquart Fabriken\n",
    "    \"7207\": \"7206\",\n",
    "    # Campsut-Crüt \n",
    "    \"7446\": \"7447\",\n",
    "    # Zürich\n",
    "    \"8000\": \"8005\",\n",
    "    # ETHZ\n",
    "    \"8092\": \"8005\",\n",
    "    # Kindhausen AG\n",
    "    \"8963\": \"8962\",\n",
    "    # Rindal\n",
    "    \"9234\": \"9604\",\n",
    "    # Kronbühl\n",
    "    \"9302\": \"9300\"\n",
    "    # Fruthwilen\n",
    "    \"8559\" : \"8269\",\n",
    "    # Wil SG\n",
    "    \"9501\" : \"9500\",\n",
    "}"
   ]
  },
  {
   "cell_type": "code",
   "execution_count": null,
   "id": "7d88d282-ab7d-4689-987f-9da7222306ce",
   "metadata": {},
   "outputs": [],
   "source": [
    "def replace_zip_code(zip_code: str) -> str:\n",
    "    if zip_code in manual_mappings_zip_to_current_zip.keys():\n",
    "        return manual_mappings_zip_to_current_zip[zip_code]\n",
    "    else:\n",
    "        return zip_code"
   ]
  }
 ],
 "metadata": {
  "kernelspec": {
   "display_name": "Python 3 (ipykernel)",
   "language": "python",
   "name": "python3"
  },
  "language_info": {
   "codemirror_mode": {
    "name": "ipython",
    "version": 3
   },
   "file_extension": ".py",
   "mimetype": "text/x-python",
   "name": "python",
   "nbconvert_exporter": "python",
   "pygments_lexer": "ipython3",
   "version": "3.12.3"
  }
 },
 "nbformat": 4,
 "nbformat_minor": 5
}
