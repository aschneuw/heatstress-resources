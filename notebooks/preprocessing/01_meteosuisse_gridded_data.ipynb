{
 "cells": [
  {
   "cell_type": "markdown",
   "id": "345bec15-17bd-4676-8e15-edf8766dc877",
   "metadata": {},
   "source": [
    "# Converts gridded data to parquet format"
   ]
  },
  {
   "cell_type": "code",
   "execution_count": 1,
   "id": "0c87f9f6-56c6-4dd3-912d-cf803e5e4074",
   "metadata": {},
   "outputs": [],
   "source": [
    "import pandas as pd\n",
    "from pathlib import Path\n",
    "import geopandas as gp\n",
    "import re\n",
    "gp.options.io_engine = \"pyogrio\"\n",
    "from shapely.geometry import Point, Polygon\n",
    "from datetime import datetime\n",
    "import plotly.express as px\n",
    "import rasterio\n",
    "from rasterio.features import shapes\n",
    "from shapely.geometry import shape as geoshape\n",
    "from shapely.geometry import Polygon\n",
    "import numpy as np\n",
    "from joblib import Parallel, delayed\n",
    "from scipy.spatial import cKDTree\n",
    "import netCDF4\n",
    "import xarray as xr\n",
    "import pyproj\n",
    "from shapely.ops import transform\n",
    "from typing import List"
   ]
  },
  {
   "cell_type": "code",
   "execution_count": 2,
   "id": "4c495d47-c0be-4c74-8dc4-4b18bc88c9cf",
   "metadata": {},
   "outputs": [],
   "source": [
    "ws_dir = Path(\"/home/aschneuwl/workspace/\")\n",
    "ws2_dir = Path(\"/mnt/wks3/aschneuwl/workspace/data/preprocessed/\")"
   ]
  },
  {
   "cell_type": "code",
   "execution_count": 3,
   "id": "1d148f5e-3969-40f4-8e92-dc3c6f5cf1a7",
   "metadata": {},
   "outputs": [],
   "source": [
    "def gridded_to_df(fpath: Path) -> pd.DataFrame:\n",
    "        # Converts gridded data into pandas DataFrame\n",
    "        df = xr.open_dataset(fpath).to_dataframe().reset_index().dropna()\n",
    "        #df[\"\"] = df.apply(lambda x: Point(x.lon, x.lat), axis=1)\n",
    "        return df\n",
    "\n",
    "def gridded_data_files_to_parquet(dir: str, measure: str, dst_dir: Path) -> pd.DataFrame:\n",
    "    gridded_data_dir = Path(dir)\n",
    "    files = gridded_data_dir.glob(f\"{measure}_*.nc\")\n",
    "    \n",
    "    print(\"Load\")\n",
    "    gridded_dfs = Parallel(n_jobs=-1, verbose=10)(delayed(gridded_to_df)(fpath) for fpath in files)\n",
    "    gridded_df = pd.concat(gridded_dfs)\n",
    "    gridded_df[\"year\"] = gridded_df.time.dt.year\n",
    "    print(\"Store...\")\n",
    "    gridded_df.to_parquet(dst_dir / Path(f\"{measure}.parquet\"), partition_cols=[\"year\"])"
   ]
  },
  {
   "cell_type": "markdown",
   "id": "e0260ea9-a69d-4998-b0bb-9653b1211e09",
   "metadata": {},
   "source": [
    "# Daily Minimum Temperature"
   ]
  },
  {
   "cell_type": "code",
   "execution_count": null,
   "id": "d14fee22-e753-47c3-b41f-7f6bd77d5609",
   "metadata": {},
   "outputs": [],
   "source": [
    "gridded_data_files_to_parquet(\"/home/aschneuwl/workspace/data/meteo/meteosuisse/grid/NEW_CH01_ALL-DATA-v2024/\", \"TminD\", ws2_dir / Path(\"meteo\"))"
   ]
  },
  {
   "cell_type": "markdown",
   "id": "f1718d9e-cd59-40f7-8a36-9e6a001b3641",
   "metadata": {},
   "source": [
    "# Daily Maximum Temperature"
   ]
  },
  {
   "cell_type": "code",
   "execution_count": null,
   "id": "d67d8d79-a0e8-45c8-8567-db071eb241f2",
   "metadata": {},
   "outputs": [],
   "source": [
    "gridded_data_files_to_parquet(\"/home/aschneuwl/workspace/data/meteo/meteosuisse/grid/NEW_CH01_ALL-DATA-v2024/\", \"TmaxD\", ws2_dir / Path(\"meteo\"))"
   ]
  },
  {
   "cell_type": "markdown",
   "id": "423a2278-fe9a-4c48-9a54-f427ad6d6e85",
   "metadata": {},
   "source": [
    "# Daily Average Temperature"
   ]
  },
  {
   "cell_type": "code",
   "execution_count": 4,
   "id": "ceb2552d-1c9a-462f-aaf4-8cbd0ecf9d74",
   "metadata": {},
   "outputs": [
    {
     "name": "stdout",
     "output_type": "stream",
     "text": [
      "Load\n"
     ]
    },
    {
     "name": "stderr",
     "output_type": "stream",
     "text": [
      "[Parallel(n_jobs=-1)]: Using backend LokyBackend with 32 concurrent workers.\n",
      "[Parallel(n_jobs=-1)]: Done   7 out of  63 | elapsed:   30.7s remaining:  4.1min\n",
      "[Parallel(n_jobs=-1)]: Done  14 out of  63 | elapsed:   44.3s remaining:  2.6min\n",
      "[Parallel(n_jobs=-1)]: Done  21 out of  63 | elapsed:   57.9s remaining:  1.9min\n",
      "[Parallel(n_jobs=-1)]: Done  28 out of  63 | elapsed:  1.2min remaining:  1.5min\n",
      "[Parallel(n_jobs=-1)]: Done  35 out of  63 | elapsed:  1.4min remaining:  1.1min\n",
      "[Parallel(n_jobs=-1)]: Done  42 out of  63 | elapsed:  1.6min remaining:   49.1s\n",
      "[Parallel(n_jobs=-1)]: Done  49 out of  63 | elapsed:  1.9min remaining:   31.8s\n",
      "[Parallel(n_jobs=-1)]: Done  56 out of  63 | elapsed:  2.1min remaining:   15.5s\n",
      "[Parallel(n_jobs=-1)]: Done  63 out of  63 | elapsed:  2.3min finished\n"
     ]
    },
    {
     "name": "stdout",
     "output_type": "stream",
     "text": [
      "Store...\n"
     ]
    }
   ],
   "source": [
    "gridded_data_files_to_parquet(\"/home/aschneuwl/workspace/data/meteo/meteosuisse/grid/NEW_CH01_ALL-DATA-v2024/\", \"TabsD\", ws2_dir / Path(\"meteo\"))"
   ]
  },
  {
   "cell_type": "markdown",
   "id": "10b0fc4d-644a-418c-911a-fe77efa7e06b",
   "metadata": {},
   "source": [
    "# Daily Precipitation"
   ]
  },
  {
   "cell_type": "code",
   "execution_count": null,
   "id": "10f77261-4376-418b-b657-903b673719fc",
   "metadata": {},
   "outputs": [],
   "source": [
    "gridded_data_files_to_parquet(\"/home/aschneuwl/workspace/data/meteo/meteosuisse/grid/NEW_CH01_ALL-DATA-v2024/\", \"RhiresD\", ws2_dir / Path(\"meteo\"))"
   ]
  },
  {
   "cell_type": "markdown",
   "id": "e52b554e-9667-4881-9195-fde27a2b7bc8",
   "metadata": {},
   "source": [
    "# Daily Sunshine Duration"
   ]
  },
  {
   "cell_type": "code",
   "execution_count": null,
   "id": "c7e9f297-4ea4-44ff-9cd4-fd036cfc956c",
   "metadata": {},
   "outputs": [],
   "source": [
    "gridded_data_files_to_parquet(\"/home/aschneuwl/workspace/data/meteo/meteosuisse/grid/NEW_CH01_ALL-DATA-v2024/\", \"SrelD\", ws2_dir / Path(\"meteo\"))"
   ]
  },
  {
   "cell_type": "markdown",
   "id": "1d560b64-9e83-451a-8605-19a327e9489a",
   "metadata": {},
   "source": [
    "# Plotting"
   ]
  },
  {
   "cell_type": "markdown",
   "id": "333571c2-32c1-4631-bbbb-1c21f2efb32f",
   "metadata": {},
   "source": [
    "## Daily Maximum Temperature"
   ]
  },
  {
   "cell_type": "code",
   "execution_count": null,
   "id": "d81a2549-8d0d-40f6-b67d-6655c30f6aee",
   "metadata": {},
   "outputs": [],
   "source": [
    "localities_switzerland_fpath = ws_dir / Path(\"agecon-thesis/notebooks/00_preprocessing/swiss_localities_with_altitudes.parquet\")\n",
    "localities_swiss = gp.read_parquet(localities_switzerland_fpath)"
   ]
  },
  {
   "cell_type": "code",
   "execution_count": null,
   "id": "643c3b9d-ca57-48ae-b2f4-0ced08d07468",
   "metadata": {},
   "outputs": [],
   "source": [
    "localities_swiss = gp.read_file(\"/home/aschneuwl/workspace/agecon-thesis/notebooks/AMTOVZ_ZIP.shp\")\n",
    "\n",
    "lv95 = pyproj.CRS('EPSG:2056')\n",
    "wgs84 = pyproj.CRS('EPSG:4326')\n",
    "\n",
    "fig = px.choropleth_mapbox(zip_max_temp, geojson=localities_swiss, featureidkey=\"properties.ZIP_ID\",\n",
    "                           locations='ZIP_ID', \n",
    "                           color='TmaxD',\n",
    "                           mapbox_style=\"carto-positron\",\n",
    "                           zoom=6.3, \n",
    "                           center = {\"lat\": 46.8, \"lon\": 8.5},\n",
    "                           opacity=0.5,\n",
    "                           width=1000,\n",
    "                           height=750,\n",
    "                           hover_data=[\"TmaxD\"],\n",
    "                           labels={\"TmaxD\": \"Max Daily Temperature\", \"ZIP4\": \"Locality\"}\n",
    "                          )\n",
    "fig.show()"
   ]
  }
 ],
 "metadata": {
  "kernelspec": {
   "display_name": "Python 3 (ipykernel)",
   "language": "python",
   "name": "python3"
  },
  "language_info": {
   "codemirror_mode": {
    "name": "ipython",
    "version": 3
   },
   "file_extension": ".py",
   "mimetype": "text/x-python",
   "name": "python",
   "nbconvert_exporter": "python",
   "pygments_lexer": "ipython3",
   "version": "3.12.3"
  }
 },
 "nbformat": 4,
 "nbformat_minor": 5
}
