{
 "cells": [
  {
   "cell_type": "code",
   "execution_count": 1,
   "id": "695576b4-8dca-4b67-85eb-c24357cdfc47",
   "metadata": {},
   "outputs": [],
   "source": [
    "import pandas as pd\n",
    "from pathlib import Path\n",
    "from joblib import Parallel, delayed\n",
    "import itertools\n",
    "import numpy as np\n",
    "from tqdm import tqdm\n",
    "from typing import List"
   ]
  },
  {
   "cell_type": "code",
   "execution_count": 2,
   "id": "3183dc8d-5edc-44bf-92eb-8031b7a22a17",
   "metadata": {},
   "outputs": [],
   "source": [
    "workspace = Path(\"/mnt/wks3/aschneuwl/workspace\")"
   ]
  },
  {
   "cell_type": "code",
   "execution_count": 4,
   "id": "6c143567-47f7-4b5e-85de-83942759be44",
   "metadata": {},
   "outputs": [],
   "source": [
    "milk_data_fpath = workspace / Path(\"data/preprocessed/dairy/k33.parquet\")\n",
    "farm_meta_fpath = workspace / Path(\"data/preprocessed/dairy/swiss_farms_anonymzed.parquet\")\n",
    "calvings_fpath = workspace / Path(\"data/preprocessed/dairy/k11.parquet\")"
   ]
  },
  {
   "cell_type": "code",
   "execution_count": 7,
   "id": "ce81edd5-8219-4114-9723-6928518df9da",
   "metadata": {},
   "outputs": [],
   "source": [
    "samples_df = pd.read_parquet(milk_data_fpath)\n",
    "farm_meta_df = pd.read_parquet(farm_meta_fpath)\n",
    "calvings_df = pd.read_parquet(calvings_fpath)"
   ]
  },
  {
   "cell_type": "code",
   "execution_count": 8,
   "id": "f4668e7d-484e-4060-b4fb-b968b4ec2ce9",
   "metadata": {},
   "outputs": [
    {
     "data": {
      "text/plain": [
       "sampleMethod\n",
       "1    155063501\n",
       "2      3724956\n",
       "3        72883\n",
       "Name: count, dtype: int64"
      ]
     },
     "execution_count": 8,
     "metadata": {},
     "output_type": "execute_result"
    }
   ],
   "source": [
    "samples_df.sampleMethod.value_counts()"
   ]
  },
  {
   "cell_type": "code",
   "execution_count": 11,
   "id": "5ba1fdee-8116-420e-94e7-79b56b0c837e",
   "metadata": {},
   "outputs": [
    {
     "data": {
      "text/plain": [
       "['aceton',\n",
       " 'acetonIr',\n",
       " 'acetonMmol',\n",
       " 'alpAltitude',\n",
       " 'animalBreedCode',\n",
       " 'animalId',\n",
       " 'animalName',\n",
       " 'bhbConcentration',\n",
       " 'calvingDate',\n",
       " 'caseinMeasured',\n",
       " 'citrate',\n",
       " 'comment',\n",
       " 'dataOrigin',\n",
       " 'farmId',\n",
       " 'farmIdLocationSample',\n",
       " 'farmIdTvd',\n",
       " 'farmIdTvdSample',\n",
       " 'fat',\n",
       " 'fat2',\n",
       " 'fatMeasured',\n",
       " 'fatMeasured2',\n",
       " 'herdIdentification',\n",
       " 'labCode',\n",
       " 'lactationNumber',\n",
       " 'lactose',\n",
       " 'milk',\n",
       " 'milkEvening',\n",
       " 'milkMorning',\n",
       " 'milkUreaNitrogen',\n",
       " 'milkingMethod',\n",
       " 'milkingTimeEvening',\n",
       " 'milkingTimeMorning',\n",
       " 'protein',\n",
       " 'protein2',\n",
       " 'proteinMeasured',\n",
       " 'proteinMeasured2',\n",
       " 'recordType',\n",
       " 'recordVersion',\n",
       " 'registrationLbe',\n",
       " 'registrationMbk',\n",
       " 'sampleMethod',\n",
       " 'sampleNumber',\n",
       " 'samplePersistence',\n",
       " 'sampleWeighingDate',\n",
       " 'somaticCellCount',\n",
       " 'source',\n",
       " 'weighingCode',\n",
       " 'weighingType',\n",
       " 'year']"
      ]
     },
     "execution_count": 11,
     "metadata": {},
     "output_type": "execute_result"
    }
   ],
   "source": [
    "sorted(list(samples_df.columns))"
   ]
  },
  {
   "cell_type": "code",
   "execution_count": 12,
   "id": "c2322c89-f2aa-48ac-a4f3-0438f01e4489",
   "metadata": {},
   "outputs": [],
   "source": [
    "years = list(samples_df.year.unique())\n",
    "breeds =  list(samples_df.animalBreedCode.unique())"
   ]
  },
  {
   "cell_type": "code",
   "execution_count": 13,
   "id": "9c7c24ec-fb6c-440e-942f-afad6d457ae8",
   "metadata": {},
   "outputs": [
    {
     "data": {
      "text/plain": [
       "[1973,\n",
       " 1974,\n",
       " 1975,\n",
       " 1976,\n",
       " 1978,\n",
       " 1979,\n",
       " 1980,\n",
       " 1981,\n",
       " 1982,\n",
       " 1983,\n",
       " 1984,\n",
       " 1985,\n",
       " 1986,\n",
       " 1987,\n",
       " 1988,\n",
       " 1989,\n",
       " 1990,\n",
       " 1991,\n",
       " 1992,\n",
       " 1993,\n",
       " 1994,\n",
       " 1995,\n",
       " 1996,\n",
       " 1997,\n",
       " 1998,\n",
       " 1999,\n",
       " 2000,\n",
       " 2001,\n",
       " 2002,\n",
       " 2003,\n",
       " 2004,\n",
       " 2005,\n",
       " 2006,\n",
       " 2007,\n",
       " 2008,\n",
       " 2009,\n",
       " 2010,\n",
       " 2011,\n",
       " 2012,\n",
       " 2013,\n",
       " 2014,\n",
       " 2015,\n",
       " 2016,\n",
       " 2017,\n",
       " 2018,\n",
       " 2019,\n",
       " 2020,\n",
       " 2021,\n",
       " 2022,\n",
       " 2023,\n",
       " 2024]"
      ]
     },
     "execution_count": 13,
     "metadata": {},
     "output_type": "execute_result"
    }
   ],
   "source": [
    "years"
   ]
  },
  {
   "cell_type": "code",
   "execution_count": 14,
   "id": "002aaf15-b20f-4528-ad6a-f1f758c33bc8",
   "metadata": {},
   "outputs": [
    {
     "data": {
      "text/plain": [
       "['HO', 'XX', 'SI', 'BS', 'OB', '60', '70', 'SF', 'RH', 'HR', 'RF', 'JE']"
      ]
     },
     "execution_count": 14,
     "metadata": {},
     "output_type": "execute_result"
    }
   ],
   "source": [
    "breeds"
   ]
  },
  {
   "cell_type": "code",
   "execution_count": null,
   "id": "6a54e352-3797-44ba-a450-77fd5a4f8bd4",
   "metadata": {},
   "outputs": [],
   "source": [
    "samples_df[samples_df.animalBreedCode == \"XX\"]"
   ]
  },
  {
   "cell_type": "code",
   "execution_count": 16,
   "id": "3efb6cc8-eb0e-49fe-810c-843e84617560",
   "metadata": {},
   "outputs": [],
   "source": [
    "def iqa(df: pd.DataFrame, column: str):\n",
    "    q1 = df[column].quantile(0.25)\n",
    "    q3 = df[column].quantile(0.75)\n",
    "    iqr = q3 - q1\n",
    "    lower_bound = q1 - 1.5 * iqr\n",
    "    upper_bound = q3 + 1.5 * iqr\n",
    "\n",
    "    return lower_bound, upper_bound"
   ]
  },
  {
   "cell_type": "code",
   "execution_count": 17,
   "id": "10f8e95e-939f-47ba-be64-aabf419ffbb8",
   "metadata": {},
   "outputs": [],
   "source": [
    "def iqa_filter(year: int, breed: str, columns: List[str], fpath: Path, min_samples_per_year: int = 1000):\n",
    "    df = pd.read_parquet(fpath, filters=[[(\"year\", \"==\", year), (\"animalBreedCode\", \"==\", breed)]], engine=\"pyarrow\")\n",
    "    df = df.dropna(subset=columns, how='any')\n",
    "    \n",
    "    filters = []\n",
    "    for column in columns:\n",
    "        lower_bound, upper_bound = iqa(df, column)\n",
    "    \n",
    "        if (not np.isnan(lower_bound)) and (not np.isnan(upper_bound)):\n",
    "            filter_str = f\"((year == {year}) & (animalBreedCode == '{breed}') & ({column} > {lower_bound}) & ({column} < {upper_bound}))\"\n",
    "            filters.append(filter_str)\n",
    "\n",
    "    if len(filters) != 0:\n",
    "        df = df.query(\" & \".join(filters))\n",
    "    else:\n",
    "        df = None\n",
    "    \n",
    "    if (df is not None) and (df.shape[0] < min_samples_per_year):\n",
    "        df = None\n",
    "\n",
    "    return df"
   ]
  },
  {
   "cell_type": "code",
   "execution_count": 28,
   "id": "6a73043e-c7ed-4465-9099-f20f44091a8f",
   "metadata": {},
   "outputs": [],
   "source": [
    "def filter_yield_for_variable(years: List[int],\n",
    "                              breeds: List[str],\n",
    "                              columns: List[str],\n",
    "                              samples_fpath: Path,\n",
    "                              farm_meta_df: pd.DataFrame,\n",
    "                              calvings_df: pd.DataFrame,\n",
    "                              secondary: List[str]) -> pd.DataFrame:\n",
    "    \"\"\"\n",
    "    Function to filter out outliers from the data (parallelized) . above and below whisker\n",
    "    \"\"\"\n",
    "\n",
    "    # Apply the IQA filter for each breed and year\n",
    "    combs = list(itertools.product(years, breeds))\n",
    "    filtered = Parallel(n_jobs=-1)(delayed(iqa_filter)(y,b,columns, samples_fpath) for (y,b) in tqdm(combs))\n",
    "    filtered = [s for s in filtered if s is not None]\n",
    "\n",
    "    # base columns\n",
    "    df_cols = [\"animalBreedCode\", \"animalId\", \"calvingDate\", \"farmIdLocationSample\", \"lactationNumber\", \"year\", \"milkingMethod\", \"sampleWeighingDate\", \"sampleMethod\", \"weighingType\"]\n",
    "    \n",
    "    # primary performance variables\n",
    "    df_cols.extend(columns)\n",
    "    \n",
    "    # secondary performance variables (no IQA applied or na check)\n",
    "    df_cols.extend(secondary)\n",
    "    \n",
    "    df_filtered = pd.concat(filtered)[df_cols]\n",
    "\n",
    "    # create DIM variable\n",
    "    df_filtered[\"days_in_milk\"] = df_filtered[\"sampleWeighingDate\"] - df_filtered[\"calvingDate\"]\n",
    "\n",
    "    #df_filtered = df_filtered.loc[df_filtered[\"days_in_milk\"].dt.days >= 0, :]\n",
    "\n",
    "    df_filtered = pd.merge(df_filtered, farm_meta_df[[\"zip\", \"altitude\", \"locationType\", \"farmId\"]], left_on='farmIdLocationSample', right_on=\"farmId\", how='left')\n",
    "\n",
    "    # drop all the samples which were not assigned to a farm\n",
    "    df_filtered = df_filtered[df_filtered[\"zip\"].notna()].drop([\"farmId\"], axis=1)\n",
    "\n",
    "    df_filtered = df_filtered.dropna(subset=[\"lactationNumber\", \"year\", \"milkingMethod\", \"sampleWeighingDate\", \"days_in_milk\"])\n",
    "\n",
    "    #df_filtered = pd.merge(df_filtered, calvings_df[[\"calfId\", \"calvingDate\"]], left_on='animalId', right_on=\"calfId\", how='left')\n",
    "    #df_filtered[\"dateOfBirth\"] = df_filtered[\"calvingDate_y\"]\n",
    "    #df_filtered.drop(\"calvingDate_y\", axis=1, inplace=True)\n",
    "    #df_filtered[\"calvingDate\"] = df_filtered[\"calvingDate_x\"]\n",
    "    #df_filtered.drop(\"calvingDate_x\", axis=1, inplace=True)\n",
    "    #df_filtered[\"age\"] = df_filtered[\"sampleWeighingDate\"] - df_filtered[\"dateOfBirth\"]\n",
    "\n",
    "    #df_filtered[\"farmId\"] = df_filtered[\"farmId_y\"]\n",
    "\n",
    "    #df_filtered.drop(\"farmId_y\", axis=1, inplace=True)\n",
    "\n",
    "    #df_filtered.drop(\"calfId\", axis=1, inplace=True)\n",
    "\n",
    "    df_filtered.to_parquet(workspace / Path(f\"/data/preprocessed/dairy/k33_{\"_\".join(columns)}_iqa_filtered.parquet\"), partition_cols=[\"year\"])\n",
    "\n",
    "    return df_filtered"
   ]
  },
  {
   "cell_type": "markdown",
   "id": "07644b64-08a3-4492-a524-f295bc5cc152",
   "metadata": {},
   "source": [
    "# Milk"
   ]
  },
  {
   "cell_type": "code",
   "execution_count": 16,
   "id": "531af0d4-4939-4762-ab76-6614ffc836ff",
   "metadata": {},
   "outputs": [
    {
     "data": {
      "text/plain": [
       "0"
      ]
     },
     "execution_count": 16,
     "metadata": {},
     "output_type": "execute_result"
    }
   ],
   "source": [
    "samples_df.milk.isna().sum()"
   ]
  },
  {
   "cell_type": "code",
   "execution_count": 17,
   "id": "ae566847-3336-4d5c-a78b-5892b5e73533",
   "metadata": {},
   "outputs": [
    {
     "data": {
      "text/plain": [
       "389753"
      ]
     },
     "execution_count": 17,
     "metadata": {},
     "output_type": "execute_result"
    }
   ],
   "source": [
    "samples_df.fat.isna().sum()"
   ]
  },
  {
   "cell_type": "code",
   "execution_count": 19,
   "id": "d32afbcc-fbf0-4708-8176-ca32d8f2759c",
   "metadata": {},
   "outputs": [
    {
     "data": {
      "text/plain": [
       "360494"
      ]
     },
     "execution_count": 19,
     "metadata": {},
     "output_type": "execute_result"
    }
   ],
   "source": [
    "samples_df.protein.isna().sum()"
   ]
  },
  {
   "cell_type": "code",
   "execution_count": 21,
   "id": "2b15fc21-9ff2-4166-b37c-0dc90b08bd5d",
   "metadata": {},
   "outputs": [
    {
     "data": {
      "text/plain": [
       "23119246"
      ]
     },
     "execution_count": 21,
     "metadata": {},
     "output_type": "execute_result"
    }
   ],
   "source": [
    "samples_df.somaticCellCount.isna().sum()"
   ]
  },
  {
   "cell_type": "code",
   "execution_count": 22,
   "id": "6ec9d63b-a677-4183-9c29-5ca0660262d3",
   "metadata": {},
   "outputs": [
    {
     "data": {
      "text/plain": [
       "23899843"
      ]
     },
     "execution_count": 22,
     "metadata": {},
     "output_type": "execute_result"
    }
   ],
   "source": [
    "samples_df.milkUreaNitrogen.isna().sum()"
   ]
  },
  {
   "cell_type": "code",
   "execution_count": 23,
   "id": "dee1d48f-4083-4076-8026-93c1d6fefb63",
   "metadata": {},
   "outputs": [
    {
     "data": {
      "text/plain": [
       "105720727"
      ]
     },
     "execution_count": 23,
     "metadata": {},
     "output_type": "execute_result"
    }
   ],
   "source": [
    "samples_df.bhbConcentration.isna().sum()"
   ]
  },
  {
   "cell_type": "code",
   "execution_count": 24,
   "id": "359e42ed-667b-4a63-b904-11c815c31e59",
   "metadata": {},
   "outputs": [
    {
     "data": {
      "text/plain": [
       "106428744"
      ]
     },
     "execution_count": 24,
     "metadata": {},
     "output_type": "execute_result"
    }
   ],
   "source": [
    "samples_df.aceton.isna().sum()"
   ]
  },
  {
   "cell_type": "code",
   "execution_count": 27,
   "id": "c5f5b7a2-8c94-4e6b-b06b-b4da0e3d29f7",
   "metadata": {},
   "outputs": [
    {
     "data": {
      "text/plain": [
       "106428744"
      ]
     },
     "execution_count": 27,
     "metadata": {},
     "output_type": "execute_result"
    }
   ],
   "source": [
    "samples_df.aceton.isna().sum()"
   ]
  },
  {
   "cell_type": "code",
   "execution_count": 26,
   "id": "4d0283e7-d877-41f8-9988-da4a97439d09",
   "metadata": {},
   "outputs": [
    {
     "data": {
      "text/plain": [
       "107230933"
      ]
     },
     "execution_count": 26,
     "metadata": {},
     "output_type": "execute_result"
    }
   ],
   "source": [
    "samples_df.acetonIr.isna().sum()"
   ]
  },
  {
   "cell_type": "code",
   "execution_count": 25,
   "id": "e830e370-58f7-45d8-90a2-2c208043a233",
   "metadata": {},
   "outputs": [
    {
     "data": {
      "text/plain": [
       "412700"
      ]
     },
     "execution_count": 25,
     "metadata": {},
     "output_type": "execute_result"
    }
   ],
   "source": [
    "samples_df.lactose.isna().sum()"
   ]
  },
  {
   "cell_type": "code",
   "execution_count": null,
   "id": "aeadf904-a745-4325-83fc-a191d92f6c00",
   "metadata": {},
   "outputs": [],
   "source": [
    "filter_yield_for_variable(years, breeds, primary_dairy_performance_vars, fpath, farm_meta_df, calvings_df)"
   ]
  },
  {
   "cell_type": "markdown",
   "id": "59ed001b-543f-4365-85e5-a9fa50e72b3b",
   "metadata": {},
   "source": [
    "# Primary Performance Variables"
   ]
  },
  {
   "cell_type": "code",
   "execution_count": 21,
   "id": "71882e57-9a0b-4ced-b2fe-0be58bf172b0",
   "metadata": {},
   "outputs": [],
   "source": [
    "primary_dairy_performance_vars = [\"milk\", \"fat\", \"protein\"]\n",
    "secondary = [\"milkUreaNitrogen\", \"bhbConcentration\", \"aceton\", \"acetonMmol\", \"acetonIr\", \"somaticCellCount\", \"lactose\"]"
   ]
  },
  {
   "cell_type": "code",
   "execution_count": null,
   "id": "6e9253be-bcff-4faa-8ae3-c13f470a736e",
   "metadata": {},
   "outputs": [],
   "source": [
    "perf_vars =  filter_yield_for_variable(years, breeds, primary_dairy_performance_vars, milk_data_fpath, farm_meta_df, calvings_df, secondary)"
   ]
  },
  {
   "cell_type": "code",
   "execution_count": 39,
   "id": "ff4b51d5-4b43-4381-a904-a4bf37ef9fcc",
   "metadata": {},
   "outputs": [
    {
     "data": {
      "text/plain": [
       "(132963491, 24)"
      ]
     },
     "execution_count": 39,
     "metadata": {},
     "output_type": "execute_result"
    }
   ],
   "source": [
    "perf_vars.shape"
   ]
  }
 ],
 "metadata": {
  "kernelspec": {
   "display_name": "Python 3 (ipykernel)",
   "language": "python",
   "name": "python3"
  },
  "language_info": {
   "codemirror_mode": {
    "name": "ipython",
    "version": 3
   },
   "file_extension": ".py",
   "mimetype": "text/x-python",
   "name": "python",
   "nbconvert_exporter": "python",
   "pygments_lexer": "ipython3",
   "version": "3.12.3"
  }
 },
 "nbformat": 4,
 "nbformat_minor": 5
}
