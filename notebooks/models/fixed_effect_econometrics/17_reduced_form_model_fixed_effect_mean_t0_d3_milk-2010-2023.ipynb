{
 "cells": [
  {
   "cell_type": "markdown",
   "id": "c2c9496c-1c4c-4462-a310-d1cf26c3d966",
   "metadata": {},
   "source": [
    "# Heat Stress Project - Milk Yield"
   ]
  },
  {
   "cell_type": "markdown",
   "id": "4392f814-ee10-4530-83f1-289ae0d08075",
   "metadata": {},
   "source": [
    "# R Packages"
   ]
  },
  {
   "cell_type": "code",
   "execution_count": 1,
   "id": "ab732adf-9d48-4fd2-83c8-7115fbe5ffec",
   "metadata": {
    "execution": {
     "iopub.execute_input": "2024-06-23T22:01:55.135921Z",
     "iopub.status.busy": "2024-06-23T22:01:55.134771Z",
     "iopub.status.idle": "2024-06-23T22:01:56.984517Z",
     "shell.execute_reply": "2024-06-23T22:01:56.983569Z"
    },
    "vscode": {
     "languageId": "r"
    }
   },
   "outputs": [],
   "source": [
    "suppressPackageStartupMessages({\n",
    "  library(mgcv)\n",
    "  library(arrow)\n",
    "  library(dplyr)\n",
    "  library(tictoc)\n",
    "  library(fixest)\n",
    "  library(plm)\n",
    "  library(lspline)\n",
    "  library(lmerTest)\n",
    "  library(ggplot2)\n",
    "  library(car)\n",
    "  library(tidyverse)\n",
    "  library(lmtest)\n",
    "  library(rsample)\n",
    "  library(rlang)\n",
    "})\n",
    "options(width=1000)"
   ]
  },
  {
   "cell_type": "markdown",
   "id": "7b79ee07-be48-4182-9e1d-5b8e90796ee0",
   "metadata": {},
   "source": [
    "# Experiment Parameters"
   ]
  },
  {
   "cell_type": "code",
   "execution_count": 2,
   "id": "567b4c95-4615-4a4d-89f7-69ad7e582d6d",
   "metadata": {
    "execution": {
     "iopub.execute_input": "2024-06-23T22:01:57.001977Z",
     "iopub.status.busy": "2024-06-23T22:01:56.987341Z",
     "iopub.status.idle": "2024-06-23T22:01:57.020778Z",
     "shell.execute_reply": "2024-06-23T22:01:57.020014Z"
    },
    "vscode": {
     "languageId": "r"
    }
   },
   "outputs": [
    {
     "data": {
      "text/html": [
       "'17_reduced_form_model_thi_mean_t0_3d_fixed_effect_2010-2023_2024_06_24_00_01_57_milk'"
      ],
      "text/latex": [
       "'17\\_reduced\\_form\\_model\\_thi\\_mean\\_t0\\_3d\\_fixed\\_effect\\_2010-2023\\_2024\\_06\\_24\\_00\\_01\\_57\\_milk'"
      ],
      "text/markdown": [
       "'17_reduced_form_model_thi_mean_t0_3d_fixed_effect_2010-2023_2024_06_24_00_01_57_milk'"
      ],
      "text/plain": [
       "[1] \"17_reduced_form_model_thi_mean_t0_3d_fixed_effect_2010-2023_2024_06_24_00_01_57_milk\""
      ]
     },
     "metadata": {},
     "output_type": "display_data"
    }
   ],
   "source": [
    "set.seed(2024)\n",
    "period <- 2010:2023\n",
    "month <- 4:10\n",
    "start <- min(period)\n",
    "stop <- max(period)\n",
    "subsample <- F\n",
    "diagnostic <- F\n",
    "save <- F\n",
    "sample_size <- 100000\n",
    "dependent_var <- \"milk\"\n",
    "weather_var <- \"thi_mean_t0_3d\"\n",
    "breeds <- c(\"HO\", \"JE\", \"SI\", \"SF\", \"BS\", \"OB\")\n",
    "start_knot <- 45\n",
    "stop_knot <- 60\n",
    "concatenated_string <- paste0(\"17_reduced_form_model_thi_mean_t0_3d_fixed_effect_\", start, \"-\", stop, \"_\", format(Sys.time(), \"%Y_%m_%d_%H_%M_%S\"), \"_\", dependent_var)\n",
    "concatenated_string"
   ]
  },
  {
   "cell_type": "markdown",
   "id": "c760df71-db97-4415-8386-e044c449f77b",
   "metadata": {},
   "source": [
    "# Custom Functions"
   ]
  },
  {
   "cell_type": "code",
   "execution_count": 3,
   "id": "6f08bb6a-45f9-449f-8cfb-61b054c2a534",
   "metadata": {
    "execution": {
     "iopub.execute_input": "2024-06-23T22:01:57.023427Z",
     "iopub.status.busy": "2024-06-23T22:01:57.022793Z",
     "iopub.status.idle": "2024-06-23T22:01:57.028289Z",
     "shell.execute_reply": "2024-06-23T22:01:57.027548Z"
    },
    "vscode": {
     "languageId": "r"
    }
   },
   "outputs": [],
   "source": [
    "generate_diagnostic_plots <- function(model) {\n",
    "  # Extract fitted values and residuals\n",
    "  fitted_values <- fitted(model)\n",
    "  residuals <- residuals(model)\n",
    "  \n",
    "  # Create a data frame for plotting\n",
    "  plot_data <- data.frame(fitted_values = fitted_values, residuals = residuals)\n",
    "  print(nrow(plot_data))\n",
    "  \n",
    "  # Residuals vs Fitted Values Plot / Linearity & Homoscedacity\n",
    "  p1 <- ggplot(plot_data, aes(x = fitted_values, y = residuals)) +\n",
    "    geom_point(alpha = 0.5) +                       # Scatter plot of residuals\n",
    "    geom_smooth(method = \"loess\", col = \"red\", se = FALSE) +    # Smooth curve (loess)\n",
    "    labs(title = \"Residuals vs. Fitted Values\",\n",
    "         x = \"Fitted Values\",\n",
    "         y = \"Residuals\") +\n",
    "    theme_minimal() +\n",
    "    geom_hline(yintercept = 0, linetype = \"dashed\", color = \"blue\")\n",
    "  \n",
    "  # Normal distribution of residuals\n",
    "  p2 <- ggplot(plot_data, aes(sample = residuals)) +\n",
    "    stat_qq() +\n",
    "    stat_qq_line() +\n",
    "    labs(title = \"Normal Q-Q\",\n",
    "         x = \"Theoretical Quantiles\",\n",
    "         y = \"Residuals\") +\n",
    "    theme_minimal()\n",
    "  \n",
    "  # Scale-Location Plot (Homoscedacity - normally distributed standard error)\n",
    "  plot_data$std_residuals <- scale(residuals)\n",
    "  plot_data$abs_sqrt_residuals <- sqrt(abs(plot_data$std_residuals))\n",
    "  \n",
    "  p3 <- ggplot(plot_data, aes(fitted_values, abs_sqrt_residuals)) +\n",
    "    geom_point() +\n",
    "    geom_smooth(method = \"loess\", col = \"red\", se = FALSE) +\n",
    "    labs(title = \"Scale-Location Plot\",\n",
    "         x = \"Fitted values\",\n",
    "         y = \"√|Standardized residuals|\") +\n",
    "    theme_minimal()\n",
    "\n",
    "  p4 <- ggplot(plot_data, aes(x = residuals)) +\n",
    "    geom_histogram(binwidth = 0.5, fill = \"blue\", color = \"black\") +\n",
    "    labs(title = \"Histogram of Residuals\", x = \"Residuals\", y = \"Frequency\") +\n",
    "    theme_minimal()\n",
    " \n",
    "  # Return the plots as a list\n",
    "  list(\n",
    "    Residuals_vs_Fitted = p1,\n",
    "    Normal_QQ = p2,\n",
    "    Scale_Location = p3,\n",
    "    Residual_hist = p4\n",
    "  )\n",
    "}"
   ]
  },
  {
   "cell_type": "code",
   "execution_count": 4,
   "id": "618a30c9-d484-4d74-86e5-1c60361da06d",
   "metadata": {
    "execution": {
     "iopub.execute_input": "2024-06-23T22:01:57.030882Z",
     "iopub.status.busy": "2024-06-23T22:01:57.030265Z",
     "iopub.status.idle": "2024-06-23T22:01:57.036715Z",
     "shell.execute_reply": "2024-06-23T22:01:57.035976Z"
    },
    "vscode": {
     "languageId": "r"
    }
   },
   "outputs": [],
   "source": [
    "create_effect_plot <- function(data, model, knot, response_var, predictor_var, breed) {\n",
    "  # Create the range for the predictor variable\n",
    "  predictor_range <- seq(ceiling(min(data[predictor_var], na.rm = TRUE)), floor(max(data[predictor_var], na.rm = TRUE)))\n",
    "  # Calculate the effect\n",
    "  effect <- lspline(predictor_range, knots = knot) %*% coeftest(model)[,1][1:(length(knot)+1)]\n",
    "  \n",
    "  # Calculate the confidence intervals\n",
    "  effect_error_min <- effect - ((lspline(predictor_range, knots = knot)) %*% (abs(coeftest(model)[,2][1:(length(knot)+1)] * 1.96)))\n",
    "  effect_error_max <- effect + ((lspline(predictor_range, knots = knot)) %*% (abs(coeftest(model)[,2][1:(length(knot)+1)] * 1.96)))\n",
    "  \n",
    "  # Create the data frame for plotting\n",
    "  data_plot <- data.frame(\n",
    "    breed = breed,\n",
    "    predictor_range, \n",
    "    Effect = effect, \n",
    "    Lower = effect_error_min, \n",
    "    Upper = effect_error_max\n",
    "  )\n",
    "  \n",
    "  # Create the plot\n",
    "  plot <- ggplot(data_plot, aes(x = predictor_range, y = Effect)) +\n",
    "    geom_line(color = \"blue\") +\n",
    "    geom_ribbon(aes(ymin = Lower, ymax = Upper), alpha = 0.3, fill = \"blue\") +\n",
    "    labs(\n",
    "      title = paste(\"Effect of\", predictor_var, \"with Confidence Intervals\"),\n",
    "      x = paste(predictor_var, \"Range\"),\n",
    "      y = \"Effect\"\n",
    "    ) +\n",
    "    theme_minimal() + \n",
    "    scale_x_continuous(breaks = seq(40, 90, by = 10), limits = c(40, max(predictor_range))) +\n",
    "    theme(\n",
    "      plot.title = element_text(hjust = 0.5),\n",
    "      plot.title.position = \"plot\",\n",
    "      axis.title.x = element_text(hjust = 0.5),\n",
    "      axis.title.y = element_text(hjust = 0.5)\n",
    "    )\n",
    "  \n",
    "  return(list(plot = plot, data = data_plot))\n",
    "}\n",
    "\n",
    "merge_plot_data <- function(plot_data_list) {\n",
    "  # Combine the data frames from each plot into one data frame\n",
    "  merged_data <- bind_rows(plot_data_list)\n",
    "  \n",
    "  return(merged_data)\n",
    "}"
   ]
  },
  {
   "cell_type": "markdown",
   "id": "bae02f6f-4e0c-420c-bcf6-be06dc0d203f",
   "metadata": {},
   "source": [
    "# Load Data"
   ]
  },
  {
   "cell_type": "code",
   "execution_count": 5,
   "id": "1b4a878c-da52-4dda-bafb-8c8f1d9dbc05",
   "metadata": {
    "execution": {
     "iopub.execute_input": "2024-06-23T22:01:57.039153Z",
     "iopub.status.busy": "2024-06-23T22:01:57.038546Z",
     "iopub.status.idle": "2024-06-23T22:02:09.436639Z",
     "shell.execute_reply": "2024-06-23T22:02:09.435683Z"
    },
    "vscode": {
     "languageId": "r"
    }
   },
   "outputs": [],
   "source": [
    "milk_data <- read_parquet(\"/home/aschneuwl/workspace/agecon-thesis/notebooks/02_models/12_base_data.parquet\")"
   ]
  },
  {
   "cell_type": "code",
   "execution_count": 6,
   "id": "3b43fd3f-2220-4c57-acb6-6730b746bf64",
   "metadata": {
    "execution": {
     "iopub.execute_input": "2024-06-23T22:02:09.439250Z",
     "iopub.status.busy": "2024-06-23T22:02:09.438642Z",
     "iopub.status.idle": "2024-06-23T22:04:12.708676Z",
     "shell.execute_reply": "2024-06-23T22:04:12.707647Z"
    },
    "vscode": {
     "languageId": "r"
    }
   },
   "outputs": [],
   "source": [
    "milk_data$animalBreedCode <- as.factor(milk_data$animalBreedCode)\n",
    "milk_data$year <- as.factor(milk_data$year)\n",
    "milk_data$farmId <- as.factor(milk_data$farmId)\n",
    "milk_data$month <- as.factor(milk_data$month)\n",
    "milk_data$logmilk <- log(milk_data$milk)\n",
    "milkingMehtod <- as.factor(milk_data$milkingMethod)\n",
    "milk_data$zip <- as.factor(milk_data$zip)\n",
    "milk_data$days_in_milk <- as.numeric(milk_data$days_in_milk)\n",
    "milk_data$days_in_milk <- milk_data$days_in_milk / 86400\n",
    "milk_data$farm_year_interaction = interaction(milk_data$farmId, milk_data$year)\n",
    "milk_data$farm_month_interaction = interaction(milk_data$farmId, milk_data$month)\n",
    "\n",
    "milk_data$regular_season <- with(milk_data, \n",
    "    ifelse(month %in% c(\"3\", \"4\", \"5\"), \"spring\",\n",
    "    ifelse(month %in% c(\"6\", \"7\", \"8\"), \"summer\",\n",
    "    ifelse(month %in% c(\"9\", \"10\", \"11\"), \"fall\", \"winter\"))))\n",
    "\n",
    "# Convert the new variable to a factor\n",
    "milk_data$regular_season <- as.factor(milk_data$regular_season)\n",
    "milk_data$zip_regular_season <- interaction(milk_data$zip, milk_data$regular_season)\n",
    "\n",
    "# Create the interaction term between farmId and month_range\n",
    "milk_data$farmId_regular_season_interaction <- interaction(milk_data$farmId, milk_data$regular_season)\n",
    "\n",
    "milk_data$farm_season <- with(milk_data, \n",
    "    ifelse(month %in% c(\"4\", \"5\", \"6\", \"7\", \"8\", \"9\"), \"grazing\", \"nongrazing\"))\n",
    "\n",
    "# Convert the new variable to a factor\n",
    "milk_data$farm_season <- as.factor(milk_data$farm_season)\n",
    "\n",
    "# Create the interaction term between farmId and farm_seasons\n",
    "milk_data$farmId_farm_season_interaction <- interaction(milk_data$farmId, milk_data$farm_season)"
   ]
  },
  {
   "cell_type": "code",
   "execution_count": 7,
   "id": "5ecab535-5df5-47b5-856c-573654546b87",
   "metadata": {
    "execution": {
     "iopub.execute_input": "2024-06-23T22:04:12.717099Z",
     "iopub.status.busy": "2024-06-23T22:04:12.716448Z",
     "iopub.status.idle": "2024-06-23T22:06:49.199805Z",
     "shell.execute_reply": "2024-06-23T22:06:49.198659Z"
    },
    "vscode": {
     "languageId": "r"
    }
   },
   "outputs": [],
   "source": [
    "milk_data <- subset(milk_data, year %in% period)\n",
    "milk_data <- subset(milk_data, month %in% month)"
   ]
  },
  {
   "cell_type": "code",
   "execution_count": 8,
   "id": "fc60f9bb-6baf-4f18-a49d-ead3621b76b3",
   "metadata": {
    "execution": {
     "iopub.execute_input": "2024-06-23T22:06:49.210405Z",
     "iopub.status.busy": "2024-06-23T22:06:49.209675Z",
     "iopub.status.idle": "2024-06-23T22:06:49.216379Z",
     "shell.execute_reply": "2024-06-23T22:06:49.215549Z"
    },
    "vscode": {
     "languageId": "r"
    }
   },
   "outputs": [],
   "source": [
    "if (subsample) { \n",
    "    milk_data <- milk_data %>%\n",
    "      group_by(year, animalBreedCode) %>%\n",
    "      sample_frac(sample_size/nrow(milk_data)) %>% drop_na(get(weather_var))\n",
    "}"
   ]
  },
  {
   "cell_type": "code",
   "execution_count": 9,
   "id": "8ffad707-bd97-4406-8eda-3c8651d309a6",
   "metadata": {
    "execution": {
     "iopub.execute_input": "2024-06-23T22:06:49.219547Z",
     "iopub.status.busy": "2024-06-23T22:06:49.218779Z",
     "iopub.status.idle": "2024-06-23T22:07:06.591526Z",
     "shell.execute_reply": "2024-06-23T22:07:06.590448Z"
    },
    "vscode": {
     "languageId": "r"
    }
   },
   "outputs": [],
   "source": [
    "milk_data <- droplevels(milk_data)"
   ]
  },
  {
   "cell_type": "markdown",
   "id": "192c00df-6c2c-4225-86b0-0d9e21b23e5e",
   "metadata": {},
   "source": [
    "split data for each breed"
   ]
  },
  {
   "cell_type": "code",
   "execution_count": 10,
   "id": "fe9074d1-a992-4f7b-a838-3dfd9a900b61",
   "metadata": {
    "execution": {
     "iopub.execute_input": "2024-06-23T22:07:06.594591Z",
     "iopub.status.busy": "2024-06-23T22:07:06.593894Z",
     "iopub.status.idle": "2024-06-23T22:08:24.249083Z",
     "shell.execute_reply": "2024-06-23T22:08:24.248046Z"
    },
    "vscode": {
     "languageId": "r"
    }
   },
   "outputs": [],
   "source": [
    "je <- droplevels(subset(milk_data, animalBreedCode %in% c(\"JE\")) %>% drop_na(!!weather_var))\n",
    "bs <- droplevels(subset(milk_data, animalBreedCode %in% c(\"BS\")) %>% drop_na(!!weather_var))\n",
    "ho <- droplevels(subset(milk_data, animalBreedCode %in% c(\"HO\")) %>% drop_na(!!weather_var))\n",
    "ob <- droplevels(subset(milk_data, animalBreedCode %in% c(\"OB\")) %>% drop_na(!!weather_var))\n",
    "si <- droplevels(subset(milk_data, animalBreedCode %in% c(\"SI\")) %>% drop_na(!!weather_var))\n",
    "sf <- droplevels(subset(milk_data, animalBreedCode %in% c(\"SF\")) %>% drop_na(!!weather_var))"
   ]
  },
  {
   "cell_type": "code",
   "execution_count": 11,
   "id": "4830279e-353b-4192-8a05-6044e496a81c",
   "metadata": {
    "execution": {
     "iopub.execute_input": "2024-06-23T22:08:24.255100Z",
     "iopub.status.busy": "2024-06-23T22:08:24.254451Z",
     "iopub.status.idle": "2024-06-23T22:08:25.428332Z",
     "shell.execute_reply": "2024-06-23T22:08:25.427545Z"
    },
    "vscode": {
     "languageId": "r"
    }
   },
   "outputs": [
    {
     "data": {
      "image/png": "[encoded data removed]",
      "text/plain": [
       "Plot with title “Histogram of eval(parse(text = paste0(\"milk_data$\", dependent_var)))”"
      ]
     },
     "metadata": {
      "image/png": {
       "height": 420,
       "width": 420
      }
     },
     "output_type": "display_data"
    }
   ],
   "source": [
    "hist(eval(parse(text = paste0(\"milk_data$\", dependent_var))))"
   ]
  },
  {
   "cell_type": "code",
   "execution_count": 12,
   "id": "5e24fc1e-bc84-4dca-b24e-282f72e48d6a",
   "metadata": {
    "execution": {
     "iopub.execute_input": "2024-06-23T22:08:25.430898Z",
     "iopub.status.busy": "2024-06-23T22:08:25.430292Z",
     "iopub.status.idle": "2024-06-23T22:08:25.435779Z",
     "shell.execute_reply": "2024-06-23T22:08:25.435048Z"
    },
    "vscode": {
     "languageId": "r"
    }
   },
   "outputs": [],
   "source": [
    "rm(milk_data)"
   ]
  },
  {
   "cell_type": "markdown",
   "id": "9a179b0d-ff2e-46f6-a2c3-ec09cca99637",
   "metadata": {},
   "source": [
    "# Piecewise Linear THI - Reduced Form Piecewise Linear Fixed Effect Model"
   ]
  },
  {
   "cell_type": "code",
   "execution_count": 13,
   "id": "aa1be5ae-eedb-4a3b-a7ef-23eaf6ada228",
   "metadata": {
    "execution": {
     "iopub.execute_input": "2024-06-23T22:08:25.438349Z",
     "iopub.status.busy": "2024-06-23T22:08:25.437748Z",
     "iopub.status.idle": "2024-06-23T22:08:25.444364Z",
     "shell.execute_reply": "2024-06-23T22:08:25.443648Z"
    },
    "vscode": {
     "languageId": "r"
    }
   },
   "outputs": [],
   "source": [
    "pl_clu <- c(\"year\", \"farmId\")\n",
    "\n",
    "run_models_with_knots <- function(data, knot_sequence, dep_var_name, weather_var) {\n",
    "  best_rss <- Inf\n",
    "  best_knot_comb <- NULL\n",
    "  \n",
    "  # Loop over each knot value\n",
    "  for (i in 1:length(knot_sequence)) {\n",
    "    knots <- paste(knot_sequence[[i]], collapse = \",\")\n",
    "    f <- paste0(dep_var_name, \"~\", \"lspline(\", weather_var, \", knots=c(\", knots, \")) + days_in_milk + lactationNumber + precip_mean_t0_3d + precip_mean_t0_3d^2 + year | farmId\")\n",
    "    pl_form <- as.formula(f)\n",
    "    model <- feols(pl_form, data = data, cluster = pl_clu)\n",
    "    \n",
    "    # Calculate RSS for the current model\n",
    "    current_rss <- sum(residuals(model)^2)\n",
    "    \n",
    "    # Check if this model has the lowest RSS so far\n",
    "    if (current_rss < best_rss) {\n",
    "      best_rss <- current_rss\n",
    "      best_knot_comb <- knot_sequence[[i]]\n",
    "    }\n",
    "  }\n",
    "  \n",
    "  # Recompute the best model for storage reasons\n",
    "  knots <- paste(best_knot_comb, collapse = \",\")\n",
    "  f <- paste0(dep_var_name, \"~\", \"lspline(\", weather_var, \", knots=c(\", knots, \")) + days_in_milk + lactationNumber + precip_mean_t0_3d + precip_mean_t0_3d^2 + year | farmId\")\n",
    "  pl_form <- as.formula(f)\n",
    "  best_model <- feols(pl_form, data = data, cluster = pl_clu, lean = T)\n",
    "  gc()\n",
    "  \n",
    "  # Return a list containing the best knot combination, the best model, and its RSS\n",
    "  return(list(best_knot = best_knot_comb, best_model_rss = best_rss, best_model = best_model))\n",
    "}\n",
    "\n"
   ]
  },
  {
   "cell_type": "code",
   "execution_count": 14,
   "id": "5884625c-1e99-4f1d-9db4-3c3e8c0546cd",
   "metadata": {
    "execution": {
     "iopub.execute_input": "2024-06-23T22:08:25.446760Z",
     "iopub.status.busy": "2024-06-23T22:08:25.446175Z",
     "iopub.status.idle": "2024-06-23T22:08:25.454595Z",
     "shell.execute_reply": "2024-06-23T22:08:25.453881Z"
    },
    "vscode": {
     "languageId": "r"
    }
   },
   "outputs": [],
   "source": [
    "knot_combs <- list()\n",
    "for (i in start_knot:stop_knot) {\n",
    "    j <- i - start_knot + 1\n",
    "  knot_combs[[j]] <- c(i)\n",
    "}"
   ]
  },
  {
   "cell_type": "code",
   "execution_count": 15,
   "id": "1f294215-79ef-48ef-bd26-18f0605cce6f",
   "metadata": {
    "execution": {
     "iopub.execute_input": "2024-06-23T22:08:25.456991Z",
     "iopub.status.busy": "2024-06-23T22:08:25.456382Z",
     "iopub.status.idle": "2024-06-23T22:08:25.460768Z",
     "shell.execute_reply": "2024-06-23T22:08:25.460050Z"
    },
    "vscode": {
     "languageId": "r"
    }
   },
   "outputs": [],
   "source": [
    "#knot_combs[[length(knot_combs)+1]] <- seq(from = 0, to = 80, by = 5)"
   ]
  },
  {
   "cell_type": "markdown",
   "id": "47ec63b4-0431-403d-88ac-09624fb10357",
   "metadata": {},
   "source": [
    "## Jersey"
   ]
  },
  {
   "cell_type": "code",
   "execution_count": 16,
   "id": "8ee84d1e-685d-45e9-b08d-042338e9cf0f",
   "metadata": {
    "execution": {
     "iopub.execute_input": "2024-06-23T22:08:25.463181Z",
     "iopub.status.busy": "2024-06-23T22:08:25.462582Z",
     "iopub.status.idle": "2024-06-23T22:08:37.756750Z",
     "shell.execute_reply": "2024-06-23T22:08:37.755828Z"
    },
    "vscode": {
     "languageId": "r"
    }
   },
   "outputs": [
    {
     "name": "stderr",
     "output_type": "stream",
     "text": [
      "Variance contained negative values in the diagonal and was 'fixed' (a la Cameron, Gelbach & Miller 2011).\n",
      "\n"
     ]
    },
    {
     "name": "stderr",
     "output_type": "stream",
     "text": [
      "Variance contained negative values in the diagonal and was 'fixed' (a la Cameron, Gelbach & Miller 2011).\n",
      "\n"
     ]
    },
    {
     "name": "stderr",
     "output_type": "stream",
     "text": [
      "Variance contained negative values in the diagonal and was 'fixed' (a la Cameron, Gelbach & Miller 2011).\n",
      "\n"
     ]
    },
    {
     "name": "stderr",
     "output_type": "stream",
     "text": [
      "Variance contained negative values in the diagonal and was 'fixed' (a la Cameron, Gelbach & Miller 2011).\n",
      "\n"
     ]
    },
    {
     "name": "stderr",
     "output_type": "stream",
     "text": [
      "Variance contained negative values in the diagonal and was 'fixed' (a la Cameron, Gelbach & Miller 2011).\n",
      "\n"
     ]
    },
    {
     "name": "stderr",
     "output_type": "stream",
     "text": [
      "Variance contained negative values in the diagonal and was 'fixed' (a la Cameron, Gelbach & Miller 2011).\n",
      "\n"
     ]
    },
    {
     "name": "stderr",
     "output_type": "stream",
     "text": [
      "Variance contained negative values in the diagonal and was 'fixed' (a la Cameron, Gelbach & Miller 2011).\n",
      "\n"
     ]
    },
    {
     "name": "stderr",
     "output_type": "stream",
     "text": [
      "Variance contained negative values in the diagonal and was 'fixed' (a la Cameron, Gelbach & Miller 2011).\n",
      "\n"
     ]
    },
    {
     "name": "stderr",
     "output_type": "stream",
     "text": [
      "Variance contained negative values in the diagonal and was 'fixed' (a la Cameron, Gelbach & Miller 2011).\n",
      "\n"
     ]
    },
    {
     "name": "stderr",
     "output_type": "stream",
     "text": [
      "Variance contained negative values in the diagonal and was 'fixed' (a la Cameron, Gelbach & Miller 2011).\n",
      "\n"
     ]
    },
    {
     "name": "stderr",
     "output_type": "stream",
     "text": [
      "Variance contained negative values in the diagonal and was 'fixed' (a la Cameron, Gelbach & Miller 2011).\n",
      "\n"
     ]
    },
    {
     "name": "stderr",
     "output_type": "stream",
     "text": [
      "Variance contained negative values in the diagonal and was 'fixed' (a la Cameron, Gelbach & Miller 2011).\n",
      "\n"
     ]
    },
    {
     "name": "stderr",
     "output_type": "stream",
     "text": [
      "Variance contained negative values in the diagonal and was 'fixed' (a la Cameron, Gelbach & Miller 2011).\n",
      "\n"
     ]
    },
    {
     "name": "stderr",
     "output_type": "stream",
     "text": [
      "Variance contained negative values in the diagonal and was 'fixed' (a la Cameron, Gelbach & Miller 2011).\n",
      "\n"
     ]
    },
    {
     "name": "stderr",
     "output_type": "stream",
     "text": [
      "Variance contained negative values in the diagonal and was 'fixed' (a la Cameron, Gelbach & Miller 2011).\n",
      "\n"
     ]
    },
    {
     "name": "stderr",
     "output_type": "stream",
     "text": [
      "Variance contained negative values in the diagonal and was 'fixed' (a la Cameron, Gelbach & Miller 2011).\n",
      "\n"
     ]
    },
    {
     "name": "stderr",
     "output_type": "stream",
     "text": [
      "Variance contained negative values in the diagonal and was 'fixed' (a la Cameron, Gelbach & Miller 2011).\n",
      "\n"
     ]
    },
    {
     "name": "stdout",
     "output_type": "stream",
     "text": [
      "12.288 sec elapsed\n"
     ]
    }
   ],
   "source": [
    "tic()\n",
    "je_model = run_models_with_knots(droplevels(je), knot_combs, dependent_var, weather_var)\n",
    "toc()"
   ]
  },
  {
   "cell_type": "code",
   "execution_count": 17,
   "id": "5e946937-f240-4dc8-9bc5-46cda5610a3f",
   "metadata": {
    "execution": {
     "iopub.execute_input": "2024-06-23T22:08:37.759392Z",
     "iopub.status.busy": "2024-06-23T22:08:37.758774Z",
     "iopub.status.idle": "2024-06-23T22:08:37.766586Z",
     "shell.execute_reply": "2024-06-23T22:08:37.765826Z"
    },
    "vscode": {
     "languageId": "r"
    }
   },
   "outputs": [
    {
     "data": {
      "text/html": [
       "'17_reduced_form_model_thi_mean_t0_3d_fixed_effect_2010-2023_2024_06_24_00_01_57_milk_jersey_model.Rdata'"
      ],
      "text/latex": [
       "'17\\_reduced\\_form\\_model\\_thi\\_mean\\_t0\\_3d\\_fixed\\_effect\\_2010-2023\\_2024\\_06\\_24\\_00\\_01\\_57\\_milk\\_jersey\\_model.Rdata'"
      ],
      "text/markdown": [
       "'17_reduced_form_model_thi_mean_t0_3d_fixed_effect_2010-2023_2024_06_24_00_01_57_milk_jersey_model.Rdata'"
      ],
      "text/plain": [
       "[1] \"17_reduced_form_model_thi_mean_t0_3d_fixed_effect_2010-2023_2024_06_24_00_01_57_milk_jersey_model.Rdata\""
      ]
     },
     "metadata": {},
     "output_type": "display_data"
    }
   ],
   "source": [
    "jersey_model_name <- paste0(concatenated_string, \"_jersey_model.Rdata\")\n",
    "jersey_model_name"
   ]
  },
  {
   "cell_type": "code",
   "execution_count": 18,
   "id": "a7c51863-3cc7-435f-86b6-f24efcb20990",
   "metadata": {
    "execution": {
     "iopub.execute_input": "2024-06-23T22:08:37.769023Z",
     "iopub.status.busy": "2024-06-23T22:08:37.768424Z",
     "iopub.status.idle": "2024-06-23T22:08:37.773724Z",
     "shell.execute_reply": "2024-06-23T22:08:37.772979Z"
    },
    "vscode": {
     "languageId": "r"
    }
   },
   "outputs": [],
   "source": [
    "if (save) {\n",
    "    tic()\n",
    "    saveRDS(je_model, file = jersey_model_name, compress=T)\n",
    "    toc()\n",
    "}"
   ]
  },
  {
   "cell_type": "code",
   "execution_count": 19,
   "id": "a140a1ef-a621-42af-9601-dfe8d17d25b1",
   "metadata": {
    "execution": {
     "iopub.execute_input": "2024-06-23T22:08:37.776123Z",
     "iopub.status.busy": "2024-06-23T22:08:37.775521Z",
     "iopub.status.idle": "2024-06-23T22:08:37.781908Z",
     "shell.execute_reply": "2024-06-23T22:08:37.781176Z"
    },
    "vscode": {
     "languageId": "r"
    }
   },
   "outputs": [
    {
     "data": {
      "text/html": [
       "53"
      ],
      "text/latex": [
       "53"
      ],
      "text/markdown": [
       "53"
      ],
      "text/plain": [
       "[1] 53"
      ]
     },
     "metadata": {},
     "output_type": "display_data"
    }
   ],
   "source": [
    "je_model$best_knot"
   ]
  },
  {
   "cell_type": "code",
   "execution_count": 20,
   "id": "642aaec2-e27c-478e-9a92-2b78c01c64b6",
   "metadata": {
    "execution": {
     "iopub.execute_input": "2024-06-23T22:08:37.784221Z",
     "iopub.status.busy": "2024-06-23T22:08:37.783630Z",
     "iopub.status.idle": "2024-06-23T22:08:37.800584Z",
     "shell.execute_reply": "2024-06-23T22:08:37.799854Z"
    },
    "vscode": {
     "languageId": "r"
    }
   },
   "outputs": [
    {
     "data": {
      "text/plain": [
       "OLS estimation, Dep. Var.: milk\n",
       "Observations: 507,584\n",
       "Fixed-effects: farmId: 3,751\n",
       "Standard-errors: Clustered (year & farmId) \n",
       "                                         Estimate Std. Error    t value   Pr(>|t|)    \n",
       "lspline(thi_mean_t0_3d, knots = c(53))1  0.045256   0.005672   7.979176 2.3009e-06 ***\n",
       "lspline(thi_mean_t0_3d, knots = c(53))2 -0.018461   0.005291  -3.489253 3.9956e-03 ** \n",
       "days_in_milk                            -0.029156   0.001433 -20.348567 3.0539e-11 ***\n",
       "lactationNumber                          0.572502   0.018367  31.169323 1.3298e-13 ***\n",
       "precip_mean_t0_3d                       -0.005502   0.007689  -0.715511 4.8695e-01    \n",
       "I(precip_mean_t0_3d^2)                  -0.000210   0.000234  -0.894683 3.8722e-01    \n",
       "year2011                                 0.048571   0.098945   0.490883 6.3169e-01    \n",
       "year2012                                 0.266286   0.060180   4.424803 6.8564e-04 ***\n",
       "year2013                                 0.152860   0.066572   2.296181 3.8934e-02 *  \n",
       "year2014                                 0.650115   0.142086   4.575496 5.2039e-04 ***\n",
       "year2015                                 0.590961   0.131310   4.500490 5.9675e-04 ***\n",
       "year2016                                 0.659044   0.187776   3.509741 3.8416e-03 ** \n",
       "year2017                                 0.905288   0.160576   5.637739 8.0946e-05 ***\n",
       "year2018                                 1.089391   0.102866  10.590384 9.2115e-08 ***\n",
       "year2019                                 1.410607   0.154003   9.159624 4.9326e-07 ***\n",
       "year2020                                 1.424182   0.169231   8.415629 1.2788e-06 ***\n",
       "year2021                                 1.470612   0.201072   7.313872 5.8838e-06 ***\n",
       "year2022                                 1.152205   0.183269   6.286957 2.8020e-05 ***\n",
       "year2023                                 1.114733   0.182017   6.124345 3.6348e-05 ***\n",
       "---\n",
       "Signif. codes:  0 '***' 0.001 '**' 0.01 '*' 0.05 '.' 0.1 ' ' 1\n",
       "RMSE: 3.86137     Adj. R2: 0.544833\n",
       "                Within R2: 0.423854"
      ]
     },
     "metadata": {},
     "output_type": "display_data"
    }
   ],
   "source": [
    "summary(je_model$best_model)"
   ]
  },
  {
   "cell_type": "code",
   "execution_count": 21,
   "id": "4e3198ba-3ceb-421d-aee8-d44688ecf2ab",
   "metadata": {
    "execution": {
     "iopub.execute_input": "2024-06-23T22:08:37.802915Z",
     "iopub.status.busy": "2024-06-23T22:08:37.802330Z",
     "iopub.status.idle": "2024-06-23T22:08:37.994158Z",
     "shell.execute_reply": "2024-06-23T22:08:37.993376Z"
    },
    "vscode": {
     "languageId": "r"
    }
   },
   "outputs": [
    {
     "name": "stderr",
     "output_type": "stream",
     "text": [
      "Warning message:\n",
      "“\u001b[1m\u001b[22mRemoved 38 rows containing missing values or values outside the scale range (`geom_line()`).”\n"
     ]
    },
    {
     "data": {
      "image/png": "[encoded data removed]",
      "text/plain": [
       "plot without title"
      ]
     },
     "metadata": {
      "image/png": {
       "height": 420,
       "width": 420
      }
     },
     "output_type": "display_data"
    }
   ],
   "source": [
    "je_p <- create_effect_plot(je, je_model$best_model, je_model$best_knot, dependent_var, weather_var, \"JE\")\n",
    "je_p$plot"
   ]
  },
  {
   "cell_type": "markdown",
   "id": "6df89c39-7af4-40e8-a377-167eaf503847",
   "metadata": {},
   "source": [
    "## Holstein"
   ]
  },
  {
   "cell_type": "code",
   "execution_count": 22,
   "id": "4cac70a6-3972-427c-9699-9f20a2f3a6c1",
   "metadata": {
    "execution": {
     "iopub.execute_input": "2024-06-23T22:08:37.996782Z",
     "iopub.status.busy": "2024-06-23T22:08:37.996175Z",
     "iopub.status.idle": "2024-06-23T22:12:05.278157Z",
     "shell.execute_reply": "2024-06-23T22:12:05.277172Z"
    },
    "vscode": {
     "languageId": "r"
    }
   },
   "outputs": [
    {
     "name": "stderr",
     "output_type": "stream",
     "text": [
      "Variance contained negative values in the diagonal and was 'fixed' (a la Cameron, Gelbach & Miller 2011).\n",
      "\n"
     ]
    },
    {
     "name": "stderr",
     "output_type": "stream",
     "text": [
      "Variance contained negative values in the diagonal and was 'fixed' (a la Cameron, Gelbach & Miller 2011).\n",
      "\n"
     ]
    },
    {
     "name": "stderr",
     "output_type": "stream",
     "text": [
      "Variance contained negative values in the diagonal and was 'fixed' (a la Cameron, Gelbach & Miller 2011).\n",
      "\n"
     ]
    },
    {
     "name": "stderr",
     "output_type": "stream",
     "text": [
      "Variance contained negative values in the diagonal and was 'fixed' (a la Cameron, Gelbach & Miller 2011).\n",
      "\n"
     ]
    },
    {
     "name": "stderr",
     "output_type": "stream",
     "text": [
      "Variance contained negative values in the diagonal and was 'fixed' (a la Cameron, Gelbach & Miller 2011).\n",
      "\n"
     ]
    },
    {
     "name": "stderr",
     "output_type": "stream",
     "text": [
      "Variance contained negative values in the diagonal and was 'fixed' (a la Cameron, Gelbach & Miller 2011).\n",
      "\n"
     ]
    },
    {
     "name": "stderr",
     "output_type": "stream",
     "text": [
      "Variance contained negative values in the diagonal and was 'fixed' (a la Cameron, Gelbach & Miller 2011).\n",
      "\n"
     ]
    },
    {
     "name": "stderr",
     "output_type": "stream",
     "text": [
      "Variance contained negative values in the diagonal and was 'fixed' (a la Cameron, Gelbach & Miller 2011).\n",
      "\n"
     ]
    },
    {
     "name": "stderr",
     "output_type": "stream",
     "text": [
      "Variance contained negative values in the diagonal and was 'fixed' (a la Cameron, Gelbach & Miller 2011).\n",
      "\n"
     ]
    },
    {
     "name": "stderr",
     "output_type": "stream",
     "text": [
      "Variance contained negative values in the diagonal and was 'fixed' (a la Cameron, Gelbach & Miller 2011).\n",
      "\n"
     ]
    },
    {
     "name": "stderr",
     "output_type": "stream",
     "text": [
      "Variance contained negative values in the diagonal and was 'fixed' (a la Cameron, Gelbach & Miller 2011).\n",
      "\n"
     ]
    },
    {
     "name": "stderr",
     "output_type": "stream",
     "text": [
      "Variance contained negative values in the diagonal and was 'fixed' (a la Cameron, Gelbach & Miller 2011).\n",
      "\n"
     ]
    },
    {
     "name": "stderr",
     "output_type": "stream",
     "text": [
      "Variance contained negative values in the diagonal and was 'fixed' (a la Cameron, Gelbach & Miller 2011).\n",
      "\n"
     ]
    },
    {
     "name": "stderr",
     "output_type": "stream",
     "text": [
      "Variance contained negative values in the diagonal and was 'fixed' (a la Cameron, Gelbach & Miller 2011).\n",
      "\n"
     ]
    },
    {
     "name": "stderr",
     "output_type": "stream",
     "text": [
      "Variance contained negative values in the diagonal and was 'fixed' (a la Cameron, Gelbach & Miller 2011).\n",
      "\n"
     ]
    },
    {
     "name": "stderr",
     "output_type": "stream",
     "text": [
      "Variance contained negative values in the diagonal and was 'fixed' (a la Cameron, Gelbach & Miller 2011).\n",
      "\n"
     ]
    },
    {
     "name": "stderr",
     "output_type": "stream",
     "text": [
      "Variance contained negative values in the diagonal and was 'fixed' (a la Cameron, Gelbach & Miller 2011).\n",
      "\n"
     ]
    },
    {
     "name": "stdout",
     "output_type": "stream",
     "text": [
      "207.274 sec elapsed\n"
     ]
    }
   ],
   "source": [
    "tic()\n",
    "ho_model = run_models_with_knots(ho, knot_combs, dependent_var, weather_var)\n",
    "toc()"
   ]
  },
  {
   "cell_type": "code",
   "execution_count": 23,
   "id": "6ba6c8c6-6dcc-4e07-8a02-3901be7e0072",
   "metadata": {
    "execution": {
     "iopub.execute_input": "2024-06-23T22:12:05.290807Z",
     "iopub.status.busy": "2024-06-23T22:12:05.290142Z",
     "iopub.status.idle": "2024-06-23T22:12:05.298411Z",
     "shell.execute_reply": "2024-06-23T22:12:05.297589Z"
    },
    "vscode": {
     "languageId": "r"
    }
   },
   "outputs": [
    {
     "data": {
      "text/html": [
       "'17_reduced_form_model_thi_mean_t0_3d_fixed_effect_2010-2023_2024_06_24_00_01_57_milk_ho_model.Rdata'"
      ],
      "text/latex": [
       "'17\\_reduced\\_form\\_model\\_thi\\_mean\\_t0\\_3d\\_fixed\\_effect\\_2010-2023\\_2024\\_06\\_24\\_00\\_01\\_57\\_milk\\_ho\\_model.Rdata'"
      ],
      "text/markdown": [
       "'17_reduced_form_model_thi_mean_t0_3d_fixed_effect_2010-2023_2024_06_24_00_01_57_milk_ho_model.Rdata'"
      ],
      "text/plain": [
       "[1] \"17_reduced_form_model_thi_mean_t0_3d_fixed_effect_2010-2023_2024_06_24_00_01_57_milk_ho_model.Rdata\""
      ]
     },
     "metadata": {},
     "output_type": "display_data"
    }
   ],
   "source": [
    "ho_model_name <- paste0(concatenated_string, \"_ho_model.Rdata\")\n",
    "ho_model_name"
   ]
  },
  {
   "cell_type": "code",
   "execution_count": 24,
   "id": "90c30b0a-3af4-484c-96f7-6ae1bc5ebd3d",
   "metadata": {
    "execution": {
     "iopub.execute_input": "2024-06-23T22:12:05.301452Z",
     "iopub.status.busy": "2024-06-23T22:12:05.300691Z",
     "iopub.status.idle": "2024-06-23T22:12:05.306776Z",
     "shell.execute_reply": "2024-06-23T22:12:05.306039Z"
    },
    "vscode": {
     "languageId": "r"
    }
   },
   "outputs": [],
   "source": [
    "if (save) {\n",
    "    tic()\n",
    "    saveRDS(ho_model, file = ho_model_name, compress=TRUE)\n",
    "    toc()\n",
    "}"
   ]
  },
  {
   "cell_type": "code",
   "execution_count": 25,
   "id": "ad6da065-18a3-4d80-a4c4-3ba98e3d3e32",
   "metadata": {
    "execution": {
     "iopub.execute_input": "2024-06-23T22:12:05.309136Z",
     "iopub.status.busy": "2024-06-23T22:12:05.308546Z",
     "iopub.status.idle": "2024-06-23T22:12:05.314821Z",
     "shell.execute_reply": "2024-06-23T22:12:05.314104Z"
    },
    "vscode": {
     "languageId": "r"
    }
   },
   "outputs": [
    {
     "data": {
      "text/html": [
       "52"
      ],
      "text/latex": [
       "52"
      ],
      "text/markdown": [
       "52"
      ],
      "text/plain": [
       "[1] 52"
      ]
     },
     "metadata": {},
     "output_type": "display_data"
    }
   ],
   "source": [
    "ho_model$best_knot"
   ]
  },
  {
   "cell_type": "code",
   "execution_count": 26,
   "id": "33b735f2-6430-4abb-9e3a-35e5bfa2aef6",
   "metadata": {
    "execution": {
     "iopub.execute_input": "2024-06-23T22:12:05.317176Z",
     "iopub.status.busy": "2024-06-23T22:12:05.316587Z",
     "iopub.status.idle": "2024-06-23T22:12:05.328747Z",
     "shell.execute_reply": "2024-06-23T22:12:05.328032Z"
    },
    "vscode": {
     "languageId": "r"
    }
   },
   "outputs": [
    {
     "data": {
      "text/plain": [
       "OLS estimation, Dep. Var.: milk\n",
       "Observations: 13,760,389\n",
       "Fixed-effects: farmId: 16,768\n",
       "Standard-errors: Clustered (year & farmId) \n",
       "                                         Estimate Std. Error    t value   Pr(>|t|)    \n",
       "lspline(thi_mean_t0_3d, knots = c(52))1  0.047179   0.002267  20.811990 2.2975e-11 ***\n",
       "lspline(thi_mean_t0_3d, knots = c(52))2 -0.034003   0.004135  -8.222650 1.6536e-06 ***\n",
       "days_in_milk                            -0.044441   0.000799 -55.628987  < 2.2e-16 ***\n",
       "lactationNumber                          0.946905   0.013476  70.266755  < 2.2e-16 ***\n",
       "precip_mean_t0_3d                       -0.001886   0.011987  -0.157296 8.7743e-01    \n",
       "I(precip_mean_t0_3d^2)                  -0.000472   0.000459  -1.026999 3.2315e-01    \n",
       "year2011                                 0.166990   0.009312  17.931917 1.4986e-10 ***\n",
       "year2012                                 0.202789   0.007951  25.505088 1.7337e-12 ***\n",
       "year2013                                -0.150063   0.014430 -10.399232 1.1403e-07 ***\n",
       "year2014                                 0.303898   0.020313  14.960451 1.4262e-09 ***\n",
       "year2015                                 0.564090   0.024589  22.940940 6.6837e-12 ***\n",
       "year2016                                 0.727420   0.035461  20.513448 2.7579e-11 ***\n",
       "year2017                                 0.823261   0.039801  20.684239 2.4835e-11 ***\n",
       "year2018                                 1.273814   0.044062  28.909743 3.4915e-13 ***\n",
       "year2019                                 1.362115   0.049939  27.275778 7.3538e-13 ***\n",
       "year2020                                 1.640145   0.055598  29.500007 2.6946e-13 ***\n",
       "year2021                                 1.888774   0.060488  31.225446 1.2994e-13 ***\n",
       "year2022                                 1.674341   0.063232  26.479419 1.0741e-12 ***\n",
       "year2023                                 1.860922   0.068088  27.331138 7.1655e-13 ***\n",
       "---\n",
       "Signif. codes:  0 '***' 0.001 '**' 0.01 '*' 0.05 '.' 0.1 ' ' 1\n",
       "RMSE: 5.39689     Adj. R2: 0.558611\n",
       "                Within R2: 0.476228"
      ]
     },
     "metadata": {},
     "output_type": "display_data"
    }
   ],
   "source": [
    "summary(ho_model$best_model)"
   ]
  },
  {
   "cell_type": "code",
   "execution_count": 27,
   "id": "63f32034-f5f5-4812-ada3-dcebe08cb653",
   "metadata": {
    "execution": {
     "iopub.execute_input": "2024-06-23T22:12:05.331151Z",
     "iopub.status.busy": "2024-06-23T22:12:05.330563Z",
     "iopub.status.idle": "2024-06-23T22:12:05.535717Z",
     "shell.execute_reply": "2024-06-23T22:12:05.534953Z"
    },
    "vscode": {
     "languageId": "r"
    }
   },
   "outputs": [
    {
     "name": "stderr",
     "output_type": "stream",
     "text": [
      "Warning message:\n",
      "“\u001b[1m\u001b[22mRemoved 41 rows containing missing values or values outside the scale range (`geom_line()`).”\n"
     ]
    },
    {
     "data": {
      "image/png": "[encoded data removed]",
      "text/plain": [
       "plot without title"
      ]
     },
     "metadata": {
      "image/png": {
       "height": 420,
       "width": 420
      }
     },
     "output_type": "display_data"
    }
   ],
   "source": [
    "ho_p <- create_effect_plot(ho, ho_model$best_model, ho_model$best_knot, dependent_var, weather_var, \"HO\")\n",
    "ho_p$plot"
   ]
  },
  {
   "cell_type": "markdown",
   "id": "45266f34-754a-4bb1-bcb5-74ea244207ad",
   "metadata": {},
   "source": [
    "## Brown Swiss"
   ]
  },
  {
   "cell_type": "code",
   "execution_count": 28,
   "id": "74b67fa0-3c18-41b6-819c-c066f7275cd5",
   "metadata": {
    "execution": {
     "iopub.execute_input": "2024-06-23T22:12:05.538318Z",
     "iopub.status.busy": "2024-06-23T22:12:05.537697Z",
     "iopub.status.idle": "2024-06-23T22:15:56.880904Z",
     "shell.execute_reply": "2024-06-23T22:15:56.880010Z"
    },
    "vscode": {
     "languageId": "r"
    }
   },
   "outputs": [
    {
     "name": "stderr",
     "output_type": "stream",
     "text": [
      "Variance contained negative values in the diagonal and was 'fixed' (a la Cameron, Gelbach & Miller 2011).\n",
      "\n"
     ]
    },
    {
     "name": "stderr",
     "output_type": "stream",
     "text": [
      "Variance contained negative values in the diagonal and was 'fixed' (a la Cameron, Gelbach & Miller 2011).\n",
      "\n"
     ]
    },
    {
     "name": "stderr",
     "output_type": "stream",
     "text": [
      "Variance contained negative values in the diagonal and was 'fixed' (a la Cameron, Gelbach & Miller 2011).\n",
      "\n"
     ]
    },
    {
     "name": "stderr",
     "output_type": "stream",
     "text": [
      "Variance contained negative values in the diagonal and was 'fixed' (a la Cameron, Gelbach & Miller 2011).\n",
      "\n"
     ]
    },
    {
     "name": "stderr",
     "output_type": "stream",
     "text": [
      "Variance contained negative values in the diagonal and was 'fixed' (a la Cameron, Gelbach & Miller 2011).\n",
      "\n"
     ]
    },
    {
     "name": "stderr",
     "output_type": "stream",
     "text": [
      "Variance contained negative values in the diagonal and was 'fixed' (a la Cameron, Gelbach & Miller 2011).\n",
      "\n"
     ]
    },
    {
     "name": "stderr",
     "output_type": "stream",
     "text": [
      "Variance contained negative values in the diagonal and was 'fixed' (a la Cameron, Gelbach & Miller 2011).\n",
      "\n"
     ]
    },
    {
     "name": "stderr",
     "output_type": "stream",
     "text": [
      "Variance contained negative values in the diagonal and was 'fixed' (a la Cameron, Gelbach & Miller 2011).\n",
      "\n"
     ]
    },
    {
     "name": "stderr",
     "output_type": "stream",
     "text": [
      "Variance contained negative values in the diagonal and was 'fixed' (a la Cameron, Gelbach & Miller 2011).\n",
      "\n"
     ]
    },
    {
     "name": "stderr",
     "output_type": "stream",
     "text": [
      "Variance contained negative values in the diagonal and was 'fixed' (a la Cameron, Gelbach & Miller 2011).\n",
      "\n"
     ]
    },
    {
     "name": "stderr",
     "output_type": "stream",
     "text": [
      "Variance contained negative values in the diagonal and was 'fixed' (a la Cameron, Gelbach & Miller 2011).\n",
      "\n"
     ]
    },
    {
     "name": "stderr",
     "output_type": "stream",
     "text": [
      "Variance contained negative values in the diagonal and was 'fixed' (a la Cameron, Gelbach & Miller 2011).\n",
      "\n"
     ]
    },
    {
     "name": "stderr",
     "output_type": "stream",
     "text": [
      "Variance contained negative values in the diagonal and was 'fixed' (a la Cameron, Gelbach & Miller 2011).\n",
      "\n"
     ]
    },
    {
     "name": "stderr",
     "output_type": "stream",
     "text": [
      "Variance contained negative values in the diagonal and was 'fixed' (a la Cameron, Gelbach & Miller 2011).\n",
      "\n"
     ]
    },
    {
     "name": "stderr",
     "output_type": "stream",
     "text": [
      "Variance contained negative values in the diagonal and was 'fixed' (a la Cameron, Gelbach & Miller 2011).\n",
      "\n"
     ]
    },
    {
     "name": "stderr",
     "output_type": "stream",
     "text": [
      "Variance contained negative values in the diagonal and was 'fixed' (a la Cameron, Gelbach & Miller 2011).\n",
      "\n"
     ]
    },
    {
     "name": "stderr",
     "output_type": "stream",
     "text": [
      "Variance contained negative values in the diagonal and was 'fixed' (a la Cameron, Gelbach & Miller 2011).\n",
      "\n"
     ]
    },
    {
     "name": "stdout",
     "output_type": "stream",
     "text": [
      "231.336 sec elapsed\n"
     ]
    }
   ],
   "source": [
    "tic()\n",
    "bs_model = run_models_with_knots(bs, knot_combs, dependent_var, weather_var)\n",
    "toc()"
   ]
  },
  {
   "cell_type": "code",
   "execution_count": 29,
   "id": "1bce08e1-bf80-4df1-b84b-b03bbb21a134",
   "metadata": {
    "execution": {
     "iopub.execute_input": "2024-06-23T22:15:56.894401Z",
     "iopub.status.busy": "2024-06-23T22:15:56.893773Z",
     "iopub.status.idle": "2024-06-23T22:15:56.901484Z",
     "shell.execute_reply": "2024-06-23T22:15:56.900734Z"
    },
    "vscode": {
     "languageId": "r"
    }
   },
   "outputs": [
    {
     "data": {
      "text/html": [
       "'17_reduced_form_model_thi_mean_t0_3d_fixed_effect_2010-2023_2024_06_24_00_01_57_milk_bs_model.Rdata'"
      ],
      "text/latex": [
       "'17\\_reduced\\_form\\_model\\_thi\\_mean\\_t0\\_3d\\_fixed\\_effect\\_2010-2023\\_2024\\_06\\_24\\_00\\_01\\_57\\_milk\\_bs\\_model.Rdata'"
      ],
      "text/markdown": [
       "'17_reduced_form_model_thi_mean_t0_3d_fixed_effect_2010-2023_2024_06_24_00_01_57_milk_bs_model.Rdata'"
      ],
      "text/plain": [
       "[1] \"17_reduced_form_model_thi_mean_t0_3d_fixed_effect_2010-2023_2024_06_24_00_01_57_milk_bs_model.Rdata\""
      ]
     },
     "metadata": {},
     "output_type": "display_data"
    }
   ],
   "source": [
    "bs_model_name <- paste0(concatenated_string, \"_bs_model.Rdata\")\n",
    "bs_model_name"
   ]
  },
  {
   "cell_type": "code",
   "execution_count": 30,
   "id": "a8aa8e33-e12d-49ff-aee5-46f6def7fd37",
   "metadata": {
    "execution": {
     "iopub.execute_input": "2024-06-23T22:15:56.904711Z",
     "iopub.status.busy": "2024-06-23T22:15:56.903864Z",
     "iopub.status.idle": "2024-06-23T22:15:56.910625Z",
     "shell.execute_reply": "2024-06-23T22:15:56.909758Z"
    },
    "vscode": {
     "languageId": "r"
    }
   },
   "outputs": [],
   "source": [
    "if (save) {\n",
    "    tic()\n",
    "    saveRDS(bs_model, file = bs_model_name, compress=T)\n",
    "    toc()\n",
    "}"
   ]
  },
  {
   "cell_type": "code",
   "execution_count": 31,
   "id": "415b619c-9280-49cd-b48f-407405f0dd9a",
   "metadata": {
    "execution": {
     "iopub.execute_input": "2024-06-23T22:15:56.913050Z",
     "iopub.status.busy": "2024-06-23T22:15:56.912422Z",
     "iopub.status.idle": "2024-06-23T22:15:56.919490Z",
     "shell.execute_reply": "2024-06-23T22:15:56.918717Z"
    },
    "vscode": {
     "languageId": "r"
    }
   },
   "outputs": [
    {
     "data": {
      "text/html": [
       "52"
      ],
      "text/latex": [
       "52"
      ],
      "text/markdown": [
       "52"
      ],
      "text/plain": [
       "[1] 52"
      ]
     },
     "metadata": {},
     "output_type": "display_data"
    }
   ],
   "source": [
    "bs_model$best_knot"
   ]
  },
  {
   "cell_type": "code",
   "execution_count": 32,
   "id": "89577147-29e6-47fa-a9b0-aedd0ffeebad",
   "metadata": {
    "execution": {
     "iopub.execute_input": "2024-06-23T22:15:56.921813Z",
     "iopub.status.busy": "2024-06-23T22:15:56.921185Z",
     "iopub.status.idle": "2024-06-23T22:15:56.934852Z",
     "shell.execute_reply": "2024-06-23T22:15:56.933927Z"
    },
    "vscode": {
     "languageId": "r"
    }
   },
   "outputs": [
    {
     "data": {
      "text/plain": [
       "OLS estimation, Dep. Var.: milk\n",
       "Observations: 15,256,283\n",
       "Fixed-effects: farmId: 14,886\n",
       "Standard-errors: Clustered (year & farmId) \n",
       "                                         Estimate Std. Error    t value   Pr(>|t|)    \n",
       "lspline(thi_mean_t0_3d, knots = c(52))1  0.016902   0.002179   7.758343 3.1235e-06 ***\n",
       "lspline(thi_mean_t0_3d, knots = c(52))2 -0.017630   0.003818  -4.617364 4.8224e-04 ***\n",
       "days_in_milk                            -0.035113   0.000520 -67.516539  < 2.2e-16 ***\n",
       "lactationNumber                          0.735419   0.006316 116.446160  < 2.2e-16 ***\n",
       "precip_mean_t0_3d                       -0.002903   0.007074  -0.410344 6.8824e-01    \n",
       "I(precip_mean_t0_3d^2)                  -0.000251   0.000209  -1.203053 2.5041e-01    \n",
       "year2011                                 0.043976   0.009537   4.611107 4.8775e-04 ***\n",
       "year2012                                 0.341206   0.004093  83.370770  < 2.2e-16 ***\n",
       "year2013                                 0.070267   0.004258  16.503668 4.2252e-10 ***\n",
       "year2014                                 0.495014   0.009107  54.353712  < 2.2e-16 ***\n",
       "year2015                                 0.509644   0.012742  39.996343 5.3662e-15 ***\n",
       "year2016                                 0.719242   0.017173  41.882785 2.9603e-15 ***\n",
       "year2017                                 0.877973   0.019597  44.800720 1.2403e-15 ***\n",
       "year2018                                 1.286744   0.021677  59.361141  < 2.2e-16 ***\n",
       "year2019                                 1.312544   0.024146  54.359334  < 2.2e-16 ***\n",
       "year2020                                 1.174239   0.025962  45.228589 1.0970e-15 ***\n",
       "year2021                                 1.344268   0.029163  46.095511 8.5827e-16 ***\n",
       "year2022                                 0.995649   0.030168  33.003531 6.3784e-14 ***\n",
       "year2023                                 0.953492   0.030248  31.522701 1.1505e-13 ***\n",
       "---\n",
       "Signif. codes:  0 '***' 0.001 '**' 0.01 '*' 0.05 '.' 0.1 ' ' 1\n",
       "RMSE: 4.68931     Adj. R2: 0.571844\n",
       "                Within R2: 0.453682"
      ]
     },
     "metadata": {},
     "output_type": "display_data"
    }
   ],
   "source": [
    "summary(bs_model$best_model)"
   ]
  },
  {
   "cell_type": "code",
   "execution_count": 33,
   "id": "7d913543-b61e-403d-8376-14987dd7e774",
   "metadata": {
    "execution": {
     "iopub.execute_input": "2024-06-23T22:15:56.937346Z",
     "iopub.status.busy": "2024-06-23T22:15:56.936722Z",
     "iopub.status.idle": "2024-06-23T22:15:57.102356Z",
     "shell.execute_reply": "2024-06-23T22:15:57.101474Z"
    },
    "vscode": {
     "languageId": "r"
    }
   },
   "outputs": [
    {
     "name": "stderr",
     "output_type": "stream",
     "text": [
      "Warning message:\n",
      "“\u001b[1m\u001b[22mRemoved 43 rows containing missing values or values outside the scale range (`geom_line()`).”\n"
     ]
    },
    {
     "data": {
      "image/png": "[encoded data removed]",
      "text/plain": [
       "plot without title"
      ]
     },
     "metadata": {
      "image/png": {
       "height": 420,
       "width": 420
      }
     },
     "output_type": "display_data"
    }
   ],
   "source": [
    "bs_p <- create_effect_plot(bs, bs_model$best_model, bs_model$best_knot, dependent_var, weather_var, \"BS\")\n",
    "bs_p$plot"
   ]
  },
  {
   "cell_type": "markdown",
   "id": "1be84693-5f85-4ed9-9ea3-b45e5304f759",
   "metadata": {},
   "source": [
    "## Simmental"
   ]
  },
  {
   "cell_type": "code",
   "execution_count": 34,
   "id": "26af0a76-ceaa-4e79-a1f5-4ec3e9ae0441",
   "metadata": {
    "execution": {
     "iopub.execute_input": "2024-06-23T22:15:57.105134Z",
     "iopub.status.busy": "2024-06-23T22:15:57.104469Z",
     "iopub.status.idle": "2024-06-23T22:16:28.798893Z",
     "shell.execute_reply": "2024-06-23T22:16:28.795974Z"
    },
    "vscode": {
     "languageId": "r"
    }
   },
   "outputs": [
    {
     "name": "stderr",
     "output_type": "stream",
     "text": [
      "Variance contained negative values in the diagonal and was 'fixed' (a la Cameron, Gelbach & Miller 2011).\n",
      "\n"
     ]
    },
    {
     "name": "stderr",
     "output_type": "stream",
     "text": [
      "Variance contained negative values in the diagonal and was 'fixed' (a la Cameron, Gelbach & Miller 2011).\n",
      "\n"
     ]
    },
    {
     "name": "stderr",
     "output_type": "stream",
     "text": [
      "Variance contained negative values in the diagonal and was 'fixed' (a la Cameron, Gelbach & Miller 2011).\n",
      "\n"
     ]
    },
    {
     "name": "stderr",
     "output_type": "stream",
     "text": [
      "Variance contained negative values in the diagonal and was 'fixed' (a la Cameron, Gelbach & Miller 2011).\n",
      "\n"
     ]
    },
    {
     "name": "stderr",
     "output_type": "stream",
     "text": [
      "Variance contained negative values in the diagonal and was 'fixed' (a la Cameron, Gelbach & Miller 2011).\n",
      "\n"
     ]
    },
    {
     "name": "stderr",
     "output_type": "stream",
     "text": [
      "Variance contained negative values in the diagonal and was 'fixed' (a la Cameron, Gelbach & Miller 2011).\n",
      "\n"
     ]
    },
    {
     "name": "stderr",
     "output_type": "stream",
     "text": [
      "Variance contained negative values in the diagonal and was 'fixed' (a la Cameron, Gelbach & Miller 2011).\n",
      "\n"
     ]
    },
    {
     "name": "stderr",
     "output_type": "stream",
     "text": [
      "Variance contained negative values in the diagonal and was 'fixed' (a la Cameron, Gelbach & Miller 2011).\n",
      "\n"
     ]
    },
    {
     "name": "stderr",
     "output_type": "stream",
     "text": [
      "Variance contained negative values in the diagonal and was 'fixed' (a la Cameron, Gelbach & Miller 2011).\n",
      "\n"
     ]
    },
    {
     "name": "stderr",
     "output_type": "stream",
     "text": [
      "Variance contained negative values in the diagonal and was 'fixed' (a la Cameron, Gelbach & Miller 2011).\n",
      "\n"
     ]
    },
    {
     "name": "stderr",
     "output_type": "stream",
     "text": [
      "Variance contained negative values in the diagonal and was 'fixed' (a la Cameron, Gelbach & Miller 2011).\n",
      "\n"
     ]
    },
    {
     "name": "stderr",
     "output_type": "stream",
     "text": [
      "Variance contained negative values in the diagonal and was 'fixed' (a la Cameron, Gelbach & Miller 2011).\n",
      "\n"
     ]
    },
    {
     "name": "stderr",
     "output_type": "stream",
     "text": [
      "Variance contained negative values in the diagonal and was 'fixed' (a la Cameron, Gelbach & Miller 2011).\n",
      "\n"
     ]
    },
    {
     "name": "stderr",
     "output_type": "stream",
     "text": [
      "Variance contained negative values in the diagonal and was 'fixed' (a la Cameron, Gelbach & Miller 2011).\n",
      "\n"
     ]
    },
    {
     "name": "stderr",
     "output_type": "stream",
     "text": [
      "Variance contained negative values in the diagonal and was 'fixed' (a la Cameron, Gelbach & Miller 2011).\n",
      "\n"
     ]
    },
    {
     "name": "stderr",
     "output_type": "stream",
     "text": [
      "Variance contained negative values in the diagonal and was 'fixed' (a la Cameron, Gelbach & Miller 2011).\n",
      "\n"
     ]
    },
    {
     "name": "stderr",
     "output_type": "stream",
     "text": [
      "Variance contained negative values in the diagonal and was 'fixed' (a la Cameron, Gelbach & Miller 2011).\n",
      "\n"
     ]
    },
    {
     "name": "stdout",
     "output_type": "stream",
     "text": [
      "31.682 sec elapsed\n"
     ]
    }
   ],
   "source": [
    "tic()\n",
    "si_model = run_models_with_knots(si, knot_combs, dependent_var, weather_var)\n",
    "toc()"
   ]
  },
  {
   "cell_type": "code",
   "execution_count": 35,
   "id": "084d03d7-e779-40fc-abac-4d18cf13560f",
   "metadata": {
    "execution": {
     "iopub.execute_input": "2024-06-23T22:16:28.809814Z",
     "iopub.status.busy": "2024-06-23T22:16:28.807882Z",
     "iopub.status.idle": "2024-06-23T22:16:28.834081Z",
     "shell.execute_reply": "2024-06-23T22:16:28.831798Z"
    },
    "vscode": {
     "languageId": "r"
    }
   },
   "outputs": [
    {
     "data": {
      "text/html": [
       "'17_reduced_form_model_thi_mean_t0_3d_fixed_effect_2010-2023_2024_06_24_00_01_57_milk_si_model.Rdata'"
      ],
      "text/latex": [
       "'17\\_reduced\\_form\\_model\\_thi\\_mean\\_t0\\_3d\\_fixed\\_effect\\_2010-2023\\_2024\\_06\\_24\\_00\\_01\\_57\\_milk\\_si\\_model.Rdata'"
      ],
      "text/markdown": [
       "'17_reduced_form_model_thi_mean_t0_3d_fixed_effect_2010-2023_2024_06_24_00_01_57_milk_si_model.Rdata'"
      ],
      "text/plain": [
       "[1] \"17_reduced_form_model_thi_mean_t0_3d_fixed_effect_2010-2023_2024_06_24_00_01_57_milk_si_model.Rdata\""
      ]
     },
     "metadata": {},
     "output_type": "display_data"
    }
   ],
   "source": [
    "si_model_name <- paste0(concatenated_string, \"_si_model.Rdata\")\n",
    "si_model_name"
   ]
  },
  {
   "cell_type": "code",
   "execution_count": 36,
   "id": "1b5f0645-f62c-477b-a503-80d0ede11c9d",
   "metadata": {
    "execution": {
     "iopub.execute_input": "2024-06-23T22:16:28.871804Z",
     "iopub.status.busy": "2024-06-23T22:16:28.850060Z",
     "iopub.status.idle": "2024-06-23T22:16:28.881676Z",
     "shell.execute_reply": "2024-06-23T22:16:28.880159Z"
    },
    "vscode": {
     "languageId": "r"
    }
   },
   "outputs": [],
   "source": [
    "if (save) {\n",
    "    tic()\n",
    "    saveRDS(si_model, file = si_model_name, compress=T)\n",
    "    toc()\n",
    "}"
   ]
  },
  {
   "cell_type": "code",
   "execution_count": 37,
   "id": "3a1758a4-a596-4be3-9c2f-0e497e5b4a7f",
   "metadata": {
    "execution": {
     "iopub.execute_input": "2024-06-23T22:16:28.885254Z",
     "iopub.status.busy": "2024-06-23T22:16:28.884293Z",
     "iopub.status.idle": "2024-06-23T22:16:28.896993Z",
     "shell.execute_reply": "2024-06-23T22:16:28.895520Z"
    },
    "vscode": {
     "languageId": "r"
    }
   },
   "outputs": [
    {
     "data": {
      "text/html": [
       "52"
      ],
      "text/latex": [
       "52"
      ],
      "text/markdown": [
       "52"
      ],
      "text/plain": [
       "[1] 52"
      ]
     },
     "metadata": {},
     "output_type": "display_data"
    }
   ],
   "source": [
    "si_model$best_knot"
   ]
  },
  {
   "cell_type": "code",
   "execution_count": 38,
   "id": "90ee105b-3cab-40ba-bfbe-2b932db949c6",
   "metadata": {
    "execution": {
     "iopub.execute_input": "2024-06-23T22:16:28.900666Z",
     "iopub.status.busy": "2024-06-23T22:16:28.899721Z",
     "iopub.status.idle": "2024-06-23T22:16:28.920349Z",
     "shell.execute_reply": "2024-06-23T22:16:28.919060Z"
    },
    "vscode": {
     "languageId": "r"
    }
   },
   "outputs": [
    {
     "data": {
      "text/plain": [
       "OLS estimation, Dep. Var.: milk\n",
       "Observations: 2,059,487\n",
       "Fixed-effects: farmId: 7,298\n",
       "Standard-errors: Clustered (year & farmId) \n",
       "                                         Estimate Std. Error     t value   Pr(>|t|)    \n",
       "lspline(thi_mean_t0_3d, knots = c(52))1  0.030683   0.002871   10.685650 8.2915e-08 ***\n",
       "lspline(thi_mean_t0_3d, knots = c(52))2 -0.036831   0.006461   -5.700422 7.2878e-05 ***\n",
       "days_in_milk                            -0.038477   0.000292 -131.836041  < 2.2e-16 ***\n",
       "lactationNumber                          0.737190   0.009539   77.280340  < 2.2e-16 ***\n",
       "precip_mean_t0_3d                        0.014903   0.010406    1.432100 1.7572e-01    \n",
       "I(precip_mean_t0_3d^2)                  -0.001082   0.000460   -2.352693 3.5050e-02 *  \n",
       "year2011                                -0.157329   0.016733   -9.402304 3.6605e-07 ***\n",
       "year2012                                -0.052966   0.005998   -8.830865 7.4601e-07 ***\n",
       "year2013                                -0.197200   0.007133  -27.647281 6.1850e-13 ***\n",
       "year2014                                -0.060316   0.020466   -2.947099 1.1335e-02 *  \n",
       "year2015                                -0.277763   0.027757  -10.007038 1.7846e-07 ***\n",
       "year2016                                 0.145832   0.028625    5.094602 2.0568e-04 ***\n",
       "year2017                                 0.087989   0.031036    2.835020 1.4055e-02 *  \n",
       "year2018                                 0.539314   0.035219   15.313161 1.0696e-09 ***\n",
       "year2019                                 0.374427   0.039312    9.524449 3.1572e-07 ***\n",
       "year2020                                 0.272714   0.040501    6.733509 1.3971e-05 ***\n",
       "year2021                                 0.445679   0.042588   10.464851 1.0594e-07 ***\n",
       "year2022                                 0.025082   0.046564    0.538667 5.9922e-01    \n",
       "year2023                                 0.187973   0.046460    4.045865 1.3871e-03 ** \n",
       "---\n",
       "Signif. codes:  0 '***' 0.001 '**' 0.01 '*' 0.05 '.' 0.1 ' ' 1\n",
       "RMSE: 3.88614     Adj. R2: 0.602139\n",
       "                Within R2: 0.489517"
      ]
     },
     "metadata": {},
     "output_type": "display_data"
    }
   ],
   "source": [
    "summary(si_model$best_model)"
   ]
  },
  {
   "cell_type": "code",
   "execution_count": 39,
   "id": "cb76c1f4-593f-483c-b2da-42062eaf310e",
   "metadata": {
    "execution": {
     "iopub.execute_input": "2024-06-23T22:16:28.923519Z",
     "iopub.status.busy": "2024-06-23T22:16:28.922702Z",
     "iopub.status.idle": "2024-06-23T22:16:29.150987Z",
     "shell.execute_reply": "2024-06-23T22:16:29.149402Z"
    },
    "vscode": {
     "languageId": "r"
    }
   },
   "outputs": [
    {
     "name": "stderr",
     "output_type": "stream",
     "text": [
      "Warning message:\n",
      "“\u001b[1m\u001b[22mRemoved 41 rows containing missing values or values outside the scale range (`geom_line()`).”\n"
     ]
    },
    {
     "data": {
      "image/png": "[encoded data removed]",
      "text/plain": [
       "plot without title"
      ]
     },
     "metadata": {
      "image/png": {
       "height": 420,
       "width": 420
      }
     },
     "output_type": "display_data"
    }
   ],
   "source": [
    "si_p <- create_effect_plot(si, si_model$best_model, si_model$best_knot, dependent_var, weather_var, \"SI\")\n",
    "si_p$plot"
   ]
  },
  {
   "cell_type": "markdown",
   "id": "4da41b9b-f8a7-41f2-9eea-5debc95d61e2",
   "metadata": {},
   "source": [
    "## Swiss Fleckvieh"
   ]
  },
  {
   "cell_type": "code",
   "execution_count": 40,
   "id": "6b26fe07-554a-4ab6-9b39-bee820e46198",
   "metadata": {
    "execution": {
     "iopub.execute_input": "2024-06-23T22:16:29.155234Z",
     "iopub.status.busy": "2024-06-23T22:16:29.154020Z",
     "iopub.status.idle": "2024-06-23T22:17:54.867027Z",
     "shell.execute_reply": "2024-06-23T22:17:54.865478Z"
    },
    "vscode": {
     "languageId": "r"
    }
   },
   "outputs": [
    {
     "name": "stderr",
     "output_type": "stream",
     "text": [
      "Variance contained negative values in the diagonal and was 'fixed' (a la Cameron, Gelbach & Miller 2011).\n",
      "\n"
     ]
    },
    {
     "name": "stderr",
     "output_type": "stream",
     "text": [
      "Variance contained negative values in the diagonal and was 'fixed' (a la Cameron, Gelbach & Miller 2011).\n",
      "\n"
     ]
    },
    {
     "name": "stderr",
     "output_type": "stream",
     "text": [
      "Variance contained negative values in the diagonal and was 'fixed' (a la Cameron, Gelbach & Miller 2011).\n",
      "\n"
     ]
    },
    {
     "name": "stderr",
     "output_type": "stream",
     "text": [
      "Variance contained negative values in the diagonal and was 'fixed' (a la Cameron, Gelbach & Miller 2011).\n",
      "\n"
     ]
    },
    {
     "name": "stderr",
     "output_type": "stream",
     "text": [
      "Variance contained negative values in the diagonal and was 'fixed' (a la Cameron, Gelbach & Miller 2011).\n",
      "\n"
     ]
    },
    {
     "name": "stderr",
     "output_type": "stream",
     "text": [
      "Variance contained negative values in the diagonal and was 'fixed' (a la Cameron, Gelbach & Miller 2011).\n",
      "\n"
     ]
    },
    {
     "name": "stderr",
     "output_type": "stream",
     "text": [
      "Variance contained negative values in the diagonal and was 'fixed' (a la Cameron, Gelbach & Miller 2011).\n",
      "\n"
     ]
    },
    {
     "name": "stderr",
     "output_type": "stream",
     "text": [
      "Variance contained negative values in the diagonal and was 'fixed' (a la Cameron, Gelbach & Miller 2011).\n",
      "\n"
     ]
    },
    {
     "name": "stderr",
     "output_type": "stream",
     "text": [
      "Variance contained negative values in the diagonal and was 'fixed' (a la Cameron, Gelbach & Miller 2011).\n",
      "\n"
     ]
    },
    {
     "name": "stderr",
     "output_type": "stream",
     "text": [
      "Variance contained negative values in the diagonal and was 'fixed' (a la Cameron, Gelbach & Miller 2011).\n",
      "\n"
     ]
    },
    {
     "name": "stderr",
     "output_type": "stream",
     "text": [
      "Variance contained negative values in the diagonal and was 'fixed' (a la Cameron, Gelbach & Miller 2011).\n",
      "\n"
     ]
    },
    {
     "name": "stderr",
     "output_type": "stream",
     "text": [
      "Variance contained negative values in the diagonal and was 'fixed' (a la Cameron, Gelbach & Miller 2011).\n",
      "\n"
     ]
    },
    {
     "name": "stderr",
     "output_type": "stream",
     "text": [
      "Variance contained negative values in the diagonal and was 'fixed' (a la Cameron, Gelbach & Miller 2011).\n",
      "\n"
     ]
    },
    {
     "name": "stderr",
     "output_type": "stream",
     "text": [
      "Variance contained negative values in the diagonal and was 'fixed' (a la Cameron, Gelbach & Miller 2011).\n",
      "\n"
     ]
    },
    {
     "name": "stderr",
     "output_type": "stream",
     "text": [
      "Variance contained negative values in the diagonal and was 'fixed' (a la Cameron, Gelbach & Miller 2011).\n",
      "\n"
     ]
    },
    {
     "name": "stderr",
     "output_type": "stream",
     "text": [
      "Variance contained negative values in the diagonal and was 'fixed' (a la Cameron, Gelbach & Miller 2011).\n",
      "\n"
     ]
    },
    {
     "name": "stderr",
     "output_type": "stream",
     "text": [
      "Variance contained negative values in the diagonal and was 'fixed' (a la Cameron, Gelbach & Miller 2011).\n",
      "\n"
     ]
    },
    {
     "name": "stdout",
     "output_type": "stream",
     "text": [
      "85.7 sec elapsed\n"
     ]
    }
   ],
   "source": [
    "tic()\n",
    "sf_model = run_models_with_knots(sf, knot_combs, dependent_var, weather_var)\n",
    "toc()"
   ]
  },
  {
   "cell_type": "code",
   "execution_count": 41,
   "id": "92fc0d30-a215-43c7-9e0c-fa3d88c83338",
   "metadata": {
    "execution": {
     "iopub.execute_input": "2024-06-23T22:17:54.875504Z",
     "iopub.status.busy": "2024-06-23T22:17:54.874528Z",
     "iopub.status.idle": "2024-06-23T22:17:54.889359Z",
     "shell.execute_reply": "2024-06-23T22:17:54.887910Z"
    },
    "vscode": {
     "languageId": "r"
    }
   },
   "outputs": [
    {
     "data": {
      "text/html": [
       "'17_reduced_form_model_thi_mean_t0_3d_fixed_effect_2010-2023_2024_06_24_00_01_57_milk_sf_model.Rdata'"
      ],
      "text/latex": [
       "'17\\_reduced\\_form\\_model\\_thi\\_mean\\_t0\\_3d\\_fixed\\_effect\\_2010-2023\\_2024\\_06\\_24\\_00\\_01\\_57\\_milk\\_sf\\_model.Rdata'"
      ],
      "text/markdown": [
       "'17_reduced_form_model_thi_mean_t0_3d_fixed_effect_2010-2023_2024_06_24_00_01_57_milk_sf_model.Rdata'"
      ],
      "text/plain": [
       "[1] \"17_reduced_form_model_thi_mean_t0_3d_fixed_effect_2010-2023_2024_06_24_00_01_57_milk_sf_model.Rdata\""
      ]
     },
     "metadata": {},
     "output_type": "display_data"
    }
   ],
   "source": [
    "sf_model_name <- paste0(concatenated_string, \"_sf_model.Rdata\")\n",
    "sf_model_name"
   ]
  },
  {
   "cell_type": "code",
   "execution_count": 42,
   "id": "cd788ec1-833e-4677-a75b-57db926410d7",
   "metadata": {
    "execution": {
     "iopub.execute_input": "2024-06-23T22:17:54.896274Z",
     "iopub.status.busy": "2024-06-23T22:17:54.893807Z",
     "iopub.status.idle": "2024-06-23T22:17:54.915226Z",
     "shell.execute_reply": "2024-06-23T22:17:54.912183Z"
    },
    "vscode": {
     "languageId": "r"
    }
   },
   "outputs": [],
   "source": [
    "if (save) {\n",
    "    tic()\n",
    "    saveRDS(sf_model, file = sf_model_name, compress=T)\n",
    "    toc()\n",
    "}"
   ]
  },
  {
   "cell_type": "code",
   "execution_count": 43,
   "id": "93df992b-e0a0-45ac-97ca-59799099a44e",
   "metadata": {
    "execution": {
     "iopub.execute_input": "2024-06-23T22:17:54.923275Z",
     "iopub.status.busy": "2024-06-23T22:17:54.921362Z",
     "iopub.status.idle": "2024-06-23T22:17:54.941825Z",
     "shell.execute_reply": "2024-06-23T22:17:54.940764Z"
    },
    "vscode": {
     "languageId": "r"
    }
   },
   "outputs": [
    {
     "data": {
      "text/html": [
       "53"
      ],
      "text/latex": [
       "53"
      ],
      "text/markdown": [
       "53"
      ],
      "text/plain": [
       "[1] 53"
      ]
     },
     "metadata": {},
     "output_type": "display_data"
    }
   ],
   "source": [
    "sf_model$best_knot"
   ]
  },
  {
   "cell_type": "code",
   "execution_count": 44,
   "id": "3d2ca0f4-cf94-43d5-b36c-cbb3d4ce959d",
   "metadata": {
    "execution": {
     "iopub.execute_input": "2024-06-23T22:17:54.946900Z",
     "iopub.status.busy": "2024-06-23T22:17:54.946256Z",
     "iopub.status.idle": "2024-06-23T22:17:54.960945Z",
     "shell.execute_reply": "2024-06-23T22:17:54.960157Z"
    },
    "vscode": {
     "languageId": "r"
    }
   },
   "outputs": [
    {
     "data": {
      "text/plain": [
       "OLS estimation, Dep. Var.: milk\n",
       "Observations: 6,464,685\n",
       "Fixed-effects: farmId: 16,347\n",
       "Standard-errors: Clustered (year & farmId) \n",
       "                                         Estimate Std. Error     t value   Pr(>|t|)    \n",
       "lspline(thi_mean_t0_3d, knots = c(53))1  0.047906   0.002741   17.474783 2.0703e-10 ***\n",
       "lspline(thi_mean_t0_3d, knots = c(53))2 -0.032277   0.004551   -7.092884 8.1362e-06 ***\n",
       "days_in_milk                            -0.043659   0.000386 -113.165779  < 2.2e-16 ***\n",
       "lactationNumber                          0.858037   0.020528   41.797368 3.0394e-15 ***\n",
       "precip_mean_t0_3d                        0.004071   0.010515    0.387172 7.0489e-01    \n",
       "I(precip_mean_t0_3d^2)                  -0.000566   0.000430   -1.314623 2.1136e-01    \n",
       "year2011                                -0.299014   0.004970  -60.167873  < 2.2e-16 ***\n",
       "year2012                                -0.078162   0.020831   -3.752115 2.4177e-03 ** \n",
       "year2013                                -0.082187   0.026281   -3.127218 8.0156e-03 ** \n",
       "year2014                                 0.367274   0.031289   11.738280 2.7213e-08 ***\n",
       "year2015                                 0.492544   0.030170   16.325728 4.8352e-10 ***\n",
       "year2016                                 0.578178   0.032264   17.920446 1.5106e-10 ***\n",
       "year2017                                 0.607191   0.032608   18.621070 9.3370e-11 ***\n",
       "year2018                                 0.882344   0.035204   25.063980 2.1659e-12 ***\n",
       "year2019                                 0.699653   0.036299   19.274487 6.0513e-11 ***\n",
       "year2020                                 0.661068   0.037918   17.434007 2.1317e-10 ***\n",
       "year2021                                 0.711270   0.038448   18.499548 1.0137e-10 ***\n",
       "year2022                                 0.217880   0.039431    5.525579 9.7809e-05 ***\n",
       "year2023                                 0.185442   0.040830    4.541770 5.5339e-04 ***\n",
       "---\n",
       "Signif. codes:  0 '***' 0.001 '**' 0.01 '*' 0.05 '.' 0.1 ' ' 1\n",
       "RMSE: 4.66271     Adj. R2: 0.585249\n",
       "                Within R2: 0.502076"
      ]
     },
     "metadata": {},
     "output_type": "display_data"
    }
   ],
   "source": [
    "summary(sf_model$best_model)"
   ]
  },
  {
   "cell_type": "code",
   "execution_count": 45,
   "id": "f9a3eee1-dddb-472e-9f53-9d85dc96e770",
   "metadata": {
    "execution": {
     "iopub.execute_input": "2024-06-23T22:17:54.963216Z",
     "iopub.status.busy": "2024-06-23T22:17:54.962611Z",
     "iopub.status.idle": "2024-06-23T22:17:55.096970Z",
     "shell.execute_reply": "2024-06-23T22:17:55.096208Z"
    },
    "vscode": {
     "languageId": "r"
    }
   },
   "outputs": [
    {
     "name": "stderr",
     "output_type": "stream",
     "text": [
      "Warning message:\n",
      "“\u001b[1m\u001b[22mRemoved 38 rows containing missing values or values outside the scale range (`geom_line()`).”\n"
     ]
    },
    {
     "data": {
      "image/png": "[encoded data removed]",
      "text/plain": [
       "plot without title"
      ]
     },
     "metadata": {
      "image/png": {
       "height": 420,
       "width": 420
      }
     },
     "output_type": "display_data"
    }
   ],
   "source": [
    "sf_p <- create_effect_plot(sf, sf_model$best_model, sf_model$best_knot, dependent_var, weather_var, \"SF\")\n",
    "sf_p$plot"
   ]
  },
  {
   "cell_type": "markdown",
   "id": "87f72462-dbce-4907-9de4-fc42017cd690",
   "metadata": {},
   "source": [
    "# Original Braunvieh"
   ]
  },
  {
   "cell_type": "code",
   "execution_count": 46,
   "id": "a87ba09c-e38f-49ce-b3d5-0623ed8b8260",
   "metadata": {
    "execution": {
     "iopub.execute_input": "2024-06-23T22:17:55.099542Z",
     "iopub.status.busy": "2024-06-23T22:17:55.098924Z",
     "iopub.status.idle": "2024-06-23T22:18:11.312723Z",
     "shell.execute_reply": "2024-06-23T22:18:11.311935Z"
    },
    "vscode": {
     "languageId": "r"
    }
   },
   "outputs": [
    {
     "name": "stderr",
     "output_type": "stream",
     "text": [
      "Variance contained negative values in the diagonal and was 'fixed' (a la Cameron, Gelbach & Miller 2011).\n",
      "\n"
     ]
    },
    {
     "name": "stderr",
     "output_type": "stream",
     "text": [
      "Variance contained negative values in the diagonal and was 'fixed' (a la Cameron, Gelbach & Miller 2011).\n",
      "\n"
     ]
    },
    {
     "name": "stderr",
     "output_type": "stream",
     "text": [
      "Variance contained negative values in the diagonal and was 'fixed' (a la Cameron, Gelbach & Miller 2011).\n",
      "\n"
     ]
    },
    {
     "name": "stderr",
     "output_type": "stream",
     "text": [
      "Variance contained negative values in the diagonal and was 'fixed' (a la Cameron, Gelbach & Miller 2011).\n",
      "\n"
     ]
    },
    {
     "name": "stderr",
     "output_type": "stream",
     "text": [
      "Variance contained negative values in the diagonal and was 'fixed' (a la Cameron, Gelbach & Miller 2011).\n",
      "\n"
     ]
    },
    {
     "name": "stderr",
     "output_type": "stream",
     "text": [
      "Variance contained negative values in the diagonal and was 'fixed' (a la Cameron, Gelbach & Miller 2011).\n",
      "\n"
     ]
    },
    {
     "name": "stderr",
     "output_type": "stream",
     "text": [
      "Variance contained negative values in the diagonal and was 'fixed' (a la Cameron, Gelbach & Miller 2011).\n",
      "\n"
     ]
    },
    {
     "name": "stderr",
     "output_type": "stream",
     "text": [
      "Variance contained negative values in the diagonal and was 'fixed' (a la Cameron, Gelbach & Miller 2011).\n",
      "\n"
     ]
    },
    {
     "name": "stderr",
     "output_type": "stream",
     "text": [
      "Variance contained negative values in the diagonal and was 'fixed' (a la Cameron, Gelbach & Miller 2011).\n",
      "\n"
     ]
    },
    {
     "name": "stderr",
     "output_type": "stream",
     "text": [
      "Variance contained negative values in the diagonal and was 'fixed' (a la Cameron, Gelbach & Miller 2011).\n",
      "\n"
     ]
    },
    {
     "name": "stderr",
     "output_type": "stream",
     "text": [
      "Variance contained negative values in the diagonal and was 'fixed' (a la Cameron, Gelbach & Miller 2011).\n",
      "\n"
     ]
    },
    {
     "name": "stderr",
     "output_type": "stream",
     "text": [
      "Variance contained negative values in the diagonal and was 'fixed' (a la Cameron, Gelbach & Miller 2011).\n",
      "\n"
     ]
    },
    {
     "name": "stderr",
     "output_type": "stream",
     "text": [
      "Variance contained negative values in the diagonal and was 'fixed' (a la Cameron, Gelbach & Miller 2011).\n",
      "\n"
     ]
    },
    {
     "name": "stderr",
     "output_type": "stream",
     "text": [
      "Variance contained negative values in the diagonal and was 'fixed' (a la Cameron, Gelbach & Miller 2011).\n",
      "\n"
     ]
    },
    {
     "name": "stderr",
     "output_type": "stream",
     "text": [
      "Variance contained negative values in the diagonal and was 'fixed' (a la Cameron, Gelbach & Miller 2011).\n",
      "\n"
     ]
    },
    {
     "name": "stderr",
     "output_type": "stream",
     "text": [
      "Variance contained negative values in the diagonal and was 'fixed' (a la Cameron, Gelbach & Miller 2011).\n",
      "\n"
     ]
    },
    {
     "name": "stderr",
     "output_type": "stream",
     "text": [
      "Variance contained negative values in the diagonal and was 'fixed' (a la Cameron, Gelbach & Miller 2011).\n",
      "\n"
     ]
    },
    {
     "name": "stdout",
     "output_type": "stream",
     "text": [
      "16.207 sec elapsed\n"
     ]
    }
   ],
   "source": [
    "tic()\n",
    "ob_model = run_models_with_knots(ob, knot_combs, dependent_var, weather_var)\n",
    "toc()"
   ]
  },
  {
   "cell_type": "code",
   "execution_count": 47,
   "id": "4e884e30-6ec9-4fc2-b284-4a6487172e2b",
   "metadata": {
    "execution": {
     "iopub.execute_input": "2024-06-23T22:18:11.315349Z",
     "iopub.status.busy": "2024-06-23T22:18:11.314763Z",
     "iopub.status.idle": "2024-06-23T22:18:11.321999Z",
     "shell.execute_reply": "2024-06-23T22:18:11.321284Z"
    },
    "vscode": {
     "languageId": "r"
    }
   },
   "outputs": [
    {
     "data": {
      "text/html": [
       "'17_reduced_form_model_thi_mean_t0_3d_fixed_effect_2010-2023_2024_06_24_00_01_57_milk_ob_model.Rdata'"
      ],
      "text/latex": [
       "'17\\_reduced\\_form\\_model\\_thi\\_mean\\_t0\\_3d\\_fixed\\_effect\\_2010-2023\\_2024\\_06\\_24\\_00\\_01\\_57\\_milk\\_ob\\_model.Rdata'"
      ],
      "text/markdown": [
       "'17_reduced_form_model_thi_mean_t0_3d_fixed_effect_2010-2023_2024_06_24_00_01_57_milk_ob_model.Rdata'"
      ],
      "text/plain": [
       "[1] \"17_reduced_form_model_thi_mean_t0_3d_fixed_effect_2010-2023_2024_06_24_00_01_57_milk_ob_model.Rdata\""
      ]
     },
     "metadata": {},
     "output_type": "display_data"
    }
   ],
   "source": [
    "ob_model_name <- paste0(concatenated_string, \"_ob_model.Rdata\")\n",
    "ob_model_name"
   ]
  },
  {
   "cell_type": "code",
   "execution_count": 48,
   "id": "fdab3587-2a61-4e9b-b26c-e6cea235920c",
   "metadata": {
    "execution": {
     "iopub.execute_input": "2024-06-23T22:18:11.324283Z",
     "iopub.status.busy": "2024-06-23T22:18:11.323701Z",
     "iopub.status.idle": "2024-06-23T22:18:11.328558Z",
     "shell.execute_reply": "2024-06-23T22:18:11.327852Z"
    },
    "vscode": {
     "languageId": "r"
    }
   },
   "outputs": [],
   "source": [
    "if (save) {\n",
    "    tic()\n",
    "    saveRDS(ob_model, file = ob_model_name, compress=T)\n",
    "    toc()\n",
    "}"
   ]
  },
  {
   "cell_type": "code",
   "execution_count": 49,
   "id": "6d576060-2b21-475d-bccf-837c2157a437",
   "metadata": {
    "execution": {
     "iopub.execute_input": "2024-06-23T22:18:11.330837Z",
     "iopub.status.busy": "2024-06-23T22:18:11.330260Z",
     "iopub.status.idle": "2024-06-23T22:18:11.336179Z",
     "shell.execute_reply": "2024-06-23T22:18:11.335479Z"
    },
    "vscode": {
     "languageId": "r"
    }
   },
   "outputs": [
    {
     "data": {
      "text/html": [
       "53"
      ],
      "text/latex": [
       "53"
      ],
      "text/markdown": [
       "53"
      ],
      "text/plain": [
       "[1] 53"
      ]
     },
     "metadata": {},
     "output_type": "display_data"
    }
   ],
   "source": [
    "ob_model$best_knot"
   ]
  },
  {
   "cell_type": "code",
   "execution_count": 50,
   "id": "6c73cc59-b92a-4462-85bf-924d815557aa",
   "metadata": {
    "execution": {
     "iopub.execute_input": "2024-06-23T22:18:11.338354Z",
     "iopub.status.busy": "2024-06-23T22:18:11.337759Z",
     "iopub.status.idle": "2024-06-23T22:18:11.349747Z",
     "shell.execute_reply": "2024-06-23T22:18:11.349041Z"
    },
    "vscode": {
     "languageId": "r"
    }
   },
   "outputs": [
    {
     "data": {
      "text/plain": [
       "OLS estimation, Dep. Var.: milk\n",
       "Observations: 1,210,964\n",
       "Fixed-effects: farmId: 5,321\n",
       "Standard-errors: Clustered (year & farmId) \n",
       "                                         Estimate Std. Error     t value   Pr(>|t|)    \n",
       "lspline(thi_mean_t0_3d, knots = c(53))1  0.018257   0.002523    7.236497 6.5862e-06 ***\n",
       "lspline(thi_mean_t0_3d, knots = c(53))2 -0.022579   0.005873   -3.844472 2.0287e-03 ** \n",
       "days_in_milk                            -0.035173   0.000322 -109.201059  < 2.2e-16 ***\n",
       "lactationNumber                          0.713973   0.016325   43.734823 1.6930e-15 ***\n",
       "precip_mean_t0_3d                        0.002947   0.006860    0.429691 6.7446e-01    \n",
       "I(precip_mean_t0_3d^2)                  -0.000365   0.000255   -1.431790 1.7581e-01    \n",
       "year2011                                -0.005706   0.028616   -0.199405 8.4503e-01    \n",
       "year2012                                 0.177418   0.017396   10.198590 1.4315e-07 ***\n",
       "year2013                                 0.072844   0.006971   10.449322 1.0780e-07 ***\n",
       "year2014                                 0.297370   0.019417   15.314748 1.0682e-09 ***\n",
       "year2015                                 0.192933   0.035902    5.373805 1.2671e-04 ***\n",
       "year2016                                 0.270867   0.050136    5.402601 1.2060e-04 ***\n",
       "year2017                                 0.330043   0.053895    6.123843 3.6377e-05 ***\n",
       "year2018                                 0.753718   0.057314   13.150692 6.9168e-09 ***\n",
       "year2019                                 0.733624   0.061806   11.869849 2.3815e-08 ***\n",
       "year2020                                 0.631036   0.063325    9.964986 1.8739e-07 ***\n",
       "year2021                                 0.689435   0.068044   10.132158 1.5447e-07 ***\n",
       "year2022                                 0.201473   0.069697    2.890674 1.2632e-02 *  \n",
       "year2023                                 0.209636   0.070648    2.967313 1.0903e-02 *  \n",
       "---\n",
       "Signif. codes:  0 '***' 0.001 '**' 0.01 '*' 0.05 '.' 0.1 ' ' 1\n",
       "RMSE: 4.00993     Adj. R2: 0.590887\n",
       "                Within R2: 0.475026"
      ]
     },
     "metadata": {},
     "output_type": "display_data"
    }
   ],
   "source": [
    "summary(ob_model$best_model)"
   ]
  },
  {
   "cell_type": "code",
   "execution_count": 51,
   "id": "8c5e7189-4c89-4817-a91b-0cf069649a9f",
   "metadata": {
    "execution": {
     "iopub.execute_input": "2024-06-23T22:18:11.352006Z",
     "iopub.status.busy": "2024-06-23T22:18:11.351421Z",
     "iopub.status.idle": "2024-06-23T22:18:11.465990Z",
     "shell.execute_reply": "2024-06-23T22:18:11.465230Z"
    },
    "vscode": {
     "languageId": "r"
    }
   },
   "outputs": [
    {
     "name": "stderr",
     "output_type": "stream",
     "text": [
      "Warning message:\n",
      "“\u001b[1m\u001b[22mRemoved 42 rows containing missing values or values outside the scale range (`geom_line()`).”\n"
     ]
    },
    {
     "data": {
      "image/png": "[encoded data removed]",
      "text/plain": [
       "plot without title"
      ]
     },
     "metadata": {
      "image/png": {
       "height": 420,
       "width": 420
      }
     },
     "output_type": "display_data"
    }
   ],
   "source": [
    "ob_p <- create_effect_plot(ob, ob_model$best_model, ob_model$best_knot, dependent_var, weather_var, \"OB\")\n",
    "ob_p$plot"
   ]
  },
  {
   "cell_type": "markdown",
   "id": "62d87ef9-7308-4550-8a96-00c809bb579f",
   "metadata": {},
   "source": [
    "## Merge data"
   ]
  },
  {
   "cell_type": "code",
   "execution_count": 52,
   "id": "d7387ef5-7381-4287-bcf1-43513897f8f0",
   "metadata": {
    "execution": {
     "iopub.execute_input": "2024-06-23T22:18:11.468742Z",
     "iopub.status.busy": "2024-06-23T22:18:11.468143Z",
     "iopub.status.idle": "2024-06-23T22:18:47.503962Z",
     "shell.execute_reply": "2024-06-23T22:18:47.499331Z"
    },
    "vscode": {
     "languageId": "r"
    }
   },
   "outputs": [],
   "source": [
    "breed_effect_data <- merge_plot_data(list(ho_p$data, bs_p$data, sf_p$data, si_p$data, bs_p$data, je_p$data, ob_p$data))\n",
    "saveRDS(ob_model, file = paste0(concatenated_string, \"_plot_data.Rdata\"), compress=T)"
   ]
  },
  {
   "cell_type": "code",
   "execution_count": 53,
   "id": "53c3c9bc-2698-47cb-8891-58a4a9a3da21",
   "metadata": {
    "execution": {
     "iopub.execute_input": "2024-06-23T22:18:47.556213Z",
     "iopub.status.busy": "2024-06-23T22:18:47.535585Z",
     "iopub.status.idle": "2024-06-23T22:18:47.705897Z",
     "shell.execute_reply": "2024-06-23T22:18:47.684078Z"
    },
    "vscode": {
     "languageId": "r"
    }
   },
   "outputs": [],
   "source": [
    "# Function to plot merged data\n",
    "plot_merged_data <- function(merged_data, predictor_var) {\n",
    "  # Create the plot\n",
    "    \n",
    "    y_min <- min(merged_data$Lower)\n",
    "    y_max <- max(merged_data$Upper)\n",
    "    plot <- ggplot(merged_data, aes(x = predictor_range, y = Effect, color = breed, fill = breed)) +\n",
    "    geom_line() +\n",
    "    geom_ribbon(aes(ymin = Lower, ymax = Upper), alpha = 0.3) +\n",
    "    labs(\n",
    "      title = paste0(\"Effect of\", predictor_var, \" per breed\"),\n",
    "      x = \"Predictor Variable Range\",\n",
    "      y = \"Effect\"\n",
    "    ) +\n",
    "    theme_minimal() +\n",
    "    scale_x_continuous(breaks = seq(40,  max(merged_data$predictor_range), by = 10), limits = c(40, max(merged_data$predictor_range))) +\n",
    "    scale_y_continuous(limits = c(y_min, y_max)) +\n",
    "    theme(\n",
    "      plot.title = element_text(hjust = 0.5),\n",
    "      plot.title.position = \"plot\",\n",
    "      axis.title.x = element_text(hjust = 0.5),\n",
    "      axis.title.y = element_text(hjust = 0.5)\n",
    "    ) +\n",
    "    facet_wrap(~ breed)\n",
    "  \n",
    "  \n",
    "  return(plot)\n",
    "}"
   ]
  },
  {
   "cell_type": "code",
   "execution_count": 54,
   "id": "6c0e96e2-74b3-448e-8c06-ce2bf91aeb30",
   "metadata": {
    "execution": {
     "iopub.execute_input": "2024-06-23T22:18:47.771931Z",
     "iopub.status.busy": "2024-06-23T22:18:47.750901Z",
     "iopub.status.idle": "2024-06-23T22:18:50.571144Z",
     "shell.execute_reply": "2024-06-23T22:18:50.570399Z"
    },
    "vscode": {
     "languageId": "r"
    }
   },
   "outputs": [
    {
     "name": "stderr",
     "output_type": "stream",
     "text": [
      "Warning message:\n",
      "“\u001b[1m\u001b[22mRemoved 286 rows containing missing values or values outside the scale range (`geom_line()`).”\n"
     ]
    },
    {
     "data": {
      "image/png": "[encoded data removed]",
      "text/plain": [
       "plot without title"
      ]
     },
     "metadata": {
      "image/png": {
       "height": 420,
       "width": 420
      }
     },
     "output_type": "display_data"
    }
   ],
   "source": [
    "plot_merged_data(breed_effect_data, weather_var)"
   ]
  }
 ],
 "metadata": {
  "kernelspec": {
   "display_name": "R",
   "language": "R",
   "name": "ir"
  },
  "language_info": {
   "codemirror_mode": "r",
   "file_extension": ".r",
   "mimetype": "text/x-r-source",
   "name": "R",
   "pygments_lexer": "r",
   "version": "4.3.1"
  }
 },
 "nbformat": 4,
 "nbformat_minor": 5
}
