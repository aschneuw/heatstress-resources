{
 "cells": [
  {
   "cell_type": "markdown",
   "id": "c2c9496c-1c4c-4462-a310-d1cf26c3d966",
   "metadata": {},
   "source": [
    "# Heat Stress Project - Fat"
   ]
  },
  {
   "cell_type": "markdown",
   "id": "4392f814-ee10-4530-83f1-289ae0d08075",
   "metadata": {},
   "source": [
    "# R Packages"
   ]
  },
  {
   "cell_type": "code",
   "execution_count": 1,
   "id": "ab732adf-9d48-4fd2-83c8-7115fbe5ffec",
   "metadata": {
    "execution": {
     "iopub.execute_input": "2024-06-24T00:16:54.212984Z",
     "iopub.status.busy": "2024-06-24T00:16:54.211814Z",
     "iopub.status.idle": "2024-06-24T00:16:55.924801Z",
     "shell.execute_reply": "2024-06-24T00:16:55.923872Z"
    },
    "vscode": {
     "languageId": "r"
    }
   },
   "outputs": [],
   "source": [
    "suppressPackageStartupMessages({\n",
    "  library(mgcv)\n",
    "  library(arrow)\n",
    "  library(dplyr)\n",
    "  library(tictoc)\n",
    "  library(fixest)\n",
    "  library(plm)\n",
    "  library(lspline)\n",
    "  library(lmerTest)\n",
    "  library(ggplot2)\n",
    "  library(car)\n",
    "  library(tidyverse)\n",
    "  library(lmtest)\n",
    "  library(rsample)\n",
    "  library(rlang)\n",
    "})\n",
    "options(width=1000)"
   ]
  },
  {
   "cell_type": "markdown",
   "id": "7b79ee07-be48-4182-9e1d-5b8e90796ee0",
   "metadata": {},
   "source": [
    "# Experiment Parameters"
   ]
  },
  {
   "cell_type": "code",
   "execution_count": 2,
   "id": "567b4c95-4615-4a4d-89f7-69ad7e582d6d",
   "metadata": {
    "execution": {
     "iopub.execute_input": "2024-06-24T00:16:55.941921Z",
     "iopub.status.busy": "2024-06-24T00:16:55.927387Z",
     "iopub.status.idle": "2024-06-24T00:16:55.960979Z",
     "shell.execute_reply": "2024-06-24T00:16:55.960211Z"
    },
    "vscode": {
     "languageId": "r"
    }
   },
   "outputs": [
    {
     "data": {
      "text/html": [
       "'17_reduced_form_model_thi_mean_t0_3d_fixed_effect_1980-2023_2024_06_24_02_16_55_fat'"
      ],
      "text/latex": [
       "'17\\_reduced\\_form\\_model\\_thi\\_mean\\_t0\\_3d\\_fixed\\_effect\\_1980-2023\\_2024\\_06\\_24\\_02\\_16\\_55\\_fat'"
      ],
      "text/markdown": [
       "'17_reduced_form_model_thi_mean_t0_3d_fixed_effect_1980-2023_2024_06_24_02_16_55_fat'"
      ],
      "text/plain": [
       "[1] \"17_reduced_form_model_thi_mean_t0_3d_fixed_effect_1980-2023_2024_06_24_02_16_55_fat\""
      ]
     },
     "metadata": {},
     "output_type": "display_data"
    }
   ],
   "source": [
    "set.seed(2024)\n",
    "period <- 1980:2023\n",
    "month <- 4:10\n",
    "start <- min(period)\n",
    "stop <- max(period)\n",
    "subsample <- F\n",
    "diagnostic <- F\n",
    "save <- F\n",
    "sample_size <- 100000\n",
    "dependent_var <- \"fat\"\n",
    "weather_var <- \"thi_mean_t0_3d\"\n",
    "breeds <- c(\"HO\", \"JE\", \"SI\", \"SF\", \"BS\", \"OB\")\n",
    "start_knot <- 35\n",
    "stop_knot <- 60\n",
    "concatenated_string <- paste0(\"17_reduced_form_model_thi_mean_t0_3d_fixed_effect_\", start, \"-\", stop, \"_\", format(Sys.time(), \"%Y_%m_%d_%H_%M_%S\"), \"_\", dependent_var)\n",
    "concatenated_string"
   ]
  },
  {
   "cell_type": "markdown",
   "id": "c760df71-db97-4415-8386-e044c449f77b",
   "metadata": {},
   "source": [
    "# Custom Functions"
   ]
  },
  {
   "cell_type": "code",
   "execution_count": 3,
   "id": "6f08bb6a-45f9-449f-8cfb-61b054c2a534",
   "metadata": {
    "execution": {
     "iopub.execute_input": "2024-06-24T00:16:55.963633Z",
     "iopub.status.busy": "2024-06-24T00:16:55.963001Z",
     "iopub.status.idle": "2024-06-24T00:16:55.968716Z",
     "shell.execute_reply": "2024-06-24T00:16:55.967974Z"
    },
    "vscode": {
     "languageId": "r"
    }
   },
   "outputs": [],
   "source": [
    "generate_diagnostic_plots <- function(model) {\n",
    "  # Extract fitted values and residuals\n",
    "  fitted_values <- fitted(model)\n",
    "  residuals <- residuals(model)\n",
    "  \n",
    "  # Create a data frame for plotting\n",
    "  plot_data <- data.frame(fitted_values = fitted_values, residuals = residuals)\n",
    "  print(nrow(plot_data))\n",
    "  \n",
    "  # Residuals vs Fitted Values Plot / Linearity & Homoscedacity\n",
    "  p1 <- ggplot(plot_data, aes(x = fitted_values, y = residuals)) +\n",
    "    geom_point(alpha = 0.5) +                       # Scatter plot of residuals\n",
    "    geom_smooth(method = \"loess\", col = \"red\", se = FALSE) +    # Smooth curve (loess)\n",
    "    labs(title = \"Residuals vs. Fitted Values\",\n",
    "         x = \"Fitted Values\",\n",
    "         y = \"Residuals\") +\n",
    "    theme_minimal() +\n",
    "    geom_hline(yintercept = 0, linetype = \"dashed\", color = \"blue\")\n",
    "  \n",
    "  # Normal distribution of residuals\n",
    "  p2 <- ggplot(plot_data, aes(sample = residuals)) +\n",
    "    stat_qq() +\n",
    "    stat_qq_line() +\n",
    "    labs(title = \"Normal Q-Q\",\n",
    "         x = \"Theoretical Quantiles\",\n",
    "         y = \"Residuals\") +\n",
    "    theme_minimal()\n",
    "  \n",
    "  # Scale-Location Plot (Homoscedacity - normally distributed standard error)\n",
    "  plot_data$std_residuals <- scale(residuals)\n",
    "  plot_data$abs_sqrt_residuals <- sqrt(abs(plot_data$std_residuals))\n",
    "  \n",
    "  p3 <- ggplot(plot_data, aes(fitted_values, abs_sqrt_residuals)) +\n",
    "    geom_point() +\n",
    "    geom_smooth(method = \"loess\", col = \"red\", se = FALSE) +\n",
    "    labs(title = \"Scale-Location Plot\",\n",
    "         x = \"Fitted values\",\n",
    "         y = \"√|Standardized residuals|\") +\n",
    "    theme_minimal()\n",
    "\n",
    "  p4 <- ggplot(plot_data, aes(x = residuals)) +\n",
    "    geom_histogram(binwidth = 0.5, fill = \"blue\", color = \"black\") +\n",
    "    labs(title = \"Histogram of Residuals\", x = \"Residuals\", y = \"Frequency\") +\n",
    "    theme_minimal()\n",
    " \n",
    "  # Return the plots as a list\n",
    "  list(\n",
    "    Residuals_vs_Fitted = p1,\n",
    "    Normal_QQ = p2,\n",
    "    Scale_Location = p3,\n",
    "    Residual_hist = p4\n",
    "  )\n",
    "}"
   ]
  },
  {
   "cell_type": "code",
   "execution_count": 4,
   "id": "618a30c9-d484-4d74-86e5-1c60361da06d",
   "metadata": {
    "execution": {
     "iopub.execute_input": "2024-06-24T00:16:55.971254Z",
     "iopub.status.busy": "2024-06-24T00:16:55.970655Z",
     "iopub.status.idle": "2024-06-24T00:16:55.977166Z",
     "shell.execute_reply": "2024-06-24T00:16:55.976424Z"
    },
    "vscode": {
     "languageId": "r"
    }
   },
   "outputs": [],
   "source": [
    "create_effect_plot <- function(data, model, knot, response_var, predictor_var, breed) {\n",
    "  # Create the range for the predictor variable\n",
    "  predictor_range <- seq(ceiling(min(data[predictor_var], na.rm = TRUE)), floor(max(data[predictor_var], na.rm = TRUE)))\n",
    "  # Calculate the effect\n",
    "  effect <- lspline(predictor_range, knots = knot) %*% coeftest(model)[,1][1:(length(knot)+1)]\n",
    "  \n",
    "  # Calculate the confidence intervals\n",
    "  effect_error_min <- effect - ((lspline(predictor_range, knots = knot)) %*% (abs(coeftest(model)[,2][1:(length(knot)+1)] * 1.96)))\n",
    "  effect_error_max <- effect + ((lspline(predictor_range, knots = knot)) %*% (abs(coeftest(model)[,2][1:(length(knot)+1)] * 1.96)))\n",
    "  \n",
    "  # Create the data frame for plotting\n",
    "  data_plot <- data.frame(\n",
    "    breed = breed,\n",
    "    predictor_range, \n",
    "    Effect = effect, \n",
    "    Lower = effect_error_min, \n",
    "    Upper = effect_error_max\n",
    "  )\n",
    "  \n",
    "  # Create the plot\n",
    "  plot <- ggplot(data_plot, aes(x = predictor_range, y = Effect)) +\n",
    "    geom_line(color = \"blue\") +\n",
    "    geom_ribbon(aes(ymin = Lower, ymax = Upper), alpha = 0.3, fill = \"blue\") +\n",
    "    labs(\n",
    "      title = paste(\"Effect of\", predictor_var, \"with Confidence Intervals\"),\n",
    "      x = paste(predictor_var, \"Range\"),\n",
    "      y = \"Effect\"\n",
    "    ) +\n",
    "    theme_minimal() + \n",
    "    scale_x_continuous(breaks = seq(40, 90, by = 10), limits = c(40, max(predictor_range))) +\n",
    "    theme(\n",
    "      plot.title = element_text(hjust = 0.5),\n",
    "      plot.title.position = \"plot\",\n",
    "      axis.title.x = element_text(hjust = 0.5),\n",
    "      axis.title.y = element_text(hjust = 0.5)\n",
    "    )\n",
    "  \n",
    "  return(list(plot = plot, data = data_plot))\n",
    "}\n",
    "\n",
    "merge_plot_data <- function(plot_data_list) {\n",
    "  # Combine the data frames from each plot into one data frame\n",
    "  merged_data <- bind_rows(plot_data_list)\n",
    "  \n",
    "  return(merged_data)\n",
    "}"
   ]
  },
  {
   "cell_type": "markdown",
   "id": "bae02f6f-4e0c-420c-bcf6-be06dc0d203f",
   "metadata": {},
   "source": [
    "# Load Data"
   ]
  },
  {
   "cell_type": "code",
   "execution_count": 5,
   "id": "1b4a878c-da52-4dda-bafb-8c8f1d9dbc05",
   "metadata": {
    "execution": {
     "iopub.execute_input": "2024-06-24T00:16:55.979689Z",
     "iopub.status.busy": "2024-06-24T00:16:55.979076Z",
     "iopub.status.idle": "2024-06-24T00:17:04.350361Z",
     "shell.execute_reply": "2024-06-24T00:17:04.349385Z"
    },
    "vscode": {
     "languageId": "r"
    }
   },
   "outputs": [],
   "source": [
    "milk_data <- read_parquet(\"/home/aschneuwl/workspace/agecon-thesis/notebooks/02_models/12_base_data.parquet\")"
   ]
  },
  {
   "cell_type": "code",
   "execution_count": 6,
   "id": "3b43fd3f-2220-4c57-acb6-6730b746bf64",
   "metadata": {
    "execution": {
     "iopub.execute_input": "2024-06-24T00:17:04.353578Z",
     "iopub.status.busy": "2024-06-24T00:17:04.352945Z",
     "iopub.status.idle": "2024-06-24T00:19:04.928585Z",
     "shell.execute_reply": "2024-06-24T00:19:04.927477Z"
    },
    "vscode": {
     "languageId": "r"
    }
   },
   "outputs": [],
   "source": [
    "milk_data$animalBreedCode <- as.factor(milk_data$animalBreedCode)\n",
    "milk_data$year <- as.factor(milk_data$year)\n",
    "milk_data$farmId <- as.factor(milk_data$farmId)\n",
    "milk_data$month <- as.factor(milk_data$month)\n",
    "milk_data$logmilk <- log(milk_data$milk)\n",
    "milkingMehtod <- as.factor(milk_data$milkingMethod)\n",
    "milk_data$zip <- as.factor(milk_data$zip)\n",
    "milk_data$days_in_milk <- as.numeric(milk_data$days_in_milk)\n",
    "milk_data$days_in_milk <- milk_data$days_in_milk / 86400\n",
    "milk_data$farm_year_interaction = interaction(milk_data$farmId, milk_data$year)\n",
    "milk_data$farm_month_interaction = interaction(milk_data$farmId, milk_data$month)\n",
    "\n",
    "milk_data$regular_season <- with(milk_data, \n",
    "    ifelse(month %in% c(\"3\", \"4\", \"5\"), \"spring\",\n",
    "    ifelse(month %in% c(\"6\", \"7\", \"8\"), \"summer\",\n",
    "    ifelse(month %in% c(\"9\", \"10\", \"11\"), \"fall\", \"winter\"))))\n",
    "\n",
    "# Convert the new variable to a factor\n",
    "milk_data$regular_season <- as.factor(milk_data$regular_season)\n",
    "milk_data$zip_regular_season <- interaction(milk_data$zip, milk_data$regular_season)\n",
    "\n",
    "# Create the interaction term between farmId and month_range\n",
    "milk_data$farmId_regular_season_interaction <- interaction(milk_data$farmId, milk_data$regular_season)\n",
    "\n",
    "milk_data$farm_season <- with(milk_data, \n",
    "    ifelse(month %in% c(\"4\", \"5\", \"6\", \"7\", \"8\", \"9\"), \"grazing\", \"nongrazing\"))\n",
    "\n",
    "# Convert the new variable to a factor\n",
    "milk_data$farm_season <- as.factor(milk_data$farm_season)\n",
    "\n",
    "# Create the interaction term between farmId and farm_seasons\n",
    "milk_data$farmId_farm_season_interaction <- interaction(milk_data$farmId, milk_data$farm_season)"
   ]
  },
  {
   "cell_type": "code",
   "execution_count": 7,
   "id": "5ecab535-5df5-47b5-856c-573654546b87",
   "metadata": {
    "execution": {
     "iopub.execute_input": "2024-06-24T00:19:04.937023Z",
     "iopub.status.busy": "2024-06-24T00:19:04.936315Z",
     "iopub.status.idle": "2024-06-24T00:22:30.377231Z",
     "shell.execute_reply": "2024-06-24T00:22:30.376077Z"
    },
    "vscode": {
     "languageId": "r"
    }
   },
   "outputs": [],
   "source": [
    "milk_data <- subset(milk_data, year %in% period)\n",
    "milk_data <- subset(milk_data, month %in% month)"
   ]
  },
  {
   "cell_type": "code",
   "execution_count": 8,
   "id": "fc60f9bb-6baf-4f18-a49d-ead3621b76b3",
   "metadata": {
    "execution": {
     "iopub.execute_input": "2024-06-24T00:22:30.390098Z",
     "iopub.status.busy": "2024-06-24T00:22:30.389365Z",
     "iopub.status.idle": "2024-06-24T00:22:30.396101Z",
     "shell.execute_reply": "2024-06-24T00:22:30.395275Z"
    },
    "vscode": {
     "languageId": "r"
    }
   },
   "outputs": [],
   "source": [
    "if (subsample) { \n",
    "    milk_data <- milk_data %>%\n",
    "      group_by(year, animalBreedCode) %>%\n",
    "      sample_frac(sample_size/nrow(milk_data)) %>% drop_na(get(weather_var))\n",
    "}"
   ]
  },
  {
   "cell_type": "code",
   "execution_count": 9,
   "id": "8ffad707-bd97-4406-8eda-3c8651d309a6",
   "metadata": {
    "execution": {
     "iopub.execute_input": "2024-06-24T00:22:30.399276Z",
     "iopub.status.busy": "2024-06-24T00:22:30.398497Z",
     "iopub.status.idle": "2024-06-24T00:23:13.111527Z",
     "shell.execute_reply": "2024-06-24T00:23:13.110280Z"
    },
    "vscode": {
     "languageId": "r"
    }
   },
   "outputs": [],
   "source": [
    "milk_data <- droplevels(milk_data)"
   ]
  },
  {
   "cell_type": "markdown",
   "id": "192c00df-6c2c-4225-86b0-0d9e21b23e5e",
   "metadata": {},
   "source": [
    "split data for each breed"
   ]
  },
  {
   "cell_type": "code",
   "execution_count": 10,
   "id": "fe9074d1-a992-4f7b-a838-3dfd9a900b61",
   "metadata": {
    "execution": {
     "iopub.execute_input": "2024-06-24T00:23:13.116430Z",
     "iopub.status.busy": "2024-06-24T00:23:13.115623Z",
     "iopub.status.idle": "2024-06-24T00:25:45.920307Z",
     "shell.execute_reply": "2024-06-24T00:25:45.919241Z"
    },
    "vscode": {
     "languageId": "r"
    }
   },
   "outputs": [],
   "source": [
    "je <- droplevels(subset(milk_data, animalBreedCode %in% c(\"JE\")) %>% drop_na(!!weather_var))\n",
    "bs <- droplevels(subset(milk_data, animalBreedCode %in% c(\"BS\")) %>% drop_na(!!weather_var))\n",
    "ho <- droplevels(subset(milk_data, animalBreedCode %in% c(\"HO\")) %>% drop_na(!!weather_var))\n",
    "ob <- droplevels(subset(milk_data, animalBreedCode %in% c(\"OB\")) %>% drop_na(!!weather_var))\n",
    "si <- droplevels(subset(milk_data, animalBreedCode %in% c(\"SI\")) %>% drop_na(!!weather_var))\n",
    "sf <- droplevels(subset(milk_data, animalBreedCode %in% c(\"SF\")) %>% drop_na(!!weather_var))"
   ]
  },
  {
   "cell_type": "code",
   "execution_count": 11,
   "id": "4830279e-353b-4192-8a05-6044e496a81c",
   "metadata": {
    "execution": {
     "iopub.execute_input": "2024-06-24T00:25:45.930055Z",
     "iopub.status.busy": "2024-06-24T00:25:45.929402Z",
     "iopub.status.idle": "2024-06-24T00:25:48.663067Z",
     "shell.execute_reply": "2024-06-24T00:25:48.662341Z"
    },
    "vscode": {
     "languageId": "r"
    }
   },
   "outputs": [
    {
     "data": {
      "image/png": "[encoded data removed]",
      "text/plain": [
       "Plot with title “Histogram of eval(parse(text = paste0(\"milk_data$\", dependent_var)))”"
      ]
     },
     "metadata": {
      "image/png": {
       "height": 420,
       "width": 420
      }
     },
     "output_type": "display_data"
    }
   ],
   "source": [
    "hist(eval(parse(text = paste0(\"milk_data$\", dependent_var))))"
   ]
  },
  {
   "cell_type": "code",
   "execution_count": 12,
   "id": "5e24fc1e-bc84-4dca-b24e-282f72e48d6a",
   "metadata": {
    "execution": {
     "iopub.execute_input": "2024-06-24T00:25:48.666485Z",
     "iopub.status.busy": "2024-06-24T00:25:48.665652Z",
     "iopub.status.idle": "2024-06-24T00:25:48.672717Z",
     "shell.execute_reply": "2024-06-24T00:25:48.671923Z"
    },
    "vscode": {
     "languageId": "r"
    }
   },
   "outputs": [],
   "source": [
    "rm(milk_data)"
   ]
  },
  {
   "cell_type": "markdown",
   "id": "9a179b0d-ff2e-46f6-a2c3-ec09cca99637",
   "metadata": {},
   "source": [
    "# Piecewise Linear THI - Reduced Form Piecewise Linear Fixed Effect Model"
   ]
  },
  {
   "cell_type": "code",
   "execution_count": 13,
   "id": "aa1be5ae-eedb-4a3b-a7ef-23eaf6ada228",
   "metadata": {
    "execution": {
     "iopub.execute_input": "2024-06-24T00:25:48.675640Z",
     "iopub.status.busy": "2024-06-24T00:25:48.675012Z",
     "iopub.status.idle": "2024-06-24T00:25:48.683054Z",
     "shell.execute_reply": "2024-06-24T00:25:48.682247Z"
    },
    "vscode": {
     "languageId": "r"
    }
   },
   "outputs": [],
   "source": [
    "pl_clu <- c(\"year\", \"farmId\")\n",
    "\n",
    "run_models_with_knots <- function(data, knot_sequence, dep_var_name, weather_var) {\n",
    "  best_rss <- Inf\n",
    "  best_knot_comb <- NULL\n",
    "  \n",
    "  # Loop over each knot value\n",
    "  for (i in 1:length(knot_sequence)) {\n",
    "    knots <- paste(knot_sequence[[i]], collapse = \",\")\n",
    "    f <- paste0(dep_var_name, \"~\", \"lspline(\", weather_var, \", knots=c(\", knots, \")) + days_in_milk + lactationNumber + precip_mean_t0_3d + precip_mean_t0_3d^2 + year | farmId\")\n",
    "    pl_form <- as.formula(f)\n",
    "    model <- feols(pl_form, data = data, cluster = pl_clu)\n",
    "    \n",
    "    # Calculate RSS for the current model\n",
    "    current_rss <- sum(residuals(model)^2)\n",
    "    \n",
    "    # Check if this model has the lowest RSS so far\n",
    "    if (current_rss < best_rss) {\n",
    "      best_rss <- current_rss\n",
    "      best_knot_comb <- knot_sequence[[i]]\n",
    "    }\n",
    "  }\n",
    "  \n",
    "  # Recompute the best model for storage reasons\n",
    "  knots <- paste(best_knot_comb, collapse = \",\")\n",
    "  f <- paste0(dep_var_name, \"~\", \"lspline(\", weather_var, \", knots=c(\", knots, \")) + days_in_milk + lactationNumber + precip_mean_t0_3d + precip_mean_t0_3d^2 + year | farmId\")\n",
    "  pl_form <- as.formula(f)\n",
    "  best_model <- feols(pl_form, data = data, cluster = pl_clu, lean = T)\n",
    "  gc()\n",
    "  \n",
    "  # Return a list containing the best knot combination, the best model, and its RSS\n",
    "  return(list(best_knot = best_knot_comb, best_model_rss = best_rss, best_model = best_model))\n",
    "}\n",
    "\n"
   ]
  },
  {
   "cell_type": "code",
   "execution_count": 14,
   "id": "5884625c-1e99-4f1d-9db4-3c3e8c0546cd",
   "metadata": {
    "execution": {
     "iopub.execute_input": "2024-06-24T00:25:48.685984Z",
     "iopub.status.busy": "2024-06-24T00:25:48.685338Z",
     "iopub.status.idle": "2024-06-24T00:25:48.695603Z",
     "shell.execute_reply": "2024-06-24T00:25:48.694725Z"
    },
    "vscode": {
     "languageId": "r"
    }
   },
   "outputs": [],
   "source": [
    "knot_combs <- list()\n",
    "for (i in start_knot:stop_knot) {\n",
    "    j <- i - start_knot + 1\n",
    "  knot_combs[[j]] <- c(i)\n",
    "}"
   ]
  },
  {
   "cell_type": "code",
   "execution_count": 15,
   "id": "1f294215-79ef-48ef-bd26-18f0605cce6f",
   "metadata": {
    "execution": {
     "iopub.execute_input": "2024-06-24T00:25:48.698729Z",
     "iopub.status.busy": "2024-06-24T00:25:48.698047Z",
     "iopub.status.idle": "2024-06-24T00:25:48.704193Z",
     "shell.execute_reply": "2024-06-24T00:25:48.703377Z"
    },
    "vscode": {
     "languageId": "r"
    }
   },
   "outputs": [],
   "source": [
    "#knot_combs[[length(knot_combs)+1]] <- seq(from = 0, to = 80, by = 5)"
   ]
  },
  {
   "cell_type": "markdown",
   "id": "47ec63b4-0431-403d-88ac-09624fb10357",
   "metadata": {},
   "source": [
    "## Jersey"
   ]
  },
  {
   "cell_type": "code",
   "execution_count": 16,
   "id": "8ee84d1e-685d-45e9-b08d-042338e9cf0f",
   "metadata": {
    "execution": {
     "iopub.execute_input": "2024-06-24T00:25:48.707216Z",
     "iopub.status.busy": "2024-06-24T00:25:48.706584Z",
     "iopub.status.idle": "2024-06-24T00:26:17.965151Z",
     "shell.execute_reply": "2024-06-24T00:26:17.964358Z"
    },
    "vscode": {
     "languageId": "r"
    }
   },
   "outputs": [
    {
     "name": "stderr",
     "output_type": "stream",
     "text": [
      "Variance contained negative values in the diagonal and was 'fixed' (a la Cameron, Gelbach & Miller 2011).\n",
      "\n"
     ]
    },
    {
     "name": "stderr",
     "output_type": "stream",
     "text": [
      "Variance contained negative values in the diagonal and was 'fixed' (a la Cameron, Gelbach & Miller 2011).\n",
      "\n"
     ]
    },
    {
     "name": "stderr",
     "output_type": "stream",
     "text": [
      "Variance contained negative values in the diagonal and was 'fixed' (a la Cameron, Gelbach & Miller 2011).\n",
      "\n"
     ]
    },
    {
     "name": "stderr",
     "output_type": "stream",
     "text": [
      "Variance contained negative values in the diagonal and was 'fixed' (a la Cameron, Gelbach & Miller 2011).\n",
      "\n"
     ]
    },
    {
     "name": "stderr",
     "output_type": "stream",
     "text": [
      "Variance contained negative values in the diagonal and was 'fixed' (a la Cameron, Gelbach & Miller 2011).\n",
      "\n"
     ]
    },
    {
     "name": "stderr",
     "output_type": "stream",
     "text": [
      "Variance contained negative values in the diagonal and was 'fixed' (a la Cameron, Gelbach & Miller 2011).\n",
      "\n"
     ]
    },
    {
     "name": "stderr",
     "output_type": "stream",
     "text": [
      "Variance contained negative values in the diagonal and was 'fixed' (a la Cameron, Gelbach & Miller 2011).\n",
      "\n"
     ]
    },
    {
     "name": "stderr",
     "output_type": "stream",
     "text": [
      "Variance contained negative values in the diagonal and was 'fixed' (a la Cameron, Gelbach & Miller 2011).\n",
      "\n"
     ]
    },
    {
     "name": "stderr",
     "output_type": "stream",
     "text": [
      "Variance contained negative values in the diagonal and was 'fixed' (a la Cameron, Gelbach & Miller 2011).\n",
      "\n"
     ]
    },
    {
     "name": "stderr",
     "output_type": "stream",
     "text": [
      "Variance contained negative values in the diagonal and was 'fixed' (a la Cameron, Gelbach & Miller 2011).\n",
      "\n"
     ]
    },
    {
     "name": "stderr",
     "output_type": "stream",
     "text": [
      "Variance contained negative values in the diagonal and was 'fixed' (a la Cameron, Gelbach & Miller 2011).\n",
      "\n"
     ]
    },
    {
     "name": "stderr",
     "output_type": "stream",
     "text": [
      "Variance contained negative values in the diagonal and was 'fixed' (a la Cameron, Gelbach & Miller 2011).\n",
      "\n"
     ]
    },
    {
     "name": "stderr",
     "output_type": "stream",
     "text": [
      "Variance contained negative values in the diagonal and was 'fixed' (a la Cameron, Gelbach & Miller 2011).\n",
      "\n"
     ]
    },
    {
     "name": "stderr",
     "output_type": "stream",
     "text": [
      "Variance contained negative values in the diagonal and was 'fixed' (a la Cameron, Gelbach & Miller 2011).\n",
      "\n"
     ]
    },
    {
     "name": "stderr",
     "output_type": "stream",
     "text": [
      "Variance contained negative values in the diagonal and was 'fixed' (a la Cameron, Gelbach & Miller 2011).\n",
      "\n"
     ]
    },
    {
     "name": "stderr",
     "output_type": "stream",
     "text": [
      "Variance contained negative values in the diagonal and was 'fixed' (a la Cameron, Gelbach & Miller 2011).\n",
      "\n"
     ]
    },
    {
     "name": "stderr",
     "output_type": "stream",
     "text": [
      "Variance contained negative values in the diagonal and was 'fixed' (a la Cameron, Gelbach & Miller 2011).\n",
      "\n"
     ]
    },
    {
     "name": "stderr",
     "output_type": "stream",
     "text": [
      "Variance contained negative values in the diagonal and was 'fixed' (a la Cameron, Gelbach & Miller 2011).\n",
      "\n"
     ]
    },
    {
     "name": "stderr",
     "output_type": "stream",
     "text": [
      "Variance contained negative values in the diagonal and was 'fixed' (a la Cameron, Gelbach & Miller 2011).\n",
      "\n"
     ]
    },
    {
     "name": "stderr",
     "output_type": "stream",
     "text": [
      "Variance contained negative values in the diagonal and was 'fixed' (a la Cameron, Gelbach & Miller 2011).\n",
      "\n"
     ]
    },
    {
     "name": "stderr",
     "output_type": "stream",
     "text": [
      "Variance contained negative values in the diagonal and was 'fixed' (a la Cameron, Gelbach & Miller 2011).\n",
      "\n"
     ]
    },
    {
     "name": "stderr",
     "output_type": "stream",
     "text": [
      "Variance contained negative values in the diagonal and was 'fixed' (a la Cameron, Gelbach & Miller 2011).\n",
      "\n"
     ]
    },
    {
     "name": "stderr",
     "output_type": "stream",
     "text": [
      "Variance contained negative values in the diagonal and was 'fixed' (a la Cameron, Gelbach & Miller 2011).\n",
      "\n"
     ]
    },
    {
     "name": "stderr",
     "output_type": "stream",
     "text": [
      "Variance contained negative values in the diagonal and was 'fixed' (a la Cameron, Gelbach & Miller 2011).\n",
      "\n"
     ]
    },
    {
     "name": "stderr",
     "output_type": "stream",
     "text": [
      "Variance contained negative values in the diagonal and was 'fixed' (a la Cameron, Gelbach & Miller 2011).\n",
      "\n"
     ]
    },
    {
     "name": "stderr",
     "output_type": "stream",
     "text": [
      "Variance contained negative values in the diagonal and was 'fixed' (a la Cameron, Gelbach & Miller 2011).\n",
      "\n"
     ]
    },
    {
     "name": "stderr",
     "output_type": "stream",
     "text": [
      "Variance contained negative values in the diagonal and was 'fixed' (a la Cameron, Gelbach & Miller 2011).\n",
      "\n"
     ]
    },
    {
     "name": "stdout",
     "output_type": "stream",
     "text": [
      "29.251 sec elapsed\n"
     ]
    }
   ],
   "source": [
    "tic()\n",
    "je_model = run_models_with_knots(droplevels(je), knot_combs, dependent_var, weather_var)\n",
    "toc()"
   ]
  },
  {
   "cell_type": "code",
   "execution_count": 17,
   "id": "5e946937-f240-4dc8-9bc5-46cda5610a3f",
   "metadata": {
    "execution": {
     "iopub.execute_input": "2024-06-24T00:26:17.971596Z",
     "iopub.status.busy": "2024-06-24T00:26:17.969804Z",
     "iopub.status.idle": "2024-06-24T00:26:17.983860Z",
     "shell.execute_reply": "2024-06-24T00:26:17.982943Z"
    },
    "vscode": {
     "languageId": "r"
    }
   },
   "outputs": [
    {
     "data": {
      "text/html": [
       "'17_reduced_form_model_thi_mean_t0_3d_fixed_effect_1980-2023_2024_06_24_02_16_55_fat_jersey_model.Rdata'"
      ],
      "text/latex": [
       "'17\\_reduced\\_form\\_model\\_thi\\_mean\\_t0\\_3d\\_fixed\\_effect\\_1980-2023\\_2024\\_06\\_24\\_02\\_16\\_55\\_fat\\_jersey\\_model.Rdata'"
      ],
      "text/markdown": [
       "'17_reduced_form_model_thi_mean_t0_3d_fixed_effect_1980-2023_2024_06_24_02_16_55_fat_jersey_model.Rdata'"
      ],
      "text/plain": [
       "[1] \"17_reduced_form_model_thi_mean_t0_3d_fixed_effect_1980-2023_2024_06_24_02_16_55_fat_jersey_model.Rdata\""
      ]
     },
     "metadata": {},
     "output_type": "display_data"
    }
   ],
   "source": [
    "jersey_model_name <- paste0(concatenated_string, \"_jersey_model.Rdata\")\n",
    "jersey_model_name"
   ]
  },
  {
   "cell_type": "code",
   "execution_count": 18,
   "id": "a7c51863-3cc7-435f-86b6-f24efcb20990",
   "metadata": {
    "execution": {
     "iopub.execute_input": "2024-06-24T00:26:17.986480Z",
     "iopub.status.busy": "2024-06-24T00:26:17.985851Z",
     "iopub.status.idle": "2024-06-24T00:26:17.991561Z",
     "shell.execute_reply": "2024-06-24T00:26:17.990791Z"
    },
    "vscode": {
     "languageId": "r"
    }
   },
   "outputs": [],
   "source": [
    "if (save) {\n",
    "    tic()\n",
    "    saveRDS(je_model, file = jersey_model_name, compress=T)\n",
    "    toc()\n",
    "}"
   ]
  },
  {
   "cell_type": "code",
   "execution_count": 19,
   "id": "a140a1ef-a621-42af-9601-dfe8d17d25b1",
   "metadata": {
    "execution": {
     "iopub.execute_input": "2024-06-24T00:26:17.994204Z",
     "iopub.status.busy": "2024-06-24T00:26:17.993473Z",
     "iopub.status.idle": "2024-06-24T00:26:18.000051Z",
     "shell.execute_reply": "2024-06-24T00:26:17.999342Z"
    },
    "vscode": {
     "languageId": "r"
    }
   },
   "outputs": [
    {
     "data": {
      "text/html": [
       "36"
      ],
      "text/latex": [
       "36"
      ],
      "text/markdown": [
       "36"
      ],
      "text/plain": [
       "[1] 36"
      ]
     },
     "metadata": {},
     "output_type": "display_data"
    }
   ],
   "source": [
    "je_model$best_knot"
   ]
  },
  {
   "cell_type": "code",
   "execution_count": 20,
   "id": "642aaec2-e27c-478e-9a92-2b78c01c64b6",
   "metadata": {
    "execution": {
     "iopub.execute_input": "2024-06-24T00:26:18.002313Z",
     "iopub.status.busy": "2024-06-24T00:26:18.001716Z",
     "iopub.status.idle": "2024-06-24T00:26:18.018566Z",
     "shell.execute_reply": "2024-06-24T00:26:18.017862Z"
    },
    "vscode": {
     "languageId": "r"
    }
   },
   "outputs": [
    {
     "data": {
      "text/plain": [
       "OLS estimation, Dep. Var.: fat\n",
       "Observations: 660,110\n",
       "Fixed-effects: farmId: 4,629\n",
       "Standard-errors: Clustered (year & farmId) \n",
       "                                           Estimate Std. Error     t value   Pr(>|t|)    \n",
       "lspline(thi_mean_t0_3d, knots = c(36))1 -0.00644087   0.001095   -5.881706 4.5608e-06 ***\n",
       "lspline(thi_mean_t0_3d, knots = c(36))2 -0.02020882   0.000780  -25.917634  < 2.2e-16 ***\n",
       "days_in_milk                             0.00328219   0.000067   49.221982  < 2.2e-16 ***\n",
       "lactationNumber                          0.02424771   0.003286    7.379531 1.2777e-07 ***\n",
       "precip_mean_t0_3d                       -0.00031580   0.000793   -0.398391 6.9386e-01    \n",
       "I(precip_mean_t0_3d^2)                   0.00000674   0.000023    0.295112 7.7045e-01    \n",
       "year2000                                -0.22419115   0.001519 -147.555975  < 2.2e-16 ***\n",
       "year2001                                -0.15842515   0.011059  -14.325311 2.9446e-13 ***\n",
       "year2002                                -0.19350505   0.024800   -7.802491 4.8983e-08 ***\n",
       "year2003                                -0.32147366   0.028784  -11.168646 5.4427e-11 ***\n",
       "year2004                                -0.36766769   0.030094  -12.217404 8.6108e-12 ***\n",
       "year2005                                -0.33510344   0.028045  -11.948666 1.3658e-11 ***\n",
       "year2006                                -0.42969544   0.028161  -15.258608 7.4782e-14 ***\n",
       "year2007                                -0.43666927   0.029718  -14.693854 1.6995e-13 ***\n",
       "year2008                                -0.39211031   0.031240  -12.551690 4.9014e-12 ***\n",
       "year2009                                -0.46372078   0.031878  -14.546881 2.1132e-13 ***\n",
       "year2010                                -0.47128282   0.031170  -15.119574 9.1318e-14 ***\n",
       "year2011                                -0.46296847   0.031518  -14.689069 1.7116e-13 ***\n",
       "year2012                                -0.46080794   0.034224  -13.464555 1.1121e-12 ***\n",
       "year2013                                -0.51107553   0.033194  -15.396496 6.1431e-14 ***\n",
       "year2014                                -0.54115608   0.033065  -16.366429 1.6029e-14 ***\n",
       "year2015                                -0.54676931   0.033529  -16.307398 1.7361e-14 ***\n",
       "year2016                                -0.52290082   0.033139  -15.778966 3.5871e-14 ***\n",
       "year2017                                -0.55668754   0.034777  -16.007433 2.6147e-14 ***\n",
       "year2018                                -0.55090029   0.036600  -15.051811 1.0071e-13 ***\n",
       "year2019                                -0.56183231   0.035199  -15.961761 2.7844e-14 ***\n",
       "year2020                                -0.55366567   0.035958  -15.397519 6.1342e-14 ***\n",
       "year2021                                -0.56868758   0.039288  -14.474961 2.3524e-13 ***\n",
       "year2022                                -0.61933824   0.040779  -15.187669 8.2791e-14 ***\n",
       "year2023                                -0.56099597   0.038001  -14.762798 1.5354e-13 ***\n",
       "---\n",
       "Signif. codes:  0 '***' 0.001 '**' 0.01 '*' 0.05 '.' 0.1 ' ' 1\n",
       "RMSE: 0.758908     Adj. R2: 0.308789\n",
       "                 Within R2: 0.20946 "
      ]
     },
     "metadata": {},
     "output_type": "display_data"
    }
   ],
   "source": [
    "summary(je_model$best_model)"
   ]
  },
  {
   "cell_type": "code",
   "execution_count": 21,
   "id": "4e3198ba-3ceb-421d-aee8-d44688ecf2ab",
   "metadata": {
    "execution": {
     "iopub.execute_input": "2024-06-24T00:26:18.020828Z",
     "iopub.status.busy": "2024-06-24T00:26:18.020243Z",
     "iopub.status.idle": "2024-06-24T00:26:18.212827Z",
     "shell.execute_reply": "2024-06-24T00:26:18.212038Z"
    },
    "vscode": {
     "languageId": "r"
    }
   },
   "outputs": [
    {
     "name": "stderr",
     "output_type": "stream",
     "text": [
      "Warning message:\n",
      "“\u001b[1m\u001b[22mRemoved 38 rows containing missing values or values outside the scale range (`geom_line()`).”\n"
     ]
    },
    {
     "data": {
      "image/png": "[encoded data removed]",
      "text/plain": [
       "plot without title"
      ]
     },
     "metadata": {
      "image/png": {
       "height": 420,
       "width": 420
      }
     },
     "output_type": "display_data"
    }
   ],
   "source": [
    "je_p <- create_effect_plot(je, je_model$best_model, je_model$best_knot, dependent_var, weather_var, \"JE\")\n",
    "je_p$plot"
   ]
  },
  {
   "cell_type": "markdown",
   "id": "6df89c39-7af4-40e8-a377-167eaf503847",
   "metadata": {},
   "source": [
    "## Holstein"
   ]
  },
  {
   "cell_type": "code",
   "execution_count": 22,
   "id": "4cac70a6-3972-427c-9699-9f20a2f3a6c1",
   "metadata": {
    "execution": {
     "iopub.execute_input": "2024-06-24T00:26:18.215404Z",
     "iopub.status.busy": "2024-06-24T00:26:18.214786Z",
     "iopub.status.idle": "2024-06-24T00:41:23.073169Z",
     "shell.execute_reply": "2024-06-24T00:41:23.072373Z"
    },
    "vscode": {
     "languageId": "r"
    }
   },
   "outputs": [
    {
     "name": "stderr",
     "output_type": "stream",
     "text": [
      "Variance contained negative values in the diagonal and was 'fixed' (a la Cameron, Gelbach & Miller 2011).\n",
      "\n"
     ]
    },
    {
     "name": "stderr",
     "output_type": "stream",
     "text": [
      "Variance contained negative values in the diagonal and was 'fixed' (a la Cameron, Gelbach & Miller 2011).\n",
      "\n"
     ]
    },
    {
     "name": "stderr",
     "output_type": "stream",
     "text": [
      "Variance contained negative values in the diagonal and was 'fixed' (a la Cameron, Gelbach & Miller 2011).\n",
      "\n"
     ]
    },
    {
     "name": "stderr",
     "output_type": "stream",
     "text": [
      "Variance contained negative values in the diagonal and was 'fixed' (a la Cameron, Gelbach & Miller 2011).\n",
      "\n"
     ]
    },
    {
     "name": "stderr",
     "output_type": "stream",
     "text": [
      "Variance contained negative values in the diagonal and was 'fixed' (a la Cameron, Gelbach & Miller 2011).\n",
      "\n"
     ]
    },
    {
     "name": "stderr",
     "output_type": "stream",
     "text": [
      "Variance contained negative values in the diagonal and was 'fixed' (a la Cameron, Gelbach & Miller 2011).\n",
      "\n"
     ]
    },
    {
     "name": "stderr",
     "output_type": "stream",
     "text": [
      "Variance contained negative values in the diagonal and was 'fixed' (a la Cameron, Gelbach & Miller 2011).\n",
      "\n"
     ]
    },
    {
     "name": "stderr",
     "output_type": "stream",
     "text": [
      "Variance contained negative values in the diagonal and was 'fixed' (a la Cameron, Gelbach & Miller 2011).\n",
      "\n"
     ]
    },
    {
     "name": "stderr",
     "output_type": "stream",
     "text": [
      "Variance contained negative values in the diagonal and was 'fixed' (a la Cameron, Gelbach & Miller 2011).\n",
      "\n"
     ]
    },
    {
     "name": "stderr",
     "output_type": "stream",
     "text": [
      "Variance contained negative values in the diagonal and was 'fixed' (a la Cameron, Gelbach & Miller 2011).\n",
      "\n"
     ]
    },
    {
     "name": "stderr",
     "output_type": "stream",
     "text": [
      "Variance contained negative values in the diagonal and was 'fixed' (a la Cameron, Gelbach & Miller 2011).\n",
      "\n"
     ]
    },
    {
     "name": "stderr",
     "output_type": "stream",
     "text": [
      "Variance contained negative values in the diagonal and was 'fixed' (a la Cameron, Gelbach & Miller 2011).\n",
      "\n"
     ]
    },
    {
     "name": "stderr",
     "output_type": "stream",
     "text": [
      "Variance contained negative values in the diagonal and was 'fixed' (a la Cameron, Gelbach & Miller 2011).\n",
      "\n"
     ]
    },
    {
     "name": "stderr",
     "output_type": "stream",
     "text": [
      "Variance contained negative values in the diagonal and was 'fixed' (a la Cameron, Gelbach & Miller 2011).\n",
      "\n"
     ]
    },
    {
     "name": "stderr",
     "output_type": "stream",
     "text": [
      "Variance contained negative values in the diagonal and was 'fixed' (a la Cameron, Gelbach & Miller 2011).\n",
      "\n"
     ]
    },
    {
     "name": "stderr",
     "output_type": "stream",
     "text": [
      "Variance contained negative values in the diagonal and was 'fixed' (a la Cameron, Gelbach & Miller 2011).\n",
      "\n"
     ]
    },
    {
     "name": "stderr",
     "output_type": "stream",
     "text": [
      "Variance contained negative values in the diagonal and was 'fixed' (a la Cameron, Gelbach & Miller 2011).\n",
      "\n"
     ]
    },
    {
     "name": "stderr",
     "output_type": "stream",
     "text": [
      "Variance contained negative values in the diagonal and was 'fixed' (a la Cameron, Gelbach & Miller 2011).\n",
      "\n"
     ]
    },
    {
     "name": "stderr",
     "output_type": "stream",
     "text": [
      "Variance contained negative values in the diagonal and was 'fixed' (a la Cameron, Gelbach & Miller 2011).\n",
      "\n"
     ]
    },
    {
     "name": "stderr",
     "output_type": "stream",
     "text": [
      "Variance contained negative values in the diagonal and was 'fixed' (a la Cameron, Gelbach & Miller 2011).\n",
      "\n"
     ]
    },
    {
     "name": "stderr",
     "output_type": "stream",
     "text": [
      "Variance contained negative values in the diagonal and was 'fixed' (a la Cameron, Gelbach & Miller 2011).\n",
      "\n"
     ]
    },
    {
     "name": "stderr",
     "output_type": "stream",
     "text": [
      "Variance contained negative values in the diagonal and was 'fixed' (a la Cameron, Gelbach & Miller 2011).\n",
      "\n"
     ]
    },
    {
     "name": "stderr",
     "output_type": "stream",
     "text": [
      "Variance contained negative values in the diagonal and was 'fixed' (a la Cameron, Gelbach & Miller 2011).\n",
      "\n"
     ]
    },
    {
     "name": "stderr",
     "output_type": "stream",
     "text": [
      "Variance contained negative values in the diagonal and was 'fixed' (a la Cameron, Gelbach & Miller 2011).\n",
      "\n"
     ]
    },
    {
     "name": "stderr",
     "output_type": "stream",
     "text": [
      "Variance contained negative values in the diagonal and was 'fixed' (a la Cameron, Gelbach & Miller 2011).\n",
      "\n"
     ]
    },
    {
     "name": "stderr",
     "output_type": "stream",
     "text": [
      "Variance contained negative values in the diagonal and was 'fixed' (a la Cameron, Gelbach & Miller 2011).\n",
      "\n"
     ]
    },
    {
     "name": "stderr",
     "output_type": "stream",
     "text": [
      "Variance contained negative values in the diagonal and was 'fixed' (a la Cameron, Gelbach & Miller 2011).\n",
      "\n"
     ]
    },
    {
     "name": "stdout",
     "output_type": "stream",
     "text": [
      "904.851 sec elapsed\n"
     ]
    }
   ],
   "source": [
    "tic()\n",
    "ho_model = run_models_with_knots(ho, knot_combs, dependent_var, weather_var)\n",
    "toc()"
   ]
  },
  {
   "cell_type": "code",
   "execution_count": 23,
   "id": "6ba6c8c6-6dcc-4e07-8a02-3901be7e0072",
   "metadata": {
    "execution": {
     "iopub.execute_input": "2024-06-24T00:41:23.121502Z",
     "iopub.status.busy": "2024-06-24T00:41:23.120877Z",
     "iopub.status.idle": "2024-06-24T00:41:23.128628Z",
     "shell.execute_reply": "2024-06-24T00:41:23.127895Z"
    },
    "vscode": {
     "languageId": "r"
    }
   },
   "outputs": [
    {
     "data": {
      "text/html": [
       "'17_reduced_form_model_thi_mean_t0_3d_fixed_effect_1980-2023_2024_06_24_02_16_55_fat_ho_model.Rdata'"
      ],
      "text/latex": [
       "'17\\_reduced\\_form\\_model\\_thi\\_mean\\_t0\\_3d\\_fixed\\_effect\\_1980-2023\\_2024\\_06\\_24\\_02\\_16\\_55\\_fat\\_ho\\_model.Rdata'"
      ],
      "text/markdown": [
       "'17_reduced_form_model_thi_mean_t0_3d_fixed_effect_1980-2023_2024_06_24_02_16_55_fat_ho_model.Rdata'"
      ],
      "text/plain": [
       "[1] \"17_reduced_form_model_thi_mean_t0_3d_fixed_effect_1980-2023_2024_06_24_02_16_55_fat_ho_model.Rdata\""
      ]
     },
     "metadata": {},
     "output_type": "display_data"
    }
   ],
   "source": [
    "ho_model_name <- paste0(concatenated_string, \"_ho_model.Rdata\")\n",
    "ho_model_name"
   ]
  },
  {
   "cell_type": "code",
   "execution_count": 24,
   "id": "90c30b0a-3af4-484c-96f7-6ae1bc5ebd3d",
   "metadata": {
    "execution": {
     "iopub.execute_input": "2024-06-24T00:41:23.131112Z",
     "iopub.status.busy": "2024-06-24T00:41:23.130511Z",
     "iopub.status.idle": "2024-06-24T00:41:23.135730Z",
     "shell.execute_reply": "2024-06-24T00:41:23.135005Z"
    },
    "vscode": {
     "languageId": "r"
    }
   },
   "outputs": [],
   "source": [
    "if (save) {\n",
    "    tic()\n",
    "    saveRDS(ho_model, file = ho_model_name, compress=TRUE)\n",
    "    toc()\n",
    "}"
   ]
  },
  {
   "cell_type": "code",
   "execution_count": 25,
   "id": "ad6da065-18a3-4d80-a4c4-3ba98e3d3e32",
   "metadata": {
    "execution": {
     "iopub.execute_input": "2024-06-24T00:41:23.138189Z",
     "iopub.status.busy": "2024-06-24T00:41:23.137490Z",
     "iopub.status.idle": "2024-06-24T00:41:23.143846Z",
     "shell.execute_reply": "2024-06-24T00:41:23.143128Z"
    },
    "vscode": {
     "languageId": "r"
    }
   },
   "outputs": [
    {
     "data": {
      "text/html": [
       "35"
      ],
      "text/latex": [
       "35"
      ],
      "text/markdown": [
       "35"
      ],
      "text/plain": [
       "[1] 35"
      ]
     },
     "metadata": {},
     "output_type": "display_data"
    }
   ],
   "source": [
    "ho_model$best_knot"
   ]
  },
  {
   "cell_type": "code",
   "execution_count": 26,
   "id": "33b735f2-6430-4abb-9e3a-35e5bfa2aef6",
   "metadata": {
    "execution": {
     "iopub.execute_input": "2024-06-24T00:41:23.146102Z",
     "iopub.status.busy": "2024-06-24T00:41:23.145507Z",
     "iopub.status.idle": "2024-06-24T00:41:23.157857Z",
     "shell.execute_reply": "2024-06-24T00:41:23.157136Z"
    },
    "vscode": {
     "languageId": "r"
    }
   },
   "outputs": [
    {
     "data": {
      "text/plain": [
       "OLS estimation, Dep. Var.: fat\n",
       "Observations: 23,564,938\n",
       "Fixed-effects: farmId: 25,742\n",
       "Standard-errors: Clustered (year & farmId) \n",
       "                                           Estimate Std. Error    t value   Pr(>|t|)    \n",
       "lspline(thi_mean_t0_3d, knots = c(35))1 -0.00440490   0.000498  -8.845714 9.8766e-10 ***\n",
       "lspline(thi_mean_t0_3d, knots = c(35))2 -0.01233691   0.000216 -57.113265  < 2.2e-16 ***\n",
       "days_in_milk                             0.00179680   0.000019  93.643256  < 2.2e-16 ***\n",
       "lactationNumber                          0.00406608   0.001253   3.244675 2.9597e-03 ** \n",
       "precip_mean_t0_3d                        0.00125367   0.000415   3.022620 5.1970e-03 ** \n",
       "I(precip_mean_t0_3d^2)                  -0.00000897   0.000017  -0.539019 5.9399e-01    \n",
       "year1995                                 0.00031976   0.001714   0.186544 8.5332e-01    \n",
       "year1996                                 0.03449025   0.001104  31.236487  < 2.2e-16 ***\n",
       "year1997                                 0.06404096   0.000590 108.544959  < 2.2e-16 ***\n",
       "year1998                                 0.02496257   0.000804  31.031594  < 2.2e-16 ***\n",
       "year1999                                -0.04056004   0.001270 -31.925243  < 2.2e-16 ***\n",
       "year2000                                -0.11851811   0.001566 -75.658150  < 2.2e-16 ***\n",
       "year2001                                -0.12271428   0.001853 -66.228212  < 2.2e-16 ***\n",
       "year2002                                -0.17334393   0.001924 -90.084513  < 2.2e-16 ***\n",
       "year2003                                -0.18726557   0.002045 -91.571020  < 2.2e-16 ***\n",
       "year2004                                -0.17394806   0.002198 -79.152969  < 2.2e-16 ***\n",
       "year2005                                -0.12768098   0.002396 -53.278189  < 2.2e-16 ***\n",
       "year2006                                -0.12355971   0.002428 -50.884401  < 2.2e-16 ***\n",
       "year2007                                -0.12976209   0.002553 -50.832479  < 2.2e-16 ***\n",
       "year2008                                -0.08316829   0.002767 -30.060898  < 2.2e-16 ***\n",
       "year2009                                -0.09014530   0.002895 -31.134797  < 2.2e-16 ***\n",
       "year2010                                -0.08071292   0.002994 -26.956217  < 2.2e-16 ***\n",
       "year2011                                -0.08460296   0.003101 -27.279022  < 2.2e-16 ***\n",
       "year2012                                -0.05171746   0.003195 -16.186261 4.6418e-16 ***\n",
       "year2013                                -0.09356032   0.003273 -28.584365  < 2.2e-16 ***\n",
       "year2014                                -0.13053844   0.003372 -38.716184  < 2.2e-16 ***\n",
       "year2015                                -0.10834978   0.003519 -30.789597  < 2.2e-16 ***\n",
       "year2016                                -0.08068255   0.003553 -22.707569  < 2.2e-16 ***\n",
       "year2017                                -0.10864926   0.003699 -29.369611  < 2.2e-16 ***\n",
       "year2018                                -0.07073361   0.003727 -18.979367  < 2.2e-16 ***\n",
       "year2019                                -0.06424012   0.003792 -16.942867  < 2.2e-16 ***\n",
       "year2020                                -0.02591109   0.003794  -6.829769 1.6828e-07 ***\n",
       "year2021                                -0.01519249   0.003840  -3.956141 4.5061e-04 ***\n",
       "year2022                                -0.01881646   0.003951  -4.762222 4.9107e-05 ***\n",
       "year2023                                 0.02302560   0.003862   5.961498 1.7703e-06 ***\n",
       "---\n",
       "Signif. codes:  0 '***' 0.001 '**' 0.01 '*' 0.05 '.' 0.1 ' ' 1\n",
       "RMSE: 0.579842     Adj. R2: 0.173295\n",
       "                 Within R2: 0.126267"
      ]
     },
     "metadata": {},
     "output_type": "display_data"
    }
   ],
   "source": [
    "summary(ho_model$best_model)"
   ]
  },
  {
   "cell_type": "code",
   "execution_count": 27,
   "id": "63f32034-f5f5-4812-ada3-dcebe08cb653",
   "metadata": {
    "execution": {
     "iopub.execute_input": "2024-06-24T00:41:23.160138Z",
     "iopub.status.busy": "2024-06-24T00:41:23.159549Z",
     "iopub.status.idle": "2024-06-24T00:41:23.385880Z",
     "shell.execute_reply": "2024-06-24T00:41:23.385107Z"
    },
    "vscode": {
     "languageId": "r"
    }
   },
   "outputs": [
    {
     "name": "stderr",
     "output_type": "stream",
     "text": [
      "Warning message:\n",
      "“\u001b[1m\u001b[22mRemoved 41 rows containing missing values or values outside the scale range (`geom_line()`).”\n"
     ]
    },
    {
     "data": {
      "image/png": "[encoded data removed]",
      "text/plain": [
       "plot without title"
      ]
     },
     "metadata": {
      "image/png": {
       "height": 420,
       "width": 420
      }
     },
     "output_type": "display_data"
    }
   ],
   "source": [
    "ho_p <- create_effect_plot(ho, ho_model$best_model, ho_model$best_knot, dependent_var, weather_var, \"HO\")\n",
    "ho_p$plot"
   ]
  },
  {
   "cell_type": "markdown",
   "id": "45266f34-754a-4bb1-bcb5-74ea244207ad",
   "metadata": {},
   "source": [
    "## Brown Swiss"
   ]
  },
  {
   "cell_type": "code",
   "execution_count": 28,
   "id": "74b67fa0-3c18-41b6-819c-c066f7275cd5",
   "metadata": {
    "execution": {
     "iopub.execute_input": "2024-06-24T00:41:23.388513Z",
     "iopub.status.busy": "2024-06-24T00:41:23.387897Z",
     "iopub.status.idle": "2024-06-24T01:01:59.463835Z",
     "shell.execute_reply": "2024-06-24T01:01:59.462936Z"
    },
    "vscode": {
     "languageId": "r"
    }
   },
   "outputs": [
    {
     "name": "stderr",
     "output_type": "stream",
     "text": [
      "Variance contained negative values in the diagonal and was 'fixed' (a la Cameron, Gelbach & Miller 2011).\n",
      "\n"
     ]
    },
    {
     "name": "stderr",
     "output_type": "stream",
     "text": [
      "Variance contained negative values in the diagonal and was 'fixed' (a la Cameron, Gelbach & Miller 2011).\n",
      "\n"
     ]
    },
    {
     "name": "stderr",
     "output_type": "stream",
     "text": [
      "Variance contained negative values in the diagonal and was 'fixed' (a la Cameron, Gelbach & Miller 2011).\n",
      "\n"
     ]
    },
    {
     "name": "stderr",
     "output_type": "stream",
     "text": [
      "Variance contained negative values in the diagonal and was 'fixed' (a la Cameron, Gelbach & Miller 2011).\n",
      "\n"
     ]
    },
    {
     "name": "stderr",
     "output_type": "stream",
     "text": [
      "Variance contained negative values in the diagonal and was 'fixed' (a la Cameron, Gelbach & Miller 2011).\n",
      "\n"
     ]
    },
    {
     "name": "stderr",
     "output_type": "stream",
     "text": [
      "Variance contained negative values in the diagonal and was 'fixed' (a la Cameron, Gelbach & Miller 2011).\n",
      "\n"
     ]
    },
    {
     "name": "stderr",
     "output_type": "stream",
     "text": [
      "Variance contained negative values in the diagonal and was 'fixed' (a la Cameron, Gelbach & Miller 2011).\n",
      "\n"
     ]
    },
    {
     "name": "stderr",
     "output_type": "stream",
     "text": [
      "Variance contained negative values in the diagonal and was 'fixed' (a la Cameron, Gelbach & Miller 2011).\n",
      "\n"
     ]
    },
    {
     "name": "stderr",
     "output_type": "stream",
     "text": [
      "Variance contained negative values in the diagonal and was 'fixed' (a la Cameron, Gelbach & Miller 2011).\n",
      "\n"
     ]
    },
    {
     "name": "stderr",
     "output_type": "stream",
     "text": [
      "Variance contained negative values in the diagonal and was 'fixed' (a la Cameron, Gelbach & Miller 2011).\n",
      "\n"
     ]
    },
    {
     "name": "stderr",
     "output_type": "stream",
     "text": [
      "Variance contained negative values in the diagonal and was 'fixed' (a la Cameron, Gelbach & Miller 2011).\n",
      "\n"
     ]
    },
    {
     "name": "stderr",
     "output_type": "stream",
     "text": [
      "Variance contained negative values in the diagonal and was 'fixed' (a la Cameron, Gelbach & Miller 2011).\n",
      "\n"
     ]
    },
    {
     "name": "stderr",
     "output_type": "stream",
     "text": [
      "Variance contained negative values in the diagonal and was 'fixed' (a la Cameron, Gelbach & Miller 2011).\n",
      "\n"
     ]
    },
    {
     "name": "stderr",
     "output_type": "stream",
     "text": [
      "Variance contained negative values in the diagonal and was 'fixed' (a la Cameron, Gelbach & Miller 2011).\n",
      "\n"
     ]
    },
    {
     "name": "stderr",
     "output_type": "stream",
     "text": [
      "Variance contained negative values in the diagonal and was 'fixed' (a la Cameron, Gelbach & Miller 2011).\n",
      "\n"
     ]
    },
    {
     "name": "stderr",
     "output_type": "stream",
     "text": [
      "Variance contained negative values in the diagonal and was 'fixed' (a la Cameron, Gelbach & Miller 2011).\n",
      "\n"
     ]
    },
    {
     "name": "stderr",
     "output_type": "stream",
     "text": [
      "Variance contained negative values in the diagonal and was 'fixed' (a la Cameron, Gelbach & Miller 2011).\n",
      "\n"
     ]
    },
    {
     "name": "stderr",
     "output_type": "stream",
     "text": [
      "Variance contained negative values in the diagonal and was 'fixed' (a la Cameron, Gelbach & Miller 2011).\n",
      "\n"
     ]
    },
    {
     "name": "stderr",
     "output_type": "stream",
     "text": [
      "Variance contained negative values in the diagonal and was 'fixed' (a la Cameron, Gelbach & Miller 2011).\n",
      "\n"
     ]
    },
    {
     "name": "stderr",
     "output_type": "stream",
     "text": [
      "Variance contained negative values in the diagonal and was 'fixed' (a la Cameron, Gelbach & Miller 2011).\n",
      "\n"
     ]
    },
    {
     "name": "stderr",
     "output_type": "stream",
     "text": [
      "Variance contained negative values in the diagonal and was 'fixed' (a la Cameron, Gelbach & Miller 2011).\n",
      "\n"
     ]
    },
    {
     "name": "stderr",
     "output_type": "stream",
     "text": [
      "Variance contained negative values in the diagonal and was 'fixed' (a la Cameron, Gelbach & Miller 2011).\n",
      "\n"
     ]
    },
    {
     "name": "stderr",
     "output_type": "stream",
     "text": [
      "Variance contained negative values in the diagonal and was 'fixed' (a la Cameron, Gelbach & Miller 2011).\n",
      "\n"
     ]
    },
    {
     "name": "stderr",
     "output_type": "stream",
     "text": [
      "Variance contained negative values in the diagonal and was 'fixed' (a la Cameron, Gelbach & Miller 2011).\n",
      "\n"
     ]
    },
    {
     "name": "stderr",
     "output_type": "stream",
     "text": [
      "Variance contained negative values in the diagonal and was 'fixed' (a la Cameron, Gelbach & Miller 2011).\n",
      "\n"
     ]
    },
    {
     "name": "stderr",
     "output_type": "stream",
     "text": [
      "Variance contained negative values in the diagonal and was 'fixed' (a la Cameron, Gelbach & Miller 2011).\n",
      "\n"
     ]
    },
    {
     "name": "stderr",
     "output_type": "stream",
     "text": [
      "Variance contained negative values in the diagonal and was 'fixed' (a la Cameron, Gelbach & Miller 2011).\n",
      "\n"
     ]
    },
    {
     "name": "stdout",
     "output_type": "stream",
     "text": [
      "1236.068 sec elapsed\n"
     ]
    }
   ],
   "source": [
    "tic()\n",
    "bs_model = run_models_with_knots(bs, knot_combs, dependent_var, weather_var)\n",
    "toc()"
   ]
  },
  {
   "cell_type": "code",
   "execution_count": 29,
   "id": "1bce08e1-bf80-4df1-b84b-b03bbb21a134",
   "metadata": {
    "execution": {
     "iopub.execute_input": "2024-06-24T01:01:59.528604Z",
     "iopub.status.busy": "2024-06-24T01:01:59.527958Z",
     "iopub.status.idle": "2024-06-24T01:01:59.535789Z",
     "shell.execute_reply": "2024-06-24T01:01:59.535045Z"
    },
    "vscode": {
     "languageId": "r"
    }
   },
   "outputs": [
    {
     "data": {
      "text/html": [
       "'17_reduced_form_model_thi_mean_t0_3d_fixed_effect_1980-2023_2024_06_24_02_16_55_fat_bs_model.Rdata'"
      ],
      "text/latex": [
       "'17\\_reduced\\_form\\_model\\_thi\\_mean\\_t0\\_3d\\_fixed\\_effect\\_1980-2023\\_2024\\_06\\_24\\_02\\_16\\_55\\_fat\\_bs\\_model.Rdata'"
      ],
      "text/markdown": [
       "'17_reduced_form_model_thi_mean_t0_3d_fixed_effect_1980-2023_2024_06_24_02_16_55_fat_bs_model.Rdata'"
      ],
      "text/plain": [
       "[1] \"17_reduced_form_model_thi_mean_t0_3d_fixed_effect_1980-2023_2024_06_24_02_16_55_fat_bs_model.Rdata\""
      ]
     },
     "metadata": {},
     "output_type": "display_data"
    }
   ],
   "source": [
    "bs_model_name <- paste0(concatenated_string, \"_bs_model.Rdata\")\n",
    "bs_model_name"
   ]
  },
  {
   "cell_type": "code",
   "execution_count": 30,
   "id": "a8aa8e33-e12d-49ff-aee5-46f6def7fd37",
   "metadata": {
    "execution": {
     "iopub.execute_input": "2024-06-24T01:01:59.539768Z",
     "iopub.status.busy": "2024-06-24T01:01:59.539038Z",
     "iopub.status.idle": "2024-06-24T01:01:59.545140Z",
     "shell.execute_reply": "2024-06-24T01:01:59.544415Z"
    },
    "vscode": {
     "languageId": "r"
    }
   },
   "outputs": [],
   "source": [
    "if (save) {\n",
    "    tic()\n",
    "    saveRDS(bs_model, file = bs_model_name, compress=T)\n",
    "    toc()\n",
    "}"
   ]
  },
  {
   "cell_type": "code",
   "execution_count": 31,
   "id": "415b619c-9280-49cd-b48f-407405f0dd9a",
   "metadata": {
    "execution": {
     "iopub.execute_input": "2024-06-24T01:01:59.547605Z",
     "iopub.status.busy": "2024-06-24T01:01:59.547005Z",
     "iopub.status.idle": "2024-06-24T01:01:59.553235Z",
     "shell.execute_reply": "2024-06-24T01:01:59.552514Z"
    },
    "vscode": {
     "languageId": "r"
    }
   },
   "outputs": [
    {
     "data": {
      "text/html": [
       "36"
      ],
      "text/latex": [
       "36"
      ],
      "text/markdown": [
       "36"
      ],
      "text/plain": [
       "[1] 36"
      ]
     },
     "metadata": {},
     "output_type": "display_data"
    }
   ],
   "source": [
    "bs_model$best_knot"
   ]
  },
  {
   "cell_type": "code",
   "execution_count": 32,
   "id": "89577147-29e6-47fa-a9b0-aedd0ffeebad",
   "metadata": {
    "execution": {
     "iopub.execute_input": "2024-06-24T01:01:59.555511Z",
     "iopub.status.busy": "2024-06-24T01:01:59.554900Z",
     "iopub.status.idle": "2024-06-24T01:01:59.567404Z",
     "shell.execute_reply": "2024-06-24T01:01:59.566683Z"
    },
    "vscode": {
     "languageId": "r"
    }
   },
   "outputs": [
    {
     "data": {
      "text/plain": [
       "OLS estimation, Dep. Var.: fat\n",
       "Observations: 34,763,300\n",
       "Fixed-effects: farmId: 22,610\n",
       "Standard-errors: Clustered (year & farmId) \n",
       "                                           Estimate Std. Error    t value   Pr(>|t|)    \n",
       "lspline(thi_mean_t0_3d, knots = c(36))1 -0.00195542   0.000499  -3.915961 4.4325e-04 ***\n",
       "lspline(thi_mean_t0_3d, knots = c(36))2 -0.00958671   0.000464 -20.641213  < 2.2e-16 ***\n",
       "days_in_milk                             0.00149963   0.000013 115.872678  < 2.2e-16 ***\n",
       "lactationNumber                         -0.01220634   0.001216 -10.039543 2.0583e-11 ***\n",
       "precip_mean_t0_3d                        0.00021235   0.000317   0.669004 5.0829e-01    \n",
       "I(precip_mean_t0_3d^2)                   0.00000667   0.000013   0.530340 5.9954e-01    \n",
       "year1992                                -0.01641411   0.000866 -18.956363  < 2.2e-16 ***\n",
       "year1993                                -0.01838571   0.000745 -24.666193  < 2.2e-16 ***\n",
       "year1994                                -0.10242517   0.002038 -50.253009  < 2.2e-16 ***\n",
       "year1995                                -0.09879004   0.002110 -46.809761  < 2.2e-16 ***\n",
       "year1996                                -0.05983683   0.002001 -29.897181  < 2.2e-16 ***\n",
       "year1997                                -0.07840270   0.002445 -32.063225  < 2.2e-16 ***\n",
       "year1998                                -0.04146629   0.002532 -16.375611  < 2.2e-16 ***\n",
       "year1999                                -0.05454874   0.002601 -20.972811  < 2.2e-16 ***\n",
       "year2000                                -0.11238311   0.002777 -40.462614  < 2.2e-16 ***\n",
       "year2001                                -0.02691529   0.002754  -9.772407 3.9699e-11 ***\n",
       "year2002                                -0.05559980   0.002923 -19.020531  < 2.2e-16 ***\n",
       "year2003                                -0.08699134   0.003067 -28.365372  < 2.2e-16 ***\n",
       "year2004                                -0.09228379   0.002825 -32.669341  < 2.2e-16 ***\n",
       "year2005                                -0.06698921   0.002880 -23.262919  < 2.2e-16 ***\n",
       "year2006                                -0.06108298   0.003035 -20.128494  < 2.2e-16 ***\n",
       "year2007                                -0.06507443   0.003013 -21.597776  < 2.2e-16 ***\n",
       "year2008                                -0.00737543   0.002999  -2.458979 1.9526e-02 *  \n",
       "year2009                                -0.00882662   0.003086  -2.860564 7.3896e-03 ** \n",
       "year2010                                -0.02606305   0.003060  -8.516715 9.8652e-10 ***\n",
       "year2011                                -0.01528773   0.003348  -4.566215 6.9778e-05 ***\n",
       "year2012                                 0.02108837   0.003264   6.461109 2.8761e-07 ***\n",
       "year2013                                -0.00703559   0.003155  -2.229926 3.2893e-02 *  \n",
       "year2014                                -0.03214786   0.003442  -9.339311 1.1747e-10 ***\n",
       "year2015                                -0.01749244   0.003429  -5.101661 1.4786e-05 ***\n",
       "year2016                                -0.00190433   0.003338  -0.570504 5.7232e-01    \n",
       "year2017                                -0.02361652   0.003452  -6.840659 9.7549e-08 ***\n",
       "year2018                                -0.01074283   0.003661  -2.934789 6.1310e-03 ** \n",
       "year2019                                -0.01049468   0.003579  -2.931979 6.1747e-03 ** \n",
       "year2020                                -0.01092661   0.003775  -2.894235 6.7912e-03 ** \n",
       "year2021                                 0.00487101   0.003443   1.414838 1.6677e-01    \n",
       "year2022                                -0.00490437   0.003877  -1.265113 2.1497e-01    \n",
       "year2023                                 0.01613324   0.003818   4.225125 1.8532e-04 ***\n",
       "---\n",
       "Signif. codes:  0 '***' 0.001 '**' 0.01 '*' 0.05 '.' 0.1 ' ' 1\n",
       "RMSE: 0.505698     Adj. R2: 0.162485\n",
       "                 Within R2: 0.118035"
      ]
     },
     "metadata": {},
     "output_type": "display_data"
    }
   ],
   "source": [
    "summary(bs_model$best_model)"
   ]
  },
  {
   "cell_type": "code",
   "execution_count": 33,
   "id": "7d913543-b61e-403d-8376-14987dd7e774",
   "metadata": {
    "execution": {
     "iopub.execute_input": "2024-06-24T01:01:59.569726Z",
     "iopub.status.busy": "2024-06-24T01:01:59.569123Z",
     "iopub.status.idle": "2024-06-24T01:01:59.890202Z",
     "shell.execute_reply": "2024-06-24T01:01:59.889424Z"
    },
    "vscode": {
     "languageId": "r"
    }
   },
   "outputs": [
    {
     "name": "stderr",
     "output_type": "stream",
     "text": [
      "Warning message:\n",
      "“\u001b[1m\u001b[22mRemoved 43 rows containing missing values or values outside the scale range (`geom_line()`).”\n"
     ]
    },
    {
     "data": {
      "image/png": "[encoded data removed]",
      "text/plain": [
       "plot without title"
      ]
     },
     "metadata": {
      "image/png": {
       "height": 420,
       "width": 420
      }
     },
     "output_type": "display_data"
    }
   ],
   "source": [
    "bs_p <- create_effect_plot(bs, bs_model$best_model, bs_model$best_knot, dependent_var, weather_var, \"BS\")\n",
    "bs_p$plot"
   ]
  },
  {
   "cell_type": "markdown",
   "id": "1be84693-5f85-4ed9-9ea3-b45e5304f759",
   "metadata": {},
   "source": [
    "## Simmental"
   ]
  },
  {
   "cell_type": "code",
   "execution_count": 34,
   "id": "26af0a76-ceaa-4e79-a1f5-4ec3e9ae0441",
   "metadata": {
    "execution": {
     "iopub.execute_input": "2024-06-24T01:01:59.892773Z",
     "iopub.status.busy": "2024-06-24T01:01:59.892150Z",
     "iopub.status.idle": "2024-06-24T01:04:31.314200Z",
     "shell.execute_reply": "2024-06-24T01:04:31.313294Z"
    },
    "vscode": {
     "languageId": "r"
    }
   },
   "outputs": [
    {
     "name": "stderr",
     "output_type": "stream",
     "text": [
      "Variance contained negative values in the diagonal and was 'fixed' (a la Cameron, Gelbach & Miller 2011).\n",
      "\n"
     ]
    },
    {
     "name": "stderr",
     "output_type": "stream",
     "text": [
      "Variance contained negative values in the diagonal and was 'fixed' (a la Cameron, Gelbach & Miller 2011).\n",
      "\n"
     ]
    },
    {
     "name": "stderr",
     "output_type": "stream",
     "text": [
      "Variance contained negative values in the diagonal and was 'fixed' (a la Cameron, Gelbach & Miller 2011).\n",
      "\n"
     ]
    },
    {
     "name": "stderr",
     "output_type": "stream",
     "text": [
      "Variance contained negative values in the diagonal and was 'fixed' (a la Cameron, Gelbach & Miller 2011).\n",
      "\n"
     ]
    },
    {
     "name": "stderr",
     "output_type": "stream",
     "text": [
      "Variance contained negative values in the diagonal and was 'fixed' (a la Cameron, Gelbach & Miller 2011).\n",
      "\n"
     ]
    },
    {
     "name": "stderr",
     "output_type": "stream",
     "text": [
      "Variance contained negative values in the diagonal and was 'fixed' (a la Cameron, Gelbach & Miller 2011).\n",
      "\n"
     ]
    },
    {
     "name": "stderr",
     "output_type": "stream",
     "text": [
      "Variance contained negative values in the diagonal and was 'fixed' (a la Cameron, Gelbach & Miller 2011).\n",
      "\n"
     ]
    },
    {
     "name": "stderr",
     "output_type": "stream",
     "text": [
      "Variance contained negative values in the diagonal and was 'fixed' (a la Cameron, Gelbach & Miller 2011).\n",
      "\n"
     ]
    },
    {
     "name": "stderr",
     "output_type": "stream",
     "text": [
      "Variance contained negative values in the diagonal and was 'fixed' (a la Cameron, Gelbach & Miller 2011).\n",
      "\n"
     ]
    },
    {
     "name": "stderr",
     "output_type": "stream",
     "text": [
      "Variance contained negative values in the diagonal and was 'fixed' (a la Cameron, Gelbach & Miller 2011).\n",
      "\n"
     ]
    },
    {
     "name": "stderr",
     "output_type": "stream",
     "text": [
      "Variance contained negative values in the diagonal and was 'fixed' (a la Cameron, Gelbach & Miller 2011).\n",
      "\n"
     ]
    },
    {
     "name": "stderr",
     "output_type": "stream",
     "text": [
      "Variance contained negative values in the diagonal and was 'fixed' (a la Cameron, Gelbach & Miller 2011).\n",
      "\n"
     ]
    },
    {
     "name": "stderr",
     "output_type": "stream",
     "text": [
      "Variance contained negative values in the diagonal and was 'fixed' (a la Cameron, Gelbach & Miller 2011).\n",
      "\n"
     ]
    },
    {
     "name": "stderr",
     "output_type": "stream",
     "text": [
      "Variance contained negative values in the diagonal and was 'fixed' (a la Cameron, Gelbach & Miller 2011).\n",
      "\n"
     ]
    },
    {
     "name": "stderr",
     "output_type": "stream",
     "text": [
      "Variance contained negative values in the diagonal and was 'fixed' (a la Cameron, Gelbach & Miller 2011).\n",
      "\n"
     ]
    },
    {
     "name": "stderr",
     "output_type": "stream",
     "text": [
      "Variance contained negative values in the diagonal and was 'fixed' (a la Cameron, Gelbach & Miller 2011).\n",
      "\n"
     ]
    },
    {
     "name": "stderr",
     "output_type": "stream",
     "text": [
      "Variance contained negative values in the diagonal and was 'fixed' (a la Cameron, Gelbach & Miller 2011).\n",
      "\n"
     ]
    },
    {
     "name": "stderr",
     "output_type": "stream",
     "text": [
      "Variance contained negative values in the diagonal and was 'fixed' (a la Cameron, Gelbach & Miller 2011).\n",
      "\n"
     ]
    },
    {
     "name": "stderr",
     "output_type": "stream",
     "text": [
      "Variance contained negative values in the diagonal and was 'fixed' (a la Cameron, Gelbach & Miller 2011).\n",
      "\n"
     ]
    },
    {
     "name": "stderr",
     "output_type": "stream",
     "text": [
      "Variance contained negative values in the diagonal and was 'fixed' (a la Cameron, Gelbach & Miller 2011).\n",
      "\n"
     ]
    },
    {
     "name": "stderr",
     "output_type": "stream",
     "text": [
      "Variance contained negative values in the diagonal and was 'fixed' (a la Cameron, Gelbach & Miller 2011).\n",
      "\n"
     ]
    },
    {
     "name": "stderr",
     "output_type": "stream",
     "text": [
      "Variance contained negative values in the diagonal and was 'fixed' (a la Cameron, Gelbach & Miller 2011).\n",
      "\n"
     ]
    },
    {
     "name": "stderr",
     "output_type": "stream",
     "text": [
      "Variance contained negative values in the diagonal and was 'fixed' (a la Cameron, Gelbach & Miller 2011).\n",
      "\n"
     ]
    },
    {
     "name": "stderr",
     "output_type": "stream",
     "text": [
      "Variance contained negative values in the diagonal and was 'fixed' (a la Cameron, Gelbach & Miller 2011).\n",
      "\n"
     ]
    },
    {
     "name": "stderr",
     "output_type": "stream",
     "text": [
      "Variance contained negative values in the diagonal and was 'fixed' (a la Cameron, Gelbach & Miller 2011).\n",
      "\n"
     ]
    },
    {
     "name": "stderr",
     "output_type": "stream",
     "text": [
      "Variance contained negative values in the diagonal and was 'fixed' (a la Cameron, Gelbach & Miller 2011).\n",
      "\n"
     ]
    },
    {
     "name": "stderr",
     "output_type": "stream",
     "text": [
      "Variance contained negative values in the diagonal and was 'fixed' (a la Cameron, Gelbach & Miller 2011).\n",
      "\n"
     ]
    },
    {
     "name": "stdout",
     "output_type": "stream",
     "text": [
      "151.415 sec elapsed\n"
     ]
    }
   ],
   "source": [
    "tic()\n",
    "si_model = run_models_with_knots(si, knot_combs, dependent_var, weather_var)\n",
    "toc()"
   ]
  },
  {
   "cell_type": "code",
   "execution_count": 35,
   "id": "084d03d7-e779-40fc-abac-4d18cf13560f",
   "metadata": {
    "execution": {
     "iopub.execute_input": "2024-06-24T01:04:31.323808Z",
     "iopub.status.busy": "2024-06-24T01:04:31.323177Z",
     "iopub.status.idle": "2024-06-24T01:04:31.330957Z",
     "shell.execute_reply": "2024-06-24T01:04:31.330213Z"
    },
    "vscode": {
     "languageId": "r"
    }
   },
   "outputs": [
    {
     "data": {
      "text/html": [
       "'17_reduced_form_model_thi_mean_t0_3d_fixed_effect_1980-2023_2024_06_24_02_16_55_fat_si_model.Rdata'"
      ],
      "text/latex": [
       "'17\\_reduced\\_form\\_model\\_thi\\_mean\\_t0\\_3d\\_fixed\\_effect\\_1980-2023\\_2024\\_06\\_24\\_02\\_16\\_55\\_fat\\_si\\_model.Rdata'"
      ],
      "text/markdown": [
       "'17_reduced_form_model_thi_mean_t0_3d_fixed_effect_1980-2023_2024_06_24_02_16_55_fat_si_model.Rdata'"
      ],
      "text/plain": [
       "[1] \"17_reduced_form_model_thi_mean_t0_3d_fixed_effect_1980-2023_2024_06_24_02_16_55_fat_si_model.Rdata\""
      ]
     },
     "metadata": {},
     "output_type": "display_data"
    }
   ],
   "source": [
    "si_model_name <- paste0(concatenated_string, \"_si_model.Rdata\")\n",
    "si_model_name"
   ]
  },
  {
   "cell_type": "code",
   "execution_count": 36,
   "id": "1b5f0645-f62c-477b-a503-80d0ede11c9d",
   "metadata": {
    "execution": {
     "iopub.execute_input": "2024-06-24T01:04:31.335553Z",
     "iopub.status.busy": "2024-06-24T01:04:31.334785Z",
     "iopub.status.idle": "2024-06-24T01:04:31.341129Z",
     "shell.execute_reply": "2024-06-24T01:04:31.340372Z"
    },
    "vscode": {
     "languageId": "r"
    }
   },
   "outputs": [],
   "source": [
    "if (save) {\n",
    "    tic()\n",
    "    saveRDS(si_model, file = si_model_name, compress=T)\n",
    "    toc()\n",
    "}"
   ]
  },
  {
   "cell_type": "code",
   "execution_count": 37,
   "id": "3a1758a4-a596-4be3-9c2f-0e497e5b4a7f",
   "metadata": {
    "execution": {
     "iopub.execute_input": "2024-06-24T01:04:31.343676Z",
     "iopub.status.busy": "2024-06-24T01:04:31.343045Z",
     "iopub.status.idle": "2024-06-24T01:04:31.349579Z",
     "shell.execute_reply": "2024-06-24T01:04:31.348848Z"
    },
    "vscode": {
     "languageId": "r"
    }
   },
   "outputs": [
    {
     "data": {
      "text/html": [
       "35"
      ],
      "text/latex": [
       "35"
      ],
      "text/markdown": [
       "35"
      ],
      "text/plain": [
       "[1] 35"
      ]
     },
     "metadata": {},
     "output_type": "display_data"
    }
   ],
   "source": [
    "si_model$best_knot"
   ]
  },
  {
   "cell_type": "code",
   "execution_count": 38,
   "id": "90ee105b-3cab-40ba-bfbe-2b932db949c6",
   "metadata": {
    "execution": {
     "iopub.execute_input": "2024-06-24T01:04:31.352010Z",
     "iopub.status.busy": "2024-06-24T01:04:31.351385Z",
     "iopub.status.idle": "2024-06-24T01:04:31.363891Z",
     "shell.execute_reply": "2024-06-24T01:04:31.363165Z"
    },
    "vscode": {
     "languageId": "r"
    }
   },
   "outputs": [
    {
     "data": {
      "text/plain": [
       "OLS estimation, Dep. Var.: fat\n",
       "Observations: 4,510,321\n",
       "Fixed-effects: farmId: 15,044\n",
       "Standard-errors: Clustered (year & farmId) \n",
       "                                         Estimate Std. Error    t value   Pr(>|t|)    \n",
       "lspline(thi_mean_t0_3d, knots = c(35))1 -0.002787   0.000493  -5.649666 4.7168e-06 ***\n",
       "lspline(thi_mean_t0_3d, knots = c(35))2 -0.008297   0.000494 -16.788498 3.7813e-16 ***\n",
       "days_in_milk                             0.001470   0.000022  65.523957  < 2.2e-16 ***\n",
       "lactationNumber                         -0.015705   0.000568 -27.645800  < 2.2e-16 ***\n",
       "precip_mean_t0_3d                       -0.000204   0.000488  -0.417194 6.7972e-01    \n",
       "I(precip_mean_t0_3d^2)                   0.000025   0.000019   1.333713 1.9305e-01    \n",
       "year1996                                 0.026174   0.001030  25.405297  < 2.2e-16 ***\n",
       "year1997                                 0.072342   0.000643 112.514156  < 2.2e-16 ***\n",
       "year1998                                 0.062339   0.000419 148.688098  < 2.2e-16 ***\n",
       "year1999                                 0.007882   0.001203   6.551886 4.2010e-07 ***\n",
       "year2000                                -0.062924   0.001581 -39.810523  < 2.2e-16 ***\n",
       "year2001                                -0.095627   0.001998 -47.854952  < 2.2e-16 ***\n",
       "year2002                                -0.151175   0.002253 -67.099977  < 2.2e-16 ***\n",
       "year2003                                -0.172559   0.002794 -61.752949  < 2.2e-16 ***\n",
       "year2004                                -0.138067   0.002894 -47.713024  < 2.2e-16 ***\n",
       "year2005                                -0.109168   0.003117 -35.028208  < 2.2e-16 ***\n",
       "year2006                                -0.090177   0.003108 -29.013130  < 2.2e-16 ***\n",
       "year2007                                -0.094957   0.003157 -30.076989  < 2.2e-16 ***\n",
       "year2008                                -0.060141   0.003295 -18.250962  < 2.2e-16 ***\n",
       "year2009                                -0.063543   0.003738 -16.997165 2.7568e-16 ***\n",
       "year2010                                -0.047268   0.003976 -11.887961 1.8581e-12 ***\n",
       "year2011                                -0.054587   0.003878 -14.075491 3.1670e-14 ***\n",
       "year2012                                -0.021647   0.003906  -5.541554 6.3269e-06 ***\n",
       "year2013                                -0.023485   0.004115  -5.707763 4.0292e-06 ***\n",
       "year2014                                -0.033164   0.004157  -7.978333 1.0904e-08 ***\n",
       "year2015                                -0.020478   0.004431  -4.621543 7.8011e-05 ***\n",
       "year2016                                 0.020153   0.004112   4.901369 3.6319e-05 ***\n",
       "year2017                                -0.007584   0.004436  -1.709565 9.8408e-02 .  \n",
       "year2018                                 0.017895   0.004360   4.104074 3.1769e-04 ***\n",
       "year2019                                 0.013829   0.004583   3.017269 5.3822e-03 ** \n",
       "year2020                                 0.032399   0.004460   7.263671 6.5907e-08 ***\n",
       "year2021                                 0.048091   0.004766  10.090831 7.8802e-11 ***\n",
       "year2022                                 0.043153   0.005072   8.508567 2.9940e-09 ***\n",
       "year2023                                 0.062906   0.004762  13.210188 1.4945e-13 ***\n",
       "---\n",
       "Signif. codes:  0 '***' 0.001 '**' 0.01 '*' 0.05 '.' 0.1 ' ' 1\n",
       "RMSE: 0.502869     Adj. R2: 0.138581\n",
       "                 Within R2: 0.085795"
      ]
     },
     "metadata": {},
     "output_type": "display_data"
    }
   ],
   "source": [
    "summary(si_model$best_model)"
   ]
  },
  {
   "cell_type": "code",
   "execution_count": 39,
   "id": "cb76c1f4-593f-483c-b2da-42062eaf310e",
   "metadata": {
    "execution": {
     "iopub.execute_input": "2024-06-24T01:04:31.366258Z",
     "iopub.status.busy": "2024-06-24T01:04:31.365642Z",
     "iopub.status.idle": "2024-06-24T01:04:31.493833Z",
     "shell.execute_reply": "2024-06-24T01:04:31.493057Z"
    },
    "vscode": {
     "languageId": "r"
    }
   },
   "outputs": [
    {
     "name": "stderr",
     "output_type": "stream",
     "text": [
      "Warning message:\n",
      "“\u001b[1m\u001b[22mRemoved 41 rows containing missing values or values outside the scale range (`geom_line()`).”\n"
     ]
    },
    {
     "data": {
      "image/png": "[encoded data removed]",
      "text/plain": [
       "plot without title"
      ]
     },
     "metadata": {
      "image/png": {
       "height": 420,
       "width": 420
      }
     },
     "output_type": "display_data"
    }
   ],
   "source": [
    "si_p <- create_effect_plot(si, si_model$best_model, si_model$best_knot, dependent_var, weather_var, \"SI\")\n",
    "si_p$plot"
   ]
  },
  {
   "cell_type": "markdown",
   "id": "4da41b9b-f8a7-41f2-9eea-5debc95d61e2",
   "metadata": {},
   "source": [
    "## Swiss Fleckvieh"
   ]
  },
  {
   "cell_type": "code",
   "execution_count": 40,
   "id": "6b26fe07-554a-4ab6-9b39-bee820e46198",
   "metadata": {
    "execution": {
     "iopub.execute_input": "2024-06-24T01:04:31.496458Z",
     "iopub.status.busy": "2024-06-24T01:04:31.495843Z",
     "iopub.status.idle": "2024-06-24T01:14:31.263247Z",
     "shell.execute_reply": "2024-06-24T01:14:31.262445Z"
    },
    "vscode": {
     "languageId": "r"
    }
   },
   "outputs": [
    {
     "name": "stderr",
     "output_type": "stream",
     "text": [
      "Variance contained negative values in the diagonal and was 'fixed' (a la Cameron, Gelbach & Miller 2011).\n",
      "\n"
     ]
    },
    {
     "name": "stderr",
     "output_type": "stream",
     "text": [
      "Variance contained negative values in the diagonal and was 'fixed' (a la Cameron, Gelbach & Miller 2011).\n",
      "\n"
     ]
    },
    {
     "name": "stderr",
     "output_type": "stream",
     "text": [
      "Variance contained negative values in the diagonal and was 'fixed' (a la Cameron, Gelbach & Miller 2011).\n",
      "\n"
     ]
    },
    {
     "name": "stderr",
     "output_type": "stream",
     "text": [
      "Variance contained negative values in the diagonal and was 'fixed' (a la Cameron, Gelbach & Miller 2011).\n",
      "\n"
     ]
    },
    {
     "name": "stderr",
     "output_type": "stream",
     "text": [
      "Variance contained negative values in the diagonal and was 'fixed' (a la Cameron, Gelbach & Miller 2011).\n",
      "\n"
     ]
    },
    {
     "name": "stderr",
     "output_type": "stream",
     "text": [
      "Variance contained negative values in the diagonal and was 'fixed' (a la Cameron, Gelbach & Miller 2011).\n",
      "\n"
     ]
    },
    {
     "name": "stderr",
     "output_type": "stream",
     "text": [
      "Variance contained negative values in the diagonal and was 'fixed' (a la Cameron, Gelbach & Miller 2011).\n",
      "\n"
     ]
    },
    {
     "name": "stderr",
     "output_type": "stream",
     "text": [
      "Variance contained negative values in the diagonal and was 'fixed' (a la Cameron, Gelbach & Miller 2011).\n",
      "\n"
     ]
    },
    {
     "name": "stderr",
     "output_type": "stream",
     "text": [
      "Variance contained negative values in the diagonal and was 'fixed' (a la Cameron, Gelbach & Miller 2011).\n",
      "\n"
     ]
    },
    {
     "name": "stderr",
     "output_type": "stream",
     "text": [
      "Variance contained negative values in the diagonal and was 'fixed' (a la Cameron, Gelbach & Miller 2011).\n",
      "\n"
     ]
    },
    {
     "name": "stderr",
     "output_type": "stream",
     "text": [
      "Variance contained negative values in the diagonal and was 'fixed' (a la Cameron, Gelbach & Miller 2011).\n",
      "\n"
     ]
    },
    {
     "name": "stderr",
     "output_type": "stream",
     "text": [
      "Variance contained negative values in the diagonal and was 'fixed' (a la Cameron, Gelbach & Miller 2011).\n",
      "\n"
     ]
    },
    {
     "name": "stderr",
     "output_type": "stream",
     "text": [
      "Variance contained negative values in the diagonal and was 'fixed' (a la Cameron, Gelbach & Miller 2011).\n",
      "\n"
     ]
    },
    {
     "name": "stderr",
     "output_type": "stream",
     "text": [
      "Variance contained negative values in the diagonal and was 'fixed' (a la Cameron, Gelbach & Miller 2011).\n",
      "\n"
     ]
    },
    {
     "name": "stderr",
     "output_type": "stream",
     "text": [
      "Variance contained negative values in the diagonal and was 'fixed' (a la Cameron, Gelbach & Miller 2011).\n",
      "\n"
     ]
    },
    {
     "name": "stderr",
     "output_type": "stream",
     "text": [
      "Variance contained negative values in the diagonal and was 'fixed' (a la Cameron, Gelbach & Miller 2011).\n",
      "\n"
     ]
    },
    {
     "name": "stderr",
     "output_type": "stream",
     "text": [
      "Variance contained negative values in the diagonal and was 'fixed' (a la Cameron, Gelbach & Miller 2011).\n",
      "\n"
     ]
    },
    {
     "name": "stderr",
     "output_type": "stream",
     "text": [
      "Variance contained negative values in the diagonal and was 'fixed' (a la Cameron, Gelbach & Miller 2011).\n",
      "\n"
     ]
    },
    {
     "name": "stderr",
     "output_type": "stream",
     "text": [
      "Variance contained negative values in the diagonal and was 'fixed' (a la Cameron, Gelbach & Miller 2011).\n",
      "\n"
     ]
    },
    {
     "name": "stderr",
     "output_type": "stream",
     "text": [
      "Variance contained negative values in the diagonal and was 'fixed' (a la Cameron, Gelbach & Miller 2011).\n",
      "\n"
     ]
    },
    {
     "name": "stderr",
     "output_type": "stream",
     "text": [
      "Variance contained negative values in the diagonal and was 'fixed' (a la Cameron, Gelbach & Miller 2011).\n",
      "\n"
     ]
    },
    {
     "name": "stderr",
     "output_type": "stream",
     "text": [
      "Variance contained negative values in the diagonal and was 'fixed' (a la Cameron, Gelbach & Miller 2011).\n",
      "\n"
     ]
    },
    {
     "name": "stderr",
     "output_type": "stream",
     "text": [
      "Variance contained negative values in the diagonal and was 'fixed' (a la Cameron, Gelbach & Miller 2011).\n",
      "\n"
     ]
    },
    {
     "name": "stderr",
     "output_type": "stream",
     "text": [
      "Variance contained negative values in the diagonal and was 'fixed' (a la Cameron, Gelbach & Miller 2011).\n",
      "\n"
     ]
    },
    {
     "name": "stderr",
     "output_type": "stream",
     "text": [
      "Variance contained negative values in the diagonal and was 'fixed' (a la Cameron, Gelbach & Miller 2011).\n",
      "\n"
     ]
    },
    {
     "name": "stderr",
     "output_type": "stream",
     "text": [
      "Variance contained negative values in the diagonal and was 'fixed' (a la Cameron, Gelbach & Miller 2011).\n",
      "\n"
     ]
    },
    {
     "name": "stderr",
     "output_type": "stream",
     "text": [
      "Variance contained negative values in the diagonal and was 'fixed' (a la Cameron, Gelbach & Miller 2011).\n",
      "\n"
     ]
    },
    {
     "name": "stdout",
     "output_type": "stream",
     "text": [
      "599.76 sec elapsed\n"
     ]
    }
   ],
   "source": [
    "tic()\n",
    "sf_model = run_models_with_knots(sf, knot_combs, dependent_var, weather_var)\n",
    "toc()"
   ]
  },
  {
   "cell_type": "code",
   "execution_count": 41,
   "id": "92fc0d30-a215-43c7-9e0c-fa3d88c83338",
   "metadata": {
    "execution": {
     "iopub.execute_input": "2024-06-24T01:14:31.295209Z",
     "iopub.status.busy": "2024-06-24T01:14:31.294587Z",
     "iopub.status.idle": "2024-06-24T01:14:31.302258Z",
     "shell.execute_reply": "2024-06-24T01:14:31.301522Z"
    },
    "vscode": {
     "languageId": "r"
    }
   },
   "outputs": [
    {
     "data": {
      "text/html": [
       "'17_reduced_form_model_thi_mean_t0_3d_fixed_effect_1980-2023_2024_06_24_02_16_55_fat_sf_model.Rdata'"
      ],
      "text/latex": [
       "'17\\_reduced\\_form\\_model\\_thi\\_mean\\_t0\\_3d\\_fixed\\_effect\\_1980-2023\\_2024\\_06\\_24\\_02\\_16\\_55\\_fat\\_sf\\_model.Rdata'"
      ],
      "text/markdown": [
       "'17_reduced_form_model_thi_mean_t0_3d_fixed_effect_1980-2023_2024_06_24_02_16_55_fat_sf_model.Rdata'"
      ],
      "text/plain": [
       "[1] \"17_reduced_form_model_thi_mean_t0_3d_fixed_effect_1980-2023_2024_06_24_02_16_55_fat_sf_model.Rdata\""
      ]
     },
     "metadata": {},
     "output_type": "display_data"
    }
   ],
   "source": [
    "sf_model_name <- paste0(concatenated_string, \"_sf_model.Rdata\")\n",
    "sf_model_name"
   ]
  },
  {
   "cell_type": "code",
   "execution_count": 42,
   "id": "cd788ec1-833e-4677-a75b-57db926410d7",
   "metadata": {
    "execution": {
     "iopub.execute_input": "2024-06-24T01:14:31.307134Z",
     "iopub.status.busy": "2024-06-24T01:14:31.306359Z",
     "iopub.status.idle": "2024-06-24T01:14:31.313256Z",
     "shell.execute_reply": "2024-06-24T01:14:31.312514Z"
    },
    "vscode": {
     "languageId": "r"
    }
   },
   "outputs": [],
   "source": [
    "if (save) {\n",
    "    tic()\n",
    "    saveRDS(sf_model, file = sf_model_name, compress=T)\n",
    "    toc()\n",
    "}"
   ]
  },
  {
   "cell_type": "code",
   "execution_count": 43,
   "id": "93df992b-e0a0-45ac-97ca-59799099a44e",
   "metadata": {
    "execution": {
     "iopub.execute_input": "2024-06-24T01:14:31.315911Z",
     "iopub.status.busy": "2024-06-24T01:14:31.315307Z",
     "iopub.status.idle": "2024-06-24T01:14:31.322712Z",
     "shell.execute_reply": "2024-06-24T01:14:31.321878Z"
    },
    "vscode": {
     "languageId": "r"
    }
   },
   "outputs": [
    {
     "data": {
      "text/html": [
       "35"
      ],
      "text/latex": [
       "35"
      ],
      "text/markdown": [
       "35"
      ],
      "text/plain": [
       "[1] 35"
      ]
     },
     "metadata": {},
     "output_type": "display_data"
    }
   ],
   "source": [
    "sf_model$best_knot"
   ]
  },
  {
   "cell_type": "code",
   "execution_count": 44,
   "id": "3d2ca0f4-cf94-43d5-b36c-cbb3d4ce959d",
   "metadata": {
    "execution": {
     "iopub.execute_input": "2024-06-24T01:14:31.325338Z",
     "iopub.status.busy": "2024-06-24T01:14:31.324737Z",
     "iopub.status.idle": "2024-06-24T01:14:31.338170Z",
     "shell.execute_reply": "2024-06-24T01:14:31.337312Z"
    },
    "vscode": {
     "languageId": "r"
    }
   },
   "outputs": [
    {
     "data": {
      "text/plain": [
       "OLS estimation, Dep. Var.: fat\n",
       "Observations: 18,075,998\n",
       "Fixed-effects: farmId: 28,014\n",
       "Standard-errors: Clustered (year & farmId) \n",
       "                                            Estimate Std. Error    t value   Pr(>|t|)    \n",
       "lspline(thi_mean_t0_3d, knots = c(35))1 -0.004089467   0.000537  -7.619575 2.1172e-08 ***\n",
       "lspline(thi_mean_t0_3d, knots = c(35))2 -0.010643418   0.000532 -20.024401  < 2.2e-16 ***\n",
       "days_in_milk                             0.001750092   0.000030  58.607159  < 2.2e-16 ***\n",
       "lactationNumber                         -0.005398294   0.001035  -5.217524 1.3857e-05 ***\n",
       "precip_mean_t0_3d                        0.000670246   0.000351   1.910388 6.6017e-02 .  \n",
       "I(precip_mean_t0_3d^2)                  -0.000000648   0.000016  -0.039572 9.6871e-01    \n",
       "year1995                                 0.024843338   0.000535  46.401058  < 2.2e-16 ***\n",
       "year1996                                 0.054040201   0.000975  55.443009  < 2.2e-16 ***\n",
       "year1997                                 0.091913381   0.000620 148.162842  < 2.2e-16 ***\n",
       "year1998                                 0.062732260   0.000705  88.976804  < 2.2e-16 ***\n",
       "year1999                                -0.000499742   0.001291  -0.387150 7.0147e-01    \n",
       "year2000                                -0.080410871   0.001329 -60.523152  < 2.2e-16 ***\n",
       "year2001                                -0.084286650   0.001635 -51.557064  < 2.2e-16 ***\n",
       "year2002                                -0.129251338   0.001669 -77.423646  < 2.2e-16 ***\n",
       "year2003                                -0.153091618   0.001735 -88.246682  < 2.2e-16 ***\n",
       "year2004                                -0.147116714   0.002268 -64.873731  < 2.2e-16 ***\n",
       "year2005                                -0.104755249   0.002352 -44.540449  < 2.2e-16 ***\n",
       "year2006                                -0.089321346   0.002285 -39.095717  < 2.2e-16 ***\n",
       "year2007                                -0.099671840   0.002404 -41.465377  < 2.2e-16 ***\n",
       "year2008                                -0.065856217   0.002560 -25.724539  < 2.2e-16 ***\n",
       "year2009                                -0.065447270   0.002688 -24.351288  < 2.2e-16 ***\n",
       "year2010                                -0.043002455   0.002870 -14.982424 3.4622e-15 ***\n",
       "year2011                                -0.049727029   0.002643 -18.813496  < 2.2e-16 ***\n",
       "year2012                                -0.000630814   0.002762  -0.228382 8.2095e-01    \n",
       "year2013                                -0.022421577   0.002879  -7.788960 1.3706e-08 ***\n",
       "year2014                                -0.036778351   0.002834 -12.976834 1.3226e-13 ***\n",
       "year2015                                -0.008037627   0.002871  -2.799545 9.0083e-03 ** \n",
       "year2016                                 0.026385636   0.003085   8.553663 2.0136e-09 ***\n",
       "year2017                                -0.002541228   0.003048  -0.833698 4.1127e-01    \n",
       "year2018                                 0.051536249   0.003133  16.451337 3.0307e-16 ***\n",
       "year2019                                 0.054924709   0.003302  16.632451 2.2722e-16 ***\n",
       "year2020                                 0.099388077   0.003367  29.520523  < 2.2e-16 ***\n",
       "year2021                                 0.118092668   0.003498  33.764624  < 2.2e-16 ***\n",
       "year2022                                 0.112341626   0.003500  32.095574  < 2.2e-16 ***\n",
       "year2023                                 0.155879900   0.003438  45.336940  < 2.2e-16 ***\n",
       "---\n",
       "Signif. codes:  0 '***' 0.001 '**' 0.01 '*' 0.05 '.' 0.1 ' ' 1\n",
       "RMSE: 0.557636     Adj. R2: 0.165432\n",
       "                 Within R2: 0.113445"
      ]
     },
     "metadata": {},
     "output_type": "display_data"
    }
   ],
   "source": [
    "summary(sf_model$best_model)"
   ]
  },
  {
   "cell_type": "code",
   "execution_count": 45,
   "id": "f9a3eee1-dddb-472e-9f53-9d85dc96e770",
   "metadata": {
    "execution": {
     "iopub.execute_input": "2024-06-24T01:14:31.340810Z",
     "iopub.status.busy": "2024-06-24T01:14:31.340200Z",
     "iopub.status.idle": "2024-06-24T01:14:31.510653Z",
     "shell.execute_reply": "2024-06-24T01:14:31.509492Z"
    },
    "vscode": {
     "languageId": "r"
    }
   },
   "outputs": [
    {
     "name": "stderr",
     "output_type": "stream",
     "text": [
      "Warning message:\n",
      "“\u001b[1m\u001b[22mRemoved 40 rows containing missing values or values outside the scale range (`geom_line()`).”\n"
     ]
    },
    {
     "data": {
      "image/png": "[encoded data removed]",
      "text/plain": [
       "plot without title"
      ]
     },
     "metadata": {
      "image/png": {
       "height": 420,
       "width": 420
      }
     },
     "output_type": "display_data"
    }
   ],
   "source": [
    "sf_p <- create_effect_plot(sf, sf_model$best_model, sf_model$best_knot, dependent_var, weather_var, \"SF\")\n",
    "sf_p$plot"
   ]
  },
  {
   "cell_type": "markdown",
   "id": "87f72462-dbce-4907-9de4-fc42017cd690",
   "metadata": {},
   "source": [
    "# Original Braunvieh"
   ]
  },
  {
   "cell_type": "code",
   "execution_count": 46,
   "id": "a87ba09c-e38f-49ce-b3d5-0623ed8b8260",
   "metadata": {
    "execution": {
     "iopub.execute_input": "2024-06-24T01:14:31.513689Z",
     "iopub.status.busy": "2024-06-24T01:14:31.513053Z",
     "iopub.status.idle": "2024-06-24T01:15:59.051283Z",
     "shell.execute_reply": "2024-06-24T01:15:59.050098Z"
    },
    "vscode": {
     "languageId": "r"
    }
   },
   "outputs": [
    {
     "name": "stderr",
     "output_type": "stream",
     "text": [
      "Variance contained negative values in the diagonal and was 'fixed' (a la Cameron, Gelbach & Miller 2011).\n",
      "\n"
     ]
    },
    {
     "name": "stderr",
     "output_type": "stream",
     "text": [
      "Variance contained negative values in the diagonal and was 'fixed' (a la Cameron, Gelbach & Miller 2011).\n",
      "\n"
     ]
    },
    {
     "name": "stderr",
     "output_type": "stream",
     "text": [
      "Variance contained negative values in the diagonal and was 'fixed' (a la Cameron, Gelbach & Miller 2011).\n",
      "\n"
     ]
    },
    {
     "name": "stderr",
     "output_type": "stream",
     "text": [
      "Variance contained negative values in the diagonal and was 'fixed' (a la Cameron, Gelbach & Miller 2011).\n",
      "\n"
     ]
    },
    {
     "name": "stderr",
     "output_type": "stream",
     "text": [
      "Variance contained negative values in the diagonal and was 'fixed' (a la Cameron, Gelbach & Miller 2011).\n",
      "\n"
     ]
    },
    {
     "name": "stderr",
     "output_type": "stream",
     "text": [
      "Variance contained negative values in the diagonal and was 'fixed' (a la Cameron, Gelbach & Miller 2011).\n",
      "\n"
     ]
    },
    {
     "name": "stderr",
     "output_type": "stream",
     "text": [
      "Variance contained negative values in the diagonal and was 'fixed' (a la Cameron, Gelbach & Miller 2011).\n",
      "\n"
     ]
    },
    {
     "name": "stderr",
     "output_type": "stream",
     "text": [
      "Variance contained negative values in the diagonal and was 'fixed' (a la Cameron, Gelbach & Miller 2011).\n",
      "\n"
     ]
    },
    {
     "name": "stderr",
     "output_type": "stream",
     "text": [
      "Variance contained negative values in the diagonal and was 'fixed' (a la Cameron, Gelbach & Miller 2011).\n",
      "\n"
     ]
    },
    {
     "name": "stderr",
     "output_type": "stream",
     "text": [
      "Variance contained negative values in the diagonal and was 'fixed' (a la Cameron, Gelbach & Miller 2011).\n",
      "\n"
     ]
    },
    {
     "name": "stderr",
     "output_type": "stream",
     "text": [
      "Variance contained negative values in the diagonal and was 'fixed' (a la Cameron, Gelbach & Miller 2011).\n",
      "\n"
     ]
    },
    {
     "name": "stderr",
     "output_type": "stream",
     "text": [
      "Variance contained negative values in the diagonal and was 'fixed' (a la Cameron, Gelbach & Miller 2011).\n",
      "\n"
     ]
    },
    {
     "name": "stderr",
     "output_type": "stream",
     "text": [
      "Variance contained negative values in the diagonal and was 'fixed' (a la Cameron, Gelbach & Miller 2011).\n",
      "\n"
     ]
    },
    {
     "name": "stderr",
     "output_type": "stream",
     "text": [
      "Variance contained negative values in the diagonal and was 'fixed' (a la Cameron, Gelbach & Miller 2011).\n",
      "\n"
     ]
    },
    {
     "name": "stderr",
     "output_type": "stream",
     "text": [
      "Variance contained negative values in the diagonal and was 'fixed' (a la Cameron, Gelbach & Miller 2011).\n",
      "\n"
     ]
    },
    {
     "name": "stderr",
     "output_type": "stream",
     "text": [
      "Variance contained negative values in the diagonal and was 'fixed' (a la Cameron, Gelbach & Miller 2011).\n",
      "\n"
     ]
    },
    {
     "name": "stderr",
     "output_type": "stream",
     "text": [
      "Variance contained negative values in the diagonal and was 'fixed' (a la Cameron, Gelbach & Miller 2011).\n",
      "\n"
     ]
    },
    {
     "name": "stderr",
     "output_type": "stream",
     "text": [
      "Variance contained negative values in the diagonal and was 'fixed' (a la Cameron, Gelbach & Miller 2011).\n",
      "\n"
     ]
    },
    {
     "name": "stderr",
     "output_type": "stream",
     "text": [
      "Variance contained negative values in the diagonal and was 'fixed' (a la Cameron, Gelbach & Miller 2011).\n",
      "\n"
     ]
    },
    {
     "name": "stderr",
     "output_type": "stream",
     "text": [
      "Variance contained negative values in the diagonal and was 'fixed' (a la Cameron, Gelbach & Miller 2011).\n",
      "\n"
     ]
    },
    {
     "name": "stderr",
     "output_type": "stream",
     "text": [
      "Variance contained negative values in the diagonal and was 'fixed' (a la Cameron, Gelbach & Miller 2011).\n",
      "\n"
     ]
    },
    {
     "name": "stderr",
     "output_type": "stream",
     "text": [
      "Variance contained negative values in the diagonal and was 'fixed' (a la Cameron, Gelbach & Miller 2011).\n",
      "\n"
     ]
    },
    {
     "name": "stderr",
     "output_type": "stream",
     "text": [
      "Variance contained negative values in the diagonal and was 'fixed' (a la Cameron, Gelbach & Miller 2011).\n",
      "\n"
     ]
    },
    {
     "name": "stderr",
     "output_type": "stream",
     "text": [
      "Variance contained negative values in the diagonal and was 'fixed' (a la Cameron, Gelbach & Miller 2011).\n",
      "\n"
     ]
    },
    {
     "name": "stderr",
     "output_type": "stream",
     "text": [
      "Variance contained negative values in the diagonal and was 'fixed' (a la Cameron, Gelbach & Miller 2011).\n",
      "\n"
     ]
    },
    {
     "name": "stderr",
     "output_type": "stream",
     "text": [
      "Variance contained negative values in the diagonal and was 'fixed' (a la Cameron, Gelbach & Miller 2011).\n",
      "\n"
     ]
    },
    {
     "name": "stderr",
     "output_type": "stream",
     "text": [
      "Variance contained negative values in the diagonal and was 'fixed' (a la Cameron, Gelbach & Miller 2011).\n",
      "\n"
     ]
    },
    {
     "name": "stdout",
     "output_type": "stream",
     "text": [
      "87.529 sec elapsed\n"
     ]
    }
   ],
   "source": [
    "tic()\n",
    "ob_model = run_models_with_knots(ob, knot_combs, dependent_var, weather_var)\n",
    "toc()"
   ]
  },
  {
   "cell_type": "code",
   "execution_count": 47,
   "id": "4e884e30-6ec9-4fc2-b284-4a6487172e2b",
   "metadata": {
    "execution": {
     "iopub.execute_input": "2024-06-24T01:15:59.058270Z",
     "iopub.status.busy": "2024-06-24T01:15:59.057640Z",
     "iopub.status.idle": "2024-06-24T01:15:59.066229Z",
     "shell.execute_reply": "2024-06-24T01:15:59.065387Z"
    },
    "vscode": {
     "languageId": "r"
    }
   },
   "outputs": [
    {
     "data": {
      "text/html": [
       "'17_reduced_form_model_thi_mean_t0_3d_fixed_effect_1980-2023_2024_06_24_02_16_55_fat_ob_model.Rdata'"
      ],
      "text/latex": [
       "'17\\_reduced\\_form\\_model\\_thi\\_mean\\_t0\\_3d\\_fixed\\_effect\\_1980-2023\\_2024\\_06\\_24\\_02\\_16\\_55\\_fat\\_ob\\_model.Rdata'"
      ],
      "text/markdown": [
       "'17_reduced_form_model_thi_mean_t0_3d_fixed_effect_1980-2023_2024_06_24_02_16_55_fat_ob_model.Rdata'"
      ],
      "text/plain": [
       "[1] \"17_reduced_form_model_thi_mean_t0_3d_fixed_effect_1980-2023_2024_06_24_02_16_55_fat_ob_model.Rdata\""
      ]
     },
     "metadata": {},
     "output_type": "display_data"
    }
   ],
   "source": [
    "ob_model_name <- paste0(concatenated_string, \"_ob_model.Rdata\")\n",
    "ob_model_name"
   ]
  },
  {
   "cell_type": "code",
   "execution_count": 48,
   "id": "fdab3587-2a61-4e9b-b26c-e6cea235920c",
   "metadata": {
    "execution": {
     "iopub.execute_input": "2024-06-24T01:15:59.068806Z",
     "iopub.status.busy": "2024-06-24T01:15:59.068196Z",
     "iopub.status.idle": "2024-06-24T01:15:59.073987Z",
     "shell.execute_reply": "2024-06-24T01:15:59.073250Z"
    },
    "vscode": {
     "languageId": "r"
    }
   },
   "outputs": [],
   "source": [
    "if (save) {\n",
    "    tic()\n",
    "    saveRDS(ob_model, file = ob_model_name, compress=T)\n",
    "    toc()\n",
    "}"
   ]
  },
  {
   "cell_type": "code",
   "execution_count": 49,
   "id": "6d576060-2b21-475d-bccf-837c2157a437",
   "metadata": {
    "execution": {
     "iopub.execute_input": "2024-06-24T01:15:59.076508Z",
     "iopub.status.busy": "2024-06-24T01:15:59.075903Z",
     "iopub.status.idle": "2024-06-24T01:15:59.083259Z",
     "shell.execute_reply": "2024-06-24T01:15:59.082434Z"
    },
    "vscode": {
     "languageId": "r"
    }
   },
   "outputs": [
    {
     "data": {
      "text/html": [
       "35"
      ],
      "text/latex": [
       "35"
      ],
      "text/markdown": [
       "35"
      ],
      "text/plain": [
       "[1] 35"
      ]
     },
     "metadata": {},
     "output_type": "display_data"
    }
   ],
   "source": [
    "ob_model$best_knot"
   ]
  },
  {
   "cell_type": "code",
   "execution_count": 50,
   "id": "6c73cc59-b92a-4462-85bf-924d815557aa",
   "metadata": {
    "execution": {
     "iopub.execute_input": "2024-06-24T01:15:59.085799Z",
     "iopub.status.busy": "2024-06-24T01:15:59.085185Z",
     "iopub.status.idle": "2024-06-24T01:15:59.098637Z",
     "shell.execute_reply": "2024-06-24T01:15:59.097807Z"
    },
    "vscode": {
     "languageId": "r"
    }
   },
   "outputs": [
    {
     "data": {
      "text/plain": [
       "OLS estimation, Dep. Var.: fat\n",
       "Observations: 1,956,438\n",
       "Fixed-effects: farmId: 8,591\n",
       "Standard-errors: Clustered (year & farmId) \n",
       "                                           Estimate Std. Error    t value   Pr(>|t|)    \n",
       "lspline(thi_mean_t0_3d, knots = c(35))1 -0.00254549   0.000387  -6.569857 2.1073e-07 ***\n",
       "lspline(thi_mean_t0_3d, knots = c(35))2 -0.00718831   0.000365 -19.672974  < 2.2e-16 ***\n",
       "days_in_milk                             0.00165041   0.000019  85.558523  < 2.2e-16 ***\n",
       "lactationNumber                         -0.01988457   0.000749 -26.564786  < 2.2e-16 ***\n",
       "precip_mean_t0_3d                        0.00087021   0.000399   2.178418 3.6854e-02 *  \n",
       "I(precip_mean_t0_3d^2)                  -0.00000500   0.000016  -0.309623 7.5886e-01    \n",
       "year1992                                -0.00141153   0.001584  -0.891156 3.7950e-01    \n",
       "year1993                                -0.01030395   0.004904  -2.101085 4.3599e-02 *  \n",
       "year1994                                -0.09031057   0.007107 -12.706869 4.7810e-14 ***\n",
       "year1995                                -0.10504582   0.008362 -12.562265 6.4981e-14 ***\n",
       "year1996                                -0.06581000   0.009821  -6.700846 1.4507e-07 ***\n",
       "year1997                                -0.07293853   0.010632  -6.859986 9.2354e-08 ***\n",
       "year1998                                -0.05104129   0.010921  -4.673601 5.1187e-05 ***\n",
       "year1999                                -0.07117680   0.011126  -6.397388 3.4526e-07 ***\n",
       "year2000                                -0.10542364   0.011666  -9.037167 2.5406e-10 ***\n",
       "year2001                                -0.02615348   0.012052  -2.170039 3.7537e-02 *  \n",
       "year2002                                -0.06051492   0.011729  -5.159516 1.2495e-05 ***\n",
       "year2003                                -0.09379442   0.011937  -7.857137 5.7844e-09 ***\n",
       "year2004                                -0.09045114   0.011589  -7.804825 6.6708e-09 ***\n",
       "year2005                                -0.07614446   0.011622  -6.551506 2.2207e-07 ***\n",
       "year2006                                -0.08374883   0.011840  -7.073245 5.0614e-08 ***\n",
       "year2007                                -0.09127504   0.011829  -7.716057 8.5028e-09 ***\n",
       "year2008                                -0.04552212   0.011931  -3.815454 5.8647e-04 ***\n",
       "year2009                                -0.04635949   0.012285  -3.773525 6.5874e-04 ***\n",
       "year2010                                -0.07527693   0.012556  -5.995424 1.0999e-06 ***\n",
       "year2011                                -0.06987138   0.012461  -5.607220 3.3939e-06 ***\n",
       "year2012                                -0.02545968   0.012939  -1.967740 5.7816e-02 .  \n",
       "year2013                                -0.03942486   0.012606  -3.127456 3.7414e-03 ** \n",
       "year2014                                -0.04146813   0.012405  -3.342785 2.1237e-03 ** \n",
       "year2015                                -0.02172729   0.012299  -1.766548 8.6843e-02 .  \n",
       "year2016                                 0.00521244   0.012452   0.418611 6.7830e-01    \n",
       "year2017                                -0.00758021   0.012513  -0.605766 5.4894e-01    \n",
       "year2018                                 0.01732985   0.012526   1.383530 1.7608e-01    \n",
       "year2019                                 0.02031573   0.012139   1.673586 1.0396e-01    \n",
       "year2020                                 0.02451431   0.012322   1.989398 5.5262e-02 .  \n",
       "year2021                                 0.04664840   0.012145   3.841038 5.4622e-04 ***\n",
       "year2022                                 0.02568929   0.012081   2.126362 4.1282e-02 *  \n",
       "year2023                                 0.03086882   0.011948   2.583598 1.4550e-02 *  \n",
       "---\n",
       "Signif. codes:  0 '***' 0.001 '**' 0.01 '*' 0.05 '.' 0.1 ' ' 1\n",
       "RMSE: 0.475775     Adj. R2: 0.186216\n",
       "                 Within R2: 0.126971"
      ]
     },
     "metadata": {},
     "output_type": "display_data"
    }
   ],
   "source": [
    "summary(ob_model$best_model)"
   ]
  },
  {
   "cell_type": "code",
   "execution_count": 51,
   "id": "8c5e7189-4c89-4817-a91b-0cf069649a9f",
   "metadata": {
    "execution": {
     "iopub.execute_input": "2024-06-24T01:15:59.101163Z",
     "iopub.status.busy": "2024-06-24T01:15:59.100549Z",
     "iopub.status.idle": "2024-06-24T01:15:59.221296Z",
     "shell.execute_reply": "2024-06-24T01:15:59.220136Z"
    },
    "vscode": {
     "languageId": "r"
    }
   },
   "outputs": [
    {
     "name": "stderr",
     "output_type": "stream",
     "text": [
      "Warning message:\n",
      "“\u001b[1m\u001b[22mRemoved 42 rows containing missing values or values outside the scale range (`geom_line()`).”\n"
     ]
    },
    {
     "data": {
      "image/png": "[encoded data removed]",
      "text/plain": [
       "plot without title"
      ]
     },
     "metadata": {
      "image/png": {
       "height": 420,
       "width": 420
      }
     },
     "output_type": "display_data"
    }
   ],
   "source": [
    "ob_p <- create_effect_plot(ob, ob_model$best_model, ob_model$best_knot, dependent_var, weather_var, \"OB\")\n",
    "ob_p$plot"
   ]
  },
  {
   "cell_type": "markdown",
   "id": "62d87ef9-7308-4550-8a96-00c809bb579f",
   "metadata": {},
   "source": [
    "## Merge data"
   ]
  },
  {
   "cell_type": "code",
   "execution_count": 52,
   "id": "d7387ef5-7381-4287-bcf1-43513897f8f0",
   "metadata": {
    "execution": {
     "iopub.execute_input": "2024-06-24T01:15:59.224322Z",
     "iopub.status.busy": "2024-06-24T01:15:59.223692Z",
     "iopub.status.idle": "2024-06-24T01:17:01.586796Z",
     "shell.execute_reply": "2024-06-24T01:17:01.585801Z"
    },
    "vscode": {
     "languageId": "r"
    }
   },
   "outputs": [],
   "source": [
    "breed_effect_data <- merge_plot_data(list(ho_p$data, bs_p$data, sf_p$data, si_p$data, bs_p$data, je_p$data, ob_p$data))\n",
    "saveRDS(ob_model, file = paste0(concatenated_string, \"_plot_data.Rdata\"), compress=T)"
   ]
  },
  {
   "cell_type": "code",
   "execution_count": 53,
   "id": "53c3c9bc-2698-47cb-8891-58a4a9a3da21",
   "metadata": {
    "execution": {
     "iopub.execute_input": "2024-06-24T01:17:01.591840Z",
     "iopub.status.busy": "2024-06-24T01:17:01.591224Z",
     "iopub.status.idle": "2024-06-24T01:17:01.597417Z",
     "shell.execute_reply": "2024-06-24T01:17:01.596691Z"
    },
    "vscode": {
     "languageId": "r"
    }
   },
   "outputs": [],
   "source": [
    "# Function to plot merged data\n",
    "plot_merged_data <- function(merged_data, predictor_var) {\n",
    "  # Create the plot\n",
    "    \n",
    "    y_min <- min(merged_data$Lower)\n",
    "    y_max <- max(merged_data$Upper)\n",
    "    plot <- ggplot(merged_data, aes(x = predictor_range, y = Effect, color = breed, fill = breed)) +\n",
    "    geom_line() +\n",
    "    geom_ribbon(aes(ymin = Lower, ymax = Upper), alpha = 0.3) +\n",
    "    labs(\n",
    "      title = paste0(\"Effect of\", predictor_var, \" per breed\"),\n",
    "      x = \"Predictor Variable Range\",\n",
    "      y = \"Effect\"\n",
    "    ) +\n",
    "    theme_minimal() +\n",
    "    scale_x_continuous(breaks = seq(40,  max(merged_data$predictor_range), by = 10), limits = c(40, max(merged_data$predictor_range))) +\n",
    "    scale_y_continuous(limits = c(y_min, y_max)) +\n",
    "    theme(\n",
    "      plot.title = element_text(hjust = 0.5),\n",
    "      plot.title.position = \"plot\",\n",
    "      axis.title.x = element_text(hjust = 0.5),\n",
    "      axis.title.y = element_text(hjust = 0.5)\n",
    "    ) +\n",
    "    facet_wrap(~ breed)\n",
    "  \n",
    "  \n",
    "  return(plot)\n",
    "}"
   ]
  },
  {
   "cell_type": "code",
   "execution_count": 54,
   "id": "6c0e96e2-74b3-448e-8c06-ce2bf91aeb30",
   "metadata": {
    "execution": {
     "iopub.execute_input": "2024-06-24T01:17:01.602061Z",
     "iopub.status.busy": "2024-06-24T01:17:01.601263Z",
     "iopub.status.idle": "2024-06-24T01:17:01.960282Z",
     "shell.execute_reply": "2024-06-24T01:17:01.959523Z"
    },
    "vscode": {
     "languageId": "r"
    }
   },
   "outputs": [
    {
     "name": "stderr",
     "output_type": "stream",
     "text": [
      "Warning message:\n",
      "“\u001b[1m\u001b[22mRemoved 288 rows containing missing values or values outside the scale range (`geom_line()`).”\n"
     ]
    },
    {
     "data": {
      "image/png": "[encoded data removed]",
      "text/plain": [
       "plot without title"
      ]
     },
     "metadata": {
      "image/png": {
       "height": 420,
       "width": 420
      }
     },
     "output_type": "display_data"
    }
   ],
   "source": [
    "plot_merged_data(breed_effect_data, weather_var)"
   ]
  }
 ],
 "metadata": {
  "kernelspec": {
   "display_name": "R",
   "language": "R",
   "name": "ir"
  },
  "language_info": {
   "codemirror_mode": "r",
   "file_extension": ".r",
   "mimetype": "text/x-r-source",
   "name": "R",
   "pygments_lexer": "r",
   "version": "4.3.1"
  }
 },
 "nbformat": 4,
 "nbformat_minor": 5
}
