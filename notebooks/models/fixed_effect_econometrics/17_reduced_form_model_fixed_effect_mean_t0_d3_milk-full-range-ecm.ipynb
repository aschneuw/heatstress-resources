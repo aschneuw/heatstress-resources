{
 "cells": [
  {
   "cell_type": "markdown",
   "id": "c2c9496c-1c4c-4462-a310-d1cf26c3d966",
   "metadata": {},
   "source": [
    "# Heat Stress Project - Milk Yield"
   ]
  },
  {
   "cell_type": "markdown",
   "id": "4392f814-ee10-4530-83f1-289ae0d08075",
   "metadata": {},
   "source": [
    "# R Packages"
   ]
  },
  {
   "cell_type": "code",
   "execution_count": 1,
   "id": "ab732adf-9d48-4fd2-83c8-7115fbe5ffec",
   "metadata": {
    "vscode": {
     "languageId": "r"
    }
   },
   "outputs": [],
   "source": [
    "suppressPackageStartupMessages({\n",
    "  library(mgcv)\n",
    "  library(arrow)\n",
    "  library(dplyr)\n",
    "  library(tictoc)\n",
    "  library(fixest)\n",
    "  library(plm)\n",
    "  library(lspline)\n",
    "  library(lmerTest)\n",
    "  library(ggplot2)\n",
    "  library(car)\n",
    "  library(tidyverse)\n",
    "  library(lmtest)\n",
    "  library(rsample)\n",
    "  library(rlang)\n",
    "})\n",
    "options(width=1000)"
   ]
  },
  {
   "cell_type": "markdown",
   "id": "7b79ee07-be48-4182-9e1d-5b8e90796ee0",
   "metadata": {},
   "source": [
    "# Experiment Parameters"
   ]
  },
  {
   "cell_type": "code",
   "execution_count": 2,
   "id": "567b4c95-4615-4a4d-89f7-69ad7e582d6d",
   "metadata": {
    "scrolled": true,
    "vscode": {
     "languageId": "r"
    }
   },
   "outputs": [
    {
     "data": {
      "text/html": [
       "'17_reduced_form_model_thi_mean_t0_3d_fixed_effect_1999-2023_2024_07_01_00_58_38_milk_fpcm'"
      ],
      "text/latex": [
       "'17\\_reduced\\_form\\_model\\_thi\\_mean\\_t0\\_3d\\_fixed\\_effect\\_1999-2023\\_2024\\_07\\_01\\_00\\_58\\_38\\_milk\\_fpcm'"
      ],
      "text/markdown": [
       "'17_reduced_form_model_thi_mean_t0_3d_fixed_effect_1999-2023_2024_07_01_00_58_38_milk_fpcm'"
      ],
      "text/plain": [
       "[1] \"17_reduced_form_model_thi_mean_t0_3d_fixed_effect_1999-2023_2024_07_01_00_58_38_milk_fpcm\""
      ]
     },
     "metadata": {},
     "output_type": "display_data"
    }
   ],
   "source": [
    "set.seed(2024)\n",
    "period <- 1999:2023\n",
    "month <- 4:10\n",
    "start <- min(period)\n",
    "stop <- max(period)\n",
    "subsample <- F\n",
    "diagnostic <- F\n",
    "save <- F\n",
    "sample_size <- 100000\n",
    "dependent_var <- \"milk_fpcm\"\n",
    "weather_var <- \"thi_mean_t0_3d\"\n",
    "breeds <- c(\"HO\", \"JE\", \"SI\", \"SF\", \"BS\", \"OB\")\n",
    "start_knot <- 45\n",
    "stop_knot <- 65\n",
    "concatenated_string <- paste0(\"17_reduced_form_model_thi_mean_t0_3d_fixed_effect_\", start, \"-\", stop, \"_\", format(Sys.time(), \"%Y_%m_%d_%H_%M_%S\"), \"_\", dependent_var)\n",
    "concatenated_string"
   ]
  },
  {
   "cell_type": "markdown",
   "id": "c760df71-db97-4415-8386-e044c449f77b",
   "metadata": {},
   "source": [
    "# Custom Functions"
   ]
  },
  {
   "cell_type": "code",
   "execution_count": 3,
   "id": "6f08bb6a-45f9-449f-8cfb-61b054c2a534",
   "metadata": {
    "vscode": {
     "languageId": "r"
    }
   },
   "outputs": [],
   "source": [
    "generate_diagnostic_plots <- function(model) {\n",
    "  # Extract fitted values and residuals\n",
    "  fitted_values <- fitted(model)\n",
    "  residuals <- residuals(model)\n",
    "  \n",
    "  # Create a data frame for plotting\n",
    "  plot_data <- data.frame(fitted_values = fitted_values, residuals = residuals)\n",
    "  print(nrow(plot_data))\n",
    "  \n",
    "  # Residuals vs Fitted Values Plot / Linearity & Homoscedacity\n",
    "  p1 <- ggplot(plot_data, aes(x = fitted_values, y = residuals)) +\n",
    "    geom_point(alpha = 0.5) +                       # Scatter plot of residuals\n",
    "    geom_smooth(method = \"loess\", col = \"red\", se = FALSE) +    # Smooth curve (loess)\n",
    "    labs(title = \"Residuals vs. Fitted Values\",\n",
    "         x = \"Fitted Values\",\n",
    "         y = \"Residuals\") +\n",
    "    theme_minimal() +\n",
    "    geom_hline(yintercept = 0, linetype = \"dashed\", color = \"blue\")\n",
    "  \n",
    "  # Normal distribution of residuals\n",
    "  p2 <- ggplot(plot_data, aes(sample = residuals)) +\n",
    "    stat_qq() +\n",
    "    stat_qq_line() +\n",
    "    labs(title = \"Normal Q-Q\",\n",
    "         x = \"Theoretical Quantiles\",\n",
    "         y = \"Residuals\") +\n",
    "    theme_minimal()\n",
    "  \n",
    "  # Scale-Location Plot (Homoscedacity - normally distributed standard error)\n",
    "  plot_data$std_residuals <- scale(residuals)\n",
    "  plot_data$abs_sqrt_residuals <- sqrt(abs(plot_data$std_residuals))\n",
    "  \n",
    "  p3 <- ggplot(plot_data, aes(fitted_values, abs_sqrt_residuals)) +\n",
    "    geom_point() +\n",
    "    geom_smooth(method = \"loess\", col = \"red\", se = FALSE) +\n",
    "    labs(title = \"Scale-Location Plot\",\n",
    "         x = \"Fitted values\",\n",
    "         y = \"√|Standardized residuals|\") +\n",
    "    theme_minimal()\n",
    "\n",
    "  p4 <- ggplot(plot_data, aes(x = residuals)) +\n",
    "    geom_histogram(binwidth = 0.5, fill = \"blue\", color = \"black\") +\n",
    "    labs(title = \"Histogram of Residuals\", x = \"Residuals\", y = \"Frequency\") +\n",
    "    theme_minimal()\n",
    " \n",
    "  # Return the plots as a list\n",
    "  list(\n",
    "    Residuals_vs_Fitted = p1,\n",
    "    Normal_QQ = p2,\n",
    "    Scale_Location = p3,\n",
    "    Residual_hist = p4\n",
    "  )\n",
    "}"
   ]
  },
  {
   "cell_type": "code",
   "execution_count": 4,
   "id": "618a30c9-d484-4d74-86e5-1c60361da06d",
   "metadata": {
    "vscode": {
     "languageId": "r"
    }
   },
   "outputs": [],
   "source": [
    "create_effect_plot <- function(data, model, knot, response_var, predictor_var, breed) {\n",
    "  # Create the range for the predictor variable\n",
    "  predictor_range <- seq(ceiling(min(data[predictor_var], na.rm = TRUE)), floor(max(data[predictor_var], na.rm = TRUE)))\n",
    "  # Calculate the effect\n",
    "  effect <- lspline(predictor_range, knots = knot) %*% coeftest(model)[,1][1:(length(knot)+1)]\n",
    "  \n",
    "  # Calculate the confidence intervals\n",
    "  effect_error_min <- effect - ((lspline(predictor_range, knots = knot)) %*% (abs(coeftest(model)[,2][1:(length(knot)+1)] * 1.96)))\n",
    "  effect_error_max <- effect + ((lspline(predictor_range, knots = knot)) %*% (abs(coeftest(model)[,2][1:(length(knot)+1)] * 1.96)))\n",
    "  \n",
    "  # Create the data frame for plotting\n",
    "  data_plot <- data.frame(\n",
    "    breed = breed,\n",
    "    predictor_range, \n",
    "    Effect = effect, \n",
    "    Lower = effect_error_min, \n",
    "    Upper = effect_error_max\n",
    "  )\n",
    "  \n",
    "  # Create the plot\n",
    "  plot <- ggplot(data_plot, aes(x = predictor_range, y = Effect)) +\n",
    "    geom_line(color = \"blue\") +\n",
    "    geom_ribbon(aes(ymin = Lower, ymax = Upper), alpha = 0.3, fill = \"blue\") +\n",
    "    labs(\n",
    "      title = paste(\"Effect of\", predictor_var, \"with Confidence Intervals\"),\n",
    "      x = paste(predictor_var, \"Range\"),\n",
    "      y = \"Effect\"\n",
    "    ) +\n",
    "    theme_minimal() + \n",
    "    scale_x_continuous(breaks = seq(40, 90, by = 10), limits = c(40, max(predictor_range))) +\n",
    "    theme(\n",
    "      plot.title = element_text(hjust = 0.5),\n",
    "      plot.title.position = \"plot\",\n",
    "      axis.title.x = element_text(hjust = 0.5),\n",
    "      axis.title.y = element_text(hjust = 0.5)\n",
    "    )\n",
    "  \n",
    "  return(list(plot = plot, data = data_plot))\n",
    "}\n",
    "\n",
    "merge_plot_data <- function(plot_data_list) {\n",
    "  # Combine the data frames from each plot into one data frame\n",
    "  merged_data <- bind_rows(plot_data_list)\n",
    "  \n",
    "  return(merged_data)\n",
    "}"
   ]
  },
  {
   "cell_type": "markdown",
   "id": "bae02f6f-4e0c-420c-bcf6-be06dc0d203f",
   "metadata": {},
   "source": [
    "# Load Data"
   ]
  },
  {
   "cell_type": "code",
   "execution_count": 5,
   "id": "1b4a878c-da52-4dda-bafb-8c8f1d9dbc05",
   "metadata": {
    "vscode": {
     "languageId": "r"
    }
   },
   "outputs": [],
   "source": [
    "milk_data <- read_parquet(\"/home/aschneuwl/workspace/agecon-thesis/notebooks/02_models/12_base_data.parquet\")"
   ]
  },
  {
   "cell_type": "code",
   "execution_count": 6,
   "id": "3b43fd3f-2220-4c57-acb6-6730b746bf64",
   "metadata": {
    "vscode": {
     "languageId": "r"
    }
   },
   "outputs": [],
   "source": [
    "milk_data$animalBreedCode <- as.factor(milk_data$animalBreedCode)\n",
    "milk_data$milk_fpcm <- milk_data$milk*(0.0337 + 0.116*milk_data$fat + 0.06*milk_data$protein)\n",
    "milk_data$year <- as.factor(milk_data$year)\n",
    "milk_data$farmId <- as.factor(milk_data$farmId)\n",
    "milk_data$month <- as.factor(milk_data$month)\n",
    "milk_data$logmilk <- log(milk_data$milk)\n",
    "milkingMehtod <- as.factor(milk_data$milkingMethod)\n",
    "milk_data$zip <- as.factor(milk_data$zip)\n",
    "milk_data$days_in_milk <- as.numeric(milk_data$days_in_milk)\n",
    "milk_data$days_in_milk <- milk_data$days_in_milk / 86400\n",
    "milk_data$farm_year_interaction = interaction(milk_data$farmId, milk_data$year)\n",
    "milk_data$farm_month_interaction = interaction(milk_data$farmId, milk_data$month)\n",
    "\n",
    "milk_data$regular_season <- with(milk_data, \n",
    "    ifelse(month %in% c(\"3\", \"4\", \"5\"), \"spring\",\n",
    "    ifelse(month %in% c(\"6\", \"7\", \"8\"), \"summer\",\n",
    "    ifelse(month %in% c(\"9\", \"10\", \"11\"), \"fall\", \"winter\"))))\n",
    "\n",
    "# Convert the new variable to a factor\n",
    "milk_data$regular_season <- as.factor(milk_data$regular_season)\n",
    "milk_data$zip_regular_season <- interaction(milk_data$zip, milk_data$regular_season)\n",
    "\n",
    "# Create the interaction term between farmId and month_range\n",
    "milk_data$farmId_regular_season_interaction <- interaction(milk_data$farmId, milk_data$regular_season)\n",
    "\n",
    "milk_data$farm_season <- with(milk_data, \n",
    "    ifelse(month %in% c(\"4\", \"5\", \"6\", \"7\", \"8\", \"9\"), \"grazing\", \"nongrazing\"))\n",
    "\n",
    "# Convert the new variable to a factor\n",
    "milk_data$farm_season <- as.factor(milk_data$farm_season)\n",
    "\n",
    "# Create the interaction term between farmId and farm_seasons\n",
    "milk_data$farmId_farm_season_interaction <- interaction(milk_data$farmId, milk_data$farm_season)"
   ]
  },
  {
   "cell_type": "code",
   "execution_count": 7,
   "id": "5ecab535-5df5-47b5-856c-573654546b87",
   "metadata": {
    "vscode": {
     "languageId": "r"
    }
   },
   "outputs": [],
   "source": [
    "milk_data <- subset(milk_data, year %in% period)\n",
    "milk_data <- subset(milk_data, month %in% month)"
   ]
  },
  {
   "cell_type": "code",
   "execution_count": 8,
   "id": "fc60f9bb-6baf-4f18-a49d-ead3621b76b3",
   "metadata": {
    "vscode": {
     "languageId": "r"
    }
   },
   "outputs": [],
   "source": [
    "if (subsample) { \n",
    "    milk_data <- milk_data %>%\n",
    "      group_by(year, animalBreedCode) %>%\n",
    "      sample_frac(sample_size/nrow(milk_data)) %>% drop_na(get(weather_var))\n",
    "}"
   ]
  },
  {
   "cell_type": "code",
   "execution_count": 9,
   "id": "8ffad707-bd97-4406-8eda-3c8651d309a6",
   "metadata": {
    "vscode": {
     "languageId": "r"
    }
   },
   "outputs": [],
   "source": [
    "milk_data <- droplevels(milk_data)"
   ]
  },
  {
   "cell_type": "markdown",
   "id": "192c00df-6c2c-4225-86b0-0d9e21b23e5e",
   "metadata": {},
   "source": [
    "split data for each breed"
   ]
  },
  {
   "cell_type": "code",
   "execution_count": 10,
   "id": "fe9074d1-a992-4f7b-a838-3dfd9a900b61",
   "metadata": {
    "vscode": {
     "languageId": "r"
    }
   },
   "outputs": [],
   "source": [
    "je <- droplevels(subset(milk_data, animalBreedCode %in% c(\"JE\")) %>% drop_na(!!weather_var))\n",
    "bs <- droplevels(subset(milk_data, animalBreedCode %in% c(\"BS\")) %>% drop_na(!!weather_var))\n",
    "ho <- droplevels(subset(milk_data, animalBreedCode %in% c(\"HO\")) %>% drop_na(!!weather_var))\n",
    "ob <- droplevels(subset(milk_data, animalBreedCode %in% c(\"OB\")) %>% drop_na(!!weather_var))\n",
    "si <- droplevels(subset(milk_data, animalBreedCode %in% c(\"SI\")) %>% drop_na(!!weather_var))\n",
    "sf <- droplevels(subset(milk_data, animalBreedCode %in% c(\"SF\")) %>% drop_na(!!weather_var))"
   ]
  },
  {
   "cell_type": "code",
   "execution_count": 11,
   "id": "4830279e-353b-4192-8a05-6044e496a81c",
   "metadata": {
    "vscode": {
     "languageId": "r"
    }
   },
   "outputs": [
    {
     "data": {
      "image/png": "[encoded data removed]",
      "text/plain": [
       "Plot with title “Histogram of eval(parse(text = paste0(\"milk_data$\", dependent_var)))”"
      ]
     },
     "metadata": {
      "image/png": {
       "height": 420,
       "width": 420
      }
     },
     "output_type": "display_data"
    }
   ],
   "source": [
    "hist(eval(parse(text = paste0(\"milk_data$\", dependent_var))))"
   ]
  },
  {
   "cell_type": "code",
   "execution_count": 12,
   "id": "70744e3c-115e-49d1-b9ce-72fe5316a470",
   "metadata": {
    "vscode": {
     "languageId": "r"
    }
   },
   "outputs": [
    {
     "data": {
      "image/png": "[encoded data removed]",
      "text/plain": [
       "Plot with title “Histogram of log(milk_data$milk_fpcm)”"
      ]
     },
     "metadata": {
      "image/png": {
       "height": 420,
       "width": 420
      }
     },
     "output_type": "display_data"
    }
   ],
   "source": [
    "hist(log(milk_data$milk_fpcm))"
   ]
  },
  {
   "cell_type": "code",
   "execution_count": 13,
   "id": "5e24fc1e-bc84-4dca-b24e-282f72e48d6a",
   "metadata": {
    "vscode": {
     "languageId": "r"
    }
   },
   "outputs": [],
   "source": [
    "rm(milk_data)"
   ]
  },
  {
   "cell_type": "markdown",
   "id": "9a179b0d-ff2e-46f6-a2c3-ec09cca99637",
   "metadata": {},
   "source": [
    "# Piecewise Linear THI - Reduced Form Piecewise Linear Fixed Effect Model"
   ]
  },
  {
   "cell_type": "code",
   "execution_count": 14,
   "id": "aa1be5ae-eedb-4a3b-a7ef-23eaf6ada228",
   "metadata": {
    "vscode": {
     "languageId": "r"
    }
   },
   "outputs": [],
   "source": [
    "pl_clu <- c(\"year\", \"farmId\")\n",
    "\n",
    "run_models_with_knots <- function(data, knot_sequence, dep_var_name, weather_var) {\n",
    "  best_rss <- Inf\n",
    "  best_knot_comb <- NULL\n",
    "  \n",
    "  # Loop over each knot value\n",
    "  for (i in 1:length(knot_sequence)) {\n",
    "    knots <- paste(knot_sequence[[i]], collapse = \",\")\n",
    "    \n",
    "    f <- paste0(dep_var_name, \"~\", \"lspline(\", weather_var, \", knots=c(\", knots, \")) + days_in_milk + lactationNumber + precip_mean_t0_3d + precip_mean_t0_3d^2 + year | farmId\")\n",
    "    pl_form <- as.formula(f)\n",
    "    model <- feols(pl_form, data = data, cluster = pl_clu)\n",
    "    \n",
    "    # Calculate RSS for the current model\n",
    "    current_rss <- sum(residuals(model)^2)\n",
    "    \n",
    "    # Check if this model has the lowest RSS so far\n",
    "    if (current_rss < best_rss) {\n",
    "      best_rss <- current_rss\n",
    "      best_knot_comb <- knot_sequence[[i]]\n",
    "    }\n",
    "  }\n",
    "  \n",
    "  # Recompute the best model for storage reasons\n",
    "  knots <- paste(best_knot_comb, collapse = \",\")\n",
    "  f <- paste0(dep_var_name, \"~\", \"lspline(\", weather_var, \", knots=c(\", knots, \")) + days_in_milk + lactationNumber + precip_mean_t0_3d + precip_mean_t0_3d^2 + year | farmId\")\n",
    "  pl_form <- as.formula(f)\n",
    "  best_model <- feols(pl_form, data = data, cluster = pl_clu, lean = T)\n",
    "  gc()\n",
    "  \n",
    "  # Return a list containing the best knot combination, the best model, and its RSS\n",
    "  return(list(best_knot = best_knot_comb, best_model_rss = best_rss, best_model = best_model))\n",
    "}\n",
    "\n"
   ]
  },
  {
   "cell_type": "code",
   "execution_count": 15,
   "id": "5884625c-1e99-4f1d-9db4-3c3e8c0546cd",
   "metadata": {
    "vscode": {
     "languageId": "r"
    }
   },
   "outputs": [],
   "source": [
    "knot_combs <- list()\n",
    "for (i in start_knot:stop_knot) {\n",
    "    j <- i - start_knot + 1\n",
    "  knot_combs[[j]] <- c(i)\n",
    "}"
   ]
  },
  {
   "cell_type": "code",
   "execution_count": 16,
   "id": "1f294215-79ef-48ef-bd26-18f0605cce6f",
   "metadata": {
    "vscode": {
     "languageId": "r"
    }
   },
   "outputs": [],
   "source": [
    "#knot_combs[[length(knot_combs)+1]] <- seq(from = 0, to = 80, by = 5)"
   ]
  },
  {
   "cell_type": "markdown",
   "id": "47ec63b4-0431-403d-88ac-09624fb10357",
   "metadata": {},
   "source": [
    "## Jersey"
   ]
  },
  {
   "cell_type": "code",
   "execution_count": 17,
   "id": "8ee84d1e-685d-45e9-b08d-042338e9cf0f",
   "metadata": {
    "vscode": {
     "languageId": "r"
    }
   },
   "outputs": [
    {
     "name": "stderr",
     "output_type": "stream",
     "text": [
      "Variance contained negative values in the diagonal and was 'fixed' (a la Cameron, Gelbach & Miller 2011).\n",
      "\n",
      "Variance contained negative values in the diagonal and was 'fixed' (a la Cameron, Gelbach & Miller 2011).\n",
      "\n",
      "Variance contained negative values in the diagonal and was 'fixed' (a la Cameron, Gelbach & Miller 2011).\n",
      "\n",
      "Variance contained negative values in the diagonal and was 'fixed' (a la Cameron, Gelbach & Miller 2011).\n",
      "\n",
      "Variance contained negative values in the diagonal and was 'fixed' (a la Cameron, Gelbach & Miller 2011).\n",
      "\n",
      "Variance contained negative values in the diagonal and was 'fixed' (a la Cameron, Gelbach & Miller 2011).\n",
      "\n",
      "Variance contained negative values in the diagonal and was 'fixed' (a la Cameron, Gelbach & Miller 2011).\n",
      "\n",
      "Variance contained negative values in the diagonal and was 'fixed' (a la Cameron, Gelbach & Miller 2011).\n",
      "\n",
      "Variance contained negative values in the diagonal and was 'fixed' (a la Cameron, Gelbach & Miller 2011).\n",
      "\n",
      "Variance contained negative values in the diagonal and was 'fixed' (a la Cameron, Gelbach & Miller 2011).\n",
      "\n",
      "Variance contained negative values in the diagonal and was 'fixed' (a la Cameron, Gelbach & Miller 2011).\n",
      "\n",
      "Variance contained negative values in the diagonal and was 'fixed' (a la Cameron, Gelbach & Miller 2011).\n",
      "\n",
      "Variance contained negative values in the diagonal and was 'fixed' (a la Cameron, Gelbach & Miller 2011).\n",
      "\n",
      "Variance contained negative values in the diagonal and was 'fixed' (a la Cameron, Gelbach & Miller 2011).\n",
      "\n",
      "Variance contained negative values in the diagonal and was 'fixed' (a la Cameron, Gelbach & Miller 2011).\n",
      "\n",
      "Variance contained negative values in the diagonal and was 'fixed' (a la Cameron, Gelbach & Miller 2011).\n",
      "\n",
      "Variance contained negative values in the diagonal and was 'fixed' (a la Cameron, Gelbach & Miller 2011).\n",
      "\n",
      "Variance contained negative values in the diagonal and was 'fixed' (a la Cameron, Gelbach & Miller 2011).\n",
      "\n",
      "Variance contained negative values in the diagonal and was 'fixed' (a la Cameron, Gelbach & Miller 2011).\n",
      "\n",
      "Variance contained negative values in the diagonal and was 'fixed' (a la Cameron, Gelbach & Miller 2011).\n",
      "\n",
      "Variance contained negative values in the diagonal and was 'fixed' (a la Cameron, Gelbach & Miller 2011).\n",
      "\n",
      "Variance contained negative values in the diagonal and was 'fixed' (a la Cameron, Gelbach & Miller 2011).\n",
      "\n"
     ]
    },
    {
     "name": "stdout",
     "output_type": "stream",
     "text": [
      "21.779 sec elapsed\n"
     ]
    }
   ],
   "source": [
    "tic()\n",
    "je_model = run_models_with_knots(droplevels(je), knot_combs, dependent_var, weather_var)\n",
    "toc()"
   ]
  },
  {
   "cell_type": "code",
   "execution_count": 18,
   "id": "5e946937-f240-4dc8-9bc5-46cda5610a3f",
   "metadata": {
    "vscode": {
     "languageId": "r"
    }
   },
   "outputs": [
    {
     "data": {
      "text/html": [
       "'17_reduced_form_model_thi_mean_t0_3d_fixed_effect_1999-2023_2024_07_01_00_58_38_milk_fpcm_jersey_model.Rdata'"
      ],
      "text/latex": [
       "'17\\_reduced\\_form\\_model\\_thi\\_mean\\_t0\\_3d\\_fixed\\_effect\\_1999-2023\\_2024\\_07\\_01\\_00\\_58\\_38\\_milk\\_fpcm\\_jersey\\_model.Rdata'"
      ],
      "text/markdown": [
       "'17_reduced_form_model_thi_mean_t0_3d_fixed_effect_1999-2023_2024_07_01_00_58_38_milk_fpcm_jersey_model.Rdata'"
      ],
      "text/plain": [
       "[1] \"17_reduced_form_model_thi_mean_t0_3d_fixed_effect_1999-2023_2024_07_01_00_58_38_milk_fpcm_jersey_model.Rdata\""
      ]
     },
     "metadata": {},
     "output_type": "display_data"
    }
   ],
   "source": [
    "jersey_model_name <- paste0(concatenated_string, \"_jersey_model.Rdata\")\n",
    "jersey_model_name"
   ]
  },
  {
   "cell_type": "code",
   "execution_count": 19,
   "id": "a7c51863-3cc7-435f-86b6-f24efcb20990",
   "metadata": {
    "vscode": {
     "languageId": "r"
    }
   },
   "outputs": [],
   "source": [
    "if (save) {\n",
    "    tic()\n",
    "    saveRDS(je_model, file = jersey_model_name, compress=T)\n",
    "    toc()\n",
    "}"
   ]
  },
  {
   "cell_type": "code",
   "execution_count": 20,
   "id": "a140a1ef-a621-42af-9601-dfe8d17d25b1",
   "metadata": {
    "vscode": {
     "languageId": "r"
    }
   },
   "outputs": [
    {
     "data": {
      "text/html": [
       "51"
      ],
      "text/latex": [
       "51"
      ],
      "text/markdown": [
       "51"
      ],
      "text/plain": [
       "[1] 51"
      ]
     },
     "metadata": {},
     "output_type": "display_data"
    }
   ],
   "source": [
    "je_model$best_knot"
   ]
  },
  {
   "cell_type": "code",
   "execution_count": 21,
   "id": "642aaec2-e27c-478e-9a92-2b78c01c64b6",
   "metadata": {
    "vscode": {
     "languageId": "r"
    }
   },
   "outputs": [
    {
     "data": {
      "text/plain": [
       "OLS estimation, Dep. Var.: milk_fpcm\n",
       "Observations: 660,110\n",
       "Fixed-effects: farmId: 4,629\n",
       "Standard-errors: Clustered (year & farmId) \n",
       "                                         Estimate Std. Error    t value   Pr(>|t|)    \n",
       "lspline(thi_mean_t0_3d, knots = c(51))1 -0.000071   0.003167  -0.022552 9.8219e-01    \n",
       "lspline(thi_mean_t0_3d, knots = c(51))2 -0.064904   0.005200 -12.481608 5.5109e-12 ***\n",
       "days_in_milk                            -0.016643   0.000542 -30.693926  < 2.2e-16 ***\n",
       "lactationNumber                          0.549429   0.014522  37.833930  < 2.2e-16 ***\n",
       "precip_mean_t0_3d                       -0.005843   0.005461  -1.069893 2.9531e-01    \n",
       "I(precip_mean_t0_3d^2)                  -0.000242   0.000193  -1.251832 2.2269e-01    \n",
       "year2000                                -0.044224   0.029265  -1.511130 1.4381e-01    \n",
       "year2001                                 1.012427   0.020112  50.340193  < 2.2e-16 ***\n",
       "year2002                                 1.593789   0.049351  32.294929  < 2.2e-16 ***\n",
       "year2003                                 1.568713   0.098526  15.921777 2.9424e-14 ***\n",
       "year2004                                 1.891616   0.123299  15.341672 6.6415e-14 ***\n",
       "year2005                                 2.069528   0.147594  14.021792 4.6700e-13 ***\n",
       "year2006                                 2.106620   0.172979  12.178460 9.2019e-12 ***\n",
       "year2007                                 1.853459   0.153573  12.068909 1.1101e-11 ***\n",
       "year2008                                 2.198072   0.166334  13.214800 1.6557e-12 ***\n",
       "year2009                                 2.277429   0.190003  11.986257 1.2799e-11 ***\n",
       "year2010                                 2.431669   0.200390  12.134662 9.9170e-12 ***\n",
       "year2011                                 2.532388   0.203175  12.464087 5.6752e-12 ***\n",
       "year2012                                 2.736299   0.173267  15.792384 3.5207e-14 ***\n",
       "year2013                                 2.538132   0.186626  13.600065 8.9824e-13 ***\n",
       "year2014                                 2.945835   0.196424  14.997300 1.0899e-13 ***\n",
       "year2015                                 2.863414   0.184056  15.557288 4.8931e-14 ***\n",
       "year2016                                 3.001355   0.196329  15.287397 7.1765e-14 ***\n",
       "year2017                                 3.126687   0.191537  16.324230 1.6970e-14 ***\n",
       "year2018                                 3.308161   0.197030  16.790140 9.1007e-15 ***\n",
       "year2019                                 3.567894   0.208201  17.136765 5.7790e-15 ***\n",
       "year2020                                 3.611479   0.211557  17.070913 6.2959e-15 ***\n",
       "year2021                                 3.629260   0.222011  16.347182 1.6451e-14 ***\n",
       "year2022                                 3.228989   0.219833  14.688355 1.7134e-13 ***\n",
       "year2023                                 3.319964   0.215571  15.400770 6.1059e-14 ***\n",
       "---\n",
       "Signif. codes:  0 '***' 0.001 '**' 0.01 '*' 0.05 '.' 0.1 ' ' 1\n",
       "RMSE: 3.28895     Adj. R2: 0.47582 \n",
       "                Within R2: 0.298194"
      ]
     },
     "metadata": {},
     "output_type": "display_data"
    }
   ],
   "source": [
    "summary(je_model$best_model)"
   ]
  },
  {
   "cell_type": "code",
   "execution_count": 22,
   "id": "4e3198ba-3ceb-421d-aee8-d44688ecf2ab",
   "metadata": {
    "vscode": {
     "languageId": "r"
    }
   },
   "outputs": [
    {
     "name": "stderr",
     "output_type": "stream",
     "text": [
      "Warning message:\n",
      "“\u001b[1m\u001b[22mRemoved 38 rows containing missing values or values outside the scale range (`geom_line()`).”\n"
     ]
    },
    {
     "data": {
      "image/png": "[encoded data removed]",
      "text/plain": [
       "plot without title"
      ]
     },
     "metadata": {
      "image/png": {
       "height": 420,
       "width": 420
      }
     },
     "output_type": "display_data"
    }
   ],
   "source": [
    "je_p <- create_effect_plot(je, je_model$best_model, je_model$best_knot, dependent_var, weather_var, \"JE\")\n",
    "je_p$plot"
   ]
  },
  {
   "cell_type": "markdown",
   "id": "6df89c39-7af4-40e8-a377-167eaf503847",
   "metadata": {},
   "source": [
    "## Holstein"
   ]
  },
  {
   "cell_type": "code",
   "execution_count": 23,
   "id": "4cac70a6-3972-427c-9699-9f20a2f3a6c1",
   "metadata": {
    "vscode": {
     "languageId": "r"
    }
   },
   "outputs": [
    {
     "name": "stderr",
     "output_type": "stream",
     "text": [
      "Variance contained negative values in the diagonal and was 'fixed' (a la Cameron, Gelbach & Miller 2011).\n",
      "\n",
      "Variance contained negative values in the diagonal and was 'fixed' (a la Cameron, Gelbach & Miller 2011).\n",
      "\n",
      "Variance contained negative values in the diagonal and was 'fixed' (a la Cameron, Gelbach & Miller 2011).\n",
      "\n",
      "Variance contained negative values in the diagonal and was 'fixed' (a la Cameron, Gelbach & Miller 2011).\n",
      "\n",
      "Variance contained negative values in the diagonal and was 'fixed' (a la Cameron, Gelbach & Miller 2011).\n",
      "\n",
      "Variance contained negative values in the diagonal and was 'fixed' (a la Cameron, Gelbach & Miller 2011).\n",
      "\n",
      "Variance contained negative values in the diagonal and was 'fixed' (a la Cameron, Gelbach & Miller 2011).\n",
      "\n",
      "Variance contained negative values in the diagonal and was 'fixed' (a la Cameron, Gelbach & Miller 2011).\n",
      "\n",
      "Variance contained negative values in the diagonal and was 'fixed' (a la Cameron, Gelbach & Miller 2011).\n",
      "\n",
      "Variance contained negative values in the diagonal and was 'fixed' (a la Cameron, Gelbach & Miller 2011).\n",
      "\n",
      "Variance contained negative values in the diagonal and was 'fixed' (a la Cameron, Gelbach & Miller 2011).\n",
      "\n",
      "Variance contained negative values in the diagonal and was 'fixed' (a la Cameron, Gelbach & Miller 2011).\n",
      "\n",
      "Variance contained negative values in the diagonal and was 'fixed' (a la Cameron, Gelbach & Miller 2011).\n",
      "\n",
      "Variance contained negative values in the diagonal and was 'fixed' (a la Cameron, Gelbach & Miller 2011).\n",
      "\n",
      "Variance contained negative values in the diagonal and was 'fixed' (a la Cameron, Gelbach & Miller 2011).\n",
      "\n",
      "Variance contained negative values in the diagonal and was 'fixed' (a la Cameron, Gelbach & Miller 2011).\n",
      "\n",
      "Variance contained negative values in the diagonal and was 'fixed' (a la Cameron, Gelbach & Miller 2011).\n",
      "\n",
      "Variance contained negative values in the diagonal and was 'fixed' (a la Cameron, Gelbach & Miller 2011).\n",
      "\n",
      "Variance contained negative values in the diagonal and was 'fixed' (a la Cameron, Gelbach & Miller 2011).\n",
      "\n",
      "Variance contained negative values in the diagonal and was 'fixed' (a la Cameron, Gelbach & Miller 2011).\n",
      "\n",
      "Variance contained negative values in the diagonal and was 'fixed' (a la Cameron, Gelbach & Miller 2011).\n",
      "\n",
      "Variance contained negative values in the diagonal and was 'fixed' (a la Cameron, Gelbach & Miller 2011).\n",
      "\n"
     ]
    },
    {
     "name": "stdout",
     "output_type": "stream",
     "text": [
      "534.463 sec elapsed\n"
     ]
    },
    {
     "name": "stderr",
     "output_type": "stream",
     "text": [
      "Variance contained negative values in the diagonal and was 'fixed' (a la Cameron, Gelbach & Miller 2011).\n",
      "\n"
     ]
    },
    {
     "name": "stdout",
     "output_type": "stream",
     "text": [
      "575.658 sec elapsed\n"
     ]
    }
   ],
   "source": [
    "tic()\n",
    "ho_model = run_models_with_knots(ho, knot_combs, dependent_var, weather_var)\n",
    "toc()"
   ]
  },
  {
   "cell_type": "code",
   "execution_count": 24,
   "id": "6ba6c8c6-6dcc-4e07-8a02-3901be7e0072",
   "metadata": {
    "vscode": {
     "languageId": "r"
    }
   },
   "outputs": [
    {
     "data": {
      "text/html": [
       "'17_reduced_form_model_thi_mean_t0_3d_fixed_effect_1999-2023_2024_07_01_00_58_38_milk_fpcm_ho_model.Rdata'"
      ],
      "text/latex": [
       "'17\\_reduced\\_form\\_model\\_thi\\_mean\\_t0\\_3d\\_fixed\\_effect\\_1999-2023\\_2024\\_07\\_01\\_00\\_58\\_38\\_milk\\_fpcm\\_ho\\_model.Rdata'"
      ],
      "text/markdown": [
       "'17_reduced_form_model_thi_mean_t0_3d_fixed_effect_1999-2023_2024_07_01_00_58_38_milk_fpcm_ho_model.Rdata'"
      ],
      "text/plain": [
       "[1] \"17_reduced_form_model_thi_mean_t0_3d_fixed_effect_1999-2023_2024_07_01_00_58_38_milk_fpcm_ho_model.Rdata\""
      ]
     },
     "metadata": {},
     "output_type": "display_data"
    }
   ],
   "source": [
    "ho_model_name <- paste0(concatenated_string, \"_ho_model.Rdata\")\n",
    "ho_model_name"
   ]
  },
  {
   "cell_type": "code",
   "execution_count": 25,
   "id": "90c30b0a-3af4-484c-96f7-6ae1bc5ebd3d",
   "metadata": {
    "vscode": {
     "languageId": "r"
    }
   },
   "outputs": [],
   "source": [
    "if (save) {\n",
    "    tic()\n",
    "    saveRDS(ho_model, file = ho_model_name, compress=TRUE)\n",
    "    toc()\n",
    "}"
   ]
  },
  {
   "cell_type": "code",
   "execution_count": 26,
   "id": "ad6da065-18a3-4d80-a4c4-3ba98e3d3e32",
   "metadata": {
    "vscode": {
     "languageId": "r"
    }
   },
   "outputs": [
    {
     "data": {
      "text/html": [
       "51"
      ],
      "text/latex": [
       "51"
      ],
      "text/markdown": [
       "51"
      ],
      "text/plain": [
       "[1] 51"
      ]
     },
     "metadata": {},
     "output_type": "display_data"
    }
   ],
   "source": [
    "ho_model$best_knot"
   ]
  },
  {
   "cell_type": "code",
   "execution_count": 27,
   "id": "33b735f2-6430-4abb-9e3a-35e5bfa2aef6",
   "metadata": {
    "vscode": {
     "languageId": "r"
    }
   },
   "outputs": [
    {
     "data": {
      "text/plain": [
       "OLS estimation, Dep. Var.: milk_fpcm\n",
       "Observations: 22,273,344\n",
       "Fixed-effects: farmId: 24,321\n",
       "Standard-errors: Clustered (year & farmId) \n",
       "                                         Estimate Std. Error    t value   Pr(>|t|)    \n",
       "lspline(thi_mean_t0_3d, knots = c(51))1 -0.000922   0.002096  -0.439971 6.6389e-01    \n",
       "lspline(thi_mean_t0_3d, knots = c(51))2 -0.069715   0.003405 -20.473825  < 2.2e-16 ***\n",
       "days_in_milk                            -0.024804   0.000506 -49.062749  < 2.2e-16 ***\n",
       "lactationNumber                          0.684660   0.008120  84.317138  < 2.2e-16 ***\n",
       "precip_mean_t0_3d                       -0.000126   0.004605  -0.027393 9.7837e-01    \n",
       "I(precip_mean_t0_3d^2)                  -0.000225   0.000169  -1.330228 1.9595e-01    \n",
       "year2000                                -0.064416   0.009290  -6.933585 3.6008e-07 ***\n",
       "year2001                                 0.169301   0.004650  36.407483  < 2.2e-16 ***\n",
       "year2002                                 0.179240   0.002011  89.108144  < 2.2e-16 ***\n",
       "year2003                                 0.467504   0.006248  74.821204  < 2.2e-16 ***\n",
       "year2004                                 0.843499   0.009523  88.577687  < 2.2e-16 ***\n",
       "year2005                                 1.223471   0.012051 101.521060  < 2.2e-16 ***\n",
       "year2006                                 1.173284   0.013248  88.565019  < 2.2e-16 ***\n",
       "year2007                                 0.942700   0.016838  55.984952  < 2.2e-16 ***\n",
       "year2008                                 1.150789   0.020006  57.523158  < 2.2e-16 ***\n",
       "year2009                                 1.434970   0.020892  68.685822  < 2.2e-16 ***\n",
       "year2010                                 1.724968   0.023948  72.029375  < 2.2e-16 ***\n",
       "year2011                                 1.848833   0.025942  71.266710  < 2.2e-16 ***\n",
       "year2012                                 1.966299   0.028991  67.825062  < 2.2e-16 ***\n",
       "year2013                                 1.599011   0.031735  50.386137  < 2.2e-16 ***\n",
       "year2014                                 1.834534   0.033408  54.913616  < 2.2e-16 ***\n",
       "year2015                                 2.072633   0.036089  57.431498  < 2.2e-16 ***\n",
       "year2016                                 2.286425   0.040342  56.676170  < 2.2e-16 ***\n",
       "year2017                                 2.309504   0.043582  52.992696  < 2.2e-16 ***\n",
       "year2018                                 2.749378   0.044971  61.136377  < 2.2e-16 ***\n",
       "year2019                                 2.851152   0.048770  58.461127  < 2.2e-16 ***\n",
       "year2020                                 3.178228   0.050886  62.457937  < 2.2e-16 ***\n",
       "year2021                                 3.403837   0.054067  62.956168  < 2.2e-16 ***\n",
       "year2022                                 3.254886   0.055103  59.069315  < 2.2e-16 ***\n",
       "year2023                                 3.535208   0.057210  61.793208  < 2.2e-16 ***\n",
       "---\n",
       "Signif. codes:  0 '***' 0.001 '**' 0.01 '*' 0.05 '.' 0.1 ' ' 1\n",
       "RMSE: 3.67416     Adj. R2: 0.518801\n",
       "                Within R2: 0.404704"
      ]
     },
     "metadata": {},
     "output_type": "display_data"
    }
   ],
   "source": [
    "summary(ho_model$best_model)"
   ]
  },
  {
   "cell_type": "code",
   "execution_count": 28,
   "id": "63f32034-f5f5-4812-ada3-dcebe08cb653",
   "metadata": {
    "vscode": {
     "languageId": "r"
    }
   },
   "outputs": [
    {
     "name": "stderr",
     "output_type": "stream",
     "text": [
      "Warning message:\n",
      "“\u001b[1m\u001b[22mRemoved 41 rows containing missing values or values outside the scale range (`geom_line()`).”\n"
     ]
    },
    {
     "data": {
      "image/png": "[encoded data removed]",
      "text/plain": [
       "plot without title"
      ]
     },
     "metadata": {
      "image/png": {
       "height": 420,
       "width": 420
      }
     },
     "output_type": "display_data"
    }
   ],
   "source": [
    "ho_p <- create_effect_plot(ho, ho_model$best_model, ho_model$best_knot, dependent_var, weather_var, \"HO\")\n",
    "ho_p$plot"
   ]
  },
  {
   "cell_type": "markdown",
   "id": "45266f34-754a-4bb1-bcb5-74ea244207ad",
   "metadata": {},
   "source": [
    "## Brown Swiss"
   ]
  },
  {
   "cell_type": "code",
   "execution_count": 29,
   "id": "74b67fa0-3c18-41b6-819c-c066f7275cd5",
   "metadata": {
    "vscode": {
     "languageId": "r"
    }
   },
   "outputs": [
    {
     "name": "stderr",
     "output_type": "stream",
     "text": [
      "Variance contained negative values in the diagonal and was 'fixed' (a la Cameron, Gelbach & Miller 2011).\n",
      "\n",
      "Variance contained negative values in the diagonal and was 'fixed' (a la Cameron, Gelbach & Miller 2011).\n",
      "\n",
      "Variance contained negative values in the diagonal and was 'fixed' (a la Cameron, Gelbach & Miller 2011).\n",
      "\n",
      "Variance contained negative values in the diagonal and was 'fixed' (a la Cameron, Gelbach & Miller 2011).\n",
      "\n",
      "Variance contained negative values in the diagonal and was 'fixed' (a la Cameron, Gelbach & Miller 2011).\n",
      "\n",
      "Variance contained negative values in the diagonal and was 'fixed' (a la Cameron, Gelbach & Miller 2011).\n",
      "\n",
      "Variance contained negative values in the diagonal and was 'fixed' (a la Cameron, Gelbach & Miller 2011).\n",
      "\n",
      "Variance contained negative values in the diagonal and was 'fixed' (a la Cameron, Gelbach & Miller 2011).\n",
      "\n",
      "Variance contained negative values in the diagonal and was 'fixed' (a la Cameron, Gelbach & Miller 2011).\n",
      "\n",
      "Variance contained negative values in the diagonal and was 'fixed' (a la Cameron, Gelbach & Miller 2011).\n",
      "\n",
      "Variance contained negative values in the diagonal and was 'fixed' (a la Cameron, Gelbach & Miller 2011).\n",
      "\n",
      "Variance contained negative values in the diagonal and was 'fixed' (a la Cameron, Gelbach & Miller 2011).\n",
      "\n",
      "Variance contained negative values in the diagonal and was 'fixed' (a la Cameron, Gelbach & Miller 2011).\n",
      "\n",
      "Variance contained negative values in the diagonal and was 'fixed' (a la Cameron, Gelbach & Miller 2011).\n",
      "\n",
      "Variance contained negative values in the diagonal and was 'fixed' (a la Cameron, Gelbach & Miller 2011).\n",
      "\n",
      "Variance contained negative values in the diagonal and was 'fixed' (a la Cameron, Gelbach & Miller 2011).\n",
      "\n",
      "Variance contained negative values in the diagonal and was 'fixed' (a la Cameron, Gelbach & Miller 2011).\n",
      "\n",
      "Variance contained negative values in the diagonal and was 'fixed' (a la Cameron, Gelbach & Miller 2011).\n",
      "\n",
      "Variance contained negative values in the diagonal and was 'fixed' (a la Cameron, Gelbach & Miller 2011).\n",
      "\n",
      "Variance contained negative values in the diagonal and was 'fixed' (a la Cameron, Gelbach & Miller 2011).\n",
      "\n",
      "Variance contained negative values in the diagonal and was 'fixed' (a la Cameron, Gelbach & Miller 2011).\n",
      "\n",
      "Variance contained negative values in the diagonal and was 'fixed' (a la Cameron, Gelbach & Miller 2011).\n",
      "\n"
     ]
    },
    {
     "name": "stdout",
     "output_type": "stream",
     "text": [
      "783.726 sec elapsed\n"
     ]
    },
    {
     "name": "stderr",
     "output_type": "stream",
     "text": [
      "Variance contained negative values in the diagonal and was 'fixed' (a la Cameron, Gelbach & Miller 2011).\n",
      "\n"
     ]
    },
    {
     "name": "stderr",
     "output_type": "stream",
     "text": [
      "Variance contained negative values in the diagonal and was 'fixed' (a la Cameron, Gelbach & Miller 2011).\n",
      "\n"
     ]
    },
    {
     "name": "stderr",
     "output_type": "stream",
     "text": [
      "Variance contained negative values in the diagonal and was 'fixed' (a la Cameron, Gelbach & Miller 2011).\n",
      "\n"
     ]
    },
    {
     "name": "stderr",
     "output_type": "stream",
     "text": [
      "Variance contained negative values in the diagonal and was 'fixed' (a la Cameron, Gelbach & Miller 2011).\n",
      "\n"
     ]
    },
    {
     "name": "stderr",
     "output_type": "stream",
     "text": [
      "Variance contained negative values in the diagonal and was 'fixed' (a la Cameron, Gelbach & Miller 2011).\n",
      "\n"
     ]
    },
    {
     "name": "stderr",
     "output_type": "stream",
     "text": [
      "Variance contained negative values in the diagonal and was 'fixed' (a la Cameron, Gelbach & Miller 2011).\n",
      "\n"
     ]
    },
    {
     "name": "stdout",
     "output_type": "stream",
     "text": [
      "793.253 sec elapsed\n"
     ]
    }
   ],
   "source": [
    "tic()\n",
    "bs_model = run_models_with_knots(bs, knot_combs, dependent_var, weather_var)\n",
    "toc()"
   ]
  },
  {
   "cell_type": "code",
   "execution_count": 30,
   "id": "1bce08e1-bf80-4df1-b84b-b03bbb21a134",
   "metadata": {
    "vscode": {
     "languageId": "r"
    }
   },
   "outputs": [
    {
     "data": {
      "text/html": [
       "'17_reduced_form_model_thi_mean_t0_3d_fixed_effect_1999-2023_2024_07_01_00_58_38_milk_fpcm_bs_model.Rdata'"
      ],
      "text/latex": [
       "'17\\_reduced\\_form\\_model\\_thi\\_mean\\_t0\\_3d\\_fixed\\_effect\\_1999-2023\\_2024\\_07\\_01\\_00\\_58\\_38\\_milk\\_fpcm\\_bs\\_model.Rdata'"
      ],
      "text/markdown": [
       "'17_reduced_form_model_thi_mean_t0_3d_fixed_effect_1999-2023_2024_07_01_00_58_38_milk_fpcm_bs_model.Rdata'"
      ],
      "text/plain": [
       "[1] \"17_reduced_form_model_thi_mean_t0_3d_fixed_effect_1999-2023_2024_07_01_00_58_38_milk_fpcm_bs_model.Rdata\""
      ]
     },
     "metadata": {},
     "output_type": "display_data"
    }
   ],
   "source": [
    "bs_model_name <- paste0(concatenated_string, \"_bs_model.Rdata\")\n",
    "bs_model_name"
   ]
  },
  {
   "cell_type": "code",
   "execution_count": 31,
   "id": "a8aa8e33-e12d-49ff-aee5-46f6def7fd37",
   "metadata": {
    "vscode": {
     "languageId": "r"
    }
   },
   "outputs": [],
   "source": [
    "if (save) {\n",
    "    tic()\n",
    "    saveRDS(bs_model, file = bs_model_name, compress=T)\n",
    "    toc()\n",
    "}"
   ]
  },
  {
   "cell_type": "code",
   "execution_count": 32,
   "id": "415b619c-9280-49cd-b48f-407405f0dd9a",
   "metadata": {
    "vscode": {
     "languageId": "r"
    }
   },
   "outputs": [
    {
     "data": {
      "text/html": [
       "50"
      ],
      "text/latex": [
       "50"
      ],
      "text/markdown": [
       "50"
      ],
      "text/plain": [
       "[1] 50"
      ]
     },
     "metadata": {},
     "output_type": "display_data"
    }
   ],
   "source": [
    "bs_model$best_knot"
   ]
  },
  {
   "cell_type": "code",
   "execution_count": 33,
   "id": "89577147-29e6-47fa-a9b0-aedd0ffeebad",
   "metadata": {
    "vscode": {
     "languageId": "r"
    }
   },
   "outputs": [
    {
     "data": {
      "text/plain": [
       "OLS estimation, Dep. Var.: milk_fpcm\n",
       "Observations: 29,798,989\n",
       "Fixed-effects: farmId: 21,038\n",
       "Standard-errors: Clustered (year & farmId) \n",
       "                                         Estimate Std. Error    t value   Pr(>|t|)    \n",
       "lspline(thi_mean_t0_3d, knots = c(50))1 -0.006741   0.001939  -3.477204 1.9492e-03 ** \n",
       "lspline(thi_mean_t0_3d, knots = c(50))2 -0.046953   0.003924 -11.965375 1.3269e-11 ***\n",
       "days_in_milk                            -0.020418   0.000406 -50.272363  < 2.2e-16 ***\n",
       "lactationNumber                          0.448129   0.010181  44.017424  < 2.2e-16 ***\n",
       "precip_mean_t0_3d                       -0.006509   0.002902  -2.243175 3.4384e-02 *  \n",
       "I(precip_mean_t0_3d^2)                   0.000017   0.000108   0.154363 8.7861e-01    \n",
       "year2000                                 0.013525   0.005805   2.329683 2.8562e-02 *  \n",
       "year2001                                 0.695196   0.002057 338.001718  < 2.2e-16 ***\n",
       "year2002                                 0.762936   0.001533 497.561811  < 2.2e-16 ***\n",
       "year2003                                 0.884781   0.005580 158.554379  < 2.2e-16 ***\n",
       "year2004                                 1.272544   0.007578 167.916515  < 2.2e-16 ***\n",
       "year2005                                 1.324242   0.010171 130.202554  < 2.2e-16 ***\n",
       "year2006                                 1.295351   0.011380 113.829108  < 2.2e-16 ***\n",
       "year2007                                 1.252561   0.013025  96.166896  < 2.2e-16 ***\n",
       "year2008                                 1.625014   0.015838 102.600345  < 2.2e-16 ***\n",
       "year2009                                 1.800006   0.016811 107.072943  < 2.2e-16 ***\n",
       "year2010                                 1.755481   0.019001  92.388465  < 2.2e-16 ***\n",
       "year2011                                 1.818674   0.018835  96.556937  < 2.2e-16 ***\n",
       "year2012                                 2.139119   0.021308 100.392672  < 2.2e-16 ***\n",
       "year2013                                 1.879213   0.023177  81.079712  < 2.2e-16 ***\n",
       "year2014                                 2.145345   0.022777  94.187323  < 2.2e-16 ***\n",
       "year2015                                 2.192915   0.025314  86.629406  < 2.2e-16 ***\n",
       "year2016                                 2.407608   0.027668  87.018771  < 2.2e-16 ***\n",
       "year2017                                 2.482461   0.029471  84.233240  < 2.2e-16 ***\n",
       "year2018                                 2.819200   0.029818  94.548184  < 2.2e-16 ***\n",
       "year2019                                 2.852393   0.031608  90.242756  < 2.2e-16 ***\n",
       "year2020                                 2.751988   0.032530  84.598988  < 2.2e-16 ***\n",
       "year2021                                 2.939706   0.035966  81.735250  < 2.2e-16 ***\n",
       "year2022                                 2.662378   0.034866  76.360639  < 2.2e-16 ***\n",
       "year2023                                 2.698812   0.035152  76.774683  < 2.2e-16 ***\n",
       "---\n",
       "Signif. codes:  0 '***' 0.001 '**' 0.01 '*' 0.05 '.' 0.1 ' ' 1\n",
       "RMSE: 3.31655     Adj. R2: 0.51619 \n",
       "                Within R2: 0.371159"
      ]
     },
     "metadata": {},
     "output_type": "display_data"
    }
   ],
   "source": [
    "summary(bs_model$best_model)"
   ]
  },
  {
   "cell_type": "code",
   "execution_count": 34,
   "id": "7d913543-b61e-403d-8376-14987dd7e774",
   "metadata": {
    "vscode": {
     "languageId": "r"
    }
   },
   "outputs": [
    {
     "name": "stderr",
     "output_type": "stream",
     "text": [
      "Warning message:\n",
      "“\u001b[1m\u001b[22mRemoved 43 rows containing missing values or values outside the scale range (`geom_line()`).”\n"
     ]
    },
    {
     "data": {
      "image/png": "[encoded data removed]",
      "text/plain": [
       "plot without title"
      ]
     },
     "metadata": {
      "image/png": {
       "height": 420,
       "width": 420
      }
     },
     "output_type": "display_data"
    }
   ],
   "source": [
    "bs_p <- create_effect_plot(bs, bs_model$best_model, bs_model$best_knot, dependent_var, weather_var, \"BS\")\n",
    "bs_p$plot"
   ]
  },
  {
   "cell_type": "markdown",
   "id": "1be84693-5f85-4ed9-9ea3-b45e5304f759",
   "metadata": {},
   "source": [
    "## Simmental"
   ]
  },
  {
   "cell_type": "code",
   "execution_count": 35,
   "id": "26af0a76-ceaa-4e79-a1f5-4ec3e9ae0441",
   "metadata": {
    "vscode": {
     "languageId": "r"
    }
   },
   "outputs": [
    {
     "name": "stderr",
     "output_type": "stream",
     "text": [
      "Variance contained negative values in the diagonal and was 'fixed' (a la Cameron, Gelbach & Miller 2011).\n",
      "\n",
      "Variance contained negative values in the diagonal and was 'fixed' (a la Cameron, Gelbach & Miller 2011).\n",
      "\n",
      "Variance contained negative values in the diagonal and was 'fixed' (a la Cameron, Gelbach & Miller 2011).\n",
      "\n",
      "Variance contained negative values in the diagonal and was 'fixed' (a la Cameron, Gelbach & Miller 2011).\n",
      "\n",
      "Variance contained negative values in the diagonal and was 'fixed' (a la Cameron, Gelbach & Miller 2011).\n",
      "\n",
      "Variance contained negative values in the diagonal and was 'fixed' (a la Cameron, Gelbach & Miller 2011).\n",
      "\n",
      "Variance contained negative values in the diagonal and was 'fixed' (a la Cameron, Gelbach & Miller 2011).\n",
      "\n",
      "Variance contained negative values in the diagonal and was 'fixed' (a la Cameron, Gelbach & Miller 2011).\n",
      "\n",
      "Variance contained negative values in the diagonal and was 'fixed' (a la Cameron, Gelbach & Miller 2011).\n",
      "\n",
      "Variance contained negative values in the diagonal and was 'fixed' (a la Cameron, Gelbach & Miller 2011).\n",
      "\n",
      "Variance contained negative values in the diagonal and was 'fixed' (a la Cameron, Gelbach & Miller 2011).\n",
      "\n",
      "Variance contained negative values in the diagonal and was 'fixed' (a la Cameron, Gelbach & Miller 2011).\n",
      "\n",
      "Variance contained negative values in the diagonal and was 'fixed' (a la Cameron, Gelbach & Miller 2011).\n",
      "\n",
      "Variance contained negative values in the diagonal and was 'fixed' (a la Cameron, Gelbach & Miller 2011).\n",
      "\n",
      "Variance contained negative values in the diagonal and was 'fixed' (a la Cameron, Gelbach & Miller 2011).\n",
      "\n",
      "Variance contained negative values in the diagonal and was 'fixed' (a la Cameron, Gelbach & Miller 2011).\n",
      "\n",
      "Variance contained negative values in the diagonal and was 'fixed' (a la Cameron, Gelbach & Miller 2011).\n",
      "\n",
      "Variance contained negative values in the diagonal and was 'fixed' (a la Cameron, Gelbach & Miller 2011).\n",
      "\n",
      "Variance contained negative values in the diagonal and was 'fixed' (a la Cameron, Gelbach & Miller 2011).\n",
      "\n",
      "Variance contained negative values in the diagonal and was 'fixed' (a la Cameron, Gelbach & Miller 2011).\n",
      "\n",
      "Variance contained negative values in the diagonal and was 'fixed' (a la Cameron, Gelbach & Miller 2011).\n",
      "\n",
      "Variance contained negative values in the diagonal and was 'fixed' (a la Cameron, Gelbach & Miller 2011).\n",
      "\n"
     ]
    },
    {
     "name": "stdout",
     "output_type": "stream",
     "text": [
      "95.397 sec elapsed\n"
     ]
    },
    {
     "name": "stderr",
     "output_type": "stream",
     "text": [
      "Variance contained negative values in the diagonal and was 'fixed' (a la Cameron, Gelbach & Miller 2011).\n",
      "\n"
     ]
    },
    {
     "name": "stderr",
     "output_type": "stream",
     "text": [
      "Variance contained negative values in the diagonal and was 'fixed' (a la Cameron, Gelbach & Miller 2011).\n",
      "\n"
     ]
    },
    {
     "name": "stderr",
     "output_type": "stream",
     "text": [
      "Variance contained negative values in the diagonal and was 'fixed' (a la Cameron, Gelbach & Miller 2011).\n",
      "\n"
     ]
    },
    {
     "name": "stderr",
     "output_type": "stream",
     "text": [
      "Variance contained negative values in the diagonal and was 'fixed' (a la Cameron, Gelbach & Miller 2011).\n",
      "\n"
     ]
    },
    {
     "name": "stderr",
     "output_type": "stream",
     "text": [
      "Variance contained negative values in the diagonal and was 'fixed' (a la Cameron, Gelbach & Miller 2011).\n",
      "\n"
     ]
    },
    {
     "name": "stdout",
     "output_type": "stream",
     "text": [
      "96.853 sec elapsed\n"
     ]
    }
   ],
   "source": [
    "tic()\n",
    "si_model = run_models_with_knots(si, knot_combs, dependent_var, weather_var)\n",
    "toc()"
   ]
  },
  {
   "cell_type": "code",
   "execution_count": 36,
   "id": "084d03d7-e779-40fc-abac-4d18cf13560f",
   "metadata": {
    "vscode": {
     "languageId": "r"
    }
   },
   "outputs": [
    {
     "data": {
      "text/html": [
       "'17_reduced_form_model_thi_mean_t0_3d_fixed_effect_1999-2023_2024_07_01_00_58_38_milk_fpcm_si_model.Rdata'"
      ],
      "text/latex": [
       "'17\\_reduced\\_form\\_model\\_thi\\_mean\\_t0\\_3d\\_fixed\\_effect\\_1999-2023\\_2024\\_07\\_01\\_00\\_58\\_38\\_milk\\_fpcm\\_si\\_model.Rdata'"
      ],
      "text/markdown": [
       "'17_reduced_form_model_thi_mean_t0_3d_fixed_effect_1999-2023_2024_07_01_00_58_38_milk_fpcm_si_model.Rdata'"
      ],
      "text/plain": [
       "[1] \"17_reduced_form_model_thi_mean_t0_3d_fixed_effect_1999-2023_2024_07_01_00_58_38_milk_fpcm_si_model.Rdata\""
      ]
     },
     "metadata": {},
     "output_type": "display_data"
    }
   ],
   "source": [
    "si_model_name <- paste0(concatenated_string, \"_si_model.Rdata\")\n",
    "si_model_name"
   ]
  },
  {
   "cell_type": "code",
   "execution_count": 37,
   "id": "1b5f0645-f62c-477b-a503-80d0ede11c9d",
   "metadata": {
    "vscode": {
     "languageId": "r"
    }
   },
   "outputs": [],
   "source": [
    "if (save) {\n",
    "    tic()\n",
    "    saveRDS(si_model, file = si_model_name, compress=T)\n",
    "    toc()\n",
    "}"
   ]
  },
  {
   "cell_type": "code",
   "execution_count": 38,
   "id": "3a1758a4-a596-4be3-9c2f-0e497e5b4a7f",
   "metadata": {
    "vscode": {
     "languageId": "r"
    }
   },
   "outputs": [
    {
     "data": {
      "text/html": [
       "52"
      ],
      "text/latex": [
       "52"
      ],
      "text/markdown": [
       "52"
      ],
      "text/plain": [
       "[1] 52"
      ]
     },
     "metadata": {},
     "output_type": "display_data"
    }
   ],
   "source": [
    "si_model$best_knot"
   ]
  },
  {
   "cell_type": "code",
   "execution_count": 39,
   "id": "90ee105b-3cab-40ba-bfbe-2b932db949c6",
   "metadata": {
    "vscode": {
     "languageId": "r"
    }
   },
   "outputs": [
    {
     "data": {
      "text/plain": [
       "OLS estimation, Dep. Var.: milk_fpcm\n",
       "Observations: 3,754,197\n",
       "Fixed-effects: farmId: 12,101\n",
       "Standard-errors: Clustered (year & farmId) \n",
       "                                         Estimate Std. Error    t value   Pr(>|t|)    \n",
       "lspline(thi_mean_t0_3d, knots = c(52))1  0.008781   0.002201    3.99002 5.4037e-04 ***\n",
       "lspline(thi_mean_t0_3d, knots = c(52))2 -0.048255   0.004503  -10.71514 1.2544e-10 ***\n",
       "days_in_milk                            -0.022085   0.000145 -152.75524  < 2.2e-16 ***\n",
       "lactationNumber                          0.439113   0.006448   68.09606  < 2.2e-16 ***\n",
       "precip_mean_t0_3d                        0.007242   0.004135    1.75138 9.2653e-02 .  \n",
       "I(precip_mean_t0_3d^2)                  -0.000452   0.000169   -2.67846 1.3139e-02 *  \n",
       "year2000                                -0.221370   0.011031  -20.06834  < 2.2e-16 ***\n",
       "year2001                                -0.162994   0.007033  -23.17667  < 2.2e-16 ***\n",
       "year2002                                -0.357702   0.003892  -91.90407  < 2.2e-16 ***\n",
       "year2003                                -0.259392   0.006220  -41.70333  < 2.2e-16 ***\n",
       "year2004                                 0.311459   0.009308   33.46223  < 2.2e-16 ***\n",
       "year2005                                 0.449038   0.012238   36.69168  < 2.2e-16 ***\n",
       "year2006                                 0.387022   0.014070   27.50659  < 2.2e-16 ***\n",
       "year2007                                 0.098451   0.014880    6.61642 7.6388e-07 ***\n",
       "year2008                                 0.272665   0.017895   15.23682 7.7152e-14 ***\n",
       "year2009                                 0.530311   0.021466   24.70420  < 2.2e-16 ***\n",
       "year2010                                 0.826874   0.024139   34.25441  < 2.2e-16 ***\n",
       "year2011                                 0.699001   0.024466   28.57000  < 2.2e-16 ***\n",
       "year2012                                 0.858151   0.026731   32.10283  < 2.2e-16 ***\n",
       "year2013                                 0.783828   0.030048   26.08626  < 2.2e-16 ***\n",
       "year2014                                 0.861698   0.032589   26.44174  < 2.2e-16 ***\n",
       "year2015                                 0.733600   0.034665   21.16270  < 2.2e-16 ***\n",
       "year2016                                 1.141614   0.034405   33.18154  < 2.2e-16 ***\n",
       "year2017                                 1.038605   0.036642   28.34473  < 2.2e-16 ***\n",
       "year2018                                 1.406120   0.036829   38.17922  < 2.2e-16 ***\n",
       "year2019                                 1.298545   0.037884   34.27687  < 2.2e-16 ***\n",
       "year2020                                 1.272207   0.038603   32.95575  < 2.2e-16 ***\n",
       "year2021                                 1.452262   0.041089   35.34394  < 2.2e-16 ***\n",
       "year2022                                 1.145426   0.043967   26.05186  < 2.2e-16 ***\n",
       "year2023                                 1.316566   0.042588   30.91421  < 2.2e-16 ***\n",
       "---\n",
       "Signif. codes:  0 '***' 0.001 '**' 0.01 '*' 0.05 '.' 0.1 ' ' 1\n",
       "RMSE: 2.75762     Adj. R2: 0.544682\n",
       "                Within R2: 0.40029 "
      ]
     },
     "metadata": {},
     "output_type": "display_data"
    }
   ],
   "source": [
    "summary(si_model$best_model)"
   ]
  },
  {
   "cell_type": "code",
   "execution_count": 40,
   "id": "cb76c1f4-593f-483c-b2da-42062eaf310e",
   "metadata": {
    "vscode": {
     "languageId": "r"
    }
   },
   "outputs": [
    {
     "name": "stderr",
     "output_type": "stream",
     "text": [
      "Warning message:\n",
      "“\u001b[1m\u001b[22mRemoved 41 rows containing missing values or values outside the scale range (`geom_line()`).”\n"
     ]
    },
    {
     "data": {
      "image/png": "[encoded data removed]",
      "text/plain": [
       "plot without title"
      ]
     },
     "metadata": {
      "image/png": {
       "height": 420,
       "width": 420
      }
     },
     "output_type": "display_data"
    }
   ],
   "source": [
    "si_p <- create_effect_plot(si, si_model$best_model, si_model$best_knot, dependent_var, weather_var, \"SI\")\n",
    "si_p$plot"
   ]
  },
  {
   "cell_type": "markdown",
   "id": "4da41b9b-f8a7-41f2-9eea-5debc95d61e2",
   "metadata": {},
   "source": [
    "## Swiss Fleckvieh"
   ]
  },
  {
   "cell_type": "code",
   "execution_count": 41,
   "id": "6b26fe07-554a-4ab6-9b39-bee820e46198",
   "metadata": {
    "vscode": {
     "languageId": "r"
    }
   },
   "outputs": [
    {
     "name": "stderr",
     "output_type": "stream",
     "text": [
      "Variance contained negative values in the diagonal and was 'fixed' (a la Cameron, Gelbach & Miller 2011).\n",
      "\n",
      "Variance contained negative values in the diagonal and was 'fixed' (a la Cameron, Gelbach & Miller 2011).\n",
      "\n",
      "Variance contained negative values in the diagonal and was 'fixed' (a la Cameron, Gelbach & Miller 2011).\n",
      "\n",
      "Variance contained negative values in the diagonal and was 'fixed' (a la Cameron, Gelbach & Miller 2011).\n",
      "\n",
      "Variance contained negative values in the diagonal and was 'fixed' (a la Cameron, Gelbach & Miller 2011).\n",
      "\n",
      "Variance contained negative values in the diagonal and was 'fixed' (a la Cameron, Gelbach & Miller 2011).\n",
      "\n",
      "Variance contained negative values in the diagonal and was 'fixed' (a la Cameron, Gelbach & Miller 2011).\n",
      "\n",
      "Variance contained negative values in the diagonal and was 'fixed' (a la Cameron, Gelbach & Miller 2011).\n",
      "\n",
      "Variance contained negative values in the diagonal and was 'fixed' (a la Cameron, Gelbach & Miller 2011).\n",
      "\n",
      "Variance contained negative values in the diagonal and was 'fixed' (a la Cameron, Gelbach & Miller 2011).\n",
      "\n",
      "Variance contained negative values in the diagonal and was 'fixed' (a la Cameron, Gelbach & Miller 2011).\n",
      "\n",
      "Variance contained negative values in the diagonal and was 'fixed' (a la Cameron, Gelbach & Miller 2011).\n",
      "\n",
      "Variance contained negative values in the diagonal and was 'fixed' (a la Cameron, Gelbach & Miller 2011).\n",
      "\n",
      "Variance contained negative values in the diagonal and was 'fixed' (a la Cameron, Gelbach & Miller 2011).\n",
      "\n",
      "Variance contained negative values in the diagonal and was 'fixed' (a la Cameron, Gelbach & Miller 2011).\n",
      "\n",
      "Variance contained negative values in the diagonal and was 'fixed' (a la Cameron, Gelbach & Miller 2011).\n",
      "\n",
      "Variance contained negative values in the diagonal and was 'fixed' (a la Cameron, Gelbach & Miller 2011).\n",
      "\n",
      "Variance contained negative values in the diagonal and was 'fixed' (a la Cameron, Gelbach & Miller 2011).\n",
      "\n",
      "Variance contained negative values in the diagonal and was 'fixed' (a la Cameron, Gelbach & Miller 2011).\n",
      "\n",
      "Variance contained negative values in the diagonal and was 'fixed' (a la Cameron, Gelbach & Miller 2011).\n",
      "\n",
      "Variance contained negative values in the diagonal and was 'fixed' (a la Cameron, Gelbach & Miller 2011).\n",
      "\n",
      "Variance contained negative values in the diagonal and was 'fixed' (a la Cameron, Gelbach & Miller 2011).\n",
      "\n"
     ]
    },
    {
     "name": "stdout",
     "output_type": "stream",
     "text": [
      "335.697 sec elapsed\n"
     ]
    },
    {
     "name": "stderr",
     "output_type": "stream",
     "text": [
      "Variance contained negative values in the diagonal and was 'fixed' (a la Cameron, Gelbach & Miller 2011).\n",
      "\n"
     ]
    },
    {
     "name": "stderr",
     "output_type": "stream",
     "text": [
      "Variance contained negative values in the diagonal and was 'fixed' (a la Cameron, Gelbach & Miller 2011).\n",
      "\n"
     ]
    },
    {
     "name": "stderr",
     "output_type": "stream",
     "text": [
      "Variance contained negative values in the diagonal and was 'fixed' (a la Cameron, Gelbach & Miller 2011).\n",
      "\n"
     ]
    },
    {
     "name": "stderr",
     "output_type": "stream",
     "text": [
      "Variance contained negative values in the diagonal and was 'fixed' (a la Cameron, Gelbach & Miller 2011).\n",
      "\n"
     ]
    },
    {
     "name": "stderr",
     "output_type": "stream",
     "text": [
      "Variance contained negative values in the diagonal and was 'fixed' (a la Cameron, Gelbach & Miller 2011).\n",
      "\n"
     ]
    },
    {
     "name": "stdout",
     "output_type": "stream",
     "text": [
      "391.645 sec elapsed\n"
     ]
    }
   ],
   "source": [
    "tic()\n",
    "sf_model = run_models_with_knots(sf, knot_combs, dependent_var, weather_var)\n",
    "toc()"
   ]
  },
  {
   "cell_type": "code",
   "execution_count": 42,
   "id": "92fc0d30-a215-43c7-9e0c-fa3d88c83338",
   "metadata": {
    "vscode": {
     "languageId": "r"
    }
   },
   "outputs": [
    {
     "data": {
      "text/html": [
       "'17_reduced_form_model_thi_mean_t0_3d_fixed_effect_1999-2023_2024_07_01_00_58_38_milk_fpcm_sf_model.Rdata'"
      ],
      "text/latex": [
       "'17\\_reduced\\_form\\_model\\_thi\\_mean\\_t0\\_3d\\_fixed\\_effect\\_1999-2023\\_2024\\_07\\_01\\_00\\_58\\_38\\_milk\\_fpcm\\_sf\\_model.Rdata'"
      ],
      "text/markdown": [
       "'17_reduced_form_model_thi_mean_t0_3d_fixed_effect_1999-2023_2024_07_01_00_58_38_milk_fpcm_sf_model.Rdata'"
      ],
      "text/plain": [
       "[1] \"17_reduced_form_model_thi_mean_t0_3d_fixed_effect_1999-2023_2024_07_01_00_58_38_milk_fpcm_sf_model.Rdata\""
      ]
     },
     "metadata": {},
     "output_type": "display_data"
    }
   ],
   "source": [
    "sf_model_name <- paste0(concatenated_string, \"_sf_model.Rdata\")\n",
    "sf_model_name"
   ]
  },
  {
   "cell_type": "code",
   "execution_count": 43,
   "id": "cd788ec1-833e-4677-a75b-57db926410d7",
   "metadata": {
    "vscode": {
     "languageId": "r"
    }
   },
   "outputs": [],
   "source": [
    "if (save) {\n",
    "    tic()\n",
    "    saveRDS(sf_model, file = sf_model_name, compress=T)\n",
    "    toc()\n",
    "}"
   ]
  },
  {
   "cell_type": "code",
   "execution_count": 44,
   "id": "93df992b-e0a0-45ac-97ca-59799099a44e",
   "metadata": {
    "vscode": {
     "languageId": "r"
    }
   },
   "outputs": [
    {
     "data": {
      "text/html": [
       "52"
      ],
      "text/latex": [
       "52"
      ],
      "text/markdown": [
       "52"
      ],
      "text/plain": [
       "[1] 52"
      ]
     },
     "metadata": {},
     "output_type": "display_data"
    }
   ],
   "source": [
    "sf_model$best_knot"
   ]
  },
  {
   "cell_type": "code",
   "execution_count": 45,
   "id": "3d2ca0f4-cf94-43d5-b36c-cbb3d4ce959d",
   "metadata": {
    "vscode": {
     "languageId": "r"
    }
   },
   "outputs": [
    {
     "data": {
      "text/plain": [
       "OLS estimation, Dep. Var.: milk_fpcm\n",
       "Observations: 13,073,097\n",
       "Fixed-effects: farmId: 25,332\n",
       "Standard-errors: Clustered (year & farmId) \n",
       "                                         Estimate Std. Error    t value   Pr(>|t|)    \n",
       "lspline(thi_mean_t0_3d, knots = c(52))1  0.009578   0.002147   4.461176 1.6348e-04 ***\n",
       "lspline(thi_mean_t0_3d, knots = c(52))2 -0.056971   0.003802 -14.982698 1.1133e-13 ***\n",
       "days_in_milk                            -0.025669   0.000398 -64.500464  < 2.2e-16 ***\n",
       "lactationNumber                          0.494699   0.015669  31.571934  < 2.2e-16 ***\n",
       "precip_mean_t0_3d                        0.000330   0.004035   0.081781 9.3550e-01    \n",
       "I(precip_mean_t0_3d^2)                  -0.000133   0.000153  -0.867212 3.9441e-01    \n",
       "year2000                                -0.059650   0.004499 -13.259830 1.5404e-12 ***\n",
       "year2001                                 0.181355   0.004349  41.704511  < 2.2e-16 ***\n",
       "year2002                                 0.178520   0.006981  25.570445  < 2.2e-16 ***\n",
       "year2003                                 0.404205   0.010848  37.259727  < 2.2e-16 ***\n",
       "year2004                                 0.787212   0.013837  56.891761  < 2.2e-16 ***\n",
       "year2005                                 1.067415   0.016290  65.526239  < 2.2e-16 ***\n",
       "year2006                                 0.981076   0.016220  60.486560  < 2.2e-16 ***\n",
       "year2007                                 0.699440   0.016818  41.589050  < 2.2e-16 ***\n",
       "year2008                                 0.810190   0.018865  42.946445  < 2.2e-16 ***\n",
       "year2009                                 1.060332   0.020962  50.583401  < 2.2e-16 ***\n",
       "year2010                                 1.352470   0.022830  59.240669  < 2.2e-16 ***\n",
       "year2011                                 1.089256   0.021424  50.843557  < 2.2e-16 ***\n",
       "year2012                                 1.358157   0.020907  64.963271  < 2.2e-16 ***\n",
       "year2013                                 1.312094   0.021823  60.123102  < 2.2e-16 ***\n",
       "year2014                                 1.621695   0.023525  68.934576  < 2.2e-16 ***\n",
       "year2015                                 1.782394   0.025428  70.095192  < 2.2e-16 ***\n",
       "year2016                                 1.953044   0.026481  73.753266  < 2.2e-16 ***\n",
       "year2017                                 1.926594   0.027532  69.976694  < 2.2e-16 ***\n",
       "year2018                                 2.279854   0.028972  78.691231  < 2.2e-16 ***\n",
       "year2019                                 2.179981   0.029135  74.823677  < 2.2e-16 ***\n",
       "year2020                                 2.289332   0.029949  76.440486  < 2.2e-16 ***\n",
       "year2021                                 2.380795   0.030475  78.123055  < 2.2e-16 ***\n",
       "year2022                                 2.014820   0.032262  62.451764  < 2.2e-16 ***\n",
       "year2023                                 2.115689   0.031640  66.866522  < 2.2e-16 ***\n",
       "---\n",
       "Signif. codes:  0 '***' 0.001 '**' 0.01 '*' 0.05 '.' 0.1 ' ' 1\n",
       "RMSE: 3.26684     Adj. R2: 0.53445 \n",
       "                Within R2: 0.422028"
      ]
     },
     "metadata": {},
     "output_type": "display_data"
    }
   ],
   "source": [
    "summary(sf_model$best_model)"
   ]
  },
  {
   "cell_type": "code",
   "execution_count": 46,
   "id": "f9a3eee1-dddb-472e-9f53-9d85dc96e770",
   "metadata": {
    "vscode": {
     "languageId": "r"
    }
   },
   "outputs": [
    {
     "name": "stderr",
     "output_type": "stream",
     "text": [
      "Warning message:\n",
      "“\u001b[1m\u001b[22mRemoved 40 rows containing missing values or values outside the scale range (`geom_line()`).”\n"
     ]
    },
    {
     "data": {
      "image/png": "[encoded data removed]",
      "text/plain": [
       "plot without title"
      ]
     },
     "metadata": {
      "image/png": {
       "height": 420,
       "width": 420
      }
     },
     "output_type": "display_data"
    }
   ],
   "source": [
    "sf_p <- create_effect_plot(sf, sf_model$best_model, sf_model$best_knot, dependent_var, weather_var, \"SF\")\n",
    "sf_p$plot"
   ]
  },
  {
   "cell_type": "markdown",
   "id": "87f72462-dbce-4907-9de4-fc42017cd690",
   "metadata": {},
   "source": [
    "# Original Braunvieh"
   ]
  },
  {
   "cell_type": "code",
   "execution_count": 47,
   "id": "a87ba09c-e38f-49ce-b3d5-0623ed8b8260",
   "metadata": {
    "vscode": {
     "languageId": "r"
    }
   },
   "outputs": [
    {
     "name": "stderr",
     "output_type": "stream",
     "text": [
      "Variance contained negative values in the diagonal and was 'fixed' (a la Cameron, Gelbach & Miller 2011).\n",
      "\n",
      "Variance contained negative values in the diagonal and was 'fixed' (a la Cameron, Gelbach & Miller 2011).\n",
      "\n",
      "Variance contained negative values in the diagonal and was 'fixed' (a la Cameron, Gelbach & Miller 2011).\n",
      "\n",
      "Variance contained negative values in the diagonal and was 'fixed' (a la Cameron, Gelbach & Miller 2011).\n",
      "\n",
      "Variance contained negative values in the diagonal and was 'fixed' (a la Cameron, Gelbach & Miller 2011).\n",
      "\n",
      "Variance contained negative values in the diagonal and was 'fixed' (a la Cameron, Gelbach & Miller 2011).\n",
      "\n",
      "Variance contained negative values in the diagonal and was 'fixed' (a la Cameron, Gelbach & Miller 2011).\n",
      "\n",
      "Variance contained negative values in the diagonal and was 'fixed' (a la Cameron, Gelbach & Miller 2011).\n",
      "\n",
      "Variance contained negative values in the diagonal and was 'fixed' (a la Cameron, Gelbach & Miller 2011).\n",
      "\n",
      "Variance contained negative values in the diagonal and was 'fixed' (a la Cameron, Gelbach & Miller 2011).\n",
      "\n",
      "Variance contained negative values in the diagonal and was 'fixed' (a la Cameron, Gelbach & Miller 2011).\n",
      "\n",
      "Variance contained negative values in the diagonal and was 'fixed' (a la Cameron, Gelbach & Miller 2011).\n",
      "\n",
      "Variance contained negative values in the diagonal and was 'fixed' (a la Cameron, Gelbach & Miller 2011).\n",
      "\n",
      "Variance contained negative values in the diagonal and was 'fixed' (a la Cameron, Gelbach & Miller 2011).\n",
      "\n",
      "Variance contained negative values in the diagonal and was 'fixed' (a la Cameron, Gelbach & Miller 2011).\n",
      "\n",
      "Variance contained negative values in the diagonal and was 'fixed' (a la Cameron, Gelbach & Miller 2011).\n",
      "\n",
      "Variance contained negative values in the diagonal and was 'fixed' (a la Cameron, Gelbach & Miller 2011).\n",
      "\n",
      "Variance contained negative values in the diagonal and was 'fixed' (a la Cameron, Gelbach & Miller 2011).\n",
      "\n",
      "Variance contained negative values in the diagonal and was 'fixed' (a la Cameron, Gelbach & Miller 2011).\n",
      "\n",
      "Variance contained negative values in the diagonal and was 'fixed' (a la Cameron, Gelbach & Miller 2011).\n",
      "\n",
      "Variance contained negative values in the diagonal and was 'fixed' (a la Cameron, Gelbach & Miller 2011).\n",
      "\n",
      "Variance contained negative values in the diagonal and was 'fixed' (a la Cameron, Gelbach & Miller 2011).\n",
      "\n"
     ]
    },
    {
     "name": "stdout",
     "output_type": "stream",
     "text": [
      "39.076 sec elapsed\n"
     ]
    },
    {
     "name": "stderr",
     "output_type": "stream",
     "text": [
      "Variance contained negative values in the diagonal and was 'fixed' (a la Cameron, Gelbach & Miller 2011).\n",
      "\n"
     ]
    },
    {
     "name": "stderr",
     "output_type": "stream",
     "text": [
      "Variance contained negative values in the diagonal and was 'fixed' (a la Cameron, Gelbach & Miller 2011).\n",
      "\n"
     ]
    },
    {
     "name": "stderr",
     "output_type": "stream",
     "text": [
      "Variance contained negative values in the diagonal and was 'fixed' (a la Cameron, Gelbach & Miller 2011).\n",
      "\n"
     ]
    },
    {
     "name": "stderr",
     "output_type": "stream",
     "text": [
      "Variance contained negative values in the diagonal and was 'fixed' (a la Cameron, Gelbach & Miller 2011).\n",
      "\n"
     ]
    },
    {
     "name": "stderr",
     "output_type": "stream",
     "text": [
      "Variance contained negative values in the diagonal and was 'fixed' (a la Cameron, Gelbach & Miller 2011).\n",
      "\n"
     ]
    },
    {
     "name": "stdout",
     "output_type": "stream",
     "text": [
      "59.195 sec elapsed\n"
     ]
    }
   ],
   "source": [
    "tic()\n",
    "ob_model = run_models_with_knots(ob, knot_combs, dependent_var, weather_var)\n",
    "toc()"
   ]
  },
  {
   "cell_type": "code",
   "execution_count": 48,
   "id": "4e884e30-6ec9-4fc2-b284-4a6487172e2b",
   "metadata": {
    "vscode": {
     "languageId": "r"
    }
   },
   "outputs": [
    {
     "data": {
      "text/html": [
       "'17_reduced_form_model_thi_mean_t0_3d_fixed_effect_1999-2023_2024_07_01_00_58_38_milk_fpcm_ob_model.Rdata'"
      ],
      "text/latex": [
       "'17\\_reduced\\_form\\_model\\_thi\\_mean\\_t0\\_3d\\_fixed\\_effect\\_1999-2023\\_2024\\_07\\_01\\_00\\_58\\_38\\_milk\\_fpcm\\_ob\\_model.Rdata'"
      ],
      "text/markdown": [
       "'17_reduced_form_model_thi_mean_t0_3d_fixed_effect_1999-2023_2024_07_01_00_58_38_milk_fpcm_ob_model.Rdata'"
      ],
      "text/plain": [
       "[1] \"17_reduced_form_model_thi_mean_t0_3d_fixed_effect_1999-2023_2024_07_01_00_58_38_milk_fpcm_ob_model.Rdata\""
      ]
     },
     "metadata": {},
     "output_type": "display_data"
    }
   ],
   "source": [
    "ob_model_name <- paste0(concatenated_string, \"_ob_model.Rdata\")\n",
    "ob_model_name"
   ]
  },
  {
   "cell_type": "code",
   "execution_count": 49,
   "id": "fdab3587-2a61-4e9b-b26c-e6cea235920c",
   "metadata": {
    "vscode": {
     "languageId": "r"
    }
   },
   "outputs": [],
   "source": [
    "if (save) {\n",
    "    tic()\n",
    "    saveRDS(ob_model, file = ob_model_name, compress=T)\n",
    "    toc()\n",
    "}"
   ]
  },
  {
   "cell_type": "code",
   "execution_count": 50,
   "id": "6d576060-2b21-475d-bccf-837c2157a437",
   "metadata": {
    "vscode": {
     "languageId": "r"
    }
   },
   "outputs": [
    {
     "data": {
      "text/html": [
       "52"
      ],
      "text/latex": [
       "52"
      ],
      "text/markdown": [
       "52"
      ],
      "text/plain": [
       "[1] 52"
      ]
     },
     "metadata": {},
     "output_type": "display_data"
    }
   ],
   "source": [
    "ob_model$best_knot"
   ]
  },
  {
   "cell_type": "code",
   "execution_count": 51,
   "id": "6c73cc59-b92a-4462-85bf-924d815557aa",
   "metadata": {
    "vscode": {
     "languageId": "r"
    }
   },
   "outputs": [
    {
     "data": {
      "text/plain": [
       "OLS estimation, Dep. Var.: milk_fpcm\n",
       "Observations: 1,785,084\n",
       "Fixed-effects: farmId: 7,002\n",
       "Standard-errors: Clustered (year & farmId) \n",
       "                                         Estimate Std. Error    t value   Pr(>|t|)    \n",
       "lspline(thi_mean_t0_3d, knots = c(52))1  0.000384   0.001848   0.207906 8.3706e-01    \n",
       "lspline(thi_mean_t0_3d, knots = c(52))2 -0.039302   0.004112  -9.558358 1.1788e-09 ***\n",
       "days_in_milk                            -0.019528   0.000225 -86.929413  < 2.2e-16 ***\n",
       "lactationNumber                          0.402079   0.013605  29.552924  < 2.2e-16 ***\n",
       "precip_mean_t0_3d                        0.000937   0.003820   0.245222 8.0837e-01    \n",
       "I(precip_mean_t0_3d^2)                  -0.000128   0.000148  -0.865452 3.9536e-01    \n",
       "year2000                                 0.007825   0.029126   0.268652 7.9049e-01    \n",
       "year2001                                 0.425627   0.015609  27.267390  < 2.2e-16 ***\n",
       "year2002                                 0.458735   0.013295  34.503384  < 2.2e-16 ***\n",
       "year2003                                 0.596885   0.011360  52.542311  < 2.2e-16 ***\n",
       "year2004                                 0.974028   0.016506  59.010320  < 2.2e-16 ***\n",
       "year2005                                 0.958216   0.023298  41.129544  < 2.2e-16 ***\n",
       "year2006                                 0.861693   0.027679  31.132139  < 2.2e-16 ***\n",
       "year2007                                 0.765580   0.029993  25.525139  < 2.2e-16 ***\n",
       "year2008                                 0.940703   0.032520  28.926836  < 2.2e-16 ***\n",
       "year2009                                 1.199849   0.042009  28.561793  < 2.2e-16 ***\n",
       "year2010                                 1.201779   0.045434  26.451008  < 2.2e-16 ***\n",
       "year2011                                 1.193258   0.051743  23.061123  < 2.2e-16 ***\n",
       "year2012                                 1.430386   0.054777  26.112928  < 2.2e-16 ***\n",
       "year2013                                 1.330189   0.055374  24.021772  < 2.2e-16 ***\n",
       "year2014                                 1.506708   0.055246  27.272469  < 2.2e-16 ***\n",
       "year2015                                 1.470309   0.057772  25.450358  < 2.2e-16 ***\n",
       "year2016                                 1.606141   0.063574  25.264313  < 2.2e-16 ***\n",
       "year2017                                 1.638643   0.061528  26.632676  < 2.2e-16 ***\n",
       "year2018                                 1.997450   0.063801  31.307500  < 2.2e-16 ***\n",
       "year2019                                 1.990887   0.066226  30.062076  < 2.2e-16 ***\n",
       "year2020                                 1.933460   0.066525  29.063677  < 2.2e-16 ***\n",
       "year2021                                 2.043107   0.068645  29.763500  < 2.2e-16 ***\n",
       "year2022                                 1.661252   0.069189  24.010253  < 2.2e-16 ***\n",
       "year2023                                 1.673102   0.066977  24.980132  < 2.2e-16 ***\n",
       "---\n",
       "Signif. codes:  0 '***' 0.001 '**' 0.01 '*' 0.05 '.' 0.1 ' ' 1\n",
       "RMSE: 2.84633     Adj. R2: 0.523012\n",
       "                Within R2: 0.370085"
      ]
     },
     "metadata": {},
     "output_type": "display_data"
    }
   ],
   "source": [
    "summary(ob_model$best_model)"
   ]
  },
  {
   "cell_type": "code",
   "execution_count": 52,
   "id": "8c5e7189-4c89-4817-a91b-0cf069649a9f",
   "metadata": {
    "vscode": {
     "languageId": "r"
    }
   },
   "outputs": [
    {
     "name": "stderr",
     "output_type": "stream",
     "text": [
      "Warning message:\n",
      "“\u001b[1m\u001b[22mRemoved 42 rows containing missing values or values outside the scale range (`geom_line()`).”\n"
     ]
    },
    {
     "data": {
      "image/png": "[encoded data removed]",
      "text/plain": [
       "plot without title"
      ]
     },
     "metadata": {
      "image/png": {
       "height": 420,
       "width": 420
      }
     },
     "output_type": "display_data"
    }
   ],
   "source": [
    "ob_p <- create_effect_plot(ob, ob_model$best_model, ob_model$best_knot, dependent_var, weather_var, \"OB\")\n",
    "ob_p$plot"
   ]
  },
  {
   "cell_type": "markdown",
   "id": "62d87ef9-7308-4550-8a96-00c809bb579f",
   "metadata": {},
   "source": [
    "## Merge data"
   ]
  },
  {
   "cell_type": "code",
   "execution_count": 53,
   "id": "d7387ef5-7381-4287-bcf1-43513897f8f0",
   "metadata": {
    "vscode": {
     "languageId": "r"
    }
   },
   "outputs": [],
   "source": [
    "breed_effect_data <- merge_plot_data(list(ho_p$data, bs_p$data, sf_p$data, si_p$data, bs_p$data, je_p$data, ob_p$data))\n",
    "saveRDS(breed_effect_data, file = paste0(concatenated_string, \"_plot_data.Rdata\"), compress=T)"
   ]
  },
  {
   "cell_type": "code",
   "execution_count": 55,
   "id": "53c3c9bc-2698-47cb-8891-58a4a9a3da21",
   "metadata": {
    "vscode": {
     "languageId": "r"
    }
   },
   "outputs": [],
   "source": [
    "# Function to plot merged data\n",
    "plot_merged_data <- function(merged_data, predictor_var) {\n",
    "  # Create the plot\n",
    "    \n",
    "    y_min <- min(merged_data$Lower)\n",
    "    y_max <- max(merged_data$Upper)\n",
    "    plot <- ggplot(merged_data, aes(x = predictor_range, y = Effect, color = breed, fill = breed)) +\n",
    "    geom_line() +\n",
    "    geom_ribbon(aes(ymin = Lower, ymax = Upper), alpha = 0.3) +\n",
    "    labs(\n",
    "      title = paste0(\"Effect of\", predictor_var, \" per breed\"),\n",
    "      x = \"Predictor Variable Range\",\n",
    "      y = \"Effect\"\n",
    "    ) +\n",
    "    theme_minimal() +\n",
    "    scale_x_continuous(breaks = seq(40,  max(merged_data$predictor_range), by = 10), limits = c(40, max(merged_data$predictor_range))) +\n",
    "    scale_y_continuous(limits = c(y_min, y_max)) +\n",
    "    theme(\n",
    "      plot.title = element_text(hjust = 0.5),\n",
    "      plot.title.position = \"plot\",\n",
    "      axis.title.x = element_text(hjust = 0.5),\n",
    "      axis.title.y = element_text(hjust = 0.5)\n",
    "    ) +\n",
    "    facet_wrap(~ breed)\n",
    "  \n",
    "  \n",
    "  return(plot)\n",
    "}"
   ]
  },
  {
   "cell_type": "code",
   "execution_count": 56,
   "id": "6c0e96e2-74b3-448e-8c06-ce2bf91aeb30",
   "metadata": {
    "vscode": {
     "languageId": "r"
    }
   },
   "outputs": [
    {
     "name": "stderr",
     "output_type": "stream",
     "text": [
      "Warning message:\n",
      "“\u001b[1m\u001b[22mRemoved 288 rows containing missing values or values outside the scale range (`geom_line()`).”\n"
     ]
    },
    {
     "data": {
      "image/png": "[encoded data removed]",
      "text/plain": [
       "plot without title"
      ]
     },
     "metadata": {
      "image/png": {
       "height": 420,
       "width": 420
      }
     },
     "output_type": "display_data"
    }
   ],
   "source": [
    "plot_merged_data(breed_effect_data, weather_var)"
   ]
  }
 ],
 "metadata": {
  "kernelspec": {
   "display_name": "R",
   "language": "R",
   "name": "ir"
  },
  "language_info": {
   "codemirror_mode": "r",
   "file_extension": ".r",
   "mimetype": "text/x-r-source",
   "name": "R",
   "pygments_lexer": "r",
   "version": "4.3.1"
  }
 },
 "nbformat": 4,
 "nbformat_minor": 5
}
