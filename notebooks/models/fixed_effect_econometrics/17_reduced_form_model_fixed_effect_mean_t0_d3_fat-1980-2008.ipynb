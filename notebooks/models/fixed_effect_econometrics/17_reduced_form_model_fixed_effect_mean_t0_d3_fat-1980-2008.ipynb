{
 "cells": [
  {
   "cell_type": "markdown",
   "id": "c2c9496c-1c4c-4462-a310-d1cf26c3d966",
   "metadata": {},
   "source": [
    "# Heat Stress Project - Fat"
   ]
  },
  {
   "cell_type": "markdown",
   "id": "4392f814-ee10-4530-83f1-289ae0d08075",
   "metadata": {},
   "source": [
    "# R Packages"
   ]
  },
  {
   "cell_type": "code",
   "execution_count": 1,
   "id": "ab732adf-9d48-4fd2-83c8-7115fbe5ffec",
   "metadata": {
    "execution": {
     "iopub.execute_input": "2024-06-24T00:16:30.630930Z",
     "iopub.status.busy": "2024-06-24T00:16:30.629767Z",
     "iopub.status.idle": "2024-06-24T00:16:32.389991Z",
     "shell.execute_reply": "2024-06-24T00:16:32.389054Z"
    },
    "vscode": {
     "languageId": "r"
    }
   },
   "outputs": [],
   "source": [
    "suppressPackageStartupMessages({\n",
    "  library(mgcv)\n",
    "  library(arrow)\n",
    "  library(dplyr)\n",
    "  library(tictoc)\n",
    "  library(fixest)\n",
    "  library(plm)\n",
    "  library(lspline)\n",
    "  library(lmerTest)\n",
    "  library(ggplot2)\n",
    "  library(car)\n",
    "  library(tidyverse)\n",
    "  library(lmtest)\n",
    "  library(rsample)\n",
    "  library(rlang)\n",
    "})\n",
    "options(width=1000)"
   ]
  },
  {
   "cell_type": "markdown",
   "id": "7b79ee07-be48-4182-9e1d-5b8e90796ee0",
   "metadata": {},
   "source": [
    "# Experiment Parameters"
   ]
  },
  {
   "cell_type": "code",
   "execution_count": 2,
   "id": "567b4c95-4615-4a4d-89f7-69ad7e582d6d",
   "metadata": {
    "execution": {
     "iopub.execute_input": "2024-06-24T00:16:32.406086Z",
     "iopub.status.busy": "2024-06-24T00:16:32.392039Z",
     "iopub.status.idle": "2024-06-24T00:16:32.424126Z",
     "shell.execute_reply": "2024-06-24T00:16:32.423385Z"
    },
    "vscode": {
     "languageId": "r"
    }
   },
   "outputs": [
    {
     "data": {
      "text/html": [
       "'17_reduced_form_model_thi_mean_t0_3d_fixed_effect_1980-2008_2024_06_24_02_16_32_fat'"
      ],
      "text/latex": [
       "'17\\_reduced\\_form\\_model\\_thi\\_mean\\_t0\\_3d\\_fixed\\_effect\\_1980-2008\\_2024\\_06\\_24\\_02\\_16\\_32\\_fat'"
      ],
      "text/markdown": [
       "'17_reduced_form_model_thi_mean_t0_3d_fixed_effect_1980-2008_2024_06_24_02_16_32_fat'"
      ],
      "text/plain": [
       "[1] \"17_reduced_form_model_thi_mean_t0_3d_fixed_effect_1980-2008_2024_06_24_02_16_32_fat\""
      ]
     },
     "metadata": {},
     "output_type": "display_data"
    }
   ],
   "source": [
    "set.seed(2024)\n",
    "period <- 1980:2008\n",
    "month <- 4:10\n",
    "start <- min(period)\n",
    "stop <- max(period)\n",
    "subsample <- F\n",
    "diagnostic <- F\n",
    "save <- F\n",
    "sample_size <- 100000\n",
    "dependent_var <- \"fat\"\n",
    "weather_var <- \"thi_mean_t0_3d\"\n",
    "breeds <- c(\"HO\", \"JE\", \"SI\", \"SF\", \"BS\", \"OB\")\n",
    "start_knot <- 35\n",
    "stop_knot <- 60\n",
    "concatenated_string <- paste0(\"17_reduced_form_model_thi_mean_t0_3d_fixed_effect_\", start, \"-\", stop, \"_\", format(Sys.time(), \"%Y_%m_%d_%H_%M_%S\"), \"_\", dependent_var)\n",
    "concatenated_string"
   ]
  },
  {
   "cell_type": "markdown",
   "id": "c760df71-db97-4415-8386-e044c449f77b",
   "metadata": {},
   "source": [
    "# Custom Functions"
   ]
  },
  {
   "cell_type": "code",
   "execution_count": 3,
   "id": "6f08bb6a-45f9-449f-8cfb-61b054c2a534",
   "metadata": {
    "execution": {
     "iopub.execute_input": "2024-06-24T00:16:32.426743Z",
     "iopub.status.busy": "2024-06-24T00:16:32.426108Z",
     "iopub.status.idle": "2024-06-24T00:16:32.431563Z",
     "shell.execute_reply": "2024-06-24T00:16:32.430828Z"
    },
    "vscode": {
     "languageId": "r"
    }
   },
   "outputs": [],
   "source": [
    "generate_diagnostic_plots <- function(model) {\n",
    "  # Extract fitted values and residuals\n",
    "  fitted_values <- fitted(model)\n",
    "  residuals <- residuals(model)\n",
    "  \n",
    "  # Create a data frame for plotting\n",
    "  plot_data <- data.frame(fitted_values = fitted_values, residuals = residuals)\n",
    "  print(nrow(plot_data))\n",
    "  \n",
    "  # Residuals vs Fitted Values Plot / Linearity & Homoscedacity\n",
    "  p1 <- ggplot(plot_data, aes(x = fitted_values, y = residuals)) +\n",
    "    geom_point(alpha = 0.5) +                       # Scatter plot of residuals\n",
    "    geom_smooth(method = \"loess\", col = \"red\", se = FALSE) +    # Smooth curve (loess)\n",
    "    labs(title = \"Residuals vs. Fitted Values\",\n",
    "         x = \"Fitted Values\",\n",
    "         y = \"Residuals\") +\n",
    "    theme_minimal() +\n",
    "    geom_hline(yintercept = 0, linetype = \"dashed\", color = \"blue\")\n",
    "  \n",
    "  # Normal distribution of residuals\n",
    "  p2 <- ggplot(plot_data, aes(sample = residuals)) +\n",
    "    stat_qq() +\n",
    "    stat_qq_line() +\n",
    "    labs(title = \"Normal Q-Q\",\n",
    "         x = \"Theoretical Quantiles\",\n",
    "         y = \"Residuals\") +\n",
    "    theme_minimal()\n",
    "  \n",
    "  # Scale-Location Plot (Homoscedacity - normally distributed standard error)\n",
    "  plot_data$std_residuals <- scale(residuals)\n",
    "  plot_data$abs_sqrt_residuals <- sqrt(abs(plot_data$std_residuals))\n",
    "  \n",
    "  p3 <- ggplot(plot_data, aes(fitted_values, abs_sqrt_residuals)) +\n",
    "    geom_point() +\n",
    "    geom_smooth(method = \"loess\", col = \"red\", se = FALSE) +\n",
    "    labs(title = \"Scale-Location Plot\",\n",
    "         x = \"Fitted values\",\n",
    "         y = \"√|Standardized residuals|\") +\n",
    "    theme_minimal()\n",
    "\n",
    "  p4 <- ggplot(plot_data, aes(x = residuals)) +\n",
    "    geom_histogram(binwidth = 0.5, fill = \"blue\", color = \"black\") +\n",
    "    labs(title = \"Histogram of Residuals\", x = \"Residuals\", y = \"Frequency\") +\n",
    "    theme_minimal()\n",
    " \n",
    "  # Return the plots as a list\n",
    "  list(\n",
    "    Residuals_vs_Fitted = p1,\n",
    "    Normal_QQ = p2,\n",
    "    Scale_Location = p3,\n",
    "    Residual_hist = p4\n",
    "  )\n",
    "}"
   ]
  },
  {
   "cell_type": "code",
   "execution_count": 4,
   "id": "618a30c9-d484-4d74-86e5-1c60361da06d",
   "metadata": {
    "execution": {
     "iopub.execute_input": "2024-06-24T00:16:32.434083Z",
     "iopub.status.busy": "2024-06-24T00:16:32.433462Z",
     "iopub.status.idle": "2024-06-24T00:16:32.439803Z",
     "shell.execute_reply": "2024-06-24T00:16:32.439067Z"
    },
    "vscode": {
     "languageId": "r"
    }
   },
   "outputs": [],
   "source": [
    "create_effect_plot <- function(data, model, knot, response_var, predictor_var, breed) {\n",
    "  # Create the range for the predictor variable\n",
    "  predictor_range <- seq(ceiling(min(data[predictor_var], na.rm = TRUE)), floor(max(data[predictor_var], na.rm = TRUE)))\n",
    "  # Calculate the effect\n",
    "  effect <- lspline(predictor_range, knots = knot) %*% coeftest(model)[,1][1:(length(knot)+1)]\n",
    "  \n",
    "  # Calculate the confidence intervals\n",
    "  effect_error_min <- effect - ((lspline(predictor_range, knots = knot)) %*% (abs(coeftest(model)[,2][1:(length(knot)+1)] * 1.96)))\n",
    "  effect_error_max <- effect + ((lspline(predictor_range, knots = knot)) %*% (abs(coeftest(model)[,2][1:(length(knot)+1)] * 1.96)))\n",
    "  \n",
    "  # Create the data frame for plotting\n",
    "  data_plot <- data.frame(\n",
    "    breed = breed,\n",
    "    predictor_range, \n",
    "    Effect = effect, \n",
    "    Lower = effect_error_min, \n",
    "    Upper = effect_error_max\n",
    "  )\n",
    "  \n",
    "  # Create the plot\n",
    "  plot <- ggplot(data_plot, aes(x = predictor_range, y = Effect)) +\n",
    "    geom_line(color = \"blue\") +\n",
    "    geom_ribbon(aes(ymin = Lower, ymax = Upper), alpha = 0.3, fill = \"blue\") +\n",
    "    labs(\n",
    "      title = paste(\"Effect of\", predictor_var, \"with Confidence Intervals\"),\n",
    "      x = paste(predictor_var, \"Range\"),\n",
    "      y = \"Effect\"\n",
    "    ) +\n",
    "    theme_minimal() + \n",
    "    scale_x_continuous(breaks = seq(40, 90, by = 10), limits = c(40, max(predictor_range))) +\n",
    "    theme(\n",
    "      plot.title = element_text(hjust = 0.5),\n",
    "      plot.title.position = \"plot\",\n",
    "      axis.title.x = element_text(hjust = 0.5),\n",
    "      axis.title.y = element_text(hjust = 0.5)\n",
    "    )\n",
    "  \n",
    "  return(list(plot = plot, data = data_plot))\n",
    "}\n",
    "\n",
    "merge_plot_data <- function(plot_data_list) {\n",
    "  # Combine the data frames from each plot into one data frame\n",
    "  merged_data <- bind_rows(plot_data_list)\n",
    "  \n",
    "  return(merged_data)\n",
    "}"
   ]
  },
  {
   "cell_type": "markdown",
   "id": "bae02f6f-4e0c-420c-bcf6-be06dc0d203f",
   "metadata": {},
   "source": [
    "# Load Data"
   ]
  },
  {
   "cell_type": "code",
   "execution_count": 5,
   "id": "1b4a878c-da52-4dda-bafb-8c8f1d9dbc05",
   "metadata": {
    "execution": {
     "iopub.execute_input": "2024-06-24T00:16:32.442299Z",
     "iopub.status.busy": "2024-06-24T00:16:32.441684Z",
     "iopub.status.idle": "2024-06-24T00:16:41.162470Z",
     "shell.execute_reply": "2024-06-24T00:16:41.161489Z"
    },
    "vscode": {
     "languageId": "r"
    }
   },
   "outputs": [],
   "source": [
    "milk_data <- read_parquet(\"/home/aschneuwl/workspace/agecon-thesis/notebooks/02_models/12_base_data.parquet\")"
   ]
  },
  {
   "cell_type": "code",
   "execution_count": 6,
   "id": "3b43fd3f-2220-4c57-acb6-6730b746bf64",
   "metadata": {
    "execution": {
     "iopub.execute_input": "2024-06-24T00:16:41.166280Z",
     "iopub.status.busy": "2024-06-24T00:16:41.165544Z",
     "iopub.status.idle": "2024-06-24T00:18:48.343231Z",
     "shell.execute_reply": "2024-06-24T00:18:48.342144Z"
    },
    "vscode": {
     "languageId": "r"
    }
   },
   "outputs": [],
   "source": [
    "milk_data$animalBreedCode <- as.factor(milk_data$animalBreedCode)\n",
    "milk_data$year <- as.factor(milk_data$year)\n",
    "milk_data$farmId <- as.factor(milk_data$farmId)\n",
    "milk_data$month <- as.factor(milk_data$month)\n",
    "milk_data$logmilk <- log(milk_data$milk)\n",
    "milkingMehtod <- as.factor(milk_data$milkingMethod)\n",
    "milk_data$zip <- as.factor(milk_data$zip)\n",
    "milk_data$days_in_milk <- as.numeric(milk_data$days_in_milk)\n",
    "milk_data$days_in_milk <- milk_data$days_in_milk / 86400\n",
    "milk_data$farm_year_interaction = interaction(milk_data$farmId, milk_data$year)\n",
    "milk_data$farm_month_interaction = interaction(milk_data$farmId, milk_data$month)\n",
    "\n",
    "milk_data$regular_season <- with(milk_data, \n",
    "    ifelse(month %in% c(\"3\", \"4\", \"5\"), \"spring\",\n",
    "    ifelse(month %in% c(\"6\", \"7\", \"8\"), \"summer\",\n",
    "    ifelse(month %in% c(\"9\", \"10\", \"11\"), \"fall\", \"winter\"))))\n",
    "\n",
    "# Convert the new variable to a factor\n",
    "milk_data$regular_season <- as.factor(milk_data$regular_season)\n",
    "milk_data$zip_regular_season <- interaction(milk_data$zip, milk_data$regular_season)\n",
    "\n",
    "# Create the interaction term between farmId and month_range\n",
    "milk_data$farmId_regular_season_interaction <- interaction(milk_data$farmId, milk_data$regular_season)\n",
    "\n",
    "milk_data$farm_season <- with(milk_data, \n",
    "    ifelse(month %in% c(\"4\", \"5\", \"6\", \"7\", \"8\", \"9\"), \"grazing\", \"nongrazing\"))\n",
    "\n",
    "# Convert the new variable to a factor\n",
    "milk_data$farm_season <- as.factor(milk_data$farm_season)\n",
    "\n",
    "# Create the interaction term between farmId and farm_seasons\n",
    "milk_data$farmId_farm_season_interaction <- interaction(milk_data$farmId, milk_data$farm_season)"
   ]
  },
  {
   "cell_type": "code",
   "execution_count": 7,
   "id": "5ecab535-5df5-47b5-856c-573654546b87",
   "metadata": {
    "execution": {
     "iopub.execute_input": "2024-06-24T00:18:48.351856Z",
     "iopub.status.busy": "2024-06-24T00:18:48.351202Z",
     "iopub.status.idle": "2024-06-24T00:21:16.750120Z",
     "shell.execute_reply": "2024-06-24T00:21:16.749001Z"
    },
    "vscode": {
     "languageId": "r"
    }
   },
   "outputs": [],
   "source": [
    "milk_data <- subset(milk_data, year %in% period)\n",
    "milk_data <- subset(milk_data, month %in% month)"
   ]
  },
  {
   "cell_type": "code",
   "execution_count": 8,
   "id": "fc60f9bb-6baf-4f18-a49d-ead3621b76b3",
   "metadata": {
    "execution": {
     "iopub.execute_input": "2024-06-24T00:21:16.759956Z",
     "iopub.status.busy": "2024-06-24T00:21:16.759282Z",
     "iopub.status.idle": "2024-06-24T00:21:16.765015Z",
     "shell.execute_reply": "2024-06-24T00:21:16.764291Z"
    },
    "vscode": {
     "languageId": "r"
    }
   },
   "outputs": [],
   "source": [
    "if (subsample) { \n",
    "    milk_data <- milk_data %>%\n",
    "      group_by(year, animalBreedCode) %>%\n",
    "      sample_frac(sample_size/nrow(milk_data)) %>% drop_na(get(weather_var))\n",
    "}"
   ]
  },
  {
   "cell_type": "code",
   "execution_count": 9,
   "id": "8ffad707-bd97-4406-8eda-3c8651d309a6",
   "metadata": {
    "execution": {
     "iopub.execute_input": "2024-06-24T00:21:16.767505Z",
     "iopub.status.busy": "2024-06-24T00:21:16.766908Z",
     "iopub.status.idle": "2024-06-24T00:21:35.163152Z",
     "shell.execute_reply": "2024-06-24T00:21:35.162145Z"
    },
    "vscode": {
     "languageId": "r"
    }
   },
   "outputs": [],
   "source": [
    "milk_data <- droplevels(milk_data)"
   ]
  },
  {
   "cell_type": "markdown",
   "id": "192c00df-6c2c-4225-86b0-0d9e21b23e5e",
   "metadata": {},
   "source": [
    "split data for each breed"
   ]
  },
  {
   "cell_type": "code",
   "execution_count": 10,
   "id": "fe9074d1-a992-4f7b-a838-3dfd9a900b61",
   "metadata": {
    "execution": {
     "iopub.execute_input": "2024-06-24T00:21:35.166078Z",
     "iopub.status.busy": "2024-06-24T00:21:35.165422Z",
     "iopub.status.idle": "2024-06-24T00:22:46.549487Z",
     "shell.execute_reply": "2024-06-24T00:22:46.548424Z"
    },
    "vscode": {
     "languageId": "r"
    }
   },
   "outputs": [],
   "source": [
    "je <- droplevels(subset(milk_data, animalBreedCode %in% c(\"JE\")) %>% drop_na(!!weather_var))\n",
    "bs <- droplevels(subset(milk_data, animalBreedCode %in% c(\"BS\")) %>% drop_na(!!weather_var))\n",
    "ho <- droplevels(subset(milk_data, animalBreedCode %in% c(\"HO\")) %>% drop_na(!!weather_var))\n",
    "ob <- droplevels(subset(milk_data, animalBreedCode %in% c(\"OB\")) %>% drop_na(!!weather_var))\n",
    "si <- droplevels(subset(milk_data, animalBreedCode %in% c(\"SI\")) %>% drop_na(!!weather_var))\n",
    "sf <- droplevels(subset(milk_data, animalBreedCode %in% c(\"SF\")) %>% drop_na(!!weather_var))"
   ]
  },
  {
   "cell_type": "code",
   "execution_count": 11,
   "id": "4830279e-353b-4192-8a05-6044e496a81c",
   "metadata": {
    "execution": {
     "iopub.execute_input": "2024-06-24T00:22:46.555301Z",
     "iopub.status.busy": "2024-06-24T00:22:46.554638Z",
     "iopub.status.idle": "2024-06-24T00:22:47.639214Z",
     "shell.execute_reply": "2024-06-24T00:22:47.638485Z"
    },
    "vscode": {
     "languageId": "r"
    }
   },
   "outputs": [
    {
     "data": {
      "image/png": "[encoded data removed]",
      "text/plain": [
       "Plot with title “Histogram of eval(parse(text = paste0(\"milk_data$\", dependent_var)))”"
      ]
     },
     "metadata": {
      "image/png": {
       "height": 420,
       "width": 420
      }
     },
     "output_type": "display_data"
    }
   ],
   "source": [
    "hist(eval(parse(text = paste0(\"milk_data$\", dependent_var))))"
   ]
  },
  {
   "cell_type": "code",
   "execution_count": 12,
   "id": "5e24fc1e-bc84-4dca-b24e-282f72e48d6a",
   "metadata": {
    "execution": {
     "iopub.execute_input": "2024-06-24T00:22:47.641787Z",
     "iopub.status.busy": "2024-06-24T00:22:47.641201Z",
     "iopub.status.idle": "2024-06-24T00:22:47.646416Z",
     "shell.execute_reply": "2024-06-24T00:22:47.645696Z"
    },
    "vscode": {
     "languageId": "r"
    }
   },
   "outputs": [],
   "source": [
    "rm(milk_data)"
   ]
  },
  {
   "cell_type": "markdown",
   "id": "9a179b0d-ff2e-46f6-a2c3-ec09cca99637",
   "metadata": {},
   "source": [
    "# Piecewise Linear THI - Reduced Form Piecewise Linear Fixed Effect Model"
   ]
  },
  {
   "cell_type": "code",
   "execution_count": 13,
   "id": "aa1be5ae-eedb-4a3b-a7ef-23eaf6ada228",
   "metadata": {
    "execution": {
     "iopub.execute_input": "2024-06-24T00:22:47.648847Z",
     "iopub.status.busy": "2024-06-24T00:22:47.648265Z",
     "iopub.status.idle": "2024-06-24T00:22:47.654637Z",
     "shell.execute_reply": "2024-06-24T00:22:47.653934Z"
    },
    "vscode": {
     "languageId": "r"
    }
   },
   "outputs": [],
   "source": [
    "pl_clu <- c(\"year\", \"farmId\")\n",
    "\n",
    "run_models_with_knots <- function(data, knot_sequence, dep_var_name, weather_var) {\n",
    "  best_rss <- Inf\n",
    "  best_knot_comb <- NULL\n",
    "  \n",
    "  # Loop over each knot value\n",
    "  for (i in 1:length(knot_sequence)) {\n",
    "    knots <- paste(knot_sequence[[i]], collapse = \",\")\n",
    "    f <- paste0(dep_var_name, \"~\", \"lspline(\", weather_var, \", knots=c(\", knots, \")) + days_in_milk + lactationNumber + precip_mean_t0_3d + precip_mean_t0_3d^2 + year | farmId\")\n",
    "    pl_form <- as.formula(f)\n",
    "    model <- feols(pl_form, data = data, cluster = pl_clu)\n",
    "    \n",
    "    # Calculate RSS for the current model\n",
    "    current_rss <- sum(residuals(model)^2)\n",
    "    \n",
    "    # Check if this model has the lowest RSS so far\n",
    "    if (current_rss < best_rss) {\n",
    "      best_rss <- current_rss\n",
    "      best_knot_comb <- knot_sequence[[i]]\n",
    "    }\n",
    "  }\n",
    "  \n",
    "  # Recompute the best model for storage reasons\n",
    "  knots <- paste(best_knot_comb, collapse = \",\")\n",
    "  f <- paste0(dep_var_name, \"~\", \"lspline(\", weather_var, \", knots=c(\", knots, \")) + days_in_milk + lactationNumber + precip_mean_t0_3d + precip_mean_t0_3d^2 + year | farmId\")\n",
    "  pl_form <- as.formula(f)\n",
    "  best_model <- feols(pl_form, data = data, cluster = pl_clu, lean = T)\n",
    "  gc()\n",
    "  \n",
    "  # Return a list containing the best knot combination, the best model, and its RSS\n",
    "  return(list(best_knot = best_knot_comb, best_model_rss = best_rss, best_model = best_model))\n",
    "}\n",
    "\n"
   ]
  },
  {
   "cell_type": "code",
   "execution_count": 14,
   "id": "5884625c-1e99-4f1d-9db4-3c3e8c0546cd",
   "metadata": {
    "execution": {
     "iopub.execute_input": "2024-06-24T00:22:47.656974Z",
     "iopub.status.busy": "2024-06-24T00:22:47.656378Z",
     "iopub.status.idle": "2024-06-24T00:22:47.664555Z",
     "shell.execute_reply": "2024-06-24T00:22:47.663850Z"
    },
    "vscode": {
     "languageId": "r"
    }
   },
   "outputs": [],
   "source": [
    "knot_combs <- list()\n",
    "for (i in start_knot:stop_knot) {\n",
    "    j <- i - start_knot + 1\n",
    "  knot_combs[[j]] <- c(i)\n",
    "}"
   ]
  },
  {
   "cell_type": "code",
   "execution_count": 15,
   "id": "1f294215-79ef-48ef-bd26-18f0605cce6f",
   "metadata": {
    "execution": {
     "iopub.execute_input": "2024-06-24T00:22:47.666904Z",
     "iopub.status.busy": "2024-06-24T00:22:47.666319Z",
     "iopub.status.idle": "2024-06-24T00:22:47.670587Z",
     "shell.execute_reply": "2024-06-24T00:22:47.669886Z"
    },
    "vscode": {
     "languageId": "r"
    }
   },
   "outputs": [],
   "source": [
    "#knot_combs[[length(knot_combs)+1]] <- seq(from = 0, to = 80, by = 5)"
   ]
  },
  {
   "cell_type": "markdown",
   "id": "47ec63b4-0431-403d-88ac-09624fb10357",
   "metadata": {},
   "source": [
    "## Jersey"
   ]
  },
  {
   "cell_type": "code",
   "execution_count": 16,
   "id": "8ee84d1e-685d-45e9-b08d-042338e9cf0f",
   "metadata": {
    "execution": {
     "iopub.execute_input": "2024-06-24T00:22:47.672995Z",
     "iopub.status.busy": "2024-06-24T00:22:47.672403Z",
     "iopub.status.idle": "2024-06-24T00:22:53.304505Z",
     "shell.execute_reply": "2024-06-24T00:22:53.303712Z"
    },
    "vscode": {
     "languageId": "r"
    }
   },
   "outputs": [
    {
     "name": "stderr",
     "output_type": "stream",
     "text": [
      "Variance contained negative values in the diagonal and was 'fixed' (a la Cameron, Gelbach & Miller 2011).\n",
      "\n"
     ]
    },
    {
     "name": "stderr",
     "output_type": "stream",
     "text": [
      "Variance contained negative values in the diagonal and was 'fixed' (a la Cameron, Gelbach & Miller 2011).\n",
      "\n"
     ]
    },
    {
     "name": "stderr",
     "output_type": "stream",
     "text": [
      "Variance contained negative values in the diagonal and was 'fixed' (a la Cameron, Gelbach & Miller 2011).\n",
      "\n"
     ]
    },
    {
     "name": "stderr",
     "output_type": "stream",
     "text": [
      "Variance contained negative values in the diagonal and was 'fixed' (a la Cameron, Gelbach & Miller 2011).\n",
      "\n"
     ]
    },
    {
     "name": "stderr",
     "output_type": "stream",
     "text": [
      "Variance contained negative values in the diagonal and was 'fixed' (a la Cameron, Gelbach & Miller 2011).\n",
      "\n"
     ]
    },
    {
     "name": "stderr",
     "output_type": "stream",
     "text": [
      "Variance contained negative values in the diagonal and was 'fixed' (a la Cameron, Gelbach & Miller 2011).\n",
      "\n"
     ]
    },
    {
     "name": "stderr",
     "output_type": "stream",
     "text": [
      "Variance contained negative values in the diagonal and was 'fixed' (a la Cameron, Gelbach & Miller 2011).\n",
      "\n"
     ]
    },
    {
     "name": "stderr",
     "output_type": "stream",
     "text": [
      "Variance contained negative values in the diagonal and was 'fixed' (a la Cameron, Gelbach & Miller 2011).\n",
      "\n"
     ]
    },
    {
     "name": "stderr",
     "output_type": "stream",
     "text": [
      "Variance contained negative values in the diagonal and was 'fixed' (a la Cameron, Gelbach & Miller 2011).\n",
      "\n"
     ]
    },
    {
     "name": "stderr",
     "output_type": "stream",
     "text": [
      "Variance contained negative values in the diagonal and was 'fixed' (a la Cameron, Gelbach & Miller 2011).\n",
      "\n"
     ]
    },
    {
     "name": "stderr",
     "output_type": "stream",
     "text": [
      "Variance contained negative values in the diagonal and was 'fixed' (a la Cameron, Gelbach & Miller 2011).\n",
      "\n"
     ]
    },
    {
     "name": "stderr",
     "output_type": "stream",
     "text": [
      "Variance contained negative values in the diagonal and was 'fixed' (a la Cameron, Gelbach & Miller 2011).\n",
      "\n"
     ]
    },
    {
     "name": "stderr",
     "output_type": "stream",
     "text": [
      "Variance contained negative values in the diagonal and was 'fixed' (a la Cameron, Gelbach & Miller 2011).\n",
      "\n"
     ]
    },
    {
     "name": "stderr",
     "output_type": "stream",
     "text": [
      "Variance contained negative values in the diagonal and was 'fixed' (a la Cameron, Gelbach & Miller 2011).\n",
      "\n"
     ]
    },
    {
     "name": "stderr",
     "output_type": "stream",
     "text": [
      "Variance contained negative values in the diagonal and was 'fixed' (a la Cameron, Gelbach & Miller 2011).\n",
      "\n"
     ]
    },
    {
     "name": "stderr",
     "output_type": "stream",
     "text": [
      "Variance contained negative values in the diagonal and was 'fixed' (a la Cameron, Gelbach & Miller 2011).\n",
      "\n"
     ]
    },
    {
     "name": "stderr",
     "output_type": "stream",
     "text": [
      "Variance contained negative values in the diagonal and was 'fixed' (a la Cameron, Gelbach & Miller 2011).\n",
      "\n"
     ]
    },
    {
     "name": "stderr",
     "output_type": "stream",
     "text": [
      "Variance contained negative values in the diagonal and was 'fixed' (a la Cameron, Gelbach & Miller 2011).\n",
      "\n"
     ]
    },
    {
     "name": "stderr",
     "output_type": "stream",
     "text": [
      "Variance contained negative values in the diagonal and was 'fixed' (a la Cameron, Gelbach & Miller 2011).\n",
      "\n"
     ]
    },
    {
     "name": "stderr",
     "output_type": "stream",
     "text": [
      "Variance contained negative values in the diagonal and was 'fixed' (a la Cameron, Gelbach & Miller 2011).\n",
      "\n"
     ]
    },
    {
     "name": "stderr",
     "output_type": "stream",
     "text": [
      "Variance contained negative values in the diagonal and was 'fixed' (a la Cameron, Gelbach & Miller 2011).\n",
      "\n"
     ]
    },
    {
     "name": "stderr",
     "output_type": "stream",
     "text": [
      "Variance contained negative values in the diagonal and was 'fixed' (a la Cameron, Gelbach & Miller 2011).\n",
      "\n"
     ]
    },
    {
     "name": "stderr",
     "output_type": "stream",
     "text": [
      "Variance contained negative values in the diagonal and was 'fixed' (a la Cameron, Gelbach & Miller 2011).\n",
      "\n"
     ]
    },
    {
     "name": "stderr",
     "output_type": "stream",
     "text": [
      "Variance contained negative values in the diagonal and was 'fixed' (a la Cameron, Gelbach & Miller 2011).\n",
      "\n"
     ]
    },
    {
     "name": "stderr",
     "output_type": "stream",
     "text": [
      "Variance contained negative values in the diagonal and was 'fixed' (a la Cameron, Gelbach & Miller 2011).\n",
      "\n"
     ]
    },
    {
     "name": "stderr",
     "output_type": "stream",
     "text": [
      "Variance contained negative values in the diagonal and was 'fixed' (a la Cameron, Gelbach & Miller 2011).\n",
      "\n"
     ]
    },
    {
     "name": "stderr",
     "output_type": "stream",
     "text": [
      "Variance contained negative values in the diagonal and was 'fixed' (a la Cameron, Gelbach & Miller 2011).\n",
      "\n"
     ]
    },
    {
     "name": "stdout",
     "output_type": "stream",
     "text": [
      "5.625 sec elapsed\n"
     ]
    }
   ],
   "source": [
    "tic()\n",
    "je_model = run_models_with_knots(droplevels(je), knot_combs, dependent_var, weather_var)\n",
    "toc()"
   ]
  },
  {
   "cell_type": "code",
   "execution_count": 17,
   "id": "5e946937-f240-4dc8-9bc5-46cda5610a3f",
   "metadata": {
    "execution": {
     "iopub.execute_input": "2024-06-24T00:22:53.307073Z",
     "iopub.status.busy": "2024-06-24T00:22:53.306478Z",
     "iopub.status.idle": "2024-06-24T00:22:53.313803Z",
     "shell.execute_reply": "2024-06-24T00:22:53.313089Z"
    },
    "vscode": {
     "languageId": "r"
    }
   },
   "outputs": [
    {
     "data": {
      "text/html": [
       "'17_reduced_form_model_thi_mean_t0_3d_fixed_effect_1980-2008_2024_06_24_02_16_32_fat_jersey_model.Rdata'"
      ],
      "text/latex": [
       "'17\\_reduced\\_form\\_model\\_thi\\_mean\\_t0\\_3d\\_fixed\\_effect\\_1980-2008\\_2024\\_06\\_24\\_02\\_16\\_32\\_fat\\_jersey\\_model.Rdata'"
      ],
      "text/markdown": [
       "'17_reduced_form_model_thi_mean_t0_3d_fixed_effect_1980-2008_2024_06_24_02_16_32_fat_jersey_model.Rdata'"
      ],
      "text/plain": [
       "[1] \"17_reduced_form_model_thi_mean_t0_3d_fixed_effect_1980-2008_2024_06_24_02_16_32_fat_jersey_model.Rdata\""
      ]
     },
     "metadata": {},
     "output_type": "display_data"
    }
   ],
   "source": [
    "jersey_model_name <- paste0(concatenated_string, \"_jersey_model.Rdata\")\n",
    "jersey_model_name"
   ]
  },
  {
   "cell_type": "code",
   "execution_count": 18,
   "id": "a7c51863-3cc7-435f-86b6-f24efcb20990",
   "metadata": {
    "execution": {
     "iopub.execute_input": "2024-06-24T00:22:53.316100Z",
     "iopub.status.busy": "2024-06-24T00:22:53.315508Z",
     "iopub.status.idle": "2024-06-24T00:22:53.320584Z",
     "shell.execute_reply": "2024-06-24T00:22:53.319846Z"
    },
    "vscode": {
     "languageId": "r"
    }
   },
   "outputs": [],
   "source": [
    "if (save) {\n",
    "    tic()\n",
    "    saveRDS(je_model, file = jersey_model_name, compress=T)\n",
    "    toc()\n",
    "}"
   ]
  },
  {
   "cell_type": "code",
   "execution_count": 19,
   "id": "a140a1ef-a621-42af-9601-dfe8d17d25b1",
   "metadata": {
    "execution": {
     "iopub.execute_input": "2024-06-24T00:22:53.322871Z",
     "iopub.status.busy": "2024-06-24T00:22:53.322268Z",
     "iopub.status.idle": "2024-06-24T00:22:53.328555Z",
     "shell.execute_reply": "2024-06-24T00:22:53.327844Z"
    },
    "vscode": {
     "languageId": "r"
    }
   },
   "outputs": [
    {
     "data": {
      "text/html": [
       "38"
      ],
      "text/latex": [
       "38"
      ],
      "text/markdown": [
       "38"
      ],
      "text/plain": [
       "[1] 38"
      ]
     },
     "metadata": {},
     "output_type": "display_data"
    }
   ],
   "source": [
    "je_model$best_knot"
   ]
  },
  {
   "cell_type": "code",
   "execution_count": 20,
   "id": "642aaec2-e27c-478e-9a92-2b78c01c64b6",
   "metadata": {
    "execution": {
     "iopub.execute_input": "2024-06-24T00:22:53.330811Z",
     "iopub.status.busy": "2024-06-24T00:22:53.330226Z",
     "iopub.status.idle": "2024-06-24T00:22:53.346952Z",
     "shell.execute_reply": "2024-06-24T00:22:53.346197Z"
    },
    "vscode": {
     "languageId": "r"
    }
   },
   "outputs": [
    {
     "data": {
      "text/plain": [
       "OLS estimation, Dep. Var.: fat\n",
       "Observations: 126,648\n",
       "Fixed-effects: farmId: 1,901\n",
       "Standard-errors: Clustered (year & farmId) \n",
       "                                         Estimate Std. Error    t value   Pr(>|t|)    \n",
       "lspline(thi_mean_t0_3d, knots = c(38))1 -0.006841   0.000962  -7.111659 5.5952e-05 ***\n",
       "lspline(thi_mean_t0_3d, knots = c(38))2 -0.020513   0.000721 -28.468461 3.9625e-10 ***\n",
       "days_in_milk                             0.003560   0.000132  27.004621 6.3406e-10 ***\n",
       "lactationNumber                          0.053013   0.008453   6.271582 1.4583e-04 ***\n",
       "precip_mean_t0_3d                       -0.000246   0.001135  -0.216895 8.3313e-01    \n",
       "I(precip_mean_t0_3d^2)                  -0.000040   0.000051  -0.790650 4.4948e-01    \n",
       "year2000                                -0.226959   0.007664 -29.613458 2.7882e-10 ***\n",
       "year2001                                -0.178389   0.020059  -8.893229 9.4127e-06 ***\n",
       "year2002                                -0.230067   0.033461  -6.875749 7.2610e-05 ***\n",
       "year2003                                -0.359032   0.035218 -10.194596 3.0472e-06 ***\n",
       "year2004                                -0.410828   0.037349 -10.999600 1.6104e-06 ***\n",
       "year2005                                -0.385968   0.036517 -10.569683 2.2521e-06 ***\n",
       "year2006                                -0.486069   0.037531 -12.951238 4.0103e-07 ***\n",
       "year2007                                -0.497826   0.039453 -12.618372 5.0132e-07 ***\n",
       "year2008                                -0.463176   0.040391 -11.467323 1.1325e-06 ***\n",
       "---\n",
       "Signif. codes:  0 '***' 0.001 '**' 0.01 '*' 0.05 '.' 0.1 ' ' 1\n",
       "RMSE: 0.699694     Adj. R2: 0.378716\n",
       "                 Within R2: 0.242909"
      ]
     },
     "metadata": {},
     "output_type": "display_data"
    }
   ],
   "source": [
    "summary(je_model$best_model)"
   ]
  },
  {
   "cell_type": "code",
   "execution_count": 21,
   "id": "4e3198ba-3ceb-421d-aee8-d44688ecf2ab",
   "metadata": {
    "execution": {
     "iopub.execute_input": "2024-06-24T00:22:53.349287Z",
     "iopub.status.busy": "2024-06-24T00:22:53.348690Z",
     "iopub.status.idle": "2024-06-24T00:22:53.541024Z",
     "shell.execute_reply": "2024-06-24T00:22:53.540166Z"
    },
    "vscode": {
     "languageId": "r"
    }
   },
   "outputs": [
    {
     "name": "stderr",
     "output_type": "stream",
     "text": [
      "Warning message:\n",
      "“\u001b[1m\u001b[22mRemoved 37 rows containing missing values or values outside the scale range (`geom_line()`).”\n"
     ]
    },
    {
     "data": {
      "image/png": "[encoded data removed]",
      "text/plain": [
       "plot without title"
      ]
     },
     "metadata": {
      "image/png": {
       "height": 420,
       "width": 420
      }
     },
     "output_type": "display_data"
    }
   ],
   "source": [
    "je_p <- create_effect_plot(je, je_model$best_model, je_model$best_knot, dependent_var, weather_var, \"JE\")\n",
    "je_p$plot"
   ]
  },
  {
   "cell_type": "markdown",
   "id": "6df89c39-7af4-40e8-a377-167eaf503847",
   "metadata": {},
   "source": [
    "## Holstein"
   ]
  },
  {
   "cell_type": "code",
   "execution_count": 22,
   "id": "4cac70a6-3972-427c-9699-9f20a2f3a6c1",
   "metadata": {
    "execution": {
     "iopub.execute_input": "2024-06-24T00:22:53.543629Z",
     "iopub.status.busy": "2024-06-24T00:22:53.542989Z",
     "iopub.status.idle": "2024-06-24T00:26:28.494872Z",
     "shell.execute_reply": "2024-06-24T00:26:28.493929Z"
    },
    "vscode": {
     "languageId": "r"
    }
   },
   "outputs": [
    {
     "name": "stderr",
     "output_type": "stream",
     "text": [
      "Variance contained negative values in the diagonal and was 'fixed' (a la Cameron, Gelbach & Miller 2011).\n",
      "\n"
     ]
    },
    {
     "name": "stderr",
     "output_type": "stream",
     "text": [
      "Variance contained negative values in the diagonal and was 'fixed' (a la Cameron, Gelbach & Miller 2011).\n",
      "\n"
     ]
    },
    {
     "name": "stderr",
     "output_type": "stream",
     "text": [
      "Variance contained negative values in the diagonal and was 'fixed' (a la Cameron, Gelbach & Miller 2011).\n",
      "\n"
     ]
    },
    {
     "name": "stderr",
     "output_type": "stream",
     "text": [
      "Variance contained negative values in the diagonal and was 'fixed' (a la Cameron, Gelbach & Miller 2011).\n",
      "\n"
     ]
    },
    {
     "name": "stderr",
     "output_type": "stream",
     "text": [
      "Variance contained negative values in the diagonal and was 'fixed' (a la Cameron, Gelbach & Miller 2011).\n",
      "\n"
     ]
    },
    {
     "name": "stderr",
     "output_type": "stream",
     "text": [
      "Variance contained negative values in the diagonal and was 'fixed' (a la Cameron, Gelbach & Miller 2011).\n",
      "\n"
     ]
    },
    {
     "name": "stderr",
     "output_type": "stream",
     "text": [
      "Variance contained negative values in the diagonal and was 'fixed' (a la Cameron, Gelbach & Miller 2011).\n",
      "\n"
     ]
    },
    {
     "name": "stderr",
     "output_type": "stream",
     "text": [
      "Variance contained negative values in the diagonal and was 'fixed' (a la Cameron, Gelbach & Miller 2011).\n",
      "\n"
     ]
    },
    {
     "name": "stderr",
     "output_type": "stream",
     "text": [
      "Variance contained negative values in the diagonal and was 'fixed' (a la Cameron, Gelbach & Miller 2011).\n",
      "\n"
     ]
    },
    {
     "name": "stderr",
     "output_type": "stream",
     "text": [
      "Variance contained negative values in the diagonal and was 'fixed' (a la Cameron, Gelbach & Miller 2011).\n",
      "\n"
     ]
    },
    {
     "name": "stderr",
     "output_type": "stream",
     "text": [
      "Variance contained negative values in the diagonal and was 'fixed' (a la Cameron, Gelbach & Miller 2011).\n",
      "\n"
     ]
    },
    {
     "name": "stderr",
     "output_type": "stream",
     "text": [
      "Variance contained negative values in the diagonal and was 'fixed' (a la Cameron, Gelbach & Miller 2011).\n",
      "\n"
     ]
    },
    {
     "name": "stderr",
     "output_type": "stream",
     "text": [
      "Variance contained negative values in the diagonal and was 'fixed' (a la Cameron, Gelbach & Miller 2011).\n",
      "\n"
     ]
    },
    {
     "name": "stderr",
     "output_type": "stream",
     "text": [
      "Variance contained negative values in the diagonal and was 'fixed' (a la Cameron, Gelbach & Miller 2011).\n",
      "\n"
     ]
    },
    {
     "name": "stderr",
     "output_type": "stream",
     "text": [
      "Variance contained negative values in the diagonal and was 'fixed' (a la Cameron, Gelbach & Miller 2011).\n",
      "\n"
     ]
    },
    {
     "name": "stderr",
     "output_type": "stream",
     "text": [
      "Variance contained negative values in the diagonal and was 'fixed' (a la Cameron, Gelbach & Miller 2011).\n",
      "\n"
     ]
    },
    {
     "name": "stderr",
     "output_type": "stream",
     "text": [
      "Variance contained negative values in the diagonal and was 'fixed' (a la Cameron, Gelbach & Miller 2011).\n",
      "\n"
     ]
    },
    {
     "name": "stderr",
     "output_type": "stream",
     "text": [
      "Variance contained negative values in the diagonal and was 'fixed' (a la Cameron, Gelbach & Miller 2011).\n",
      "\n"
     ]
    },
    {
     "name": "stderr",
     "output_type": "stream",
     "text": [
      "Variance contained negative values in the diagonal and was 'fixed' (a la Cameron, Gelbach & Miller 2011).\n",
      "\n"
     ]
    },
    {
     "name": "stderr",
     "output_type": "stream",
     "text": [
      "Variance contained negative values in the diagonal and was 'fixed' (a la Cameron, Gelbach & Miller 2011).\n",
      "\n"
     ]
    },
    {
     "name": "stderr",
     "output_type": "stream",
     "text": [
      "Variance contained negative values in the diagonal and was 'fixed' (a la Cameron, Gelbach & Miller 2011).\n",
      "\n"
     ]
    },
    {
     "name": "stderr",
     "output_type": "stream",
     "text": [
      "Variance contained negative values in the diagonal and was 'fixed' (a la Cameron, Gelbach & Miller 2011).\n",
      "\n"
     ]
    },
    {
     "name": "stderr",
     "output_type": "stream",
     "text": [
      "Variance contained negative values in the diagonal and was 'fixed' (a la Cameron, Gelbach & Miller 2011).\n",
      "\n"
     ]
    },
    {
     "name": "stderr",
     "output_type": "stream",
     "text": [
      "Variance contained negative values in the diagonal and was 'fixed' (a la Cameron, Gelbach & Miller 2011).\n",
      "\n"
     ]
    },
    {
     "name": "stderr",
     "output_type": "stream",
     "text": [
      "Variance contained negative values in the diagonal and was 'fixed' (a la Cameron, Gelbach & Miller 2011).\n",
      "\n"
     ]
    },
    {
     "name": "stderr",
     "output_type": "stream",
     "text": [
      "Variance contained negative values in the diagonal and was 'fixed' (a la Cameron, Gelbach & Miller 2011).\n",
      "\n"
     ]
    },
    {
     "name": "stderr",
     "output_type": "stream",
     "text": [
      "Variance contained negative values in the diagonal and was 'fixed' (a la Cameron, Gelbach & Miller 2011).\n",
      "\n"
     ]
    },
    {
     "name": "stdout",
     "output_type": "stream",
     "text": [
      "214.944 sec elapsed\n"
     ]
    }
   ],
   "source": [
    "tic()\n",
    "ho_model = run_models_with_knots(ho, knot_combs, dependent_var, weather_var)\n",
    "toc()"
   ]
  },
  {
   "cell_type": "code",
   "execution_count": 23,
   "id": "6ba6c8c6-6dcc-4e07-8a02-3901be7e0072",
   "metadata": {
    "execution": {
     "iopub.execute_input": "2024-06-24T00:26:28.507661Z",
     "iopub.status.busy": "2024-06-24T00:26:28.507003Z",
     "iopub.status.idle": "2024-06-24T00:26:28.515310Z",
     "shell.execute_reply": "2024-06-24T00:26:28.514513Z"
    },
    "vscode": {
     "languageId": "r"
    }
   },
   "outputs": [
    {
     "data": {
      "text/html": [
       "'17_reduced_form_model_thi_mean_t0_3d_fixed_effect_1980-2008_2024_06_24_02_16_32_fat_ho_model.Rdata'"
      ],
      "text/latex": [
       "'17\\_reduced\\_form\\_model\\_thi\\_mean\\_t0\\_3d\\_fixed\\_effect\\_1980-2008\\_2024\\_06\\_24\\_02\\_16\\_32\\_fat\\_ho\\_model.Rdata'"
      ],
      "text/markdown": [
       "'17_reduced_form_model_thi_mean_t0_3d_fixed_effect_1980-2008_2024_06_24_02_16_32_fat_ho_model.Rdata'"
      ],
      "text/plain": [
       "[1] \"17_reduced_form_model_thi_mean_t0_3d_fixed_effect_1980-2008_2024_06_24_02_16_32_fat_ho_model.Rdata\""
      ]
     },
     "metadata": {},
     "output_type": "display_data"
    }
   ],
   "source": [
    "ho_model_name <- paste0(concatenated_string, \"_ho_model.Rdata\")\n",
    "ho_model_name"
   ]
  },
  {
   "cell_type": "code",
   "execution_count": 24,
   "id": "90c30b0a-3af4-484c-96f7-6ae1bc5ebd3d",
   "metadata": {
    "execution": {
     "iopub.execute_input": "2024-06-24T00:26:28.517684Z",
     "iopub.status.busy": "2024-06-24T00:26:28.517075Z",
     "iopub.status.idle": "2024-06-24T00:26:28.522752Z",
     "shell.execute_reply": "2024-06-24T00:26:28.521972Z"
    },
    "vscode": {
     "languageId": "r"
    }
   },
   "outputs": [],
   "source": [
    "if (save) {\n",
    "    tic()\n",
    "    saveRDS(ho_model, file = ho_model_name, compress=TRUE)\n",
    "    toc()\n",
    "}"
   ]
  },
  {
   "cell_type": "code",
   "execution_count": 25,
   "id": "ad6da065-18a3-4d80-a4c4-3ba98e3d3e32",
   "metadata": {
    "execution": {
     "iopub.execute_input": "2024-06-24T00:26:28.525035Z",
     "iopub.status.busy": "2024-06-24T00:26:28.524426Z",
     "iopub.status.idle": "2024-06-24T00:26:28.531116Z",
     "shell.execute_reply": "2024-06-24T00:26:28.530357Z"
    },
    "vscode": {
     "languageId": "r"
    }
   },
   "outputs": [
    {
     "data": {
      "text/html": [
       "35"
      ],
      "text/latex": [
       "35"
      ],
      "text/markdown": [
       "35"
      ],
      "text/plain": [
       "[1] 35"
      ]
     },
     "metadata": {},
     "output_type": "display_data"
    }
   ],
   "source": [
    "ho_model$best_knot"
   ]
  },
  {
   "cell_type": "code",
   "execution_count": 26,
   "id": "33b735f2-6430-4abb-9e3a-35e5bfa2aef6",
   "metadata": {
    "execution": {
     "iopub.execute_input": "2024-06-24T00:26:28.533357Z",
     "iopub.status.busy": "2024-06-24T00:26:28.532760Z",
     "iopub.status.idle": "2024-06-24T00:26:28.545848Z",
     "shell.execute_reply": "2024-06-24T00:26:28.545089Z"
    },
    "vscode": {
     "languageId": "r"
    }
   },
   "outputs": [
    {
     "data": {
      "text/plain": [
       "OLS estimation, Dep. Var.: fat\n",
       "Observations: 8,735,023\n",
       "Fixed-effects: farmId: 20,152\n",
       "Standard-errors: Clustered (year & farmId) \n",
       "                                            Estimate Std. Error    t value   Pr(>|t|)    \n",
       "lspline(thi_mean_t0_3d, knots = c(35))1 -0.004543193   0.000516  -8.801859 4.4286e-07 ***\n",
       "lspline(thi_mean_t0_3d, knots = c(35))2 -0.011674058   0.000439 -26.593806 2.1939e-13 ***\n",
       "days_in_milk                             0.001682399   0.000027  62.951096  < 2.2e-16 ***\n",
       "lactationNumber                          0.003340690   0.002665   1.253754 2.3046e-01    \n",
       "precip_mean_t0_3d                        0.000976917   0.000536   1.821357 8.9986e-02 .  \n",
       "I(precip_mean_t0_3d^2)                   0.000000788   0.000019   0.041713 9.6732e-01    \n",
       "year1995                                 0.001341907   0.001327   1.011530 3.2893e-01    \n",
       "year1996                                 0.036365627   0.000763  47.667271  < 2.2e-16 ***\n",
       "year1997                                 0.065476327   0.000538 121.604819  < 2.2e-16 ***\n",
       "year1998                                 0.025471557   0.001197  21.271656 4.6553e-12 ***\n",
       "year1999                                -0.038091346   0.001733 -21.985237 2.9703e-12 ***\n",
       "year2000                                -0.116171501   0.001945 -59.735858  < 2.2e-16 ***\n",
       "year2001                                -0.119527968   0.002175 -54.960116  < 2.2e-16 ***\n",
       "year2002                                -0.169842646   0.002200 -77.203473  < 2.2e-16 ***\n",
       "year2003                                -0.183750280   0.002224 -82.639158  < 2.2e-16 ***\n",
       "year2004                                -0.168693189   0.002339 -72.107303  < 2.2e-16 ***\n",
       "year2005                                -0.121776819   0.002441 -49.878460  < 2.2e-16 ***\n",
       "year2006                                -0.118105148   0.002493 -47.373661  < 2.2e-16 ***\n",
       "year2007                                -0.123870235   0.002592 -47.786523  < 2.2e-16 ***\n",
       "year2008                                -0.076835230   0.002726 -28.182243 9.8756e-14 ***\n",
       "---\n",
       "Signif. codes:  0 '***' 0.001 '**' 0.01 '*' 0.05 '.' 0.1 ' ' 1\n",
       "RMSE: 0.549962     Adj. R2: 0.166151\n",
       "                 Within R2: 0.113712"
      ]
     },
     "metadata": {},
     "output_type": "display_data"
    }
   ],
   "source": [
    "summary(ho_model$best_model)"
   ]
  },
  {
   "cell_type": "code",
   "execution_count": 27,
   "id": "63f32034-f5f5-4812-ada3-dcebe08cb653",
   "metadata": {
    "execution": {
     "iopub.execute_input": "2024-06-24T00:26:28.548114Z",
     "iopub.status.busy": "2024-06-24T00:26:28.547523Z",
     "iopub.status.idle": "2024-06-24T00:26:28.730769Z",
     "shell.execute_reply": "2024-06-24T00:26:28.730025Z"
    },
    "vscode": {
     "languageId": "r"
    }
   },
   "outputs": [
    {
     "name": "stderr",
     "output_type": "stream",
     "text": [
      "Warning message:\n",
      "“\u001b[1m\u001b[22mRemoved 39 rows containing missing values or values outside the scale range (`geom_line()`).”\n"
     ]
    },
    {
     "data": {
      "image/png": "[encoded data removed]",
      "text/plain": [
       "plot without title"
      ]
     },
     "metadata": {
      "image/png": {
       "height": 420,
       "width": 420
      }
     },
     "output_type": "display_data"
    }
   ],
   "source": [
    "ho_p <- create_effect_plot(ho, ho_model$best_model, ho_model$best_knot, dependent_var, weather_var, \"HO\")\n",
    "ho_p$plot"
   ]
  },
  {
   "cell_type": "markdown",
   "id": "45266f34-754a-4bb1-bcb5-74ea244207ad",
   "metadata": {},
   "source": [
    "## Brown Swiss"
   ]
  },
  {
   "cell_type": "code",
   "execution_count": 28,
   "id": "74b67fa0-3c18-41b6-819c-c066f7275cd5",
   "metadata": {
    "execution": {
     "iopub.execute_input": "2024-06-24T00:26:28.733393Z",
     "iopub.status.busy": "2024-06-24T00:26:28.732798Z",
     "iopub.status.idle": "2024-06-24T00:34:24.732397Z",
     "shell.execute_reply": "2024-06-24T00:34:24.731559Z"
    },
    "vscode": {
     "languageId": "r"
    }
   },
   "outputs": [
    {
     "name": "stderr",
     "output_type": "stream",
     "text": [
      "Variance contained negative values in the diagonal and was 'fixed' (a la Cameron, Gelbach & Miller 2011).\n",
      "\n"
     ]
    },
    {
     "name": "stderr",
     "output_type": "stream",
     "text": [
      "Variance contained negative values in the diagonal and was 'fixed' (a la Cameron, Gelbach & Miller 2011).\n",
      "\n"
     ]
    },
    {
     "name": "stderr",
     "output_type": "stream",
     "text": [
      "Variance contained negative values in the diagonal and was 'fixed' (a la Cameron, Gelbach & Miller 2011).\n",
      "\n"
     ]
    },
    {
     "name": "stderr",
     "output_type": "stream",
     "text": [
      "Variance contained negative values in the diagonal and was 'fixed' (a la Cameron, Gelbach & Miller 2011).\n",
      "\n"
     ]
    },
    {
     "name": "stderr",
     "output_type": "stream",
     "text": [
      "Variance contained negative values in the diagonal and was 'fixed' (a la Cameron, Gelbach & Miller 2011).\n",
      "\n"
     ]
    },
    {
     "name": "stderr",
     "output_type": "stream",
     "text": [
      "Variance contained negative values in the diagonal and was 'fixed' (a la Cameron, Gelbach & Miller 2011).\n",
      "\n"
     ]
    },
    {
     "name": "stderr",
     "output_type": "stream",
     "text": [
      "Variance contained negative values in the diagonal and was 'fixed' (a la Cameron, Gelbach & Miller 2011).\n",
      "\n"
     ]
    },
    {
     "name": "stderr",
     "output_type": "stream",
     "text": [
      "Variance contained negative values in the diagonal and was 'fixed' (a la Cameron, Gelbach & Miller 2011).\n",
      "\n"
     ]
    },
    {
     "name": "stderr",
     "output_type": "stream",
     "text": [
      "Variance contained negative values in the diagonal and was 'fixed' (a la Cameron, Gelbach & Miller 2011).\n",
      "\n"
     ]
    },
    {
     "name": "stderr",
     "output_type": "stream",
     "text": [
      "Variance contained negative values in the diagonal and was 'fixed' (a la Cameron, Gelbach & Miller 2011).\n",
      "\n"
     ]
    },
    {
     "name": "stderr",
     "output_type": "stream",
     "text": [
      "Variance contained negative values in the diagonal and was 'fixed' (a la Cameron, Gelbach & Miller 2011).\n",
      "\n"
     ]
    },
    {
     "name": "stderr",
     "output_type": "stream",
     "text": [
      "Variance contained negative values in the diagonal and was 'fixed' (a la Cameron, Gelbach & Miller 2011).\n",
      "\n"
     ]
    },
    {
     "name": "stderr",
     "output_type": "stream",
     "text": [
      "Variance contained negative values in the diagonal and was 'fixed' (a la Cameron, Gelbach & Miller 2011).\n",
      "\n"
     ]
    },
    {
     "name": "stderr",
     "output_type": "stream",
     "text": [
      "Variance contained negative values in the diagonal and was 'fixed' (a la Cameron, Gelbach & Miller 2011).\n",
      "\n"
     ]
    },
    {
     "name": "stderr",
     "output_type": "stream",
     "text": [
      "Variance contained negative values in the diagonal and was 'fixed' (a la Cameron, Gelbach & Miller 2011).\n",
      "\n"
     ]
    },
    {
     "name": "stderr",
     "output_type": "stream",
     "text": [
      "Variance contained negative values in the diagonal and was 'fixed' (a la Cameron, Gelbach & Miller 2011).\n",
      "\n"
     ]
    },
    {
     "name": "stderr",
     "output_type": "stream",
     "text": [
      "Variance contained negative values in the diagonal and was 'fixed' (a la Cameron, Gelbach & Miller 2011).\n",
      "\n"
     ]
    },
    {
     "name": "stderr",
     "output_type": "stream",
     "text": [
      "Variance contained negative values in the diagonal and was 'fixed' (a la Cameron, Gelbach & Miller 2011).\n",
      "\n"
     ]
    },
    {
     "name": "stderr",
     "output_type": "stream",
     "text": [
      "Variance contained negative values in the diagonal and was 'fixed' (a la Cameron, Gelbach & Miller 2011).\n",
      "\n"
     ]
    },
    {
     "name": "stderr",
     "output_type": "stream",
     "text": [
      "Variance contained negative values in the diagonal and was 'fixed' (a la Cameron, Gelbach & Miller 2011).\n",
      "\n"
     ]
    },
    {
     "name": "stderr",
     "output_type": "stream",
     "text": [
      "Variance contained negative values in the diagonal and was 'fixed' (a la Cameron, Gelbach & Miller 2011).\n",
      "\n"
     ]
    },
    {
     "name": "stderr",
     "output_type": "stream",
     "text": [
      "Variance contained negative values in the diagonal and was 'fixed' (a la Cameron, Gelbach & Miller 2011).\n",
      "\n"
     ]
    },
    {
     "name": "stderr",
     "output_type": "stream",
     "text": [
      "Variance contained negative values in the diagonal and was 'fixed' (a la Cameron, Gelbach & Miller 2011).\n",
      "\n"
     ]
    },
    {
     "name": "stderr",
     "output_type": "stream",
     "text": [
      "Variance contained negative values in the diagonal and was 'fixed' (a la Cameron, Gelbach & Miller 2011).\n",
      "\n"
     ]
    },
    {
     "name": "stderr",
     "output_type": "stream",
     "text": [
      "Variance contained negative values in the diagonal and was 'fixed' (a la Cameron, Gelbach & Miller 2011).\n",
      "\n"
     ]
    },
    {
     "name": "stderr",
     "output_type": "stream",
     "text": [
      "Variance contained negative values in the diagonal and was 'fixed' (a la Cameron, Gelbach & Miller 2011).\n",
      "\n"
     ]
    },
    {
     "name": "stderr",
     "output_type": "stream",
     "text": [
      "Variance contained negative values in the diagonal and was 'fixed' (a la Cameron, Gelbach & Miller 2011).\n",
      "\n"
     ]
    },
    {
     "name": "stdout",
     "output_type": "stream",
     "text": [
      "475.992 sec elapsed\n"
     ]
    }
   ],
   "source": [
    "tic()\n",
    "bs_model = run_models_with_knots(bs, knot_combs, dependent_var, weather_var)\n",
    "toc()"
   ]
  },
  {
   "cell_type": "code",
   "execution_count": 29,
   "id": "1bce08e1-bf80-4df1-b84b-b03bbb21a134",
   "metadata": {
    "execution": {
     "iopub.execute_input": "2024-06-24T00:34:24.758276Z",
     "iopub.status.busy": "2024-06-24T00:34:24.757611Z",
     "iopub.status.idle": "2024-06-24T00:34:24.765385Z",
     "shell.execute_reply": "2024-06-24T00:34:24.764625Z"
    },
    "vscode": {
     "languageId": "r"
    }
   },
   "outputs": [
    {
     "data": {
      "text/html": [
       "'17_reduced_form_model_thi_mean_t0_3d_fixed_effect_1980-2008_2024_06_24_02_16_32_fat_bs_model.Rdata'"
      ],
      "text/latex": [
       "'17\\_reduced\\_form\\_model\\_thi\\_mean\\_t0\\_3d\\_fixed\\_effect\\_1980-2008\\_2024\\_06\\_24\\_02\\_16\\_32\\_fat\\_bs\\_model.Rdata'"
      ],
      "text/markdown": [
       "'17_reduced_form_model_thi_mean_t0_3d_fixed_effect_1980-2008_2024_06_24_02_16_32_fat_bs_model.Rdata'"
      ],
      "text/plain": [
       "[1] \"17_reduced_form_model_thi_mean_t0_3d_fixed_effect_1980-2008_2024_06_24_02_16_32_fat_bs_model.Rdata\""
      ]
     },
     "metadata": {},
     "output_type": "display_data"
    }
   ],
   "source": [
    "bs_model_name <- paste0(concatenated_string, \"_bs_model.Rdata\")\n",
    "bs_model_name"
   ]
  },
  {
   "cell_type": "code",
   "execution_count": 30,
   "id": "a8aa8e33-e12d-49ff-aee5-46f6def7fd37",
   "metadata": {
    "execution": {
     "iopub.execute_input": "2024-06-24T00:34:24.767891Z",
     "iopub.status.busy": "2024-06-24T00:34:24.767244Z",
     "iopub.status.idle": "2024-06-24T00:34:24.772370Z",
     "shell.execute_reply": "2024-06-24T00:34:24.771643Z"
    },
    "vscode": {
     "languageId": "r"
    }
   },
   "outputs": [],
   "source": [
    "if (save) {\n",
    "    tic()\n",
    "    saveRDS(bs_model, file = bs_model_name, compress=T)\n",
    "    toc()\n",
    "}"
   ]
  },
  {
   "cell_type": "code",
   "execution_count": 31,
   "id": "415b619c-9280-49cd-b48f-407405f0dd9a",
   "metadata": {
    "execution": {
     "iopub.execute_input": "2024-06-24T00:34:24.774786Z",
     "iopub.status.busy": "2024-06-24T00:34:24.774126Z",
     "iopub.status.idle": "2024-06-24T00:34:24.780722Z",
     "shell.execute_reply": "2024-06-24T00:34:24.780009Z"
    },
    "vscode": {
     "languageId": "r"
    }
   },
   "outputs": [
    {
     "data": {
      "text/html": [
       "37"
      ],
      "text/latex": [
       "37"
      ],
      "text/markdown": [
       "37"
      ],
      "text/plain": [
       "[1] 37"
      ]
     },
     "metadata": {},
     "output_type": "display_data"
    }
   ],
   "source": [
    "bs_model$best_knot"
   ]
  },
  {
   "cell_type": "code",
   "execution_count": 32,
   "id": "89577147-29e6-47fa-a9b0-aedd0ffeebad",
   "metadata": {
    "execution": {
     "iopub.execute_input": "2024-06-24T00:34:24.782967Z",
     "iopub.status.busy": "2024-06-24T00:34:24.782366Z",
     "iopub.status.idle": "2024-06-24T00:34:24.794592Z",
     "shell.execute_reply": "2024-06-24T00:34:24.793638Z"
    },
    "vscode": {
     "languageId": "r"
    }
   },
   "outputs": [
    {
     "data": {
      "text/plain": [
       "OLS estimation, Dep. Var.: fat\n",
       "Observations: 18,221,364\n",
       "Fixed-effects: farmId: 18,635\n",
       "Standard-errors: Clustered (year & farmId) \n",
       "                                           Estimate Std. Error    t value   Pr(>|t|)    \n",
       "lspline(thi_mean_t0_3d, knots = c(37))1 -0.00160728   0.000399  -4.026243 8.7596e-04 ***\n",
       "lspline(thi_mean_t0_3d, knots = c(37))2 -0.00843765   0.000547 -15.413203 2.0101e-11 ***\n",
       "days_in_milk                             0.00146607   0.000014 103.198353  < 2.2e-16 ***\n",
       "lactationNumber                         -0.01703887   0.000526 -32.421263  < 2.2e-16 ***\n",
       "precip_mean_t0_3d                        0.00039306   0.000382   1.029780 3.1754e-01    \n",
       "I(precip_mean_t0_3d^2)                   0.00000961   0.000014   0.689260 4.9996e-01    \n",
       "year1992                                -0.02580515   0.001200 -21.502065 9.1346e-14 ***\n",
       "year1993                                -0.02637534   0.001770 -14.902877 3.4322e-11 ***\n",
       "year1994                                -0.11231717   0.002979 -37.698023  < 2.2e-16 ***\n",
       "year1995                                -0.10657648   0.002792 -38.167057  < 2.2e-16 ***\n",
       "year1996                                -0.06505460   0.002527 -25.741235 4.6757e-15 ***\n",
       "year1997                                -0.08562566   0.002937 -29.154893 5.8857e-16 ***\n",
       "year1998                                -0.04839724   0.003038 -15.928847 1.1890e-11 ***\n",
       "year1999                                -0.06125059   0.003133 -19.553228 4.3279e-13 ***\n",
       "year2000                                -0.12005734   0.003270 -36.709381  < 2.2e-16 ***\n",
       "year2001                                -0.03288881   0.003274 -10.046972 1.4454e-08 ***\n",
       "year2002                                -0.06276522   0.003398 -18.472790 1.0916e-12 ***\n",
       "year2003                                -0.09398889   0.003801 -24.725164 9.1170e-15 ***\n",
       "year2004                                -0.09706709   0.003316 -29.273987 5.4987e-16 ***\n",
       "year2005                                -0.07156883   0.003494 -20.481235 2.0284e-13 ***\n",
       "year2006                                -0.06669307   0.003678 -18.131352 1.4774e-12 ***\n",
       "year2007                                -0.07132599   0.003508 -20.332619 2.2852e-13 ***\n",
       "year2008                                -0.01242723   0.003373  -3.683963 1.8408e-03 ** \n",
       "---\n",
       "Signif. codes:  0 '***' 0.001 '**' 0.01 '*' 0.05 '.' 0.1 ' ' 1\n",
       "RMSE: 0.470633     Adj. R2: 0.163627\n",
       "                 Within R2: 0.115352"
      ]
     },
     "metadata": {},
     "output_type": "display_data"
    }
   ],
   "source": [
    "summary(bs_model$best_model)"
   ]
  },
  {
   "cell_type": "code",
   "execution_count": 33,
   "id": "7d913543-b61e-403d-8376-14987dd7e774",
   "metadata": {
    "execution": {
     "iopub.execute_input": "2024-06-24T00:34:24.796877Z",
     "iopub.status.busy": "2024-06-24T00:34:24.796271Z",
     "iopub.status.idle": "2024-06-24T00:34:24.963414Z",
     "shell.execute_reply": "2024-06-24T00:34:24.962531Z"
    },
    "vscode": {
     "languageId": "r"
    }
   },
   "outputs": [
    {
     "name": "stderr",
     "output_type": "stream",
     "text": [
      "Warning message:\n",
      "“\u001b[1m\u001b[22mRemoved 42 rows containing missing values or values outside the scale range (`geom_line()`).”\n"
     ]
    },
    {
     "data": {
      "image/png": "[encoded data removed]",
      "text/plain": [
       "plot without title"
      ]
     },
     "metadata": {
      "image/png": {
       "height": 420,
       "width": 420
      }
     },
     "output_type": "display_data"
    }
   ],
   "source": [
    "bs_p <- create_effect_plot(bs, bs_model$best_model, bs_model$best_knot, dependent_var, weather_var, \"BS\")\n",
    "bs_p$plot"
   ]
  },
  {
   "cell_type": "markdown",
   "id": "1be84693-5f85-4ed9-9ea3-b45e5304f759",
   "metadata": {},
   "source": [
    "## Simmental"
   ]
  },
  {
   "cell_type": "code",
   "execution_count": 34,
   "id": "26af0a76-ceaa-4e79-a1f5-4ec3e9ae0441",
   "metadata": {
    "execution": {
     "iopub.execute_input": "2024-06-24T00:34:24.966081Z",
     "iopub.status.busy": "2024-06-24T00:34:24.965408Z",
     "iopub.status.idle": "2024-06-24T00:35:21.005970Z",
     "shell.execute_reply": "2024-06-24T00:35:21.005161Z"
    },
    "vscode": {
     "languageId": "r"
    }
   },
   "outputs": [
    {
     "name": "stderr",
     "output_type": "stream",
     "text": [
      "Variance contained negative values in the diagonal and was 'fixed' (a la Cameron, Gelbach & Miller 2011).\n",
      "\n"
     ]
    },
    {
     "name": "stderr",
     "output_type": "stream",
     "text": [
      "Variance contained negative values in the diagonal and was 'fixed' (a la Cameron, Gelbach & Miller 2011).\n",
      "\n"
     ]
    },
    {
     "name": "stderr",
     "output_type": "stream",
     "text": [
      "Variance contained negative values in the diagonal and was 'fixed' (a la Cameron, Gelbach & Miller 2011).\n",
      "\n"
     ]
    },
    {
     "name": "stderr",
     "output_type": "stream",
     "text": [
      "Variance contained negative values in the diagonal and was 'fixed' (a la Cameron, Gelbach & Miller 2011).\n",
      "\n"
     ]
    },
    {
     "name": "stderr",
     "output_type": "stream",
     "text": [
      "Variance contained negative values in the diagonal and was 'fixed' (a la Cameron, Gelbach & Miller 2011).\n",
      "\n"
     ]
    },
    {
     "name": "stderr",
     "output_type": "stream",
     "text": [
      "Variance contained negative values in the diagonal and was 'fixed' (a la Cameron, Gelbach & Miller 2011).\n",
      "\n"
     ]
    },
    {
     "name": "stderr",
     "output_type": "stream",
     "text": [
      "Variance contained negative values in the diagonal and was 'fixed' (a la Cameron, Gelbach & Miller 2011).\n",
      "\n"
     ]
    },
    {
     "name": "stderr",
     "output_type": "stream",
     "text": [
      "Variance contained negative values in the diagonal and was 'fixed' (a la Cameron, Gelbach & Miller 2011).\n",
      "\n"
     ]
    },
    {
     "name": "stderr",
     "output_type": "stream",
     "text": [
      "Variance contained negative values in the diagonal and was 'fixed' (a la Cameron, Gelbach & Miller 2011).\n",
      "\n"
     ]
    },
    {
     "name": "stderr",
     "output_type": "stream",
     "text": [
      "Variance contained negative values in the diagonal and was 'fixed' (a la Cameron, Gelbach & Miller 2011).\n",
      "\n"
     ]
    },
    {
     "name": "stderr",
     "output_type": "stream",
     "text": [
      "Variance contained negative values in the diagonal and was 'fixed' (a la Cameron, Gelbach & Miller 2011).\n",
      "\n"
     ]
    },
    {
     "name": "stderr",
     "output_type": "stream",
     "text": [
      "Variance contained negative values in the diagonal and was 'fixed' (a la Cameron, Gelbach & Miller 2011).\n",
      "\n"
     ]
    },
    {
     "name": "stderr",
     "output_type": "stream",
     "text": [
      "Variance contained negative values in the diagonal and was 'fixed' (a la Cameron, Gelbach & Miller 2011).\n",
      "\n"
     ]
    },
    {
     "name": "stderr",
     "output_type": "stream",
     "text": [
      "Variance contained negative values in the diagonal and was 'fixed' (a la Cameron, Gelbach & Miller 2011).\n",
      "\n"
     ]
    },
    {
     "name": "stderr",
     "output_type": "stream",
     "text": [
      "Variance contained negative values in the diagonal and was 'fixed' (a la Cameron, Gelbach & Miller 2011).\n",
      "\n"
     ]
    },
    {
     "name": "stderr",
     "output_type": "stream",
     "text": [
      "Variance contained negative values in the diagonal and was 'fixed' (a la Cameron, Gelbach & Miller 2011).\n",
      "\n"
     ]
    },
    {
     "name": "stderr",
     "output_type": "stream",
     "text": [
      "Variance contained negative values in the diagonal and was 'fixed' (a la Cameron, Gelbach & Miller 2011).\n",
      "\n"
     ]
    },
    {
     "name": "stderr",
     "output_type": "stream",
     "text": [
      "Variance contained negative values in the diagonal and was 'fixed' (a la Cameron, Gelbach & Miller 2011).\n",
      "\n"
     ]
    },
    {
     "name": "stderr",
     "output_type": "stream",
     "text": [
      "Variance contained negative values in the diagonal and was 'fixed' (a la Cameron, Gelbach & Miller 2011).\n",
      "\n"
     ]
    },
    {
     "name": "stderr",
     "output_type": "stream",
     "text": [
      "Variance contained negative values in the diagonal and was 'fixed' (a la Cameron, Gelbach & Miller 2011).\n",
      "\n"
     ]
    },
    {
     "name": "stderr",
     "output_type": "stream",
     "text": [
      "Variance contained negative values in the diagonal and was 'fixed' (a la Cameron, Gelbach & Miller 2011).\n",
      "\n"
     ]
    },
    {
     "name": "stderr",
     "output_type": "stream",
     "text": [
      "Variance contained negative values in the diagonal and was 'fixed' (a la Cameron, Gelbach & Miller 2011).\n",
      "\n"
     ]
    },
    {
     "name": "stderr",
     "output_type": "stream",
     "text": [
      "Variance contained negative values in the diagonal and was 'fixed' (a la Cameron, Gelbach & Miller 2011).\n",
      "\n"
     ]
    },
    {
     "name": "stderr",
     "output_type": "stream",
     "text": [
      "Variance contained negative values in the diagonal and was 'fixed' (a la Cameron, Gelbach & Miller 2011).\n",
      "\n"
     ]
    },
    {
     "name": "stderr",
     "output_type": "stream",
     "text": [
      "Variance contained negative values in the diagonal and was 'fixed' (a la Cameron, Gelbach & Miller 2011).\n",
      "\n"
     ]
    },
    {
     "name": "stderr",
     "output_type": "stream",
     "text": [
      "Variance contained negative values in the diagonal and was 'fixed' (a la Cameron, Gelbach & Miller 2011).\n",
      "\n"
     ]
    },
    {
     "name": "stderr",
     "output_type": "stream",
     "text": [
      "Variance contained negative values in the diagonal and was 'fixed' (a la Cameron, Gelbach & Miller 2011).\n",
      "\n"
     ]
    },
    {
     "name": "stdout",
     "output_type": "stream",
     "text": [
      "56.033 sec elapsed\n"
     ]
    }
   ],
   "source": [
    "tic()\n",
    "si_model = run_models_with_knots(si, knot_combs, dependent_var, weather_var)\n",
    "toc()"
   ]
  },
  {
   "cell_type": "code",
   "execution_count": 35,
   "id": "084d03d7-e779-40fc-abac-4d18cf13560f",
   "metadata": {
    "execution": {
     "iopub.execute_input": "2024-06-24T00:35:21.010536Z",
     "iopub.status.busy": "2024-06-24T00:35:21.009942Z",
     "iopub.status.idle": "2024-06-24T00:35:21.017197Z",
     "shell.execute_reply": "2024-06-24T00:35:21.016499Z"
    },
    "vscode": {
     "languageId": "r"
    }
   },
   "outputs": [
    {
     "data": {
      "text/html": [
       "'17_reduced_form_model_thi_mean_t0_3d_fixed_effect_1980-2008_2024_06_24_02_16_32_fat_si_model.Rdata'"
      ],
      "text/latex": [
       "'17\\_reduced\\_form\\_model\\_thi\\_mean\\_t0\\_3d\\_fixed\\_effect\\_1980-2008\\_2024\\_06\\_24\\_02\\_16\\_32\\_fat\\_si\\_model.Rdata'"
      ],
      "text/markdown": [
       "'17_reduced_form_model_thi_mean_t0_3d_fixed_effect_1980-2008_2024_06_24_02_16_32_fat_si_model.Rdata'"
      ],
      "text/plain": [
       "[1] \"17_reduced_form_model_thi_mean_t0_3d_fixed_effect_1980-2008_2024_06_24_02_16_32_fat_si_model.Rdata\""
      ]
     },
     "metadata": {},
     "output_type": "display_data"
    }
   ],
   "source": [
    "si_model_name <- paste0(concatenated_string, \"_si_model.Rdata\")\n",
    "si_model_name"
   ]
  },
  {
   "cell_type": "code",
   "execution_count": 36,
   "id": "1b5f0645-f62c-477b-a503-80d0ede11c9d",
   "metadata": {
    "execution": {
     "iopub.execute_input": "2024-06-24T00:35:21.019426Z",
     "iopub.status.busy": "2024-06-24T00:35:21.018847Z",
     "iopub.status.idle": "2024-06-24T00:35:21.023719Z",
     "shell.execute_reply": "2024-06-24T00:35:21.023006Z"
    },
    "vscode": {
     "languageId": "r"
    }
   },
   "outputs": [],
   "source": [
    "if (save) {\n",
    "    tic()\n",
    "    saveRDS(si_model, file = si_model_name, compress=T)\n",
    "    toc()\n",
    "}"
   ]
  },
  {
   "cell_type": "code",
   "execution_count": 37,
   "id": "3a1758a4-a596-4be3-9c2f-0e497e5b4a7f",
   "metadata": {
    "execution": {
     "iopub.execute_input": "2024-06-24T00:35:21.025904Z",
     "iopub.status.busy": "2024-06-24T00:35:21.025306Z",
     "iopub.status.idle": "2024-06-24T00:35:21.031341Z",
     "shell.execute_reply": "2024-06-24T00:35:21.030625Z"
    },
    "vscode": {
     "languageId": "r"
    }
   },
   "outputs": [
    {
     "data": {
      "text/html": [
       "35"
      ],
      "text/latex": [
       "35"
      ],
      "text/markdown": [
       "35"
      ],
      "text/plain": [
       "[1] 35"
      ]
     },
     "metadata": {},
     "output_type": "display_data"
    }
   ],
   "source": [
    "si_model$best_knot"
   ]
  },
  {
   "cell_type": "code",
   "execution_count": 38,
   "id": "90ee105b-3cab-40ba-bfbe-2b932db949c6",
   "metadata": {
    "execution": {
     "iopub.execute_input": "2024-06-24T00:35:21.033540Z",
     "iopub.status.busy": "2024-06-24T00:35:21.032952Z",
     "iopub.status.idle": "2024-06-24T00:35:21.044869Z",
     "shell.execute_reply": "2024-06-24T00:35:21.044159Z"
    },
    "vscode": {
     "languageId": "r"
    }
   },
   "outputs": [
    {
     "data": {
      "text/plain": [
       "OLS estimation, Dep. Var.: fat\n",
       "Observations: 2,297,033\n",
       "Fixed-effects: farmId: 12,637\n",
       "Standard-errors: Clustered (year & farmId) \n",
       "                                           Estimate Std. Error    t value   Pr(>|t|)    \n",
       "lspline(thi_mean_t0_3d, knots = c(35))1 -0.00268393   0.000795  -3.375990 4.9663e-03 ** \n",
       "lspline(thi_mean_t0_3d, knots = c(35))2 -0.00810245   0.000784 -10.336237 1.2242e-07 ***\n",
       "days_in_milk                             0.00143584   0.000028  51.779005  < 2.2e-16 ***\n",
       "lactationNumber                         -0.01538640   0.000902 -17.051299 2.8128e-10 ***\n",
       "precip_mean_t0_3d                       -0.00004802   0.000826  -0.058167 9.5450e-01    \n",
       "I(precip_mean_t0_3d^2)                   0.00000695   0.000028   0.246124 8.0943e-01    \n",
       "year1996                                 0.02641329   0.000634  41.639306 3.1918e-15 ***\n",
       "year1997                                 0.07280786   0.000630 115.561527  < 2.2e-16 ***\n",
       "year1998                                 0.06219377   0.001384  44.942890 1.1906e-15 ***\n",
       "year1999                                 0.00968744   0.001930   5.020534 2.3430e-04 ***\n",
       "year2000                                -0.06146899   0.002347 -26.189231 1.2365e-12 ***\n",
       "year2001                                -0.09354316   0.002709 -34.532882 3.5617e-14 ***\n",
       "year2002                                -0.14941586   0.002864 -52.178974  < 2.2e-16 ***\n",
       "year2003                                -0.17175667   0.003496 -49.123751 3.7697e-16 ***\n",
       "year2004                                -0.13678832   0.003600 -38.001826 1.0380e-14 ***\n",
       "year2005                                -0.10826556   0.003804 -28.457502 4.2730e-13 ***\n",
       "year2006                                -0.08959525   0.003547 -25.261998 1.9590e-12 ***\n",
       "year2007                                -0.09517498   0.003595 -26.470932 1.0785e-12 ***\n",
       "year2008                                -0.06142498   0.003516 -17.471530 2.0752e-10 ***\n",
       "---\n",
       "Signif. codes:  0 '***' 0.001 '**' 0.01 '*' 0.05 '.' 0.1 ' ' 1\n",
       "RMSE: 0.475288     Adj. R2: 0.156112\n",
       "                 Within R2: 0.09363 "
      ]
     },
     "metadata": {},
     "output_type": "display_data"
    }
   ],
   "source": [
    "summary(si_model$best_model)"
   ]
  },
  {
   "cell_type": "code",
   "execution_count": 39,
   "id": "cb76c1f4-593f-483c-b2da-42062eaf310e",
   "metadata": {
    "execution": {
     "iopub.execute_input": "2024-06-24T00:35:21.047068Z",
     "iopub.status.busy": "2024-06-24T00:35:21.046485Z",
     "iopub.status.idle": "2024-06-24T00:35:21.166964Z",
     "shell.execute_reply": "2024-06-24T00:35:21.166158Z"
    },
    "vscode": {
     "languageId": "r"
    }
   },
   "outputs": [
    {
     "name": "stderr",
     "output_type": "stream",
     "text": [
      "Warning message:\n",
      "“\u001b[1m\u001b[22mRemoved 40 rows containing missing values or values outside the scale range (`geom_line()`).”\n"
     ]
    },
    {
     "data": {
      "image/png": "[encoded data removed]",
      "text/plain": [
       "plot without title"
      ]
     },
     "metadata": {
      "image/png": {
       "height": 420,
       "width": 420
      }
     },
     "output_type": "display_data"
    }
   ],
   "source": [
    "si_p <- create_effect_plot(si, si_model$best_model, si_model$best_knot, dependent_var, weather_var, \"SI\")\n",
    "si_p$plot"
   ]
  },
  {
   "cell_type": "markdown",
   "id": "4da41b9b-f8a7-41f2-9eea-5debc95d61e2",
   "metadata": {},
   "source": [
    "## Swiss Fleckvieh"
   ]
  },
  {
   "cell_type": "code",
   "execution_count": 40,
   "id": "6b26fe07-554a-4ab6-9b39-bee820e46198",
   "metadata": {
    "execution": {
     "iopub.execute_input": "2024-06-24T00:35:21.169578Z",
     "iopub.status.busy": "2024-06-24T00:35:21.168951Z",
     "iopub.status.idle": "2024-06-24T00:39:44.529044Z",
     "shell.execute_reply": "2024-06-24T00:39:44.528221Z"
    },
    "vscode": {
     "languageId": "r"
    }
   },
   "outputs": [
    {
     "name": "stdout",
     "output_type": "stream",
     "text": [
      "263.353 sec elapsed\n"
     ]
    }
   ],
   "source": [
    "tic()\n",
    "sf_model = run_models_with_knots(sf, knot_combs, dependent_var, weather_var)\n",
    "toc()"
   ]
  },
  {
   "cell_type": "code",
   "execution_count": 41,
   "id": "92fc0d30-a215-43c7-9e0c-fa3d88c83338",
   "metadata": {
    "execution": {
     "iopub.execute_input": "2024-06-24T00:39:44.546919Z",
     "iopub.status.busy": "2024-06-24T00:39:44.546269Z",
     "iopub.status.idle": "2024-06-24T00:39:44.554205Z",
     "shell.execute_reply": "2024-06-24T00:39:44.553414Z"
    },
    "vscode": {
     "languageId": "r"
    }
   },
   "outputs": [
    {
     "data": {
      "text/html": [
       "'17_reduced_form_model_thi_mean_t0_3d_fixed_effect_1980-2008_2024_06_24_02_16_32_fat_sf_model.Rdata'"
      ],
      "text/latex": [
       "'17\\_reduced\\_form\\_model\\_thi\\_mean\\_t0\\_3d\\_fixed\\_effect\\_1980-2008\\_2024\\_06\\_24\\_02\\_16\\_32\\_fat\\_sf\\_model.Rdata'"
      ],
      "text/markdown": [
       "'17_reduced_form_model_thi_mean_t0_3d_fixed_effect_1980-2008_2024_06_24_02_16_32_fat_sf_model.Rdata'"
      ],
      "text/plain": [
       "[1] \"17_reduced_form_model_thi_mean_t0_3d_fixed_effect_1980-2008_2024_06_24_02_16_32_fat_sf_model.Rdata\""
      ]
     },
     "metadata": {},
     "output_type": "display_data"
    }
   ],
   "source": [
    "sf_model_name <- paste0(concatenated_string, \"_sf_model.Rdata\")\n",
    "sf_model_name"
   ]
  },
  {
   "cell_type": "code",
   "execution_count": 42,
   "id": "cd788ec1-833e-4677-a75b-57db926410d7",
   "metadata": {
    "execution": {
     "iopub.execute_input": "2024-06-24T00:39:44.556686Z",
     "iopub.status.busy": "2024-06-24T00:39:44.556053Z",
     "iopub.status.idle": "2024-06-24T00:39:44.561366Z",
     "shell.execute_reply": "2024-06-24T00:39:44.560589Z"
    },
    "vscode": {
     "languageId": "r"
    }
   },
   "outputs": [],
   "source": [
    "if (save) {\n",
    "    tic()\n",
    "    saveRDS(sf_model, file = sf_model_name, compress=T)\n",
    "    toc()\n",
    "}"
   ]
  },
  {
   "cell_type": "code",
   "execution_count": 43,
   "id": "93df992b-e0a0-45ac-97ca-59799099a44e",
   "metadata": {
    "execution": {
     "iopub.execute_input": "2024-06-24T00:39:44.563735Z",
     "iopub.status.busy": "2024-06-24T00:39:44.563079Z",
     "iopub.status.idle": "2024-06-24T00:39:44.569639Z",
     "shell.execute_reply": "2024-06-24T00:39:44.568873Z"
    },
    "vscode": {
     "languageId": "r"
    }
   },
   "outputs": [
    {
     "data": {
      "text/html": [
       "35"
      ],
      "text/latex": [
       "35"
      ],
      "text/markdown": [
       "35"
      ],
      "text/plain": [
       "[1] 35"
      ]
     },
     "metadata": {},
     "output_type": "display_data"
    }
   ],
   "source": [
    "sf_model$best_knot"
   ]
  },
  {
   "cell_type": "code",
   "execution_count": 44,
   "id": "3d2ca0f4-cf94-43d5-b36c-cbb3d4ce959d",
   "metadata": {
    "execution": {
     "iopub.execute_input": "2024-06-24T00:39:44.571918Z",
     "iopub.status.busy": "2024-06-24T00:39:44.571312Z",
     "iopub.status.idle": "2024-06-24T00:39:44.583667Z",
     "shell.execute_reply": "2024-06-24T00:39:44.582928Z"
    },
    "vscode": {
     "languageId": "r"
    }
   },
   "outputs": [
    {
     "data": {
      "text/plain": [
       "OLS estimation, Dep. Var.: fat\n",
       "Observations: 11,233,357\n",
       "Fixed-effects: farmId: 23,111\n",
       "Standard-errors: Clustered (year & farmId) \n",
       "                                           Estimate Std. Error    t value   Pr(>|t|)    \n",
       "lspline(thi_mean_t0_3d, knots = c(35))1 -0.00428775   0.000654  -6.560546 1.2689e-05 ***\n",
       "lspline(thi_mean_t0_3d, knots = c(35))2 -0.01009813   0.000661 -15.275170 4.0005e-10 ***\n",
       "days_in_milk                             0.00165495   0.000027  62.427639  < 2.2e-16 ***\n",
       "lactationNumber                         -0.00318294   0.001186  -2.683874 1.7810e-02 *  \n",
       "precip_mean_t0_3d                        0.00053030   0.000446   1.190317 2.5372e-01    \n",
       "I(precip_mean_t0_3d^2)                  -0.00000164   0.000017  -0.098339 9.2306e-01    \n",
       "year1995                                 0.02572310   0.000584  44.057652  < 2.2e-16 ***\n",
       "year1996                                 0.05530415   0.001667  33.183530 1.0354e-14 ***\n",
       "year1997                                 0.09355550   0.000887 105.528986  < 2.2e-16 ***\n",
       "year1998                                 0.06263726   0.000853  73.451219  < 2.2e-16 ***\n",
       "year1999                                 0.00120210   0.001684   0.713735 4.8712e-01    \n",
       "year2000                                -0.07863489   0.001566 -50.202025  < 2.2e-16 ***\n",
       "year2001                                -0.08214771   0.002032 -40.435139 6.6849e-16 ***\n",
       "year2002                                -0.12711814   0.001986 -64.016517  < 2.2e-16 ***\n",
       "year2003                                -0.15141088   0.001967 -76.977122  < 2.2e-16 ***\n",
       "year2004                                -0.14398570   0.002841 -50.673191  < 2.2e-16 ***\n",
       "year2005                                -0.10176600   0.002867 -35.499708 4.0681e-15 ***\n",
       "year2006                                -0.08633691   0.002553 -33.819106 7.9630e-15 ***\n",
       "year2007                                -0.09694092   0.002670 -36.300918 2.9858e-15 ***\n",
       "year2008                                -0.06343838   0.002809 -22.585265 2.0573e-12 ***\n",
       "---\n",
       "Signif. codes:  0 '***' 0.001 '**' 0.01 '*' 0.05 '.' 0.1 ' ' 1\n",
       "RMSE: 0.530474     Adj. R2: 0.166253\n",
       "                 Within R2: 0.106748"
      ]
     },
     "metadata": {},
     "output_type": "display_data"
    }
   ],
   "source": [
    "summary(sf_model$best_model)"
   ]
  },
  {
   "cell_type": "code",
   "execution_count": 45,
   "id": "f9a3eee1-dddb-472e-9f53-9d85dc96e770",
   "metadata": {
    "execution": {
     "iopub.execute_input": "2024-06-24T00:39:44.586058Z",
     "iopub.status.busy": "2024-06-24T00:39:44.585327Z",
     "iopub.status.idle": "2024-06-24T00:39:44.732422Z",
     "shell.execute_reply": "2024-06-24T00:39:44.731552Z"
    },
    "vscode": {
     "languageId": "r"
    }
   },
   "outputs": [
    {
     "name": "stderr",
     "output_type": "stream",
     "text": [
      "Warning message:\n",
      "“\u001b[1m\u001b[22mRemoved 40 rows containing missing values or values outside the scale range (`geom_line()`).”\n"
     ]
    },
    {
     "data": {
      "image/png": "[encoded data removed]",
      "text/plain": [
       "plot without title"
      ]
     },
     "metadata": {
      "image/png": {
       "height": 420,
       "width": 420
      }
     },
     "output_type": "display_data"
    }
   ],
   "source": [
    "sf_p <- create_effect_plot(sf, sf_model$best_model, sf_model$best_knot, dependent_var, weather_var, \"SF\")\n",
    "sf_p$plot"
   ]
  },
  {
   "cell_type": "markdown",
   "id": "87f72462-dbce-4907-9de4-fc42017cd690",
   "metadata": {},
   "source": [
    "# Original Braunvieh"
   ]
  },
  {
   "cell_type": "code",
   "execution_count": 46,
   "id": "a87ba09c-e38f-49ce-b3d5-0623ed8b8260",
   "metadata": {
    "execution": {
     "iopub.execute_input": "2024-06-24T00:39:44.734968Z",
     "iopub.status.busy": "2024-06-24T00:39:44.734327Z",
     "iopub.status.idle": "2024-06-24T00:39:56.993509Z",
     "shell.execute_reply": "2024-06-24T00:39:56.992718Z"
    },
    "vscode": {
     "languageId": "r"
    }
   },
   "outputs": [
    {
     "name": "stderr",
     "output_type": "stream",
     "text": [
      "Variance contained negative values in the diagonal and was 'fixed' (a la Cameron, Gelbach & Miller 2011).\n",
      "\n"
     ]
    },
    {
     "name": "stderr",
     "output_type": "stream",
     "text": [
      "Variance contained negative values in the diagonal and was 'fixed' (a la Cameron, Gelbach & Miller 2011).\n",
      "\n"
     ]
    },
    {
     "name": "stderr",
     "output_type": "stream",
     "text": [
      "Variance contained negative values in the diagonal and was 'fixed' (a la Cameron, Gelbach & Miller 2011).\n",
      "\n"
     ]
    },
    {
     "name": "stderr",
     "output_type": "stream",
     "text": [
      "Variance contained negative values in the diagonal and was 'fixed' (a la Cameron, Gelbach & Miller 2011).\n",
      "\n"
     ]
    },
    {
     "name": "stderr",
     "output_type": "stream",
     "text": [
      "Variance contained negative values in the diagonal and was 'fixed' (a la Cameron, Gelbach & Miller 2011).\n",
      "\n"
     ]
    },
    {
     "name": "stderr",
     "output_type": "stream",
     "text": [
      "Variance contained negative values in the diagonal and was 'fixed' (a la Cameron, Gelbach & Miller 2011).\n",
      "\n"
     ]
    },
    {
     "name": "stderr",
     "output_type": "stream",
     "text": [
      "Variance contained negative values in the diagonal and was 'fixed' (a la Cameron, Gelbach & Miller 2011).\n",
      "\n"
     ]
    },
    {
     "name": "stderr",
     "output_type": "stream",
     "text": [
      "Variance contained negative values in the diagonal and was 'fixed' (a la Cameron, Gelbach & Miller 2011).\n",
      "\n"
     ]
    },
    {
     "name": "stderr",
     "output_type": "stream",
     "text": [
      "Variance contained negative values in the diagonal and was 'fixed' (a la Cameron, Gelbach & Miller 2011).\n",
      "\n"
     ]
    },
    {
     "name": "stderr",
     "output_type": "stream",
     "text": [
      "Variance contained negative values in the diagonal and was 'fixed' (a la Cameron, Gelbach & Miller 2011).\n",
      "\n"
     ]
    },
    {
     "name": "stderr",
     "output_type": "stream",
     "text": [
      "Variance contained negative values in the diagonal and was 'fixed' (a la Cameron, Gelbach & Miller 2011).\n",
      "\n"
     ]
    },
    {
     "name": "stderr",
     "output_type": "stream",
     "text": [
      "Variance contained negative values in the diagonal and was 'fixed' (a la Cameron, Gelbach & Miller 2011).\n",
      "\n"
     ]
    },
    {
     "name": "stderr",
     "output_type": "stream",
     "text": [
      "Variance contained negative values in the diagonal and was 'fixed' (a la Cameron, Gelbach & Miller 2011).\n",
      "\n"
     ]
    },
    {
     "name": "stderr",
     "output_type": "stream",
     "text": [
      "Variance contained negative values in the diagonal and was 'fixed' (a la Cameron, Gelbach & Miller 2011).\n",
      "\n"
     ]
    },
    {
     "name": "stderr",
     "output_type": "stream",
     "text": [
      "Variance contained negative values in the diagonal and was 'fixed' (a la Cameron, Gelbach & Miller 2011).\n",
      "\n"
     ]
    },
    {
     "name": "stderr",
     "output_type": "stream",
     "text": [
      "Variance contained negative values in the diagonal and was 'fixed' (a la Cameron, Gelbach & Miller 2011).\n",
      "\n"
     ]
    },
    {
     "name": "stderr",
     "output_type": "stream",
     "text": [
      "Variance contained negative values in the diagonal and was 'fixed' (a la Cameron, Gelbach & Miller 2011).\n",
      "\n"
     ]
    },
    {
     "name": "stderr",
     "output_type": "stream",
     "text": [
      "Variance contained negative values in the diagonal and was 'fixed' (a la Cameron, Gelbach & Miller 2011).\n",
      "\n"
     ]
    },
    {
     "name": "stderr",
     "output_type": "stream",
     "text": [
      "Variance contained negative values in the diagonal and was 'fixed' (a la Cameron, Gelbach & Miller 2011).\n",
      "\n"
     ]
    },
    {
     "name": "stderr",
     "output_type": "stream",
     "text": [
      "Variance contained negative values in the diagonal and was 'fixed' (a la Cameron, Gelbach & Miller 2011).\n",
      "\n"
     ]
    },
    {
     "name": "stderr",
     "output_type": "stream",
     "text": [
      "Variance contained negative values in the diagonal and was 'fixed' (a la Cameron, Gelbach & Miller 2011).\n",
      "\n"
     ]
    },
    {
     "name": "stderr",
     "output_type": "stream",
     "text": [
      "Variance contained negative values in the diagonal and was 'fixed' (a la Cameron, Gelbach & Miller 2011).\n",
      "\n"
     ]
    },
    {
     "name": "stderr",
     "output_type": "stream",
     "text": [
      "Variance contained negative values in the diagonal and was 'fixed' (a la Cameron, Gelbach & Miller 2011).\n",
      "\n"
     ]
    },
    {
     "name": "stderr",
     "output_type": "stream",
     "text": [
      "Variance contained negative values in the diagonal and was 'fixed' (a la Cameron, Gelbach & Miller 2011).\n",
      "\n"
     ]
    },
    {
     "name": "stderr",
     "output_type": "stream",
     "text": [
      "Variance contained negative values in the diagonal and was 'fixed' (a la Cameron, Gelbach & Miller 2011).\n",
      "\n"
     ]
    },
    {
     "name": "stderr",
     "output_type": "stream",
     "text": [
      "Variance contained negative values in the diagonal and was 'fixed' (a la Cameron, Gelbach & Miller 2011).\n",
      "\n"
     ]
    },
    {
     "name": "stderr",
     "output_type": "stream",
     "text": [
      "Variance contained negative values in the diagonal and was 'fixed' (a la Cameron, Gelbach & Miller 2011).\n",
      "\n"
     ]
    },
    {
     "name": "stdout",
     "output_type": "stream",
     "text": [
      "12.251 sec elapsed\n"
     ]
    }
   ],
   "source": [
    "tic()\n",
    "ob_model = run_models_with_knots(ob, knot_combs, dependent_var, weather_var)\n",
    "toc()"
   ]
  },
  {
   "cell_type": "code",
   "execution_count": 47,
   "id": "4e884e30-6ec9-4fc2-b284-4a6487172e2b",
   "metadata": {
    "execution": {
     "iopub.execute_input": "2024-06-24T00:39:56.996021Z",
     "iopub.status.busy": "2024-06-24T00:39:56.995437Z",
     "iopub.status.idle": "2024-06-24T00:39:57.002776Z",
     "shell.execute_reply": "2024-06-24T00:39:57.002053Z"
    },
    "vscode": {
     "languageId": "r"
    }
   },
   "outputs": [
    {
     "data": {
      "text/html": [
       "'17_reduced_form_model_thi_mean_t0_3d_fixed_effect_1980-2008_2024_06_24_02_16_32_fat_ob_model.Rdata'"
      ],
      "text/latex": [
       "'17\\_reduced\\_form\\_model\\_thi\\_mean\\_t0\\_3d\\_fixed\\_effect\\_1980-2008\\_2024\\_06\\_24\\_02\\_16\\_32\\_fat\\_ob\\_model.Rdata'"
      ],
      "text/markdown": [
       "'17_reduced_form_model_thi_mean_t0_3d_fixed_effect_1980-2008_2024_06_24_02_16_32_fat_ob_model.Rdata'"
      ],
      "text/plain": [
       "[1] \"17_reduced_form_model_thi_mean_t0_3d_fixed_effect_1980-2008_2024_06_24_02_16_32_fat_ob_model.Rdata\""
      ]
     },
     "metadata": {},
     "output_type": "display_data"
    }
   ],
   "source": [
    "ob_model_name <- paste0(concatenated_string, \"_ob_model.Rdata\")\n",
    "ob_model_name"
   ]
  },
  {
   "cell_type": "code",
   "execution_count": 48,
   "id": "fdab3587-2a61-4e9b-b26c-e6cea235920c",
   "metadata": {
    "execution": {
     "iopub.execute_input": "2024-06-24T00:39:57.005203Z",
     "iopub.status.busy": "2024-06-24T00:39:57.004607Z",
     "iopub.status.idle": "2024-06-24T00:39:57.009508Z",
     "shell.execute_reply": "2024-06-24T00:39:57.008797Z"
    },
    "vscode": {
     "languageId": "r"
    }
   },
   "outputs": [],
   "source": [
    "if (save) {\n",
    "    tic()\n",
    "    saveRDS(ob_model, file = ob_model_name, compress=T)\n",
    "    toc()\n",
    "}"
   ]
  },
  {
   "cell_type": "code",
   "execution_count": 49,
   "id": "6d576060-2b21-475d-bccf-837c2157a437",
   "metadata": {
    "execution": {
     "iopub.execute_input": "2024-06-24T00:39:57.011719Z",
     "iopub.status.busy": "2024-06-24T00:39:57.011134Z",
     "iopub.status.idle": "2024-06-24T00:39:57.017117Z",
     "shell.execute_reply": "2024-06-24T00:39:57.016428Z"
    },
    "vscode": {
     "languageId": "r"
    }
   },
   "outputs": [
    {
     "data": {
      "text/html": [
       "35"
      ],
      "text/latex": [
       "35"
      ],
      "text/markdown": [
       "35"
      ],
      "text/plain": [
       "[1] 35"
      ]
     },
     "metadata": {},
     "output_type": "display_data"
    }
   ],
   "source": [
    "ob_model$best_knot"
   ]
  },
  {
   "cell_type": "code",
   "execution_count": 50,
   "id": "6c73cc59-b92a-4462-85bf-924d815557aa",
   "metadata": {
    "execution": {
     "iopub.execute_input": "2024-06-24T00:39:57.019305Z",
     "iopub.status.busy": "2024-06-24T00:39:57.018728Z",
     "iopub.status.idle": "2024-06-24T00:39:57.030661Z",
     "shell.execute_reply": "2024-06-24T00:39:57.029947Z"
    },
    "vscode": {
     "languageId": "r"
    }
   },
   "outputs": [
    {
     "data": {
      "text/plain": [
       "OLS estimation, Dep. Var.: fat\n",
       "Observations: 683,243\n",
       "Fixed-effects: farmId: 5,581\n",
       "Standard-errors: Clustered (year & farmId) \n",
       "                                           Estimate Std. Error    t value   Pr(>|t|)    \n",
       "lspline(thi_mean_t0_3d, knots = c(35))1 -0.00193985   0.000447  -4.336705 4.4815e-04 ***\n",
       "lspline(thi_mean_t0_3d, knots = c(35))2 -0.00624211   0.000433 -14.427257 5.7333e-11 ***\n",
       "days_in_milk                             0.00160543   0.000021  76.607227  < 2.2e-16 ***\n",
       "lactationNumber                         -0.02152351   0.000800 -26.895194 2.2565e-15 ***\n",
       "precip_mean_t0_3d                        0.00103465   0.000405   2.557713 2.0384e-02 *  \n",
       "I(precip_mean_t0_3d^2)                  -0.00000440   0.000017  -0.256733 8.0047e-01    \n",
       "year1992                                -0.00865498   0.002441  -3.545621 2.4856e-03 ** \n",
       "year1993                                -0.01562614   0.006480  -2.411342 2.7488e-02 *  \n",
       "year1994                                -0.09675047   0.008469 -11.423590 2.1287e-09 ***\n",
       "year1995                                -0.11150296   0.009602 -11.611897 1.6611e-09 ***\n",
       "year1996                                -0.07107399   0.010811  -6.574445 4.7268e-06 ***\n",
       "year1997                                -0.07861894   0.011668  -6.737792 3.4759e-06 ***\n",
       "year1998                                -0.05661514   0.011971  -4.729279 1.9379e-04 ***\n",
       "year1999                                -0.07586378   0.012266  -6.184845 9.9848e-06 ***\n",
       "year2000                                -0.11007662   0.012842  -8.571538 1.4088e-07 ***\n",
       "year2001                                -0.02797498   0.013321  -2.099989 5.0961e-02 .  \n",
       "year2002                                -0.06413328   0.013278  -4.830218 1.5655e-04 ***\n",
       "year2003                                -0.09652233   0.013527  -7.135744 1.6689e-06 ***\n",
       "year2004                                -0.09299852   0.013275  -7.005386 2.1173e-06 ***\n",
       "year2005                                -0.07932479   0.013457  -5.894777 1.7656e-05 ***\n",
       "year2006                                -0.08738833   0.013752  -6.354370 7.1932e-06 ***\n",
       "year2007                                -0.09499971   0.013791  -6.888614 2.6254e-06 ***\n",
       "year2008                                -0.05010063   0.013673  -3.664237 1.9214e-03 ** \n",
       "---\n",
       "Signif. codes:  0 '***' 0.001 '**' 0.01 '*' 0.05 '.' 0.1 ' ' 1\n",
       "RMSE: 0.430817     Adj. R2: 0.208664\n",
       "                 Within R2: 0.136321"
      ]
     },
     "metadata": {},
     "output_type": "display_data"
    }
   ],
   "source": [
    "summary(ob_model$best_model)"
   ]
  },
  {
   "cell_type": "code",
   "execution_count": 51,
   "id": "8c5e7189-4c89-4817-a91b-0cf069649a9f",
   "metadata": {
    "execution": {
     "iopub.execute_input": "2024-06-24T00:39:57.032866Z",
     "iopub.status.busy": "2024-06-24T00:39:57.032279Z",
     "iopub.status.idle": "2024-06-24T00:39:57.146015Z",
     "shell.execute_reply": "2024-06-24T00:39:57.145263Z"
    },
    "vscode": {
     "languageId": "r"
    }
   },
   "outputs": [
    {
     "name": "stderr",
     "output_type": "stream",
     "text": [
      "Warning message:\n",
      "“\u001b[1m\u001b[22mRemoved 40 rows containing missing values or values outside the scale range (`geom_line()`).”\n"
     ]
    },
    {
     "data": {
      "image/png": "[encoded data removed]",
      "text/plain": [
       "plot without title"
      ]
     },
     "metadata": {
      "image/png": {
       "height": 420,
       "width": 420
      }
     },
     "output_type": "display_data"
    }
   ],
   "source": [
    "ob_p <- create_effect_plot(ob, ob_model$best_model, ob_model$best_knot, dependent_var, weather_var, \"OB\")\n",
    "ob_p$plot"
   ]
  },
  {
   "cell_type": "markdown",
   "id": "62d87ef9-7308-4550-8a96-00c809bb579f",
   "metadata": {},
   "source": [
    "## Merge data"
   ]
  },
  {
   "cell_type": "code",
   "execution_count": 52,
   "id": "d7387ef5-7381-4287-bcf1-43513897f8f0",
   "metadata": {
    "execution": {
     "iopub.execute_input": "2024-06-24T00:39:57.148667Z",
     "iopub.status.busy": "2024-06-24T00:39:57.148078Z",
     "iopub.status.idle": "2024-06-24T00:40:15.458805Z",
     "shell.execute_reply": "2024-06-24T00:40:15.457770Z"
    },
    "vscode": {
     "languageId": "r"
    }
   },
   "outputs": [],
   "source": [
    "breed_effect_data <- merge_plot_data(list(ho_p$data, bs_p$data, sf_p$data, si_p$data, bs_p$data, je_p$data, ob_p$data))\n",
    "saveRDS(ob_model, file = paste0(concatenated_string, \"_plot_data.Rdata\"), compress=T)"
   ]
  },
  {
   "cell_type": "code",
   "execution_count": 53,
   "id": "53c3c9bc-2698-47cb-8891-58a4a9a3da21",
   "metadata": {
    "execution": {
     "iopub.execute_input": "2024-06-24T00:40:15.461591Z",
     "iopub.status.busy": "2024-06-24T00:40:15.460977Z",
     "iopub.status.idle": "2024-06-24T00:40:15.467234Z",
     "shell.execute_reply": "2024-06-24T00:40:15.466477Z"
    },
    "vscode": {
     "languageId": "r"
    }
   },
   "outputs": [],
   "source": [
    "# Function to plot merged data\n",
    "plot_merged_data <- function(merged_data, predictor_var) {\n",
    "  # Create the plot\n",
    "    \n",
    "    y_min <- min(merged_data$Lower)\n",
    "    y_max <- max(merged_data$Upper)\n",
    "    plot <- ggplot(merged_data, aes(x = predictor_range, y = Effect, color = breed, fill = breed)) +\n",
    "    geom_line() +\n",
    "    geom_ribbon(aes(ymin = Lower, ymax = Upper), alpha = 0.3) +\n",
    "    labs(\n",
    "      title = paste0(\"Effect of\", predictor_var, \" per breed\"),\n",
    "      x = \"Predictor Variable Range\",\n",
    "      y = \"Effect\"\n",
    "    ) +\n",
    "    theme_minimal() +\n",
    "    scale_x_continuous(breaks = seq(40,  max(merged_data$predictor_range), by = 10), limits = c(40, max(merged_data$predictor_range))) +\n",
    "    scale_y_continuous(limits = c(y_min, y_max)) +\n",
    "    theme(\n",
    "      plot.title = element_text(hjust = 0.5),\n",
    "      plot.title.position = \"plot\",\n",
    "      axis.title.x = element_text(hjust = 0.5),\n",
    "      axis.title.y = element_text(hjust = 0.5)\n",
    "    ) +\n",
    "    facet_wrap(~ breed)\n",
    "  \n",
    "  \n",
    "  return(plot)\n",
    "}"
   ]
  },
  {
   "cell_type": "code",
   "execution_count": 54,
   "id": "6c0e96e2-74b3-448e-8c06-ce2bf91aeb30",
   "metadata": {
    "execution": {
     "iopub.execute_input": "2024-06-24T00:40:15.470410Z",
     "iopub.status.busy": "2024-06-24T00:40:15.469596Z",
     "iopub.status.idle": "2024-06-24T00:40:15.829371Z",
     "shell.execute_reply": "2024-06-24T00:40:15.828536Z"
    },
    "vscode": {
     "languageId": "r"
    }
   },
   "outputs": [
    {
     "name": "stderr",
     "output_type": "stream",
     "text": [
      "Warning message:\n",
      "“\u001b[1m\u001b[22mRemoved 280 rows containing missing values or values outside the scale range (`geom_line()`).”\n"
     ]
    },
    {
     "data": {
      "image/png": "[encoded data removed]",
      "text/plain": [
       "plot without title"
      ]
     },
     "metadata": {
      "image/png": {
       "height": 420,
       "width": 420
      }
     },
     "output_type": "display_data"
    }
   ],
   "source": [
    "plot_merged_data(breed_effect_data, weather_var)"
   ]
  }
 ],
 "metadata": {
  "kernelspec": {
   "display_name": "R",
   "language": "R",
   "name": "ir"
  },
  "language_info": {
   "codemirror_mode": "r",
   "file_extension": ".r",
   "mimetype": "text/x-r-source",
   "name": "R",
   "pygments_lexer": "r",
   "version": "4.3.1"
  }
 },
 "nbformat": 4,
 "nbformat_minor": 5
}
