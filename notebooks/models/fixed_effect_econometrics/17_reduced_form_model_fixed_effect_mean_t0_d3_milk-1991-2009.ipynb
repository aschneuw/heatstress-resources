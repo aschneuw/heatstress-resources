{
 "cells": [
  {
   "cell_type": "markdown",
   "id": "c2c9496c-1c4c-4462-a310-d1cf26c3d966",
   "metadata": {},
   "source": [
    "# Heat Stress Project - Milk Yield"
   ]
  },
  {
   "cell_type": "markdown",
   "id": "4392f814-ee10-4530-83f1-289ae0d08075",
   "metadata": {},
   "source": [
    "# R Packages"
   ]
  },
  {
   "cell_type": "code",
   "execution_count": 1,
   "id": "ab732adf-9d48-4fd2-83c8-7115fbe5ffec",
   "metadata": {
    "execution": {
     "iopub.execute_input": "2024-06-23T21:57:38.913888Z",
     "iopub.status.busy": "2024-06-23T21:57:38.912733Z",
     "iopub.status.idle": "2024-06-23T21:57:40.671061Z",
     "shell.execute_reply": "2024-06-23T21:57:40.670135Z"
    }
   },
   "outputs": [],
   "source": [
    "suppressPackageStartupMessages({\n",
    "  library(mgcv)\n",
    "  library(arrow)\n",
    "  library(dplyr)\n",
    "  library(tictoc)\n",
    "  library(fixest)\n",
    "  library(plm)\n",
    "  library(lspline)\n",
    "  library(lmerTest)\n",
    "  library(ggplot2)\n",
    "  library(car)\n",
    "  library(tidyverse)\n",
    "  library(lmtest)\n",
    "  library(rsample)\n",
    "  library(rlang)\n",
    "})\n",
    "options(width=1000)"
   ]
  },
  {
   "cell_type": "markdown",
   "id": "7b79ee07-be48-4182-9e1d-5b8e90796ee0",
   "metadata": {},
   "source": [
    "# Experiment Parameters"
   ]
  },
  {
   "cell_type": "code",
   "execution_count": 2,
   "id": "567b4c95-4615-4a4d-89f7-69ad7e582d6d",
   "metadata": {
    "execution": {
     "iopub.execute_input": "2024-06-23T21:57:40.687275Z",
     "iopub.status.busy": "2024-06-23T21:57:40.673143Z",
     "iopub.status.idle": "2024-06-23T21:57:40.705432Z",
     "shell.execute_reply": "2024-06-23T21:57:40.704692Z"
    }
   },
   "outputs": [
    {
     "data": {
      "text/html": [
       "'17_reduced_form_model_thi_mean_t0_3d_fixed_effect_1980-2009_2024_06_23_23_57_40_milk'"
      ],
      "text/latex": [
       "'17\\_reduced\\_form\\_model\\_thi\\_mean\\_t0\\_3d\\_fixed\\_effect\\_1980-2009\\_2024\\_06\\_23\\_23\\_57\\_40\\_milk'"
      ],
      "text/markdown": [
       "'17_reduced_form_model_thi_mean_t0_3d_fixed_effect_1980-2009_2024_06_23_23_57_40_milk'"
      ],
      "text/plain": [
       "[1] \"17_reduced_form_model_thi_mean_t0_3d_fixed_effect_1980-2009_2024_06_23_23_57_40_milk\""
      ]
     },
     "metadata": {},
     "output_type": "display_data"
    }
   ],
   "source": [
    "set.seed(2024)\n",
    "period <- 1980:2009\n",
    "month <- 4:10\n",
    "start <- min(period)\n",
    "stop <- max(period)\n",
    "subsample <- F\n",
    "diagnostic <- F\n",
    "save <- F\n",
    "sample_size <- 100000\n",
    "dependent_var <- \"milk\"\n",
    "weather_var <- \"thi_mean_t0_3d\"\n",
    "breeds <- c(\"HO\", \"JE\", \"SI\", \"SF\", \"BS\", \"OB\")\n",
    "start_knot <- 45\n",
    "stop_knot <- 60\n",
    "concatenated_string <- paste0(\"17_reduced_form_model_thi_mean_t0_3d_fixed_effect_\", start, \"-\", stop, \"_\", format(Sys.time(), \"%Y_%m_%d_%H_%M_%S\"), \"_\", dependent_var)\n",
    "concatenated_string"
   ]
  },
  {
   "cell_type": "markdown",
   "id": "c760df71-db97-4415-8386-e044c449f77b",
   "metadata": {},
   "source": [
    "# Custom Functions"
   ]
  },
  {
   "cell_type": "code",
   "execution_count": 3,
   "id": "6f08bb6a-45f9-449f-8cfb-61b054c2a534",
   "metadata": {
    "execution": {
     "iopub.execute_input": "2024-06-23T21:57:40.708083Z",
     "iopub.status.busy": "2024-06-23T21:57:40.707453Z",
     "iopub.status.idle": "2024-06-23T21:57:40.712824Z",
     "shell.execute_reply": "2024-06-23T21:57:40.712084Z"
    }
   },
   "outputs": [],
   "source": [
    "generate_diagnostic_plots <- function(model) {\n",
    "  # Extract fitted values and residuals\n",
    "  fitted_values <- fitted(model)\n",
    "  residuals <- residuals(model)\n",
    "  \n",
    "  # Create a data frame for plotting\n",
    "  plot_data <- data.frame(fitted_values = fitted_values, residuals = residuals)\n",
    "  print(nrow(plot_data))\n",
    "  \n",
    "  # Residuals vs Fitted Values Plot / Linearity & Homoscedacity\n",
    "  p1 <- ggplot(plot_data, aes(x = fitted_values, y = residuals)) +\n",
    "    geom_point(alpha = 0.5) +                       # Scatter plot of residuals\n",
    "    geom_smooth(method = \"loess\", col = \"red\", se = FALSE) +    # Smooth curve (loess)\n",
    "    labs(title = \"Residuals vs. Fitted Values\",\n",
    "         x = \"Fitted Values\",\n",
    "         y = \"Residuals\") +\n",
    "    theme_minimal() +\n",
    "    geom_hline(yintercept = 0, linetype = \"dashed\", color = \"blue\")\n",
    "  \n",
    "  # Normal distribution of residuals\n",
    "  p2 <- ggplot(plot_data, aes(sample = residuals)) +\n",
    "    stat_qq() +\n",
    "    stat_qq_line() +\n",
    "    labs(title = \"Normal Q-Q\",\n",
    "         x = \"Theoretical Quantiles\",\n",
    "         y = \"Residuals\") +\n",
    "    theme_minimal()\n",
    "  \n",
    "  # Scale-Location Plot (Homoscedacity - normally distributed standard error)\n",
    "  plot_data$std_residuals <- scale(residuals)\n",
    "  plot_data$abs_sqrt_residuals <- sqrt(abs(plot_data$std_residuals))\n",
    "  \n",
    "  p3 <- ggplot(plot_data, aes(fitted_values, abs_sqrt_residuals)) +\n",
    "    geom_point() +\n",
    "    geom_smooth(method = \"loess\", col = \"red\", se = FALSE) +\n",
    "    labs(title = \"Scale-Location Plot\",\n",
    "         x = \"Fitted values\",\n",
    "         y = \"√|Standardized residuals|\") +\n",
    "    theme_minimal()\n",
    "\n",
    "  p4 <- ggplot(plot_data, aes(x = residuals)) +\n",
    "    geom_histogram(binwidth = 0.5, fill = \"blue\", color = \"black\") +\n",
    "    labs(title = \"Histogram of Residuals\", x = \"Residuals\", y = \"Frequency\") +\n",
    "    theme_minimal()\n",
    " \n",
    "  # Return the plots as a list\n",
    "  list(\n",
    "    Residuals_vs_Fitted = p1,\n",
    "    Normal_QQ = p2,\n",
    "    Scale_Location = p3,\n",
    "    Residual_hist = p4\n",
    "  )\n",
    "}"
   ]
  },
  {
   "cell_type": "code",
   "execution_count": 4,
   "id": "618a30c9-d484-4d74-86e5-1c60361da06d",
   "metadata": {
    "execution": {
     "iopub.execute_input": "2024-06-23T21:57:40.715334Z",
     "iopub.status.busy": "2024-06-23T21:57:40.714728Z",
     "iopub.status.idle": "2024-06-23T21:57:40.721018Z",
     "shell.execute_reply": "2024-06-23T21:57:40.720280Z"
    }
   },
   "outputs": [],
   "source": [
    "create_effect_plot <- function(data, model, knot, response_var, predictor_var, breed) {\n",
    "  # Create the range for the predictor variable\n",
    "  predictor_range <- seq(ceiling(min(data[predictor_var], na.rm = TRUE)), floor(max(data[predictor_var], na.rm = TRUE)))\n",
    "  # Calculate the effect\n",
    "  effect <- lspline(predictor_range, knots = knot) %*% coeftest(model)[,1][1:(length(knot)+1)]\n",
    "  \n",
    "  # Calculate the confidence intervals\n",
    "  effect_error_min <- effect - ((lspline(predictor_range, knots = knot)) %*% (abs(coeftest(model)[,2][1:(length(knot)+1)] * 1.96)))\n",
    "  effect_error_max <- effect + ((lspline(predictor_range, knots = knot)) %*% (abs(coeftest(model)[,2][1:(length(knot)+1)] * 1.96)))\n",
    "  \n",
    "  # Create the data frame for plotting\n",
    "  data_plot <- data.frame(\n",
    "    breed = breed,\n",
    "    predictor_range, \n",
    "    Effect = effect, \n",
    "    Lower = effect_error_min, \n",
    "    Upper = effect_error_max\n",
    "  )\n",
    "  \n",
    "  # Create the plot\n",
    "  plot <- ggplot(data_plot, aes(x = predictor_range, y = Effect)) +\n",
    "    geom_line(color = \"blue\") +\n",
    "    geom_ribbon(aes(ymin = Lower, ymax = Upper), alpha = 0.3, fill = \"blue\") +\n",
    "    labs(\n",
    "      title = paste(\"Effect of\", predictor_var, \"with Confidence Intervals\"),\n",
    "      x = paste(predictor_var, \"Range\"),\n",
    "      y = \"Effect\"\n",
    "    ) +\n",
    "    theme_minimal() + \n",
    "    scale_x_continuous(breaks = seq(40, 90, by = 10), limits = c(40, max(predictor_range))) +\n",
    "    theme(\n",
    "      plot.title = element_text(hjust = 0.5),\n",
    "      plot.title.position = \"plot\",\n",
    "      axis.title.x = element_text(hjust = 0.5),\n",
    "      axis.title.y = element_text(hjust = 0.5)\n",
    "    )\n",
    "  \n",
    "  return(list(plot = plot, data = data_plot))\n",
    "}\n",
    "\n",
    "merge_plot_data <- function(plot_data_list) {\n",
    "  # Combine the data frames from each plot into one data frame\n",
    "  merged_data <- bind_rows(plot_data_list)\n",
    "  \n",
    "  return(merged_data)\n",
    "}"
   ]
  },
  {
   "cell_type": "markdown",
   "id": "bae02f6f-4e0c-420c-bcf6-be06dc0d203f",
   "metadata": {},
   "source": [
    "# Load Data"
   ]
  },
  {
   "cell_type": "code",
   "execution_count": 5,
   "id": "1b4a878c-da52-4dda-bafb-8c8f1d9dbc05",
   "metadata": {
    "execution": {
     "iopub.execute_input": "2024-06-23T21:57:40.723505Z",
     "iopub.status.busy": "2024-06-23T21:57:40.722899Z",
     "iopub.status.idle": "2024-06-23T21:57:49.511053Z",
     "shell.execute_reply": "2024-06-23T21:57:49.510097Z"
    }
   },
   "outputs": [],
   "source": [
    "milk_data <- read_parquet(\"/home/aschneuwl/workspace/agecon-thesis/notebooks/02_models/12_base_data.parquet\")"
   ]
  },
  {
   "cell_type": "code",
   "execution_count": 6,
   "id": "3b43fd3f-2220-4c57-acb6-6730b746bf64",
   "metadata": {
    "execution": {
     "iopub.execute_input": "2024-06-23T21:57:49.513724Z",
     "iopub.status.busy": "2024-06-23T21:57:49.513099Z",
     "iopub.status.idle": "2024-06-23T21:59:50.807256Z",
     "shell.execute_reply": "2024-06-23T21:59:50.806197Z"
    }
   },
   "outputs": [],
   "source": [
    "milk_data$animalBreedCode <- as.factor(milk_data$animalBreedCode)\n",
    "milk_data$year <- as.factor(milk_data$year)\n",
    "milk_data$farmId <- as.factor(milk_data$farmId)\n",
    "milk_data$month <- as.factor(milk_data$month)\n",
    "milk_data$logmilk <- log(milk_data$milk)\n",
    "milkingMehtod <- as.factor(milk_data$milkingMethod)\n",
    "milk_data$zip <- as.factor(milk_data$zip)\n",
    "milk_data$days_in_milk <- as.numeric(milk_data$days_in_milk)\n",
    "milk_data$days_in_milk <- milk_data$days_in_milk / 86400\n",
    "milk_data$farm_year_interaction = interaction(milk_data$farmId, milk_data$year)\n",
    "milk_data$farm_month_interaction = interaction(milk_data$farmId, milk_data$month)\n",
    "\n",
    "milk_data$regular_season <- with(milk_data, \n",
    "    ifelse(month %in% c(\"3\", \"4\", \"5\"), \"spring\",\n",
    "    ifelse(month %in% c(\"6\", \"7\", \"8\"), \"summer\",\n",
    "    ifelse(month %in% c(\"9\", \"10\", \"11\"), \"fall\", \"winter\"))))\n",
    "\n",
    "# Convert the new variable to a factor\n",
    "milk_data$regular_season <- as.factor(milk_data$regular_season)\n",
    "milk_data$zip_regular_season <- interaction(milk_data$zip, milk_data$regular_season)\n",
    "\n",
    "# Create the interaction term between farmId and month_range\n",
    "milk_data$farmId_regular_season_interaction <- interaction(milk_data$farmId, milk_data$regular_season)\n",
    "\n",
    "milk_data$farm_season <- with(milk_data, \n",
    "    ifelse(month %in% c(\"4\", \"5\", \"6\", \"7\", \"8\", \"9\"), \"grazing\", \"nongrazing\"))\n",
    "\n",
    "# Convert the new variable to a factor\n",
    "milk_data$farm_season <- as.factor(milk_data$farm_season)\n",
    "\n",
    "# Create the interaction term between farmId and farm_seasons\n",
    "milk_data$farmId_farm_season_interaction <- interaction(milk_data$farmId, milk_data$farm_season)"
   ]
  },
  {
   "cell_type": "code",
   "execution_count": 7,
   "id": "5ecab535-5df5-47b5-856c-573654546b87",
   "metadata": {
    "execution": {
     "iopub.execute_input": "2024-06-23T21:59:50.815438Z",
     "iopub.status.busy": "2024-06-23T21:59:50.814772Z",
     "iopub.status.idle": "2024-06-23T22:02:33.827822Z",
     "shell.execute_reply": "2024-06-23T22:02:33.826681Z"
    }
   },
   "outputs": [],
   "source": [
    "milk_data <- subset(milk_data, year %in% period)\n",
    "milk_data <- subset(milk_data, month %in% month)"
   ]
  },
  {
   "cell_type": "code",
   "execution_count": 8,
   "id": "fc60f9bb-6baf-4f18-a49d-ead3621b76b3",
   "metadata": {
    "execution": {
     "iopub.execute_input": "2024-06-23T22:02:33.838531Z",
     "iopub.status.busy": "2024-06-23T22:02:33.837800Z",
     "iopub.status.idle": "2024-06-23T22:02:33.844483Z",
     "shell.execute_reply": "2024-06-23T22:02:33.843663Z"
    }
   },
   "outputs": [],
   "source": [
    "if (subsample) { \n",
    "    milk_data <- milk_data %>%\n",
    "      group_by(year, animalBreedCode) %>%\n",
    "      sample_frac(sample_size/nrow(milk_data)) %>% drop_na(get(weather_var))\n",
    "}"
   ]
  },
  {
   "cell_type": "code",
   "execution_count": 9,
   "id": "8ffad707-bd97-4406-8eda-3c8651d309a6",
   "metadata": {
    "execution": {
     "iopub.execute_input": "2024-06-23T22:02:33.847032Z",
     "iopub.status.busy": "2024-06-23T22:02:33.846384Z",
     "iopub.status.idle": "2024-06-23T22:02:52.701819Z",
     "shell.execute_reply": "2024-06-23T22:02:52.700710Z"
    }
   },
   "outputs": [],
   "source": [
    "milk_data <- droplevels(milk_data)"
   ]
  },
  {
   "cell_type": "markdown",
   "id": "192c00df-6c2c-4225-86b0-0d9e21b23e5e",
   "metadata": {},
   "source": [
    "split data for each breed"
   ]
  },
  {
   "cell_type": "code",
   "execution_count": 10,
   "id": "fe9074d1-a992-4f7b-a838-3dfd9a900b61",
   "metadata": {
    "execution": {
     "iopub.execute_input": "2024-06-23T22:02:52.704907Z",
     "iopub.status.busy": "2024-06-23T22:02:52.704208Z",
     "iopub.status.idle": "2024-06-23T22:04:08.599269Z",
     "shell.execute_reply": "2024-06-23T22:04:08.598136Z"
    }
   },
   "outputs": [],
   "source": [
    "je <- droplevels(subset(milk_data, animalBreedCode %in% c(\"JE\")) %>% drop_na(!!weather_var))\n",
    "bs <- droplevels(subset(milk_data, animalBreedCode %in% c(\"BS\")) %>% drop_na(!!weather_var))\n",
    "ho <- droplevels(subset(milk_data, animalBreedCode %in% c(\"HO\")) %>% drop_na(!!weather_var))\n",
    "ob <- droplevels(subset(milk_data, animalBreedCode %in% c(\"OB\")) %>% drop_na(!!weather_var))\n",
    "si <- droplevels(subset(milk_data, animalBreedCode %in% c(\"SI\")) %>% drop_na(!!weather_var))\n",
    "sf <- droplevels(subset(milk_data, animalBreedCode %in% c(\"SF\")) %>% drop_na(!!weather_var))"
   ]
  },
  {
   "cell_type": "code",
   "execution_count": 11,
   "id": "4830279e-353b-4192-8a05-6044e496a81c",
   "metadata": {
    "execution": {
     "iopub.execute_input": "2024-06-23T22:04:08.605337Z",
     "iopub.status.busy": "2024-06-23T22:04:08.604638Z",
     "iopub.status.idle": "2024-06-23T22:04:09.870561Z",
     "shell.execute_reply": "2024-06-23T22:04:09.869819Z"
    }
   },
   "outputs": [
    {
     "data": {
      "image/png": "[encoded data removed]",
      "text/plain": [
       "Plot with title “Histogram of eval(parse(text = paste0(\"milk_data$\", dependent_var)))”"
      ]
     },
     "metadata": {
      "image/png": {
       "height": 420,
       "width": 420
      }
     },
     "output_type": "display_data"
    }
   ],
   "source": [
    "hist(eval(parse(text = paste0(\"milk_data$\", dependent_var))))"
   ]
  },
  {
   "cell_type": "code",
   "execution_count": 12,
   "id": "5e24fc1e-bc84-4dca-b24e-282f72e48d6a",
   "metadata": {
    "execution": {
     "iopub.execute_input": "2024-06-23T22:04:09.873188Z",
     "iopub.status.busy": "2024-06-23T22:04:09.872585Z",
     "iopub.status.idle": "2024-06-23T22:04:09.878013Z",
     "shell.execute_reply": "2024-06-23T22:04:09.877290Z"
    }
   },
   "outputs": [],
   "source": [
    "rm(milk_data)"
   ]
  },
  {
   "cell_type": "markdown",
   "id": "9a179b0d-ff2e-46f6-a2c3-ec09cca99637",
   "metadata": {},
   "source": [
    "# Piecewise Linear THI - Reduced Form Piecewise Linear Fixed Effect Model"
   ]
  },
  {
   "cell_type": "code",
   "execution_count": 13,
   "id": "aa1be5ae-eedb-4a3b-a7ef-23eaf6ada228",
   "metadata": {
    "execution": {
     "iopub.execute_input": "2024-06-23T22:04:09.880520Z",
     "iopub.status.busy": "2024-06-23T22:04:09.879921Z",
     "iopub.status.idle": "2024-06-23T22:04:09.886326Z",
     "shell.execute_reply": "2024-06-23T22:04:09.885595Z"
    }
   },
   "outputs": [],
   "source": [
    "pl_clu <- c(\"year\", \"farmId\")\n",
    "\n",
    "run_models_with_knots <- function(data, knot_sequence, dep_var_name, weather_var) {\n",
    "  best_rss <- Inf\n",
    "  best_knot_comb <- NULL\n",
    "  \n",
    "  # Loop over each knot value\n",
    "  for (i in 1:length(knot_sequence)) {\n",
    "    knots <- paste(knot_sequence[[i]], collapse = \",\")\n",
    "    f <- paste0(dep_var_name, \"~\", \"lspline(\", weather_var, \", knots=c(\", knots, \")) + days_in_milk + lactationNumber + precip_mean_t0_3d + precip_mean_t0_3d^2 + year | farmId\")\n",
    "    pl_form <- as.formula(f)\n",
    "    model <- feols(pl_form, data = data, cluster = pl_clu)\n",
    "    \n",
    "    # Calculate RSS for the current model\n",
    "    current_rss <- sum(residuals(model)^2)\n",
    "    \n",
    "    # Check if this model has the lowest RSS so far\n",
    "    if (current_rss < best_rss) {\n",
    "      best_rss <- current_rss\n",
    "      best_knot_comb <- knot_sequence[[i]]\n",
    "    }\n",
    "  }\n",
    "  \n",
    "  # Recompute the best model for storage reasons\n",
    "  knots <- paste(best_knot_comb, collapse = \",\")\n",
    "  f <- paste0(dep_var_name, \"~\", \"lspline(\", weather_var, \", knots=c(\", knots, \")) + days_in_milk + lactationNumber + precip_mean_t0_3d + precip_mean_t0_3d^2 + year | farmId\")\n",
    "  pl_form <- as.formula(f)\n",
    "  best_model <- feols(pl_form, data = data, cluster = pl_clu, lean = T)\n",
    "  gc()\n",
    "  \n",
    "  # Return a list containing the best knot combination, the best model, and its RSS\n",
    "  return(list(best_knot = best_knot_comb, best_model_rss = best_rss, best_model = best_model))\n",
    "}\n",
    "\n"
   ]
  },
  {
   "cell_type": "code",
   "execution_count": 14,
   "id": "5884625c-1e99-4f1d-9db4-3c3e8c0546cd",
   "metadata": {
    "execution": {
     "iopub.execute_input": "2024-06-23T22:04:09.888611Z",
     "iopub.status.busy": "2024-06-23T22:04:09.888029Z",
     "iopub.status.idle": "2024-06-23T22:04:09.896330Z",
     "shell.execute_reply": "2024-06-23T22:04:09.895621Z"
    }
   },
   "outputs": [],
   "source": [
    "knot_combs <- list()\n",
    "for (i in start_knot:stop_knot) {\n",
    "    j <- i - start_knot + 1\n",
    "  knot_combs[[j]] <- c(i)\n",
    "}"
   ]
  },
  {
   "cell_type": "code",
   "execution_count": 15,
   "id": "1f294215-79ef-48ef-bd26-18f0605cce6f",
   "metadata": {
    "execution": {
     "iopub.execute_input": "2024-06-23T22:04:09.898621Z",
     "iopub.status.busy": "2024-06-23T22:04:09.898040Z",
     "iopub.status.idle": "2024-06-23T22:04:09.902309Z",
     "shell.execute_reply": "2024-06-23T22:04:09.901589Z"
    }
   },
   "outputs": [],
   "source": [
    "#knot_combs[[length(knot_combs)+1]] <- seq(from = 0, to = 80, by = 5)"
   ]
  },
  {
   "cell_type": "markdown",
   "id": "47ec63b4-0431-403d-88ac-09624fb10357",
   "metadata": {},
   "source": [
    "## Jersey"
   ]
  },
  {
   "cell_type": "code",
   "execution_count": 16,
   "id": "8ee84d1e-685d-45e9-b08d-042338e9cf0f",
   "metadata": {
    "execution": {
     "iopub.execute_input": "2024-06-23T22:04:09.904667Z",
     "iopub.status.busy": "2024-06-23T22:04:09.904074Z",
     "iopub.status.idle": "2024-06-23T22:04:16.659763Z",
     "shell.execute_reply": "2024-06-23T22:04:16.658832Z"
    }
   },
   "outputs": [
    {
     "name": "stderr",
     "output_type": "stream",
     "text": [
      "Variance contained negative values in the diagonal and was 'fixed' (a la Cameron, Gelbach & Miller 2011).\n",
      "\n"
     ]
    },
    {
     "name": "stderr",
     "output_type": "stream",
     "text": [
      "Variance contained negative values in the diagonal and was 'fixed' (a la Cameron, Gelbach & Miller 2011).\n",
      "\n"
     ]
    },
    {
     "name": "stderr",
     "output_type": "stream",
     "text": [
      "Variance contained negative values in the diagonal and was 'fixed' (a la Cameron, Gelbach & Miller 2011).\n",
      "\n"
     ]
    },
    {
     "name": "stderr",
     "output_type": "stream",
     "text": [
      "Variance contained negative values in the diagonal and was 'fixed' (a la Cameron, Gelbach & Miller 2011).\n",
      "\n"
     ]
    },
    {
     "name": "stderr",
     "output_type": "stream",
     "text": [
      "Variance contained negative values in the diagonal and was 'fixed' (a la Cameron, Gelbach & Miller 2011).\n",
      "\n"
     ]
    },
    {
     "name": "stderr",
     "output_type": "stream",
     "text": [
      "Variance contained negative values in the diagonal and was 'fixed' (a la Cameron, Gelbach & Miller 2011).\n",
      "\n"
     ]
    },
    {
     "name": "stderr",
     "output_type": "stream",
     "text": [
      "Variance contained negative values in the diagonal and was 'fixed' (a la Cameron, Gelbach & Miller 2011).\n",
      "\n"
     ]
    },
    {
     "name": "stderr",
     "output_type": "stream",
     "text": [
      "Variance contained negative values in the diagonal and was 'fixed' (a la Cameron, Gelbach & Miller 2011).\n",
      "\n"
     ]
    },
    {
     "name": "stderr",
     "output_type": "stream",
     "text": [
      "Variance contained negative values in the diagonal and was 'fixed' (a la Cameron, Gelbach & Miller 2011).\n",
      "\n"
     ]
    },
    {
     "name": "stderr",
     "output_type": "stream",
     "text": [
      "Variance contained negative values in the diagonal and was 'fixed' (a la Cameron, Gelbach & Miller 2011).\n",
      "\n"
     ]
    },
    {
     "name": "stderr",
     "output_type": "stream",
     "text": [
      "Variance contained negative values in the diagonal and was 'fixed' (a la Cameron, Gelbach & Miller 2011).\n",
      "\n"
     ]
    },
    {
     "name": "stderr",
     "output_type": "stream",
     "text": [
      "Variance contained negative values in the diagonal and was 'fixed' (a la Cameron, Gelbach & Miller 2011).\n",
      "\n"
     ]
    },
    {
     "name": "stderr",
     "output_type": "stream",
     "text": [
      "Variance contained negative values in the diagonal and was 'fixed' (a la Cameron, Gelbach & Miller 2011).\n",
      "\n"
     ]
    },
    {
     "name": "stderr",
     "output_type": "stream",
     "text": [
      "Variance contained negative values in the diagonal and was 'fixed' (a la Cameron, Gelbach & Miller 2011).\n",
      "\n"
     ]
    },
    {
     "name": "stderr",
     "output_type": "stream",
     "text": [
      "Variance contained negative values in the diagonal and was 'fixed' (a la Cameron, Gelbach & Miller 2011).\n",
      "\n"
     ]
    },
    {
     "name": "stderr",
     "output_type": "stream",
     "text": [
      "Variance contained negative values in the diagonal and was 'fixed' (a la Cameron, Gelbach & Miller 2011).\n",
      "\n"
     ]
    },
    {
     "name": "stderr",
     "output_type": "stream",
     "text": [
      "Variance contained negative values in the diagonal and was 'fixed' (a la Cameron, Gelbach & Miller 2011).\n",
      "\n"
     ]
    },
    {
     "name": "stdout",
     "output_type": "stream",
     "text": [
      "6.748 sec elapsed\n"
     ]
    }
   ],
   "source": [
    "tic()\n",
    "je_model = run_models_with_knots(droplevels(je), knot_combs, dependent_var, weather_var)\n",
    "toc()"
   ]
  },
  {
   "cell_type": "code",
   "execution_count": 17,
   "id": "5e946937-f240-4dc8-9bc5-46cda5610a3f",
   "metadata": {
    "execution": {
     "iopub.execute_input": "2024-06-23T22:04:16.662448Z",
     "iopub.status.busy": "2024-06-23T22:04:16.661788Z",
     "iopub.status.idle": "2024-06-23T22:04:16.670076Z",
     "shell.execute_reply": "2024-06-23T22:04:16.669258Z"
    }
   },
   "outputs": [
    {
     "data": {
      "text/html": [
       "'17_reduced_form_model_thi_mean_t0_3d_fixed_effect_1980-2009_2024_06_23_23_57_40_milk_jersey_model.Rdata'"
      ],
      "text/latex": [
       "'17\\_reduced\\_form\\_model\\_thi\\_mean\\_t0\\_3d\\_fixed\\_effect\\_1980-2009\\_2024\\_06\\_23\\_23\\_57\\_40\\_milk\\_jersey\\_model.Rdata'"
      ],
      "text/markdown": [
       "'17_reduced_form_model_thi_mean_t0_3d_fixed_effect_1980-2009_2024_06_23_23_57_40_milk_jersey_model.Rdata'"
      ],
      "text/plain": [
       "[1] \"17_reduced_form_model_thi_mean_t0_3d_fixed_effect_1980-2009_2024_06_23_23_57_40_milk_jersey_model.Rdata\""
      ]
     },
     "metadata": {},
     "output_type": "display_data"
    }
   ],
   "source": [
    "jersey_model_name <- paste0(concatenated_string, \"_jersey_model.Rdata\")\n",
    "jersey_model_name"
   ]
  },
  {
   "cell_type": "code",
   "execution_count": 18,
   "id": "a7c51863-3cc7-435f-86b6-f24efcb20990",
   "metadata": {
    "execution": {
     "iopub.execute_input": "2024-06-23T22:04:16.672543Z",
     "iopub.status.busy": "2024-06-23T22:04:16.671931Z",
     "iopub.status.idle": "2024-06-23T22:04:16.677561Z",
     "shell.execute_reply": "2024-06-23T22:04:16.676780Z"
    }
   },
   "outputs": [],
   "source": [
    "if (save) {\n",
    "    tic()\n",
    "    saveRDS(je_model, file = jersey_model_name, compress=T)\n",
    "    toc()\n",
    "}"
   ]
  },
  {
   "cell_type": "code",
   "execution_count": 19,
   "id": "a140a1ef-a621-42af-9601-dfe8d17d25b1",
   "metadata": {
    "execution": {
     "iopub.execute_input": "2024-06-23T22:04:16.680004Z",
     "iopub.status.busy": "2024-06-23T22:04:16.679390Z",
     "iopub.status.idle": "2024-06-23T22:04:16.686162Z",
     "shell.execute_reply": "2024-06-23T22:04:16.685397Z"
    }
   },
   "outputs": [
    {
     "data": {
      "text/html": [
       "55"
      ],
      "text/latex": [
       "55"
      ],
      "text/markdown": [
       "55"
      ],
      "text/plain": [
       "[1] 55"
      ]
     },
     "metadata": {},
     "output_type": "display_data"
    }
   ],
   "source": [
    "je_model$best_knot"
   ]
  },
  {
   "cell_type": "code",
   "execution_count": 20,
   "id": "642aaec2-e27c-478e-9a92-2b78c01c64b6",
   "metadata": {
    "execution": {
     "iopub.execute_input": "2024-06-23T22:04:16.688513Z",
     "iopub.status.busy": "2024-06-23T22:04:16.687922Z",
     "iopub.status.idle": "2024-06-23T22:04:16.705223Z",
     "shell.execute_reply": "2024-06-23T22:04:16.704479Z"
    }
   },
   "outputs": [
    {
     "data": {
      "text/plain": [
       "OLS estimation, Dep. Var.: milk\n",
       "Observations: 152,526\n",
       "Fixed-effects: farmId: 2,145\n",
       "Standard-errors: Clustered (year & farmId) \n",
       "                                         Estimate Std. Error    t value   Pr(>|t|)    \n",
       "lspline(thi_mean_t0_3d, knots = c(55))1  0.030350   0.004993   6.079058 1.1894e-04 ***\n",
       "lspline(thi_mean_t0_3d, knots = c(55))2 -0.019426   0.011343  -1.712558 1.1757e-01    \n",
       "days_in_milk                            -0.029576   0.000469 -63.040662 2.4541e-14 ***\n",
       "lactationNumber                          0.489925   0.020130  24.338379 3.1251e-10 ***\n",
       "precip_mean_t0_3d                       -0.002922   0.008367  -0.349284 7.3412e-01    \n",
       "I(precip_mean_t0_3d^2)                  -0.000366   0.000249  -1.471961 1.7179e-01    \n",
       "year2000                                 0.291752   0.007770  37.546419 4.2790e-12 ***\n",
       "year2001                                 1.386655   0.059756  23.205399 4.9955e-10 ***\n",
       "year2002                                 2.110953   0.088274  23.913756 3.7163e-10 ***\n",
       "year2003                                 2.311878   0.109711  21.072395 1.2871e-09 ***\n",
       "year2004                                 2.801229   0.122105  22.941112 5.5909e-10 ***\n",
       "year2005                                 2.921050   0.131591  22.197979 7.7263e-10 ***\n",
       "year2006                                 3.201939   0.155385  20.606493 1.6022e-09 ***\n",
       "year2007                                 2.889972   0.133560  21.638062 9.9276e-10 ***\n",
       "year2008                                 3.103906   0.137245  22.615807 6.4333e-10 ***\n",
       "year2009                                 3.363287   0.152860  22.002328 8.4277e-10 ***\n",
       "---\n",
       "Signif. codes:  0 '***' 0.001 '**' 0.01 '*' 0.05 '.' 0.1 ' ' 1\n",
       "RMSE: 3.39782     Adj. R2: 0.571256\n",
       "                Within R2: 0.464742"
      ]
     },
     "metadata": {},
     "output_type": "display_data"
    }
   ],
   "source": [
    "summary(je_model$best_model)"
   ]
  },
  {
   "cell_type": "code",
   "execution_count": 21,
   "id": "4e3198ba-3ceb-421d-aee8-d44688ecf2ab",
   "metadata": {
    "execution": {
     "iopub.execute_input": "2024-06-23T22:04:16.707666Z",
     "iopub.status.busy": "2024-06-23T22:04:16.707077Z",
     "iopub.status.idle": "2024-06-23T22:04:16.898347Z",
     "shell.execute_reply": "2024-06-23T22:04:16.897569Z"
    }
   },
   "outputs": [
    {
     "name": "stderr",
     "output_type": "stream",
     "text": [
      "Warning message:\n",
      "“\u001b[1m\u001b[22mRemoved 37 rows containing missing values or values outside the scale range (`geom_line()`).”\n"
     ]
    },
    {
     "data": {
      "image/png": "[encoded data removed]",
      "text/plain": [
       "plot without title"
      ]
     },
     "metadata": {
      "image/png": {
       "height": 420,
       "width": 420
      }
     },
     "output_type": "display_data"
    }
   ],
   "source": [
    "je_p <- create_effect_plot(je, je_model$best_model, je_model$best_knot, dependent_var, weather_var, \"JE\")\n",
    "je_p$plot"
   ]
  },
  {
   "cell_type": "markdown",
   "id": "6df89c39-7af4-40e8-a377-167eaf503847",
   "metadata": {},
   "source": [
    "## Holstein"
   ]
  },
  {
   "cell_type": "code",
   "execution_count": 22,
   "id": "4cac70a6-3972-427c-9699-9f20a2f3a6c1",
   "metadata": {
    "execution": {
     "iopub.execute_input": "2024-06-23T22:04:16.901407Z",
     "iopub.status.busy": "2024-06-23T22:04:16.900667Z",
     "iopub.status.idle": "2024-06-23T22:06:47.419771Z",
     "shell.execute_reply": "2024-06-23T22:06:47.418808Z"
    }
   },
   "outputs": [
    {
     "name": "stderr",
     "output_type": "stream",
     "text": [
      "Variance contained negative values in the diagonal and was 'fixed' (a la Cameron, Gelbach & Miller 2011).\n",
      "\n"
     ]
    },
    {
     "name": "stderr",
     "output_type": "stream",
     "text": [
      "Variance contained negative values in the diagonal and was 'fixed' (a la Cameron, Gelbach & Miller 2011).\n",
      "\n"
     ]
    },
    {
     "name": "stderr",
     "output_type": "stream",
     "text": [
      "Variance contained negative values in the diagonal and was 'fixed' (a la Cameron, Gelbach & Miller 2011).\n",
      "\n"
     ]
    },
    {
     "name": "stderr",
     "output_type": "stream",
     "text": [
      "Variance contained negative values in the diagonal and was 'fixed' (a la Cameron, Gelbach & Miller 2011).\n",
      "\n"
     ]
    },
    {
     "name": "stderr",
     "output_type": "stream",
     "text": [
      "Variance contained negative values in the diagonal and was 'fixed' (a la Cameron, Gelbach & Miller 2011).\n",
      "\n"
     ]
    },
    {
     "name": "stderr",
     "output_type": "stream",
     "text": [
      "Variance contained negative values in the diagonal and was 'fixed' (a la Cameron, Gelbach & Miller 2011).\n",
      "\n"
     ]
    },
    {
     "name": "stderr",
     "output_type": "stream",
     "text": [
      "Variance contained negative values in the diagonal and was 'fixed' (a la Cameron, Gelbach & Miller 2011).\n",
      "\n"
     ]
    },
    {
     "name": "stderr",
     "output_type": "stream",
     "text": [
      "Variance contained negative values in the diagonal and was 'fixed' (a la Cameron, Gelbach & Miller 2011).\n",
      "\n"
     ]
    },
    {
     "name": "stderr",
     "output_type": "stream",
     "text": [
      "Variance contained negative values in the diagonal and was 'fixed' (a la Cameron, Gelbach & Miller 2011).\n",
      "\n"
     ]
    },
    {
     "name": "stderr",
     "output_type": "stream",
     "text": [
      "Variance contained negative values in the diagonal and was 'fixed' (a la Cameron, Gelbach & Miller 2011).\n",
      "\n"
     ]
    },
    {
     "name": "stderr",
     "output_type": "stream",
     "text": [
      "Variance contained negative values in the diagonal and was 'fixed' (a la Cameron, Gelbach & Miller 2011).\n",
      "\n"
     ]
    },
    {
     "name": "stderr",
     "output_type": "stream",
     "text": [
      "Variance contained negative values in the diagonal and was 'fixed' (a la Cameron, Gelbach & Miller 2011).\n",
      "\n"
     ]
    },
    {
     "name": "stderr",
     "output_type": "stream",
     "text": [
      "Variance contained negative values in the diagonal and was 'fixed' (a la Cameron, Gelbach & Miller 2011).\n",
      "\n"
     ]
    },
    {
     "name": "stderr",
     "output_type": "stream",
     "text": [
      "Variance contained negative values in the diagonal and was 'fixed' (a la Cameron, Gelbach & Miller 2011).\n",
      "\n"
     ]
    },
    {
     "name": "stderr",
     "output_type": "stream",
     "text": [
      "Variance contained negative values in the diagonal and was 'fixed' (a la Cameron, Gelbach & Miller 2011).\n",
      "\n"
     ]
    },
    {
     "name": "stderr",
     "output_type": "stream",
     "text": [
      "Variance contained negative values in the diagonal and was 'fixed' (a la Cameron, Gelbach & Miller 2011).\n",
      "\n"
     ]
    },
    {
     "name": "stderr",
     "output_type": "stream",
     "text": [
      "Variance contained negative values in the diagonal and was 'fixed' (a la Cameron, Gelbach & Miller 2011).\n",
      "\n"
     ]
    },
    {
     "name": "stdout",
     "output_type": "stream",
     "text": [
      "150.511 sec elapsed\n"
     ]
    }
   ],
   "source": [
    "tic()\n",
    "ho_model = run_models_with_knots(ho, knot_combs, dependent_var, weather_var)\n",
    "toc()"
   ]
  },
  {
   "cell_type": "code",
   "execution_count": 23,
   "id": "6ba6c8c6-6dcc-4e07-8a02-3901be7e0072",
   "metadata": {
    "execution": {
     "iopub.execute_input": "2024-06-23T22:06:47.429440Z",
     "iopub.status.busy": "2024-06-23T22:06:47.428763Z",
     "iopub.status.idle": "2024-06-23T22:06:47.437189Z",
     "shell.execute_reply": "2024-06-23T22:06:47.436346Z"
    }
   },
   "outputs": [
    {
     "data": {
      "text/html": [
       "'17_reduced_form_model_thi_mean_t0_3d_fixed_effect_1980-2009_2024_06_23_23_57_40_milk_ho_model.Rdata'"
      ],
      "text/latex": [
       "'17\\_reduced\\_form\\_model\\_thi\\_mean\\_t0\\_3d\\_fixed\\_effect\\_1980-2009\\_2024\\_06\\_23\\_23\\_57\\_40\\_milk\\_ho\\_model.Rdata'"
      ],
      "text/markdown": [
       "'17_reduced_form_model_thi_mean_t0_3d_fixed_effect_1980-2009_2024_06_23_23_57_40_milk_ho_model.Rdata'"
      ],
      "text/plain": [
       "[1] \"17_reduced_form_model_thi_mean_t0_3d_fixed_effect_1980-2009_2024_06_23_23_57_40_milk_ho_model.Rdata\""
      ]
     },
     "metadata": {},
     "output_type": "display_data"
    }
   ],
   "source": [
    "ho_model_name <- paste0(concatenated_string, \"_ho_model.Rdata\")\n",
    "ho_model_name"
   ]
  },
  {
   "cell_type": "code",
   "execution_count": 24,
   "id": "90c30b0a-3af4-484c-96f7-6ae1bc5ebd3d",
   "metadata": {
    "execution": {
     "iopub.execute_input": "2024-06-23T22:06:47.439689Z",
     "iopub.status.busy": "2024-06-23T22:06:47.439070Z",
     "iopub.status.idle": "2024-06-23T22:06:47.444790Z",
     "shell.execute_reply": "2024-06-23T22:06:47.444008Z"
    }
   },
   "outputs": [],
   "source": [
    "if (save) {\n",
    "    tic()\n",
    "    saveRDS(ho_model, file = ho_model_name, compress=TRUE)\n",
    "    toc()\n",
    "}"
   ]
  },
  {
   "cell_type": "code",
   "execution_count": 25,
   "id": "ad6da065-18a3-4d80-a4c4-3ba98e3d3e32",
   "metadata": {
    "execution": {
     "iopub.execute_input": "2024-06-23T22:06:47.447218Z",
     "iopub.status.busy": "2024-06-23T22:06:47.446618Z",
     "iopub.status.idle": "2024-06-23T22:06:47.453334Z",
     "shell.execute_reply": "2024-06-23T22:06:47.452551Z"
    }
   },
   "outputs": [
    {
     "data": {
      "text/html": [
       "54"
      ],
      "text/latex": [
       "54"
      ],
      "text/markdown": [
       "54"
      ],
      "text/plain": [
       "[1] 54"
      ]
     },
     "metadata": {},
     "output_type": "display_data"
    }
   ],
   "source": [
    "ho_model$best_knot"
   ]
  },
  {
   "cell_type": "code",
   "execution_count": 26,
   "id": "33b735f2-6430-4abb-9e3a-35e5bfa2aef6",
   "metadata": {
    "execution": {
     "iopub.execute_input": "2024-06-23T22:06:47.455729Z",
     "iopub.status.busy": "2024-06-23T22:06:47.455136Z",
     "iopub.status.idle": "2024-06-23T22:06:47.468347Z",
     "shell.execute_reply": "2024-06-23T22:06:47.467607Z"
    }
   },
   "outputs": [
    {
     "data": {
      "text/plain": [
       "OLS estimation, Dep. Var.: milk\n",
       "Observations: 9,804,549\n",
       "Fixed-effects: farmId: 20,901\n",
       "Standard-errors: Clustered (year & farmId) \n",
       "                                         Estimate Std. Error     t value   Pr(>|t|)    \n",
       "lspline(thi_mean_t0_3d, knots = c(54))1  0.047756   0.004599   10.384702 3.0341e-08 ***\n",
       "lspline(thi_mean_t0_3d, knots = c(54))2 -0.047905   0.007576   -6.323335 1.3663e-05 ***\n",
       "days_in_milk                            -0.047451   0.000216 -219.494307  < 2.2e-16 ***\n",
       "lactationNumber                          1.080364   0.011408   94.706261  < 2.2e-16 ***\n",
       "precip_mean_t0_3d                       -0.006980   0.006481   -1.076933 2.9853e-01    \n",
       "I(precip_mean_t0_3d^2)                  -0.000099   0.000180   -0.548474 5.9144e-01    \n",
       "year1995                                 0.308344   0.016884   18.262093 1.1727e-11 ***\n",
       "year1996                                 0.414827   0.008266   50.185789  < 2.2e-16 ***\n",
       "year1997                                 0.830239   0.004696  176.780354  < 2.2e-16 ***\n",
       "year1998                                 1.607298   0.011712  137.235249  < 2.2e-16 ***\n",
       "year1999                                 1.802566   0.015579  115.703279  < 2.2e-16 ***\n",
       "year2000                                 1.987544   0.019292  103.024390  < 2.2e-16 ***\n",
       "year2001                                 2.287173   0.023511   97.279858  < 2.2e-16 ***\n",
       "year2002                                 2.581218   0.026617   96.976683  < 2.2e-16 ***\n",
       "year2003                                 3.003375   0.029732  101.014334  < 2.2e-16 ***\n",
       "year2004                                 3.413086   0.030413  112.222917  < 2.2e-16 ***\n",
       "year2005                                 3.773461   0.032093  117.578992  < 2.2e-16 ***\n",
       "year2006                                 3.759151   0.033723  111.471532  < 2.2e-16 ***\n",
       "year2007                                 3.473204   0.039917   87.010293  < 2.2e-16 ***\n",
       "year2008                                 3.536995   0.041580   85.065634  < 2.2e-16 ***\n",
       "year2009                                 4.013117   0.040100  100.077450  < 2.2e-16 ***\n",
       "---\n",
       "Signif. codes:  0 '***' 0.001 '**' 0.01 '*' 0.05 '.' 0.1 ' ' 1\n",
       "RMSE: 4.73811     Adj. R2: 0.595579\n",
       "                Within R2: 0.538029"
      ]
     },
     "metadata": {},
     "output_type": "display_data"
    }
   ],
   "source": [
    "summary(ho_model$best_model)"
   ]
  },
  {
   "cell_type": "code",
   "execution_count": 27,
   "id": "63f32034-f5f5-4812-ada3-dcebe08cb653",
   "metadata": {
    "execution": {
     "iopub.execute_input": "2024-06-23T22:06:47.470817Z",
     "iopub.status.busy": "2024-06-23T22:06:47.470222Z",
     "iopub.status.idle": "2024-06-23T22:06:47.658023Z",
     "shell.execute_reply": "2024-06-23T22:06:47.657253Z"
    }
   },
   "outputs": [
    {
     "name": "stderr",
     "output_type": "stream",
     "text": [
      "Warning message:\n",
      "“\u001b[1m\u001b[22mRemoved 39 rows containing missing values or values outside the scale range (`geom_line()`).”\n"
     ]
    },
    {
     "data": {
      "image/png": "[encoded data removed]",
      "text/plain": [
       "plot without title"
      ]
     },
     "metadata": {
      "image/png": {
       "height": 420,
       "width": 420
      }
     },
     "output_type": "display_data"
    }
   ],
   "source": [
    "ho_p <- create_effect_plot(ho, ho_model$best_model, ho_model$best_knot, dependent_var, weather_var, \"HO\")\n",
    "ho_p$plot"
   ]
  },
  {
   "cell_type": "markdown",
   "id": "45266f34-754a-4bb1-bcb5-74ea244207ad",
   "metadata": {},
   "source": [
    "## Brown Swiss"
   ]
  },
  {
   "cell_type": "code",
   "execution_count": 28,
   "id": "74b67fa0-3c18-41b6-819c-c066f7275cd5",
   "metadata": {
    "execution": {
     "iopub.execute_input": "2024-06-23T22:06:47.660710Z",
     "iopub.status.busy": "2024-06-23T22:06:47.660111Z",
     "iopub.status.idle": "2024-06-23T22:12:32.416349Z",
     "shell.execute_reply": "2024-06-23T22:12:32.415400Z"
    }
   },
   "outputs": [
    {
     "name": "stderr",
     "output_type": "stream",
     "text": [
      "Variance contained negative values in the diagonal and was 'fixed' (a la Cameron, Gelbach & Miller 2011).\n",
      "\n"
     ]
    },
    {
     "name": "stderr",
     "output_type": "stream",
     "text": [
      "Variance contained negative values in the diagonal and was 'fixed' (a la Cameron, Gelbach & Miller 2011).\n",
      "\n"
     ]
    },
    {
     "name": "stderr",
     "output_type": "stream",
     "text": [
      "Variance contained negative values in the diagonal and was 'fixed' (a la Cameron, Gelbach & Miller 2011).\n",
      "\n"
     ]
    },
    {
     "name": "stderr",
     "output_type": "stream",
     "text": [
      "Variance contained negative values in the diagonal and was 'fixed' (a la Cameron, Gelbach & Miller 2011).\n",
      "\n"
     ]
    },
    {
     "name": "stderr",
     "output_type": "stream",
     "text": [
      "Variance contained negative values in the diagonal and was 'fixed' (a la Cameron, Gelbach & Miller 2011).\n",
      "\n"
     ]
    },
    {
     "name": "stderr",
     "output_type": "stream",
     "text": [
      "Variance contained negative values in the diagonal and was 'fixed' (a la Cameron, Gelbach & Miller 2011).\n",
      "\n"
     ]
    },
    {
     "name": "stderr",
     "output_type": "stream",
     "text": [
      "Variance contained negative values in the diagonal and was 'fixed' (a la Cameron, Gelbach & Miller 2011).\n",
      "\n"
     ]
    },
    {
     "name": "stderr",
     "output_type": "stream",
     "text": [
      "Variance contained negative values in the diagonal and was 'fixed' (a la Cameron, Gelbach & Miller 2011).\n",
      "\n"
     ]
    },
    {
     "name": "stderr",
     "output_type": "stream",
     "text": [
      "Variance contained negative values in the diagonal and was 'fixed' (a la Cameron, Gelbach & Miller 2011).\n",
      "\n"
     ]
    },
    {
     "name": "stderr",
     "output_type": "stream",
     "text": [
      "Variance contained negative values in the diagonal and was 'fixed' (a la Cameron, Gelbach & Miller 2011).\n",
      "\n"
     ]
    },
    {
     "name": "stderr",
     "output_type": "stream",
     "text": [
      "Variance contained negative values in the diagonal and was 'fixed' (a la Cameron, Gelbach & Miller 2011).\n",
      "\n"
     ]
    },
    {
     "name": "stderr",
     "output_type": "stream",
     "text": [
      "Variance contained negative values in the diagonal and was 'fixed' (a la Cameron, Gelbach & Miller 2011).\n",
      "\n"
     ]
    },
    {
     "name": "stderr",
     "output_type": "stream",
     "text": [
      "Variance contained negative values in the diagonal and was 'fixed' (a la Cameron, Gelbach & Miller 2011).\n",
      "\n"
     ]
    },
    {
     "name": "stderr",
     "output_type": "stream",
     "text": [
      "Variance contained negative values in the diagonal and was 'fixed' (a la Cameron, Gelbach & Miller 2011).\n",
      "\n"
     ]
    },
    {
     "name": "stderr",
     "output_type": "stream",
     "text": [
      "Variance contained negative values in the diagonal and was 'fixed' (a la Cameron, Gelbach & Miller 2011).\n",
      "\n"
     ]
    },
    {
     "name": "stderr",
     "output_type": "stream",
     "text": [
      "Variance contained negative values in the diagonal and was 'fixed' (a la Cameron, Gelbach & Miller 2011).\n",
      "\n"
     ]
    },
    {
     "name": "stderr",
     "output_type": "stream",
     "text": [
      "Variance contained negative values in the diagonal and was 'fixed' (a la Cameron, Gelbach & Miller 2011).\n",
      "\n"
     ]
    },
    {
     "name": "stdout",
     "output_type": "stream",
     "text": [
      "344.749 sec elapsed\n"
     ]
    }
   ],
   "source": [
    "tic()\n",
    "bs_model = run_models_with_knots(bs, knot_combs, dependent_var, weather_var)\n",
    "toc()"
   ]
  },
  {
   "cell_type": "code",
   "execution_count": 29,
   "id": "1bce08e1-bf80-4df1-b84b-b03bbb21a134",
   "metadata": {
    "execution": {
     "iopub.execute_input": "2024-06-23T22:12:32.435697Z",
     "iopub.status.busy": "2024-06-23T22:12:32.435035Z",
     "iopub.status.idle": "2024-06-23T22:12:32.443245Z",
     "shell.execute_reply": "2024-06-23T22:12:32.442455Z"
    }
   },
   "outputs": [
    {
     "data": {
      "text/html": [
       "'17_reduced_form_model_thi_mean_t0_3d_fixed_effect_1980-2009_2024_06_23_23_57_40_milk_bs_model.Rdata'"
      ],
      "text/latex": [
       "'17\\_reduced\\_form\\_model\\_thi\\_mean\\_t0\\_3d\\_fixed\\_effect\\_1980-2009\\_2024\\_06\\_23\\_23\\_57\\_40\\_milk\\_bs\\_model.Rdata'"
      ],
      "text/markdown": [
       "'17_reduced_form_model_thi_mean_t0_3d_fixed_effect_1980-2009_2024_06_23_23_57_40_milk_bs_model.Rdata'"
      ],
      "text/plain": [
       "[1] \"17_reduced_form_model_thi_mean_t0_3d_fixed_effect_1980-2009_2024_06_23_23_57_40_milk_bs_model.Rdata\""
      ]
     },
     "metadata": {},
     "output_type": "display_data"
    }
   ],
   "source": [
    "bs_model_name <- paste0(concatenated_string, \"_bs_model.Rdata\")\n",
    "bs_model_name"
   ]
  },
  {
   "cell_type": "code",
   "execution_count": 30,
   "id": "a8aa8e33-e12d-49ff-aee5-46f6def7fd37",
   "metadata": {
    "execution": {
     "iopub.execute_input": "2024-06-23T22:12:32.446365Z",
     "iopub.status.busy": "2024-06-23T22:12:32.445596Z",
     "iopub.status.idle": "2024-06-23T22:12:32.451781Z",
     "shell.execute_reply": "2024-06-23T22:12:32.451044Z"
    }
   },
   "outputs": [],
   "source": [
    "if (save) {\n",
    "    tic()\n",
    "    saveRDS(bs_model, file = bs_model_name, compress=T)\n",
    "    toc()\n",
    "}"
   ]
  },
  {
   "cell_type": "code",
   "execution_count": 31,
   "id": "415b619c-9280-49cd-b48f-407405f0dd9a",
   "metadata": {
    "execution": {
     "iopub.execute_input": "2024-06-23T22:12:32.454307Z",
     "iopub.status.busy": "2024-06-23T22:12:32.453682Z",
     "iopub.status.idle": "2024-06-23T22:12:32.460016Z",
     "shell.execute_reply": "2024-06-23T22:12:32.459274Z"
    }
   },
   "outputs": [
    {
     "data": {
      "text/html": [
       "56"
      ],
      "text/latex": [
       "56"
      ],
      "text/markdown": [
       "56"
      ],
      "text/plain": [
       "[1] 56"
      ]
     },
     "metadata": {},
     "output_type": "display_data"
    }
   ],
   "source": [
    "bs_model$best_knot"
   ]
  },
  {
   "cell_type": "code",
   "execution_count": 32,
   "id": "89577147-29e6-47fa-a9b0-aedd0ffeebad",
   "metadata": {
    "execution": {
     "iopub.execute_input": "2024-06-23T22:12:32.462409Z",
     "iopub.status.busy": "2024-06-23T22:12:32.461819Z",
     "iopub.status.idle": "2024-06-23T22:12:32.473981Z",
     "shell.execute_reply": "2024-06-23T22:12:32.473253Z"
    }
   },
   "outputs": [
    {
     "data": {
      "text/plain": [
       "OLS estimation, Dep. Var.: milk\n",
       "Observations: 19,507,017\n",
       "Fixed-effects: farmId: 18,952\n",
       "Standard-errors: Clustered (year & farmId) \n",
       "                                         Estimate Std. Error     t value   Pr(>|t|)    \n",
       "lspline(thi_mean_t0_3d, knots = c(56))1  0.023444   0.002608    8.988928 4.4857e-08 ***\n",
       "lspline(thi_mean_t0_3d, knots = c(56))2 -0.019538   0.005788   -3.375528 3.3692e-03 ** \n",
       "days_in_milk                            -0.038645   0.000233 -165.916442  < 2.2e-16 ***\n",
       "lactationNumber                          0.667244   0.006808   98.015217  < 2.2e-16 ***\n",
       "precip_mean_t0_3d                       -0.006322   0.004507   -1.402869 1.7767e-01    \n",
       "I(precip_mean_t0_3d^2)                   0.000026   0.000128    0.201943 8.4223e-01    \n",
       "year1992                                 0.366950   0.015060   24.365714 3.1102e-15 ***\n",
       "year1993                                 0.211116   0.004662   45.281936  < 2.2e-16 ***\n",
       "year1994                                 0.227165   0.018244   12.451421 2.7786e-10 ***\n",
       "year1995                                 0.665298   0.026027   25.562276 1.3428e-15 ***\n",
       "year1996                                 0.663467   0.028122   23.592269 5.4662e-15 ***\n",
       "year1997                                 1.291294   0.034642   37.275449  < 2.2e-16 ***\n",
       "year1998                                 1.869382   0.036721   50.908179  < 2.2e-16 ***\n",
       "year1999                                 1.791223   0.038098   47.015970  < 2.2e-16 ***\n",
       "year2000                                 2.035273   0.039292   51.798336  < 2.2e-16 ***\n",
       "year2001                                 2.722919   0.039696   68.593840  < 2.2e-16 ***\n",
       "year2002                                 2.950143   0.040476   72.886537  < 2.2e-16 ***\n",
       "year2003                                 3.209292   0.041788   76.800203  < 2.2e-16 ***\n",
       "year2004                                 3.750279   0.039393   95.200819  < 2.2e-16 ***\n",
       "year2005                                 3.757149   0.038736   96.993552  < 2.2e-16 ***\n",
       "year2006                                 3.685929   0.039490   93.338280  < 2.2e-16 ***\n",
       "year2007                                 3.637472   0.039078   93.083417  < 2.2e-16 ***\n",
       "year2008                                 3.906934   0.039323   99.355055  < 2.2e-16 ***\n",
       "year2009                                 4.162833   0.038562  107.951491  < 2.2e-16 ***\n",
       "---\n",
       "Signif. codes:  0 '***' 0.001 '**' 0.01 '*' 0.05 '.' 0.1 ' ' 1\n",
       "RMSE: 4.13523     Adj. R2: 0.595677\n",
       "                Within R2: 0.525036"
      ]
     },
     "metadata": {},
     "output_type": "display_data"
    }
   ],
   "source": [
    "summary(bs_model$best_model)"
   ]
  },
  {
   "cell_type": "code",
   "execution_count": 33,
   "id": "7d913543-b61e-403d-8376-14987dd7e774",
   "metadata": {
    "execution": {
     "iopub.execute_input": "2024-06-23T22:12:32.476275Z",
     "iopub.status.busy": "2024-06-23T22:12:32.475682Z",
     "iopub.status.idle": "2024-06-23T22:12:32.649863Z",
     "shell.execute_reply": "2024-06-23T22:12:32.648992Z"
    }
   },
   "outputs": [
    {
     "name": "stderr",
     "output_type": "stream",
     "text": [
      "Warning message:\n",
      "“\u001b[1m\u001b[22mRemoved 42 rows containing missing values or values outside the scale range (`geom_line()`).”\n"
     ]
    },
    {
     "data": {
      "image/png": "[encoded data removed]",
      "text/plain": [
       "plot without title"
      ]
     },
     "metadata": {
      "image/png": {
       "height": 420,
       "width": 420
      }
     },
     "output_type": "display_data"
    }
   ],
   "source": [
    "bs_p <- create_effect_plot(bs, bs_model$best_model, bs_model$best_knot, dependent_var, weather_var, \"BS\")\n",
    "bs_p$plot"
   ]
  },
  {
   "cell_type": "markdown",
   "id": "1be84693-5f85-4ed9-9ea3-b45e5304f759",
   "metadata": {},
   "source": [
    "## Simmental"
   ]
  },
  {
   "cell_type": "code",
   "execution_count": 34,
   "id": "26af0a76-ceaa-4e79-a1f5-4ec3e9ae0441",
   "metadata": {
    "execution": {
     "iopub.execute_input": "2024-06-23T22:12:32.652677Z",
     "iopub.status.busy": "2024-06-23T22:12:32.652010Z",
     "iopub.status.idle": "2024-06-23T22:13:10.347794Z",
     "shell.execute_reply": "2024-06-23T22:13:10.346983Z"
    }
   },
   "outputs": [
    {
     "name": "stderr",
     "output_type": "stream",
     "text": [
      "Variance contained negative values in the diagonal and was 'fixed' (a la Cameron, Gelbach & Miller 2011).\n",
      "\n"
     ]
    },
    {
     "name": "stderr",
     "output_type": "stream",
     "text": [
      "Variance contained negative values in the diagonal and was 'fixed' (a la Cameron, Gelbach & Miller 2011).\n",
      "\n"
     ]
    },
    {
     "name": "stderr",
     "output_type": "stream",
     "text": [
      "Variance contained negative values in the diagonal and was 'fixed' (a la Cameron, Gelbach & Miller 2011).\n",
      "\n"
     ]
    },
    {
     "name": "stderr",
     "output_type": "stream",
     "text": [
      "Variance contained negative values in the diagonal and was 'fixed' (a la Cameron, Gelbach & Miller 2011).\n",
      "\n"
     ]
    },
    {
     "name": "stderr",
     "output_type": "stream",
     "text": [
      "Variance contained negative values in the diagonal and was 'fixed' (a la Cameron, Gelbach & Miller 2011).\n",
      "\n"
     ]
    },
    {
     "name": "stderr",
     "output_type": "stream",
     "text": [
      "Variance contained negative values in the diagonal and was 'fixed' (a la Cameron, Gelbach & Miller 2011).\n",
      "\n"
     ]
    },
    {
     "name": "stderr",
     "output_type": "stream",
     "text": [
      "Variance contained negative values in the diagonal and was 'fixed' (a la Cameron, Gelbach & Miller 2011).\n",
      "\n"
     ]
    },
    {
     "name": "stderr",
     "output_type": "stream",
     "text": [
      "Variance contained negative values in the diagonal and was 'fixed' (a la Cameron, Gelbach & Miller 2011).\n",
      "\n"
     ]
    },
    {
     "name": "stderr",
     "output_type": "stream",
     "text": [
      "Variance contained negative values in the diagonal and was 'fixed' (a la Cameron, Gelbach & Miller 2011).\n",
      "\n"
     ]
    },
    {
     "name": "stderr",
     "output_type": "stream",
     "text": [
      "Variance contained negative values in the diagonal and was 'fixed' (a la Cameron, Gelbach & Miller 2011).\n",
      "\n"
     ]
    },
    {
     "name": "stderr",
     "output_type": "stream",
     "text": [
      "Variance contained negative values in the diagonal and was 'fixed' (a la Cameron, Gelbach & Miller 2011).\n",
      "\n"
     ]
    },
    {
     "name": "stderr",
     "output_type": "stream",
     "text": [
      "Variance contained negative values in the diagonal and was 'fixed' (a la Cameron, Gelbach & Miller 2011).\n",
      "\n"
     ]
    },
    {
     "name": "stderr",
     "output_type": "stream",
     "text": [
      "Variance contained negative values in the diagonal and was 'fixed' (a la Cameron, Gelbach & Miller 2011).\n",
      "\n"
     ]
    },
    {
     "name": "stderr",
     "output_type": "stream",
     "text": [
      "Variance contained negative values in the diagonal and was 'fixed' (a la Cameron, Gelbach & Miller 2011).\n",
      "\n"
     ]
    },
    {
     "name": "stderr",
     "output_type": "stream",
     "text": [
      "Variance contained negative values in the diagonal and was 'fixed' (a la Cameron, Gelbach & Miller 2011).\n",
      "\n"
     ]
    },
    {
     "name": "stderr",
     "output_type": "stream",
     "text": [
      "Variance contained negative values in the diagonal and was 'fixed' (a la Cameron, Gelbach & Miller 2011).\n",
      "\n"
     ]
    },
    {
     "name": "stderr",
     "output_type": "stream",
     "text": [
      "Variance contained negative values in the diagonal and was 'fixed' (a la Cameron, Gelbach & Miller 2011).\n",
      "\n"
     ]
    },
    {
     "name": "stdout",
     "output_type": "stream",
     "text": [
      "37.689 sec elapsed\n"
     ]
    }
   ],
   "source": [
    "tic()\n",
    "si_model = run_models_with_knots(si, knot_combs, dependent_var, weather_var)\n",
    "toc()"
   ]
  },
  {
   "cell_type": "code",
   "execution_count": 35,
   "id": "084d03d7-e779-40fc-abac-4d18cf13560f",
   "metadata": {
    "execution": {
     "iopub.execute_input": "2024-06-23T22:13:10.351488Z",
     "iopub.status.busy": "2024-06-23T22:13:10.350889Z",
     "iopub.status.idle": "2024-06-23T22:13:10.358581Z",
     "shell.execute_reply": "2024-06-23T22:13:10.357865Z"
    }
   },
   "outputs": [
    {
     "data": {
      "text/html": [
       "'17_reduced_form_model_thi_mean_t0_3d_fixed_effect_1980-2009_2024_06_23_23_57_40_milk_si_model.Rdata'"
      ],
      "text/latex": [
       "'17\\_reduced\\_form\\_model\\_thi\\_mean\\_t0\\_3d\\_fixed\\_effect\\_1980-2009\\_2024\\_06\\_23\\_23\\_57\\_40\\_milk\\_si\\_model.Rdata'"
      ],
      "text/markdown": [
       "'17_reduced_form_model_thi_mean_t0_3d_fixed_effect_1980-2009_2024_06_23_23_57_40_milk_si_model.Rdata'"
      ],
      "text/plain": [
       "[1] \"17_reduced_form_model_thi_mean_t0_3d_fixed_effect_1980-2009_2024_06_23_23_57_40_milk_si_model.Rdata\""
      ]
     },
     "metadata": {},
     "output_type": "display_data"
    }
   ],
   "source": [
    "si_model_name <- paste0(concatenated_string, \"_si_model.Rdata\")\n",
    "si_model_name"
   ]
  },
  {
   "cell_type": "code",
   "execution_count": 36,
   "id": "1b5f0645-f62c-477b-a503-80d0ede11c9d",
   "metadata": {
    "execution": {
     "iopub.execute_input": "2024-06-23T22:13:10.360918Z",
     "iopub.status.busy": "2024-06-23T22:13:10.360328Z",
     "iopub.status.idle": "2024-06-23T22:13:10.365612Z",
     "shell.execute_reply": "2024-06-23T22:13:10.364897Z"
    }
   },
   "outputs": [],
   "source": [
    "if (save) {\n",
    "    tic()\n",
    "    saveRDS(si_model, file = si_model_name, compress=T)\n",
    "    toc()\n",
    "}"
   ]
  },
  {
   "cell_type": "code",
   "execution_count": 37,
   "id": "3a1758a4-a596-4be3-9c2f-0e497e5b4a7f",
   "metadata": {
    "execution": {
     "iopub.execute_input": "2024-06-23T22:13:10.367922Z",
     "iopub.status.busy": "2024-06-23T22:13:10.367330Z",
     "iopub.status.idle": "2024-06-23T22:13:10.373709Z",
     "shell.execute_reply": "2024-06-23T22:13:10.372981Z"
    }
   },
   "outputs": [
    {
     "data": {
      "text/html": [
       "54"
      ],
      "text/latex": [
       "54"
      ],
      "text/markdown": [
       "54"
      ],
      "text/plain": [
       "[1] 54"
      ]
     },
     "metadata": {},
     "output_type": "display_data"
    }
   ],
   "source": [
    "si_model$best_knot"
   ]
  },
  {
   "cell_type": "code",
   "execution_count": 38,
   "id": "90ee105b-3cab-40ba-bfbe-2b932db949c6",
   "metadata": {
    "execution": {
     "iopub.execute_input": "2024-06-23T22:13:10.376029Z",
     "iopub.status.busy": "2024-06-23T22:13:10.375432Z",
     "iopub.status.idle": "2024-06-23T22:13:10.388271Z",
     "shell.execute_reply": "2024-06-23T22:13:10.387546Z"
    }
   },
   "outputs": [
    {
     "data": {
      "text/plain": [
       "OLS estimation, Dep. Var.: milk\n",
       "Observations: 2,450,834\n",
       "Fixed-effects: farmId: 12,898\n",
       "Standard-errors: Clustered (year & farmId) \n",
       "                                         Estimate Std. Error    t value   Pr(>|t|)    \n",
       "lspline(thi_mean_t0_3d, knots = c(54))1  0.041650   0.003691   11.28537 2.0486e-08 ***\n",
       "lspline(thi_mean_t0_3d, knots = c(54))2 -0.031510   0.009238   -3.41071 4.2220e-03 ** \n",
       "days_in_milk                            -0.037612   0.000316 -119.04582  < 2.2e-16 ***\n",
       "lactationNumber                          0.669977   0.008743   76.62801  < 2.2e-16 ***\n",
       "precip_mean_t0_3d                        0.009661   0.005926    1.63022 1.2534e-01    \n",
       "I(precip_mean_t0_3d^2)                  -0.000428   0.000226   -1.88961 7.9698e-02 .  \n",
       "year1996                                -0.048373   0.008372   -5.77757 4.7874e-05 ***\n",
       "year1997                                 0.408158   0.005337   76.48075  < 2.2e-16 ***\n",
       "year1998                                 0.881547   0.010571   83.39503  < 2.2e-16 ***\n",
       "year1999                                 1.153827   0.020035   57.59190  < 2.2e-16 ***\n",
       "year2000                                 1.062390   0.024493   43.37472 2.5210e-16 ***\n",
       "year2001                                 1.201023   0.026629   45.10205  < 2.2e-16 ***\n",
       "year2002                                 1.127746   0.028856   39.08228 1.0723e-15 ***\n",
       "year2003                                 1.327240   0.030420   43.63098 2.3228e-16 ***\n",
       "year2004                                 2.007788   0.033285   60.32160  < 2.2e-16 ***\n",
       "year2005                                 2.140886   0.036290   58.99354  < 2.2e-16 ***\n",
       "year2006                                 2.044707   0.037229   54.92204  < 2.2e-16 ***\n",
       "year2007                                 1.640174   0.039033   42.02008 3.9185e-16 ***\n",
       "year2008                                 1.738445   0.040757   42.65419 3.1821e-16 ***\n",
       "year2009                                 2.146290   0.039141   54.83551  < 2.2e-16 ***\n",
       "---\n",
       "Signif. codes:  0 '***' 0.001 '**' 0.01 '*' 0.05 '.' 0.1 ' ' 1\n",
       "RMSE: 3.53159     Adj. R2: 0.618319\n",
       "                Within R2: 0.521733"
      ]
     },
     "metadata": {},
     "output_type": "display_data"
    }
   ],
   "source": [
    "summary(si_model$best_model)"
   ]
  },
  {
   "cell_type": "code",
   "execution_count": 39,
   "id": "cb76c1f4-593f-483c-b2da-42062eaf310e",
   "metadata": {
    "execution": {
     "iopub.execute_input": "2024-06-23T22:13:10.390571Z",
     "iopub.status.busy": "2024-06-23T22:13:10.389975Z",
     "iopub.status.idle": "2024-06-23T22:13:10.512821Z",
     "shell.execute_reply": "2024-06-23T22:13:10.511967Z"
    }
   },
   "outputs": [
    {
     "name": "stderr",
     "output_type": "stream",
     "text": [
      "Warning message:\n",
      "“\u001b[1m\u001b[22mRemoved 40 rows containing missing values or values outside the scale range (`geom_line()`).”\n"
     ]
    },
    {
     "data": {
      "image/png": "[encoded data removed]",
      "text/plain": [
       "plot without title"
      ]
     },
     "metadata": {
      "image/png": {
       "height": 420,
       "width": 420
      }
     },
     "output_type": "display_data"
    }
   ],
   "source": [
    "si_p <- create_effect_plot(si, si_model$best_model, si_model$best_knot, dependent_var, weather_var, \"SI\")\n",
    "si_p$plot"
   ]
  },
  {
   "cell_type": "markdown",
   "id": "4da41b9b-f8a7-41f2-9eea-5debc95d61e2",
   "metadata": {},
   "source": [
    "## Swiss Fleckvieh"
   ]
  },
  {
   "cell_type": "code",
   "execution_count": 40,
   "id": "6b26fe07-554a-4ab6-9b39-bee820e46198",
   "metadata": {
    "execution": {
     "iopub.execute_input": "2024-06-23T22:13:10.515520Z",
     "iopub.status.busy": "2024-06-23T22:13:10.514865Z",
     "iopub.status.idle": "2024-06-23T22:16:19.228760Z",
     "shell.execute_reply": "2024-06-23T22:16:19.221967Z"
    }
   },
   "outputs": [
    {
     "name": "stderr",
     "output_type": "stream",
     "text": [
      "Variance contained negative values in the diagonal and was 'fixed' (a la Cameron, Gelbach & Miller 2011).\n",
      "\n"
     ]
    },
    {
     "name": "stderr",
     "output_type": "stream",
     "text": [
      "Variance contained negative values in the diagonal and was 'fixed' (a la Cameron, Gelbach & Miller 2011).\n",
      "\n"
     ]
    },
    {
     "name": "stderr",
     "output_type": "stream",
     "text": [
      "Variance contained negative values in the diagonal and was 'fixed' (a la Cameron, Gelbach & Miller 2011).\n",
      "\n"
     ]
    },
    {
     "name": "stderr",
     "output_type": "stream",
     "text": [
      "Variance contained negative values in the diagonal and was 'fixed' (a la Cameron, Gelbach & Miller 2011).\n",
      "\n"
     ]
    },
    {
     "name": "stderr",
     "output_type": "stream",
     "text": [
      "Variance contained negative values in the diagonal and was 'fixed' (a la Cameron, Gelbach & Miller 2011).\n",
      "\n"
     ]
    },
    {
     "name": "stderr",
     "output_type": "stream",
     "text": [
      "Variance contained negative values in the diagonal and was 'fixed' (a la Cameron, Gelbach & Miller 2011).\n",
      "\n"
     ]
    },
    {
     "name": "stderr",
     "output_type": "stream",
     "text": [
      "Variance contained negative values in the diagonal and was 'fixed' (a la Cameron, Gelbach & Miller 2011).\n",
      "\n"
     ]
    },
    {
     "name": "stderr",
     "output_type": "stream",
     "text": [
      "Variance contained negative values in the diagonal and was 'fixed' (a la Cameron, Gelbach & Miller 2011).\n",
      "\n"
     ]
    },
    {
     "name": "stderr",
     "output_type": "stream",
     "text": [
      "Variance contained negative values in the diagonal and was 'fixed' (a la Cameron, Gelbach & Miller 2011).\n",
      "\n"
     ]
    },
    {
     "name": "stderr",
     "output_type": "stream",
     "text": [
      "Variance contained negative values in the diagonal and was 'fixed' (a la Cameron, Gelbach & Miller 2011).\n",
      "\n"
     ]
    },
    {
     "name": "stderr",
     "output_type": "stream",
     "text": [
      "Variance contained negative values in the diagonal and was 'fixed' (a la Cameron, Gelbach & Miller 2011).\n",
      "\n"
     ]
    },
    {
     "name": "stderr",
     "output_type": "stream",
     "text": [
      "Variance contained negative values in the diagonal and was 'fixed' (a la Cameron, Gelbach & Miller 2011).\n",
      "\n"
     ]
    },
    {
     "name": "stderr",
     "output_type": "stream",
     "text": [
      "Variance contained negative values in the diagonal and was 'fixed' (a la Cameron, Gelbach & Miller 2011).\n",
      "\n"
     ]
    },
    {
     "name": "stderr",
     "output_type": "stream",
     "text": [
      "Variance contained negative values in the diagonal and was 'fixed' (a la Cameron, Gelbach & Miller 2011).\n",
      "\n"
     ]
    },
    {
     "name": "stderr",
     "output_type": "stream",
     "text": [
      "Variance contained negative values in the diagonal and was 'fixed' (a la Cameron, Gelbach & Miller 2011).\n",
      "\n"
     ]
    },
    {
     "name": "stderr",
     "output_type": "stream",
     "text": [
      "Variance contained negative values in the diagonal and was 'fixed' (a la Cameron, Gelbach & Miller 2011).\n",
      "\n"
     ]
    },
    {
     "name": "stderr",
     "output_type": "stream",
     "text": [
      "Variance contained negative values in the diagonal and was 'fixed' (a la Cameron, Gelbach & Miller 2011).\n",
      "\n"
     ]
    },
    {
     "name": "stdout",
     "output_type": "stream",
     "text": [
      "188.691 sec elapsed\n"
     ]
    }
   ],
   "source": [
    "tic()\n",
    "sf_model = run_models_with_knots(sf, knot_combs, dependent_var, weather_var)\n",
    "toc()"
   ]
  },
  {
   "cell_type": "code",
   "execution_count": 41,
   "id": "92fc0d30-a215-43c7-9e0c-fa3d88c83338",
   "metadata": {
    "execution": {
     "iopub.execute_input": "2024-06-23T22:16:19.308009Z",
     "iopub.status.busy": "2024-06-23T22:16:19.306451Z",
     "iopub.status.idle": "2024-06-23T22:16:19.325596Z",
     "shell.execute_reply": "2024-06-23T22:16:19.323527Z"
    }
   },
   "outputs": [
    {
     "data": {
      "text/html": [
       "'17_reduced_form_model_thi_mean_t0_3d_fixed_effect_1980-2009_2024_06_23_23_57_40_milk_sf_model.Rdata'"
      ],
      "text/latex": [
       "'17\\_reduced\\_form\\_model\\_thi\\_mean\\_t0\\_3d\\_fixed\\_effect\\_1980-2009\\_2024\\_06\\_23\\_23\\_57\\_40\\_milk\\_sf\\_model.Rdata'"
      ],
      "text/markdown": [
       "'17_reduced_form_model_thi_mean_t0_3d_fixed_effect_1980-2009_2024_06_23_23_57_40_milk_sf_model.Rdata'"
      ],
      "text/plain": [
       "[1] \"17_reduced_form_model_thi_mean_t0_3d_fixed_effect_1980-2009_2024_06_23_23_57_40_milk_sf_model.Rdata\""
      ]
     },
     "metadata": {},
     "output_type": "display_data"
    }
   ],
   "source": [
    "sf_model_name <- paste0(concatenated_string, \"_sf_model.Rdata\")\n",
    "sf_model_name"
   ]
  },
  {
   "cell_type": "code",
   "execution_count": 42,
   "id": "cd788ec1-833e-4677-a75b-57db926410d7",
   "metadata": {
    "execution": {
     "iopub.execute_input": "2024-06-23T22:16:19.332015Z",
     "iopub.status.busy": "2024-06-23T22:16:19.330573Z",
     "iopub.status.idle": "2024-06-23T22:16:19.346318Z",
     "shell.execute_reply": "2024-06-23T22:16:19.344220Z"
    }
   },
   "outputs": [],
   "source": [
    "if (save) {\n",
    "    tic()\n",
    "    saveRDS(sf_model, file = sf_model_name, compress=T)\n",
    "    toc()\n",
    "}"
   ]
  },
  {
   "cell_type": "code",
   "execution_count": 43,
   "id": "93df992b-e0a0-45ac-97ca-59799099a44e",
   "metadata": {
    "execution": {
     "iopub.execute_input": "2024-06-23T22:16:19.349773Z",
     "iopub.status.busy": "2024-06-23T22:16:19.349054Z",
     "iopub.status.idle": "2024-06-23T22:16:19.357694Z",
     "shell.execute_reply": "2024-06-23T22:16:19.356828Z"
    }
   },
   "outputs": [
    {
     "data": {
      "text/html": [
       "55"
      ],
      "text/latex": [
       "55"
      ],
      "text/markdown": [
       "55"
      ],
      "text/plain": [
       "[1] 55"
      ]
     },
     "metadata": {},
     "output_type": "display_data"
    }
   ],
   "source": [
    "sf_model$best_knot"
   ]
  },
  {
   "cell_type": "code",
   "execution_count": 44,
   "id": "3d2ca0f4-cf94-43d5-b36c-cbb3d4ce959d",
   "metadata": {
    "execution": {
     "iopub.execute_input": "2024-06-23T22:16:19.360314Z",
     "iopub.status.busy": "2024-06-23T22:16:19.359662Z",
     "iopub.status.idle": "2024-06-23T22:16:19.374418Z",
     "shell.execute_reply": "2024-06-23T22:16:19.373555Z"
    }
   },
   "outputs": [
    {
     "data": {
      "text/plain": [
       "OLS estimation, Dep. Var.: milk\n",
       "Observations: 11,611,313\n",
       "Fixed-effects: farmId: 23,710\n",
       "Standard-errors: Clustered (year & farmId) \n",
       "                                         Estimate Std. Error    t value   Pr(>|t|)    \n",
       "lspline(thi_mean_t0_3d, knots = c(55))1  0.056351   0.003909  14.414379 3.4015e-10 ***\n",
       "lspline(thi_mean_t0_3d, knots = c(55))2 -0.050950   0.006310  -8.073965 7.6868e-07 ***\n",
       "days_in_milk                            -0.045733   0.000596 -76.689805  < 2.2e-16 ***\n",
       "lactationNumber                          0.705475   0.016995  41.511629  < 2.2e-16 ***\n",
       "precip_mean_t0_3d                       -0.004602   0.004778  -0.963160 3.5074e-01    \n",
       "I(precip_mean_t0_3d^2)                   0.000023   0.000150   0.155979 8.7813e-01    \n",
       "year1995                                 0.348436   0.004509  77.269594  < 2.2e-16 ***\n",
       "year1996                                 0.551618   0.006532  84.449946  < 2.2e-16 ***\n",
       "year1997                                 0.999512   0.008258 121.029977  < 2.2e-16 ***\n",
       "year1998                                 1.751272   0.008896 196.859433  < 2.2e-16 ***\n",
       "year1999                                 1.955618   0.012278 159.280875  < 2.2e-16 ***\n",
       "year2000                                 2.148339   0.015256 140.815175  < 2.2e-16 ***\n",
       "year2001                                 2.457600   0.020200 121.661302  < 2.2e-16 ***\n",
       "year2002                                 2.679847   0.023800 112.596789  < 2.2e-16 ***\n",
       "year2003                                 3.082432   0.025645 120.196841  < 2.2e-16 ***\n",
       "year2004                                 3.529821   0.031598 111.711039  < 2.2e-16 ***\n",
       "year2005                                 3.767518   0.035363 106.539287  < 2.2e-16 ***\n",
       "year2006                                 3.637482   0.036844  98.727839  < 2.2e-16 ***\n",
       "year2007                                 3.241809   0.041358  78.384237  < 2.2e-16 ***\n",
       "year2008                                 3.214944   0.044493  72.257400  < 2.2e-16 ***\n",
       "year2009                                 3.591510   0.045677  78.627804  < 2.2e-16 ***\n",
       "---\n",
       "Signif. codes:  0 '***' 0.001 '**' 0.01 '*' 0.05 '.' 0.1 ' ' 1\n",
       "RMSE: 4.19044     Adj. R2: 0.615478\n",
       "                Within R2: 0.553813"
      ]
     },
     "metadata": {},
     "output_type": "display_data"
    }
   ],
   "source": [
    "summary(sf_model$best_model)"
   ]
  },
  {
   "cell_type": "code",
   "execution_count": 45,
   "id": "f9a3eee1-dddb-472e-9f53-9d85dc96e770",
   "metadata": {
    "execution": {
     "iopub.execute_input": "2024-06-23T22:16:19.376968Z",
     "iopub.status.busy": "2024-06-23T22:16:19.376334Z",
     "iopub.status.idle": "2024-06-23T22:16:19.540520Z",
     "shell.execute_reply": "2024-06-23T22:16:19.539618Z"
    }
   },
   "outputs": [
    {
     "name": "stderr",
     "output_type": "stream",
     "text": [
      "Warning message:\n",
      "“\u001b[1m\u001b[22mRemoved 40 rows containing missing values or values outside the scale range (`geom_line()`).”\n"
     ]
    },
    {
     "data": {
      "image/png": "[encoded data removed]",
      "text/plain": [
       "plot without title"
      ]
     },
     "metadata": {
      "image/png": {
       "height": 420,
       "width": 420
      }
     },
     "output_type": "display_data"
    }
   ],
   "source": [
    "sf_p <- create_effect_plot(sf, sf_model$best_model, sf_model$best_knot, dependent_var, weather_var, \"SF\")\n",
    "sf_p$plot"
   ]
  },
  {
   "cell_type": "markdown",
   "id": "87f72462-dbce-4907-9de4-fc42017cd690",
   "metadata": {},
   "source": [
    "# Original Braunvieh"
   ]
  },
  {
   "cell_type": "code",
   "execution_count": 46,
   "id": "a87ba09c-e38f-49ce-b3d5-0623ed8b8260",
   "metadata": {
    "execution": {
     "iopub.execute_input": "2024-06-23T22:16:19.543295Z",
     "iopub.status.busy": "2024-06-23T22:16:19.542643Z",
     "iopub.status.idle": "2024-06-23T22:16:32.921848Z",
     "shell.execute_reply": "2024-06-23T22:16:32.920907Z"
    }
   },
   "outputs": [
    {
     "name": "stderr",
     "output_type": "stream",
     "text": [
      "Variance contained negative values in the diagonal and was 'fixed' (a la Cameron, Gelbach & Miller 2011).\n",
      "\n"
     ]
    },
    {
     "name": "stderr",
     "output_type": "stream",
     "text": [
      "Variance contained negative values in the diagonal and was 'fixed' (a la Cameron, Gelbach & Miller 2011).\n",
      "\n"
     ]
    },
    {
     "name": "stderr",
     "output_type": "stream",
     "text": [
      "Variance contained negative values in the diagonal and was 'fixed' (a la Cameron, Gelbach & Miller 2011).\n",
      "\n"
     ]
    },
    {
     "name": "stderr",
     "output_type": "stream",
     "text": [
      "Variance contained negative values in the diagonal and was 'fixed' (a la Cameron, Gelbach & Miller 2011).\n",
      "\n"
     ]
    },
    {
     "name": "stderr",
     "output_type": "stream",
     "text": [
      "Variance contained negative values in the diagonal and was 'fixed' (a la Cameron, Gelbach & Miller 2011).\n",
      "\n"
     ]
    },
    {
     "name": "stderr",
     "output_type": "stream",
     "text": [
      "Variance contained negative values in the diagonal and was 'fixed' (a la Cameron, Gelbach & Miller 2011).\n",
      "\n"
     ]
    },
    {
     "name": "stderr",
     "output_type": "stream",
     "text": [
      "Variance contained negative values in the diagonal and was 'fixed' (a la Cameron, Gelbach & Miller 2011).\n",
      "\n"
     ]
    },
    {
     "name": "stderr",
     "output_type": "stream",
     "text": [
      "Variance contained negative values in the diagonal and was 'fixed' (a la Cameron, Gelbach & Miller 2011).\n",
      "\n"
     ]
    },
    {
     "name": "stderr",
     "output_type": "stream",
     "text": [
      "Variance contained negative values in the diagonal and was 'fixed' (a la Cameron, Gelbach & Miller 2011).\n",
      "\n"
     ]
    },
    {
     "name": "stderr",
     "output_type": "stream",
     "text": [
      "Variance contained negative values in the diagonal and was 'fixed' (a la Cameron, Gelbach & Miller 2011).\n",
      "\n"
     ]
    },
    {
     "name": "stderr",
     "output_type": "stream",
     "text": [
      "Variance contained negative values in the diagonal and was 'fixed' (a la Cameron, Gelbach & Miller 2011).\n",
      "\n"
     ]
    },
    {
     "name": "stderr",
     "output_type": "stream",
     "text": [
      "Variance contained negative values in the diagonal and was 'fixed' (a la Cameron, Gelbach & Miller 2011).\n",
      "\n"
     ]
    },
    {
     "name": "stderr",
     "output_type": "stream",
     "text": [
      "Variance contained negative values in the diagonal and was 'fixed' (a la Cameron, Gelbach & Miller 2011).\n",
      "\n"
     ]
    },
    {
     "name": "stderr",
     "output_type": "stream",
     "text": [
      "Variance contained negative values in the diagonal and was 'fixed' (a la Cameron, Gelbach & Miller 2011).\n",
      "\n"
     ]
    },
    {
     "name": "stderr",
     "output_type": "stream",
     "text": [
      "Variance contained negative values in the diagonal and was 'fixed' (a la Cameron, Gelbach & Miller 2011).\n",
      "\n"
     ]
    },
    {
     "name": "stderr",
     "output_type": "stream",
     "text": [
      "Variance contained negative values in the diagonal and was 'fixed' (a la Cameron, Gelbach & Miller 2011).\n",
      "\n"
     ]
    },
    {
     "name": "stderr",
     "output_type": "stream",
     "text": [
      "Variance contained negative values in the diagonal and was 'fixed' (a la Cameron, Gelbach & Miller 2011).\n",
      "\n"
     ]
    },
    {
     "name": "stdout",
     "output_type": "stream",
     "text": [
      "13.371 sec elapsed\n"
     ]
    }
   ],
   "source": [
    "tic()\n",
    "ob_model = run_models_with_knots(ob, knot_combs, dependent_var, weather_var)\n",
    "toc()"
   ]
  },
  {
   "cell_type": "code",
   "execution_count": 47,
   "id": "4e884e30-6ec9-4fc2-b284-4a6487172e2b",
   "metadata": {
    "execution": {
     "iopub.execute_input": "2024-06-23T22:16:32.924606Z",
     "iopub.status.busy": "2024-06-23T22:16:32.923913Z",
     "iopub.status.idle": "2024-06-23T22:16:32.932406Z",
     "shell.execute_reply": "2024-06-23T22:16:32.931606Z"
    }
   },
   "outputs": [
    {
     "data": {
      "text/html": [
       "'17_reduced_form_model_thi_mean_t0_3d_fixed_effect_1980-2009_2024_06_23_23_57_40_milk_ob_model.Rdata'"
      ],
      "text/latex": [
       "'17\\_reduced\\_form\\_model\\_thi\\_mean\\_t0\\_3d\\_fixed\\_effect\\_1980-2009\\_2024\\_06\\_23\\_23\\_57\\_40\\_milk\\_ob\\_model.Rdata'"
      ],
      "text/markdown": [
       "'17_reduced_form_model_thi_mean_t0_3d_fixed_effect_1980-2009_2024_06_23_23_57_40_milk_ob_model.Rdata'"
      ],
      "text/plain": [
       "[1] \"17_reduced_form_model_thi_mean_t0_3d_fixed_effect_1980-2009_2024_06_23_23_57_40_milk_ob_model.Rdata\""
      ]
     },
     "metadata": {},
     "output_type": "display_data"
    }
   ],
   "source": [
    "ob_model_name <- paste0(concatenated_string, \"_ob_model.Rdata\")\n",
    "ob_model_name"
   ]
  },
  {
   "cell_type": "code",
   "execution_count": 48,
   "id": "fdab3587-2a61-4e9b-b26c-e6cea235920c",
   "metadata": {
    "execution": {
     "iopub.execute_input": "2024-06-23T22:16:32.934936Z",
     "iopub.status.busy": "2024-06-23T22:16:32.934319Z",
     "iopub.status.idle": "2024-06-23T22:16:32.939970Z",
     "shell.execute_reply": "2024-06-23T22:16:32.939195Z"
    }
   },
   "outputs": [],
   "source": [
    "if (save) {\n",
    "    tic()\n",
    "    saveRDS(ob_model, file = ob_model_name, compress=T)\n",
    "    toc()\n",
    "}"
   ]
  },
  {
   "cell_type": "code",
   "execution_count": 49,
   "id": "6d576060-2b21-475d-bccf-837c2157a437",
   "metadata": {
    "execution": {
     "iopub.execute_input": "2024-06-23T22:16:32.942418Z",
     "iopub.status.busy": "2024-06-23T22:16:32.941776Z",
     "iopub.status.idle": "2024-06-23T22:16:32.948672Z",
     "shell.execute_reply": "2024-06-23T22:16:32.947906Z"
    }
   },
   "outputs": [
    {
     "data": {
      "text/html": [
       "55"
      ],
      "text/latex": [
       "55"
      ],
      "text/markdown": [
       "55"
      ],
      "text/plain": [
       "[1] 55"
      ]
     },
     "metadata": {},
     "output_type": "display_data"
    }
   ],
   "source": [
    "ob_model$best_knot"
   ]
  },
  {
   "cell_type": "code",
   "execution_count": 50,
   "id": "6c73cc59-b92a-4462-85bf-924d815557aa",
   "metadata": {
    "execution": {
     "iopub.execute_input": "2024-06-23T22:16:32.951075Z",
     "iopub.status.busy": "2024-06-23T22:16:32.950468Z",
     "iopub.status.idle": "2024-06-23T22:16:32.964160Z",
     "shell.execute_reply": "2024-06-23T22:16:32.963290Z"
    }
   },
   "outputs": [
    {
     "data": {
      "text/plain": [
       "OLS estimation, Dep. Var.: milk\n",
       "Observations: 745,474\n",
       "Fixed-effects: farmId: 5,781\n",
       "Standard-errors: Clustered (year & farmId) \n",
       "                                         Estimate Std. Error    t value   Pr(>|t|)    \n",
       "lspline(thi_mean_t0_3d, knots = c(55))1  0.028858   0.002942   9.810445 1.1980e-08 ***\n",
       "lspline(thi_mean_t0_3d, knots = c(55))2 -0.020690   0.005908  -3.501978 2.5455e-03 ** \n",
       "days_in_milk                            -0.036712   0.000375 -97.901525  < 2.2e-16 ***\n",
       "lactationNumber                          0.585458   0.019566  29.922312  < 2.2e-16 ***\n",
       "precip_mean_t0_3d                       -0.003034   0.005467  -0.554920 5.8578e-01    \n",
       "I(precip_mean_t0_3d^2)                   0.000022   0.000160   0.134527 8.9448e-01    \n",
       "year1992                                 0.328610   0.016759  19.608224 1.3550e-13 ***\n",
       "year1993                                 0.160392   0.017852   8.984538 4.5184e-08 ***\n",
       "year1994                                -0.038108   0.092530  -0.411845 6.8532e-01    \n",
       "year1995                                 0.024287   0.128646   0.188791 8.5237e-01    \n",
       "year1996                                 0.108074   0.135593   0.797048 4.3581e-01    \n",
       "year1997                                 0.493740   0.140496   3.514268 2.4770e-03 ** \n",
       "year1998                                 0.825656   0.149652   5.517168 3.0744e-05 ***\n",
       "year1999                                 0.823141   0.150593   5.466004 3.4250e-05 ***\n",
       "year2000                                 0.991777   0.147588   6.719897 2.6698e-06 ***\n",
       "year2001                                 1.388292   0.153911   9.020072 4.2605e-08 ***\n",
       "year2002                                 1.513252   0.155443   9.735110 1.3478e-08 ***\n",
       "year2003                                 1.794396   0.155119  11.567856 9.0869e-10 ***\n",
       "year2004                                 2.297073   0.153053  15.008332 1.2771e-11 ***\n",
       "year2005                                 2.257778   0.156889  14.390928 2.5739e-11 ***\n",
       "year2006                                 2.129187   0.156590  13.597239 6.5851e-11 ***\n",
       "year2007                                 2.030707   0.160290  12.668992 2.0969e-10 ***\n",
       "year2008                                 2.125248   0.159310  13.340307 9.0135e-11 ***\n",
       "year2009                                 2.542590   0.164403  15.465641 7.7203e-12 ***\n",
       "---\n",
       "Signif. codes:  0 '***' 0.001 '**' 0.01 '*' 0.05 '.' 0.1 ' ' 1\n",
       "RMSE: 3.66613     Adj. R2: 0.6102  \n",
       "                Within R2: 0.525789"
      ]
     },
     "metadata": {},
     "output_type": "display_data"
    }
   ],
   "source": [
    "summary(ob_model$best_model)"
   ]
  },
  {
   "cell_type": "code",
   "execution_count": 51,
   "id": "8c5e7189-4c89-4817-a91b-0cf069649a9f",
   "metadata": {
    "execution": {
     "iopub.execute_input": "2024-06-23T22:16:32.966650Z",
     "iopub.status.busy": "2024-06-23T22:16:32.966010Z",
     "iopub.status.idle": "2024-06-23T22:16:33.090286Z",
     "shell.execute_reply": "2024-06-23T22:16:33.089333Z"
    }
   },
   "outputs": [
    {
     "name": "stderr",
     "output_type": "stream",
     "text": [
      "Warning message:\n",
      "“\u001b[1m\u001b[22mRemoved 40 rows containing missing values or values outside the scale range (`geom_line()`).”\n"
     ]
    },
    {
     "data": {
      "image/png": "[encoded data removed]",
      "text/plain": [
       "plot without title"
      ]
     },
     "metadata": {
      "image/png": {
       "height": 420,
       "width": 420
      }
     },
     "output_type": "display_data"
    }
   ],
   "source": [
    "ob_p <- create_effect_plot(ob, ob_model$best_model, ob_model$best_knot, dependent_var, weather_var, \"OB\")\n",
    "ob_p$plot"
   ]
  },
  {
   "cell_type": "markdown",
   "id": "62d87ef9-7308-4550-8a96-00c809bb579f",
   "metadata": {},
   "source": [
    "## Merge data"
   ]
  },
  {
   "cell_type": "code",
   "execution_count": 52,
   "id": "d7387ef5-7381-4287-bcf1-43513897f8f0",
   "metadata": {
    "execution": {
     "iopub.execute_input": "2024-06-23T22:16:33.093096Z",
     "iopub.status.busy": "2024-06-23T22:16:33.092308Z",
     "iopub.status.idle": "2024-06-23T22:16:53.021175Z",
     "shell.execute_reply": "2024-06-23T22:16:53.020074Z"
    }
   },
   "outputs": [],
   "source": [
    "breed_effect_data <- merge_plot_data(list(ho_p$data, bs_p$data, sf_p$data, si_p$data, bs_p$data, je_p$data, ob_p$data))\n",
    "saveRDS(ob_model, file = paste0(concatenated_string, \"_plot_data.Rdata\"), compress=T)"
   ]
  },
  {
   "cell_type": "code",
   "execution_count": 53,
   "id": "53c3c9bc-2698-47cb-8891-58a4a9a3da21",
   "metadata": {
    "execution": {
     "iopub.execute_input": "2024-06-23T22:16:53.024559Z",
     "iopub.status.busy": "2024-06-23T22:16:53.023852Z",
     "iopub.status.idle": "2024-06-23T22:16:53.030990Z",
     "shell.execute_reply": "2024-06-23T22:16:53.030169Z"
    }
   },
   "outputs": [],
   "source": [
    "# Function to plot merged data\n",
    "plot_merged_data <- function(merged_data, predictor_var) {\n",
    "  # Create the plot\n",
    "    \n",
    "    y_min <- min(merged_data$Lower)\n",
    "    y_max <- max(merged_data$Upper)\n",
    "    plot <- ggplot(merged_data, aes(x = predictor_range, y = Effect, color = breed, fill = breed)) +\n",
    "    geom_line() +\n",
    "    geom_ribbon(aes(ymin = Lower, ymax = Upper), alpha = 0.3) +\n",
    "    labs(\n",
    "      title = paste0(\"Effect of\", predictor_var, \" per breed\"),\n",
    "      x = \"Predictor Variable Range\",\n",
    "      y = \"Effect\"\n",
    "    ) +\n",
    "    theme_minimal() +\n",
    "    scale_x_continuous(breaks = seq(40,  max(merged_data$predictor_range), by = 10), limits = c(40, max(merged_data$predictor_range))) +\n",
    "    scale_y_continuous(limits = c(y_min, y_max)) +\n",
    "    theme(\n",
    "      plot.title = element_text(hjust = 0.5),\n",
    "      plot.title.position = \"plot\",\n",
    "      axis.title.x = element_text(hjust = 0.5),\n",
    "      axis.title.y = element_text(hjust = 0.5)\n",
    "    ) +\n",
    "    facet_wrap(~ breed)\n",
    "  \n",
    "  \n",
    "  return(plot)\n",
    "}"
   ]
  },
  {
   "cell_type": "code",
   "execution_count": 54,
   "id": "6c0e96e2-74b3-448e-8c06-ce2bf91aeb30",
   "metadata": {
    "execution": {
     "iopub.execute_input": "2024-06-23T22:16:53.033547Z",
     "iopub.status.busy": "2024-06-23T22:16:53.032892Z",
     "iopub.status.idle": "2024-06-23T22:16:53.403373Z",
     "shell.execute_reply": "2024-06-23T22:16:53.402607Z"
    }
   },
   "outputs": [
    {
     "name": "stderr",
     "output_type": "stream",
     "text": [
      "Warning message:\n",
      "“\u001b[1m\u001b[22mRemoved 280 rows containing missing values or values outside the scale range (`geom_line()`).”\n"
     ]
    },
    {
     "data": {
      "image/png": "[encoded data removed]",
      "text/plain": [
       "plot without title"
      ]
     },
     "metadata": {
      "image/png": {
       "height": 420,
       "width": 420
      }
     },
     "output_type": "display_data"
    }
   ],
   "source": [
    "plot_merged_data(breed_effect_data, weather_var)"
   ]
  }
 ],
 "metadata": {
  "kernelspec": {
   "display_name": "R",
   "language": "R",
   "name": "ir"
  },
  "language_info": {
   "codemirror_mode": "r",
   "file_extension": ".r",
   "mimetype": "text/x-r-source",
   "name": "R",
   "pygments_lexer": "r",
   "version": "4.3.1"
  }
 },
 "nbformat": 4,
 "nbformat_minor": 5
}
