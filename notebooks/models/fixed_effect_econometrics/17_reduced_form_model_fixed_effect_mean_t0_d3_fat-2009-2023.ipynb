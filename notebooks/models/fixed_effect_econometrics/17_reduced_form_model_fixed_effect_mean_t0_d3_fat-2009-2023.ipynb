{
 "cells": [
  {
   "cell_type": "markdown",
   "id": "c2c9496c-1c4c-4462-a310-d1cf26c3d966",
   "metadata": {},
   "source": [
    "# Heat Stress Project - Fat"
   ]
  },
  {
   "cell_type": "markdown",
   "id": "4392f814-ee10-4530-83f1-289ae0d08075",
   "metadata": {},
   "source": [
    "# R Packages"
   ]
  },
  {
   "cell_type": "code",
   "execution_count": 1,
   "id": "ab732adf-9d48-4fd2-83c8-7115fbe5ffec",
   "metadata": {
    "execution": {
     "iopub.execute_input": "2024-06-24T00:16:39.589900Z",
     "iopub.status.busy": "2024-06-24T00:16:39.588101Z",
     "iopub.status.idle": "2024-06-24T00:16:41.328369Z",
     "shell.execute_reply": "2024-06-24T00:16:41.327422Z"
    },
    "vscode": {
     "languageId": "r"
    }
   },
   "outputs": [],
   "source": [
    "suppressPackageStartupMessages({\n",
    "  library(mgcv)\n",
    "  library(arrow)\n",
    "  library(dplyr)\n",
    "  library(tictoc)\n",
    "  library(fixest)\n",
    "  library(plm)\n",
    "  library(lspline)\n",
    "  library(lmerTest)\n",
    "  library(ggplot2)\n",
    "  library(car)\n",
    "  library(tidyverse)\n",
    "  library(lmtest)\n",
    "  library(rsample)\n",
    "  library(rlang)\n",
    "})\n",
    "options(width=1000)"
   ]
  },
  {
   "cell_type": "markdown",
   "id": "7b79ee07-be48-4182-9e1d-5b8e90796ee0",
   "metadata": {},
   "source": [
    "# Experiment Parameters"
   ]
  },
  {
   "cell_type": "code",
   "execution_count": 2,
   "id": "567b4c95-4615-4a4d-89f7-69ad7e582d6d",
   "metadata": {
    "execution": {
     "iopub.execute_input": "2024-06-24T00:16:41.347058Z",
     "iopub.status.busy": "2024-06-24T00:16:41.332600Z",
     "iopub.status.idle": "2024-06-24T00:16:41.365710Z",
     "shell.execute_reply": "2024-06-24T00:16:41.364951Z"
    },
    "vscode": {
     "languageId": "r"
    }
   },
   "outputs": [
    {
     "data": {
      "text/html": [
       "'17_reduced_form_model_thi_mean_t0_3d_fixed_effect_2009-2023_2024_06_24_02_16_41_fat'"
      ],
      "text/latex": [
       "'17\\_reduced\\_form\\_model\\_thi\\_mean\\_t0\\_3d\\_fixed\\_effect\\_2009-2023\\_2024\\_06\\_24\\_02\\_16\\_41\\_fat'"
      ],
      "text/markdown": [
       "'17_reduced_form_model_thi_mean_t0_3d_fixed_effect_2009-2023_2024_06_24_02_16_41_fat'"
      ],
      "text/plain": [
       "[1] \"17_reduced_form_model_thi_mean_t0_3d_fixed_effect_2009-2023_2024_06_24_02_16_41_fat\""
      ]
     },
     "metadata": {},
     "output_type": "display_data"
    }
   ],
   "source": [
    "set.seed(2024)\n",
    "period <- 2009:2023\n",
    "month <- 4:10\n",
    "start <- min(period)\n",
    "stop <- max(period)\n",
    "subsample <- F\n",
    "diagnostic <- F\n",
    "save <- F\n",
    "sample_size <- 100000\n",
    "dependent_var <- \"fat\"\n",
    "weather_var <- \"thi_mean_t0_3d\"\n",
    "breeds <- c(\"HO\", \"JE\", \"SI\", \"SF\", \"BS\", \"OB\")\n",
    "start_knot <- 35\n",
    "stop_knot <- 60\n",
    "concatenated_string <- paste0(\"17_reduced_form_model_thi_mean_t0_3d_fixed_effect_\", start, \"-\", stop, \"_\", format(Sys.time(), \"%Y_%m_%d_%H_%M_%S\"), \"_\", dependent_var)\n",
    "concatenated_string"
   ]
  },
  {
   "cell_type": "markdown",
   "id": "c760df71-db97-4415-8386-e044c449f77b",
   "metadata": {},
   "source": [
    "# Custom Functions"
   ]
  },
  {
   "cell_type": "code",
   "execution_count": 3,
   "id": "6f08bb6a-45f9-449f-8cfb-61b054c2a534",
   "metadata": {
    "execution": {
     "iopub.execute_input": "2024-06-24T00:16:41.368366Z",
     "iopub.status.busy": "2024-06-24T00:16:41.367727Z",
     "iopub.status.idle": "2024-06-24T00:16:41.373142Z",
     "shell.execute_reply": "2024-06-24T00:16:41.372400Z"
    },
    "vscode": {
     "languageId": "r"
    }
   },
   "outputs": [],
   "source": [
    "generate_diagnostic_plots <- function(model) {\n",
    "  # Extract fitted values and residuals\n",
    "  fitted_values <- fitted(model)\n",
    "  residuals <- residuals(model)\n",
    "  \n",
    "  # Create a data frame for plotting\n",
    "  plot_data <- data.frame(fitted_values = fitted_values, residuals = residuals)\n",
    "  print(nrow(plot_data))\n",
    "  \n",
    "  # Residuals vs Fitted Values Plot / Linearity & Homoscedacity\n",
    "  p1 <- ggplot(plot_data, aes(x = fitted_values, y = residuals)) +\n",
    "    geom_point(alpha = 0.5) +                       # Scatter plot of residuals\n",
    "    geom_smooth(method = \"loess\", col = \"red\", se = FALSE) +    # Smooth curve (loess)\n",
    "    labs(title = \"Residuals vs. Fitted Values\",\n",
    "         x = \"Fitted Values\",\n",
    "         y = \"Residuals\") +\n",
    "    theme_minimal() +\n",
    "    geom_hline(yintercept = 0, linetype = \"dashed\", color = \"blue\")\n",
    "  \n",
    "  # Normal distribution of residuals\n",
    "  p2 <- ggplot(plot_data, aes(sample = residuals)) +\n",
    "    stat_qq() +\n",
    "    stat_qq_line() +\n",
    "    labs(title = \"Normal Q-Q\",\n",
    "         x = \"Theoretical Quantiles\",\n",
    "         y = \"Residuals\") +\n",
    "    theme_minimal()\n",
    "  \n",
    "  # Scale-Location Plot (Homoscedacity - normally distributed standard error)\n",
    "  plot_data$std_residuals <- scale(residuals)\n",
    "  plot_data$abs_sqrt_residuals <- sqrt(abs(plot_data$std_residuals))\n",
    "  \n",
    "  p3 <- ggplot(plot_data, aes(fitted_values, abs_sqrt_residuals)) +\n",
    "    geom_point() +\n",
    "    geom_smooth(method = \"loess\", col = \"red\", se = FALSE) +\n",
    "    labs(title = \"Scale-Location Plot\",\n",
    "         x = \"Fitted values\",\n",
    "         y = \"√|Standardized residuals|\") +\n",
    "    theme_minimal()\n",
    "\n",
    "  p4 <- ggplot(plot_data, aes(x = residuals)) +\n",
    "    geom_histogram(binwidth = 0.5, fill = \"blue\", color = \"black\") +\n",
    "    labs(title = \"Histogram of Residuals\", x = \"Residuals\", y = \"Frequency\") +\n",
    "    theme_minimal()\n",
    " \n",
    "  # Return the plots as a list\n",
    "  list(\n",
    "    Residuals_vs_Fitted = p1,\n",
    "    Normal_QQ = p2,\n",
    "    Scale_Location = p3,\n",
    "    Residual_hist = p4\n",
    "  )\n",
    "}"
   ]
  },
  {
   "cell_type": "code",
   "execution_count": 4,
   "id": "618a30c9-d484-4d74-86e5-1c60361da06d",
   "metadata": {
    "execution": {
     "iopub.execute_input": "2024-06-24T00:16:41.375646Z",
     "iopub.status.busy": "2024-06-24T00:16:41.375040Z",
     "iopub.status.idle": "2024-06-24T00:16:41.381383Z",
     "shell.execute_reply": "2024-06-24T00:16:41.380652Z"
    },
    "vscode": {
     "languageId": "r"
    }
   },
   "outputs": [],
   "source": [
    "create_effect_plot <- function(data, model, knot, response_var, predictor_var, breed) {\n",
    "  # Create the range for the predictor variable\n",
    "  predictor_range <- seq(ceiling(min(data[predictor_var], na.rm = TRUE)), floor(max(data[predictor_var], na.rm = TRUE)))\n",
    "  # Calculate the effect\n",
    "  effect <- lspline(predictor_range, knots = knot) %*% coeftest(model)[,1][1:(length(knot)+1)]\n",
    "  \n",
    "  # Calculate the confidence intervals\n",
    "  effect_error_min <- effect - ((lspline(predictor_range, knots = knot)) %*% (abs(coeftest(model)[,2][1:(length(knot)+1)] * 1.96)))\n",
    "  effect_error_max <- effect + ((lspline(predictor_range, knots = knot)) %*% (abs(coeftest(model)[,2][1:(length(knot)+1)] * 1.96)))\n",
    "  \n",
    "  # Create the data frame for plotting\n",
    "  data_plot <- data.frame(\n",
    "    breed = breed,\n",
    "    predictor_range, \n",
    "    Effect = effect, \n",
    "    Lower = effect_error_min, \n",
    "    Upper = effect_error_max\n",
    "  )\n",
    "  \n",
    "  # Create the plot\n",
    "  plot <- ggplot(data_plot, aes(x = predictor_range, y = Effect)) +\n",
    "    geom_line(color = \"blue\") +\n",
    "    geom_ribbon(aes(ymin = Lower, ymax = Upper), alpha = 0.3, fill = \"blue\") +\n",
    "    labs(\n",
    "      title = paste(\"Effect of\", predictor_var, \"with Confidence Intervals\"),\n",
    "      x = paste(predictor_var, \"Range\"),\n",
    "      y = \"Effect\"\n",
    "    ) +\n",
    "    theme_minimal() + \n",
    "    scale_x_continuous(breaks = seq(40, 90, by = 10), limits = c(40, max(predictor_range))) +\n",
    "    theme(\n",
    "      plot.title = element_text(hjust = 0.5),\n",
    "      plot.title.position = \"plot\",\n",
    "      axis.title.x = element_text(hjust = 0.5),\n",
    "      axis.title.y = element_text(hjust = 0.5)\n",
    "    )\n",
    "  \n",
    "  return(list(plot = plot, data = data_plot))\n",
    "}\n",
    "\n",
    "merge_plot_data <- function(plot_data_list) {\n",
    "  # Combine the data frames from each plot into one data frame\n",
    "  merged_data <- bind_rows(plot_data_list)\n",
    "  \n",
    "  return(merged_data)\n",
    "}"
   ]
  },
  {
   "cell_type": "markdown",
   "id": "bae02f6f-4e0c-420c-bcf6-be06dc0d203f",
   "metadata": {},
   "source": [
    "# Load Data"
   ]
  },
  {
   "cell_type": "code",
   "execution_count": 5,
   "id": "1b4a878c-da52-4dda-bafb-8c8f1d9dbc05",
   "metadata": {
    "execution": {
     "iopub.execute_input": "2024-06-24T00:16:41.383872Z",
     "iopub.status.busy": "2024-06-24T00:16:41.383260Z",
     "iopub.status.idle": "2024-06-24T00:16:49.880355Z",
     "shell.execute_reply": "2024-06-24T00:16:49.879369Z"
    },
    "vscode": {
     "languageId": "r"
    }
   },
   "outputs": [],
   "source": [
    "milk_data <- read_parquet(\"/home/aschneuwl/workspace/agecon-thesis/notebooks/02_models/12_base_data.parquet\")"
   ]
  },
  {
   "cell_type": "code",
   "execution_count": 6,
   "id": "3b43fd3f-2220-4c57-acb6-6730b746bf64",
   "metadata": {
    "execution": {
     "iopub.execute_input": "2024-06-24T00:16:49.882945Z",
     "iopub.status.busy": "2024-06-24T00:16:49.882308Z",
     "iopub.status.idle": "2024-06-24T00:18:53.937596Z",
     "shell.execute_reply": "2024-06-24T00:18:53.936563Z"
    },
    "vscode": {
     "languageId": "r"
    }
   },
   "outputs": [],
   "source": [
    "milk_data$animalBreedCode <- as.factor(milk_data$animalBreedCode)\n",
    "milk_data$year <- as.factor(milk_data$year)\n",
    "milk_data$farmId <- as.factor(milk_data$farmId)\n",
    "milk_data$month <- as.factor(milk_data$month)\n",
    "milk_data$logmilk <- log(milk_data$milk)\n",
    "milkingMehtod <- as.factor(milk_data$milkingMethod)\n",
    "milk_data$zip <- as.factor(milk_data$zip)\n",
    "milk_data$days_in_milk <- as.numeric(milk_data$days_in_milk)\n",
    "milk_data$days_in_milk <- milk_data$days_in_milk / 86400\n",
    "milk_data$farm_year_interaction = interaction(milk_data$farmId, milk_data$year)\n",
    "milk_data$farm_month_interaction = interaction(milk_data$farmId, milk_data$month)\n",
    "\n",
    "milk_data$regular_season <- with(milk_data, \n",
    "    ifelse(month %in% c(\"3\", \"4\", \"5\"), \"spring\",\n",
    "    ifelse(month %in% c(\"6\", \"7\", \"8\"), \"summer\",\n",
    "    ifelse(month %in% c(\"9\", \"10\", \"11\"), \"fall\", \"winter\"))))\n",
    "\n",
    "# Convert the new variable to a factor\n",
    "milk_data$regular_season <- as.factor(milk_data$regular_season)\n",
    "milk_data$zip_regular_season <- interaction(milk_data$zip, milk_data$regular_season)\n",
    "\n",
    "# Create the interaction term between farmId and month_range\n",
    "milk_data$farmId_regular_season_interaction <- interaction(milk_data$farmId, milk_data$regular_season)\n",
    "\n",
    "milk_data$farm_season <- with(milk_data, \n",
    "    ifelse(month %in% c(\"4\", \"5\", \"6\", \"7\", \"8\", \"9\"), \"grazing\", \"nongrazing\"))\n",
    "\n",
    "# Convert the new variable to a factor\n",
    "milk_data$farm_season <- as.factor(milk_data$farm_season)\n",
    "\n",
    "# Create the interaction term between farmId and farm_seasons\n",
    "milk_data$farmId_farm_season_interaction <- interaction(milk_data$farmId, milk_data$farm_season)"
   ]
  },
  {
   "cell_type": "code",
   "execution_count": 7,
   "id": "5ecab535-5df5-47b5-856c-573654546b87",
   "metadata": {
    "execution": {
     "iopub.execute_input": "2024-06-24T00:18:53.945936Z",
     "iopub.status.busy": "2024-06-24T00:18:53.945276Z",
     "iopub.status.idle": "2024-06-24T00:21:22.574691Z",
     "shell.execute_reply": "2024-06-24T00:21:22.573583Z"
    },
    "vscode": {
     "languageId": "r"
    }
   },
   "outputs": [],
   "source": [
    "milk_data <- subset(milk_data, year %in% period)\n",
    "milk_data <- subset(milk_data, month %in% month)"
   ]
  },
  {
   "cell_type": "code",
   "execution_count": 8,
   "id": "fc60f9bb-6baf-4f18-a49d-ead3621b76b3",
   "metadata": {
    "execution": {
     "iopub.execute_input": "2024-06-24T00:21:22.584731Z",
     "iopub.status.busy": "2024-06-24T00:21:22.584047Z",
     "iopub.status.idle": "2024-06-24T00:21:22.590190Z",
     "shell.execute_reply": "2024-06-24T00:21:22.589410Z"
    },
    "vscode": {
     "languageId": "r"
    }
   },
   "outputs": [],
   "source": [
    "if (subsample) { \n",
    "    milk_data <- milk_data %>%\n",
    "      group_by(year, animalBreedCode) %>%\n",
    "      sample_frac(sample_size/nrow(milk_data)) %>% drop_na(get(weather_var))\n",
    "}"
   ]
  },
  {
   "cell_type": "code",
   "execution_count": 9,
   "id": "8ffad707-bd97-4406-8eda-3c8651d309a6",
   "metadata": {
    "execution": {
     "iopub.execute_input": "2024-06-24T00:21:22.592674Z",
     "iopub.status.busy": "2024-06-24T00:21:22.592058Z",
     "iopub.status.idle": "2024-06-24T00:21:40.322598Z",
     "shell.execute_reply": "2024-06-24T00:21:40.321561Z"
    },
    "vscode": {
     "languageId": "r"
    }
   },
   "outputs": [],
   "source": [
    "milk_data <- droplevels(milk_data)"
   ]
  },
  {
   "cell_type": "markdown",
   "id": "192c00df-6c2c-4225-86b0-0d9e21b23e5e",
   "metadata": {},
   "source": [
    "split data for each breed"
   ]
  },
  {
   "cell_type": "code",
   "execution_count": 10,
   "id": "fe9074d1-a992-4f7b-a838-3dfd9a900b61",
   "metadata": {
    "execution": {
     "iopub.execute_input": "2024-06-24T00:21:40.325522Z",
     "iopub.status.busy": "2024-06-24T00:21:40.324873Z",
     "iopub.status.idle": "2024-06-24T00:22:52.649323Z",
     "shell.execute_reply": "2024-06-24T00:22:52.648297Z"
    },
    "vscode": {
     "languageId": "r"
    }
   },
   "outputs": [],
   "source": [
    "je <- droplevels(subset(milk_data, animalBreedCode %in% c(\"JE\")) %>% drop_na(!!weather_var))\n",
    "bs <- droplevels(subset(milk_data, animalBreedCode %in% c(\"BS\")) %>% drop_na(!!weather_var))\n",
    "ho <- droplevels(subset(milk_data, animalBreedCode %in% c(\"HO\")) %>% drop_na(!!weather_var))\n",
    "ob <- droplevels(subset(milk_data, animalBreedCode %in% c(\"OB\")) %>% drop_na(!!weather_var))\n",
    "si <- droplevels(subset(milk_data, animalBreedCode %in% c(\"SI\")) %>% drop_na(!!weather_var))\n",
    "sf <- droplevels(subset(milk_data, animalBreedCode %in% c(\"SF\")) %>% drop_na(!!weather_var))"
   ]
  },
  {
   "cell_type": "code",
   "execution_count": 11,
   "id": "4830279e-353b-4192-8a05-6044e496a81c",
   "metadata": {
    "execution": {
     "iopub.execute_input": "2024-06-24T00:22:52.654979Z",
     "iopub.status.busy": "2024-06-24T00:22:52.654319Z",
     "iopub.status.idle": "2024-06-24T00:22:54.062154Z",
     "shell.execute_reply": "2024-06-24T00:22:54.061326Z"
    },
    "vscode": {
     "languageId": "r"
    }
   },
   "outputs": [
    {
     "data": {
      "image/png": "[encoded data removed]",
      "text/plain": [
       "Plot with title “Histogram of eval(parse(text = paste0(\"milk_data$\", dependent_var)))”"
      ]
     },
     "metadata": {
      "image/png": {
       "height": 420,
       "width": 420
      }
     },
     "output_type": "display_data"
    }
   ],
   "source": [
    "hist(eval(parse(text = paste0(\"milk_data$\", dependent_var))))"
   ]
  },
  {
   "cell_type": "code",
   "execution_count": 12,
   "id": "5e24fc1e-bc84-4dca-b24e-282f72e48d6a",
   "metadata": {
    "execution": {
     "iopub.execute_input": "2024-06-24T00:22:54.064569Z",
     "iopub.status.busy": "2024-06-24T00:22:54.063938Z",
     "iopub.status.idle": "2024-06-24T00:22:54.069564Z",
     "shell.execute_reply": "2024-06-24T00:22:54.068827Z"
    },
    "vscode": {
     "languageId": "r"
    }
   },
   "outputs": [],
   "source": [
    "rm(milk_data)"
   ]
  },
  {
   "cell_type": "markdown",
   "id": "9a179b0d-ff2e-46f6-a2c3-ec09cca99637",
   "metadata": {},
   "source": [
    "# Piecewise Linear THI - Reduced Form Piecewise Linear Fixed Effect Model"
   ]
  },
  {
   "cell_type": "code",
   "execution_count": 13,
   "id": "aa1be5ae-eedb-4a3b-a7ef-23eaf6ada228",
   "metadata": {
    "execution": {
     "iopub.execute_input": "2024-06-24T00:22:54.071889Z",
     "iopub.status.busy": "2024-06-24T00:22:54.071290Z",
     "iopub.status.idle": "2024-06-24T00:22:54.078089Z",
     "shell.execute_reply": "2024-06-24T00:22:54.077333Z"
    },
    "vscode": {
     "languageId": "r"
    }
   },
   "outputs": [],
   "source": [
    "pl_clu <- c(\"year\", \"farmId\")\n",
    "\n",
    "run_models_with_knots <- function(data, knot_sequence, dep_var_name, weather_var) {\n",
    "  best_rss <- Inf\n",
    "  best_knot_comb <- NULL\n",
    "  \n",
    "  # Loop over each knot value\n",
    "  for (i in 1:length(knot_sequence)) {\n",
    "    knots <- paste(knot_sequence[[i]], collapse = \",\")\n",
    "    f <- paste0(dep_var_name, \"~\", \"lspline(\", weather_var, \", knots=c(\", knots, \")) + days_in_milk + lactationNumber + precip_mean_t0_3d + precip_mean_t0_3d^2 + year | farmId\")\n",
    "    pl_form <- as.formula(f)\n",
    "    model <- feols(pl_form, data = data, cluster = pl_clu)\n",
    "    \n",
    "    # Calculate RSS for the current model\n",
    "    current_rss <- sum(residuals(model)^2)\n",
    "    \n",
    "    # Check if this model has the lowest RSS so far\n",
    "    if (current_rss < best_rss) {\n",
    "      best_rss <- current_rss\n",
    "      best_knot_comb <- knot_sequence[[i]]\n",
    "    }\n",
    "  }\n",
    "  \n",
    "  # Recompute the best model for storage reasons\n",
    "  knots <- paste(best_knot_comb, collapse = \",\")\n",
    "  f <- paste0(dep_var_name, \"~\", \"lspline(\", weather_var, \", knots=c(\", knots, \")) + days_in_milk + lactationNumber + precip_mean_t0_3d + precip_mean_t0_3d^2 + year | farmId\")\n",
    "  pl_form <- as.formula(f)\n",
    "  best_model <- feols(pl_form, data = data, cluster = pl_clu, lean = T)\n",
    "  gc()\n",
    "  \n",
    "  # Return a list containing the best knot combination, the best model, and its RSS\n",
    "  return(list(best_knot = best_knot_comb, best_model_rss = best_rss, best_model = best_model))\n",
    "}\n",
    "\n"
   ]
  },
  {
   "cell_type": "code",
   "execution_count": 14,
   "id": "5884625c-1e99-4f1d-9db4-3c3e8c0546cd",
   "metadata": {
    "execution": {
     "iopub.execute_input": "2024-06-24T00:22:54.080334Z",
     "iopub.status.busy": "2024-06-24T00:22:54.079739Z",
     "iopub.status.idle": "2024-06-24T00:22:54.088274Z",
     "shell.execute_reply": "2024-06-24T00:22:54.087554Z"
    },
    "vscode": {
     "languageId": "r"
    }
   },
   "outputs": [],
   "source": [
    "knot_combs <- list()\n",
    "for (i in start_knot:stop_knot) {\n",
    "    j <- i - start_knot + 1\n",
    "  knot_combs[[j]] <- c(i)\n",
    "}"
   ]
  },
  {
   "cell_type": "code",
   "execution_count": 15,
   "id": "1f294215-79ef-48ef-bd26-18f0605cce6f",
   "metadata": {
    "execution": {
     "iopub.execute_input": "2024-06-24T00:22:54.090514Z",
     "iopub.status.busy": "2024-06-24T00:22:54.089915Z",
     "iopub.status.idle": "2024-06-24T00:22:54.094354Z",
     "shell.execute_reply": "2024-06-24T00:22:54.093596Z"
    },
    "vscode": {
     "languageId": "r"
    }
   },
   "outputs": [],
   "source": [
    "#knot_combs[[length(knot_combs)+1]] <- seq(from = 0, to = 80, by = 5)"
   ]
  },
  {
   "cell_type": "markdown",
   "id": "47ec63b4-0431-403d-88ac-09624fb10357",
   "metadata": {},
   "source": [
    "## Jersey"
   ]
  },
  {
   "cell_type": "code",
   "execution_count": 16,
   "id": "8ee84d1e-685d-45e9-b08d-042338e9cf0f",
   "metadata": {
    "execution": {
     "iopub.execute_input": "2024-06-24T00:22:54.096619Z",
     "iopub.status.busy": "2024-06-24T00:22:54.096014Z",
     "iopub.status.idle": "2024-06-24T00:23:11.965220Z",
     "shell.execute_reply": "2024-06-24T00:23:11.964307Z"
    },
    "vscode": {
     "languageId": "r"
    }
   },
   "outputs": [
    {
     "name": "stderr",
     "output_type": "stream",
     "text": [
      "Variance contained negative values in the diagonal and was 'fixed' (a la Cameron, Gelbach & Miller 2011).\n",
      "\n"
     ]
    },
    {
     "name": "stderr",
     "output_type": "stream",
     "text": [
      "Variance contained negative values in the diagonal and was 'fixed' (a la Cameron, Gelbach & Miller 2011).\n",
      "\n"
     ]
    },
    {
     "name": "stderr",
     "output_type": "stream",
     "text": [
      "Variance contained negative values in the diagonal and was 'fixed' (a la Cameron, Gelbach & Miller 2011).\n",
      "\n"
     ]
    },
    {
     "name": "stderr",
     "output_type": "stream",
     "text": [
      "Variance contained negative values in the diagonal and was 'fixed' (a la Cameron, Gelbach & Miller 2011).\n",
      "\n"
     ]
    },
    {
     "name": "stderr",
     "output_type": "stream",
     "text": [
      "Variance contained negative values in the diagonal and was 'fixed' (a la Cameron, Gelbach & Miller 2011).\n",
      "\n"
     ]
    },
    {
     "name": "stderr",
     "output_type": "stream",
     "text": [
      "Variance contained negative values in the diagonal and was 'fixed' (a la Cameron, Gelbach & Miller 2011).\n",
      "\n"
     ]
    },
    {
     "name": "stderr",
     "output_type": "stream",
     "text": [
      "Variance contained negative values in the diagonal and was 'fixed' (a la Cameron, Gelbach & Miller 2011).\n",
      "\n"
     ]
    },
    {
     "name": "stderr",
     "output_type": "stream",
     "text": [
      "Variance contained negative values in the diagonal and was 'fixed' (a la Cameron, Gelbach & Miller 2011).\n",
      "\n"
     ]
    },
    {
     "name": "stderr",
     "output_type": "stream",
     "text": [
      "Variance contained negative values in the diagonal and was 'fixed' (a la Cameron, Gelbach & Miller 2011).\n",
      "\n"
     ]
    },
    {
     "name": "stderr",
     "output_type": "stream",
     "text": [
      "Variance contained negative values in the diagonal and was 'fixed' (a la Cameron, Gelbach & Miller 2011).\n",
      "\n"
     ]
    },
    {
     "name": "stderr",
     "output_type": "stream",
     "text": [
      "Variance contained negative values in the diagonal and was 'fixed' (a la Cameron, Gelbach & Miller 2011).\n",
      "\n"
     ]
    },
    {
     "name": "stderr",
     "output_type": "stream",
     "text": [
      "Variance contained negative values in the diagonal and was 'fixed' (a la Cameron, Gelbach & Miller 2011).\n",
      "\n"
     ]
    },
    {
     "name": "stderr",
     "output_type": "stream",
     "text": [
      "Variance contained negative values in the diagonal and was 'fixed' (a la Cameron, Gelbach & Miller 2011).\n",
      "\n"
     ]
    },
    {
     "name": "stderr",
     "output_type": "stream",
     "text": [
      "Variance contained negative values in the diagonal and was 'fixed' (a la Cameron, Gelbach & Miller 2011).\n",
      "\n"
     ]
    },
    {
     "name": "stderr",
     "output_type": "stream",
     "text": [
      "Variance contained negative values in the diagonal and was 'fixed' (a la Cameron, Gelbach & Miller 2011).\n",
      "\n"
     ]
    },
    {
     "name": "stderr",
     "output_type": "stream",
     "text": [
      "Variance contained negative values in the diagonal and was 'fixed' (a la Cameron, Gelbach & Miller 2011).\n",
      "\n"
     ]
    },
    {
     "name": "stderr",
     "output_type": "stream",
     "text": [
      "Variance contained negative values in the diagonal and was 'fixed' (a la Cameron, Gelbach & Miller 2011).\n",
      "\n"
     ]
    },
    {
     "name": "stderr",
     "output_type": "stream",
     "text": [
      "Variance contained negative values in the diagonal and was 'fixed' (a la Cameron, Gelbach & Miller 2011).\n",
      "\n"
     ]
    },
    {
     "name": "stderr",
     "output_type": "stream",
     "text": [
      "Variance contained negative values in the diagonal and was 'fixed' (a la Cameron, Gelbach & Miller 2011).\n",
      "\n"
     ]
    },
    {
     "name": "stderr",
     "output_type": "stream",
     "text": [
      "Variance contained negative values in the diagonal and was 'fixed' (a la Cameron, Gelbach & Miller 2011).\n",
      "\n"
     ]
    },
    {
     "name": "stderr",
     "output_type": "stream",
     "text": [
      "Variance contained negative values in the diagonal and was 'fixed' (a la Cameron, Gelbach & Miller 2011).\n",
      "\n"
     ]
    },
    {
     "name": "stderr",
     "output_type": "stream",
     "text": [
      "Variance contained negative values in the diagonal and was 'fixed' (a la Cameron, Gelbach & Miller 2011).\n",
      "\n"
     ]
    },
    {
     "name": "stderr",
     "output_type": "stream",
     "text": [
      "Variance contained negative values in the diagonal and was 'fixed' (a la Cameron, Gelbach & Miller 2011).\n",
      "\n"
     ]
    },
    {
     "name": "stderr",
     "output_type": "stream",
     "text": [
      "Variance contained negative values in the diagonal and was 'fixed' (a la Cameron, Gelbach & Miller 2011).\n",
      "\n"
     ]
    },
    {
     "name": "stderr",
     "output_type": "stream",
     "text": [
      "Variance contained negative values in the diagonal and was 'fixed' (a la Cameron, Gelbach & Miller 2011).\n",
      "\n"
     ]
    },
    {
     "name": "stderr",
     "output_type": "stream",
     "text": [
      "Variance contained negative values in the diagonal and was 'fixed' (a la Cameron, Gelbach & Miller 2011).\n",
      "\n"
     ]
    },
    {
     "name": "stderr",
     "output_type": "stream",
     "text": [
      "Variance contained negative values in the diagonal and was 'fixed' (a la Cameron, Gelbach & Miller 2011).\n",
      "\n"
     ]
    },
    {
     "name": "stdout",
     "output_type": "stream",
     "text": [
      "17.863 sec elapsed\n"
     ]
    }
   ],
   "source": [
    "tic()\n",
    "je_model = run_models_with_knots(droplevels(je), knot_combs, dependent_var, weather_var)\n",
    "toc()"
   ]
  },
  {
   "cell_type": "code",
   "execution_count": 17,
   "id": "5e946937-f240-4dc8-9bc5-46cda5610a3f",
   "metadata": {
    "execution": {
     "iopub.execute_input": "2024-06-24T00:23:11.968083Z",
     "iopub.status.busy": "2024-06-24T00:23:11.967427Z",
     "iopub.status.idle": "2024-06-24T00:23:11.975565Z",
     "shell.execute_reply": "2024-06-24T00:23:11.974791Z"
    },
    "vscode": {
     "languageId": "r"
    }
   },
   "outputs": [
    {
     "data": {
      "text/html": [
       "'17_reduced_form_model_thi_mean_t0_3d_fixed_effect_2009-2023_2024_06_24_02_16_41_fat_jersey_model.Rdata'"
      ],
      "text/latex": [
       "'17\\_reduced\\_form\\_model\\_thi\\_mean\\_t0\\_3d\\_fixed\\_effect\\_2009-2023\\_2024\\_06\\_24\\_02\\_16\\_41\\_fat\\_jersey\\_model.Rdata'"
      ],
      "text/markdown": [
       "'17_reduced_form_model_thi_mean_t0_3d_fixed_effect_2009-2023_2024_06_24_02_16_41_fat_jersey_model.Rdata'"
      ],
      "text/plain": [
       "[1] \"17_reduced_form_model_thi_mean_t0_3d_fixed_effect_2009-2023_2024_06_24_02_16_41_fat_jersey_model.Rdata\""
      ]
     },
     "metadata": {},
     "output_type": "display_data"
    }
   ],
   "source": [
    "jersey_model_name <- paste0(concatenated_string, \"_jersey_model.Rdata\")\n",
    "jersey_model_name"
   ]
  },
  {
   "cell_type": "code",
   "execution_count": 18,
   "id": "a7c51863-3cc7-435f-86b6-f24efcb20990",
   "metadata": {
    "execution": {
     "iopub.execute_input": "2024-06-24T00:23:11.977977Z",
     "iopub.status.busy": "2024-06-24T00:23:11.977343Z",
     "iopub.status.idle": "2024-06-24T00:23:11.982865Z",
     "shell.execute_reply": "2024-06-24T00:23:11.982089Z"
    },
    "vscode": {
     "languageId": "r"
    }
   },
   "outputs": [],
   "source": [
    "if (save) {\n",
    "    tic()\n",
    "    saveRDS(je_model, file = jersey_model_name, compress=T)\n",
    "    toc()\n",
    "}"
   ]
  },
  {
   "cell_type": "code",
   "execution_count": 19,
   "id": "a140a1ef-a621-42af-9601-dfe8d17d25b1",
   "metadata": {
    "execution": {
     "iopub.execute_input": "2024-06-24T00:23:11.985223Z",
     "iopub.status.busy": "2024-06-24T00:23:11.984596Z",
     "iopub.status.idle": "2024-06-24T00:23:11.991304Z",
     "shell.execute_reply": "2024-06-24T00:23:11.990548Z"
    },
    "vscode": {
     "languageId": "r"
    }
   },
   "outputs": [
    {
     "data": {
      "text/html": [
       "36"
      ],
      "text/latex": [
       "36"
      ],
      "text/markdown": [
       "36"
      ],
      "text/plain": [
       "[1] 36"
      ]
     },
     "metadata": {},
     "output_type": "display_data"
    }
   ],
   "source": [
    "je_model$best_knot"
   ]
  },
  {
   "cell_type": "code",
   "execution_count": 20,
   "id": "642aaec2-e27c-478e-9a92-2b78c01c64b6",
   "metadata": {
    "execution": {
     "iopub.execute_input": "2024-06-24T00:23:11.993631Z",
     "iopub.status.busy": "2024-06-24T00:23:11.993002Z",
     "iopub.status.idle": "2024-06-24T00:23:12.010780Z",
     "shell.execute_reply": "2024-06-24T00:23:12.010016Z"
    },
    "vscode": {
     "languageId": "r"
    }
   },
   "outputs": [
    {
     "data": {
      "text/plain": [
       "OLS estimation, Dep. Var.: fat\n",
       "Observations: 533,462\n",
       "Fixed-effects: farmId: 3,891\n",
       "Standard-errors: Clustered (year & farmId) \n",
       "                                         Estimate Std. Error    t value   Pr(>|t|)    \n",
       "lspline(thi_mean_t0_3d, knots = c(36))1 -0.007040   0.001224  -5.752470 5.0026e-05 ***\n",
       "lspline(thi_mean_t0_3d, knots = c(36))2 -0.020305   0.000747 -27.189267 1.6180e-13 ***\n",
       "days_in_milk                             0.003238   0.000070  46.333095  < 2.2e-16 ***\n",
       "lactationNumber                          0.018950   0.002978   6.364024 1.7567e-05 ***\n",
       "precip_mean_t0_3d                       -0.000508   0.000887  -0.572914 5.7579e-01    \n",
       "I(precip_mean_t0_3d^2)                   0.000026   0.000024   1.100828 2.8954e-01    \n",
       "year2010                                -0.010545   0.005935  -1.776630 9.7355e-02 .  \n",
       "year2011                                -0.004668   0.005234  -0.891777 3.8758e-01    \n",
       "year2012                                -0.002335   0.007488  -0.311846 7.5975e-01    \n",
       "year2013                                -0.051114   0.005738  -8.908604 3.8317e-07 ***\n",
       "year2014                                -0.079868   0.008860  -9.014260 3.3243e-07 ***\n",
       "year2015                                -0.086327   0.010977  -7.864087 1.6708e-06 ***\n",
       "year2016                                -0.063290   0.011332  -5.585145 6.7214e-05 ***\n",
       "year2017                                -0.097998   0.015811  -6.198090 2.3216e-05 ***\n",
       "year2018                                -0.091938   0.019738  -4.658000 3.6944e-04 ***\n",
       "year2019                                -0.103497   0.020889  -4.954677 2.1160e-04 ***\n",
       "year2020                                -0.094870   0.021287  -4.456643 5.4244e-04 ***\n",
       "year2021                                -0.110408   0.023783  -4.642281 3.8062e-04 ***\n",
       "year2022                                -0.160542   0.025505  -6.294444 1.9737e-05 ***\n",
       "year2023                                -0.102893   0.023914  -4.302559 7.2992e-04 ***\n",
       "---\n",
       "Signif. codes:  0 '***' 0.001 '**' 0.01 '*' 0.05 '.' 0.1 ' ' 1\n",
       "RMSE: 0.764794     Adj. R2: 0.301585\n",
       "                 Within R2: 0.204329"
      ]
     },
     "metadata": {},
     "output_type": "display_data"
    }
   ],
   "source": [
    "summary(je_model$best_model)"
   ]
  },
  {
   "cell_type": "code",
   "execution_count": 21,
   "id": "4e3198ba-3ceb-421d-aee8-d44688ecf2ab",
   "metadata": {
    "execution": {
     "iopub.execute_input": "2024-06-24T00:23:12.013148Z",
     "iopub.status.busy": "2024-06-24T00:23:12.012523Z",
     "iopub.status.idle": "2024-06-24T00:23:12.214115Z",
     "shell.execute_reply": "2024-06-24T00:23:12.213266Z"
    },
    "vscode": {
     "languageId": "r"
    }
   },
   "outputs": [
    {
     "name": "stderr",
     "output_type": "stream",
     "text": [
      "Warning message:\n",
      "“\u001b[1m\u001b[22mRemoved 38 rows containing missing values or values outside the scale range (`geom_line()`).”\n"
     ]
    },
    {
     "data": {
      "image/png": "[encoded data removed]",
      "text/plain": [
       "plot without title"
      ]
     },
     "metadata": {
      "image/png": {
       "height": 420,
       "width": 420
      }
     },
     "output_type": "display_data"
    }
   ],
   "source": [
    "je_p <- create_effect_plot(je, je_model$best_model, je_model$best_knot, dependent_var, weather_var, \"JE\")\n",
    "je_p$plot"
   ]
  },
  {
   "cell_type": "markdown",
   "id": "6df89c39-7af4-40e8-a377-167eaf503847",
   "metadata": {},
   "source": [
    "## Holstein"
   ]
  },
  {
   "cell_type": "code",
   "execution_count": 22,
   "id": "4cac70a6-3972-427c-9699-9f20a2f3a6c1",
   "metadata": {
    "execution": {
     "iopub.execute_input": "2024-06-24T00:23:12.217139Z",
     "iopub.status.busy": "2024-06-24T00:23:12.216474Z",
     "iopub.status.idle": "2024-06-24T00:29:06.657357Z",
     "shell.execute_reply": "2024-06-24T00:29:06.656539Z"
    },
    "vscode": {
     "languageId": "r"
    }
   },
   "outputs": [
    {
     "name": "stderr",
     "output_type": "stream",
     "text": [
      "Variance contained negative values in the diagonal and was 'fixed' (a la Cameron, Gelbach & Miller 2011).\n",
      "\n"
     ]
    },
    {
     "name": "stderr",
     "output_type": "stream",
     "text": [
      "Variance contained negative values in the diagonal and was 'fixed' (a la Cameron, Gelbach & Miller 2011).\n",
      "\n"
     ]
    },
    {
     "name": "stderr",
     "output_type": "stream",
     "text": [
      "Variance contained negative values in the diagonal and was 'fixed' (a la Cameron, Gelbach & Miller 2011).\n",
      "\n"
     ]
    },
    {
     "name": "stderr",
     "output_type": "stream",
     "text": [
      "Variance contained negative values in the diagonal and was 'fixed' (a la Cameron, Gelbach & Miller 2011).\n",
      "\n"
     ]
    },
    {
     "name": "stderr",
     "output_type": "stream",
     "text": [
      "Variance contained negative values in the diagonal and was 'fixed' (a la Cameron, Gelbach & Miller 2011).\n",
      "\n"
     ]
    },
    {
     "name": "stderr",
     "output_type": "stream",
     "text": [
      "Variance contained negative values in the diagonal and was 'fixed' (a la Cameron, Gelbach & Miller 2011).\n",
      "\n"
     ]
    },
    {
     "name": "stderr",
     "output_type": "stream",
     "text": [
      "Variance contained negative values in the diagonal and was 'fixed' (a la Cameron, Gelbach & Miller 2011).\n",
      "\n"
     ]
    },
    {
     "name": "stderr",
     "output_type": "stream",
     "text": [
      "Variance contained negative values in the diagonal and was 'fixed' (a la Cameron, Gelbach & Miller 2011).\n",
      "\n"
     ]
    },
    {
     "name": "stderr",
     "output_type": "stream",
     "text": [
      "Variance contained negative values in the diagonal and was 'fixed' (a la Cameron, Gelbach & Miller 2011).\n",
      "\n"
     ]
    },
    {
     "name": "stderr",
     "output_type": "stream",
     "text": [
      "Variance contained negative values in the diagonal and was 'fixed' (a la Cameron, Gelbach & Miller 2011).\n",
      "\n"
     ]
    },
    {
     "name": "stderr",
     "output_type": "stream",
     "text": [
      "Variance contained negative values in the diagonal and was 'fixed' (a la Cameron, Gelbach & Miller 2011).\n",
      "\n"
     ]
    },
    {
     "name": "stderr",
     "output_type": "stream",
     "text": [
      "Variance contained negative values in the diagonal and was 'fixed' (a la Cameron, Gelbach & Miller 2011).\n",
      "\n"
     ]
    },
    {
     "name": "stderr",
     "output_type": "stream",
     "text": [
      "Variance contained negative values in the diagonal and was 'fixed' (a la Cameron, Gelbach & Miller 2011).\n",
      "\n"
     ]
    },
    {
     "name": "stderr",
     "output_type": "stream",
     "text": [
      "Variance contained negative values in the diagonal and was 'fixed' (a la Cameron, Gelbach & Miller 2011).\n",
      "\n"
     ]
    },
    {
     "name": "stderr",
     "output_type": "stream",
     "text": [
      "Variance contained negative values in the diagonal and was 'fixed' (a la Cameron, Gelbach & Miller 2011).\n",
      "\n"
     ]
    },
    {
     "name": "stderr",
     "output_type": "stream",
     "text": [
      "Variance contained negative values in the diagonal and was 'fixed' (a la Cameron, Gelbach & Miller 2011).\n",
      "\n"
     ]
    },
    {
     "name": "stderr",
     "output_type": "stream",
     "text": [
      "Variance contained negative values in the diagonal and was 'fixed' (a la Cameron, Gelbach & Miller 2011).\n",
      "\n"
     ]
    },
    {
     "name": "stderr",
     "output_type": "stream",
     "text": [
      "Variance contained negative values in the diagonal and was 'fixed' (a la Cameron, Gelbach & Miller 2011).\n",
      "\n"
     ]
    },
    {
     "name": "stderr",
     "output_type": "stream",
     "text": [
      "Variance contained negative values in the diagonal and was 'fixed' (a la Cameron, Gelbach & Miller 2011).\n",
      "\n"
     ]
    },
    {
     "name": "stderr",
     "output_type": "stream",
     "text": [
      "Variance contained negative values in the diagonal and was 'fixed' (a la Cameron, Gelbach & Miller 2011).\n",
      "\n"
     ]
    },
    {
     "name": "stderr",
     "output_type": "stream",
     "text": [
      "Variance contained negative values in the diagonal and was 'fixed' (a la Cameron, Gelbach & Miller 2011).\n",
      "\n"
     ]
    },
    {
     "name": "stderr",
     "output_type": "stream",
     "text": [
      "Variance contained negative values in the diagonal and was 'fixed' (a la Cameron, Gelbach & Miller 2011).\n",
      "\n"
     ]
    },
    {
     "name": "stderr",
     "output_type": "stream",
     "text": [
      "Variance contained negative values in the diagonal and was 'fixed' (a la Cameron, Gelbach & Miller 2011).\n",
      "\n"
     ]
    },
    {
     "name": "stderr",
     "output_type": "stream",
     "text": [
      "Variance contained negative values in the diagonal and was 'fixed' (a la Cameron, Gelbach & Miller 2011).\n",
      "\n"
     ]
    },
    {
     "name": "stderr",
     "output_type": "stream",
     "text": [
      "Variance contained negative values in the diagonal and was 'fixed' (a la Cameron, Gelbach & Miller 2011).\n",
      "\n"
     ]
    },
    {
     "name": "stderr",
     "output_type": "stream",
     "text": [
      "Variance contained negative values in the diagonal and was 'fixed' (a la Cameron, Gelbach & Miller 2011).\n",
      "\n"
     ]
    },
    {
     "name": "stderr",
     "output_type": "stream",
     "text": [
      "Variance contained negative values in the diagonal and was 'fixed' (a la Cameron, Gelbach & Miller 2011).\n",
      "\n"
     ]
    },
    {
     "name": "stdout",
     "output_type": "stream",
     "text": [
      "354.433 sec elapsed\n"
     ]
    }
   ],
   "source": [
    "tic()\n",
    "ho_model = run_models_with_knots(ho, knot_combs, dependent_var, weather_var)\n",
    "toc()"
   ]
  },
  {
   "cell_type": "code",
   "execution_count": 23,
   "id": "6ba6c8c6-6dcc-4e07-8a02-3901be7e0072",
   "metadata": {
    "execution": {
     "iopub.execute_input": "2024-06-24T00:29:06.676681Z",
     "iopub.status.busy": "2024-06-24T00:29:06.676066Z",
     "iopub.status.idle": "2024-06-24T00:29:06.683592Z",
     "shell.execute_reply": "2024-06-24T00:29:06.682843Z"
    },
    "vscode": {
     "languageId": "r"
    }
   },
   "outputs": [
    {
     "data": {
      "text/html": [
       "'17_reduced_form_model_thi_mean_t0_3d_fixed_effect_2009-2023_2024_06_24_02_16_41_fat_ho_model.Rdata'"
      ],
      "text/latex": [
       "'17\\_reduced\\_form\\_model\\_thi\\_mean\\_t0\\_3d\\_fixed\\_effect\\_2009-2023\\_2024\\_06\\_24\\_02\\_16\\_41\\_fat\\_ho\\_model.Rdata'"
      ],
      "text/markdown": [
       "'17_reduced_form_model_thi_mean_t0_3d_fixed_effect_2009-2023_2024_06_24_02_16_41_fat_ho_model.Rdata'"
      ],
      "text/plain": [
       "[1] \"17_reduced_form_model_thi_mean_t0_3d_fixed_effect_2009-2023_2024_06_24_02_16_41_fat_ho_model.Rdata\""
      ]
     },
     "metadata": {},
     "output_type": "display_data"
    }
   ],
   "source": [
    "ho_model_name <- paste0(concatenated_string, \"_ho_model.Rdata\")\n",
    "ho_model_name"
   ]
  },
  {
   "cell_type": "code",
   "execution_count": 24,
   "id": "90c30b0a-3af4-484c-96f7-6ae1bc5ebd3d",
   "metadata": {
    "execution": {
     "iopub.execute_input": "2024-06-24T00:29:06.686797Z",
     "iopub.status.busy": "2024-06-24T00:29:06.686027Z",
     "iopub.status.idle": "2024-06-24T00:29:06.692152Z",
     "shell.execute_reply": "2024-06-24T00:29:06.691417Z"
    },
    "vscode": {
     "languageId": "r"
    }
   },
   "outputs": [],
   "source": [
    "if (save) {\n",
    "    tic()\n",
    "    saveRDS(ho_model, file = ho_model_name, compress=TRUE)\n",
    "    toc()\n",
    "}"
   ]
  },
  {
   "cell_type": "code",
   "execution_count": 25,
   "id": "ad6da065-18a3-4d80-a4c4-3ba98e3d3e32",
   "metadata": {
    "execution": {
     "iopub.execute_input": "2024-06-24T00:29:06.694620Z",
     "iopub.status.busy": "2024-06-24T00:29:06.694008Z",
     "iopub.status.idle": "2024-06-24T00:29:06.700274Z",
     "shell.execute_reply": "2024-06-24T00:29:06.699563Z"
    },
    "vscode": {
     "languageId": "r"
    }
   },
   "outputs": [
    {
     "data": {
      "text/html": [
       "35"
      ],
      "text/latex": [
       "35"
      ],
      "text/markdown": [
       "35"
      ],
      "text/plain": [
       "[1] 35"
      ]
     },
     "metadata": {},
     "output_type": "display_data"
    }
   ],
   "source": [
    "ho_model$best_knot"
   ]
  },
  {
   "cell_type": "code",
   "execution_count": 26,
   "id": "33b735f2-6430-4abb-9e3a-35e5bfa2aef6",
   "metadata": {
    "execution": {
     "iopub.execute_input": "2024-06-24T00:29:06.702674Z",
     "iopub.status.busy": "2024-06-24T00:29:06.702072Z",
     "iopub.status.idle": "2024-06-24T00:29:06.714160Z",
     "shell.execute_reply": "2024-06-24T00:29:06.713435Z"
    },
    "vscode": {
     "languageId": "r"
    }
   },
   "outputs": [
    {
     "data": {
      "text/plain": [
       "OLS estimation, Dep. Var.: fat\n",
       "Observations: 14,829,915\n",
       "Fixed-effects: farmId: 17,563\n",
       "Standard-errors: Clustered (year & farmId) \n",
       "                                         Estimate Std. Error    t value   Pr(>|t|)    \n",
       "lspline(thi_mean_t0_3d, knots = c(35))1 -0.004393   0.000676  -6.496513 1.4099e-05 ***\n",
       "lspline(thi_mean_t0_3d, knots = c(35))2 -0.012680   0.000202 -62.847384  < 2.2e-16 ***\n",
       "days_in_milk                             0.001853   0.000011 171.960589  < 2.2e-16 ***\n",
       "lactationNumber                          0.004047   0.001347   3.004235 9.4717e-03 ** \n",
       "precip_mean_t0_3d                        0.001381   0.000589   2.343832 3.4365e-02 *  \n",
       "I(precip_mean_t0_3d^2)                  -0.000012   0.000024  -0.492279 6.3015e-01    \n",
       "year2010                                 0.009279   0.000669  13.867642 1.4311e-09 ***\n",
       "year2011                                 0.006453   0.000383  16.868680 1.0666e-10 ***\n",
       "year2012                                 0.039311   0.000772  50.942900  < 2.2e-16 ***\n",
       "year2013                                -0.002223   0.001141  -1.947970 7.1755e-02 .  \n",
       "year2014                                -0.038211   0.001552 -24.613684 6.3450e-13 ***\n",
       "year2015                                -0.015901   0.001692  -9.397406 2.0059e-07 ***\n",
       "year2016                                 0.011565   0.001895   6.102522 2.7308e-05 ***\n",
       "year2017                                -0.016290   0.001992  -8.176319 1.0615e-06 ***\n",
       "year2018                                 0.021960   0.002149  10.219651 7.1325e-08 ***\n",
       "year2019                                 0.028048   0.002182  12.851562 3.8609e-09 ***\n",
       "year2020                                 0.066433   0.002350  28.274874 9.4392e-14 ***\n",
       "year2021                                 0.076946   0.002435  31.593776 2.0413e-14 ***\n",
       "year2022                                 0.074440   0.002587  28.771446 7.4261e-14 ***\n",
       "year2023                                 0.116111   0.002448  47.425164  < 2.2e-16 ***\n",
       "---\n",
       "Signif. codes:  0 '***' 0.001 '**' 0.01 '*' 0.05 '.' 0.1 ' ' 1\n",
       "RMSE: 0.592546     Adj. R2: 0.185142\n",
       "                 Within R2: 0.132548"
      ]
     },
     "metadata": {},
     "output_type": "display_data"
    }
   ],
   "source": [
    "summary(ho_model$best_model)"
   ]
  },
  {
   "cell_type": "code",
   "execution_count": 27,
   "id": "63f32034-f5f5-4812-ada3-dcebe08cb653",
   "metadata": {
    "execution": {
     "iopub.execute_input": "2024-06-24T00:29:06.716553Z",
     "iopub.status.busy": "2024-06-24T00:29:06.715953Z",
     "iopub.status.idle": "2024-06-24T00:29:06.926351Z",
     "shell.execute_reply": "2024-06-24T00:29:06.925512Z"
    },
    "vscode": {
     "languageId": "r"
    }
   },
   "outputs": [
    {
     "name": "stderr",
     "output_type": "stream",
     "text": [
      "Warning message:\n",
      "“\u001b[1m\u001b[22mRemoved 41 rows containing missing values or values outside the scale range (`geom_line()`).”\n"
     ]
    },
    {
     "data": {
      "image/png": "[encoded data removed]",
      "text/plain": [
       "plot without title"
      ]
     },
     "metadata": {
      "image/png": {
       "height": 420,
       "width": 420
      }
     },
     "output_type": "display_data"
    }
   ],
   "source": [
    "ho_p <- create_effect_plot(ho, ho_model$best_model, ho_model$best_knot, dependent_var, weather_var, \"HO\")\n",
    "ho_p$plot"
   ]
  },
  {
   "cell_type": "markdown",
   "id": "45266f34-754a-4bb1-bcb5-74ea244207ad",
   "metadata": {},
   "source": [
    "## Brown Swiss"
   ]
  },
  {
   "cell_type": "code",
   "execution_count": 28,
   "id": "74b67fa0-3c18-41b6-819c-c066f7275cd5",
   "metadata": {
    "execution": {
     "iopub.execute_input": "2024-06-24T00:29:06.929026Z",
     "iopub.status.busy": "2024-06-24T00:29:06.928395Z",
     "iopub.status.idle": "2024-06-24T00:35:37.377753Z",
     "shell.execute_reply": "2024-06-24T00:35:37.376847Z"
    },
    "vscode": {
     "languageId": "r"
    }
   },
   "outputs": [
    {
     "name": "stderr",
     "output_type": "stream",
     "text": [
      "Variance contained negative values in the diagonal and was 'fixed' (a la Cameron, Gelbach & Miller 2011).\n",
      "\n"
     ]
    },
    {
     "name": "stderr",
     "output_type": "stream",
     "text": [
      "Variance contained negative values in the diagonal and was 'fixed' (a la Cameron, Gelbach & Miller 2011).\n",
      "\n"
     ]
    },
    {
     "name": "stderr",
     "output_type": "stream",
     "text": [
      "Variance contained negative values in the diagonal and was 'fixed' (a la Cameron, Gelbach & Miller 2011).\n",
      "\n"
     ]
    },
    {
     "name": "stderr",
     "output_type": "stream",
     "text": [
      "Variance contained negative values in the diagonal and was 'fixed' (a la Cameron, Gelbach & Miller 2011).\n",
      "\n"
     ]
    },
    {
     "name": "stderr",
     "output_type": "stream",
     "text": [
      "Variance contained negative values in the diagonal and was 'fixed' (a la Cameron, Gelbach & Miller 2011).\n",
      "\n"
     ]
    },
    {
     "name": "stderr",
     "output_type": "stream",
     "text": [
      "Variance contained negative values in the diagonal and was 'fixed' (a la Cameron, Gelbach & Miller 2011).\n",
      "\n"
     ]
    },
    {
     "name": "stderr",
     "output_type": "stream",
     "text": [
      "Variance contained negative values in the diagonal and was 'fixed' (a la Cameron, Gelbach & Miller 2011).\n",
      "\n"
     ]
    },
    {
     "name": "stderr",
     "output_type": "stream",
     "text": [
      "Variance contained negative values in the diagonal and was 'fixed' (a la Cameron, Gelbach & Miller 2011).\n",
      "\n"
     ]
    },
    {
     "name": "stderr",
     "output_type": "stream",
     "text": [
      "Variance contained negative values in the diagonal and was 'fixed' (a la Cameron, Gelbach & Miller 2011).\n",
      "\n"
     ]
    },
    {
     "name": "stderr",
     "output_type": "stream",
     "text": [
      "Variance contained negative values in the diagonal and was 'fixed' (a la Cameron, Gelbach & Miller 2011).\n",
      "\n"
     ]
    },
    {
     "name": "stderr",
     "output_type": "stream",
     "text": [
      "Variance contained negative values in the diagonal and was 'fixed' (a la Cameron, Gelbach & Miller 2011).\n",
      "\n"
     ]
    },
    {
     "name": "stderr",
     "output_type": "stream",
     "text": [
      "Variance contained negative values in the diagonal and was 'fixed' (a la Cameron, Gelbach & Miller 2011).\n",
      "\n"
     ]
    },
    {
     "name": "stderr",
     "output_type": "stream",
     "text": [
      "Variance contained negative values in the diagonal and was 'fixed' (a la Cameron, Gelbach & Miller 2011).\n",
      "\n"
     ]
    },
    {
     "name": "stderr",
     "output_type": "stream",
     "text": [
      "Variance contained negative values in the diagonal and was 'fixed' (a la Cameron, Gelbach & Miller 2011).\n",
      "\n"
     ]
    },
    {
     "name": "stderr",
     "output_type": "stream",
     "text": [
      "Variance contained negative values in the diagonal and was 'fixed' (a la Cameron, Gelbach & Miller 2011).\n",
      "\n"
     ]
    },
    {
     "name": "stderr",
     "output_type": "stream",
     "text": [
      "Variance contained negative values in the diagonal and was 'fixed' (a la Cameron, Gelbach & Miller 2011).\n",
      "\n"
     ]
    },
    {
     "name": "stderr",
     "output_type": "stream",
     "text": [
      "Variance contained negative values in the diagonal and was 'fixed' (a la Cameron, Gelbach & Miller 2011).\n",
      "\n"
     ]
    },
    {
     "name": "stderr",
     "output_type": "stream",
     "text": [
      "Variance contained negative values in the diagonal and was 'fixed' (a la Cameron, Gelbach & Miller 2011).\n",
      "\n"
     ]
    },
    {
     "name": "stderr",
     "output_type": "stream",
     "text": [
      "Variance contained negative values in the diagonal and was 'fixed' (a la Cameron, Gelbach & Miller 2011).\n",
      "\n"
     ]
    },
    {
     "name": "stderr",
     "output_type": "stream",
     "text": [
      "Variance contained negative values in the diagonal and was 'fixed' (a la Cameron, Gelbach & Miller 2011).\n",
      "\n"
     ]
    },
    {
     "name": "stderr",
     "output_type": "stream",
     "text": [
      "Variance contained negative values in the diagonal and was 'fixed' (a la Cameron, Gelbach & Miller 2011).\n",
      "\n"
     ]
    },
    {
     "name": "stderr",
     "output_type": "stream",
     "text": [
      "Variance contained negative values in the diagonal and was 'fixed' (a la Cameron, Gelbach & Miller 2011).\n",
      "\n"
     ]
    },
    {
     "name": "stderr",
     "output_type": "stream",
     "text": [
      "Variance contained negative values in the diagonal and was 'fixed' (a la Cameron, Gelbach & Miller 2011).\n",
      "\n"
     ]
    },
    {
     "name": "stderr",
     "output_type": "stream",
     "text": [
      "Variance contained negative values in the diagonal and was 'fixed' (a la Cameron, Gelbach & Miller 2011).\n",
      "\n"
     ]
    },
    {
     "name": "stderr",
     "output_type": "stream",
     "text": [
      "Variance contained negative values in the diagonal and was 'fixed' (a la Cameron, Gelbach & Miller 2011).\n",
      "\n"
     ]
    },
    {
     "name": "stderr",
     "output_type": "stream",
     "text": [
      "Variance contained negative values in the diagonal and was 'fixed' (a la Cameron, Gelbach & Miller 2011).\n",
      "\n"
     ]
    },
    {
     "name": "stderr",
     "output_type": "stream",
     "text": [
      "Variance contained negative values in the diagonal and was 'fixed' (a la Cameron, Gelbach & Miller 2011).\n",
      "\n"
     ]
    },
    {
     "name": "stdout",
     "output_type": "stream",
     "text": [
      "390.442 sec elapsed\n"
     ]
    }
   ],
   "source": [
    "tic()\n",
    "bs_model = run_models_with_knots(bs, knot_combs, dependent_var, weather_var)\n",
    "toc()"
   ]
  },
  {
   "cell_type": "code",
   "execution_count": 29,
   "id": "1bce08e1-bf80-4df1-b84b-b03bbb21a134",
   "metadata": {
    "execution": {
     "iopub.execute_input": "2024-06-24T00:35:37.399368Z",
     "iopub.status.busy": "2024-06-24T00:35:37.398744Z",
     "iopub.status.idle": "2024-06-24T00:35:37.406358Z",
     "shell.execute_reply": "2024-06-24T00:35:37.405608Z"
    },
    "vscode": {
     "languageId": "r"
    }
   },
   "outputs": [
    {
     "data": {
      "text/html": [
       "'17_reduced_form_model_thi_mean_t0_3d_fixed_effect_2009-2023_2024_06_24_02_16_41_fat_bs_model.Rdata'"
      ],
      "text/latex": [
       "'17\\_reduced\\_form\\_model\\_thi\\_mean\\_t0\\_3d\\_fixed\\_effect\\_2009-2023\\_2024\\_06\\_24\\_02\\_16\\_41\\_fat\\_bs\\_model.Rdata'"
      ],
      "text/markdown": [
       "'17_reduced_form_model_thi_mean_t0_3d_fixed_effect_2009-2023_2024_06_24_02_16_41_fat_bs_model.Rdata'"
      ],
      "text/plain": [
       "[1] \"17_reduced_form_model_thi_mean_t0_3d_fixed_effect_2009-2023_2024_06_24_02_16_41_fat_bs_model.Rdata\""
      ]
     },
     "metadata": {},
     "output_type": "display_data"
    }
   ],
   "source": [
    "bs_model_name <- paste0(concatenated_string, \"_bs_model.Rdata\")\n",
    "bs_model_name"
   ]
  },
  {
   "cell_type": "code",
   "execution_count": 30,
   "id": "a8aa8e33-e12d-49ff-aee5-46f6def7fd37",
   "metadata": {
    "execution": {
     "iopub.execute_input": "2024-06-24T00:35:37.409551Z",
     "iopub.status.busy": "2024-06-24T00:35:37.408719Z",
     "iopub.status.idle": "2024-06-24T00:35:37.415129Z",
     "shell.execute_reply": "2024-06-24T00:35:37.414370Z"
    },
    "vscode": {
     "languageId": "r"
    }
   },
   "outputs": [],
   "source": [
    "if (save) {\n",
    "    tic()\n",
    "    saveRDS(bs_model, file = bs_model_name, compress=T)\n",
    "    toc()\n",
    "}"
   ]
  },
  {
   "cell_type": "code",
   "execution_count": 31,
   "id": "415b619c-9280-49cd-b48f-407405f0dd9a",
   "metadata": {
    "execution": {
     "iopub.execute_input": "2024-06-24T00:35:37.417533Z",
     "iopub.status.busy": "2024-06-24T00:35:37.416914Z",
     "iopub.status.idle": "2024-06-24T00:35:37.423681Z",
     "shell.execute_reply": "2024-06-24T00:35:37.422930Z"
    },
    "vscode": {
     "languageId": "r"
    }
   },
   "outputs": [
    {
     "data": {
      "text/html": [
       "36"
      ],
      "text/latex": [
       "36"
      ],
      "text/markdown": [
       "36"
      ],
      "text/plain": [
       "[1] 36"
      ]
     },
     "metadata": {},
     "output_type": "display_data"
    }
   ],
   "source": [
    "bs_model$best_knot"
   ]
  },
  {
   "cell_type": "code",
   "execution_count": 32,
   "id": "89577147-29e6-47fa-a9b0-aedd0ffeebad",
   "metadata": {
    "execution": {
     "iopub.execute_input": "2024-06-24T00:35:37.426114Z",
     "iopub.status.busy": "2024-06-24T00:35:37.425498Z",
     "iopub.status.idle": "2024-06-24T00:35:37.439064Z",
     "shell.execute_reply": "2024-06-24T00:35:37.438186Z"
    },
    "vscode": {
     "languageId": "r"
    }
   },
   "outputs": [
    {
     "data": {
      "text/plain": [
       "OLS estimation, Dep. Var.: fat\n",
       "Observations: 16,541,936\n",
       "Fixed-effects: farmId: 15,398\n",
       "Standard-errors: Clustered (year & farmId) \n",
       "                                           Estimate Std. Error    t value   Pr(>|t|)    \n",
       "lspline(thi_mean_t0_3d, knots = c(36))1 -0.00306555   0.000502  -6.107247 2.7089e-05 ***\n",
       "lspline(thi_mean_t0_3d, knots = c(36))2 -0.01092652   0.000209 -52.174071  < 2.2e-16 ***\n",
       "days_in_milk                             0.00152752   0.000013 114.519162  < 2.2e-16 ***\n",
       "lactationNumber                         -0.00671160   0.001203  -5.580857 6.7728e-05 ***\n",
       "precip_mean_t0_3d                        0.00005822   0.000427   0.136476 8.9339e-01    \n",
       "I(precip_mean_t0_3d^2)                   0.00000136   0.000015   0.092046 9.2797e-01    \n",
       "year2010                                -0.01866084   0.000751 -24.864268 5.5225e-13 ***\n",
       "year2011                                -0.00396502   0.000323 -12.258141 7.1139e-09 ***\n",
       "year2012                                 0.03064352   0.000417  73.424181  < 2.2e-16 ***\n",
       "year2013                                 0.00124355   0.000664   1.871868 8.2265e-02 .  \n",
       "year2014                                -0.02101261   0.001152 -18.245039 3.7202e-11 ***\n",
       "year2015                                -0.00723940   0.001327  -5.455318 8.4749e-05 ***\n",
       "year2016                                 0.00724641   0.001470   4.930527 2.2133e-04 ***\n",
       "year2017                                -0.01438072   0.001563  -9.201164 2.5932e-07 ***\n",
       "year2018                                 0.00017406   0.001777   0.097937 9.2337e-01    \n",
       "year2019                                -0.00047094   0.001919  -0.245383 8.0972e-01    \n",
       "year2020                                 0.00020801   0.002077   0.100158 9.2164e-01    \n",
       "year2021                                 0.01328710   0.002072   6.412322 1.6209e-05 ***\n",
       "year2022                                 0.00713924   0.002223   3.211708 6.2728e-03 ** \n",
       "year2023                                 0.02809606   0.002180  12.888183 3.7209e-09 ***\n",
       "---\n",
       "Signif. codes:  0 '***' 0.001 '**' 0.01 '*' 0.05 '.' 0.1 ' ' 1\n",
       "RMSE: 0.535799     Adj. R2: 0.173491\n",
       "                 Within R2: 0.119433"
      ]
     },
     "metadata": {},
     "output_type": "display_data"
    }
   ],
   "source": [
    "summary(bs_model$best_model)"
   ]
  },
  {
   "cell_type": "code",
   "execution_count": 33,
   "id": "7d913543-b61e-403d-8376-14987dd7e774",
   "metadata": {
    "execution": {
     "iopub.execute_input": "2024-06-24T00:35:37.441531Z",
     "iopub.status.busy": "2024-06-24T00:35:37.440914Z",
     "iopub.status.idle": "2024-06-24T00:35:37.615974Z",
     "shell.execute_reply": "2024-06-24T00:35:37.615180Z"
    },
    "vscode": {
     "languageId": "r"
    }
   },
   "outputs": [
    {
     "name": "stderr",
     "output_type": "stream",
     "text": [
      "Warning message:\n",
      "“\u001b[1m\u001b[22mRemoved 43 rows containing missing values or values outside the scale range (`geom_line()`).”\n"
     ]
    },
    {
     "data": {
      "image/png": "[encoded data removed]",
      "text/plain": [
       "plot without title"
      ]
     },
     "metadata": {
      "image/png": {
       "height": 420,
       "width": 420
      }
     },
     "output_type": "display_data"
    }
   ],
   "source": [
    "bs_p <- create_effect_plot(bs, bs_model$best_model, bs_model$best_knot, dependent_var, weather_var, \"BS\")\n",
    "bs_p$plot"
   ]
  },
  {
   "cell_type": "markdown",
   "id": "1be84693-5f85-4ed9-9ea3-b45e5304f759",
   "metadata": {},
   "source": [
    "## Simmental"
   ]
  },
  {
   "cell_type": "code",
   "execution_count": 34,
   "id": "26af0a76-ceaa-4e79-a1f5-4ec3e9ae0441",
   "metadata": {
    "execution": {
     "iopub.execute_input": "2024-06-24T00:35:37.618636Z",
     "iopub.status.busy": "2024-06-24T00:35:37.618016Z",
     "iopub.status.idle": "2024-06-24T00:36:27.552482Z",
     "shell.execute_reply": "2024-06-24T00:36:27.551696Z"
    },
    "vscode": {
     "languageId": "r"
    }
   },
   "outputs": [
    {
     "name": "stderr",
     "output_type": "stream",
     "text": [
      "Variance contained negative values in the diagonal and was 'fixed' (a la Cameron, Gelbach & Miller 2011).\n",
      "\n"
     ]
    },
    {
     "name": "stderr",
     "output_type": "stream",
     "text": [
      "Variance contained negative values in the diagonal and was 'fixed' (a la Cameron, Gelbach & Miller 2011).\n",
      "\n"
     ]
    },
    {
     "name": "stderr",
     "output_type": "stream",
     "text": [
      "Variance contained negative values in the diagonal and was 'fixed' (a la Cameron, Gelbach & Miller 2011).\n",
      "\n"
     ]
    },
    {
     "name": "stderr",
     "output_type": "stream",
     "text": [
      "Variance contained negative values in the diagonal and was 'fixed' (a la Cameron, Gelbach & Miller 2011).\n",
      "\n"
     ]
    },
    {
     "name": "stderr",
     "output_type": "stream",
     "text": [
      "Variance contained negative values in the diagonal and was 'fixed' (a la Cameron, Gelbach & Miller 2011).\n",
      "\n"
     ]
    },
    {
     "name": "stderr",
     "output_type": "stream",
     "text": [
      "Variance contained negative values in the diagonal and was 'fixed' (a la Cameron, Gelbach & Miller 2011).\n",
      "\n"
     ]
    },
    {
     "name": "stderr",
     "output_type": "stream",
     "text": [
      "Variance contained negative values in the diagonal and was 'fixed' (a la Cameron, Gelbach & Miller 2011).\n",
      "\n"
     ]
    },
    {
     "name": "stderr",
     "output_type": "stream",
     "text": [
      "Variance contained negative values in the diagonal and was 'fixed' (a la Cameron, Gelbach & Miller 2011).\n",
      "\n"
     ]
    },
    {
     "name": "stderr",
     "output_type": "stream",
     "text": [
      "Variance contained negative values in the diagonal and was 'fixed' (a la Cameron, Gelbach & Miller 2011).\n",
      "\n"
     ]
    },
    {
     "name": "stderr",
     "output_type": "stream",
     "text": [
      "Variance contained negative values in the diagonal and was 'fixed' (a la Cameron, Gelbach & Miller 2011).\n",
      "\n"
     ]
    },
    {
     "name": "stderr",
     "output_type": "stream",
     "text": [
      "Variance contained negative values in the diagonal and was 'fixed' (a la Cameron, Gelbach & Miller 2011).\n",
      "\n"
     ]
    },
    {
     "name": "stderr",
     "output_type": "stream",
     "text": [
      "Variance contained negative values in the diagonal and was 'fixed' (a la Cameron, Gelbach & Miller 2011).\n",
      "\n"
     ]
    },
    {
     "name": "stderr",
     "output_type": "stream",
     "text": [
      "Variance contained negative values in the diagonal and was 'fixed' (a la Cameron, Gelbach & Miller 2011).\n",
      "\n"
     ]
    },
    {
     "name": "stderr",
     "output_type": "stream",
     "text": [
      "Variance contained negative values in the diagonal and was 'fixed' (a la Cameron, Gelbach & Miller 2011).\n",
      "\n"
     ]
    },
    {
     "name": "stderr",
     "output_type": "stream",
     "text": [
      "Variance contained negative values in the diagonal and was 'fixed' (a la Cameron, Gelbach & Miller 2011).\n",
      "\n"
     ]
    },
    {
     "name": "stderr",
     "output_type": "stream",
     "text": [
      "Variance contained negative values in the diagonal and was 'fixed' (a la Cameron, Gelbach & Miller 2011).\n",
      "\n"
     ]
    },
    {
     "name": "stderr",
     "output_type": "stream",
     "text": [
      "Variance contained negative values in the diagonal and was 'fixed' (a la Cameron, Gelbach & Miller 2011).\n",
      "\n"
     ]
    },
    {
     "name": "stderr",
     "output_type": "stream",
     "text": [
      "Variance contained negative values in the diagonal and was 'fixed' (a la Cameron, Gelbach & Miller 2011).\n",
      "\n"
     ]
    },
    {
     "name": "stderr",
     "output_type": "stream",
     "text": [
      "Variance contained negative values in the diagonal and was 'fixed' (a la Cameron, Gelbach & Miller 2011).\n",
      "\n"
     ]
    },
    {
     "name": "stderr",
     "output_type": "stream",
     "text": [
      "Variance contained negative values in the diagonal and was 'fixed' (a la Cameron, Gelbach & Miller 2011).\n",
      "\n"
     ]
    },
    {
     "name": "stderr",
     "output_type": "stream",
     "text": [
      "Variance contained negative values in the diagonal and was 'fixed' (a la Cameron, Gelbach & Miller 2011).\n",
      "\n"
     ]
    },
    {
     "name": "stderr",
     "output_type": "stream",
     "text": [
      "Variance contained negative values in the diagonal and was 'fixed' (a la Cameron, Gelbach & Miller 2011).\n",
      "\n"
     ]
    },
    {
     "name": "stderr",
     "output_type": "stream",
     "text": [
      "Variance contained negative values in the diagonal and was 'fixed' (a la Cameron, Gelbach & Miller 2011).\n",
      "\n"
     ]
    },
    {
     "name": "stderr",
     "output_type": "stream",
     "text": [
      "Variance contained negative values in the diagonal and was 'fixed' (a la Cameron, Gelbach & Miller 2011).\n",
      "\n"
     ]
    },
    {
     "name": "stderr",
     "output_type": "stream",
     "text": [
      "Variance contained negative values in the diagonal and was 'fixed' (a la Cameron, Gelbach & Miller 2011).\n",
      "\n"
     ]
    },
    {
     "name": "stderr",
     "output_type": "stream",
     "text": [
      "Variance contained negative values in the diagonal and was 'fixed' (a la Cameron, Gelbach & Miller 2011).\n",
      "\n"
     ]
    },
    {
     "name": "stderr",
     "output_type": "stream",
     "text": [
      "Variance contained negative values in the diagonal and was 'fixed' (a la Cameron, Gelbach & Miller 2011).\n",
      "\n"
     ]
    },
    {
     "name": "stdout",
     "output_type": "stream",
     "text": [
      "49.927 sec elapsed\n"
     ]
    }
   ],
   "source": [
    "tic()\n",
    "si_model = run_models_with_knots(si, knot_combs, dependent_var, weather_var)\n",
    "toc()"
   ]
  },
  {
   "cell_type": "code",
   "execution_count": 35,
   "id": "084d03d7-e779-40fc-abac-4d18cf13560f",
   "metadata": {
    "execution": {
     "iopub.execute_input": "2024-06-24T00:36:27.556731Z",
     "iopub.status.busy": "2024-06-24T00:36:27.556131Z",
     "iopub.status.idle": "2024-06-24T00:36:27.563417Z",
     "shell.execute_reply": "2024-06-24T00:36:27.562719Z"
    },
    "vscode": {
     "languageId": "r"
    }
   },
   "outputs": [
    {
     "data": {
      "text/html": [
       "'17_reduced_form_model_thi_mean_t0_3d_fixed_effect_2009-2023_2024_06_24_02_16_41_fat_si_model.Rdata'"
      ],
      "text/latex": [
       "'17\\_reduced\\_form\\_model\\_thi\\_mean\\_t0\\_3d\\_fixed\\_effect\\_2009-2023\\_2024\\_06\\_24\\_02\\_16\\_41\\_fat\\_si\\_model.Rdata'"
      ],
      "text/markdown": [
       "'17_reduced_form_model_thi_mean_t0_3d_fixed_effect_2009-2023_2024_06_24_02_16_41_fat_si_model.Rdata'"
      ],
      "text/plain": [
       "[1] \"17_reduced_form_model_thi_mean_t0_3d_fixed_effect_2009-2023_2024_06_24_02_16_41_fat_si_model.Rdata\""
      ]
     },
     "metadata": {},
     "output_type": "display_data"
    }
   ],
   "source": [
    "si_model_name <- paste0(concatenated_string, \"_si_model.Rdata\")\n",
    "si_model_name"
   ]
  },
  {
   "cell_type": "code",
   "execution_count": 36,
   "id": "1b5f0645-f62c-477b-a503-80d0ede11c9d",
   "metadata": {
    "execution": {
     "iopub.execute_input": "2024-06-24T00:36:27.566470Z",
     "iopub.status.busy": "2024-06-24T00:36:27.565687Z",
     "iopub.status.idle": "2024-06-24T00:36:27.571719Z",
     "shell.execute_reply": "2024-06-24T00:36:27.570997Z"
    },
    "vscode": {
     "languageId": "r"
    }
   },
   "outputs": [],
   "source": [
    "if (save) {\n",
    "    tic()\n",
    "    saveRDS(si_model, file = si_model_name, compress=T)\n",
    "    toc()\n",
    "}"
   ]
  },
  {
   "cell_type": "code",
   "execution_count": 37,
   "id": "3a1758a4-a596-4be3-9c2f-0e497e5b4a7f",
   "metadata": {
    "execution": {
     "iopub.execute_input": "2024-06-24T00:36:27.574141Z",
     "iopub.status.busy": "2024-06-24T00:36:27.573511Z",
     "iopub.status.idle": "2024-06-24T00:36:27.579794Z",
     "shell.execute_reply": "2024-06-24T00:36:27.579096Z"
    },
    "vscode": {
     "languageId": "r"
    }
   },
   "outputs": [
    {
     "data": {
      "text/html": [
       "35"
      ],
      "text/latex": [
       "35"
      ],
      "text/markdown": [
       "35"
      ],
      "text/plain": [
       "[1] 35"
      ]
     },
     "metadata": {},
     "output_type": "display_data"
    }
   ],
   "source": [
    "si_model$best_knot"
   ]
  },
  {
   "cell_type": "code",
   "execution_count": 38,
   "id": "90ee105b-3cab-40ba-bfbe-2b932db949c6",
   "metadata": {
    "execution": {
     "iopub.execute_input": "2024-06-24T00:36:27.582202Z",
     "iopub.status.busy": "2024-06-24T00:36:27.581584Z",
     "iopub.status.idle": "2024-06-24T00:36:27.593602Z",
     "shell.execute_reply": "2024-06-24T00:36:27.592891Z"
    },
    "vscode": {
     "languageId": "r"
    }
   },
   "outputs": [
    {
     "data": {
      "text/plain": [
       "OLS estimation, Dep. Var.: fat\n",
       "Observations: 2,213,288\n",
       "Fixed-effects: farmId: 7,682\n",
       "Standard-errors: Clustered (year & farmId) \n",
       "                                         Estimate Std. Error   t value   Pr(>|t|)    \n",
       "lspline(thi_mean_t0_3d, knots = c(35))1 -0.002969   0.000554  -5.35542 1.0146e-04 ***\n",
       "lspline(thi_mean_t0_3d, knots = c(35))2 -0.008499   0.000328 -25.90836 3.1407e-13 ***\n",
       "days_in_milk                             0.001503   0.000018  83.65993  < 2.2e-16 ***\n",
       "lactationNumber                         -0.016131   0.000591 -27.31176 1.5210e-13 ***\n",
       "precip_mean_t0_3d                       -0.000581   0.000456  -1.27285 2.2380e-01    \n",
       "I(precip_mean_t0_3d^2)                   0.000054   0.000019   2.81477 1.3774e-02 *  \n",
       "year2010                                 0.015622   0.001647   9.48547 1.7898e-07 ***\n",
       "year2011                                 0.008507   0.000862   9.87344 1.0935e-07 ***\n",
       "year2012                                 0.040856   0.000923  44.24228  < 2.2e-16 ***\n",
       "year2013                                 0.039135   0.001449  27.01579 1.7669e-13 ***\n",
       "year2014                                 0.029587   0.002205  13.42095 2.1962e-09 ***\n",
       "year2015                                 0.042053   0.002443  17.21226 8.1410e-11 ***\n",
       "year2016                                 0.082927   0.002609  31.78923 1.8745e-14 ***\n",
       "year2017                                 0.054747   0.002896  18.90642 2.3014e-11 ***\n",
       "year2018                                 0.079919   0.003703  21.58167 3.8231e-12 ***\n",
       "year2019                                 0.075611   0.003807  19.85980 1.1829e-11 ***\n",
       "year2020                                 0.093695   0.003999  23.43201 1.2443e-12 ***\n",
       "year2021                                 0.109055   0.004009  27.20570 1.6046e-13 ***\n",
       "year2022                                 0.104650   0.004296  24.36207 7.3042e-13 ***\n",
       "year2023                                 0.124100   0.003813  32.54538 1.3544e-14 ***\n",
       "---\n",
       "Signif. codes:  0 '***' 0.001 '**' 0.01 '*' 0.05 '.' 0.1 ' ' 1\n",
       "RMSE: 0.523836     Adj. R2: 0.139066\n",
       "                 Within R2: 0.076368"
      ]
     },
     "metadata": {},
     "output_type": "display_data"
    }
   ],
   "source": [
    "summary(si_model$best_model)"
   ]
  },
  {
   "cell_type": "code",
   "execution_count": 39,
   "id": "cb76c1f4-593f-483c-b2da-42062eaf310e",
   "metadata": {
    "execution": {
     "iopub.execute_input": "2024-06-24T00:36:27.596031Z",
     "iopub.status.busy": "2024-06-24T00:36:27.595443Z",
     "iopub.status.idle": "2024-06-24T00:36:27.717845Z",
     "shell.execute_reply": "2024-06-24T00:36:27.717030Z"
    },
    "vscode": {
     "languageId": "r"
    }
   },
   "outputs": [
    {
     "name": "stderr",
     "output_type": "stream",
     "text": [
      "Warning message:\n",
      "“\u001b[1m\u001b[22mRemoved 41 rows containing missing values or values outside the scale range (`geom_line()`).”\n"
     ]
    },
    {
     "data": {
      "image/png": "[encoded data removed]",
      "text/plain": [
       "plot without title"
      ]
     },
     "metadata": {
      "image/png": {
       "height": 420,
       "width": 420
      }
     },
     "output_type": "display_data"
    }
   ],
   "source": [
    "si_p <- create_effect_plot(si, si_model$best_model, si_model$best_knot, dependent_var, weather_var, \"SI\")\n",
    "si_p$plot"
   ]
  },
  {
   "cell_type": "markdown",
   "id": "4da41b9b-f8a7-41f2-9eea-5debc95d61e2",
   "metadata": {},
   "source": [
    "## Swiss Fleckvieh"
   ]
  },
  {
   "cell_type": "code",
   "execution_count": 40,
   "id": "6b26fe07-554a-4ab6-9b39-bee820e46198",
   "metadata": {
    "execution": {
     "iopub.execute_input": "2024-06-24T00:36:27.720454Z",
     "iopub.status.busy": "2024-06-24T00:36:27.719845Z",
     "iopub.status.idle": "2024-06-24T00:39:03.467922Z",
     "shell.execute_reply": "2024-06-24T00:39:03.467003Z"
    },
    "vscode": {
     "languageId": "r"
    }
   },
   "outputs": [
    {
     "name": "stderr",
     "output_type": "stream",
     "text": [
      "Variance contained negative values in the diagonal and was 'fixed' (a la Cameron, Gelbach & Miller 2011).\n",
      "\n"
     ]
    },
    {
     "name": "stderr",
     "output_type": "stream",
     "text": [
      "Variance contained negative values in the diagonal and was 'fixed' (a la Cameron, Gelbach & Miller 2011).\n",
      "\n"
     ]
    },
    {
     "name": "stderr",
     "output_type": "stream",
     "text": [
      "Variance contained negative values in the diagonal and was 'fixed' (a la Cameron, Gelbach & Miller 2011).\n",
      "\n"
     ]
    },
    {
     "name": "stderr",
     "output_type": "stream",
     "text": [
      "Variance contained negative values in the diagonal and was 'fixed' (a la Cameron, Gelbach & Miller 2011).\n",
      "\n"
     ]
    },
    {
     "name": "stderr",
     "output_type": "stream",
     "text": [
      "Variance contained negative values in the diagonal and was 'fixed' (a la Cameron, Gelbach & Miller 2011).\n",
      "\n"
     ]
    },
    {
     "name": "stderr",
     "output_type": "stream",
     "text": [
      "Variance contained negative values in the diagonal and was 'fixed' (a la Cameron, Gelbach & Miller 2011).\n",
      "\n"
     ]
    },
    {
     "name": "stderr",
     "output_type": "stream",
     "text": [
      "Variance contained negative values in the diagonal and was 'fixed' (a la Cameron, Gelbach & Miller 2011).\n",
      "\n"
     ]
    },
    {
     "name": "stderr",
     "output_type": "stream",
     "text": [
      "Variance contained negative values in the diagonal and was 'fixed' (a la Cameron, Gelbach & Miller 2011).\n",
      "\n"
     ]
    },
    {
     "name": "stderr",
     "output_type": "stream",
     "text": [
      "Variance contained negative values in the diagonal and was 'fixed' (a la Cameron, Gelbach & Miller 2011).\n",
      "\n"
     ]
    },
    {
     "name": "stderr",
     "output_type": "stream",
     "text": [
      "Variance contained negative values in the diagonal and was 'fixed' (a la Cameron, Gelbach & Miller 2011).\n",
      "\n"
     ]
    },
    {
     "name": "stderr",
     "output_type": "stream",
     "text": [
      "Variance contained negative values in the diagonal and was 'fixed' (a la Cameron, Gelbach & Miller 2011).\n",
      "\n"
     ]
    },
    {
     "name": "stderr",
     "output_type": "stream",
     "text": [
      "Variance contained negative values in the diagonal and was 'fixed' (a la Cameron, Gelbach & Miller 2011).\n",
      "\n"
     ]
    },
    {
     "name": "stderr",
     "output_type": "stream",
     "text": [
      "Variance contained negative values in the diagonal and was 'fixed' (a la Cameron, Gelbach & Miller 2011).\n",
      "\n"
     ]
    },
    {
     "name": "stderr",
     "output_type": "stream",
     "text": [
      "Variance contained negative values in the diagonal and was 'fixed' (a la Cameron, Gelbach & Miller 2011).\n",
      "\n"
     ]
    },
    {
     "name": "stderr",
     "output_type": "stream",
     "text": [
      "Variance contained negative values in the diagonal and was 'fixed' (a la Cameron, Gelbach & Miller 2011).\n",
      "\n"
     ]
    },
    {
     "name": "stderr",
     "output_type": "stream",
     "text": [
      "Variance contained negative values in the diagonal and was 'fixed' (a la Cameron, Gelbach & Miller 2011).\n",
      "\n"
     ]
    },
    {
     "name": "stderr",
     "output_type": "stream",
     "text": [
      "Variance contained negative values in the diagonal and was 'fixed' (a la Cameron, Gelbach & Miller 2011).\n",
      "\n"
     ]
    },
    {
     "name": "stderr",
     "output_type": "stream",
     "text": [
      "Variance contained negative values in the diagonal and was 'fixed' (a la Cameron, Gelbach & Miller 2011).\n",
      "\n"
     ]
    },
    {
     "name": "stderr",
     "output_type": "stream",
     "text": [
      "Variance contained negative values in the diagonal and was 'fixed' (a la Cameron, Gelbach & Miller 2011).\n",
      "\n"
     ]
    },
    {
     "name": "stderr",
     "output_type": "stream",
     "text": [
      "Variance contained negative values in the diagonal and was 'fixed' (a la Cameron, Gelbach & Miller 2011).\n",
      "\n"
     ]
    },
    {
     "name": "stderr",
     "output_type": "stream",
     "text": [
      "Variance contained negative values in the diagonal and was 'fixed' (a la Cameron, Gelbach & Miller 2011).\n",
      "\n"
     ]
    },
    {
     "name": "stderr",
     "output_type": "stream",
     "text": [
      "Variance contained negative values in the diagonal and was 'fixed' (a la Cameron, Gelbach & Miller 2011).\n",
      "\n"
     ]
    },
    {
     "name": "stderr",
     "output_type": "stream",
     "text": [
      "Variance contained negative values in the diagonal and was 'fixed' (a la Cameron, Gelbach & Miller 2011).\n",
      "\n"
     ]
    },
    {
     "name": "stderr",
     "output_type": "stream",
     "text": [
      "Variance contained negative values in the diagonal and was 'fixed' (a la Cameron, Gelbach & Miller 2011).\n",
      "\n"
     ]
    },
    {
     "name": "stderr",
     "output_type": "stream",
     "text": [
      "Variance contained negative values in the diagonal and was 'fixed' (a la Cameron, Gelbach & Miller 2011).\n",
      "\n"
     ]
    },
    {
     "name": "stderr",
     "output_type": "stream",
     "text": [
      "Variance contained negative values in the diagonal and was 'fixed' (a la Cameron, Gelbach & Miller 2011).\n",
      "\n"
     ]
    },
    {
     "name": "stderr",
     "output_type": "stream",
     "text": [
      "Variance contained negative values in the diagonal and was 'fixed' (a la Cameron, Gelbach & Miller 2011).\n",
      "\n"
     ]
    },
    {
     "name": "stdout",
     "output_type": "stream",
     "text": [
      "155.74 sec elapsed\n"
     ]
    }
   ],
   "source": [
    "tic()\n",
    "sf_model = run_models_with_knots(sf, knot_combs, dependent_var, weather_var)\n",
    "toc()"
   ]
  },
  {
   "cell_type": "code",
   "execution_count": 41,
   "id": "92fc0d30-a215-43c7-9e0c-fa3d88c83338",
   "metadata": {
    "execution": {
     "iopub.execute_input": "2024-06-24T00:39:03.477850Z",
     "iopub.status.busy": "2024-06-24T00:39:03.477192Z",
     "iopub.status.idle": "2024-06-24T00:39:03.485280Z",
     "shell.execute_reply": "2024-06-24T00:39:03.484510Z"
    },
    "vscode": {
     "languageId": "r"
    }
   },
   "outputs": [
    {
     "data": {
      "text/html": [
       "'17_reduced_form_model_thi_mean_t0_3d_fixed_effect_2009-2023_2024_06_24_02_16_41_fat_sf_model.Rdata'"
      ],
      "text/latex": [
       "'17\\_reduced\\_form\\_model\\_thi\\_mean\\_t0\\_3d\\_fixed\\_effect\\_2009-2023\\_2024\\_06\\_24\\_02\\_16\\_41\\_fat\\_sf\\_model.Rdata'"
      ],
      "text/markdown": [
       "'17_reduced_form_model_thi_mean_t0_3d_fixed_effect_2009-2023_2024_06_24_02_16_41_fat_sf_model.Rdata'"
      ],
      "text/plain": [
       "[1] \"17_reduced_form_model_thi_mean_t0_3d_fixed_effect_2009-2023_2024_06_24_02_16_41_fat_sf_model.Rdata\""
      ]
     },
     "metadata": {},
     "output_type": "display_data"
    }
   ],
   "source": [
    "sf_model_name <- paste0(concatenated_string, \"_sf_model.Rdata\")\n",
    "sf_model_name"
   ]
  },
  {
   "cell_type": "code",
   "execution_count": 42,
   "id": "cd788ec1-833e-4677-a75b-57db926410d7",
   "metadata": {
    "execution": {
     "iopub.execute_input": "2024-06-24T00:39:03.488267Z",
     "iopub.status.busy": "2024-06-24T00:39:03.487520Z",
     "iopub.status.idle": "2024-06-24T00:39:03.493594Z",
     "shell.execute_reply": "2024-06-24T00:39:03.492836Z"
    },
    "vscode": {
     "languageId": "r"
    }
   },
   "outputs": [],
   "source": [
    "if (save) {\n",
    "    tic()\n",
    "    saveRDS(sf_model, file = sf_model_name, compress=T)\n",
    "    toc()\n",
    "}"
   ]
  },
  {
   "cell_type": "code",
   "execution_count": 43,
   "id": "93df992b-e0a0-45ac-97ca-59799099a44e",
   "metadata": {
    "execution": {
     "iopub.execute_input": "2024-06-24T00:39:03.495969Z",
     "iopub.status.busy": "2024-06-24T00:39:03.495328Z",
     "iopub.status.idle": "2024-06-24T00:39:03.501754Z",
     "shell.execute_reply": "2024-06-24T00:39:03.500990Z"
    },
    "vscode": {
     "languageId": "r"
    }
   },
   "outputs": [
    {
     "data": {
      "text/html": [
       "35"
      ],
      "text/latex": [
       "35"
      ],
      "text/markdown": [
       "35"
      ],
      "text/plain": [
       "[1] 35"
      ]
     },
     "metadata": {},
     "output_type": "display_data"
    }
   ],
   "source": [
    "sf_model$best_knot"
   ]
  },
  {
   "cell_type": "code",
   "execution_count": 44,
   "id": "3d2ca0f4-cf94-43d5-b36c-cbb3d4ce959d",
   "metadata": {
    "execution": {
     "iopub.execute_input": "2024-06-24T00:39:03.503981Z",
     "iopub.status.busy": "2024-06-24T00:39:03.503385Z",
     "iopub.status.idle": "2024-06-24T00:39:03.515481Z",
     "shell.execute_reply": "2024-06-24T00:39:03.514743Z"
    },
    "vscode": {
     "languageId": "r"
    }
   },
   "outputs": [
    {
     "data": {
      "text/plain": [
       "OLS estimation, Dep. Var.: fat\n",
       "Observations: 6,842,641\n",
       "Fixed-effects: farmId: 17,083\n",
       "Standard-errors: Clustered (year & farmId) \n",
       "                                           Estimate Std. Error    t value   Pr(>|t|)    \n",
       "lspline(thi_mean_t0_3d, knots = c(35))1 -0.00385056   0.000739  -5.207962 1.3264e-04 ***\n",
       "lspline(thi_mean_t0_3d, knots = c(35))2 -0.01146003   0.000239 -47.873305  < 2.2e-16 ***\n",
       "days_in_milk                             0.00188785   0.000022  84.304661  < 2.2e-16 ***\n",
       "lactationNumber                         -0.00945901   0.001265  -7.480398 2.9658e-06 ***\n",
       "precip_mean_t0_3d                        0.00089009   0.000443   2.007522 6.4398e-02 .  \n",
       "I(precip_mean_t0_3d^2)                   0.00000360   0.000020   0.181254 8.5877e-01    \n",
       "year2010                                 0.02162162   0.000895  24.171611 8.1330e-13 ***\n",
       "year2011                                 0.01561953   0.000499  31.320217 2.3019e-14 ***\n",
       "year2012                                 0.06258372   0.001277  49.020502  < 2.2e-16 ***\n",
       "year2013                                 0.04079852   0.001602  25.464331 3.9819e-13 ***\n",
       "year2014                                 0.02756355   0.001797  15.338463 3.7871e-10 ***\n",
       "year2015                                 0.05716640   0.001871  30.560505 3.2312e-14 ***\n",
       "year2016                                 0.09052114   0.002219  40.792840 5.9152e-16 ***\n",
       "year2017                                 0.06263851   0.002242  27.939976 1.1122e-13 ***\n",
       "year2018                                 0.11775247   0.002482  47.443761  < 2.2e-16 ***\n",
       "year2019                                 0.11983899   0.002692  44.520461  < 2.2e-16 ***\n",
       "year2020                                 0.16444907   0.002886  56.978028  < 2.2e-16 ***\n",
       "year2021                                 0.18224860   0.002913  62.573913  < 2.2e-16 ***\n",
       "year2022                                 0.17864978   0.003065  58.288896  < 2.2e-16 ***\n",
       "year2023                                 0.22193911   0.003015  73.606404  < 2.2e-16 ***\n",
       "---\n",
       "Signif. codes:  0 '***' 0.001 '**' 0.01 '*' 0.05 '.' 0.1 ' ' 1\n",
       "RMSE: 0.590265     Adj. R2: 0.184854\n",
       "                 Within R2: 0.120892"
      ]
     },
     "metadata": {},
     "output_type": "display_data"
    }
   ],
   "source": [
    "summary(sf_model$best_model)"
   ]
  },
  {
   "cell_type": "code",
   "execution_count": 45,
   "id": "f9a3eee1-dddb-472e-9f53-9d85dc96e770",
   "metadata": {
    "execution": {
     "iopub.execute_input": "2024-06-24T00:39:03.517719Z",
     "iopub.status.busy": "2024-06-24T00:39:03.517126Z",
     "iopub.status.idle": "2024-06-24T00:39:03.658283Z",
     "shell.execute_reply": "2024-06-24T00:39:03.657490Z"
    },
    "vscode": {
     "languageId": "r"
    }
   },
   "outputs": [
    {
     "name": "stderr",
     "output_type": "stream",
     "text": [
      "Warning message:\n",
      "“\u001b[1m\u001b[22mRemoved 38 rows containing missing values or values outside the scale range (`geom_line()`).”\n"
     ]
    },
    {
     "data": {
      "image/png": "[encoded data removed]",
      "text/plain": [
       "plot without title"
      ]
     },
     "metadata": {
      "image/png": {
       "height": 420,
       "width": 420
      }
     },
     "output_type": "display_data"
    }
   ],
   "source": [
    "sf_p <- create_effect_plot(sf, sf_model$best_model, sf_model$best_knot, dependent_var, weather_var, \"SF\")\n",
    "sf_p$plot"
   ]
  },
  {
   "cell_type": "markdown",
   "id": "87f72462-dbce-4907-9de4-fc42017cd690",
   "metadata": {},
   "source": [
    "# Original Braunvieh"
   ]
  },
  {
   "cell_type": "code",
   "execution_count": 46,
   "id": "a87ba09c-e38f-49ce-b3d5-0623ed8b8260",
   "metadata": {
    "execution": {
     "iopub.execute_input": "2024-06-24T00:39:03.660772Z",
     "iopub.status.busy": "2024-06-24T00:39:03.660153Z",
     "iopub.status.idle": "2024-06-24T00:39:25.415249Z",
     "shell.execute_reply": "2024-06-24T00:39:25.414282Z"
    },
    "vscode": {
     "languageId": "r"
    }
   },
   "outputs": [
    {
     "name": "stderr",
     "output_type": "stream",
     "text": [
      "Variance contained negative values in the diagonal and was 'fixed' (a la Cameron, Gelbach & Miller 2011).\n",
      "\n"
     ]
    },
    {
     "name": "stderr",
     "output_type": "stream",
     "text": [
      "Variance contained negative values in the diagonal and was 'fixed' (a la Cameron, Gelbach & Miller 2011).\n",
      "\n"
     ]
    },
    {
     "name": "stderr",
     "output_type": "stream",
     "text": [
      "Variance contained negative values in the diagonal and was 'fixed' (a la Cameron, Gelbach & Miller 2011).\n",
      "\n"
     ]
    },
    {
     "name": "stderr",
     "output_type": "stream",
     "text": [
      "Variance contained negative values in the diagonal and was 'fixed' (a la Cameron, Gelbach & Miller 2011).\n",
      "\n"
     ]
    },
    {
     "name": "stderr",
     "output_type": "stream",
     "text": [
      "Variance contained negative values in the diagonal and was 'fixed' (a la Cameron, Gelbach & Miller 2011).\n",
      "\n"
     ]
    },
    {
     "name": "stderr",
     "output_type": "stream",
     "text": [
      "Variance contained negative values in the diagonal and was 'fixed' (a la Cameron, Gelbach & Miller 2011).\n",
      "\n"
     ]
    },
    {
     "name": "stderr",
     "output_type": "stream",
     "text": [
      "Variance contained negative values in the diagonal and was 'fixed' (a la Cameron, Gelbach & Miller 2011).\n",
      "\n"
     ]
    },
    {
     "name": "stderr",
     "output_type": "stream",
     "text": [
      "Variance contained negative values in the diagonal and was 'fixed' (a la Cameron, Gelbach & Miller 2011).\n",
      "\n"
     ]
    },
    {
     "name": "stderr",
     "output_type": "stream",
     "text": [
      "Variance contained negative values in the diagonal and was 'fixed' (a la Cameron, Gelbach & Miller 2011).\n",
      "\n"
     ]
    },
    {
     "name": "stderr",
     "output_type": "stream",
     "text": [
      "Variance contained negative values in the diagonal and was 'fixed' (a la Cameron, Gelbach & Miller 2011).\n",
      "\n"
     ]
    },
    {
     "name": "stderr",
     "output_type": "stream",
     "text": [
      "Variance contained negative values in the diagonal and was 'fixed' (a la Cameron, Gelbach & Miller 2011).\n",
      "\n"
     ]
    },
    {
     "name": "stderr",
     "output_type": "stream",
     "text": [
      "Variance contained negative values in the diagonal and was 'fixed' (a la Cameron, Gelbach & Miller 2011).\n",
      "\n"
     ]
    },
    {
     "name": "stderr",
     "output_type": "stream",
     "text": [
      "Variance contained negative values in the diagonal and was 'fixed' (a la Cameron, Gelbach & Miller 2011).\n",
      "\n"
     ]
    },
    {
     "name": "stderr",
     "output_type": "stream",
     "text": [
      "Variance contained negative values in the diagonal and was 'fixed' (a la Cameron, Gelbach & Miller 2011).\n",
      "\n"
     ]
    },
    {
     "name": "stderr",
     "output_type": "stream",
     "text": [
      "Variance contained negative values in the diagonal and was 'fixed' (a la Cameron, Gelbach & Miller 2011).\n",
      "\n"
     ]
    },
    {
     "name": "stderr",
     "output_type": "stream",
     "text": [
      "Variance contained negative values in the diagonal and was 'fixed' (a la Cameron, Gelbach & Miller 2011).\n",
      "\n"
     ]
    },
    {
     "name": "stderr",
     "output_type": "stream",
     "text": [
      "Variance contained negative values in the diagonal and was 'fixed' (a la Cameron, Gelbach & Miller 2011).\n",
      "\n"
     ]
    },
    {
     "name": "stderr",
     "output_type": "stream",
     "text": [
      "Variance contained negative values in the diagonal and was 'fixed' (a la Cameron, Gelbach & Miller 2011).\n",
      "\n"
     ]
    },
    {
     "name": "stderr",
     "output_type": "stream",
     "text": [
      "Variance contained negative values in the diagonal and was 'fixed' (a la Cameron, Gelbach & Miller 2011).\n",
      "\n"
     ]
    },
    {
     "name": "stderr",
     "output_type": "stream",
     "text": [
      "Variance contained negative values in the diagonal and was 'fixed' (a la Cameron, Gelbach & Miller 2011).\n",
      "\n"
     ]
    },
    {
     "name": "stderr",
     "output_type": "stream",
     "text": [
      "Variance contained negative values in the diagonal and was 'fixed' (a la Cameron, Gelbach & Miller 2011).\n",
      "\n"
     ]
    },
    {
     "name": "stderr",
     "output_type": "stream",
     "text": [
      "Variance contained negative values in the diagonal and was 'fixed' (a la Cameron, Gelbach & Miller 2011).\n",
      "\n"
     ]
    },
    {
     "name": "stderr",
     "output_type": "stream",
     "text": [
      "Variance contained negative values in the diagonal and was 'fixed' (a la Cameron, Gelbach & Miller 2011).\n",
      "\n"
     ]
    },
    {
     "name": "stderr",
     "output_type": "stream",
     "text": [
      "Variance contained negative values in the diagonal and was 'fixed' (a la Cameron, Gelbach & Miller 2011).\n",
      "\n"
     ]
    },
    {
     "name": "stderr",
     "output_type": "stream",
     "text": [
      "Variance contained negative values in the diagonal and was 'fixed' (a la Cameron, Gelbach & Miller 2011).\n",
      "\n"
     ]
    },
    {
     "name": "stderr",
     "output_type": "stream",
     "text": [
      "Variance contained negative values in the diagonal and was 'fixed' (a la Cameron, Gelbach & Miller 2011).\n",
      "\n"
     ]
    },
    {
     "name": "stderr",
     "output_type": "stream",
     "text": [
      "Variance contained negative values in the diagonal and was 'fixed' (a la Cameron, Gelbach & Miller 2011).\n",
      "\n"
     ]
    },
    {
     "name": "stdout",
     "output_type": "stream",
     "text": [
      "21.748 sec elapsed\n"
     ]
    }
   ],
   "source": [
    "tic()\n",
    "ob_model = run_models_with_knots(ob, knot_combs, dependent_var, weather_var)\n",
    "toc()"
   ]
  },
  {
   "cell_type": "code",
   "execution_count": 47,
   "id": "4e884e30-6ec9-4fc2-b284-4a6487172e2b",
   "metadata": {
    "execution": {
     "iopub.execute_input": "2024-06-24T00:39:25.418395Z",
     "iopub.status.busy": "2024-06-24T00:39:25.417733Z",
     "iopub.status.idle": "2024-06-24T00:39:25.426010Z",
     "shell.execute_reply": "2024-06-24T00:39:25.425230Z"
    },
    "vscode": {
     "languageId": "r"
    }
   },
   "outputs": [
    {
     "data": {
      "text/html": [
       "'17_reduced_form_model_thi_mean_t0_3d_fixed_effect_2009-2023_2024_06_24_02_16_41_fat_ob_model.Rdata'"
      ],
      "text/latex": [
       "'17\\_reduced\\_form\\_model\\_thi\\_mean\\_t0\\_3d\\_fixed\\_effect\\_2009-2023\\_2024\\_06\\_24\\_02\\_16\\_41\\_fat\\_ob\\_model.Rdata'"
      ],
      "text/markdown": [
       "'17_reduced_form_model_thi_mean_t0_3d_fixed_effect_2009-2023_2024_06_24_02_16_41_fat_ob_model.Rdata'"
      ],
      "text/plain": [
       "[1] \"17_reduced_form_model_thi_mean_t0_3d_fixed_effect_2009-2023_2024_06_24_02_16_41_fat_ob_model.Rdata\""
      ]
     },
     "metadata": {},
     "output_type": "display_data"
    }
   ],
   "source": [
    "ob_model_name <- paste0(concatenated_string, \"_ob_model.Rdata\")\n",
    "ob_model_name"
   ]
  },
  {
   "cell_type": "code",
   "execution_count": 48,
   "id": "fdab3587-2a61-4e9b-b26c-e6cea235920c",
   "metadata": {
    "execution": {
     "iopub.execute_input": "2024-06-24T00:39:25.428428Z",
     "iopub.status.busy": "2024-06-24T00:39:25.427827Z",
     "iopub.status.idle": "2024-06-24T00:39:25.433058Z",
     "shell.execute_reply": "2024-06-24T00:39:25.432343Z"
    },
    "vscode": {
     "languageId": "r"
    }
   },
   "outputs": [],
   "source": [
    "if (save) {\n",
    "    tic()\n",
    "    saveRDS(ob_model, file = ob_model_name, compress=T)\n",
    "    toc()\n",
    "}"
   ]
  },
  {
   "cell_type": "code",
   "execution_count": 49,
   "id": "6d576060-2b21-475d-bccf-837c2157a437",
   "metadata": {
    "execution": {
     "iopub.execute_input": "2024-06-24T00:39:25.435358Z",
     "iopub.status.busy": "2024-06-24T00:39:25.434758Z",
     "iopub.status.idle": "2024-06-24T00:39:25.441070Z",
     "shell.execute_reply": "2024-06-24T00:39:25.440346Z"
    },
    "vscode": {
     "languageId": "r"
    }
   },
   "outputs": [
    {
     "data": {
      "text/html": [
       "35"
      ],
      "text/latex": [
       "35"
      ],
      "text/markdown": [
       "35"
      ],
      "text/plain": [
       "[1] 35"
      ]
     },
     "metadata": {},
     "output_type": "display_data"
    }
   ],
   "source": [
    "ob_model$best_knot"
   ]
  },
  {
   "cell_type": "code",
   "execution_count": 50,
   "id": "6c73cc59-b92a-4462-85bf-924d815557aa",
   "metadata": {
    "execution": {
     "iopub.execute_input": "2024-06-24T00:39:25.443946Z",
     "iopub.status.busy": "2024-06-24T00:39:25.442778Z",
     "iopub.status.idle": "2024-06-24T00:39:25.501757Z",
     "shell.execute_reply": "2024-06-24T00:39:25.497654Z"
    },
    "vscode": {
     "languageId": "r"
    }
   },
   "outputs": [
    {
     "data": {
      "text/plain": [
       "OLS estimation, Dep. Var.: fat\n",
       "Observations: 1,273,195\n",
       "Fixed-effects: farmId: 5,457\n",
       "Standard-errors: Clustered (year & farmId) \n",
       "                                           Estimate Std. Error    t value   Pr(>|t|)    \n",
       "lspline(thi_mean_t0_3d, knots = c(35))1 -0.00291476   0.000445  -6.550277 1.2904e-05 ***\n",
       "lspline(thi_mean_t0_3d, knots = c(35))2 -0.00773788   0.000378 -20.468642 7.8539e-12 ***\n",
       "days_in_milk                             0.00167893   0.000027  62.246352  < 2.2e-16 ***\n",
       "lactationNumber                         -0.01900603   0.000991 -19.187485 1.8853e-11 ***\n",
       "precip_mean_t0_3d                        0.00068680   0.000598   1.147694 2.7033e-01    \n",
       "I(precip_mean_t0_3d^2)                  -0.00000236   0.000023  -0.103728 9.1886e-01    \n",
       "year2010                                -0.03051390   0.002904 -10.508260 5.0378e-08 ***\n",
       "year2011                                -0.02320511   0.000851 -27.269348 1.5539e-13 ***\n",
       "year2012                                 0.01953346   0.001534  12.732690 4.3552e-09 ***\n",
       "year2013                                 0.00438433   0.002214   1.980009 6.7707e-02 .  \n",
       "year2014                                 0.00355604   0.002209   1.609954 1.2972e-01    \n",
       "year2015                                 0.02327109   0.003338   6.970902 6.5428e-06 ***\n",
       "year2016                                 0.04963600   0.004397  11.289452 2.0392e-08 ***\n",
       "year2017                                 0.03630313   0.004766   7.617582 2.4106e-06 ***\n",
       "year2018                                 0.06166018   0.005363  11.496705 1.6179e-08 ***\n",
       "year2019                                 0.06469504   0.005163  12.529939 5.3607e-09 ***\n",
       "year2020                                 0.06844376   0.005337  12.824115 3.9694e-09 ***\n",
       "year2021                                 0.08923178   0.005259  16.966779 9.8689e-11 ***\n",
       "year2022                                 0.06971578   0.005413  12.879399 3.7540e-09 ***\n",
       "year2023                                 0.07497452   0.005282  14.193824 1.0547e-09 ***\n",
       "---\n",
       "Signif. codes:  0 '***' 0.001 '**' 0.01 '*' 0.05 '.' 0.1 ' ' 1\n",
       "RMSE: 0.493546     Adj. R2: 0.186472\n",
       "                 Within R2: 0.122221"
      ]
     },
     "metadata": {},
     "output_type": "display_data"
    }
   ],
   "source": [
    "summary(ob_model$best_model)"
   ]
  },
  {
   "cell_type": "code",
   "execution_count": 51,
   "id": "8c5e7189-4c89-4817-a91b-0cf069649a9f",
   "metadata": {
    "execution": {
     "iopub.execute_input": "2024-06-24T00:39:25.524528Z",
     "iopub.status.busy": "2024-06-24T00:39:25.521256Z",
     "iopub.status.idle": "2024-06-24T00:39:26.157428Z",
     "shell.execute_reply": "2024-06-24T00:39:26.156555Z"
    },
    "vscode": {
     "languageId": "r"
    }
   },
   "outputs": [
    {
     "name": "stderr",
     "output_type": "stream",
     "text": [
      "Warning message:\n",
      "“\u001b[1m\u001b[22mRemoved 42 rows containing missing values or values outside the scale range (`geom_line()`).”\n"
     ]
    },
    {
     "data": {
      "image/png": "[encoded data removed]",
      "text/plain": [
       "plot without title"
      ]
     },
     "metadata": {
      "image/png": {
       "height": 420,
       "width": 420
      }
     },
     "output_type": "display_data"
    }
   ],
   "source": [
    "ob_p <- create_effect_plot(ob, ob_model$best_model, ob_model$best_knot, dependent_var, weather_var, \"OB\")\n",
    "ob_p$plot"
   ]
  },
  {
   "cell_type": "markdown",
   "id": "62d87ef9-7308-4550-8a96-00c809bb579f",
   "metadata": {},
   "source": [
    "## Merge data"
   ]
  },
  {
   "cell_type": "code",
   "execution_count": 52,
   "id": "d7387ef5-7381-4287-bcf1-43513897f8f0",
   "metadata": {
    "execution": {
     "iopub.execute_input": "2024-06-24T00:39:26.160749Z",
     "iopub.status.busy": "2024-06-24T00:39:26.160092Z",
     "iopub.status.idle": "2024-06-24T00:40:05.392482Z",
     "shell.execute_reply": "2024-06-24T00:40:05.391464Z"
    },
    "vscode": {
     "languageId": "r"
    }
   },
   "outputs": [],
   "source": [
    "breed_effect_data <- merge_plot_data(list(ho_p$data, bs_p$data, sf_p$data, si_p$data, bs_p$data, je_p$data, ob_p$data))\n",
    "saveRDS(ob_model, file = paste0(concatenated_string, \"_plot_data.Rdata\"), compress=T)"
   ]
  },
  {
   "cell_type": "code",
   "execution_count": 53,
   "id": "53c3c9bc-2698-47cb-8891-58a4a9a3da21",
   "metadata": {
    "execution": {
     "iopub.execute_input": "2024-06-24T00:40:05.396368Z",
     "iopub.status.busy": "2024-06-24T00:40:05.395745Z",
     "iopub.status.idle": "2024-06-24T00:40:05.402023Z",
     "shell.execute_reply": "2024-06-24T00:40:05.401253Z"
    },
    "vscode": {
     "languageId": "r"
    }
   },
   "outputs": [],
   "source": [
    "# Function to plot merged data\n",
    "plot_merged_data <- function(merged_data, predictor_var) {\n",
    "  # Create the plot\n",
    "    \n",
    "    y_min <- min(merged_data$Lower)\n",
    "    y_max <- max(merged_data$Upper)\n",
    "    plot <- ggplot(merged_data, aes(x = predictor_range, y = Effect, color = breed, fill = breed)) +\n",
    "    geom_line() +\n",
    "    geom_ribbon(aes(ymin = Lower, ymax = Upper), alpha = 0.3) +\n",
    "    labs(\n",
    "      title = paste0(\"Effect of\", predictor_var, \" per breed\"),\n",
    "      x = \"Predictor Variable Range\",\n",
    "      y = \"Effect\"\n",
    "    ) +\n",
    "    theme_minimal() +\n",
    "    scale_x_continuous(breaks = seq(40,  max(merged_data$predictor_range), by = 10), limits = c(40, max(merged_data$predictor_range))) +\n",
    "    scale_y_continuous(limits = c(y_min, y_max)) +\n",
    "    theme(\n",
    "      plot.title = element_text(hjust = 0.5),\n",
    "      plot.title.position = \"plot\",\n",
    "      axis.title.x = element_text(hjust = 0.5),\n",
    "      axis.title.y = element_text(hjust = 0.5)\n",
    "    ) +\n",
    "    facet_wrap(~ breed)\n",
    "  \n",
    "  \n",
    "  return(plot)\n",
    "}"
   ]
  },
  {
   "cell_type": "code",
   "execution_count": 54,
   "id": "6c0e96e2-74b3-448e-8c06-ce2bf91aeb30",
   "metadata": {
    "execution": {
     "iopub.execute_input": "2024-06-24T00:40:05.404996Z",
     "iopub.status.busy": "2024-06-24T00:40:05.404227Z",
     "iopub.status.idle": "2024-06-24T00:40:05.774275Z",
     "shell.execute_reply": "2024-06-24T00:40:05.773497Z"
    },
    "vscode": {
     "languageId": "r"
    }
   },
   "outputs": [
    {
     "name": "stderr",
     "output_type": "stream",
     "text": [
      "Warning message:\n",
      "“\u001b[1m\u001b[22mRemoved 286 rows containing missing values or values outside the scale range (`geom_line()`).”\n"
     ]
    },
    {
     "data": {
      "image/png": "[encoded data removed]",
      "text/plain": [
       "plot without title"
      ]
     },
     "metadata": {
      "image/png": {
       "height": 420,
       "width": 420
      }
     },
     "output_type": "display_data"
    }
   ],
   "source": [
    "plot_merged_data(breed_effect_data, weather_var)"
   ]
  }
 ],
 "metadata": {
  "kernelspec": {
   "display_name": "R",
   "language": "R",
   "name": "ir"
  },
  "language_info": {
   "codemirror_mode": "r",
   "file_extension": ".r",
   "mimetype": "text/x-r-source",
   "name": "R",
   "pygments_lexer": "r",
   "version": "4.3.1"
  }
 },
 "nbformat": 4,
 "nbformat_minor": 5
}
