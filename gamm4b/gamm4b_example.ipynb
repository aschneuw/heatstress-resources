{
 "cells": [
  {
   "cell_type": "markdown",
   "id": "e2aba282-16e5-4624-8f00-f48eac5d0911",
   "metadata": {},
   "source": [
    "# Fit a REML GAM as a REML GLMM with MixedEffects.jl"
   ]
  },
  {
   "cell_type": "code",
   "execution_count": 1,
   "id": "846d66ae-40ef-4804-80d8-8a4f7be1187a",
   "metadata": {},
   "outputs": [],
   "source": [
    "library(tictoc)"
   ]
  },
  {
   "cell_type": "code",
   "execution_count": 2,
   "id": "1b5c9f84-b926-496a-afca-4fff8de635ee",
   "metadata": {},
   "outputs": [
    {
     "name": "stdout",
     "output_type": "stream",
     "text": [
      "1.074 sec elapsed\n"
     ]
    }
   ],
   "source": [
    "tic()\n",
    "suppressPackageStartupMessages({\n",
    "    library(gamm4)\n",
    "    library(arrow)\n",
    "    library(dplyr)\n",
    "    library(arrow)\n",
    "    library(gratia)\n",
    "    library(base64enc)\n",
    "    library(jsonlite)\n",
    "    library(reticulate)\n",
    "    library(mgcViz)\n",
    "    library(MASS)\n",
    "})\n",
    "toc()"
   ]
  },
  {
   "cell_type": "code",
   "execution_count": 3,
   "id": "617a1089-75ae-4cd3-af06-b8aa35419b05",
   "metadata": {},
   "outputs": [],
   "source": [
    "experiment_name <- \"gammJ_devel-R-subsample-v8_je_ecm\"\n",
    "model_fname <- paste0(experiment_name, \"_gam_model.RData\")\n",
    "plot_fname <- paste0(experiment_name, \"_gam_plot_data.RData\")\n",
    "julia_fname <- paste0(experiment_name, \"_gam_julia_data.json\")"
   ]
  },
  {
   "cell_type": "code",
   "execution_count": 4,
   "id": "47e6a1e3-fa23-40bd-9739-3681a7c4888d",
   "metadata": {},
   "outputs": [],
   "source": [
    "tic()"
   ]
  },
  {
   "cell_type": "code",
   "execution_count": 5,
   "id": "83d63e7d-2496-403b-a38a-4d43d3c8c893",
   "metadata": {},
   "outputs": [],
   "source": [
    "set.seed(2024)"
   ]
  },
  {
   "cell_type": "code",
   "execution_count": 6,
   "id": "7f695b8f-d4e6-4105-a0d2-8dbfb6ccd6a4",
   "metadata": {},
   "outputs": [
    {
     "name": "stdout",
     "output_type": "stream",
     "text": [
      "1.511 sec elapsed\n"
     ]
    }
   ],
   "source": [
    "tic()\n",
    "data <- read_parquet(\"/home/aschneuwl/workspace/agecon-thesis/notebooks/02_models/30_base_data_september_JE.parquet\")\n",
    "toc()"
   ]
  },
  {
   "cell_type": "code",
   "execution_count": 7,
   "id": "1727ba0d-cb2d-4dde-b778-5dda53a58e96",
   "metadata": {},
   "outputs": [],
   "source": [
    "data$year <- as.factor(data$year)"
   ]
  },
  {
   "cell_type": "code",
   "execution_count": 8,
   "id": "7c39f60d-1c0c-48bc-91d5-8875524f3697",
   "metadata": {},
   "outputs": [],
   "source": [
    "data <- droplevels(data)"
   ]
  },
  {
   "cell_type": "code",
   "execution_count": 9,
   "id": "65b915ab-d775-4e2b-b52a-c9314d9f1fa3",
   "metadata": {},
   "outputs": [],
   "source": [
    "# Define a function that takes the dataframe and a threshold as arguments\n",
    "sample_farms_until_threshold <- function(dataframe, threshold) {\n",
    "  # Get all unique farm IDs and shuffle the list of unique farms\n",
    "  unique_farms <- unique(dataframe$farmIdLocationSample)\n",
    "  shuffled_farms <- sample(unique_farms)  # This shuffles the unique farm IDs\n",
    "  \n",
    "  # Initialize an empty data frame to store the selected samples\n",
    "  selected_samples <- data.frame()\n",
    "  \n",
    "  # Initialize the total number of samples collected\n",
    "  total_samples <- 0\n",
    "  \n",
    "  # Loop through the shuffled farms and add samples from each farm until the threshold is reached\n",
    "  for (farm_id in shuffled_farms) {\n",
    "    # Extract all samples for the current farm\n",
    "    farm_samples <- dataframe[dataframe$farmIdLocationSample == farm_id, ]\n",
    "    \n",
    "    # Add the number of samples from this farm to the total count\n",
    "    total_samples <- total_samples + nrow(farm_samples)\n",
    "    \n",
    "    # Append these farm samples to the selected_samples data frame\n",
    "    selected_samples <- rbind(selected_samples, farm_samples)\n",
    "    \n",
    "    # Check if we have reached the threshold\n",
    "    if (total_samples >= threshold) {\n",
    "      break  # Stop once we have reached the threshold\n",
    "    }\n",
    "  }\n",
    "  \n",
    "  # Return the resulting dataframe with selected samples\n",
    "  return(selected_samples)\n",
    "}"
   ]
  },
  {
   "cell_type": "code",
   "execution_count": 10,
   "id": "cfdfafb9-f61f-425d-a0fc-3674e4e931c3",
   "metadata": {},
   "outputs": [
    {
     "name": "stdout",
     "output_type": "stream",
     "text": [
      "130.244 sec elapsed\n"
     ]
    }
   ],
   "source": [
    "tic()\n",
    "df_subsample <- sample_farms_until_threshold(data, 200000)\n",
    "rm(data)\n",
    "toc()"
   ]
  },
  {
   "cell_type": "code",
   "execution_count": 11,
   "id": "c713bca3-5d95-4cf7-8f8d-8969a284f993",
   "metadata": {},
   "outputs": [
    {
     "name": "stdout",
     "output_type": "stream",
     "text": [
      "0.04 sec elapsed\n"
     ]
    }
   ],
   "source": [
    "tic()\n",
    "df_subsample <- droplevels(df_subsample)\n",
    "toc()"
   ]
  },
  {
   "cell_type": "code",
   "execution_count": 12,
   "id": "ef41b0e9-a8a7-4538-8ecb-ce08dbea10a3",
   "metadata": {},
   "outputs": [
    {
     "data": {
      "text/html": [
       "200234"
      ],
      "text/latex": [
       "200234"
      ],
      "text/markdown": [
       "200234"
      ],
      "text/plain": [
       "[1] 200234"
      ]
     },
     "metadata": {},
     "output_type": "display_data"
    }
   ],
   "source": [
    "nrow(df_subsample)"
   ]
  },
  {
   "cell_type": "code",
   "execution_count": 13,
   "id": "0e5843e1-8865-46d7-8be8-d56e0918c7fd",
   "metadata": {},
   "outputs": [],
   "source": [
    "gamm4_formula = milk_ecm ~ 1 + s(thi_mean_t0_3d) + s(days_in_milk) + parity + year\n",
    "gamm4_random= ~((1 | zip_month) + (1 | farmIdLocationSample) + (1 | animalId))\n",
    "gamm4_family=gaussian()\n",
    "gamm4_data=df_subsample\n",
    "gamm4_weights=NULL\n",
    "gamm4_subset=NULL\n",
    "gamm4_knots=NULL\n",
    "gamm4_drop.unused.levels=TRUE\n",
    "gamm4_REML=TRUE\n",
    "gamm4_control=lmerControl(calc.derivs = FALSE, optimizer = \"bobyqa\", optCtrl = list())\n",
    "gamm4_start=NULL\n",
    "gamm4_verbose=10"
   ]
  },
  {
   "cell_type": "code",
   "execution_count": 14,
   "id": "451df631-b365-41c5-87b2-3e1784013662",
   "metadata": {},
   "outputs": [],
   "source": [
    "# Extract variable names of random effects\n",
    "if (!is.null(gamm4_random)) {\n",
    "    if (!inherits(gamm4_random,\"formula\")) stop(\"gamm4 requires `random' to be a formula\")\n",
    "    random.vars <- all.vars(gamm4_random)\n",
    "  } else random.vars <- NULL"
   ]
  },
  {
   "cell_type": "code",
   "execution_count": 15,
   "id": "288255ee-3ec4-4c6a-847a-6f076e22475a",
   "metadata": {},
   "outputs": [
    {
     "data": {
      "text/html": [
       "<style>\n",
       ".list-inline {list-style: none; margin:0; padding: 0}\n",
       ".list-inline>li {display: inline-block}\n",
       ".list-inline>li:not(:last-child)::after {content: \"\\00b7\"; padding: 0 .5ex}\n",
       "</style>\n",
       "<ol class=list-inline><li>'zip_month'</li><li>'farmIdLocationSample'</li><li>'animalId'</li></ol>\n"
      ],
      "text/latex": [
       "\\begin{enumerate*}\n",
       "\\item 'zip\\_month'\n",
       "\\item 'farmIdLocationSample'\n",
       "\\item 'animalId'\n",
       "\\end{enumerate*}\n"
      ],
      "text/markdown": [
       "1. 'zip_month'\n",
       "2. 'farmIdLocationSample'\n",
       "3. 'animalId'\n",
       "\n",
       "\n"
      ],
      "text/plain": [
       "[1] \"zip_month\"            \"farmIdLocationSample\" \"animalId\"            "
      ]
     },
     "metadata": {},
     "output_type": "display_data"
    }
   ],
   "source": [
    "random.vars"
   ]
  },
  {
   "cell_type": "code",
   "execution_count": 16,
   "id": "ca1b45d7-f94c-466b-a64f-236fce6189bf",
   "metadata": {},
   "outputs": [],
   "source": [
    "# create model frame.....\n",
    "# this takes the model formula interpetes the smooth part and splits it from the pure parametric part. the parametric parts will be first, followed by the smooths\n",
    "gam_params <- interpret.gam(gamm4_formula) "
   ]
  },
  {
   "cell_type": "code",
   "execution_count": 17,
   "id": "ebadd6a1-6a19-49b0-8855-ac2a04d5b41f",
   "metadata": {},
   "outputs": [],
   "source": [
    "gam_model_frame <- model.frame(formula=gam_params$fake.formula,\n",
    "                           data=gamm4_data,\n",
    "                           REML=NULL,\n",
    "                           verbose=NULL,\n",
    "                           control=NULL,,\n",
    "                           start=NULL,\n",
    "                           family=NULL,\n",
    "                           scale=NULL,\n",
    "                           knots=NULL,\n",
    "                           random=NULL,\n",
    "                           drop.unused.levels=gamm4_drop.unused.levels)"
   ]
  },
  {
   "cell_type": "code",
   "execution_count": 18,
   "id": "b964b9b4-573a-4694-b252-d6b2881fb1a6",
   "metadata": {},
   "outputs": [],
   "source": [
    "gam.terms <- attr(gam_model_frame,\"terms\") # terms object for `gam' part of fit -- need this for prediction to work properly"
   ]
  },
  {
   "cell_type": "code",
   "execution_count": 19,
   "id": "a627aeae-49b6-4ed4-a05f-2cb34f10b951",
   "metadata": {},
   "outputs": [
    {
     "name": "stdout",
     "output_type": "stream",
     "text": [
      "milk_ecm ~ parity + year + thi_mean_t0_3d + days_in_milk + zip_month + \n",
      "    farmIdLocationSample + animalId\n",
      "0.028 sec elapsed\n"
     ]
    }
   ],
   "source": [
    "tic()\n",
    "# checks if model has random effects\n",
    "if (length(random.vars)) {\n",
    "    # create model frame for the mixed effects model - but only if there are random effects\n",
    "    model_formula <- as.formula(paste(paste(deparse(gam_params$fake.formula, backtick = TRUE), collapse = \"\"), \"+\", paste(random.vars, collapse = \"+\")))\n",
    "    print(model_formula)\n",
    "    lmm_model_frame <- model.frame(formula=model_formula,\n",
    "                           data=gamm4_data,\n",
    "                           REML=NULL,\n",
    "                           verbose=NULL,\n",
    "                           control=NULL,,\n",
    "                           start=NULL,\n",
    "                           family=NULL,\n",
    "                           scale=NULL,\n",
    "                           knots=NULL,\n",
    "                           random=NULL,\n",
    "                           drop.unused.levels=gamm4_drop.unused.levels)\n",
    "} else lmm_model_frame <- gam_model_frame\n",
    "rm(gam_model_frame)\n",
    "\n",
    "# check the number of datapoints\n",
    "if (nrow(lmm_model_frame)<2) {\n",
    "    stop(\"Not enough (non-NA) data to do anything meaningful\")\n",
    "    }\n",
    "toc()"
   ]
  },
  {
   "cell_type": "code",
   "execution_count": 20,
   "id": "e2c94748-5e5a-41cf-8a9f-feb2e4f46802",
   "metadata": {},
   "outputs": [
    {
     "name": "stdout",
     "output_type": "stream",
     "text": [
      "0.012 sec elapsed\n"
     ]
    }
   ],
   "source": [
    "# create variable summary for the mgcv library\n",
    "tic()\n",
    "vars <- all.vars(gam_params$fake.formula[-2]) ## drop dependent variable (y) here\n",
    "dl = as.list(gamm4_data[,vars])\n",
    "var.summary <- mgcv:::variable.summary(gam_params$pf,dl,nrow(lmm_model_frame)) ## summarize the input data\n",
    "rm(dl)\n",
    "toc()"
   ]
  },
  {
   "cell_type": "code",
   "execution_count": 21,
   "id": "3b935e57-48fc-4dbe-a4fe-38a158b579de",
   "metadata": {},
   "outputs": [],
   "source": [
    "#mvars <- vars[!vars%in%names(lmm_model_frame)] ## variables not in mf raw -- can cause lmer problem\n",
    "#if (length(mvars)>0) for (i in 1:length(mvars)) mf[[mvars[i]]] <- dl[[mvars[i]]] ## append raw versions to mf"
   ]
  },
  {
   "cell_type": "code",
   "execution_count": 22,
   "id": "40136a88-854a-47c7-80b5-34d1d416b625",
   "metadata": {},
   "outputs": [
    {
     "name": "stdout",
     "output_type": "stream",
     "text": [
      "0.014 sec elapsed\n"
     ]
    }
   ],
   "source": [
    "# Fixed Effect model frame without the smooth terms and random effects\n",
    "tic()\n",
    "pmf <- model.frame(formula=gam_params$pf,\n",
    "                           data=gamm4_data,\n",
    "                           REML=NULL,\n",
    "                           verbose=NULL,\n",
    "                           control=NULL,\n",
    "                           start=NULL,\n",
    "                           family=NULL,\n",
    "                           scale=NULL,\n",
    "                           knots=NULL,\n",
    "                           random=NULL,\n",
    "                           drop.unused.levels=gamm4_drop.unused.levels)\n",
    "toc()"
   ]
  },
  {
   "cell_type": "code",
   "execution_count": 23,
   "id": "6e03044b-2cae-4fd2-8d8c-e5a00fba03b0",
   "metadata": {},
   "outputs": [
    {
     "data": {
      "text/plain": [
       "milk_ecm ~ parity + year"
      ]
     },
     "metadata": {},
     "output_type": "display_data"
    }
   ],
   "source": [
    "gam_params$pf"
   ]
  },
  {
   "cell_type": "code",
   "execution_count": 24,
   "id": "6482776d-8d42-41f8-872c-d4818cc4b545",
   "metadata": {},
   "outputs": [],
   "source": [
    "p_terms <- attr(pmf,\"terms\")"
   ]
  },
  {
   "cell_type": "code",
   "execution_count": 25,
   "id": "a1177c89-85cc-4e18-9c8a-0439a72d002d",
   "metadata": {},
   "outputs": [],
   "source": [
    "# Decision LMM or GLMM\n",
    "if (is.character(gamm4_family)) gamm4_family<-eval(parse(text=family))\n",
    "if (is.function(gamm4_family)) gamm4_family <- family()\n",
    "if (is.null(gamm4_family$family)) stop(\"family not recognized\")\n",
    "if (gamm4_family$family == \"gaussian\" && gamm4_family$link == \"identity\") is_lmm <- TRUE else is_lmm <- FALSE"
   ]
  },
  {
   "cell_type": "code",
   "execution_count": 26,
   "id": "8b557c63-4e3f-450b-b810-1950d62e1b05",
   "metadata": {},
   "outputs": [
    {
     "data": {
      "text/html": [
       "TRUE"
      ],
      "text/latex": [
       "TRUE"
      ],
      "text/markdown": [
       "TRUE"
      ],
      "text/plain": [
       "[1] TRUE"
      ]
     },
     "metadata": {},
     "output_type": "display_data"
    }
   ],
   "source": [
    "is_lmm"
   ]
  },
  {
   "cell_type": "markdown",
   "id": "12c1e9a3-96cc-485e-b06b-5c91815e889f",
   "metadata": {},
   "source": [
    "# Prepare matrices for smooth terms"
   ]
  },
  {
   "cell_type": "code",
   "execution_count": 27,
   "id": "7526cd11-c8dd-42d0-aeed-0023ff786379",
   "metadata": {},
   "outputs": [
    {
     "name": "stdout",
     "output_type": "stream",
     "text": [
      "2.215 sec elapsed\n"
     ]
    }
   ],
   "source": [
    "tic()\n",
    "G <- mgcv:::gam.setup(gam_params,p_terms,\n",
    "                 data=lmm_model_frame,knots=gamm4_knots,sp=NULL, min.sp=NULL,H=NULL,absorb.cons=TRUE,sparse.cons=0,gamm.call=TRUE)\n",
    "toc()"
   ]
  },
  {
   "cell_type": "code",
   "execution_count": 28,
   "id": "17a5ac7f-c737-442e-83fd-324c957e2eeb",
   "metadata": {},
   "outputs": [
    {
     "data": {
      "text/html": [
       "<style>\n",
       ".list-inline {list-style: none; margin:0; padding: 0}\n",
       ".list-inline>li {display: inline-block}\n",
       ".list-inline>li:not(:last-child)::after {content: \"\\00b7\"; padding: 0 .5ex}\n",
       "</style>\n",
       "<ol class=list-inline><li>'m'</li><li>'min.sp'</li><li>'pearson.extra'</li><li>'dev.extra'</li><li>'n.true'</li><li>'pterms'</li><li>'intercept'</li><li>'nsdf'</li><li>'contrasts'</li><li>'xlevels'</li><li>'assign'</li><li>'smooth'</li><li>'S'</li><li>'off'</li><li>'cmX'</li><li>'X'</li><li>'sp'</li><li>'rank'</li><li>'n.paraPen'</li><li>'lsp0'</li><li>'y'</li><li>'n'</li><li>'w'</li><li>'term.names'</li></ol>\n"
      ],
      "text/latex": [
       "\\begin{enumerate*}\n",
       "\\item 'm'\n",
       "\\item 'min.sp'\n",
       "\\item 'pearson.extra'\n",
       "\\item 'dev.extra'\n",
       "\\item 'n.true'\n",
       "\\item 'pterms'\n",
       "\\item 'intercept'\n",
       "\\item 'nsdf'\n",
       "\\item 'contrasts'\n",
       "\\item 'xlevels'\n",
       "\\item 'assign'\n",
       "\\item 'smooth'\n",
       "\\item 'S'\n",
       "\\item 'off'\n",
       "\\item 'cmX'\n",
       "\\item 'X'\n",
       "\\item 'sp'\n",
       "\\item 'rank'\n",
       "\\item 'n.paraPen'\n",
       "\\item 'lsp0'\n",
       "\\item 'y'\n",
       "\\item 'n'\n",
       "\\item 'w'\n",
       "\\item 'term.names'\n",
       "\\end{enumerate*}\n"
      ],
      "text/markdown": [
       "1. 'm'\n",
       "2. 'min.sp'\n",
       "3. 'pearson.extra'\n",
       "4. 'dev.extra'\n",
       "5. 'n.true'\n",
       "6. 'pterms'\n",
       "7. 'intercept'\n",
       "8. 'nsdf'\n",
       "9. 'contrasts'\n",
       "10. 'xlevels'\n",
       "11. 'assign'\n",
       "12. 'smooth'\n",
       "13. 'S'\n",
       "14. 'off'\n",
       "15. 'cmX'\n",
       "16. 'X'\n",
       "17. 'sp'\n",
       "18. 'rank'\n",
       "19. 'n.paraPen'\n",
       "20. 'lsp0'\n",
       "21. 'y'\n",
       "22. 'n'\n",
       "23. 'w'\n",
       "24. 'term.names'\n",
       "\n",
       "\n"
      ],
      "text/plain": [
       " [1] \"m\"             \"min.sp\"        \"pearson.extra\" \"dev.extra\"    \n",
       " [5] \"n.true\"        \"pterms\"        \"intercept\"     \"nsdf\"         \n",
       " [9] \"contrasts\"     \"xlevels\"       \"assign\"        \"smooth\"       \n",
       "[13] \"S\"             \"off\"           \"cmX\"           \"X\"            \n",
       "[17] \"sp\"            \"rank\"          \"n.paraPen\"     \"lsp0\"         \n",
       "[21] \"y\"             \"n\"             \"w\"             \"term.names\"   "
      ]
     },
     "metadata": {},
     "output_type": "display_data"
    }
   ],
   "source": [
    "names(G)"
   ]
  },
  {
   "cell_type": "code",
   "execution_count": 29,
   "id": "36909e16-a825-4888-b068-81de7d87d41f",
   "metadata": {},
   "outputs": [],
   "source": [
    "if (!is.null(G$L)) {\n",
    "    stop(\"gammJ can not handle linked smoothing parameters (probably from use of `id' or adaptive smooths)\")\n",
    "}"
   ]
  },
  {
   "cell_type": "code",
   "execution_count": 30,
   "id": "d37ea4b3-2716-41a3-bbbc-aa501d3a35cc",
   "metadata": {},
   "outputs": [],
   "source": [
    "first.f.para <- G$nsdf+1 # number of parametric, non-smooth, model terms including the intercept + 1\n",
    "\n",
    "random_effects <- list()\n",
    "\n",
    "# create index selector for all fixed effect terms including the incercept in the G$X matrix (this does not include the fixed effect terms generated for the smooth)\n",
    "if (G$nsdf>0) {\n",
    "    ind <- 1:G$nsdf\n",
    "} else {\n",
    "    ind <- rep(0,0)\n",
    "}\n",
    "\n",
    "# create sparse fixed effect matrix with the index selector created above\n",
    "X <- G$X[,ind,drop=FALSE] # accumulate fixed effects into here\n",
    "xlab <- rep(\"\",0)\n",
    "G$Xf <- as(X,\"dgCMatrix\") ## sparse version of full matrix, treating smooths as fixed\n",
    "\n",
    "first.para <- G$nsdf+1\n",
    "\n",
    "used.names <- names(lmm_model_frame) ## keep track of all variable names already used"
   ]
  },
  {
   "cell_type": "code",
   "execution_count": 31,
   "id": "78c72cee-a620-452d-b82e-f60e46dfdb3e",
   "metadata": {},
   "outputs": [
    {
     "data": {
      "text/html": [
       "<style>\n",
       ".list-inline {list-style: none; margin:0; padding: 0}\n",
       ".list-inline>li {display: inline-block}\n",
       ".list-inline>li:not(:last-child)::after {content: \"\\00b7\"; padding: 0 .5ex}\n",
       "</style>\n",
       "<ol class=list-inline><li>'term'</li><li>'bs.dim'</li><li>'fixed'</li><li>'dim'</li><li>'p.order'</li><li>'by'</li><li>'label'</li><li>'xt'</li><li>'id'</li><li>'sp'</li><li>'drop.null'</li><li>'S'</li><li>'UZ'</li><li>'Xu'</li><li>'df'</li><li>'shift'</li><li>'rank'</li><li>'null.space.dim'</li><li>'plot.me'</li><li>'side.constrain'</li><li>'repara'</li><li>'S.scale'</li><li>'vn'</li><li>'first.para'</li><li>'last.para'</li><li>'first.sp'</li><li>'last.sp'</li></ol>\n"
      ],
      "text/latex": [
       "\\begin{enumerate*}\n",
       "\\item 'term'\n",
       "\\item 'bs.dim'\n",
       "\\item 'fixed'\n",
       "\\item 'dim'\n",
       "\\item 'p.order'\n",
       "\\item 'by'\n",
       "\\item 'label'\n",
       "\\item 'xt'\n",
       "\\item 'id'\n",
       "\\item 'sp'\n",
       "\\item 'drop.null'\n",
       "\\item 'S'\n",
       "\\item 'UZ'\n",
       "\\item 'Xu'\n",
       "\\item 'df'\n",
       "\\item 'shift'\n",
       "\\item 'rank'\n",
       "\\item 'null.space.dim'\n",
       "\\item 'plot.me'\n",
       "\\item 'side.constrain'\n",
       "\\item 'repara'\n",
       "\\item 'S.scale'\n",
       "\\item 'vn'\n",
       "\\item 'first.para'\n",
       "\\item 'last.para'\n",
       "\\item 'first.sp'\n",
       "\\item 'last.sp'\n",
       "\\end{enumerate*}\n"
      ],
      "text/markdown": [
       "1. 'term'\n",
       "2. 'bs.dim'\n",
       "3. 'fixed'\n",
       "4. 'dim'\n",
       "5. 'p.order'\n",
       "6. 'by'\n",
       "7. 'label'\n",
       "8. 'xt'\n",
       "9. 'id'\n",
       "10. 'sp'\n",
       "11. 'drop.null'\n",
       "12. 'S'\n",
       "13. 'UZ'\n",
       "14. 'Xu'\n",
       "15. 'df'\n",
       "16. 'shift'\n",
       "17. 'rank'\n",
       "18. 'null.space.dim'\n",
       "19. 'plot.me'\n",
       "20. 'side.constrain'\n",
       "21. 'repara'\n",
       "22. 'S.scale'\n",
       "23. 'vn'\n",
       "24. 'first.para'\n",
       "25. 'last.para'\n",
       "26. 'first.sp'\n",
       "27. 'last.sp'\n",
       "\n",
       "\n"
      ],
      "text/plain": [
       " [1] \"term\"           \"bs.dim\"         \"fixed\"          \"dim\"           \n",
       " [5] \"p.order\"        \"by\"             \"label\"          \"xt\"            \n",
       " [9] \"id\"             \"sp\"             \"drop.null\"      \"S\"             \n",
       "[13] \"UZ\"             \"Xu\"             \"df\"             \"shift\"         \n",
       "[17] \"rank\"           \"null.space.dim\" \"plot.me\"        \"side.constrain\"\n",
       "[21] \"repara\"         \"S.scale\"        \"vn\"             \"first.para\"    \n",
       "[25] \"last.para\"      \"first.sp\"       \"last.sp\"       "
      ]
     },
     "metadata": {},
     "output_type": "display_data"
    }
   ],
   "source": [
    "names(G$smooth[[1]])"
   ]
  },
  {
   "cell_type": "code",
   "execution_count": 32,
   "id": "d6ab5ab4-221e-448b-9928-a0712254c3bc",
   "metadata": {},
   "outputs": [
    {
     "name": "stdout",
     "output_type": "stream",
     "text": [
      "0.098 sec elapsed\n"
     ]
    }
   ],
   "source": [
    "tic()\n",
    "## work through the smooths (G$m is the number of smooth terms)\n",
    "## sm stands for smooth term\n",
    "if (G$m) for (i in 1:G$m) {\n",
    "    \n",
    "    # get the parameters for smooth\n",
    "    sm <- G$smooth[[i]] \n",
    "\n",
    "    # get corresponding column indexed for the fixed effect matrix\n",
    "    sm_fixed_start_idx <- sm$first.para\n",
    "    sm_fixed_stop_idx <- sm$last.para\n",
    "\n",
    "    # create sparse matrix X in smooth term with the corresponding fixed effect matrix columns\n",
    "    sm$X <- G$X[,sm_fixed_start_idx:sm_fixed_stop_idx,drop=FALSE]\n",
    "\n",
    "    ## convert smooth to random effect and fixed effects (mixed effecgt model smooth)\n",
    "    rand_smooth <- mgcv::smooth2random(sm,used.names,type=2) \n",
    "    used.names <- c(used.names,names(rand_smooth$rand))    \n",
    "\n",
    "    # fixed boolean (is the smooth penalized or not)\n",
    "    sm$fixed <- rand_smooth$fixed\n",
    "\n",
    "    # handle fixed effect matrix if smooth comes with \"by\" interaction\n",
    "    ## deal with creation of sparse full model matrix when the smooth term is split by group variable (\"by\")\n",
    "    ## when by is used then object$fac is created --> smooth.r in the MGCV library\n",
    "    if (!is.null(sm$fac)) {\n",
    "      # factor levels for smooth according to the \"by\" argument (no interaction)\n",
    "      flev <- levels(sm$fac) ## grouping factor for smooth\n",
    "      # number of factor levels\n",
    "      n.lev <- length(flev)  \n",
    "      for (k in 1:n.lev) {\n",
    "        G$Xf <- cbind2(G$Xf,as(sm$X*as.numeric(sm$fac==flev[k]),\"dgCMatrix\"))\n",
    "      }\n",
    "    } else {\n",
    "    # no \"by\" argument in the smooth (no interaction)\n",
    "      n.lev <- 1\n",
    "      G$Xf <- cbind2(G$Xf,as(sm$X,\"dgCMatrix\"))\n",
    "    }\n",
    "    \n",
    "    ## now append random effects to main list\n",
    "    n.para <- 0 ## count random coefficients of all random components of the smooth (number of parameters for the current smooth term)\n",
    "    #rinc <- rind <- rep(0,0)\n",
    "    if (!sm$fixed) {\n",
    "    # random effect component of smooth if it is penalized (unpenalized smooths are pure regression splines and don't have a random component)\n",
    "      for (k in 1:length(rand_smooth$rand)) {\n",
    "          # number of random components of the smooth\n",
    "          n.para <- n.para + ncol(rand_smooth$rand[[k]])\n",
    "      }\n",
    "      \n",
    "      # name of the smooth\n",
    "      sm$lmer.name <- names(rand_smooth$rand)\n",
    "      # append to list of Z\n",
    "      random_effects <- c(random_effects,rand_smooth$rand)\n",
    "      # reverse transformations\n",
    "      sm$trans.D <- rand_smooth$trans.D\n",
    "      sm$trans.U <- rand_smooth$trans.U ## matrix mapping fit coefs back to original\n",
    "    }\n",
    "    \n",
    "    ## ensure stored first and last para relate to G$Xf in expanded version\n",
    "    sm$last.para <- first.para + ncol(rand_smooth$Xf) + n.para - 1\n",
    "    sm$first.para <- first.para\n",
    "    first.para <- sm$last.para + 1    \n",
    "\n",
    "    ## Smooth term fixed effect matrix labels\n",
    "    if (ncol(rand_smooth$Xf)) {\n",
    "      Xfnames <- rep(\"\",ncol(rand_smooth$Xf)) \n",
    "      k <- length(xlab)+1\n",
    "      for (j in 1:ncol(rand_smooth$Xf)) {\n",
    "        xlab[k] <- Xfnames[j] <-\n",
    "        new.name(paste(sm$label,\"Fx\",j,sep=\"\"),xlab)\n",
    "        k <- k + 1\n",
    "      } \n",
    "      colnames(rand_smooth$Xf) <- Xfnames\n",
    "      sm$xf_smooth_names <- Xfnames\n",
    "    }\n",
    "    \n",
    "    X <- cbind(X,rand_smooth$Xf) # add fixed model matrix to overall fixed X\n",
    "    \n",
    "    sm$first.f.para <- first.f.para\n",
    "    first.f.para <- first.f.para + ncol(rand_smooth$Xf)\n",
    "    sm$last.f.para <- first.f.para - 1 ## note less than sm$first.f.para => no fixed\n",
    "    \n",
    "    ## store indices of random parameters in smooth specific array\n",
    "    sm$rind <- rand_smooth$rind \n",
    "    sm$rinc <- rand_smooth$rinc \n",
    "    \n",
    "    sm$pen.ind <- rand_smooth$pen.ind ## pen.ind==i TRUE for coef penalized by ith penalty\n",
    "    \n",
    "    sm$n.para <- n.para\n",
    "    \n",
    "    sm$X <- NULL ## delete model matrix\n",
    "    \n",
    "    G$smooth[[i]] <- sm  ## replace smooth object with extended version \n",
    "}\n",
    "\n",
    "G$random <- random_effects ## named list of random effect matrices\n",
    "G$X <- X\n",
    "toc()"
   ]
  },
  {
   "cell_type": "code",
   "execution_count": 33,
   "id": "23c9f406-849a-47e5-9eda-74da1fc4704b",
   "metadata": {},
   "outputs": [],
   "source": [
    "G$var.summary <- var.summary"
   ]
  },
  {
   "cell_type": "code",
   "execution_count": 34,
   "id": "ad9bf7be-659a-488d-a3e1-6a89dec8fe60",
   "metadata": {},
   "outputs": [],
   "source": [
    "if (is.null(gamm4_random)&&n.sr==0) \n",
    "  stop(\"gamm4 models must have at least 1 smooth with unknown smoothing parameter or at least one other random effect\")"
   ]
  },
  {
   "cell_type": "code",
   "execution_count": 35,
   "id": "1ac25baa-758b-4186-9867-5dfb3fc148e2",
   "metadata": {},
   "outputs": [],
   "source": [
    "offset.name <- attr(lmm_model_frame,\"names\")[attr(attr(lmm_model_frame,\"terms\"),\"offset\")]"
   ]
  },
  {
   "cell_type": "markdown",
   "id": "a6e1ee91-cbbf-4ac4-9ce6-104da0ca1fff",
   "metadata": {},
   "source": [
    "## Add updated data to model frame"
   ]
  },
  {
   "cell_type": "code",
   "execution_count": 36,
   "id": "b85a5d08-c95b-4f67-87c5-9b638c2fa472",
   "metadata": {},
   "outputs": [],
   "source": [
    "# add y to the model.frame\n",
    "yname <- new.name(\"y\",names(lmm_model_frame))\n",
    "eval(parse(text=paste(\"lmm_model_frame$\",yname,\"<-G$y\",sep=\"\")))\n",
    "\n",
    "## add constructed X to the model.frame\n",
    "Xname <- new.name(\"X\",names(lmm_model_frame))\n",
    "eval(parse(text=paste(\"lmm_model_frame$\",Xname,\"<-G$X\",sep=\"\")))"
   ]
  },
  {
   "cell_type": "code",
   "execution_count": 37,
   "id": "aa5b8a2e-0d9d-4229-90b3-c4dd39be9333",
   "metadata": {},
   "outputs": [],
   "source": [
    "# add each random smooth component to the model frame\n",
    "n_random_smooth_c <- length(G$random)\n",
    "random_smooth_c_names <- names(G$random)\n",
    "if (n_random_smooth_c){\n",
    "    for (i in 1:n_random_smooth_c) { \n",
    "        lmm_model_frame[[random_smooth_c_names[i]]] <- factor(rep(1:ncol(G$random[[i]]),length=nrow(G$random[[i]])))\n",
    "    }\n",
    "}"
   ]
  },
  {
   "cell_type": "markdown",
   "id": "4b7d0e32-a209-4a04-b68b-cbb9063c2eca",
   "metadata": {},
   "source": [
    "### Construct LME4 formula"
   ]
  },
  {
   "cell_type": "code",
   "execution_count": 38,
   "id": "42d0f739-1792-4838-93e9-443f7962378f",
   "metadata": {},
   "outputs": [],
   "source": [
    "#the intercept is excluded from the mixed model formula because its already included in the fixed effect matrix X\n",
    "lme4.formula <- paste(yname,\"~\",Xname,\"-1\") \n",
    "\n",
    "# add offset variables\n",
    "if (length(offset.name)) {\n",
    "    lme4.formula <- paste(lme4.formula,\"+\",offset.name) \n",
    "}\n",
    "\n",
    "## append the regular random effects\n",
    "if (!is.null(gamm4_random)) { \n",
    "    lme4.formula <- paste(lme4.formula,\"+\",\n",
    "                substring(paste(deparse(gamm4_random,backtick=TRUE),collapse=\"\"),first=2))\n",
    "}\n",
    "\n",
    "# add each random smooth component to the model formula\n",
    "random_smooth_c_names <- names(G$random)\n",
    "if (n_random_smooth_c){\n",
    "    for (i in 1:n_random_smooth_c) { \n",
    "        lme4.formula <- paste(lme4.formula,\"+ (1|\",random_smooth_c_names[i],\")\")\n",
    "    }\n",
    "}\n",
    "\n"
   ]
  },
  {
   "cell_type": "code",
   "execution_count": 39,
   "id": "de478265-29d3-4667-959e-6b9e15096e34",
   "metadata": {},
   "outputs": [],
   "source": [
    "lme4.formula <- as.formula(lme4.formula)"
   ]
  },
  {
   "cell_type": "code",
   "execution_count": 40,
   "id": "b64da6b2-6b8b-46bf-8338-43737cdc1db4",
   "metadata": {},
   "outputs": [
    {
     "data": {
      "text/plain": [
       "y ~ X - 1 + ((1 | zip_month) + (1 | farmIdLocationSample) + (1 | \n",
       "    animalId)) + (1 | Xr) + (1 | Xr.0)"
      ]
     },
     "metadata": {},
     "output_type": "display_data"
    }
   ],
   "source": [
    "lme4.formula"
   ]
  },
  {
   "cell_type": "code",
   "execution_count": 41,
   "id": "a3198c2d-7b58-410b-bf4b-01660f466962",
   "metadata": {},
   "outputs": [
    {
     "name": "stdout",
     "output_type": "stream",
     "text": [
      "2.258 sec elapsed\n"
     ]
    }
   ],
   "source": [
    "tic()\n",
    "if (is_lmm) {\n",
    "    b <- lFormula(lme4.formula,data=lmm_model_frame,weights=G$w,REML=gamm4_REML,control=gamm4_control)\n",
    "        } else { \n",
    "    b <- glFormula(lme4.formula,data=mf,family=gamm4_family,weights=G$w,control=gamm4_control)\n",
    "}\n",
    "toc()"
   ]
  },
  {
   "cell_type": "markdown",
   "id": "e5a0b119-e805-4d1c-960e-a5641ca44d4d",
   "metadata": {},
   "source": [
    "## Prepare data to pass over to Julia via JSON\n",
    "currently over files --> could use JuliaCall later on"
   ]
  },
  {
   "cell_type": "code",
   "execution_count": 42,
   "id": "4fc3affa-71ca-4874-b251-7027d66a1327",
   "metadata": {},
   "outputs": [],
   "source": [
    "library(arrow)\n",
    "library(base64enc)"
   ]
  },
  {
   "cell_type": "code",
   "execution_count": 43,
   "id": "299ad28c-f60c-4c88-a4c5-13e8c875b29b",
   "metadata": {},
   "outputs": [],
   "source": [
    "arrow_base64 <- function(data) {\n",
    "    buffer_output <- BufferOutputStream$create()\n",
    "    \n",
    "    # Write the data frame to the Parquet format in the buffer\n",
    "    write_parquet(data, sink = buffer_output, compression = \"snappy\")\n",
    "    \n",
    "    # Get the raw binary data from the buffer\n",
    "    raw_data <- buffer_output$finish()$data()\n",
    "    \n",
    "    # Encode the binary data to Base64\n",
    "    base64_encoded <- base64encode(raw_data)\n",
    "\n",
    "    return(base64_encoded)\n",
    "}"
   ]
  },
  {
   "cell_type": "code",
   "execution_count": 44,
   "id": "93823a83-bd0c-49ab-b967-e5a57164b71c",
   "metadata": {},
   "outputs": [],
   "source": [
    "base64_to_dataframe <- function(base64_string) {\n",
    "  # Decode the Base64 string to raw binary data\n",
    "  raw_data <- base64decode(base64_string)\n",
    "  \n",
    "  # Create a BufferReader from the raw binary data\n",
    "  buffer_input <- BufferReader$create(raw_data)\n",
    "  \n",
    "  # Read the data frame from the Parquet format in the buffer\n",
    "  data <- read_parquet(buffer_input)\n",
    "\n",
    "  data <- as.data.frame(data)\n",
    "  \n",
    "  return(data)\n",
    "}"
   ]
  },
  {
   "cell_type": "code",
   "execution_count": 45,
   "id": "617e3e9f-bde1-4a6b-b32e-8651b5025244",
   "metadata": {},
   "outputs": [
    {
     "name": "stdout",
     "output_type": "stream",
     "text": [
      "0.274 sec elapsed\n"
     ]
    }
   ],
   "source": [
    "tic()\n",
    "julia_data = list()\n",
    "\n",
    "# dependent variable\n",
    "julia_data$y <- NULL\n",
    "julia_data[\"weights\"] <- arrow_base64(as.data.frame(G$w))\n",
    "\n",
    "# smooths metadata\n",
    "julia_data$smooths_data <- list()\n",
    "julia_data$smooths_data$mixed_model_refs <- list()\n",
    "#julia_data$smooths_data$smooths <- list()\n",
    "\n",
    "# fixed effects data\n",
    "julia_data$fixed_effect_data <- list()\n",
    "\n",
    "# random effects data\n",
    "julia_data$random_effects_data <- list() \n",
    "\n",
    "# smooth term random effects data\n",
    "julia_data$random_effects_data$smooths <- list()\n",
    "julia_data$random_effects_data$smooths$group_names <- names(G$random)\n",
    "julia_data$random_effects_data$smooths$z <- list()\n",
    "julia_data$random_effects_data$smooths$groups <- list()\n",
    "\n",
    "# regular random effects data\n",
    "julia_data$random_effects_data$regular <- list()\n",
    "julia_data$random_effects_data$regular$group_names <- setdiff(names(b$reTrms$cnms), random_smooth_c_names)\n",
    "julia_data$random_effects_data$regular$cnames <- list()\n",
    "julia_data$random_effects_data$regular$groups <- list()\n",
    "\n",
    "fe_x <- lmm_model_frame[[\"X\"]]\n",
    "fe_cols <- colnames(fe_x)\n",
    "julia_data$fixed_effect_data$cnames <- fe_cols\n",
    "julia_data$fixed_effect_data$x <- arrow_base64(as.data.frame(fe_x))\n",
    "\n",
    "for (re_col in julia_data$random_effects_data$regular$group_names) {\n",
    "    julia_data$random_effects_data$regular$groups[[re_col]] = arrow_base64(lmm_model_frame[re_col])\n",
    "    julia_data$random_effects_data$regular$cnames[[re_col]] = b$reTrms$cnms[[re_col]]\n",
    "}\n",
    "\n",
    "for (re_col in names(G$random)) {\n",
    "    julia_data$random_effects_data$smooths$z[[re_col]] = arrow_base64(as.data.frame(G$random[re_col]))\n",
    "    julia_data$random_effects_data$smooths$groups[[re_col]] = arrow_base64(lmm_model_frame[re_col])\n",
    "    julia_data$random_effects_data$smooths$cnames[[re_col]] =  attr(G$random[[re_col]],\"s.label\") #b$reTrms$cnms[[re_col]]\n",
    "}\n",
    "\n",
    "julia_data$y <- arrow_base64(lmm_model_frame[\"y\"])\n",
    "\n",
    "for (i in 1:G$m) {\n",
    "    smooth_label <- G$smooth[[i]]$label\n",
    "    julia_data$smooths_data$smooths[[i]] <- smooth_label\n",
    "    \n",
    "    xf_groups <- G$smooth[[i]]$lmer.name\n",
    "    xf_names <- G$smooth[[i]]$xf_smooth_names\n",
    "    julia_data$smooths_data$mixed_model_refs[[smooth_label]] <- list()\n",
    "    julia_data$smooths_data$mixed_model_refs[[smooth_label]][[\"xf_groups\"]] <- xf_groups\n",
    "    julia_data$smooths_data$mixed_model_refs[[smooth_label]][[\"xf_names\"]] <- xf_names\n",
    "}\n",
    "toc()"
   ]
  },
  {
   "cell_type": "code",
   "execution_count": 46,
   "id": "df798172-4bff-4ce6-9e16-ec5ff5fe4834",
   "metadata": {},
   "outputs": [
    {
     "data": {
      "text/html": [
       "<style>\n",
       ".list-inline {list-style: none; margin:0; padding: 0}\n",
       ".list-inline>li {display: inline-block}\n",
       ".list-inline>li:not(:last-child)::after {content: \"\\00b7\"; padding: 0 .5ex}\n",
       "</style>\n",
       "<ol class=list-inline><li>'Xr'</li><li>'Xr.0'</li></ol>\n"
      ],
      "text/latex": [
       "\\begin{enumerate*}\n",
       "\\item 'Xr'\n",
       "\\item 'Xr.0'\n",
       "\\end{enumerate*}\n"
      ],
      "text/markdown": [
       "1. 'Xr'\n",
       "2. 'Xr.0'\n",
       "\n",
       "\n"
      ],
      "text/plain": [
       "[1] \"Xr\"   \"Xr.0\""
      ]
     },
     "metadata": {},
     "output_type": "display_data"
    }
   ],
   "source": [
    "julia_data$random_effects_data$smooths$group_names"
   ]
  },
  {
   "cell_type": "code",
   "execution_count": 47,
   "id": "07b81243-22a5-4266-9c72-304a77be402c",
   "metadata": {},
   "outputs": [
    {
     "name": "stdout",
     "output_type": "stream",
     "text": [
      "0.001 sec elapsed\n"
     ]
    }
   ],
   "source": [
    "tic()\n",
    "#write_json(julia_data, auto_unbox=TRUE, path = julia_fname)\n",
    "toc()"
   ]
  },
  {
   "cell_type": "code",
   "execution_count": 48,
   "id": "937fa452-fd0c-41ad-9758-e8a150a1c5bf",
   "metadata": {},
   "outputs": [
    {
     "data": {
      "text/plain": [
       "y ~ X - 1 + ((1 | zip_month) + (1 | farmIdLocationSample) + (1 | \n",
       "    animalId)) + (1 | Xr) + (1 | Xr.0)"
      ]
     },
     "metadata": {},
     "output_type": "display_data"
    }
   ],
   "source": [
    "lme4.formula"
   ]
  },
  {
   "cell_type": "markdown",
   "id": "2cf70f15-eff6-482a-97c8-f1a3c46d87ce",
   "metadata": {},
   "source": [
    "# Fitting with replacing Z for Smooths (Fabian Scheipl's Trick) - (with LME4 - for testing and comparing)"
   ]
  },
  {
   "cell_type": "code",
   "execution_count": 49,
   "id": "3f99cc7b-6fb4-4d4f-9b8f-3acf09c29b72",
   "metadata": {},
   "outputs": [
    {
     "name": "stdout",
     "output_type": "stream",
     "text": [
      "1.892 sec elapsed\n"
     ]
    }
   ],
   "source": [
    "tic()\n",
    "## Fabian Scheipl's trick of overwriting dummy slots revised for new structure\n",
    "if (is_lmm) {\n",
    "    b <- lFormula(lme4.formula,data=lmm_model_frame,weights=G$w,REML=gamm4_REML,control=gamm4_control)\n",
    "        } else { \n",
    "    b <- glFormula(lme4.formula,data=mf,family=gamm4_family,weights=G$w,control=gamm4_control)\n",
    "}\n",
    "toc()"
   ]
  },
  {
   "cell_type": "code",
   "execution_count": 50,
   "id": "f5865478-70b9-4425-8ca1-ac454399d7ab",
   "metadata": {},
   "outputs": [
    {
     "name": "stdout",
     "output_type": "stream",
     "text": [
      "[1] 1\n",
      "[1] 2\n",
      "12.569 sec elapsed\n"
     ]
    }
   ],
   "source": [
    "tic()\n",
    "if (n_random_smooth_c) {\n",
    "    #Get summary of the existing sparse matrix\n",
    "    sparse_summary <- as.data.frame(summary(b$reTrms$Zt))\n",
    "    sparse_dims <- dim(b$reTrms$Zt)\n",
    "    \n",
    "    z_var_names <- names(b$reTrms$cnms) # variable names associated with columns of then random effect matrix Z\n",
    "    z_var_names_idx <- 1:length(z_var_names) # index for each variable name above\n",
    "    z_smooth_names <- names(G$random) # variable names associated with the random components generated for smooths\n",
    "\n",
    "    ## loop through random effect smooths and ingest them into Z\n",
    "    for (i in 1:n_random_smooth_c) {\n",
    "        print(i)\n",
    "        k <- z_var_names_idx[z_smooth_names[i]==z_var_names] ## which term (variable) name represents random smooth i\n",
    "\n",
    "        # Step 1: Extract indices and values from the transposed matrix\n",
    "        indices <- which(t(G$random[[i]]) != 0, arr.ind = TRUE)\n",
    "        values <- t(G$random[[i]])[indices]\n",
    "        \n",
    "        # Step 2: Create dense summary DataFrame\n",
    "        dense_summary <- data.frame(i = indices[, 1], j = indices[, 2], x = values)\n",
    "        \n",
    "        # Adjust row indices according to b$reTrms$Gp[k]\n",
    "        dense_summary$i <- dense_summary$i + b$reTrms$Gp[k]\n",
    "        \n",
    "        # Remove rows from sparse_summary that have the same (i, j) as in dense_summary\n",
    "        filtered_sparse_summary <- sparse_summary[!paste(sparse_summary$i, sparse_summary$j) %in% paste(dense_summary$i, dense_summary$j), ]\n",
    "        \n",
    "        # Step 4: Combine the filtered sparse summary with the dense summary\n",
    "        combined_summary <- rbind(filtered_sparse_summary, dense_summary)\n",
    "\n",
    "        sparse_summary <- combined_summary\n",
    "        \n",
    "        # Step 5: Determine the new dimensions of the sparse matrix\n",
    "        #nrow_combined <- max(combined_summary$i)\n",
    "        #ncol_combined <- max(combined_summary$j)\n",
    "              \n",
    "       #ii <- (b$reTrms$Gp[k]+1):b$reTrms$Gp[k+1] # get  column indices of random effect matrix belonging to that smooth\n",
    "       #b$reTrms$Zt[ii,] <- as(t(G$random[[i]]),\"dgCMatrix\") # ingest the corresponding random effect matrix\n",
    "       b$reTrms$cnms[[k]] <- attr(G$random[[i]],\"s.label\") \n",
    "     }\n",
    "    \n",
    "    # Create the new sparse matrix\n",
    "    new_sparse_mat <- sparseMatrix(\n",
    "          i = sparse_summary$i,\n",
    "          j = sparse_summary$j,\n",
    "          x = sparse_summary$x,\n",
    "          dims = c(sparse_dims[1], sparse_dims[2])\n",
    "        )\n",
    "        \n",
    "    # Step 6: Assign row and column names from the original matrix\n",
    "    rownames(new_sparse_mat) <- rownames(b$reTrms$Zt)\n",
    "    colnames(new_sparse_mat) <- colnames(b$reTrms$Zt)\n",
    "    \n",
    "    b$reTrms$Zt <- new_sparse_mat\n",
    "}\n",
    "toc()"
   ]
  },
  {
   "cell_type": "code",
   "execution_count": 51,
   "id": "cdb0d948-2cb4-4320-899c-636fd7f3e0d5",
   "metadata": {},
   "outputs": [
    {
     "name": "stdout",
     "output_type": "stream",
     "text": [
      "npt = 7 , n =  5 \n",
      "rhobeg =  0.2 , rhoend =  2e-07 \n",
      "start par. =  1 1 1 1 1 fn =  1140381 \n",
      "  1:     1140381.5:  1.00000  1.00000  1.00000  1.00000  1.00000\n",
      "  2:     1141698.4:  1.20000  1.00000  1.00000  1.00000  1.00000\n",
      "  3:     1142014.2:  1.00000  1.20000  1.00000  1.00000  1.00000\n",
      "  4:     1140487.3:  1.00000  1.00000  1.20000  1.00000  1.00000\n",
      "  5:     1140374.6:  1.00000  1.00000  1.00000  1.20000  1.00000\n",
      "  6:     1140383.3:  1.00000  1.00000  1.00000  1.00000  1.20000\n",
      "  7:     1139380.5: 0.800000  1.00000  1.00000  1.00000  1.00000\n",
      "  8:     1137606.2: 0.719790 0.817174 0.988155  1.00076 0.999792\n",
      "  9:     1134698.1: 0.599586 0.436492 0.963061  1.00240 0.999362\n",
      " 10:     1148163.6: 0.428464  0.00000 0.372162 0.831090 0.795196\n",
      " 11:     1136258.0: 0.442514 0.252571  1.26496  1.06472  1.07983\n",
      " 12:     1136226.6: 0.536277 0.591306 0.855699 0.982637  1.00973\n",
      "rho:    0.020 eval:  12 fn:  1.13470e+06 par:0.599586 0.436492 0.963061  1.00240 0.999362 \n",
      " 13:     1134450.0: 0.671707 0.417723 0.984602 0.955560 0.957072\n",
      " 14:     1134333.7: 0.737565 0.378538 0.957065 0.994813 0.999830\n",
      " 15:     1134226.0: 0.718390 0.355056 0.920780 0.984656 0.987135\n",
      " 16:     1134313.3: 0.750383 0.364610 0.892900 0.963157 0.975069\n",
      " 17:     1134232.4: 0.720218 0.356931 0.919590 0.998386 0.972879\n",
      " 18:     1134193.0: 0.719631 0.336873 0.928203 0.982709 0.984140\n",
      " 19:     1134171.9: 0.715691 0.319881 0.929921 0.989543 0.990929\n",
      " 20:     1134162.4: 0.706180 0.307650 0.940482 0.985036 0.985630\n",
      " 21:     1134196.8: 0.719248 0.292890 0.942881 0.982677 0.985864\n",
      " 22:     1134155.1: 0.694178 0.305143 0.955251 0.988663 0.989918\n",
      " 23:     1134147.8: 0.681213 0.306897 0.944670 0.982921 0.999077\n",
      " 24:     1134144.6: 0.674926 0.310591 0.937432 0.999299 0.993960\n",
      " 25:     1134149.5: 0.672247 0.325432 0.940012 0.986978 0.990206\n",
      "rho:   0.0020 eval:  25 fn:  1.13414e+06 par:0.674926 0.310591 0.937432 0.999299 0.993960 \n",
      " 26:     1134143.8: 0.678729 0.312185 0.935584  1.00298  1.00209\n",
      " 27:     1134144.4: 0.681246 0.308924 0.928781  1.00750  1.00613\n",
      " 28:     1134144.2: 0.682425 0.312955 0.935017  1.00164  1.00097\n",
      " 29:     1134144.1: 0.679905 0.310414 0.935093  1.00689  1.00431\n",
      " 30:     1134143.6: 0.678515 0.314103 0.935731  1.00348  1.00207\n",
      " 31:     1134143.5: 0.677762 0.314897 0.934169  1.00348  1.00267\n",
      " 32:     1134143.5: 0.677545 0.315617 0.933597  1.00341  1.00443\n",
      "rho:  0.00020 eval:  32 fn:  1.13414e+06 par:0.677762 0.314897 0.934169  1.00348  1.00267 \n",
      " 33:     1134143.5: 0.677403 0.315120 0.933777  1.00419  1.00226\n",
      " 34:     1134143.4: 0.676934 0.315092 0.933369  1.00585  1.00133\n",
      " 35:     1134143.2: 0.676406 0.314708 0.933030  1.00922 0.999299\n",
      " 36:     1134142.9: 0.675646 0.313760 0.932805  1.01589 0.995067\n",
      " 37:     1134142.6: 0.674272 0.311749 0.933064  1.02935 0.986765\n",
      " 38:     1134142.6: 0.673836 0.311538 0.932754  1.03216 0.984971\n",
      " 39:     1134142.5: 0.672900 0.310553 0.930868  1.03929 0.982209\n",
      " 40:     1134142.6: 0.672757 0.310587 0.931621  1.03886 0.981503\n",
      " 41:     1134142.3: 0.673830 0.310822 0.930540  1.03920 0.981743\n",
      " 42:     1134142.2: 0.674572 0.310415 0.929922  1.03891 0.981440\n",
      " 43:     1134142.3: 0.674867 0.310182 0.930258  1.03909 0.981619\n",
      " 44:     1134142.1: 0.674789 0.310927 0.929839  1.03896 0.981429\n",
      " 45:     1134141.8: 0.675242 0.311942 0.929665  1.03904 0.981431\n",
      " 46:     1134141.5: 0.676200 0.313903 0.929132  1.03919 0.981558\n",
      " 47:     1134141.4: 0.676684 0.315006 0.928893  1.03972 0.981892\n",
      " 48:     1134141.3: 0.676615 0.314816 0.928536  1.04236 0.981189\n",
      " 49:     1134141.0: 0.676440 0.314419 0.927782  1.04731 0.978905\n",
      " 50:     1134140.8: 0.676315 0.314062 0.927408  1.05239 0.976820\n",
      " 51:     1134140.5: 0.675949 0.313789 0.926664  1.05704 0.973984\n",
      " 52:     1134140.2: 0.675714 0.312764 0.925826  1.06695 0.969303\n",
      " 53:     1134139.5: 0.674577 0.311637 0.922673  1.08730 0.961503\n",
      " 54:     1134139.5: 0.672860 0.308307 0.917151  1.11987 0.949742\n",
      " 55:     1134141.6: 0.677236 0.304088 0.910959  1.11887 0.950995\n",
      " 56:     1134139.9: 0.670933 0.310448 0.918604  1.10280 0.963357\n",
      " 57:     1134145.9: 0.670138 0.300664 0.920499  1.11944 0.949712\n",
      " 58:     1134137.9: 0.676639 0.315820 0.914939  1.11650 0.955642\n",
      " 59:     1134138.7: 0.672351 0.316765 0.913800  1.11313 0.950258\n",
      " 60:     1134138.5: 0.672363 0.317051 0.911982  1.12041 0.957453\n",
      " 61:     1134138.0: 0.678124 0.315303 0.915286  1.11082 0.960748\n",
      " 62:     1134137.9: 0.675760 0.315355 0.916472  1.11663 0.955976\n",
      " 63:     1134137.6: 0.677838 0.314853 0.915256  1.11965 0.953972\n",
      " 64:     1134137.4: 0.678870 0.314521 0.914340  1.12662 0.950759\n",
      " 65:     1134137.1: 0.679370 0.313991 0.912720  1.13391 0.948581\n",
      " 66:     1134136.8: 0.680390 0.313289 0.910167  1.14821 0.943007\n",
      " 67:     1134136.1: 0.681703 0.312607 0.905305  1.17750 0.933476\n",
      " 68:     1134135.7: 0.683525 0.309949 0.895451  1.23368 0.908263\n",
      " 69:     1134136.2: 0.685147 0.309440 0.896114  1.23480 0.911148\n",
      " 70:     1134136.1: 0.685984 0.311289 0.893312  1.23316 0.907811\n",
      " 71:     1134135.2: 0.682597 0.310642 0.896653  1.23227 0.905416\n",
      " 72:     1134134.8: 0.681698 0.311319 0.899335  1.22830 0.900181\n",
      " 73:     1134134.6: 0.679569 0.313662 0.901946  1.21502 0.903795\n",
      " 74:     1134135.2: 0.677770 0.315643 0.906511  1.18894 0.914624\n",
      " 75:     1134135.7: 0.680674 0.309299 0.900685  1.21396 0.903514\n",
      " 76:     1134134.5: 0.678958 0.315186 0.901256  1.21773 0.907163\n",
      " 77:     1134134.8: 0.682416 0.314998 0.903803  1.21697 0.905247\n",
      " 78:     1134134.5: 0.677845 0.314346 0.903462  1.21694 0.908469\n",
      " 79:     1134134.5: 0.677362 0.314892 0.904060  1.21484 0.905711\n",
      " 80:     1134134.5: 0.677398 0.314698 0.903941  1.21562 0.909432\n",
      " 81:     1134134.4: 0.678410 0.314337 0.902994  1.21780 0.907075\n",
      " 82:     1134134.4: 0.678617 0.314278 0.902556  1.22086 0.905259\n",
      " 83:     1134134.2: 0.678608 0.313959 0.902017  1.22598 0.903657\n",
      " 84:     1134134.2: 0.678395 0.313917 0.902199  1.22690 0.903594\n",
      " 85:     1134134.2: 0.678338 0.313910 0.902242  1.22714 0.903588\n",
      " 86:     1134134.2: 0.678301 0.313722 0.902257  1.22711 0.903633\n",
      " 87:     1134134.2: 0.678362 0.314092 0.902228  1.22720 0.903529\n",
      " 88:     1134134.2: 0.678277 0.314342 0.902180  1.22733 0.903267\n",
      " 89:     1134134.2: 0.678275 0.314531 0.902144  1.22796 0.902803\n",
      " 90:     1134134.1: 0.678344 0.314484 0.902075  1.22949 0.902349\n",
      " 91:     1134134.1: 0.678337 0.314482 0.901770  1.23242 0.901093\n",
      " 92:     1134133.9: 0.678294 0.314382 0.901127  1.23798 0.898006\n",
      " 93:     1134133.7: 0.678766 0.314196 0.898893  1.25022 0.895028\n",
      " 94:     1134133.4: 0.678507 0.314720 0.898751  1.25998 0.886766\n",
      " 95:     1134133.0: 0.679099 0.314193 0.894870  1.28390 0.878570\n",
      " 96:     1134132.2: 0.679462 0.313662 0.890063  1.32919 0.855175\n",
      " 97:     1134131.6: 0.680791 0.312630 0.878362  1.42268 0.815103\n",
      " 98:     1134131.6: 0.680566 0.312468 0.876912  1.43328 0.809679\n",
      " 99:     1134131.5: 0.680157 0.312561 0.877335  1.43319 0.808181\n",
      "100:     1134131.5: 0.681396 0.309818 0.884001  1.43190 0.803002\n",
      "101:     1134133.0: 0.685340 0.319810 0.878414  1.43291 0.807039\n",
      "102:     1134131.1: 0.681895 0.313246 0.881641  1.43161 0.802364\n",
      "103:     1134130.9: 0.681663 0.313298 0.880193  1.44590 0.797158\n",
      "104:     1134130.6: 0.680462 0.313706 0.877652  1.47335 0.784048\n",
      "105:     1134130.6: 0.680380 0.313375 0.870626  1.52949 0.760943\n",
      "106:     1134133.2: 0.669659 0.321700 0.886160  1.47493 0.786169\n",
      "107:     1134130.4: 0.677038 0.315441 0.879148  1.47377 0.784703\n",
      "108:     1134130.2: 0.681230 0.313659 0.882022  1.47654 0.790832\n",
      "109:     1134130.0: 0.680347 0.314763 0.882955  1.47399 0.785046\n",
      "110:     1134130.1: 0.680075 0.314846 0.884029  1.46311 0.790431\n",
      "111:     1134130.7: 0.677249 0.309557 0.883982  1.47436 0.784529\n",
      "112:     1134129.9: 0.679582 0.313893 0.882480  1.47971 0.782127\n",
      "113:     1134129.9: 0.679589 0.313664 0.881504  1.48586 0.780122\n",
      "114:     1134129.9: 0.678337 0.314567 0.882260  1.47978 0.782387\n",
      "115:     1134129.9: 0.678728 0.314225 0.882052  1.48107 0.781880\n",
      "116:     1134129.9: 0.678478 0.314425 0.882141  1.48005 0.783270\n",
      "117:     1134129.9: 0.678547 0.314371 0.882652  1.47913 0.781272\n",
      "118:     1134129.8: 0.678091 0.314635 0.883171  1.47744 0.780555\n",
      "119:     1134129.8: 0.677968 0.314705 0.883305  1.47718 0.780253\n",
      "120:     1134129.8: 0.677916 0.314735 0.883353  1.47698 0.780170\n",
      "121:     1134129.8: 0.677870 0.314797 0.883572  1.47602 0.780140\n",
      "122:     1134129.8: 0.677817 0.314814 0.883802  1.47475 0.780369\n",
      "123:     1134129.8: 0.677833 0.314804 0.883745  1.47503 0.780342\n",
      "124:     1134129.8: 0.677810 0.314782 0.883613  1.47471 0.780332\n",
      "125:     1134129.8: 0.677826 0.314845 0.883993  1.47479 0.780407\n",
      "126:     1134129.8: 0.677849 0.314902 0.884377  1.47485 0.780479\n",
      "127:     1134129.7: 0.677932 0.314957 0.885165  1.47483 0.780569\n",
      "128:     1134129.6: 0.678052 0.315073 0.886439  1.47388 0.780464\n",
      "129:     1134129.5: 0.678077 0.315215 0.887691  1.47103 0.779735\n",
      "130:     1134129.5: 0.677511 0.315429 0.888918  1.46815 0.779548\n",
      "131:     1134129.4: 0.677814 0.315372 0.889909  1.46546 0.778150\n",
      "132:     1134129.4: 0.677635 0.315534 0.891361  1.45941 0.776683\n",
      "133:     1134129.4: 0.678120 0.315292 0.890767  1.46213 0.776860\n",
      "134:     1134129.4: 0.678691 0.315022 0.890385  1.46415 0.776524\n",
      "135:     1134129.4: 0.678844 0.314951 0.890305  1.46463 0.776411\n",
      "136:     1134129.4: 0.679094 0.314888 0.890473  1.46603 0.776194\n",
      "137:     1134129.3: 0.679517 0.314755 0.890859  1.46881 0.775611\n",
      "138:     1134129.3: 0.680204 0.314376 0.889960  1.47449 0.775466\n",
      "139:     1134129.3: 0.679236 0.313424 0.891010  1.46879 0.775766\n",
      "140:     1134129.3: 0.679391 0.314322 0.891129  1.46893 0.775204\n",
      "141:     1134129.3: 0.678277 0.314608 0.891112  1.46903 0.774325\n",
      "142:     1134129.2: 0.678405 0.314824 0.891654  1.46844 0.773136\n",
      "143:     1134129.2: 0.678638 0.314586 0.891881  1.46718 0.770552\n",
      "144:     1134129.2: 0.678090 0.314953 0.893014  1.46461 0.770240\n",
      "145:     1134129.1: 0.677445 0.315372 0.895096  1.45977 0.767926\n",
      "146:     1134129.1: 0.676836 0.315769 0.897393  1.45359 0.765953\n",
      "147:     1134129.3: 0.675208 0.315303 0.894862  1.45994 0.767972\n",
      "148:     1134129.1: 0.678539 0.315451 0.896253  1.45815 0.767752\n",
      "149:     1134129.1: 0.678491 0.315679 0.896808  1.45818 0.768339\n",
      "150:     1134129.0: 0.678619 0.315256 0.896762  1.45814 0.768337\n",
      "151:     1134129.0: 0.678634 0.314343 0.897024  1.45806 0.768952\n",
      "152:     1134129.0: 0.678664 0.314343 0.896923  1.45832 0.769026\n",
      "153:     1134129.0: 0.678661 0.314385 0.896893  1.45797 0.769066\n",
      "154:     1134129.0: 0.678574 0.314315 0.897152  1.45811 0.768823\n",
      "155:     1134129.0: 0.678475 0.314289 0.897387  1.45819 0.768528\n",
      "156:     1134129.0: 0.678339 0.314298 0.897783  1.45831 0.767856\n",
      "157:     1134128.9: 0.678187 0.314307 0.898393  1.45835 0.766385\n",
      "158:     1134128.9: 0.678196 0.314330 0.899625  1.45825 0.763434\n",
      "159:     1134128.7: 0.678016 0.314551 0.902037  1.45704 0.757638\n",
      "160:     1134128.6: 0.677423 0.314845 0.908049  1.45189 0.747598\n",
      "161:     1134128.6: 0.677321 0.315171 0.909683  1.45068 0.743000\n",
      "162:     1134128.6: 0.677416 0.315151 0.909631  1.45066 0.742957\n",
      "163:     1134128.6: 0.678291 0.315013 0.909035  1.45014 0.744256\n",
      "164:     1134128.6: 0.677194 0.313419 0.909725  1.45049 0.742887\n",
      "165:     1134128.6: 0.677719 0.314505 0.910275  1.44945 0.742119\n",
      "166:     1134128.6: 0.677606 0.314537 0.910816  1.44895 0.740685\n",
      "167:     1134128.6: 0.677598 0.314566 0.911258  1.44898 0.738753\n",
      "168:     1134128.5: 0.678342 0.314453 0.912690  1.45076 0.735597\n",
      "169:     1134128.5: 0.677768 0.314784 0.915756  1.44964 0.728398\n",
      "170:     1134128.5: 0.677860 0.314867 0.919023  1.44645 0.721914\n",
      "171:     1134128.4: 0.678382 0.314552 0.912220  1.44965 0.726728\n",
      "172:     1134128.4: 0.677639 0.314573 0.912713  1.45351 0.726810\n",
      "173:     1134128.4: 0.677572 0.314603 0.911731  1.45179 0.730243\n",
      "174:     1134128.5: 0.677693 0.316239 0.912641  1.45352 0.726741\n",
      "175:     1134128.4: 0.679437 0.314112 0.913288  1.45354 0.726415\n",
      "176:     1134128.4: 0.677665 0.314642 0.912890  1.45369 0.725854\n",
      "177:     1134128.4: 0.677680 0.314390 0.913356  1.45308 0.725281\n",
      "178:     1134128.4: 0.677555 0.314699 0.913321  1.45387 0.725970\n",
      "179:     1134128.4: 0.677725 0.314453 0.912838  1.45411 0.725681\n",
      "180:     1134128.4: 0.677768 0.314346 0.912699  1.45502 0.725331\n",
      "181:     1134128.3: 0.677780 0.314341 0.912501  1.45583 0.724794\n",
      "182:     1134128.3: 0.677730 0.314297 0.912148  1.45752 0.723820\n",
      "183:     1134128.3: 0.677732 0.314330 0.911613  1.45908 0.722721\n",
      "184:     1134128.2: 0.677602 0.314254 0.910743  1.46258 0.721086\n",
      "185:     1134128.1: 0.677648 0.313997 0.908299  1.46988 0.719188\n",
      "186:     1134128.1: 0.677551 0.314245 0.906318  1.47738 0.717551\n",
      "187:     1134128.0: 0.677526 0.313488 0.900736  1.49220 0.718016\n",
      "188:     1134128.1: 0.679331 0.314589 0.897804  1.49148 0.715443\n",
      "189:     1134127.9: 0.678574 0.314403 0.901977  1.49408 0.710539\n",
      "190:     1134127.9: 0.678685 0.314183 0.897318  1.50849 0.708851\n",
      "191:     1134128.7: 0.684007 0.312241 0.898927  1.50904 0.709771\n",
      "192:     1134127.9: 0.677690 0.314853 0.899179  1.50219 0.709286\n",
      "193:     1134128.3: 0.679528 0.317808 0.898294  1.50918 0.709523\n",
      "194:     1134127.9: 0.677756 0.314876 0.896495  1.51184 0.707277\n",
      "195:     1134127.8: 0.676942 0.314417 0.897797  1.51253 0.708222\n",
      "196:     1134127.9: 0.677237 0.314625 0.896680  1.51268 0.709813\n",
      "197:     1134127.8: 0.676836 0.314410 0.897797  1.51346 0.707902\n",
      "198:     1134127.8: 0.677141 0.314678 0.897903  1.51365 0.707026\n",
      "199:     1134127.8: 0.677131 0.314718 0.898009  1.51483 0.705436\n",
      "200:     1134127.8: 0.677136 0.314829 0.897355  1.51853 0.704154\n",
      "201:     1134127.8: 0.677324 0.314753 0.896337  1.52235 0.704263\n",
      "202:     1134127.8: 0.677295 0.314830 0.896553  1.52165 0.703862\n",
      "203:     1134127.7: 0.677256 0.314893 0.896683  1.52174 0.703054\n",
      "204:     1134127.7: 0.676792 0.314728 0.897146  1.52262 0.701827\n",
      "205:     1134127.7: 0.676621 0.314739 0.896881  1.52541 0.700089\n",
      "206:     1134127.7: 0.676541 0.314581 0.894807  1.53169 0.700021\n",
      "207:     1134127.7: 0.678105 0.313375 0.897295  1.52550 0.699933\n",
      "208:     1134127.5: 0.678481 0.314566 0.900077  1.52487 0.698819\n",
      "209:     1134127.5: 0.678429 0.314760 0.902946  1.51917 0.697062\n",
      "210:     1134127.6: 0.679119 0.315002 0.905741  1.50664 0.700150\n",
      "211:     1134127.6: 0.679447 0.315723 0.902150  1.51895 0.696589\n",
      "212:     1134127.5: 0.677461 0.315006 0.902927  1.51960 0.696466\n",
      "213:     1134127.5: 0.678103 0.315556 0.903405  1.51856 0.697510\n",
      "214:     1134127.5: 0.678191 0.314477 0.902509  1.52027 0.697056\n",
      "215:     1134127.5: 0.678178 0.314463 0.902715  1.51971 0.696789\n",
      "216:     1134127.5: 0.678200 0.314452 0.903097  1.51846 0.696635\n",
      "217:     1134127.5: 0.677913 0.314410 0.902203  1.51950 0.697019\n",
      "218:     1134127.4: 0.678357 0.314472 0.903139  1.51993 0.696377\n",
      "219:     1134127.4: 0.678474 0.314468 0.903625  1.52052 0.695310\n",
      "220:     1134127.4: 0.678552 0.314424 0.904126  1.52224 0.693384\n",
      "221:     1134127.3: 0.678213 0.314685 0.904495  1.52550 0.689292\n",
      "222:     1134127.2: 0.678002 0.314709 0.904011  1.53447 0.683805\n",
      "223:     1134127.0: 0.677654 0.314109 0.900928  1.55439 0.677759\n",
      "224:     1134126.8: 0.677023 0.314608 0.899421  1.57223 0.666697\n",
      "225:     1134126.6: 0.675536 0.314909 0.896626  1.60872 0.645924\n",
      "226:     1134126.9: 0.673761 0.314367 0.884625  1.68653 0.616044\n",
      "227:     1134128.2: 0.676179 0.321898 0.903375  1.61093 0.648881\n",
      "228:     1134126.8: 0.674930 0.316416 0.895953  1.61086 0.648746\n",
      "229:     1134126.7: 0.678339 0.316841 0.894742  1.60831 0.645359\n",
      "230:     1134126.3: 0.677850 0.315248 0.899230  1.60829 0.644136\n",
      "231:     1134126.4: 0.676860 0.316447 0.900277  1.60685 0.640968\n",
      "232:     1134126.3: 0.677754 0.315228 0.898888  1.61012 0.643479\n",
      "233:     1134126.3: 0.678665 0.315247 0.898935  1.61174 0.644134\n",
      "234:     1134126.3: 0.678355 0.315407 0.899379  1.61218 0.642290\n",
      "235:     1134126.2: 0.678140 0.315672 0.900072  1.61406 0.638899\n",
      "236:     1134126.2: 0.677774 0.315839 0.900072  1.62012 0.633833\n",
      "237:     1134126.1: 0.677542 0.315346 0.896905  1.63528 0.630682\n",
      "238:     1134126.0: 0.677083 0.315809 0.898183  1.64587 0.619029\n",
      "239:     1134126.0: 0.676016 0.315732 0.893396  1.67381 0.605041\n",
      "240:     1134127.0: 0.675504 0.319833 0.899543  1.64649 0.619947\n",
      "241:     1134125.9: 0.676958 0.314595 0.897613  1.64694 0.612911\n",
      "242:     1134125.7: 0.678145 0.314425 0.899599  1.65294 0.608312\n",
      "243:     1134125.6: 0.678526 0.314556 0.902284  1.65180 0.604180\n",
      "244:     1134125.6: 0.675522 0.314220 0.905402  1.65628 0.596175\n",
      "245:     1134125.9: 0.676926 0.310538 0.908138  1.65764 0.597122\n",
      "246:     1134125.4: 0.677419 0.313670 0.904278  1.66055 0.597714\n",
      "247:     1134125.4: 0.677690 0.313724 0.902796  1.67011 0.594646\n",
      "248:     1134125.5: 0.677298 0.313244 0.899547  1.67969 0.595161\n",
      "249:     1134125.4: 0.677222 0.315855 0.905107  1.67088 0.595988\n",
      "250:     1134125.4: 0.679255 0.314456 0.903047  1.66876 0.599217\n",
      "251:     1134125.5: 0.676378 0.313361 0.902572  1.67008 0.595163\n",
      "252:     1134125.3: 0.678027 0.314702 0.904734  1.67020 0.593379\n",
      "253:     1134125.3: 0.677679 0.314927 0.907207  1.66831 0.589391\n",
      "254:     1134125.3: 0.677975 0.315100 0.910769  1.65886 0.588469\n",
      "255:     1134125.3: 0.677107 0.313953 0.906321  1.66846 0.588988\n",
      "256:     1134125.3: 0.677365 0.314722 0.905926  1.67212 0.588815\n",
      "257:     1134125.3: 0.677343 0.314714 0.905479  1.67400 0.588476\n",
      "258:     1134125.2: 0.677258 0.314722 0.904838  1.67777 0.587076\n",
      "259:     1134125.2: 0.677263 0.314495 0.902281  1.68546 0.587918\n",
      "260:     1134125.4: 0.676009 0.315293 0.903081  1.67723 0.586613\n",
      "261:     1134125.2: 0.677637 0.314585 0.905438  1.67950 0.585862\n",
      "262:     1134125.2: 0.678007 0.315438 0.906739  1.68051 0.581822\n",
      "263:     1134125.1: 0.677453 0.315016 0.907389  1.68341 0.578563\n",
      "264:     1134125.0: 0.676957 0.314923 0.907691  1.68986 0.572430\n",
      "265:     1134125.0: 0.676671 0.315183 0.905341  1.70620 0.565663\n",
      "266:     1134124.9: 0.675263 0.315178 0.906906  1.71791 0.552356\n",
      "267:     1134124.8: 0.675646 0.315411 0.903594  1.73482 0.547733\n",
      "268:     1134124.8: 0.674518 0.315780 0.902158  1.76442 0.527873\n",
      "269:     1134124.8: 0.674571 0.315918 0.901290  1.76522 0.529520\n",
      "270:     1134124.9: 0.675624 0.317422 0.902610  1.76450 0.527901\n",
      "271:     1134124.6: 0.676175 0.315083 0.901387  1.76414 0.527396\n",
      "272:     1134124.4: 0.678040 0.314615 0.902608  1.76227 0.524593\n",
      "273:     1134124.4: 0.679256 0.313677 0.904914  1.76304 0.525313\n",
      "274:     1134124.4: 0.679347 0.313632 0.904965  1.76545 0.523591\n",
      "275:     1134124.3: 0.678547 0.314224 0.904485  1.76603 0.520904\n",
      "276:     1134124.3: 0.678231 0.314292 0.905828  1.76827 0.515592\n",
      "277:     1134124.2: 0.678208 0.314676 0.904565  1.77891 0.510519\n",
      "278:     1134124.2: 0.677316 0.314948 0.907643  1.78333 0.499998\n",
      "279:     1134124.2: 0.677134 0.314386 0.901551  1.80611 0.497557\n",
      "280:     1134124.5: 0.674902 0.312539 0.907829  1.78338 0.500246\n",
      "281:     1134124.2: 0.676461 0.314916 0.905208  1.79458 0.497277\n",
      "282:     1134124.5: 0.675365 0.317118 0.909141  1.78374 0.500859\n",
      "283:     1134124.1: 0.677450 0.314528 0.907540  1.78690 0.495290\n",
      "284:     1134124.1: 0.677235 0.314659 0.907606  1.79640 0.488197\n",
      "285:     1134124.1: 0.676049 0.315278 0.908945  1.81231 0.470721\n",
      "286:     1134124.0: 0.675971 0.315005 0.904965  1.83477 0.464234\n",
      "287:     1134124.1: 0.674970 0.315364 0.903987  1.85413 0.450625\n",
      "288:     1134124.0: 0.676588 0.316058 0.910664  1.83633 0.466044\n",
      "289:     1134123.9: 0.676397 0.315149 0.910256  1.82947 0.464616\n",
      "290:     1134124.9: 0.672870 0.318102 0.907264  1.83147 0.468613\n",
      "291:     1134124.3: 0.674456 0.312304 0.910725  1.82973 0.465225\n",
      "292:     1134123.9: 0.678918 0.313604 0.909649  1.83003 0.466374\n",
      "293:     1134123.9: 0.678645 0.313764 0.909582  1.82835 0.466789\n",
      "294:     1134123.9: 0.678419 0.313820 0.910303  1.82698 0.465962\n",
      "295:     1134123.9: 0.678428 0.313595 0.909568  1.82678 0.465571\n",
      "296:     1134123.9: 0.678147 0.314006 0.910161  1.82638 0.466509\n",
      "297:     1134123.9: 0.678204 0.313977 0.910267  1.82558 0.466869\n",
      "298:     1134123.9: 0.677908 0.313646 0.910232  1.82641 0.466563\n",
      "299:     1134123.9: 0.678092 0.314352 0.910043  1.82655 0.466330\n",
      "300:     1134123.9: 0.678062 0.314441 0.909994  1.82725 0.465809\n",
      "301:     1134123.9: 0.678049 0.314443 0.909895  1.82798 0.465538\n",
      "302:     1134123.9: 0.678022 0.314497 0.909836  1.82769 0.465782\n",
      "303:     1134123.9: 0.677884 0.314514 0.909931  1.82813 0.465446\n",
      "304:     1134123.9: 0.678070 0.314388 0.909927  1.82823 0.465257\n",
      "305:     1134123.8: 0.678096 0.314387 0.909975  1.82878 0.464732\n",
      "306:     1134123.8: 0.678281 0.314393 0.909949  1.82999 0.463811\n",
      "307:     1134123.8: 0.678469 0.314362 0.909729  1.83262 0.462254\n",
      "308:     1134123.8: 0.678933 0.314319 0.910068  1.83737 0.458426\n",
      "309:     1134123.8: 0.679416 0.314266 0.909351  1.84362 0.454846\n",
      "310:     1134123.8: 0.679308 0.314304 0.909603  1.84160 0.455904\n",
      "311:     1134123.9: 0.679233 0.312752 0.908532  1.84307 0.454009\n",
      "312:     1134123.8: 0.678621 0.314115 0.909503  1.84256 0.456709\n",
      "313:     1134123.8: 0.678584 0.314068 0.909277  1.84277 0.457215\n",
      "314:     1134123.8: 0.678889 0.313775 0.909886  1.84265 0.456827\n",
      "315:     1134123.8: 0.678280 0.314269 0.909230  1.84247 0.456644\n",
      "316:     1134123.8: 0.678150 0.314248 0.909366  1.84316 0.456016\n",
      "317:     1134123.8: 0.678248 0.314214 0.909210  1.84486 0.455188\n",
      "318:     1134123.8: 0.678352 0.314215 0.909302  1.84613 0.453774\n",
      "319:     1134123.8: 0.678538 0.314168 0.908681  1.84791 0.453796\n",
      "320:     1134123.8: 0.678052 0.314708 0.908234  1.84792 0.453375\n",
      "321:     1134123.8: 0.678343 0.314376 0.908778  1.84814 0.452923\n",
      "322:     1134123.8: 0.678306 0.314413 0.908784  1.84874 0.452181\n",
      "323:     1134123.8: 0.678405 0.314395 0.908642  1.85037 0.451226\n",
      "324:     1134123.8: 0.678479 0.314369 0.908888  1.85158 0.449779\n",
      "325:     1134123.8: 0.678760 0.314350 0.908598  1.85492 0.448011\n",
      "326:     1134123.7: 0.678812 0.314469 0.909125  1.85719 0.445002\n",
      "327:     1134123.7: 0.679369 0.314283 0.908293  1.86423 0.442288\n",
      "328:     1134123.8: 0.677911 0.313546 0.910379  1.85753 0.445416\n",
      "329:     1134123.7: 0.678290 0.314203 0.910305  1.85406 0.446709\n",
      "330:     1134123.8: 0.678812 0.313065 0.910006  1.85379 0.446435\n",
      "331:     1134123.8: 0.677114 0.314397 0.909065  1.85469 0.447215\n",
      "332:     1134123.7: 0.678266 0.314253 0.910098  1.85344 0.447376\n",
      "333:     1134123.7: 0.678187 0.314413 0.910087  1.85482 0.447181\n",
      "334:     1134123.7: 0.678242 0.314564 0.909690  1.85547 0.446641\n",
      "335:     1134123.7: 0.678164 0.314498 0.909677  1.85495 0.447365\n",
      "336:     1134123.7: 0.678061 0.314448 0.910044  1.85490 0.447061\n",
      "337:     1134123.7: 0.678146 0.314425 0.909995  1.85506 0.446993\n",
      "338:     1134123.7: 0.678191 0.314402 0.909949  1.85541 0.446811\n",
      "339:     1134123.7: 0.678277 0.314375 0.909893  1.85607 0.446372\n",
      "340:     1134123.7: 0.678328 0.314409 0.909939  1.85660 0.445775\n",
      "341:     1134123.7: 0.678496 0.314391 0.909860  1.85792 0.444893\n",
      "342:     1134123.7: 0.678725 0.314421 0.910022  1.86020 0.442670\n",
      "343:     1134123.7: 0.678897 0.314414 0.909920  1.86184 0.441625\n",
      "344:     1134123.7: 0.678822 0.314433 0.909978  1.86123 0.441988\n",
      "345:     1134123.7: 0.678714 0.314605 0.910576  1.86202 0.441209\n",
      "346:     1134123.7: 0.678540 0.314516 0.910540  1.86203 0.441188\n",
      "347:     1134123.7: 0.678360 0.314479 0.910464  1.86202 0.441160\n",
      "348:     1134123.7: 0.678168 0.314400 0.910268  1.86213 0.441269\n",
      "349:     1134123.7: 0.678115 0.314388 0.910171  1.86181 0.441823\n",
      "350:     1134123.7: 0.678164 0.314407 0.910267  1.86239 0.441089\n",
      "351:     1134123.7: 0.678218 0.314410 0.910226  1.86269 0.440976\n",
      "352:     1134123.7: 0.678264 0.314393 0.910185  1.86323 0.440636\n",
      "353:     1134123.7: 0.678317 0.314406 0.910146  1.86377 0.440294\n",
      "354:     1134123.7: 0.678383 0.314414 0.910232  1.86463 0.439333\n",
      "355:     1134123.7: 0.678480 0.314469 0.910113  1.86578 0.438779\n",
      "356:     1134123.7: 0.678627 0.314662 0.910332  1.86728 0.436704\n",
      "357:     1134123.7: 0.678503 0.314009 0.910293  1.86585 0.438823\n",
      "358:     1134123.7: 0.678688 0.314431 0.910151  1.86684 0.438075\n",
      "359:     1134123.7: 0.678635 0.314294 0.909715  1.86568 0.438659\n",
      "360:     1134123.7: 0.678217 0.314424 0.909902  1.86630 0.438618\n",
      "361:     1134123.7: 0.678247 0.314419 0.909824  1.86738 0.437909\n",
      "362:     1134123.7: 0.678477 0.314371 0.909521  1.86959 0.436641\n",
      "363:     1134123.7: 0.678569 0.314488 0.909973  1.87107 0.434582\n",
      "364:     1134123.7: 0.678788 0.314416 0.909892  1.87309 0.432999\n",
      "365:     1134123.7: 0.678574 0.313844 0.909892  1.87094 0.434445\n",
      "366:     1134123.7: 0.678634 0.314455 0.909967  1.87183 0.434212\n",
      "367:     1134123.7: 0.678742 0.314417 0.910139  1.87191 0.434315\n",
      "368:     1134123.7: 0.678809 0.314473 0.909875  1.87181 0.434206\n",
      "369:     1134123.7: 0.678444 0.314447 0.910013  1.87187 0.434232\n",
      "370:     1134123.7: 0.678137 0.314444 0.909913  1.87205 0.434384\n",
      "371:     1134123.7: 0.678116 0.314434 0.909833  1.87209 0.434527\n",
      "372:     1134123.7: 0.678099 0.314419 0.909732  1.87191 0.434873\n",
      "373:     1134123.7: 0.678146 0.314400 0.909765  1.87227 0.434518\n",
      "374:     1134123.7: 0.678172 0.314370 0.909684  1.87264 0.434408\n",
      "375:     1134123.7: 0.678229 0.314366 0.909619  1.87326 0.434056\n",
      "376:     1134123.7: 0.678249 0.314341 0.909523  1.87350 0.434085\n",
      "377:     1134123.7: 0.678299 0.314315 0.909425  1.87370 0.434171\n",
      "378:     1134123.7: 0.678287 0.314120 0.909400  1.87367 0.434151\n",
      "379:     1134123.7: 0.678284 0.314468 0.909492  1.87376 0.434083\n",
      "380:     1134123.7: 0.678299 0.314465 0.909616  1.87403 0.433817\n",
      "381:     1134123.7: 0.678353 0.314487 0.909739  1.87459 0.433261\n",
      "382:     1134123.7: 0.678509 0.314432 0.909503  1.87603 0.432628\n",
      "383:     1134123.7: 0.678646 0.314468 0.909525  1.87794 0.431061\n",
      "384:     1134123.7: 0.678677 0.314468 0.909504  1.87827 0.430846\n",
      "385:     1134123.7: 0.678492 0.314466 0.909506  1.87825 0.430770\n",
      "386:     1134123.7: 0.678354 0.314493 0.909513  1.87821 0.430634\n",
      "387:     1134123.7: 0.678328 0.314355 0.909653  1.87820 0.430610\n",
      "388:     1134123.7: 0.678314 0.314476 0.909777  1.87830 0.430625\n",
      "389:     1134123.7: 0.678195 0.314477 0.909746  1.87846 0.430627\n",
      "390:     1134123.7: 0.678174 0.314457 0.909647  1.87883 0.430534\n",
      "391:     1134123.7: 0.678161 0.314444 0.909531  1.87921 0.430560\n",
      "392:     1134123.7: 0.678239 0.314410 0.909373  1.87995 0.430319\n",
      "393:     1134123.7: 0.678278 0.314415 0.909188  1.88071 0.430151\n",
      "394:     1134123.7: 0.678373 0.314387 0.909229  1.88192 0.429103\n",
      "395:     1134123.7: 0.678500 0.314297 0.908711  1.88342 0.428998\n",
      "396:     1134123.7: 0.678367 0.314805 0.909230  1.88367 0.429172\n",
      "397:     1134123.7: 0.678484 0.314564 0.909317  1.88390 0.428457\n",
      "398:     1134123.7: 0.678558 0.314793 0.909013  1.88427 0.427864\n",
      "399:     1134123.7: 0.678874 0.314629 0.909350  1.88387 0.428497\n",
      "400:     1134123.7: 0.678148 0.314495 0.909199  1.88392 0.428624\n",
      "401:     1134123.7: 0.678074 0.314502 0.909141  1.88335 0.429156\n",
      "402:     1134123.7: 0.678170 0.314485 0.909202  1.88372 0.428672\n",
      "403:     1134123.7: 0.678173 0.314499 0.909039  1.88427 0.428733\n",
      "404:     1134123.7: 0.678145 0.314503 0.908901  1.88463 0.428659\n",
      "405:     1134123.7: 0.678170 0.314492 0.908809  1.88493 0.428685\n",
      "406:     1134123.7: 0.678168 0.314484 0.908686  1.88554 0.428583\n",
      "407:     1134123.7: 0.678219 0.314450 0.908400  1.88674 0.428354\n",
      "408:     1134123.7: 0.678241 0.314393 0.908014  1.88794 0.428458\n",
      "409:     1134123.7: 0.678353 0.314296 0.907391  1.89035 0.428127\n",
      "410:     1134123.7: 0.678301 0.314309 0.907543  1.88971 0.428278\n",
      "411:     1134123.7: 0.678335 0.314295 0.907355  1.88966 0.428256\n",
      "412:     1134123.6: 0.678288 0.314310 0.907736  1.88976 0.428272\n",
      "413:     1134123.7: 0.678351 0.314003 0.907905  1.88975 0.428090\n",
      "414:     1134123.6: 0.678434 0.314268 0.907745  1.88978 0.428401\n",
      "415:     1134123.6: 0.678386 0.314428 0.907792  1.88975 0.428159\n",
      "416:     1134123.6: 0.678258 0.314453 0.907933  1.88980 0.428178\n",
      "417:     1134123.6: 0.678103 0.314478 0.908084  1.89010 0.428030\n",
      "418:     1134123.6: 0.678080 0.314455 0.907971  1.89088 0.427925\n",
      "419:     1134123.6: 0.678181 0.314404 0.907785  1.89240 0.427476\n",
      "420:     1134123.6: 0.678189 0.314383 0.907215  1.89389 0.427643\n",
      "421:     1134123.6: 0.678175 0.314730 0.907713  1.89237 0.427165\n",
      "422:     1134123.6: 0.678311 0.314349 0.907565  1.89315 0.427606\n",
      "423:     1134123.6: 0.678201 0.314334 0.907524  1.89325 0.427429\n",
      "424:     1134123.6: 0.678210 0.314359 0.907415  1.89309 0.427665\n",
      "425:     1134123.6: 0.678275 0.314380 0.907731  1.89323 0.427548\n",
      "426:     1134123.6: 0.678104 0.314491 0.908006  1.89342 0.427458\n",
      "427:     1134123.6: 0.678070 0.314495 0.907976  1.89405 0.427279\n",
      "428:     1134123.6: 0.678165 0.314485 0.907989  1.89518 0.426639\n",
      "429:     1134123.6: 0.678171 0.314456 0.907689  1.89646 0.426591\n",
      "430:     1134123.6: 0.678223 0.314429 0.907591  1.89759 0.425939\n",
      "431:     1134123.6: 0.678349 0.314377 0.907218  1.89972 0.425637\n",
      "432:     1134123.6: 0.678399 0.314341 0.906938  1.90134 0.425315\n",
      "433:     1134123.6: 0.678367 0.314243 0.906544  1.90396 0.424587\n",
      "434:     1134123.6: 0.678361 0.314203 0.906375  1.90509 0.424270\n",
      "435:     1134123.6: 0.678353 0.314205 0.906382  1.90499 0.424301\n",
      "436:     1134123.6: 0.678358 0.314396 0.906325  1.90509 0.424256\n",
      "437:     1134123.6: 0.678419 0.314396 0.906415  1.90517 0.424109\n",
      "438:     1134123.6: 0.678388 0.314400 0.906498  1.90512 0.423722\n",
      "439:     1134123.6: 0.678242 0.314434 0.906623  1.90515 0.423756\n",
      "440:     1134123.6: 0.678187 0.314478 0.906806  1.90518 0.423775\n",
      "441:     1134123.6: 0.678261 0.314524 0.907095  1.90492 0.423793\n",
      "442:     1134123.6: 0.678338 0.314533 0.907392  1.90508 0.423591\n",
      "443:     1134123.6: 0.678501 0.314517 0.907453  1.90584 0.423422\n",
      "444:     1134123.6: 0.678454 0.314531 0.907562  1.90635 0.422812\n",
      "445:     1134123.6: 0.678469 0.314523 0.907557  1.90773 0.422001\n",
      "446:     1134123.6: 0.678601 0.314490 0.907049  1.91083 0.421450\n",
      "447:     1134123.6: 0.678520 0.314464 0.907442  1.91321 0.419344\n",
      "448:     1134123.6: 0.678608 0.314385 0.907391  1.91870 0.416059\n",
      "449:     1134123.6: 0.678679 0.314281 0.906908  1.93040 0.410899\n",
      "450:     1134123.6: 0.678802 0.314205 0.906535  1.94058 0.406083\n",
      "451:     1134123.6: 0.678761 0.314228 0.906542  1.93873 0.407035\n",
      "452:     1134123.6: 0.679347 0.313361 0.906149  1.93864 0.406923\n",
      "453:     1134123.6: 0.678287 0.314718 0.907219  1.93850 0.406492\n",
      "454:     1134123.6: 0.678538 0.314833 0.907235  1.93847 0.406446\n",
      "455:     1134123.6: 0.678325 0.314657 0.907376  1.93855 0.406581\n",
      "456:     1134123.6: 0.678265 0.314584 0.907470  1.93861 0.406714\n",
      "457:     1134123.6: 0.678248 0.314511 0.907525  1.93879 0.407063\n",
      "458:     1134123.6: 0.678297 0.314452 0.907233  1.93910 0.407728\n",
      "459:     1134123.6: 0.678297 0.314446 0.907355  1.93853 0.407810\n",
      "460:     1134123.6: 0.678348 0.314427 0.907163  1.93925 0.407564\n",
      "461:     1134123.6: 0.678219 0.314458 0.907238  1.93889 0.408056\n",
      "462:     1134123.6: 0.678185 0.314423 0.906875  1.93905 0.408743\n",
      "463:     1134123.6: 0.678122 0.314500 0.907215  1.93890 0.408052\n",
      "rho:  2.0e-05 eval: 463 fn:  1.13412e+06 par:0.678219 0.314458 0.907238  1.93889 0.408056 \n",
      "464:     1134123.6: 0.678269 0.314523 0.907269  1.93891 0.408098\n",
      "465:     1134123.6: 0.678277 0.314512 0.907261  1.93895 0.408190\n",
      "466:     1134123.5: 0.678220 0.314471 0.907431  1.93901 0.408235\n",
      "467:     1134123.5: 0.678160 0.314447 0.907754  1.93923 0.408301\n",
      "468:     1134123.5: 0.678126 0.314461 0.908183  1.93928 0.407629\n",
      "469:     1134123.5: 0.678160 0.314438 0.908419  1.93910 0.406886\n",
      "470:     1134123.5: 0.678143 0.314354 0.908191  1.93925 0.407636\n",
      "471:     1134123.5: 0.678137 0.314439 0.908103  1.93942 0.407992\n",
      "472:     1134123.5: 0.678050 0.314618 0.908131  1.94020 0.407999\n",
      "473:     1134123.5: 0.678117 0.314649 0.908208  1.93983 0.407934\n",
      "474:     1134123.5: 0.678061 0.314600 0.908160  1.94009 0.407888\n",
      "475:     1134123.5: 0.678015 0.314533 0.908070  1.94042 0.408302\n",
      "476:     1134123.5: 0.677980 0.314491 0.908000  1.94102 0.408794\n",
      "477:     1134123.5: 0.678015 0.314484 0.907847  1.94239 0.409553\n",
      "478:     1134123.5: 0.677847 0.314514 0.907293  1.94513 0.410952\n",
      "479:     1134123.5: 0.678041 0.314489 0.907054  1.94760 0.412851\n",
      "480:     1134123.5: 0.678210 0.314499 0.906367  1.95258 0.415930\n",
      "481:     1134123.5: 0.677675 0.314450 0.904804  1.96304 0.421124\n",
      "482:     1134123.4: 0.677580 0.314393 0.903644  1.97180 0.426434\n",
      "483:     1134123.4: 0.677466 0.314372 0.902413  1.98065 0.431492\n",
      "484:     1134123.4: 0.677472 0.314373 0.902456  1.98034 0.431319\n",
      "485:     1134123.4: 0.677471 0.314373 0.902449  1.98039 0.431344\n",
      "486:     1134123.4: 0.677447 0.314415 0.902446  1.98034 0.431330\n",
      "487:     1134123.4: 0.677458 0.314325 0.902450  1.98034 0.431329\n",
      "488:     1134123.4: 0.677480 0.314373 0.902437  1.98034 0.431319\n",
      "489:     1134123.4: 0.677485 0.314375 0.902469  1.98035 0.431314\n",
      "490:     1134123.4: 0.677514 0.314379 0.902496  1.98035 0.431315\n",
      "491:     1134123.4: 0.677572 0.314386 0.902550  1.98036 0.431320\n",
      "492:     1134123.4: 0.677686 0.314399 0.902659  1.98037 0.431331\n",
      "493:     1134123.4: 0.677889 0.314404 0.902905  1.98039 0.431358\n",
      "494:     1134123.4: 0.678217 0.314392 0.903444  1.98040 0.431461\n",
      "495:     1134123.4: 0.677777 0.314442 0.904495  1.98085 0.431092\n",
      "496:     1134123.4: 0.677773 0.314476 0.904773  1.98151 0.432149\n",
      "497:     1134123.4: 0.677698 0.314453 0.904555  1.98362 0.433579\n",
      "498:     1134123.4: 0.677553 0.314485 0.904267  1.98560 0.435174\n",
      "499:     1134123.4: 0.677706 0.314902 0.904522  1.98364 0.433554\n",
      "500:     1134123.4: 0.677635 0.314400 0.904469  1.98420 0.434172\n",
      "501:     1134123.4: 0.677275 0.314445 0.904428  1.98365 0.433490\n",
      "502:     1134123.4: 0.678248 0.314352 0.904851  1.98369 0.433654\n",
      "503:     1134123.4: 0.678379 0.314339 0.904896  1.98491 0.434013\n",
      "504:     1134123.4: 0.678380 0.314351 0.904677  1.98733 0.434810\n",
      "505:     1134123.4: 0.678162 0.314304 0.903846  1.99157 0.437557\n",
      "506:     1134123.4: 0.678687 0.314220 0.903983  1.98731 0.434691\n",
      "507:     1134123.3: 0.678048 0.314419 0.905196  1.98932 0.436295\n",
      "508:     1134123.3: 0.677985 0.314461 0.905588  1.98954 0.435951\n",
      "509:     1134123.3: 0.677668 0.314256 0.905616  1.98999 0.435130\n",
      "510:     1134123.3: 0.677983 0.315088 0.905508  1.98960 0.435829\n",
      "511:     1134123.3: 0.677959 0.314387 0.905786  1.98908 0.435574\n",
      "512:     1134123.3: 0.678022 0.314367 0.906025  1.98806 0.434875\n",
      "513:     1134123.3: 0.677605 0.314408 0.905697  1.98899 0.435644\n",
      "514:     1134123.3: 0.678296 0.314343 0.905966  1.98937 0.435320\n",
      "515:     1134123.3: 0.678295 0.314326 0.905829  1.99027 0.435927\n",
      "516:     1134123.3: 0.678313 0.314315 0.905832  1.99061 0.436083\n",
      "517:     1134123.3: 0.678335 0.314304 0.905839  1.99075 0.436179\n",
      "518:     1134123.3: 0.678227 0.314330 0.905917  1.99122 0.436418\n",
      "519:     1134123.3: 0.678126 0.314375 0.905988  1.99220 0.436894\n",
      "520:     1134123.3: 0.678081 0.314298 0.905732  1.99412 0.437899\n",
      "521:     1134123.3: 0.678323 0.314258 0.905809  1.99467 0.438366\n",
      "522:     1134123.3: 0.678358 0.314259 0.905840  1.99495 0.438835\n",
      "523:     1134123.3: 0.678197 0.314227 0.905852  1.99565 0.439654\n",
      "524:     1134123.3: 0.678002 0.314192 0.905751  1.99746 0.440867\n",
      "525:     1134123.3: 0.677964 0.314222 0.905458  2.00148 0.442545\n",
      "526:     1134123.3: 0.677742 0.314345 0.904969  2.00899 0.446996\n",
      "527:     1134123.3: 0.677296 0.314182 0.904177  2.02466 0.454709\n",
      "528:     1134123.3: 0.677158 0.314239 0.903851  2.02896 0.456987\n",
      "529:     1134123.7: 0.674126 0.316252 0.904370  2.02515 0.453575\n",
      "530:     1134123.3: 0.678146 0.313755 0.903833  2.02432 0.455528\n",
      "531:     1134123.3: 0.677281 0.313933 0.902983  2.02486 0.454174\n",
      "532:     1134123.2: 0.678364 0.314734 0.904410  2.02496 0.454231\n",
      "533:     1134123.2: 0.678506 0.313958 0.905229  2.02536 0.453635\n",
      "534:     1134123.2: 0.678375 0.314270 0.905151  2.02531 0.453998\n",
      "535:     1134123.2: 0.678310 0.314390 0.905773  2.02511 0.454637\n",
      "536:     1134123.2: 0.678234 0.314428 0.905875  2.02662 0.455700\n",
      "537:     1134123.2: 0.678155 0.314443 0.905826  2.02983 0.457546\n",
      "538:     1134123.2: 0.678004 0.314467 0.905729  2.03434 0.460066\n",
      "539:     1134123.2: 0.677898 0.314211 0.905113  2.04371 0.464369\n",
      "540:     1134123.2: 0.677557 0.314422 0.904574  2.05254 0.469717\n",
      "541:     1134123.2: 0.677593 0.314256 0.904843  2.05298 0.469161\n",
      "542:     1134123.2: 0.677397 0.314197 0.904705  2.05771 0.471237\n",
      "543:     1134123.3: 0.678804 0.316126 0.903972  2.05803 0.470651\n",
      "544:     1134123.2: 0.677954 0.314403 0.904158  2.05797 0.470746\n",
      "545:     1134123.2: 0.677325 0.314743 0.904562  2.05799 0.470448\n",
      "546:     1134123.2: 0.677970 0.314406 0.904164  2.05855 0.471022\n",
      "547:     1134123.1: 0.678118 0.314455 0.904742  2.05850 0.471261\n",
      "548:     1134123.1: 0.678208 0.314500 0.905436  2.05848 0.471485\n",
      "549:     1134123.1: 0.678380 0.314473 0.905859  2.05739 0.470616\n",
      "550:     1134123.1: 0.678579 0.314475 0.906048  2.05488 0.469099\n",
      "551:     1134123.1: 0.678462 0.314479 0.905987  2.05787 0.470706\n",
      "552:     1134123.1: 0.678321 0.314560 0.906136  2.05910 0.471488\n",
      "553:     1134123.1: 0.678348 0.314488 0.906027  2.06049 0.471951\n",
      "554:     1134123.1: 0.678399 0.314470 0.906064  2.06054 0.471888\n",
      "555:     1134123.1: 0.678444 0.314456 0.906108  2.06014 0.471406\n",
      "556:     1134123.1: 0.678664 0.314230 0.906102  2.06061 0.471912\n",
      "557:     1134123.1: 0.678298 0.314531 0.906059  2.06054 0.471738\n",
      "558:     1134123.1: 0.678287 0.314526 0.906064  2.06056 0.471721\n",
      "559:     1134123.1: 0.678245 0.314519 0.906099  2.06074 0.471725\n",
      "560:     1134123.1: 0.678174 0.314490 0.906212  2.06110 0.471720\n",
      "561:     1134123.1: 0.678110 0.314471 0.906341  2.06184 0.471835\n",
      "562:     1134123.1: 0.678049 0.314447 0.906399  2.06329 0.472281\n",
      "563:     1134123.1: 0.678064 0.314394 0.906437  2.06481 0.472183\n",
      "564:     1134123.1: 0.678031 0.314423 0.906340  2.06752 0.473593\n",
      "565:     1134123.1: 0.677935 0.314344 0.906480  2.07051 0.474154\n",
      "566:     1134123.1: 0.677728 0.314334 0.906414  2.07603 0.476762\n",
      "567:     1134123.1: 0.677742 0.314161 0.906700  2.08201 0.477896\n",
      "568:     1134123.1: 0.677299 0.313938 0.906463  2.09315 0.482855\n",
      "569:     1134123.2: 0.678510 0.316569 0.906646  2.08210 0.477826\n",
      "570:     1134123.1: 0.678462 0.314120 0.905643  2.08761 0.479958\n",
      "571:     1134123.2: 0.676009 0.314647 0.905290  2.08228 0.477031\n",
      "572:     1134123.1: 0.678148 0.314317 0.906927  2.08485 0.478903\n",
      "573:     1134123.0: 0.678056 0.314208 0.907165  2.09070 0.480623\n",
      "574:     1134123.0: 0.678079 0.314180 0.907435  2.09087 0.480284\n",
      "575:     1134123.0: 0.677969 0.314101 0.907503  2.09598 0.482049\n",
      "576:     1134123.0: 0.677775 0.313979 0.907490  2.10628 0.485336\n",
      "577:     1134123.0: 0.677471 0.313814 0.907117  2.11634 0.489257\n",
      "578:     1134123.2: 0.675694 0.313809 0.906894  2.10667 0.484045\n",
      "579:     1134123.0: 0.678047 0.314064 0.907294  2.10608 0.486023\n",
      "580:     1134123.0: 0.678035 0.313948 0.907792  2.10615 0.485875\n",
      "581:     1134123.0: 0.678027 0.313924 0.907751  2.10718 0.486217\n",
      "582:     1134123.0: 0.678037 0.313936 0.907754  2.10664 0.486022\n",
      "583:     1134123.1: 0.678101 0.313400 0.907635  2.10717 0.486216\n",
      "584:     1134123.0: 0.677885 0.314385 0.907997  2.10720 0.486222\n",
      "585:     1134123.0: 0.678196 0.314480 0.908128  2.10732 0.485813\n",
      "586:     1134123.0: 0.678207 0.314484 0.908151  2.10709 0.485710\n",
      "587:     1134123.0: 0.678385 0.314531 0.908222  2.10737 0.485946\n",
      "588:     1134123.0: 0.678228 0.314480 0.908115  2.10755 0.485933\n",
      "589:     1134123.0: 0.678224 0.314478 0.908133  2.10748 0.485903\n",
      "590:     1134123.0: 0.678182 0.314443 0.908282  2.10750 0.485896\n",
      "591:     1134123.0: 0.678152 0.314430 0.908579  2.10762 0.485887\n",
      "592:     1134123.0: 0.678146 0.314427 0.908793  2.10821 0.486052\n",
      "593:     1134123.0: 0.678196 0.314403 0.908898  2.10937 0.486605\n",
      "594:     1134123.0: 0.678179 0.314444 0.908916  2.11065 0.486792\n",
      "595:     1134123.0: 0.678266 0.314423 0.908900  2.11173 0.487481\n",
      "596:     1134123.0: 0.678223 0.314436 0.908749  2.11237 0.487453\n",
      "597:     1134123.0: 0.678223 0.314435 0.908760  2.11189 0.487342\n",
      "598:     1134123.0: 0.678300 0.314120 0.908739  2.11238 0.487421\n",
      "599:     1134123.0: 0.678167 0.314441 0.909059  2.11246 0.487472\n",
      "600:     1134123.0: 0.678011 0.314462 0.909221  2.11302 0.487735\n",
      "601:     1134123.0: 0.678143 0.314413 0.909239  2.11429 0.488026\n",
      "602:     1134123.0: 0.678223 0.314463 0.909262  2.11664 0.489170\n",
      "603:     1134123.0: 0.678324 0.314502 0.909610  2.11924 0.489298\n",
      "604:     1134123.0: 0.678300 0.314512 0.909431  2.12147 0.490654\n",
      "605:     1134123.0: 0.677483 0.314355 0.908888  2.12155 0.490411\n",
      "606:     1134123.0: 0.678327 0.314494 0.909043  2.12185 0.490088\n",
      "607:     1134123.0: 0.678401 0.313865 0.909463  2.12148 0.490660\n",
      "608:     1134123.0: 0.678212 0.314450 0.909469  2.12205 0.490359\n",
      "609:     1134123.0: 0.678215 0.314428 0.909535  2.12333 0.490595\n",
      "610:     1134123.0: 0.678225 0.314479 0.909673  2.12568 0.491756\n",
      "611:     1134123.0: 0.678352 0.314493 0.909759  2.12820 0.492468\n",
      "612:     1134123.0: 0.678596 0.314520 0.909794  2.13296 0.494632\n",
      "613:     1134123.0: 0.677842 0.314475 0.911502  2.13356 0.493667\n",
      "614:     1134123.0: 0.678360 0.314523 0.910833  2.13592 0.494430\n",
      "615:     1134123.0: 0.678223 0.314560 0.911004  2.13563 0.495653\n",
      "616:     1134123.0: 0.677221 0.314398 0.910282  2.13603 0.494410\n",
      "617:     1134123.0: 0.678301 0.313981 0.910774  2.13550 0.494880\n",
      "618:     1134123.0: 0.678366 0.314224 0.910993  2.13645 0.494540\n",
      "619:     1134123.0: 0.678175 0.314471 0.910901  2.13635 0.494852\n",
      "620:     1134123.0: 0.678112 0.314457 0.911155  2.13588 0.494514\n",
      "621:     1134123.0: 0.678167 0.314436 0.911090  2.13649 0.494676\n",
      "622:     1134123.0: 0.678203 0.314427 0.911166  2.13764 0.495216\n",
      "623:     1134123.0: 0.678281 0.314403 0.911296  2.13891 0.495189\n",
      "624:     1134123.0: 0.678367 0.314323 0.911428  2.14128 0.496134\n",
      "625:     1134123.0: 0.678411 0.314295 0.911710  2.14381 0.495962\n",
      "626:     1134123.0: 0.678610 0.314235 0.912172  2.14871 0.497292\n",
      "627:     1134123.0: 0.677942 0.314358 0.912645  2.14372 0.495995\n",
      "628:     1134123.0: 0.678319 0.314298 0.912250  2.14376 0.495870\n",
      "629:     1134123.0: 0.678297 0.313750 0.911690  2.14381 0.495944\n",
      "630:     1134123.0: 0.677885 0.314471 0.911707  2.14384 0.495921\n",
      "631:     1134123.0: 0.678020 0.314473 0.911840  2.14381 0.496445\n",
      "632:     1134123.0: 0.677924 0.314458 0.911732  2.14410 0.495995\n",
      "633:     1134123.0: 0.678065 0.314433 0.911825  2.14431 0.495936\n",
      "634:     1134123.0: 0.678108 0.314430 0.911906  2.14486 0.495937\n",
      "635:     1134123.0: 0.678101 0.314420 0.911901  2.14542 0.495930\n",
      "636:     1134123.0: 0.678151 0.314378 0.912062  2.14647 0.496274\n",
      "637:     1134123.0: 0.678063 0.314385 0.912017  2.14755 0.496060\n",
      "638:     1134122.9: 0.678094 0.314300 0.912096  2.14978 0.496067\n",
      "639:     1134122.9: 0.678174 0.314335 0.912262  2.15188 0.496807\n",
      "640:     1134122.9: 0.678102 0.314280 0.912344  2.15409 0.496575\n",
      "641:     1134122.9: 0.678200 0.314234 0.912795  2.15827 0.498049\n",
      "642:     1134123.0: 0.678213 0.314226 0.913358  2.15404 0.496412\n",
      "643:     1134122.9: 0.678102 0.314253 0.912643  2.15630 0.496694\n",
      "644:     1134122.9: 0.678246 0.314266 0.912985  2.16055 0.497990\n",
      "645:     1134122.9: 0.678220 0.314084 0.913345  2.16496 0.498458\n",
      "646:     1134123.0: 0.679695 0.313446 0.912697  2.16055 0.497903\n",
      "647:     1134122.9: 0.677736 0.314471 0.913082  2.16056 0.497808\n",
      "648:     1134122.9: 0.678339 0.314228 0.913561  2.16050 0.497991\n",
      "649:     1134122.9: 0.678432 0.314818 0.912967  2.16055 0.498061\n",
      "650:     1134122.9: 0.678222 0.314259 0.913011  2.16081 0.498104\n",
      "651:     1134122.9: 0.678100 0.314355 0.912969  2.16070 0.498323\n",
      "652:     1134122.9: 0.678068 0.314423 0.912843  2.16073 0.498070\n",
      "653:     1134122.9: 0.678026 0.314416 0.912630  2.16075 0.497783\n",
      "654:     1134122.9: 0.678001 0.314414 0.912490  2.16077 0.497704\n",
      "655:     1134122.9: 0.677992 0.314413 0.912434  2.16078 0.497673\n",
      "656:     1134122.9: 0.677962 0.314405 0.912309  2.16079 0.497547\n",
      "657:     1134122.9: 0.677909 0.314389 0.912094  2.16079 0.497262\n",
      "658:     1134122.9: 0.677814 0.314380 0.911752  2.16076 0.496634\n",
      "659:     1134122.9: 0.677738 0.314367 0.911496  2.16068 0.496166\n",
      "660:     1134122.9: 0.677749 0.314367 0.911530  2.16071 0.496194\n",
      "661:     1134122.9: 0.677742 0.314344 0.911538  2.16124 0.496070\n",
      "662:     1134122.9: 0.677745 0.314346 0.911496  2.16125 0.496022\n",
      "663:     1134122.9: 0.677630 0.314363 0.910999  2.16137 0.496163\n",
      "664:     1134122.9: 0.677841 0.314598 0.911479  2.16125 0.496002\n",
      "665:     1134122.9: 0.677847 0.314464 0.911385  2.16130 0.495792\n",
      "666:     1134122.9: 0.678015 0.314381 0.911036  2.16133 0.495421\n",
      "667:     1134122.9: 0.677925 0.314341 0.910613  2.16145 0.494431\n",
      "668:     1134122.9: 0.677859 0.314316 0.909932  2.16162 0.493604\n",
      "669:     1134122.9: 0.677904 0.314349 0.910567  2.16124 0.494428\n",
      "670:     1134122.9: 0.677894 0.314355 0.910539  2.16181 0.494329\n",
      "671:     1134122.9: 0.677880 0.314286 0.910567  2.16181 0.494314\n",
      "672:     1134122.9: 0.677906 0.314400 0.910486  2.16181 0.494362\n",
      "673:     1134122.9: 0.677880 0.314429 0.910540  2.16180 0.494324\n",
      "674:     1134122.9: 0.677908 0.314403 0.910508  2.16182 0.494393\n",
      "675:     1134122.9: 0.677944 0.314406 0.910520  2.16182 0.494384\n",
      "676:     1134122.9: 0.678012 0.314409 0.910553  2.16182 0.494365\n",
      "677:     1134122.9: 0.678109 0.314412 0.910664  2.16182 0.494319\n",
      "678:     1134122.9: 0.678165 0.314413 0.910893  2.16172 0.494499\n",
      "679:     1134122.9: 0.678167 0.314416 0.910589  2.16178 0.494288\n",
      "680:     1134122.9: 0.678131 0.314411 0.910718  2.16193 0.494234\n",
      "681:     1134122.9: 0.678154 0.314414 0.910764  2.16223 0.494151\n",
      "682:     1134122.9: 0.678196 0.314388 0.910775  2.16284 0.494048\n",
      "683:     1134122.9: 0.678275 0.314338 0.910849  2.16403 0.493736\n",
      "684:     1134122.9: 0.678425 0.314308 0.910921  2.16650 0.493893\n",
      "685:     1134122.9: 0.678432 0.314298 0.910844  2.16653 0.493609\n",
      "686:     1134122.9: 0.678520 0.314283 0.910887  2.16793 0.493311\n",
      "687:     1134122.9: 0.678704 0.314263 0.911101  2.17074 0.492830\n",
      "688:     1134122.9: 0.678705 0.314254 0.911063  2.17073 0.492900\n",
      "689:     1134122.9: 0.678625 0.314272 0.911096  2.17074 0.492830\n",
      "690:     1134122.9: 0.678575 0.314335 0.911093  2.17075 0.492829\n",
      "691:     1134122.9: 0.678499 0.314361 0.911096  2.17075 0.492826\n",
      "692:     1134122.9: 0.678354 0.314391 0.911050  2.17075 0.492787\n",
      "693:     1134122.9: 0.678079 0.314434 0.911012  2.17068 0.492649\n",
      "694:     1134122.9: 0.678050 0.314442 0.911133  2.17008 0.492827\n",
      "695:     1134122.9: 0.678076 0.314435 0.911027  2.17100 0.492592\n",
      "696:     1134122.9: 0.678109 0.314412 0.910983  2.17131 0.492558\n",
      "697:     1134122.9: 0.678156 0.314379 0.911130  2.17193 0.492590\n",
      "698:     1134122.9: 0.678204 0.314376 0.910987  2.17313 0.492169\n",
      "699:     1134122.9: 0.678380 0.314387 0.910876  2.17568 0.492291\n",
      "700:     1134122.9: 0.678507 0.314249 0.911142  2.17802 0.491297\n",
      "701:     1134122.9: 0.678684 0.314233 0.911142  2.17985 0.491340\n",
      "702:     1134122.9: 0.678417 0.313527 0.910981  2.17802 0.491345\n",
      "703:     1134122.9: 0.678677 0.314395 0.911716  2.17711 0.491844\n",
      "704:     1134122.9: 0.679114 0.314204 0.910974  2.17797 0.491204\n",
      "705:     1134122.9: 0.678112 0.314424 0.911037  2.17802 0.491169\n",
      "706:     1134122.9: 0.678071 0.314436 0.911009  2.17762 0.491107\n",
      "707:     1134122.9: 0.678104 0.314468 0.910852  2.17801 0.491347\n",
      "708:     1134122.9: 0.678126 0.314421 0.911127  2.17841 0.491220\n",
      "709:     1134122.9: 0.678148 0.314418 0.911148  2.17868 0.491118\n",
      "710:     1134122.9: 0.678150 0.314417 0.911197  2.17877 0.491051\n",
      "711:     1134122.9: 0.678168 0.314394 0.911291  2.17879 0.490776\n",
      "712:     1134122.9: 0.678165 0.314396 0.911280  2.17894 0.490652\n",
      "713:     1134122.9: 0.678133 0.314386 0.910970  2.17900 0.490438\n",
      "714:     1134122.9: 0.678145 0.314379 0.911024  2.17923 0.490230\n",
      "715:     1134122.9: 0.678156 0.314376 0.911064  2.17978 0.489919\n",
      "716:     1134122.9: 0.678169 0.314308 0.910885  2.18087 0.489277\n",
      "717:     1134122.9: 0.678296 0.314269 0.910979  2.18304 0.487954\n",
      "718:     1134122.9: 0.678372 0.314030 0.910428  2.18731 0.485257\n",
      "719:     1134122.9: 0.678447 0.314064 0.910566  2.18939 0.484095\n",
      "720:     1134122.9: 0.678494 0.313951 0.910647  2.19353 0.481723\n",
      "721:     1134122.9: 0.678726 0.313714 0.909863  2.20150 0.476560\n",
      "722:     1134123.0: 0.678054 0.312229 0.911045  2.19345 0.481626\n",
      "723:     1134122.9: 0.678876 0.314211 0.910371  2.19648 0.480413\n",
      "724:     1134122.9: 0.678553 0.314301 0.910722  2.19500 0.480211\n",
      "725:     1134122.9: 0.678805 0.314294 0.911057  2.19336 0.479938\n",
      "726:     1134122.9: 0.678684 0.314577 0.912196  2.19527 0.480573\n",
      "727:     1134122.9: 0.678462 0.314318 0.911192  2.19642 0.479727\n",
      "728:     1134122.9: 0.678444 0.314275 0.911045  2.19800 0.478641\n",
      "729:     1134122.9: 0.678293 0.314301 0.910955  2.19760 0.478655\n",
      "730:     1134122.9: 0.678112 0.314392 0.910909  2.19600 0.479705\n",
      "731:     1134122.9: 0.678210 0.313767 0.911057  2.19759 0.478688\n",
      "732:     1134122.9: 0.678338 0.314369 0.910815  2.19826 0.477979\n",
      "733:     1134122.9: 0.678356 0.314373 0.910799  2.19845 0.477770\n",
      "734:     1134122.9: 0.678360 0.314375 0.910798  2.19847 0.477732\n",
      "735:     1134122.9: 0.678363 0.314371 0.910768  2.19814 0.477677\n",
      "736:     1134122.9: 0.678531 0.314383 0.910964  2.19846 0.477702\n",
      "737:     1134122.9: 0.678244 0.314377 0.910603  2.19850 0.477803\n",
      "738:     1134122.9: 0.678156 0.314369 0.910656  2.19862 0.477617\n",
      "739:     1134122.9: 0.678114 0.314363 0.910724  2.19897 0.477306\n",
      "740:     1134122.8: 0.678103 0.314340 0.910757  2.19978 0.476778\n",
      "741:     1134122.8: 0.678193 0.314296 0.910720  2.20134 0.475669\n",
      "742:     1134122.8: 0.678217 0.314208 0.910437  2.20468 0.473785\n",
      "743:     1134122.8: 0.678464 0.314007 0.910169  2.21113 0.469608\n",
      "744:     1134122.8: 0.678423 0.314033 0.910312  2.21152 0.470213\n",
      "745:     1134122.8: 0.678431 0.314039 0.910342  2.21159 0.470324\n",
      "746:     1134122.8: 0.678591 0.314107 0.910763  2.21014 0.471337\n",
      "747:     1134122.9: 0.678023 0.313237 0.910677  2.21157 0.470272\n",
      "748:     1134122.8: 0.678496 0.314221 0.909849  2.21166 0.470478\n",
      "749:     1134122.8: 0.678483 0.314234 0.910082  2.21201 0.470112\n",
      "750:     1134122.8: 0.678456 0.314236 0.910234  2.21301 0.469658\n",
      "751:     1134122.8: 0.678517 0.314226 0.909958  2.21474 0.468289\n",
      "752:     1134122.8: 0.678291 0.314234 0.910018  2.21660 0.467091\n",
      "753:     1134122.8: 0.678188 0.314166 0.909608  2.22015 0.464450\n",
      "754:     1134122.8: 0.678240 0.314092 0.909636  2.22406 0.462332\n",
      "755:     1134122.8: 0.678453 0.313835 0.908760  2.23133 0.457292\n",
      "756:     1134122.9: 0.677705 0.312834 0.909234  2.22425 0.462711\n",
      "757:     1134122.8: 0.678914 0.314070 0.910808  2.22409 0.460366\n",
      "758:     1134122.9: 0.679247 0.313823 0.909297  2.22411 0.462478\n",
      "759:     1134122.8: 0.678157 0.314395 0.910453  2.22212 0.462970\n",
      "760:     1134122.8: 0.678125 0.314343 0.910010  2.22356 0.461333\n",
      "761:     1134122.8: 0.678007 0.314568 0.909241  2.22376 0.460993\n",
      "762:     1134122.8: 0.678185 0.314313 0.909980  2.22464 0.461101\n",
      "763:     1134122.8: 0.678217 0.314278 0.909833  2.22515 0.460124\n",
      "764:     1134122.8: 0.678101 0.314092 0.909949  2.22463 0.461089\n",
      "765:     1134122.8: 0.678238 0.314411 0.910078  2.22440 0.461582\n",
      "766:     1134122.8: 0.678218 0.314430 0.910062  2.22392 0.461847\n",
      "767:     1134122.8: 0.678374 0.314368 0.909991  2.22442 0.461607\n",
      "768:     1134122.8: 0.678168 0.314427 0.910251  2.22448 0.461394\n",
      "769:     1134122.8: 0.678170 0.314429 0.910363  2.22463 0.461441\n",
      "770:     1134122.8: 0.678217 0.314423 0.910504  2.22495 0.461567\n",
      "771:     1134122.8: 0.678229 0.314416 0.910619  2.22528 0.461716\n",
      "772:     1134122.8: 0.678322 0.314413 0.910828  2.22596 0.461963\n",
      "773:     1134122.8: 0.678299 0.314408 0.910870  2.22606 0.461984\n",
      "774:     1134122.8: 0.678249 0.314326 0.911255  2.22606 0.462627\n",
      "775:     1134122.8: 0.678209 0.314618 0.911304  2.22623 0.462668\n",
      "776:     1134122.8: 0.678269 0.314414 0.911165  2.22641 0.462677\n",
      "777:     1134122.8: 0.678272 0.314427 0.911316  2.22672 0.462516\n",
      "778:     1134122.8: 0.678304 0.314430 0.911380  2.22706 0.462660\n",
      "779:     1134122.8: 0.678340 0.314415 0.911481  2.22739 0.462521\n",
      "780:     1134122.8: 0.678489 0.314461 0.911396  2.22704 0.462659\n",
      "781:     1134122.8: 0.678130 0.314413 0.911325  2.22710 0.462675\n",
      "782:     1134122.8: 0.678105 0.314406 0.911327  2.22744 0.462828\n",
      "783:     1134122.8: 0.678130 0.314395 0.911457  2.22803 0.463289\n",
      "784:     1134122.8: 0.678172 0.314384 0.911506  2.22873 0.463031\n",
      "785:     1134122.8: 0.678221 0.314395 0.911845  2.22932 0.463369\n",
      "786:     1134122.8: 0.678161 0.314114 0.911480  2.22874 0.463038\n",
      "787:     1134122.8: 0.678147 0.314424 0.911353  2.22879 0.463038\n",
      "788:     1134122.8: 0.678166 0.314424 0.911353  2.22910 0.463192\n",
      "789:     1134122.8: 0.678199 0.314414 0.911485  2.22962 0.463604\n",
      "790:     1134122.8: 0.678348 0.314393 0.911833  2.23093 0.463750\n",
      "791:     1134122.8: 0.678474 0.314410 0.911458  2.22960 0.463612\n",
      "792:     1134122.8: 0.678134 0.314422 0.911638  2.23011 0.463884\n",
      "793:     1134122.8: 0.678121 0.314422 0.911636  2.23010 0.464008\n",
      "794:     1134122.8: 0.678126 0.314297 0.911629  2.23011 0.463884\n",
      "795:     1134122.8: 0.678115 0.314422 0.911595  2.23003 0.463880\n",
      "796:     1134122.8: 0.678101 0.314423 0.911538  2.22990 0.463832\n",
      "797:     1134122.8: 0.678104 0.314424 0.911570  2.23011 0.463931\n",
      "798:     1134122.8: 0.678099 0.314428 0.911512  2.23018 0.463920\n",
      "799:     1134122.8: 0.678095 0.314419 0.911461  2.23035 0.463920\n",
      "800:     1134122.8: 0.678103 0.314434 0.911481  2.23071 0.464003\n",
      "801:     1134122.8: 0.678126 0.314418 0.911585  2.23105 0.464086\n",
      "802:     1134122.8: 0.678139 0.314432 0.911608  2.23134 0.464316\n",
      "803:     1134122.8: 0.678112 0.314455 0.911582  2.23172 0.464946\n",
      "804:     1134122.8: 0.678127 0.314435 0.911795  2.23232 0.465307\n",
      "805:     1134122.8: 0.678158 0.314448 0.911819  2.23253 0.466012\n",
      "806:     1134122.8: 0.678448 0.314411 0.911762  2.23233 0.465301\n",
      "807:     1134122.8: 0.678088 0.314439 0.911730  2.23250 0.465619\n",
      "808:     1134122.8: 0.678075 0.314411 0.911663  2.23310 0.466038\n",
      "809:     1134122.8: 0.678068 0.314404 0.911733  2.23418 0.467040\n",
      "810:     1134122.8: 0.678141 0.314428 0.912253  2.23640 0.468906\n",
      "811:     1134122.8: 0.678033 0.313892 0.911752  2.23416 0.467065\n",
      "812:     1134122.8: 0.678070 0.314433 0.911847  2.23528 0.468014\n",
      "813:     1134122.8: 0.678059 0.314440 0.911777  2.23529 0.468021\n",
      "814:     1134122.8: 0.678025 0.314458 0.911730  2.23610 0.469249\n",
      "815:     1134122.8: 0.678054 0.314454 0.911939  2.23736 0.469973\n",
      "816:     1134122.8: 0.678033 0.314486 0.912199  2.23933 0.472155\n",
      "817:     1134122.8: 0.678728 0.314421 0.911805  2.23736 0.469995\n",
      "818:     1134122.8: 0.678111 0.314440 0.911848  2.23754 0.469961\n",
      "819:     1134122.8: 0.678095 0.314480 0.911668  2.23765 0.469257\n",
      "820:     1134122.8: 0.678095 0.314441 0.911539  2.23649 0.468367\n",
      "821:     1134122.8: 0.678054 0.314065 0.911655  2.23766 0.469265\n",
      "822:     1134122.8: 0.678089 0.314429 0.911771  2.23809 0.469842\n",
      "823:     1134122.8: 0.678098 0.314420 0.911673  2.23766 0.469253\n",
      "824:     1134122.8: 0.678088 0.314411 0.911526  2.23657 0.468267\n",
      "825:     1134122.8: 0.677845 0.314452 0.911780  2.23772 0.469439\n",
      "826:     1134122.8: 0.678105 0.314417 0.911654  2.23747 0.469085\n",
      "827:     1134122.8: 0.678070 0.314432 0.911534  2.23762 0.469309\n",
      "828:     1134122.8: 0.678071 0.314429 0.911503  2.23776 0.469515\n",
      "829:     1134122.8: 0.678086 0.314437 0.911522  2.23815 0.469824\n",
      "830:     1134122.8: 0.678057 0.314436 0.911581  2.23912 0.470033\n",
      "831:     1134122.8: 0.678083 0.314378 0.911789  2.24070 0.471230\n",
      "832:     1134122.8: 0.678196 0.314407 0.911855  2.24269 0.471303\n",
      "833:     1134122.8: 0.678192 0.314422 0.911932  2.24432 0.472448\n",
      "834:     1134122.8: 0.678253 0.314398 0.912176  2.24796 0.474067\n",
      "835:     1134122.8: 0.678282 0.314393 0.912316  2.25078 0.475501\n",
      "836:     1134122.8: 0.678321 0.314400 0.912476  2.25614 0.478146\n",
      "837:     1134122.8: 0.678396 0.314394 0.912804  2.26380 0.481936\n",
      "838:     1134122.8: 0.677823 0.314641 0.914580  2.25610 0.478042\n",
      "839:     1134122.8: 0.678396 0.314390 0.913280  2.25612 0.478124\n",
      "840:     1134122.8: 0.678026 0.313659 0.912496  2.25608 0.478266\n",
      "841:     1134122.8: 0.677788 0.314563 0.912364  2.25589 0.478664\n",
      "842:     1134122.8: 0.678323 0.314399 0.912461  2.25577 0.477970\n",
      "843:     1134122.8: 0.678047 0.314428 0.912440  2.25626 0.477881\n",
      "844:     1134122.8: 0.678055 0.314399 0.912056  2.25633 0.477780\n",
      "845:     1134122.8: 0.678020 0.314403 0.911780  2.25577 0.477270\n",
      "846:     1134122.8: 0.677968 0.314456 0.911607  2.25449 0.476291\n",
      "847:     1134122.8: 0.678585 0.314425 0.911275  2.25596 0.477470\n",
      "848:     1134122.8: 0.678080 0.314421 0.911431  2.25637 0.477669\n",
      "849:     1134122.8: 0.678162 0.314459 0.911658  2.25675 0.478341\n",
      "850:     1134122.8: 0.678030 0.314487 0.911392  2.25629 0.477747\n",
      "851:     1134122.8: 0.678152 0.314406 0.911596  2.25629 0.477521\n",
      "852:     1134122.8: 0.678075 0.314296 0.911449  2.25632 0.477723\n",
      "853:     1134122.8: 0.678096 0.314408 0.911314  2.25645 0.477525\n",
      "854:     1134122.8: 0.678101 0.314404 0.911190  2.25659 0.477168\n",
      "855:     1134122.8: 0.678119 0.314398 0.911118  2.25613 0.476512\n",
      "856:     1134122.8: 0.678149 0.314402 0.911227  2.25535 0.476306\n",
      "857:     1134122.8: 0.678070 0.314501 0.911068  2.25611 0.476533\n",
      "858:     1134122.8: 0.678144 0.314412 0.911217  2.25638 0.476228\n",
      "859:     1134122.8: 0.678177 0.314414 0.911301  2.25660 0.476124\n",
      "860:     1134122.8: 0.678183 0.314415 0.911319  2.25666 0.476117\n",
      "861:     1134122.8: 0.678189 0.314413 0.911319  2.25690 0.476212\n",
      "862:     1134122.8: 0.678193 0.314412 0.911393  2.25737 0.476411\n",
      "863:     1134122.8: 0.678203 0.314408 0.911408  2.25765 0.476519\n",
      "864:     1134122.8: 0.678217 0.314402 0.911427  2.25823 0.476693\n",
      "865:     1134122.8: 0.678236 0.314390 0.911540  2.25935 0.477102\n",
      "866:     1134122.8: 0.678266 0.314385 0.911642  2.26057 0.477472\n",
      "867:     1134122.8: 0.678331 0.314335 0.911816  2.26307 0.478037\n",
      "868:     1134122.8: 0.678357 0.314335 0.911953  2.26442 0.478628\n",
      "869:     1134122.8: 0.678248 0.313668 0.912109  2.26303 0.478062\n",
      "870:     1134122.8: 0.678310 0.314376 0.911168  2.26277 0.477371\n",
      "871:     1134122.8: 0.678291 0.314373 0.911078  2.26277 0.477379\n",
      "872:     1134122.8: 0.678245 0.314395 0.911020  2.26262 0.478259\n",
      "873:     1134122.8: 0.678771 0.314296 0.911035  2.26275 0.477400\n",
      "874:     1134122.8: 0.678092 0.314389 0.911083  2.26278 0.477370\n",
      "875:     1134122.8: 0.678093 0.314390 0.911047  2.26299 0.477423\n",
      "876:     1134122.8: 0.678100 0.314378 0.911034  2.26344 0.477466\n",
      "877:     1134122.8: 0.678107 0.314398 0.911002  2.26432 0.477664\n",
      "878:     1134122.8: 0.678126 0.314353 0.911287  2.26605 0.478079\n",
      "879:     1134122.8: 0.678214 0.314317 0.911313  2.26784 0.478278\n",
      "880:     1134122.8: 0.678230 0.314325 0.911366  2.26951 0.478939\n",
      "881:     1134122.8: 0.678284 0.314287 0.911637  2.27296 0.479964\n",
      "882:     1134122.8: 0.678317 0.314293 0.911655  2.27328 0.479960\n",
      "883:     1134122.8: 0.678553 0.314195 0.911495  2.27294 0.480042\n",
      "884:     1134122.8: 0.678171 0.314321 0.911890  2.27299 0.479793\n",
      "885:     1134122.8: 0.678095 0.314303 0.911610  2.27307 0.479667\n",
      "886:     1134122.8: 0.678067 0.314284 0.911376  2.27335 0.479121\n",
      "887:     1134122.8: 0.678158 0.314247 0.911442  2.27459 0.478710\n",
      "888:     1134122.8: 0.678227 0.314220 0.911481  2.27719 0.479071\n",
      "889:     1134122.8: 0.678364 0.314170 0.911965  2.28222 0.480462\n",
      "890:     1134122.9: 0.677991 0.312832 0.911671  2.27717 0.479028\n",
      "891:     1134122.8: 0.678330 0.314397 0.911441  2.27616 0.478388\n",
      "892:     1134122.8: 0.678281 0.314411 0.911440  2.27714 0.479265\n",
      "893:     1134122.8: 0.678314 0.314394 0.911493  2.27762 0.479163\n",
      "894:     1134122.8: 0.678340 0.314392 0.911587  2.27763 0.479166\n",
      "895:     1134122.8: 0.678222 0.314415 0.911519  2.27763 0.479160\n",
      "896:     1134122.8: 0.678148 0.314417 0.911461  2.27765 0.479142\n",
      "897:     1134122.8: 0.678089 0.314415 0.911312  2.27773 0.479063\n",
      "898:     1134122.8: 0.678076 0.314397 0.911161  2.27801 0.478832\n",
      "899:     1134122.8: 0.678095 0.314369 0.910989  2.27871 0.478530\n",
      "900:     1134122.8: 0.678162 0.314347 0.911228  2.28025 0.478648\n",
      "901:     1134122.8: 0.678184 0.314338 0.910969  2.28162 0.479368\n",
      "902:     1134122.8: 0.678157 0.314507 0.910991  2.28206 0.478741\n",
      "903:     1134122.8: 0.678227 0.314320 0.911205  2.28271 0.478403\n",
      "904:     1134122.8: 0.677714 0.314389 0.911548  2.28293 0.478825\n",
      "905:     1134122.8: 0.678003 0.314114 0.910964  2.28273 0.478349\n",
      "906:     1134122.8: 0.678119 0.314404 0.911194  2.28296 0.478672\n",
      "907:     1134122.8: 0.678110 0.314402 0.911363  2.28320 0.478927\n",
      "908:     1134122.8: 0.678063 0.314482 0.911200  2.28307 0.478543\n",
      "909:     1134122.8: 0.678096 0.314420 0.911227  2.28311 0.478367\n",
      "910:     1134122.8: 0.678119 0.314403 0.911278  2.28334 0.478056\n",
      "911:     1134122.8: 0.678149 0.314354 0.911214  2.28401 0.477653\n",
      "912:     1134122.8: 0.678202 0.314329 0.911332  2.28556 0.477481\n",
      "913:     1134122.8: 0.678245 0.314340 0.911196  2.28711 0.477676\n",
      "914:     1134122.8: 0.678290 0.314306 0.911538  2.28862 0.477970\n",
      "915:     1134122.8: 0.678235 0.313897 0.911154  2.28711 0.477696\n",
      "916:     1134122.8: 0.678218 0.314413 0.911292  2.28787 0.477831\n",
      "917:     1134122.8: 0.678050 0.314418 0.911207  2.28788 0.477853\n",
      "918:     1134122.8: 0.678086 0.314417 0.911229  2.28788 0.477859\n",
      "919:     1134122.8: 0.678086 0.314435 0.911391  2.28777 0.478197\n",
      "920:     1134122.8: 0.678172 0.314433 0.911073  2.28790 0.477937\n",
      "921:     1134122.8: 0.678106 0.314417 0.911118  2.28795 0.477716\n",
      "922:     1134122.8: 0.678131 0.314397 0.911094  2.28810 0.477357\n",
      "923:     1134122.8: 0.678160 0.314371 0.910974  2.28843 0.476654\n",
      "924:     1134122.8: 0.678229 0.314337 0.910820  2.28924 0.475322\n",
      "925:     1134122.8: 0.678342 0.314225 0.910300  2.29123 0.472960\n",
      "926:     1134122.8: 0.678283 0.314254 0.910477  2.29046 0.473524\n",
      "927:     1134122.8: 0.678304 0.314235 0.910571  2.29053 0.472985\n",
      "928:     1134122.8: 0.678307 0.314232 0.910574  2.29055 0.472924\n",
      "929:     1134122.8: 0.678308 0.314232 0.910575  2.29056 0.472906\n",
      "930:     1134122.8: 0.678328 0.314231 0.910574  2.29056 0.472906\n",
      "931:     1134122.8: 0.678288 0.314232 0.910576  2.29056 0.472905\n",
      "932:     1134122.8: 0.678249 0.314237 0.910576  2.29057 0.472904\n",
      "933:     1134122.8: 0.678207 0.314299 0.910551  2.29056 0.472894\n",
      "934:     1134122.8: 0.678125 0.314374 0.910445  2.29053 0.472860\n",
      "935:     1134122.8: 0.678109 0.314423 0.910573  2.29061 0.472882\n",
      "936:     1134122.8: 0.678123 0.314425 0.910728  2.29087 0.472982\n",
      "937:     1134122.8: 0.678140 0.314420 0.910735  2.29147 0.473204\n",
      "938:     1134122.8: 0.678163 0.314387 0.910612  2.29222 0.472175\n",
      "939:     1134122.8: 0.678291 0.314265 0.910338  2.29356 0.470018\n",
      "940:     1134122.8: 0.678332 0.314944 0.910648  2.29423 0.470026\n",
      "941:     1134122.8: 0.678353 0.314383 0.910718  2.29477 0.470141\n",
      "942:     1134122.8: 0.678478 0.314368 0.910347  2.29516 0.468987\n",
      "943:     1134122.8: 0.678095 0.314461 0.910328  2.29488 0.470269\n",
      "944:     1134122.8: 0.678442 0.314442 0.909928  2.29499 0.470613\n",
      "945:     1134122.8: 0.678101 0.314454 0.910355  2.29462 0.470454\n",
      "946:     1134122.8: 0.678188 0.314425 0.910440  2.29512 0.470118\n",
      "947:     1134122.8: 0.678214 0.314406 0.910438  2.29575 0.469994\n",
      "948:     1134122.8: 0.678234 0.314428 0.910548  2.29692 0.470492\n",
      "949:     1134122.8: 0.678255 0.314401 0.910608  2.29936 0.470789\n",
      "950:     1134122.8: 0.678315 0.314386 0.910765  2.30306 0.471504\n",
      "951:     1134122.8: 0.678379 0.314352 0.910696  2.31049 0.472881\n",
      "952:     1134122.8: 0.678671 0.314298 0.911747  2.32522 0.476120\n",
      "953:     1134122.8: 0.678597 0.315984 0.910824  2.31050 0.472844\n",
      "954:     1134122.8: 0.678515 0.314386 0.911296  2.31460 0.473765\n",
      "955:     1134122.8: 0.676827 0.314531 0.911065  2.31047 0.472934\n",
      "956:     1134122.8: 0.678106 0.314431 0.910885  2.31058 0.472932\n",
      "957:     1134122.8: 0.678102 0.314414 0.910609  2.31244 0.472754\n",
      "958:     1134122.7: 0.678171 0.314407 0.910927  2.31604 0.473878\n",
      "959:     1134122.7: 0.678179 0.314346 0.910924  2.32354 0.474786\n",
      "960:     1134122.7: 0.678480 0.314328 0.911639  2.33816 0.478526\n",
      "961:     1134122.8: 0.678461 0.314124 0.912571  2.32394 0.472464\n",
      "962:     1134122.7: 0.678455 0.314278 0.911217  2.33105 0.474101\n",
      "963:     1134122.7: 0.678543 0.314296 0.911956  2.33403 0.476148\n",
      "964:     1134122.8: 0.676610 0.315162 0.911497  2.33111 0.473998\n",
      "965:     1134122.7: 0.677918 0.314130 0.910958  2.33469 0.474219\n",
      "966:     1134122.7: 0.678215 0.314388 0.911255  2.33823 0.475145\n",
      "967:     1134122.7: 0.678163 0.314343 0.911212  2.34156 0.476726\n",
      "968:     1134122.8: 0.677788 0.314988 0.911340  2.33821 0.475179\n",
      "969:     1134122.7: 0.678080 0.314488 0.910609  2.33666 0.475848\n",
      "970:     1134122.7: 0.678572 0.314641 0.911264  2.33821 0.475128\n",
      "971:     1134122.7: 0.678123 0.314425 0.911579  2.33801 0.475976\n",
      "972:     1134122.7: 0.678220 0.314352 0.911556  2.33808 0.474992\n",
      "973:     1134122.7: 0.678119 0.314411 0.911169  2.33785 0.474906\n",
      "974:     1134122.7: 0.678102 0.314419 0.911180  2.33740 0.474836\n",
      "975:     1134122.7: 0.678119 0.314413 0.911210  2.33787 0.475013\n",
      "976:     1134122.7: 0.678112 0.314407 0.911122  2.33793 0.474692\n",
      "977:     1134122.7: 0.678098 0.314399 0.911059  2.33807 0.474260\n",
      "978:     1134122.7: 0.678164 0.314401 0.910935  2.33835 0.473390\n",
      "979:     1134122.7: 0.678151 0.314327 0.910607  2.33876 0.471626\n",
      "980:     1134122.7: 0.678126 0.314299 0.910139  2.33578 0.469506\n",
      "981:     1134122.7: 0.677937 0.314629 0.910661  2.33878 0.471610\n",
      "982:     1134122.7: 0.678120 0.314387 0.910803  2.34060 0.471667\n",
      "983:     1134122.7: 0.678165 0.314431 0.911000  2.34387 0.473353\n",
      "984:     1134122.8: 0.678672 0.313718 0.910826  2.34398 0.473397\n",
      "985:     1134122.7: 0.678101 0.314441 0.911174  2.34234 0.473469\n",
      "986:     1134122.7: 0.678112 0.314529 0.910426  2.34379 0.473489\n",
      "987:     1134122.7: 0.678093 0.314449 0.910648  2.34415 0.472552\n",
      "988:     1134122.7: 0.678149 0.314395 0.910669  2.34449 0.471699\n",
      "989:     1134122.7: 0.678165 0.314345 0.910236  2.34529 0.470094\n",
      "990:     1134122.7: 0.678267 0.314373 0.910631  2.34696 0.470752\n",
      "991:     1134122.7: 0.678338 0.314385 0.911039  2.35035 0.472137\n",
      "992:     1134122.7: 0.678349 0.314394 0.910921  2.34912 0.471620\n",
      "993:     1134122.8: 0.677279 0.313734 0.911168  2.35030 0.472178\n",
      "994:     1134122.7: 0.678137 0.314339 0.910924  2.34911 0.472276\n",
      "995:     1134122.7: 0.678207 0.314293 0.910995  2.34955 0.471086\n",
      "996:     1134122.7: 0.678234 0.314280 0.910995  2.35132 0.471135\n",
      "997:     1134122.7: 0.678297 0.314257 0.911073  2.35486 0.471320\n",
      "998:     1134122.7: 0.678358 0.314237 0.911231  2.35813 0.471721\n",
      "999:     1134122.8: 0.678896 0.313329 0.910985  2.35484 0.471379\n",
      "1000:     1134122.7: 0.678125 0.314403 0.910925  2.35628 0.470287\n",
      "1001:     1134122.7: 0.678108 0.314363 0.910415  2.35611 0.468628\n",
      "1002:     1134122.7: 0.678486 0.314577 0.911445  2.35626 0.470124\n",
      "1003:     1134122.7: 0.678145 0.314357 0.910762  2.35657 0.468782\n",
      "1004:     1134122.7: 0.678125 0.314345 0.910895  2.35679 0.468936\n",
      "1005:     1134122.7: 0.678142 0.314358 0.910889  2.35692 0.468868\n",
      "1006:     1134122.7: 0.678153 0.314357 0.910806  2.35705 0.468833\n",
      "1007:     1134122.7: 0.678189 0.314297 0.910893  2.35692 0.468862\n",
      "1008:     1134122.7: 0.678099 0.314404 0.910904  2.35695 0.468832\n",
      "1009:     1134122.7: 0.678114 0.314413 0.910917  2.35704 0.468711\n",
      "1010:     1134122.7: 0.678090 0.314399 0.910863  2.35720 0.468453\n",
      "1011:     1134122.7: 0.678122 0.314413 0.910882  2.35734 0.468182\n",
      "1012:     1134122.7: 0.678139 0.314384 0.910684  2.35759 0.467654\n",
      "1013:     1134122.7: 0.678020 0.314603 0.910805  2.35755 0.467524\n",
      "1014:     1134122.7: 0.678178 0.314433 0.910840  2.35753 0.467401\n",
      "1015:     1134122.7: 0.678187 0.314435 0.910715  2.35770 0.467173\n",
      "1016:     1134122.7: 0.678289 0.314522 0.910789  2.35751 0.467411\n",
      "1017:     1134122.7: 0.678124 0.314410 0.910789  2.35748 0.467280\n",
      "1018:     1134122.7: 0.678132 0.314411 0.910836  2.35759 0.467186\n",
      "1019:     1134122.7: 0.678153 0.314407 0.910963  2.35787 0.467225\n",
      "1020:     1134122.7: 0.678145 0.314402 0.910938  2.35817 0.467267\n",
      "1021:     1134122.7: 0.678163 0.314405 0.911015  2.35847 0.467300\n",
      "1022:     1134122.7: 0.678147 0.314398 0.910971  2.35907 0.467459\n",
      "1023:     1134122.7: 0.678177 0.314380 0.911121  2.35959 0.467748\n",
      "1024:     1134122.7: 0.678266 0.314528 0.911039  2.35903 0.467547\n",
      "1025:     1134122.7: 0.678167 0.314386 0.910915  2.35924 0.467210\n",
      "1026:     1134122.7: 0.678161 0.314382 0.910915  2.35950 0.467045\n",
      "1027:     1134122.7: 0.678187 0.314363 0.910820  2.35992 0.466609\n",
      "1028:     1134122.7: 0.678172 0.314368 0.910822  2.36014 0.466578\n",
      "1029:     1134122.7: 0.678122 0.314396 0.910859  2.36058 0.466539\n",
      "1030:     1134122.7: 0.678114 0.314410 0.910769  2.36146 0.466444\n",
      "1031:     1134122.7: 0.678148 0.314370 0.910870  2.36320 0.466084\n",
      "1032:     1134122.7: 0.678182 0.314316 0.910675  2.36663 0.465200\n",
      "1033:     1134122.7: 0.678298 0.314259 0.910754  2.36975 0.463487\n",
      "1034:     1134122.7: 0.678746 0.314877 0.910626  2.36664 0.465216\n",
      "1035:     1134122.7: 0.678319 0.314328 0.910936  2.36834 0.465594\n",
      "1036:     1134122.7: 0.678655 0.313831 0.910573  2.36662 0.465204\n",
      "1037:     1134122.7: 0.678147 0.314429 0.910911  2.36746 0.465409\n",
      "1038:     1134122.7: 0.678166 0.314431 0.911053  2.36745 0.465369\n",
      "1039:     1134122.7: 0.678167 0.314423 0.910967  2.36765 0.465057\n",
      "1040:     1134122.7: 0.678173 0.314405 0.910826  2.36768 0.464306\n",
      "1041:     1134122.7: 0.678174 0.314411 0.910895  2.36769 0.464557\n",
      "1042:     1134122.7: 0.678174 0.314410 0.910885  2.36769 0.464519\n",
      "1043:     1134122.7: 0.678179 0.314406 0.910927  2.36771 0.464550\n",
      "1044:     1134122.7: 0.678182 0.314409 0.910931  2.36769 0.464516\n",
      "1045:     1134122.7: 0.678186 0.314387 0.910926  2.36771 0.464551\n",
      "1046:     1134122.7: 0.678173 0.314423 0.910929  2.36772 0.464550\n",
      "1047:     1134122.7: 0.678167 0.314431 0.910932  2.36776 0.464549\n",
      "1048:     1134122.7: 0.678166 0.314433 0.910935  2.36784 0.464549\n",
      "1049:     1134122.7: 0.678174 0.314434 0.910940  2.36799 0.464548\n",
      "1050:     1134122.7: 0.678150 0.314435 0.910970  2.36808 0.464681\n",
      "1051:     1134122.7: 0.678159 0.314443 0.910993  2.36824 0.464954\n",
      "1052:     1134122.7: 0.678269 0.314537 0.910951  2.36807 0.464701\n",
      "1053:     1134122.7: 0.678123 0.314417 0.911004  2.36822 0.464626\n",
      "1054:     1134122.7: 0.678126 0.314422 0.911036  2.36852 0.464518\n",
      "1055:     1134122.7: 0.678147 0.314398 0.911099  2.36911 0.464291\n",
      "1056:     1134122.7: 0.678173 0.314381 0.911103  2.36968 0.463989\n",
      "1057:     1134122.7: 0.678195 0.314351 0.910951  2.37054 0.463063\n",
      "1058:     1134122.7: 0.678195 0.314344 0.910932  2.37073 0.462927\n",
      "1059:     1134122.7: 0.678202 0.314338 0.910938  2.37097 0.462793\n",
      "1060:     1134122.7: 0.678216 0.314327 0.910918  2.37114 0.462313\n",
      "1061:     1134122.7: 0.678347 0.314107 0.910922  2.37096 0.462803\n",
      "1062:     1134122.7: 0.678114 0.314430 0.910963  2.37110 0.462994\n",
      "1063:     1134122.7: 0.678149 0.314457 0.911042  2.37137 0.463462\n",
      "1064:     1134122.7: 0.678153 0.314467 0.910696  2.37113 0.463021\n",
      "1065:     1134122.7: 0.678115 0.314444 0.910987  2.37111 0.463267\n",
      "1066:     1134122.7: 0.678161 0.314478 0.910974  2.37110 0.462980\n",
      "1067:     1134122.7: 0.678093 0.314431 0.910910  2.37123 0.462982\n",
      "1068:     1134122.7: 0.678068 0.314463 0.910909  2.37125 0.463000\n",
      "1069:     1134122.7: 0.678105 0.314423 0.910921  2.37118 0.463031\n",
      "1070:     1134122.7: 0.678106 0.314425 0.910928  2.37117 0.463055\n",
      "1071:     1134122.7: 0.678105 0.314424 0.910947  2.37116 0.463077\n",
      "1072:     1134122.7: 0.678107 0.314425 0.910972  2.37113 0.463135\n",
      "1073:     1134122.7: 0.678106 0.314427 0.910964  2.37114 0.463203\n",
      "1074:     1134122.7: 0.678098 0.314439 0.910952  2.37112 0.463137\n",
      "1075:     1134122.7: 0.678113 0.314422 0.910998  2.37115 0.463134\n",
      "1076:     1134122.7: 0.678120 0.314421 0.911035  2.37121 0.463137\n",
      "1077:     1134122.7: 0.678130 0.314417 0.911055  2.37134 0.463160\n",
      "1078:     1134122.7: 0.678132 0.314413 0.911105  2.37147 0.463156\n",
      "1079:     1134122.7: 0.678131 0.314405 0.911076  2.37174 0.463150\n",
      "1080:     1134122.7: 0.678150 0.314398 0.911169  2.37224 0.462942\n",
      "1081:     1134122.7: 0.678163 0.314389 0.910989  2.37264 0.462605\n",
      "1082:     1134122.7: 0.678149 0.314374 0.910962  2.37287 0.462110\n",
      "1083:     1134122.7: 0.678177 0.314366 0.910991  2.37341 0.462205\n",
      "1084:     1134122.7: 0.678188 0.314346 0.910988  2.37391 0.461988\n",
      "1085:     1134122.7: 0.678367 0.314518 0.911004  2.37340 0.462190\n",
      "1086:     1134122.7: 0.678175 0.314382 0.911069  2.37364 0.462333\n",
      "1087:     1134122.7: 0.678152 0.314416 0.911284  2.37389 0.462765\n",
      "1088:     1134122.7: 0.678181 0.314427 0.911587  2.37389 0.463819\n",
      "1089:     1134122.7: 0.678037 0.314541 0.911087  2.37391 0.462824\n",
      "1090:     1134122.7: 0.678107 0.314437 0.911173  2.37385 0.462233\n",
      "1091:     1134122.7: 0.678112 0.314419 0.910991  2.37414 0.461804\n",
      "1092:     1134122.7: 0.678131 0.314389 0.910918  2.37513 0.461336\n",
      "1093:     1134122.7: 0.678174 0.314333 0.910776  2.37714 0.460484\n",
      "1094:     1134122.7: 0.677897 0.314503 0.911091  2.37508 0.461234\n",
      "1095:     1134122.7: 0.678076 0.314400 0.910825  2.37459 0.460382\n",
      "1096:     1134122.7: 0.678102 0.314198 0.910999  2.37518 0.461302\n",
      "1097:     1134122.7: 0.678093 0.314430 0.911053  2.37464 0.461538\n",
      "1098:     1134122.7: 0.678260 0.314439 0.911047  2.37515 0.461300\n",
      "1099:     1134122.7: 0.678099 0.314411 0.910970  2.37535 0.461188\n",
      "1100:     1134122.7: 0.678123 0.314409 0.911044  2.37560 0.461248\n",
      "1101:     1134122.7: 0.678116 0.314381 0.911117  2.37611 0.461049\n",
      "1102:     1134122.7: 0.678137 0.314387 0.910963  2.37663 0.460957\n",
      "1103:     1134122.7: 0.678170 0.314381 0.911235  2.37709 0.461048\n",
      "1104:     1134122.7: 0.678175 0.314369 0.911091  2.37750 0.460709\n",
      "1105:     1134122.7: 0.678155 0.314370 0.911095  2.37726 0.460774\n",
      "1106:     1134122.7: 0.678161 0.314370 0.911105  2.37733 0.460798\n",
      "1107:     1134122.7: 0.678148 0.314366 0.911113  2.37743 0.460931\n",
      "1108:     1134122.7: 0.678150 0.314358 0.911136  2.37775 0.460989\n",
      "1109:     1134122.7: 0.678157 0.314350 0.911162  2.37810 0.460982\n",
      "1110:     1134122.7: 0.678186 0.314342 0.911211  2.37869 0.460956\n",
      "1111:     1134122.7: 0.677879 0.314458 0.911219  2.37811 0.460948\n",
      "1112:     1134122.7: 0.678072 0.314363 0.911136  2.37817 0.460648\n",
      "1113:     1134122.7: 0.678068 0.314417 0.910948  2.37797 0.460860\n",
      "1114:     1134122.7: 0.678081 0.314419 0.911120  2.37772 0.461045\n",
      "1115:     1134122.7: 0.678060 0.314391 0.911024  2.37783 0.460726\n",
      "1116:     1134122.7: 0.678013 0.314262 0.911087  2.37770 0.461068\n",
      "1117:     1134122.7: 0.678084 0.314423 0.911068  2.37756 0.461000\n",
      "1118:     1134122.7: 0.678043 0.314430 0.911139  2.37772 0.461031\n",
      "1119:     1134122.7: 0.678101 0.314418 0.911107  2.37780 0.461065\n",
      "1120:     1134122.7: 0.678106 0.314415 0.911126  2.37797 0.461129\n",
      "1121:     1134122.7: 0.678104 0.314421 0.911129  2.37823 0.461362\n",
      "1122:     1134122.7: 0.678143 0.314418 0.911362  2.37867 0.461860\n",
      "1123:     1134122.7: 0.678174 0.314420 0.911106  2.37822 0.461376\n",
      "1124:     1134122.7: 0.678116 0.314421 0.911227  2.37838 0.461664\n",
      "1125:     1134122.7: 0.678118 0.314421 0.911236  2.37841 0.461705\n",
      "1126:     1134122.7: 0.678116 0.314421 0.911232  2.37841 0.461693\n",
      "1127:     1134122.7: 0.678101 0.314425 0.911223  2.37841 0.461690\n",
      "1128:     1134122.7: 0.678102 0.314423 0.911208  2.37843 0.461685\n",
      "1129:     1134122.7: 0.678100 0.314420 0.911182  2.37845 0.461672\n",
      "1130:     1134122.7: 0.678098 0.314420 0.911143  2.37851 0.461640\n",
      "1131:     1134122.7: 0.678098 0.314414 0.911134  2.37865 0.461556\n",
      "1132:     1134122.7: 0.678097 0.314414 0.911115  2.37880 0.461559\n",
      "1133:     1134122.7: 0.678088 0.314425 0.911082  2.37907 0.461641\n",
      "1134:     1134122.7: 0.678111 0.314415 0.911156  2.37962 0.461825\n",
      "1135:     1134122.7: 0.678095 0.314416 0.911221  2.38064 0.462399\n",
      "1136:     1134122.7: 0.678137 0.314390 0.911283  2.38166 0.462979\n",
      "1137:     1134122.7: 0.678119 0.314389 0.911288  2.38203 0.463127\n",
      "1138:     1134122.7: 0.678114 0.314400 0.911355  2.38281 0.463222\n",
      "1139:     1134122.7: 0.678113 0.314396 0.911459  2.38420 0.463997\n",
      "1140:     1134122.7: 0.678109 0.314392 0.911530  2.38505 0.464322\n",
      "1141:     1134122.7: 0.678126 0.314385 0.911538  2.38565 0.464470\n",
      "1142:     1134122.7: 0.678162 0.314372 0.911541  2.38652 0.464742\n",
      "1143:     1134122.7: 0.678146 0.314376 0.911443  2.38591 0.464075\n",
      "1144:     1134122.7: 0.678139 0.314379 0.911357  2.38522 0.463523\n",
      "1145:     1134122.7: 0.678113 0.314203 0.911360  2.38522 0.463524\n",
      "1146:     1134122.7: 0.678149 0.314415 0.911355  2.38522 0.463523\n",
      "1147:     1134122.7: 0.678112 0.314418 0.911275  2.38522 0.463536\n",
      "1148:     1134122.7: 0.678101 0.314417 0.911120  2.38528 0.463469\n",
      "1149:     1134122.7: 0.678100 0.314414 0.911103  2.38553 0.463507\n",
      "1150:     1134122.7: 0.678097 0.314405 0.911090  2.38606 0.463522\n",
      "1151:     1134122.7: 0.678099 0.314405 0.911091  2.38654 0.463646\n",
      "1152:     1134122.7: 0.678085 0.314391 0.910908  2.38751 0.463624\n",
      "1153:     1134122.7: 0.678104 0.314377 0.910996  2.38945 0.464008\n",
      "1154:     1134122.7: 0.678111 0.314305 0.910968  2.39337 0.464530\n",
      "1155:     1134122.7: 0.678102 0.314341 0.910902  2.39337 0.464548\n",
      "1156:     1134122.7: 0.678161 0.314319 0.910407  2.39527 0.464824\n",
      "1157:     1134122.7: 0.677342 0.314035 0.910838  2.39337 0.464583\n",
      "1158:     1134122.7: 0.678125 0.314398 0.910971  2.39425 0.464992\n",
      "1159:     1134122.7: 0.678131 0.314385 0.910979  2.39620 0.465326\n",
      "1160:     1134122.7: 0.678140 0.314352 0.910902  2.40007 0.466147\n",
      "1161:     1134122.7: 0.678139 0.314326 0.910792  2.40318 0.466337\n",
      "1162:     1134122.7: 0.678138 0.314322 0.910765  2.40380 0.466390\n",
      "1163:     1134122.7: 0.677932 0.314804 0.910891  2.40321 0.466013\n",
      "1164:     1134122.7: 0.678106 0.314371 0.910865  2.40323 0.465724\n",
      "1165:     1134122.7: 0.678031 0.314403 0.910394  2.40320 0.465326\n",
      "1166:     1134122.7: 0.677821 0.314248 0.910894  2.40323 0.465734\n",
      "1167:     1134122.7: 0.678114 0.314414 0.911024  2.40316 0.465979\n",
      "1168:     1134122.7: 0.678113 0.314418 0.910997  2.40286 0.466019\n",
      "1169:     1134122.7: 0.678116 0.314405 0.910998  2.40323 0.466020\n",
      "1170:     1134122.7: 0.678115 0.314415 0.910991  2.40309 0.465845\n",
      "1171:     1134122.7: 0.678117 0.314412 0.910987  2.40303 0.465539\n",
      "1172:     1134122.7: 0.678129 0.314399 0.910907  2.40308 0.464924\n",
      "1173:     1134122.7: 0.678114 0.314402 0.910858  2.40291 0.464327\n",
      "1174:     1134122.7: 0.678119 0.314394 0.910808  2.40287 0.463720\n",
      "1175:     1134122.7: 0.678119 0.314395 0.910814  2.40288 0.463824\n",
      "1176:     1134122.7: 0.678078 0.314488 0.910798  2.40288 0.463719\n",
      "1177:     1134122.7: 0.678101 0.314414 0.910781  2.40296 0.463670\n",
      "1178:     1134122.7: 0.678107 0.314416 0.910840  2.40287 0.463663\n",
      "1179:     1134122.7: 0.678112 0.314415 0.910997  2.40293 0.463786\n",
      "1180:     1134122.7: 0.678111 0.314418 0.911058  2.40300 0.464190\n",
      "1181:     1134122.7: 0.677929 0.314337 0.911004  2.40291 0.463787\n",
      "1182:     1134122.7: 0.678114 0.314412 0.911020  2.40285 0.463595\n",
      "1183:     1134122.7: 0.678109 0.314406 0.910986  2.40287 0.463391\n",
      "1184:     1134122.7: 0.678112 0.314408 0.910969  2.40282 0.463192\n",
      "1185:     1134122.7: 0.678112 0.314408 0.910973  2.40284 0.463256\n",
      "1186:     1134122.7: 0.678112 0.314408 0.910972  2.40283 0.463239\n",
      "1187:     1134122.7: 0.678096 0.314398 0.910972  2.40283 0.463258\n",
      "1188:     1134122.7: 0.678119 0.314410 0.910979  2.40285 0.463271\n",
      "1189:     1134122.7: 0.678117 0.314413 0.910981  2.40286 0.463296\n",
      "1190:     1134122.7: 0.678111 0.314418 0.911004  2.40291 0.463278\n",
      "1191:     1134122.7: 0.678110 0.314414 0.911005  2.40300 0.463210\n",
      "1192:     1134122.7: 0.678107 0.314414 0.910959  2.40298 0.462986\n",
      "1193:     1134122.7: 0.678094 0.314452 0.910974  2.40301 0.463215\n",
      "1194:     1134122.7: 0.678106 0.314414 0.910952  2.40305 0.463300\n",
      "1195:     1134122.7: 0.678112 0.314407 0.910991  2.40299 0.463196\n",
      "1196:     1134122.7: 0.678116 0.314417 0.911050  2.40304 0.463211\n",
      "1197:     1134122.7: 0.678121 0.314414 0.911090  2.40314 0.463216\n",
      "1198:     1134122.7: 0.678111 0.314417 0.911062  2.40336 0.463283\n",
      "1199:     1134122.7: 0.678125 0.314415 0.911130  2.40381 0.463363\n",
      "1200:     1134122.7: 0.678127 0.314411 0.911157  2.40470 0.463585\n",
      "1201:     1134122.7: 0.678143 0.314402 0.911257  2.40651 0.463912\n",
      "1202:     1134122.7: 0.678155 0.314395 0.911361  2.40828 0.464374\n",
      "1203:     1134122.7: 0.678154 0.314394 0.911306  2.40772 0.464170\n",
      "1204:     1134122.7: 0.678161 0.314388 0.911320  2.40811 0.464137\n",
      "1205:     1134122.7: 0.678155 0.314391 0.911276  2.40790 0.464148\n",
      "1206:     1134122.7: 0.678145 0.314392 0.911148  2.40791 0.464169\n",
      "1207:     1134122.7: 0.677885 0.314375 0.911156  2.40791 0.464155\n",
      "1208:     1134122.7: 0.678153 0.314262 0.911146  2.40791 0.464173\n",
      "1209:     1134122.7: 0.678098 0.314419 0.911093  2.40792 0.464134\n",
      "1210:     1134122.7: 0.678098 0.314420 0.911095  2.40793 0.464182\n",
      "1211:     1134122.7: 0.678104 0.314417 0.911119  2.40796 0.464157\n",
      "1212:     1134122.7: 0.678100 0.314419 0.911105  2.40799 0.464129\n",
      "1213:     1134122.7: 0.678101 0.314415 0.911101  2.40808 0.464085\n",
      "1214:     1134122.7: 0.678102 0.314415 0.911119  2.40827 0.464093\n",
      "1215:     1134122.7: 0.678102 0.314412 0.911087  2.40844 0.464008\n",
      "1216:     1134122.7: 0.678105 0.314407 0.911174  2.40880 0.464125\n",
      "1217:     1134122.7: 0.678020 0.314385 0.911196  2.40880 0.464114\n",
      "1218:     1134122.7: 0.678094 0.314410 0.911117  2.40893 0.463991\n",
      "1219:     1134122.7: 0.678113 0.314398 0.911219  2.40930 0.464025\n",
      "1220:     1134122.7: 0.678112 0.314447 0.911199  2.40891 0.463942\n",
      "1221:     1134122.7: 0.678106 0.314411 0.911160  2.40880 0.463856\n",
      "1222:     1134122.7: 0.678077 0.314490 0.911128  2.40877 0.463860\n",
      "1223:     1134122.7: 0.678100 0.314419 0.911133  2.40871 0.463886\n",
      "1224:     1134122.7: 0.678149 0.314423 0.911152  2.40879 0.463873\n",
      "1225:     1134122.7: 0.678102 0.314418 0.911130  2.40883 0.463867\n",
      "1226:     1134122.7: 0.678101 0.314418 0.911118  2.40892 0.463900\n",
      "1227:     1134122.7: 0.678101 0.314417 0.911114  2.40893 0.463912\n",
      "1228:     1134122.7: 0.678095 0.314415 0.911124  2.40891 0.463916\n",
      "1229:     1134122.7: 0.678104 0.314419 0.911121  2.40894 0.463887\n",
      "1230:     1134122.7: 0.678105 0.314420 0.911111  2.40896 0.463861\n",
      "1231:     1134122.7: 0.678105 0.314419 0.911108  2.40903 0.463817\n",
      "1232:     1134122.7: 0.678107 0.314416 0.911103  2.40917 0.463745\n",
      "1233:     1134122.7: 0.678110 0.314420 0.911105  2.40949 0.463701\n",
      "1234:     1134122.7: 0.678128 0.314413 0.911090  2.41011 0.463541\n",
      "1235:     1134122.7: 0.678131 0.314406 0.911130  2.41138 0.463406\n",
      "1236:     1134122.7: 0.678152 0.314394 0.911100  2.41391 0.463034\n",
      "1237:     1134122.7: 0.678201 0.314370 0.911103  2.41898 0.462261\n",
      "1238:     1134122.7: 0.678196 0.314374 0.911103  2.41848 0.462374\n",
      "1239:     1134122.7: 0.678197 0.314374 0.911100  2.41850 0.462393\n",
      "1240:     1134122.7: 0.678197 0.314375 0.911099  2.41851 0.462405\n",
      "1241:     1134122.7: 0.678197 0.314376 0.911030  2.41860 0.462350\n",
      "1242:     1134122.7: 0.678199 0.314375 0.911056  2.41873 0.462363\n",
      "1243:     1134122.7: 0.678238 0.314397 0.911093  2.41856 0.462308\n",
      "1244:     1134122.7: 0.678119 0.314513 0.911061  2.41873 0.462360\n",
      "1245:     1134122.7: 0.678099 0.314420 0.911000  2.41873 0.462371\n",
      "1246:     1134122.7: 0.678110 0.314423 0.911056  2.41880 0.462602\n",
      "1247:     1134122.7: 0.678111 0.314422 0.911041  2.41902 0.462503\n",
      "1248:     1134122.7: 0.678115 0.314421 0.911045  2.41952 0.462479\n",
      "1249:     1134122.7: 0.678125 0.314417 0.911056  2.42051 0.462402\n",
      "1250:     1134122.7: 0.678144 0.314408 0.911007  2.42244 0.461991\n",
      "1251:     1134122.7: 0.678163 0.314400 0.911053  2.42442 0.461872\n",
      "1252:     1134122.7: 0.678167 0.314386 0.911012  2.42637 0.461496\n",
      "1253:     1134122.7: 0.678637 0.314541 0.910777  2.42443 0.461948\n",
      "1254:     1134122.7: 0.678159 0.314398 0.911065  2.42443 0.461789\n",
      "1255:     1134122.7: 0.678149 0.314446 0.911072  2.42443 0.461789\n",
      "1256:     1134122.7: 0.678153 0.314426 0.911115  2.42443 0.461802\n",
      "1257:     1134122.7: 0.678149 0.314425 0.911095  2.42443 0.461837\n",
      "1258:     1134122.7: 0.678147 0.314426 0.911089  2.42452 0.461845\n",
      "1259:     1134122.7: 0.678150 0.314424 0.911099  2.42460 0.461844\n",
      "1260:     1134122.7: 0.678188 0.314435 0.911089  2.42452 0.461843\n",
      "1261:     1134122.7: 0.678108 0.314421 0.911079  2.42452 0.461851\n",
      "1262:     1134122.7: 0.678104 0.314421 0.911063  2.42445 0.461899\n",
      "1263:     1134122.7: 0.678104 0.314420 0.911060  2.42455 0.461836\n",
      "1264:     1134122.7: 0.678106 0.314420 0.911088  2.42450 0.461853\n",
      "1265:     1134122.7: 0.678105 0.314420 0.911082  2.42448 0.461851\n",
      "rho:  2.0e-06 eval: 1265 fn:  1.13412e+06 par:0.678106 0.314420 0.911088  2.42450 0.461853 \n",
      "1266:     1134122.7: 0.678107 0.314420 0.911093  2.42450 0.461860\n",
      "1267:     1134122.7: 0.678106 0.314420 0.911095  2.42452 0.461875\n",
      "1268:     1134122.7: 0.678107 0.314420 0.911096  2.42455 0.461898\n",
      "1269:     1134122.7: 0.678106 0.314420 0.911107  2.42459 0.461908\n",
      "1270:     1134122.7: 0.678106 0.314418 0.911095  2.42463 0.461917\n",
      "1271:     1134122.7: 0.678106 0.314418 0.911104  2.42466 0.461919\n",
      "1272:     1134122.7: 0.678107 0.314418 0.911093  2.42470 0.461924\n",
      "1273:     1134122.7: 0.678105 0.314419 0.911100  2.42478 0.461919\n",
      "1274:     1134122.7: 0.678104 0.314417 0.911087  2.42494 0.461905\n",
      "1275:     1134122.7: 0.678104 0.314414 0.911093  2.42525 0.461819\n",
      "1276:     1134122.7: 0.678103 0.314413 0.911089  2.42562 0.461792\n",
      "1277:     1134122.7: 0.678101 0.314408 0.911088  2.42635 0.461747\n",
      "1278:     1134122.7: 0.678099 0.314399 0.911084  2.42780 0.461484\n",
      "1279:     1134122.7: 0.678138 0.314219 0.911078  2.42635 0.461750\n",
      "1280:     1134122.7: 0.678096 0.314414 0.911086  2.42708 0.461688\n",
      "1281:     1134122.7: 0.678093 0.314412 0.911078  2.42780 0.461758\n",
      "1282:     1134122.7: 0.678093 0.314412 0.911077  2.42796 0.461750\n",
      "1283:     1134122.7: 0.678093 0.314411 0.911077  2.42802 0.461745\n",
      "1284:     1134122.7: 0.678091 0.314409 0.911081  2.42838 0.461697\n",
      "1285:     1134122.7: 0.677929 0.314398 0.911003  2.42802 0.461741\n",
      "1286:     1134122.7: 0.678117 0.314412 0.911103  2.42804 0.461759\n",
      "1287:     1134122.7: 0.678115 0.314418 0.911013  2.42804 0.461753\n",
      "1288:     1134122.7: 0.678122 0.314368 0.911099  2.42804 0.461762\n",
      "1289:     1134122.7: 0.678114 0.314420 0.911080  2.42800 0.461764\n",
      "1290:     1134122.7: 0.678112 0.314421 0.911085  2.42800 0.461720\n",
      "1291:     1134122.7: 0.678096 0.314418 0.911073  2.42801 0.461762\n",
      "1292:     1134122.7: 0.678108 0.314420 0.911081  2.42803 0.461767\n",
      "1293:     1134122.7: 0.678107 0.314420 0.911073  2.42807 0.461755\n",
      "1294:     1134122.7: 0.678102 0.314418 0.911083  2.42802 0.461768\n",
      "1295:     1134122.7: 0.678106 0.314420 0.911085  2.42801 0.461778\n",
      "1296:     1134122.7: 0.678106 0.314419 0.911095  2.42796 0.461787\n",
      "1297:     1134122.7: 0.678115 0.314420 0.911087  2.42796 0.461789\n",
      "1298:     1134122.7: 0.678106 0.314420 0.911087  2.42797 0.461795\n",
      "1299:     1134122.7: 0.678105 0.314420 0.911086  2.42796 0.461800\n",
      "1300:     1134122.7: 0.678105 0.314420 0.911085  2.42794 0.461808\n",
      "1301:     1134122.7: 0.678105 0.314410 0.911085  2.42796 0.461800\n",
      "1302:     1134122.7: 0.678105 0.314419 0.911083  2.42795 0.461802\n",
      "1303:     1134122.7: 0.678103 0.314420 0.911082  2.42796 0.461799\n",
      "1304:     1134122.7: 0.678106 0.314419 0.911089  2.42796 0.461804\n",
      "1305:     1134122.7: 0.678107 0.314419 0.911096  2.42796 0.461811\n",
      "1306:     1134122.7: 0.678107 0.314419 0.911104  2.42797 0.461829\n",
      "1307:     1134122.7: 0.678106 0.314419 0.911104  2.42797 0.461870\n",
      "1308:     1134122.7: 0.678104 0.314419 0.911129  2.42793 0.461939\n",
      "1309:     1134122.7: 0.678120 0.314421 0.911128  2.42793 0.461941\n",
      "1310:     1134122.7: 0.678104 0.314420 0.911106  2.42791 0.461959\n",
      "1311:     1134122.7: 0.678101 0.314421 0.911100  2.42785 0.462014\n",
      "1312:     1134122.7: 0.678102 0.314421 0.911101  2.42785 0.462007\n",
      "1313:     1134122.7: 0.678104 0.314419 0.911109  2.42786 0.461978\n",
      "1314:     1134122.7: 0.678105 0.314401 0.911099  2.42785 0.462008\n",
      "1315:     1134122.7: 0.678103 0.314419 0.911106  2.42787 0.462021\n",
      "1316:     1134122.7: 0.678103 0.314419 0.911113  2.42789 0.462055\n",
      "1317:     1134122.7: 0.678102 0.314420 0.911124  2.42787 0.462131\n",
      "1318:     1134122.7: 0.678102 0.314420 0.911123  2.42787 0.462118\n",
      "1319:     1134122.7: 0.678092 0.314414 0.911131  2.42787 0.462130\n",
      "1320:     1134122.7: 0.678103 0.314420 0.911111  2.42787 0.462132\n",
      "1321:     1134122.7: 0.678101 0.314421 0.911097  2.42786 0.462149\n",
      "1322:     1134122.7: 0.678099 0.314428 0.911111  2.42786 0.462128\n",
      "1323:     1134122.7: 0.678104 0.314419 0.911101  2.42787 0.462135\n",
      "1324:     1134122.7: 0.678104 0.314419 0.911101  2.42789 0.462132\n",
      "1325:     1134122.7: 0.678104 0.314419 0.911102  2.42790 0.462134\n",
      "1326:     1134122.7: 0.678104 0.314419 0.911110  2.42791 0.462149\n",
      "1327:     1134122.7: 0.678103 0.314419 0.911110  2.42791 0.462169\n",
      "1328:     1134122.7: 0.678104 0.314419 0.911120  2.42791 0.462208\n",
      "1329:     1134122.7: 0.678100 0.314425 0.911110  2.42791 0.462169\n",
      "1330:     1134122.7: 0.678104 0.314419 0.911114  2.42790 0.462188\n",
      "1331:     1134122.7: 0.678104 0.314419 0.911114  2.42791 0.462185\n",
      "1332:     1134122.7: 0.678105 0.314419 0.911121  2.42793 0.462181\n",
      "1333:     1134122.7: 0.678098 0.314415 0.911115  2.42791 0.462185\n",
      "1334:     1134122.7: 0.678105 0.314419 0.911105  2.42792 0.462187\n",
      "1335:     1134122.7: 0.678105 0.314419 0.911102  2.42793 0.462198\n",
      "1336:     1134122.7: 0.678105 0.314419 0.911101  2.42794 0.462201\n",
      "1337:     1134122.7: 0.678104 0.314420 0.911103  2.42796 0.462210\n",
      "1338:     1134122.7: 0.678105 0.314419 0.911102  2.42797 0.462218\n",
      "1339:     1134122.7: 0.678106 0.314419 0.911112  2.42801 0.462228\n",
      "1340:     1134122.7: 0.678104 0.314420 0.911110  2.42804 0.462254\n",
      "1341:     1134122.7: 0.678104 0.314420 0.911113  2.42810 0.462299\n",
      "1342:     1134122.7: 0.678105 0.314420 0.911123  2.42825 0.462350\n",
      "1343:     1134122.7: 0.678105 0.314420 0.911148  2.42852 0.462519\n",
      "1344:     1134122.7: 0.678087 0.314454 0.911123  2.42825 0.462348\n",
      "1345:     1134122.7: 0.678107 0.314419 0.911138  2.42835 0.462390\n",
      "1346:     1134122.7: 0.678072 0.314401 0.911125  2.42825 0.462348\n",
      "1347:     1134122.7: 0.678104 0.314419 0.911102  2.42833 0.462367\n",
      "1348:     1134122.7: 0.678104 0.314419 0.911102  2.42838 0.462380\n",
      "1349:     1134122.7: 0.678105 0.314418 0.911107  2.42850 0.462373\n",
      "1350:     1134122.7: 0.678105 0.314419 0.911122  2.42868 0.462463\n",
      "1351:     1134122.7: 0.678105 0.314419 0.911131  2.42881 0.462518\n",
      "1352:     1134122.7: 0.678084 0.314458 0.911124  2.42868 0.462462\n",
      "1353:     1134122.7: 0.678105 0.314419 0.911121  2.42868 0.462452\n",
      "1354:     1134122.7: 0.678107 0.314418 0.911129  2.42864 0.462400\n",
      "1355:     1134122.7: 0.678075 0.314403 0.911124  2.42868 0.462452\n",
      "1356:     1134122.7: 0.678105 0.314419 0.911114  2.42867 0.462452\n",
      "1357:     1134122.7: 0.678104 0.314419 0.911107  2.42867 0.462452\n",
      "1358:     1134122.7: 0.678104 0.314418 0.911095  2.42867 0.462440\n",
      "1359:     1134122.7: 0.678104 0.314419 0.911099  2.42868 0.462424\n",
      "1360:     1134122.7: 0.678104 0.314418 0.911099  2.42871 0.462422\n",
      "1361:     1134122.7: 0.678105 0.314418 0.911087  2.42878 0.462405\n",
      "1362:     1134122.7: 0.678105 0.314417 0.911114  2.42890 0.462480\n",
      "1363:     1134122.7: 0.678104 0.314418 0.911095  2.42897 0.462491\n",
      "1364:     1134122.7: 0.678105 0.314419 0.911107  2.42902 0.462542\n",
      "1365:     1134122.7: 0.678132 0.314410 0.911077  2.42896 0.462501\n",
      "1366:     1134122.7: 0.678105 0.314419 0.911084  2.42895 0.462519\n",
      "1367:     1134122.7: 0.678098 0.314402 0.911093  2.42897 0.462491\n",
      "1368:     1134122.7: 0.678108 0.314418 0.911097  2.42898 0.462482\n",
      "1369:     1134122.7: 0.678108 0.314419 0.911095  2.42900 0.462492\n",
      "1370:     1134122.7: 0.678108 0.314419 0.911099  2.42901 0.462498\n",
      "1371:     1134122.7: 0.678109 0.314418 0.911099  2.42905 0.462488\n",
      "1372:     1134122.7: 0.678110 0.314418 0.911107  2.42912 0.462494\n",
      "1373:     1134122.7: 0.678107 0.314419 0.911081  2.42918 0.462497\n",
      "1374:     1134122.7: 0.678109 0.314418 0.911093  2.42925 0.462481\n",
      "1375:     1134122.7: 0.678110 0.314419 0.911097  2.42940 0.462482\n",
      "1376:     1134122.7: 0.678112 0.314417 0.911090  2.42968 0.462443\n",
      "1377:     1134122.7: 0.678115 0.314416 0.911107  2.42996 0.462458\n",
      "1378:     1134122.7: 0.678115 0.314416 0.911102  2.42997 0.462410\n",
      "1379:     1134122.7: 0.678115 0.314416 0.911097  2.43011 0.462433\n",
      "1380:     1134122.7: 0.678116 0.314415 0.911096  2.43039 0.462433\n",
      "1381:     1134122.7: 0.678117 0.314415 0.911094  2.43049 0.462434\n",
      "1382:     1134122.7: 0.678117 0.314415 0.911096  2.43058 0.462434\n",
      "1383:     1134122.7: 0.678092 0.314503 0.911090  2.43049 0.462433\n",
      "1384:     1134122.7: 0.678112 0.314421 0.911076  2.43040 0.462434\n",
      "1385:     1134122.7: 0.678116 0.314422 0.911081  2.43031 0.462437\n",
      "1386:     1134122.7: 0.678076 0.314411 0.911084  2.43040 0.462456\n",
      "1387:     1134122.7: 0.678107 0.314419 0.911091  2.43037 0.462405\n",
      "1388:     1134122.7: 0.678107 0.314420 0.911091  2.43037 0.462425\n",
      "1389:     1134122.7: 0.678103 0.314434 0.911091  2.43037 0.462405\n",
      "1390:     1134122.7: 0.678106 0.314419 0.911087  2.43035 0.462410\n",
      "1391:     1134122.7: 0.678105 0.314419 0.911080  2.43037 0.462407\n",
      "1392:     1134122.7: 0.678108 0.314419 0.911095  2.43038 0.462402\n",
      "1393:     1134122.7: 0.678108 0.314419 0.911098  2.43038 0.462408\n",
      "1394:     1134122.7: 0.678102 0.314418 0.911096  2.43038 0.462402\n",
      "1395:     1134122.7: 0.678107 0.314419 0.911097  2.43037 0.462397\n",
      "1396:     1134122.7: 0.678106 0.314419 0.911098  2.43037 0.462395\n",
      "1397:     1134122.7: 0.678107 0.314418 0.911098  2.43037 0.462398\n",
      "1398:     1134122.7: 0.678106 0.314419 0.911096  2.43038 0.462396\n",
      "1399:     1134122.7: 0.678106 0.314419 0.911097  2.43038 0.462396\n",
      "1400:     1134122.7: 0.678106 0.314419 0.911097  2.43038 0.462395\n",
      "1401:     1134122.7: 0.678106 0.314419 0.911097  2.43038 0.462396\n",
      "1402:     1134122.7: 0.678106 0.314419 0.911096  2.43038 0.462396\n",
      "1403:     1134122.7: 0.678106 0.314419 0.911096  2.43038 0.462397\n",
      "1404:     1134122.7: 0.678106 0.314419 0.911098  2.43039 0.462400\n",
      "1405:     1134122.7: 0.678106 0.314419 0.911095  2.43039 0.462401\n",
      "1406:     1134122.7: 0.678107 0.314417 0.911098  2.43039 0.462399\n",
      "1407:     1134122.7: 0.678106 0.314419 0.911097  2.43039 0.462398\n",
      "1408:     1134122.7: 0.678106 0.314419 0.911097  2.43039 0.462395\n",
      "1409:     1134122.7: 0.678107 0.314419 0.911096  2.43040 0.462389\n",
      "1410:     1134122.7: 0.678107 0.314419 0.911097  2.43040 0.462386\n",
      "1411:     1134122.7: 0.678107 0.314419 0.911100  2.43042 0.462382\n",
      "1412:     1134122.7: 0.678107 0.314419 0.911100  2.43042 0.462376\n",
      "1413:     1134122.7: 0.678108 0.314419 0.911099  2.43044 0.462363\n",
      "1414:     1134122.7: 0.678108 0.314419 0.911100  2.43045 0.462360\n",
      "1415:     1134122.7: 0.678108 0.314418 0.911101  2.43048 0.462348\n",
      "1416:     1134122.7: 0.678102 0.314417 0.911101  2.43048 0.462348\n",
      "1417:     1134122.7: 0.678107 0.314418 0.911101  2.43048 0.462342\n",
      "1418:     1134122.7: 0.678106 0.314418 0.911099  2.43048 0.462351\n",
      "1419:     1134122.7: 0.678106 0.314418 0.911098  2.43048 0.462351\n",
      "1420:     1134122.7: 0.678107 0.314417 0.911098  2.43049 0.462344\n",
      "1421:     1134122.7: 0.678105 0.314423 0.911098  2.43048 0.462351\n",
      "1422:     1134122.7: 0.678106 0.314419 0.911098  2.43048 0.462354\n",
      "1423:     1134122.7: 0.678106 0.314419 0.911098  2.43049 0.462358\n",
      "1424:     1134122.7: 0.678106 0.314419 0.911098  2.43051 0.462349\n",
      "1425:     1134122.7: 0.678107 0.314419 0.911099  2.43055 0.462335\n",
      "1426:     1134122.7: 0.678107 0.314418 0.911099  2.43059 0.462324\n",
      "1427:     1134122.7: 0.678108 0.314418 0.911100  2.43062 0.462304\n",
      "1428:     1134122.7: 0.678104 0.314429 0.911097  2.43059 0.462324\n",
      "1429:     1134122.7: 0.678106 0.314419 0.911093  2.43060 0.462342\n",
      "1430:     1134122.7: 0.678106 0.314419 0.911095  2.43058 0.462346\n",
      "1431:     1134122.7: 0.678096 0.314416 0.911094  2.43060 0.462342\n",
      "1432:     1134122.7: 0.678106 0.314419 0.911084  2.43059 0.462338\n",
      "1433:     1134122.7: 0.678106 0.314419 0.911093  2.43060 0.462339\n",
      "1434:     1134122.7: 0.678106 0.314419 0.911098  2.43060 0.462340\n",
      "1435:     1134122.7: 0.678106 0.314419 0.911097  2.43061 0.462339\n",
      "1436:     1134122.7: 0.678107 0.314419 0.911099  2.43062 0.462339\n",
      "1437:     1134122.7: 0.678107 0.314419 0.911097  2.43062 0.462332\n",
      "1438:     1134122.7: 0.678107 0.314419 0.911097  2.43063 0.462329\n",
      "1439:     1134122.7: 0.678107 0.314419 0.911098  2.43064 0.462327\n",
      "1440:     1134122.7: 0.678107 0.314419 0.911098  2.43064 0.462322\n",
      "1441:     1134122.7: 0.678106 0.314424 0.911098  2.43064 0.462327\n",
      "1442:     1134122.7: 0.678107 0.314419 0.911098  2.43064 0.462324\n",
      "1443:     1134122.7: 0.678105 0.314418 0.911098  2.43064 0.462327\n",
      "1444:     1134122.7: 0.678106 0.314419 0.911097  2.43064 0.462328\n",
      "1445:     1134122.7: 0.678106 0.314419 0.911100  2.43064 0.462330\n",
      "1446:     1134122.7: 0.678107 0.314419 0.911098  2.43064 0.462329\n",
      "1447:     1134122.7: 0.678106 0.314419 0.911098  2.43064 0.462330\n",
      "rho:  2.0e-07 eval: 1447 fn:  1.13412e+06 par:0.678106 0.314419 0.911097  2.43064 0.462328 \n",
      "1448:     1134122.7: 0.678106 0.314419 0.911097  2.43064 0.462329\n",
      "1449:     1134122.7: 0.678106 0.314419 0.911096  2.43064 0.462330\n",
      "1450:     1134122.7: 0.678107 0.314419 0.911097  2.43064 0.462329\n",
      "1451:     1134122.7: 0.678106 0.314419 0.911096  2.43064 0.462329\n",
      "1452:     1134122.7: 0.678106 0.314420 0.911097  2.43064 0.462329\n",
      "1453:     1134122.7: 0.678106 0.314419 0.911096  2.43064 0.462329\n",
      "1454:     1134122.7: 0.678106 0.314419 0.911097  2.43064 0.462329\n",
      "1455:     1134122.7: 0.678106 0.314419 0.911097  2.43064 0.462329\n",
      "At return\n",
      "eval: 1455 fn:      1134122.7 par: 0.678106 0.314419 0.911097  2.43064 0.462329\n",
      "591.527 sec elapsed\n"
     ]
    }
   ],
   "source": [
    "tic()\n",
    "## now do the actual fitting...\n",
    "ret <- list()\n",
    "#arg <- list(...)\n",
    "#arg <- arg[!(names(arg) %in% names(b))]\n",
    "#b <- c(b,arg) ## add '...' arguments for use with do.call\n",
    "b$control <- gamm4_control; b$verbose=gamm4_verbose; b$start=gamm4_start\n",
    "if (is_lmm) {\n",
    "    ## Create the deviance function to be optimized:\n",
    "    devfun <- do.call(mkLmerDevfun, b)\n",
    "    ## Optimize the deviance function:$\n",
    "    opt <- optimizeLmer(devfun,start=gamm4_start,verbose=gamm4_verbose,optimizer=gamm4_control$optimizer,control=gamm4_control$optCtrl) ## previously bobyqa optimizer set, but now default\n",
    "    ## Package up the results:\n",
    "    ret$mer <- mkMerMod(environment(devfun), opt, b$reTrms, fr = b$fr)\n",
    "} else { ## generalized case...\n",
    "    ## Create the deviance function for optimizing over theta:\n",
    "    devfun <- do.call(mkGlmerDevfun, b)\n",
    "    ## Optimize over theta using a rough approximation (i.e. nAGQ = 0):\n",
    "    opt <- optimizeGlmer(devfun,start=start,verbose=verbose,gamm4_control$optimizer,control=control$optCtrl)\n",
    "    ## Update the deviance function for optimizing over theta and beta:\n",
    "    devfun <- updateGlmerDevfun(devfun, b$reTrms)\n",
    "    ## Optimize over theta and beta:\n",
    "    opt <- optimizeGlmer(devfun, stage=2,start=start,gamm4_control$optimizer, verbose=verbose,control=control$optCtrl)\n",
    "    ## Package up the results:\n",
    "    ret$mer <- mkMerMod(environment(devfun), opt, b$reTrms, fr = b$fr)\n",
    "}\n",
    "toc()"
   ]
  },
  {
   "cell_type": "code",
   "execution_count": 52,
   "id": "4ab3f3e2-37c1-4290-854c-60f7644ebee3",
   "metadata": {},
   "outputs": [
    {
     "name": "stderr",
     "output_type": "stream",
     "text": [
      "\n",
      "Correlation matrix not shown by default, as p = 29 > 12.\n",
      "Use print(obj, correlation=TRUE)  or\n",
      "    vcov(obj)        if you need it\n",
      "\n",
      "\n"
     ]
    },
    {
     "data": {
      "text/plain": [
       "Linear mixed model fit by REML ['lmerMod']\n",
       "\n",
       "REML criterion at convergence: 1134123\n",
       "\n",
       "Scaled residuals: \n",
       "    Min      1Q  Median      3Q     Max \n",
       "-7.9421 -0.5716  0.0059  0.5855  6.8509 \n",
       "\n",
       "Random effects:\n",
       " Groups               Name              Variance Std.Dev.\n",
       " animalId             (Intercept)        6.814   2.610   \n",
       " zip_month            (Intercept)        1.465   1.210   \n",
       " farmIdLocationSample (Intercept)       12.300   3.507   \n",
       " Xr.0                 s(days_in_milk)   87.545   9.357   \n",
       " Xr                   s(thi_mean_t0_3d)  3.167   1.780   \n",
       " Residual                               14.818   3.849   \n",
       "Number of obs: 200234, groups:  \n",
       "animalId, 8228; zip_month, 7395; farmIdLocationSample, 1188; Xr.0, 8; Xr, 8\n",
       "\n",
       "Fixed effects:\n",
       "                      Estimate Std. Error  t value\n",
       "X(Intercept)           18.8502     0.3310   56.952\n",
       "Xparityprimiparous     -3.1370     0.0245 -128.052\n",
       "Xyear1999              -1.6425     0.3235   -5.077\n",
       "Xyear2000              -0.6221     0.3114   -1.998\n",
       "Xyear2001               0.9720     0.3073    3.163\n",
       "Xyear2002               1.1534     0.3088    3.735\n",
       "Xyear2003               1.2928     0.3087    4.188\n",
       "Xyear2004               2.0915     0.3088    6.774\n",
       "Xyear2005               2.2040     0.3091    7.129\n",
       "Xyear2006               2.5732     0.3093    8.319\n",
       "Xyear2007               2.3445     0.3100    7.564\n",
       "Xyear2008               2.7685     0.3104    8.918\n",
       "Xyear2009               2.9748     0.3114    9.552\n",
       "Xyear2010               3.3573     0.3121   10.756\n",
       "Xyear2011               3.4547     0.3127   11.049\n",
       "Xyear2012               3.8067     0.3133   12.152\n",
       "Xyear2013               3.4926     0.3137   11.133\n",
       "Xyear2014               4.1131     0.3141   13.095\n",
       "Xyear2015               4.1579     0.3146   13.215\n",
       "Xyear2016               4.3490     0.3152   13.795\n",
       "Xyear2017               4.9828     0.3157   15.781\n",
       "Xyear2018               5.4051     0.3164   17.082\n",
       "Xyear2019               5.7080     0.3171   18.000\n",
       "Xyear2020               6.0903     0.3180   19.152\n",
       "Xyear2021               5.9122     0.3184   18.569\n",
       "Xyear2022               5.6364     0.3193   17.654\n",
       "Xyear2023               5.8701     0.3208   18.300\n",
       "Xs(thi_mean_t0_3d)Fx1  -0.6071     0.1304   -4.655\n",
       "Xs(days_in_milk)Fx1     2.4300     0.4531    5.363"
      ]
     },
     "metadata": {},
     "output_type": "display_data"
    }
   ],
   "source": [
    "summary(ret$mer)"
   ]
  },
  {
   "cell_type": "code",
   "execution_count": 53,
   "id": "f058c53b-1b30-444b-ac06-138aa4efabb7",
   "metadata": {},
   "outputs": [],
   "source": [
    "rm(b)"
   ]
  },
  {
   "cell_type": "code",
   "execution_count": 54,
   "id": "88fbf19e-3815-4a56-bcee-7e84f66b15fb",
   "metadata": {},
   "outputs": [],
   "source": [
    "#julia_model_data <- fromJSON(\"julia_model_data.json\")"
   ]
  },
  {
   "cell_type": "code",
   "execution_count": 55,
   "id": "dbff23ca-b4dc-47f1-a673-2f811095423f",
   "metadata": {},
   "outputs": [],
   "source": [
    "create_br_from_julia <- function(random_effects) {\n",
    "    ranefs <- list()\n",
    "    re_names <- names(random_effects)\n",
    "    for (re in re_names) {\n",
    "        #print(random_effects[[re]])\n",
    "        re_df <- base64_to_dataframe(random_effects[[re]])\n",
    "        \n",
    "        rownames(re_df) <- re_df[[re]]\n",
    "        re_df[[re]] <- NULL\n",
    "        ranefs[[re]] <- re_df\n",
    "    }\n",
    "\n",
    "    class(ranefs) <- \"ranef.mer\"\n",
    "\n",
    "    return(ranefs)\n",
    "}"
   ]
  },
  {
   "cell_type": "code",
   "execution_count": 56,
   "id": "64170e32-bc14-4db8-ab61-e37232873c8c",
   "metadata": {},
   "outputs": [],
   "source": [
    "#br_julia <- create_br_from_julia(julia_model_data$random_effects)"
   ]
  },
  {
   "cell_type": "code",
   "execution_count": 57,
   "id": "8e630037-61da-4a98-94a3-0befee81fb19",
   "metadata": {},
   "outputs": [],
   "source": [
    "object<-list(model=lmm_model_frame,formula=gamm4_formula,smooth=G$smooth,nsdf=G$nsdf,family=gamm4_family,\n",
    "             df.null=nrow(G$X),y=lmm_model_frame$y,\n",
    "             terms=gam.terms,pterms=G$pterms,xlevels=G$xlevels,\n",
    "             contrasts=G$contrasts,assign=G$assign,na.action=attr(lmm_model_frame,\"na.action\"),\n",
    "             cmX=G$cmX,var.summary=G$var.summary)\n",
    "pvars <- all.vars(delete.response(object$terms))\n",
    "object$pred.formula <- if (length(pvars)>0) reformulate(pvars) else NULL"
   ]
  },
  {
   "cell_type": "code",
   "execution_count": 58,
   "id": "61818716-cd0d-4fa9-b92f-4266bb4ef9f2",
   "metadata": {},
   "outputs": [],
   "source": [
    "## to unpack coefficients look at names(ret$lme$flist), ret$lme@Zt, ranef(), fixef()\n",
    "\n",
    "## let the GAM coefficients in the original parameterization be beta,\n",
    "## and let them be beta' in the fitting parameterization. \n",
    "## Then beta = B beta'. B and B^{-1} can be efficiently accumulated\n",
    "## and are useful for stable computation of the covariance matrix\n",
    "## etc... "
   ]
  },
  {
   "cell_type": "code",
   "execution_count": 59,
   "id": "3b672ff5-0da8-4cd0-b942-c48e71198898",
   "metadata": {},
   "outputs": [],
   "source": [
    "# random intercepts\n",
    "br <- lme4::ranef(ret$mer, condVar=FALSE) ## a named list"
   ]
  },
  {
   "cell_type": "code",
   "execution_count": 60,
   "id": "051d01a9-63a5-4c5f-96c6-84baa9673182",
   "metadata": {},
   "outputs": [],
   "source": [
    "B <- as.matrix(Matrix(0,ncol(G$Xf),ncol(G$Xf)))\n",
    "diag(B) <- 1\n",
    "Xfp <- as.matrix(G$Xf) # fixed effect matrix with smooths as FE bases"
   ]
  },
  {
   "cell_type": "code",
   "execution_count": 61,
   "id": "481bc57d-d660-4968-b854-733c90276186",
   "metadata": {},
   "outputs": [],
   "source": [
    "## the fixed effects  -> julia betas = fixef(model) \n",
    "bf <- as.numeric(lme4::fixef(ret$mer))"
   ]
  },
  {
   "cell_type": "code",
   "execution_count": 62,
   "id": "3e12b6f3-8b22-4076-ad44-4b088a95459a",
   "metadata": {},
   "outputs": [],
   "source": [
    "#bf_julia <- base64_to_dataframe(julia_model_data$betas)$betas"
   ]
  },
  {
   "cell_type": "code",
   "execution_count": 63,
   "id": "eeb1abef-b08a-418d-bd60-1f6e8c13d870",
   "metadata": {},
   "outputs": [],
   "source": [
    "first <- G$smooth[[i]]$first.f.para;\n",
    "last <- G$smooth[[i]]$last.f.para"
   ]
  },
  {
   "cell_type": "code",
   "execution_count": 64,
   "id": "9a9530d9-7593-493e-8114-da8f3013b70d",
   "metadata": {},
   "outputs": [],
   "source": [
    "if (G$nsdf) {\n",
    "    p <- bf[1:G$nsdf]\n",
    "} else {\n",
    "    p <- array(0,0) ## fixed parametric componet}\n",
    "}"
   ]
  },
  {
   "cell_type": "code",
   "execution_count": 65,
   "id": "36a6a036-0ed8-4e83-8fd1-96fc040ffa02",
   "metadata": {},
   "outputs": [
    {
     "name": "stdout",
     "output_type": "stream",
     "text": [
      "0.081 sec elapsed\n"
     ]
    }
   ],
   "source": [
    "tic()\n",
    "if (G$m>0) {\n",
    "  # if we have smooth terms - loop over them and apply the reverse transformation\n",
    "  for (i in 1:G$m) {\n",
    "      fx <- G$smooth[[i]]$fixed \n",
    "      first <- G$smooth[[i]]$first.f.para # first index in fixed effect matrix\n",
    "      last <- G$smooth[[i]]$last.f.para # last index in fixed effect matrix\n",
    "      \n",
    "      if (first <=last) {\n",
    "          beta <- bf[first:last] # fetch fixed effects from trained FE matrix\n",
    "          #beta <- bf_julia[first:last]\n",
    "      } else { \n",
    "          beta <- array(0,0)\n",
    "      }\n",
    "      \n",
    "      if (fx) {\n",
    "          b <- beta\n",
    "      } else {\n",
    "          ## not fixed so need to undo transform of random effects etc. \n",
    "            b <- rep(0,0)\n",
    "            for (k in 1:length(G$smooth[[i]]$lmer.name)) {\n",
    "                  ## collect all coefs associated with this smooth\n",
    "                  b <- c(b,as.numeric(br[[G$smooth[[i]]$lmer.name[k]]][[1]]))\n",
    "                  ## b <- c(b,as.numeric(br_julia[[G$smooth[[i]]$lmer.name[k]]][[1]]))\n",
    "            }\n",
    "            \n",
    "            b <- b[G$smooth[[i]]$rind] ## make sure coefs are in order expected by smooth\n",
    "            b <- c(b,beta) \n",
    "            b <- G$smooth[[i]]$trans.D*b\n",
    "            \n",
    "            if (!is.null(G$smooth[[i]]$trans.U)) {\n",
    "                b <- G$smooth[[i]]$trans.U%*%b ## transform back to original\n",
    "            }\n",
    "      }\n",
    "      p <- c(p,b)\n",
    "     \n",
    "      ## now fill in B...\n",
    "      ind <- G$smooth[[i]]$first.para:G$smooth[[i]]$last.para\n",
    "      if (!fx) { \n",
    "         D <- G$smooth[[i]]$trans.D\n",
    "         if (is.null(G$smooth[[i]]$trans.U)) {\n",
    "             B[ind,ind] <- Diagonal(length(D),D)\n",
    "         } else {\n",
    "             B[ind,ind] <- t(D*t(G$smooth[[i]]$trans.U))\n",
    "         }\n",
    "      }\n",
    "      ## and finally transform G$Xf into fitting parameterization...\n",
    "      Xfp[,ind] <- as.matrix(G$Xf[,ind,drop=FALSE]%*%B[ind,ind,drop=FALSE])  # --> bottleneck\n",
    "    }\n",
    "}\n",
    "toc()"
   ]
  },
  {
   "cell_type": "code",
   "execution_count": 66,
   "id": "266d67db-10f0-4e00-b83a-de628568c83a",
   "metadata": {},
   "outputs": [],
   "source": [
    "object$coefficients <- p\n",
    "\n",
    "## need to drop smooths from Zt and then\n",
    "## form Z'phiZ + I \\sigma^2\n",
    "\n",
    "vr <- lme4::VarCorr(ret$mer) ## list of ranef variance components in the same order as Gp"
   ]
  },
  {
   "cell_type": "code",
   "execution_count": 67,
   "id": "51a33da8-8325-48da-934f-6c0ae8f13b2d",
   "metadata": {},
   "outputs": [],
   "source": [
    "#scale_julia <- julia_model_data$sigma_square"
   ]
  },
  {
   "cell_type": "code",
   "execution_count": 68,
   "id": "7b7924bd-1253-455d-a17a-69556631235b",
   "metadata": {},
   "outputs": [],
   "source": [
    "scale <- as.numeric(attr(vr,\"sc\"))^2 ## get the scale parameter\n",
    "if (!is.finite(scale) || scale==1) { ## NOTE: better test???\n",
    "  scale <- 1\n",
    "  object$scale.estimated <- FALSE\n",
    "} else {\n",
    "    object$scale.estimated <- TRUE\n",
    "}"
   ]
  },
  {
   "cell_type": "code",
   "execution_count": 69,
   "id": "3864c773-3964-41dd-a4df-a4921fabba1c",
   "metadata": {},
   "outputs": [],
   "source": [
    "sp <- rep(-1,n_random_smooth_c)"
   ]
  },
  {
   "cell_type": "code",
   "execution_count": 70,
   "id": "b28807a6-00dd-4b2a-b270-97622b2c9959",
   "metadata": {},
   "outputs": [],
   "source": [
    "Zt <- Matrix(0,0,ncol(getME(ret$mer,\"Zt\")))"
   ]
  },
  {
   "cell_type": "code",
   "execution_count": 71,
   "id": "6e5ad05c-5eb2-4906-b812-f2bb1febf327",
   "metadata": {},
   "outputs": [],
   "source": [
    "if (n_random_smooth_c==0) {\n",
    "    random_smooth_c_names <- NULL ## names by which smooths are known in mer\n",
    "}"
   ]
  },
  {
   "cell_type": "code",
   "execution_count": 72,
   "id": "95e3556e-6e12-46fb-b815-1920cfe1c3ce",
   "metadata": {},
   "outputs": [],
   "source": [
    "rn <- names(vr)"
   ]
  },
  {
   "cell_type": "code",
   "execution_count": 73,
   "id": "a5b63a65-1ba4-4f01-a1f7-3192488ecc36",
   "metadata": {},
   "outputs": [
    {
     "data": {
      "text/html": [
       "<style>\n",
       ".list-inline {list-style: none; margin:0; padding: 0}\n",
       ".list-inline>li {display: inline-block}\n",
       ".list-inline>li:not(:last-child)::after {content: \"\\00b7\"; padding: 0 .5ex}\n",
       "</style>\n",
       "<ol class=list-inline><li>'animalId'</li><li>'zip_month'</li><li>'farmIdLocationSample'</li><li>'Xr.0'</li><li>'Xr'</li></ol>\n"
      ],
      "text/latex": [
       "\\begin{enumerate*}\n",
       "\\item 'animalId'\n",
       "\\item 'zip\\_month'\n",
       "\\item 'farmIdLocationSample'\n",
       "\\item 'Xr.0'\n",
       "\\item 'Xr'\n",
       "\\end{enumerate*}\n"
      ],
      "text/markdown": [
       "1. 'animalId'\n",
       "2. 'zip_month'\n",
       "3. 'farmIdLocationSample'\n",
       "4. 'Xr.0'\n",
       "5. 'Xr'\n",
       "\n",
       "\n"
      ],
      "text/plain": [
       "[1] \"animalId\"             \"zip_month\"            \"farmIdLocationSample\"\n",
       "[4] \"Xr.0\"                 \"Xr\"                  "
      ]
     },
     "metadata": {},
     "output_type": "display_data"
    }
   ],
   "source": [
    "rn"
   ]
  },
  {
   "cell_type": "code",
   "execution_count": 74,
   "id": "6d329ed1-cc88-4205-9de1-30bdd767906c",
   "metadata": {},
   "outputs": [],
   "source": [
    "ind <- rep(0,0) ## index the non-smooth random effects among the random effects"
   ]
  },
  {
   "cell_type": "code",
   "execution_count": 75,
   "id": "d78eaba7-5237-46ac-ae10-eed9fd7d74ac",
   "metadata": {},
   "outputs": [
    {
     "data": {
      "text/html": [
       "5"
      ],
      "text/latex": [
       "5"
      ],
      "text/markdown": [
       "5"
      ],
      "text/plain": [
       "[1] 5"
      ]
     },
     "metadata": {},
     "output_type": "display_data"
    }
   ],
   "source": [
    "length(vr)"
   ]
  },
  {
   "cell_type": "code",
   "execution_count": 76,
   "id": "0833f06c-a118-44b5-a7b8-30619bd2e799",
   "metadata": {},
   "outputs": [],
   "source": [
    "for (i in 1:length(vr)) {\n",
    "    if (is.null(n_random_smooth_c) || !rn[i]%in%random_smooth_c_names) {\n",
    "        ## append non smooth r.e.s to Zt\n",
    "        ## collected non-smooth indexes\n",
    "        Gp <- getME(ret$mer,\"Gp\") ## group index ends\n",
    "        ind <- c(ind,(Gp[i]+1):Gp[i+1])\n",
    "      \n",
    "      } else if (!is.null(random_smooth_c_names)) {\n",
    "          ## extract smoothing parameters for smooth r.e.s\n",
    "          ## rn is the order of random effects in the fitted model\n",
    "            k <- (1:n_random_smooth_c)[rn[i]==random_smooth_c_names] ## where in original smooth ordering is current smoothing param\n",
    "            if (as.numeric(vr[[i]]>0)) {\n",
    "                sp[k] <- scale/as.numeric(vr[[i]]) # sigma^2 /\n",
    "                #sp[k] <- scale_julia / (julia_model_data$varcorr[[rn[i]]][[1]]^2)\n",
    "                #print(sp[k])\n",
    "                #print(scale_julia / (julia_model_data$varcorr[[rn[i]]][[1]]^2))\n",
    "            } else {\n",
    "                sp[k] <- 1e10\n",
    "            }\n",
    "      }\n",
    "}"
   ]
  },
  {
   "cell_type": "code",
   "execution_count": 77,
   "id": "7d8e6dca-2381-4441-864c-5263615c6c11",
   "metadata": {},
   "outputs": [
    {
     "data": {
      "text/html": [
       "<style>\n",
       ".list-inline {list-style: none; margin:0; padding: 0}\n",
       ".list-inline>li {display: inline-block}\n",
       ".list-inline>li:not(:last-child)::after {content: \"\\00b7\"; padding: 0 .5ex}\n",
       "</style>\n",
       "<ol class=list-inline><li>4.67840426737044</li><li>0.169262111427403</li></ol>\n"
      ],
      "text/latex": [
       "\\begin{enumerate*}\n",
       "\\item 4.67840426737044\n",
       "\\item 0.169262111427403\n",
       "\\end{enumerate*}\n"
      ],
      "text/markdown": [
       "1. 4.67840426737044\n",
       "2. 0.169262111427403\n",
       "\n",
       "\n"
      ],
      "text/plain": [
       "[1] 4.6784043 0.1692621"
      ]
     },
     "metadata": {},
     "output_type": "display_data"
    }
   ],
   "source": [
    "sp"
   ]
  },
  {
   "cell_type": "code",
   "execution_count": 78,
   "id": "af7dfd93-c353-44e1-b6f2-89ba421b0309",
   "metadata": {},
   "outputs": [],
   "source": [
    "# r_post_data <- fromJSON(\"r_post_data.json\")\n",
    "# WX_julia <- as.matrix(base64_to_dataframe(r_post_data$WX))\n",
    "# colnames(WX_julia) <- NULL\n",
    "# XVX_julia <-  as.matrix(base64_to_dataframe(r_post_data$XVX))\n",
    "# colnames(XVX_julia) <- NULL"
   ]
  },
  {
   "cell_type": "code",
   "execution_count": 79,
   "id": "208487e2-77f3-4427-a9be-803678330e7b",
   "metadata": {},
   "outputs": [],
   "source": [
    "if (length(ind)) { ## extract columns corresponding to non-smooth r.e.s \n",
    "  Zt <- getME(ret$mer,\"Zt\")[ind,] ## extracting random effects model matrix\n",
    "  root.phi <- getME(ret$mer,\"Lambdat\")[ind,ind] ## and corresponding sqrt of cov matrix (phi) -> relative covariance factor\n",
    "}"
   ]
  },
  {
   "cell_type": "code",
   "execution_count": 80,
   "id": "810e6973-ed55-40ad-a0ac-2d4235614dd3",
   "metadata": {},
   "outputs": [],
   "source": [
    "object$prior.weights <- G$w"
   ]
  },
  {
   "cell_type": "code",
   "execution_count": 81,
   "id": "7cdea471-5962-4c98-a7c0-d56a7e671e16",
   "metadata": {},
   "outputs": [
    {
     "name": "stdout",
     "output_type": "stream",
     "text": [
      "0.001 sec elapsed\n"
     ]
    }
   ],
   "source": [
    "tic()\n",
    "if (is_lmm) {\n",
    "  object$weights <- object$prior.weights \n",
    "  V <- Diagonal(n=length(object$weights),x=scale/object$weights) \n",
    "} else { \n",
    " # mu <- getME(ret$mer,\"mu\")\n",
    " # eta <- family$linkfun(mu)\n",
    "  object$weights <- ret$mer@resp$sqrtWrkWt()^2\n",
    "  ## object$prior.weights*family$mu.eta(eta)^2/family$variance(mu)\n",
    "  V <- Diagonal(x=1/object$weights)*scale\n",
    "  #V <- Diagonal(x=scale*family$variance(mu)/object$prior.weights)\n",
    "}\n",
    "toc()"
   ]
  },
  {
   "cell_type": "code",
   "execution_count": 82,
   "id": "84627696-d279-4913-89c2-101f6d213e2d",
   "metadata": {},
   "outputs": [
    {
     "data": {
      "text/html": [
       "14.818021751084"
      ],
      "text/latex": [
       "14.818021751084"
      ],
      "text/markdown": [
       "14.818021751084"
      ],
      "text/plain": [
       "[1] 14.81802"
      ]
     },
     "metadata": {},
     "output_type": "display_data"
    }
   ],
   "source": [
    "scale"
   ]
  },
  {
   "cell_type": "code",
   "execution_count": 83,
   "id": "cf6b4359-a0ed-43ae-baa7-ecff864bc778",
   "metadata": {},
   "outputs": [
    {
     "name": "stdout",
     "output_type": "stream",
     "text": [
      "36.778 sec elapsed\n"
     ]
    }
   ],
   "source": [
    "#I + (lambda'*Zt')*(lambda'*Zt')' =  (lambda'*Zt')*(Z*lambda) + 1\n",
    "#(sigma^2 / weights)*I + (lambda'*Zt')*W*(lambda'*Zt')'*sigma^2/(weight)\n",
    "\n",
    "tic()\n",
    "if (nrow(Zt)>0) {\n",
    "    V <- V + crossprod(root.phi%*%Zt)*scale\n",
    "    #py_ss <- import(\"scipy.sparse\")\n",
    "    #py_gb <- import(\"graphblas\")\n",
    "    #py_gb$init(\"suitesparse\", blocking=T)\n",
    "\n",
    "    #gb_zt <- py_gb$io$from_scipy_sparse(Zt)\n",
    "    #gb_v <- py_gb$io$from_scipy_sparse(V)\n",
    "    #gb_phi <- py_gb$io$from_scipy_sparse(root.phi)\n",
    "    #gb_phizt <- gb_phi$mxm(gb_zt)\n",
    "    #gb_v <- gb_phizt$T$mxm(gb_phizt)$apply(py_gb$binary$times, scale)$ewise_add(gb_v)$new()\n",
    "    #V <- py_ss$csc_matrix(py_gb$io$to_scipy_sparse(gb_v, format=\"csc\"))  \n",
    "} ## data or pseudodata cov matrix, treating smooths as fixed now\n",
    "toc()"
   ]
  },
  {
   "cell_type": "code",
   "execution_count": 84,
   "id": "774a0e02-590b-438b-8a5d-681a9dacc273",
   "metadata": {},
   "outputs": [
    {
     "name": "stdout",
     "output_type": "stream",
     "text": [
      "0.026 sec elapsed\n"
     ]
    }
   ],
   "source": [
    "tic()\n",
    "G$Xf <- as(G$Xf,\"dgCMatrix\") # matrix with smooths as fixed effect terms (spline bases) (not modified)\n",
    "Xfp <- as(Xfp,\"dgCMatrix\") # matrix with smooths as backtransformed fixed effect terms\n",
    "toc()"
   ]
  },
  {
   "cell_type": "code",
   "execution_count": 85,
   "id": "91da87c2-153c-4a4d-b646-43da312ffd5a",
   "metadata": {},
   "outputs": [],
   "source": [
    "# julia_post_data <- list()\n",
    "# julia_post_data[\"Xf\"] <- arrow_base64(as.data.frame(as.matrix(G$Xf)))\n",
    "# julia_post_data[\"Xfp\"] <- arrow_base64(as.data.frame(as.matrix(Xfp)))\n",
    "# write_json(julia_post_data, auto_unbox=TRUE, path =  \"julia_post_data.json\")"
   ]
  },
  {
   "cell_type": "code",
   "execution_count": 86,
   "id": "ba394ff2-fab8-493b-aefd-92ad5cdaf572",
   "metadata": {},
   "outputs": [
    {
     "name": "stdout",
     "output_type": "stream",
     "text": [
      "39.663 sec elapsed\n"
     ]
    }
   ],
   "source": [
    "tic()\n",
    "cholmod <- import(\"sksparse.cholmod\")\n",
    "R <- cholmod$cholesky(V,0,use_long=TRUE)\n",
    "toc()"
   ]
  },
  {
   "cell_type": "code",
   "execution_count": 89,
   "id": "95bc94d3-6b5c-48cc-9c28-71d671079fb7",
   "metadata": {},
   "outputs": [],
   "source": [
    "#tic()\n",
    "#R_old <- Matrix::chol(V,pivot=TRUE);\n",
    "#piv <- attr(R_old,\"pivot\")\n",
    "#WX_old <- as(solve(t(R_old),Xfp),\"matrix\")\n",
    "#XVX_old <- as(solve(t(R_old),G$Xf),\"matrix\")\n",
    "#toc()"
   ]
  },
  {
   "cell_type": "code",
   "execution_count": 90,
   "id": "8d83d790-bd81-4c85-ba1e-199255a04b50",
   "metadata": {},
   "outputs": [
    {
     "data": {
      "text/html": [
       "<style>\n",
       ".list-inline {list-style: none; margin:0; padding: 0}\n",
       ".list-inline>li {display: inline-block}\n",
       ".list-inline>li:not(:last-child)::after {content: \"\\00b7\"; padding: 0 .5ex}\n",
       "</style>\n",
       "<ol class=list-inline><li>'apply_P'</li><li>'apply_Pt'</li><li>'cholesky'</li><li>'cholesky_AAt'</li><li>'cholesky_AAt_inplace'</li><li>'cholesky_inplace'</li><li>'copy'</li><li>'D'</li><li>'det'</li><li>'inv'</li><li>'L'</li><li>'L_D'</li><li>'LD'</li><li>'logdet'</li><li>'P'</li><li>'slogdet'</li><li>'solve_A'</li><li>'solve_D'</li><li>'solve_DLt'</li><li>'solve_L'</li><li>'solve_LD'</li><li>'solve_LDLt'</li><li>'solve_Lt'</li><li>'update_inplace'</li></ol>\n"
      ],
      "text/latex": [
       "\\begin{enumerate*}\n",
       "\\item 'apply\\_P'\n",
       "\\item 'apply\\_Pt'\n",
       "\\item 'cholesky'\n",
       "\\item 'cholesky\\_AAt'\n",
       "\\item 'cholesky\\_AAt\\_inplace'\n",
       "\\item 'cholesky\\_inplace'\n",
       "\\item 'copy'\n",
       "\\item 'D'\n",
       "\\item 'det'\n",
       "\\item 'inv'\n",
       "\\item 'L'\n",
       "\\item 'L\\_D'\n",
       "\\item 'LD'\n",
       "\\item 'logdet'\n",
       "\\item 'P'\n",
       "\\item 'slogdet'\n",
       "\\item 'solve\\_A'\n",
       "\\item 'solve\\_D'\n",
       "\\item 'solve\\_DLt'\n",
       "\\item 'solve\\_L'\n",
       "\\item 'solve\\_LD'\n",
       "\\item 'solve\\_LDLt'\n",
       "\\item 'solve\\_Lt'\n",
       "\\item 'update\\_inplace'\n",
       "\\end{enumerate*}\n"
      ],
      "text/markdown": [
       "1. 'apply_P'\n",
       "2. 'apply_Pt'\n",
       "3. 'cholesky'\n",
       "4. 'cholesky_AAt'\n",
       "5. 'cholesky_AAt_inplace'\n",
       "6. 'cholesky_inplace'\n",
       "7. 'copy'\n",
       "8. 'D'\n",
       "9. 'det'\n",
       "10. 'inv'\n",
       "11. 'L'\n",
       "12. 'L_D'\n",
       "13. 'LD'\n",
       "14. 'logdet'\n",
       "15. 'P'\n",
       "16. 'slogdet'\n",
       "17. 'solve_A'\n",
       "18. 'solve_D'\n",
       "19. 'solve_DLt'\n",
       "20. 'solve_L'\n",
       "21. 'solve_LD'\n",
       "22. 'solve_LDLt'\n",
       "23. 'solve_Lt'\n",
       "24. 'update_inplace'\n",
       "\n",
       "\n"
      ],
      "text/plain": [
       " [1] \"apply_P\"              \"apply_Pt\"             \"cholesky\"            \n",
       " [4] \"cholesky_AAt\"         \"cholesky_AAt_inplace\" \"cholesky_inplace\"    \n",
       " [7] \"copy\"                 \"D\"                    \"det\"                 \n",
       "[10] \"inv\"                  \"L\"                    \"L_D\"                 \n",
       "[13] \"LD\"                   \"logdet\"               \"P\"                   \n",
       "[16] \"slogdet\"              \"solve_A\"              \"solve_D\"             \n",
       "[19] \"solve_DLt\"            \"solve_L\"              \"solve_LD\"            \n",
       "[22] \"solve_LDLt\"           \"solve_Lt\"             \"update_inplace\"      "
      ]
     },
     "metadata": {},
     "output_type": "display_data"
    }
   ],
   "source": [
    "names(R)"
   ]
  },
  {
   "cell_type": "code",
   "execution_count": 91,
   "id": "c0cb9376-5f40-4c0a-be4c-ca7bd5728693",
   "metadata": {},
   "outputs": [
    {
     "name": "stdout",
     "output_type": "stream",
     "text": [
      "2.052 sec elapsed\n"
     ]
    }
   ],
   "source": [
    "tic()\n",
    "WX <- as.matrix(R$solve_L(Xfp,use_LDLt_decomposition=FALSE)) ## V^{-.5}Xp -- fit parameterization\n",
    "#WX <- matrix_from_parquet_base64(wx_xvx_data$WX)\n",
    "toc()"
   ]
  },
  {
   "cell_type": "code",
   "execution_count": 92,
   "id": "3dfc42d9-4dd3-4631-ac5f-540da7044c58",
   "metadata": {},
   "outputs": [
    {
     "name": "stdout",
     "output_type": "stream",
     "text": [
      "2.059 sec elapsed\n"
     ]
    }
   ],
   "source": [
    "tic()\n",
    "#XVX <- as(solve(t(R),G$Xf),\"matrix\")  ## same in original parameterization \n",
    "XVX <- as.matrix(R$solve_L(G$Xf,use_LDLt_decomposition=FALSE))\n",
    "#XVX <- matrix_from_parquet_base64(wx_xvx_data$XVX)\n",
    "toc()"
   ]
  },
  {
   "cell_type": "code",
   "execution_count": 93,
   "id": "818b4017-e8f1-4674-8350-fbc1dca22be7",
   "metadata": {},
   "outputs": [
    {
     "name": "stdout",
     "output_type": "stream",
     "text": [
      "0.074 sec elapsed\n"
     ]
    }
   ],
   "source": [
    "tic()\n",
    "qrz <- qr(XVX,LAPACK=TRUE)\n",
    "object$R <- qr.R(qrz);\n",
    "object$R[,qrz$pivot] <- object$R # when using sparse matrix\n",
    "toc()"
   ]
  },
  {
   "cell_type": "code",
   "execution_count": 94,
   "id": "c3e45c31-afd7-4477-af36-4afc9c6b9434",
   "metadata": {},
   "outputs": [
    {
     "name": "stdout",
     "output_type": "stream",
     "text": [
      "0.001 sec elapsed\n"
     ]
    }
   ],
   "source": [
    "tic()\n",
    "XVX <- crossprod(object$R)\n",
    "toc()"
   ]
  },
  {
   "cell_type": "code",
   "execution_count": 95,
   "id": "6aef4cd2-829b-4863-a2c9-9c79284fe57d",
   "metadata": {},
   "outputs": [],
   "source": [
    "object$sp <- sp"
   ]
  },
  {
   "cell_type": "code",
   "execution_count": 96,
   "id": "a64202ee-22dc-4a4d-8ff8-b2665a5641b9",
   "metadata": {},
   "outputs": [
    {
     "name": "stdout",
     "output_type": "stream",
     "text": [
      "0.01 sec elapsed\n"
     ]
    }
   ],
   "source": [
    "tic()\n",
    "colx <- ncol(G$Xf)\n",
    "Sp <- matrix(0,colx,colx) # penalty matrix - fit param\n",
    "first <- G$nsdf+1\n",
    "k <- 1\n",
    "if (G$m>0) {\n",
    "    for (i in 1:G$m) {\n",
    "        # Accumulate the total penalty matrix\n",
    "      if (!object$smooth[[i]]$fixed) {\n",
    "        ii <- object$smooth[[i]]$first.para:object$smooth[[i]]$last.para\n",
    "        ## index this smooth's params\n",
    "        \n",
    "        for (j in 1:length(object$smooth[[i]]$S)) {\n",
    "            ## work through penalty list\n",
    "            ind <- ii[object$smooth[[i]]$pen.ind == j] ## index of currently penalized\n",
    "            diag(Sp)[ind] <- sqrt(object$sp[k]) ## diagonal penalty\n",
    "            k <- k+1\n",
    "        }\n",
    "      }\n",
    "      first <- last + 1 \n",
    "    }\n",
    "}\n",
    "toc()"
   ]
  },
  {
   "cell_type": "code",
   "execution_count": 97,
   "id": "56de8970-3d1b-4a3d-9892-b1c5143375f7",
   "metadata": {},
   "outputs": [
    {
     "name": "stdout",
     "output_type": "stream",
     "text": [
      "0.125 sec elapsed\n"
     ]
    }
   ],
   "source": [
    "tic()\n",
    "## Alternative cov matrix calculation. Basic\n",
    "## idea is that cov matrix is computed stably in\n",
    "## fitting parameterization, and then transformed to\n",
    "## original parameterization. \n",
    "qrx <- qr(as.matrix(rbind(WX,Sp/sqrt(scale))),LAPACK=TRUE)\n",
    "\n",
    "Ri <- backsolve(qr.R(qrx),diag(ncol(WX)))\n",
    "ind <- qrx$pivot;ind[ind] <- 1:length(ind)## qrx$pivot\n",
    "Ri <- Ri[ind,] ## unpivoted square root of cov matrix in fitting parameterization Ri Ri' = cov\n",
    "Vb <- B%*%Ri; \n",
    "Vb <- Vb%*%t(Vb)\n",
    "\n",
    "object$edf<-rowSums(Vb*t(XVX))\n",
    "\n",
    "object$df.residual <- length(object$y) - sum(object$edf)\n",
    "\n",
    "object$sig2 <- scale\n",
    "if (is_lmm) { \n",
    "    object$method <- \"lmer.REML\"\n",
    "} else {\n",
    "    object$method <- \"glmer.ML\"}\n",
    "\n",
    "object$Vp <- as(Vb,\"matrix\")\n",
    "\n",
    "object$Ve <- as(Vb%*%XVX%*%Vb,\"matrix\")\n",
    "\n",
    "class(object) <- \"gam\"\n",
    "toc()"
   ]
  },
  {
   "cell_type": "code",
   "execution_count": 98,
   "id": "c37c21e6-50e6-4d6e-aa02-854ff0c644db",
   "metadata": {},
   "outputs": [
    {
     "name": "stdout",
     "output_type": "stream",
     "text": [
      "2.414 sec elapsed\n"
     ]
    }
   ],
   "source": [
    "tic()\n",
    "## Restore original smooth list, if it was split to deal with t2 terms...\n",
    "if (!is.null(G$original.smooth)) {\n",
    "  object$smooth <- G$smooth <- G$original.smooth\n",
    "}\n",
    "\n",
    "## If prediction parameterization differs from fit parameterization, transform now...\n",
    "## (important for t2 smooths, where fit constraint is not good for component wise \n",
    "##  prediction s.e.s)\n",
    "\n",
    "if (!is.null(G$P)) {\n",
    "  object$coefficients <- G$P %*% object$coefficients\n",
    "  object$Vp <- G$P %*% object$Vp %*% t(G$P) \n",
    "  object$Ve <- G$P %*% object$Ve %*% t(G$P) \n",
    "}\n",
    "\n",
    "object$linear.predictors <- predict.gam(object,type=\"link\")\n",
    "object$fitted.values <- object$family$linkinv(object$linear.predictors)\n",
    "toc()"
   ]
  },
  {
   "cell_type": "code",
   "execution_count": 101,
   "id": "41578b3f-d1b3-4f62-aa03-6ab99da7ab38",
   "metadata": {},
   "outputs": [
    {
     "name": "stdout",
     "output_type": "stream",
     "text": [
      "0.014 sec elapsed\n"
     ]
    }
   ],
   "source": [
    "tic()\n",
    "object$residuals <- residuals(ret$mer) \n",
    "\n",
    "if (G$nsdf>0) term.names<-colnames(G$X)[1:G$nsdf] else term.names<-array(\"\",0)\n",
    "n.smooth<-length(G$smooth) \n",
    "if (n.smooth)\n",
    "for (i in 1:n.smooth) { \n",
    "    k<-1\n",
    "  for (j in object$smooth[[i]]$first.para:object$smooth[[i]]$last.para){ \n",
    "      term.names[j]<-paste(object$smooth[[i]]$label,\".\",as.character(k),sep=\"\")\n",
    "      k<-k+1\n",
    "  }\n",
    "}\n",
    "\n",
    "names(object$coefficients) <- term.names  # note - won't work on matrices!!\n",
    "names(object$edf) <- term.names\n",
    "names(object$sp) <- names(G$sp)\n",
    "\n",
    "if (isREML(ret$mer)) {\n",
    "    object$gcv.ubre <- REMLcrit(ret$mer) \n",
    "} else { \n",
    "    object$gcv.ubre <- deviance(ret$mer)\n",
    "}\n",
    "\n",
    "if (!is.null(G$Xcentre)) {\n",
    "    object$Xcentre <- G$Xcentre ## any column centering applied to smooths\n",
    "}\n",
    "\n",
    "ret$gam<-object\n",
    "toc()"
   ]
  },
  {
   "cell_type": "code",
   "execution_count": 102,
   "id": "8cdfd653-f02f-454e-8647-540c1db2db44",
   "metadata": {},
   "outputs": [
    {
     "data": {
      "text/plain": [
       "\n",
       "Family: gaussian \n",
       "Link function: identity \n",
       "\n",
       "Formula:\n",
       "milk_ecm ~ 1 + s(thi_mean_t0_3d) + s(days_in_milk) + parity + \n",
       "    year\n",
       "\n",
       "Parametric coefficients:\n",
       "                  Estimate Std. Error  t value Pr(>|t|)    \n",
       "(Intercept)       18.85018    0.28787   65.483  < 2e-16 ***\n",
       "parityprimiparous -3.13695    0.02123 -147.748  < 2e-16 ***\n",
       "year1999          -1.64253    0.31266   -5.253 1.50e-07 ***\n",
       "year2000          -0.62208    0.28448   -2.187 0.028761 *  \n",
       "year2001           0.97205    0.27330    3.557 0.000376 ***\n",
       "year2002           1.15341    0.27476    4.198 2.69e-05 ***\n",
       "year2003           1.29279    0.27261    4.742 2.12e-06 ***\n",
       "year2004           2.09150    0.27153    7.703 1.34e-14 ***\n",
       "year2005           2.20402    0.27006    8.161 3.34e-16 ***\n",
       "year2006           2.57324    0.26899    9.566  < 2e-16 ***\n",
       "year2007           2.34451    0.26861    8.728  < 2e-16 ***\n",
       "year2008           2.76845    0.26797   10.331  < 2e-16 ***\n",
       "year2009           2.97484    0.26780   11.108  < 2e-16 ***\n",
       "year2010           3.35735    0.26741   12.555  < 2e-16 ***\n",
       "year2011           3.45469    0.26741   12.919  < 2e-16 ***\n",
       "year2012           3.80673    0.26715   14.249  < 2e-16 ***\n",
       "year2013           3.49263    0.26701   13.081  < 2e-16 ***\n",
       "year2014           4.11312    0.26698   15.406  < 2e-16 ***\n",
       "year2015           4.15795    0.26701   15.572  < 2e-16 ***\n",
       "year2016           4.34898    0.26673   16.305  < 2e-16 ***\n",
       "year2017           4.98282    0.26645   18.700  < 2e-16 ***\n",
       "year2018           5.40505    0.26638   20.291  < 2e-16 ***\n",
       "year2019           5.70795    0.26634   21.431  < 2e-16 ***\n",
       "year2020           6.09032    0.26663   22.842  < 2e-16 ***\n",
       "year2021           5.91217    0.26599   22.227  < 2e-16 ***\n",
       "year2022           5.63641    0.26557   21.224  < 2e-16 ***\n",
       "year2023           5.87008    0.26570   22.093  < 2e-16 ***\n",
       "---\n",
       "Signif. codes:  0 ‘***’ 0.001 ‘**’ 0.01 ‘*’ 0.05 ‘.’ 0.1 ‘ ’ 1\n",
       "\n",
       "Approximate significance of smooth terms:\n",
       "                    edf Ref.df        F p-value    \n",
       "s(thi_mean_t0_3d) 6.949  6.949    55.63  <2e-16 ***\n",
       "s(days_in_milk)   7.573  7.573 18184.20  <2e-16 ***\n",
       "---\n",
       "Signif. codes:  0 ‘***’ 0.001 ‘**’ 0.01 ‘*’ 0.05 ‘.’ 0.1 ‘ ’ 1\n",
       "\n",
       "R-sq.(adj) =   0.31   \n",
       "lmer.REML = 1.1341e+06  Scale est. = 14.818    n = 200234"
      ]
     },
     "metadata": {},
     "output_type": "display_data"
    }
   ],
   "source": [
    "summary(ret$gam)"
   ]
  },
  {
   "cell_type": "code",
   "execution_count": 103,
   "id": "87f8ec7b-36ed-45cd-a91a-74eabb195e08",
   "metadata": {},
   "outputs": [
    {
     "data": {
      "image/png": "[encoded data removed]",
      "text/plain": [
       "plot without title"
      ]
     },
     "metadata": {
      "image/png": {
       "height": 420,
       "width": 420
      }
     },
     "output_type": "display_data"
    },
    {
     "data": {
      "image/png": "[encoded data removed]",
      "text/plain": [
       "plot without title"
      ]
     },
     "metadata": {
      "image/png": {
       "height": 420,
       "width": 420
      }
     },
     "output_type": "display_data"
    }
   ],
   "source": [
    "plot(ret$gam, scale=0)"
   ]
  },
  {
   "cell_type": "code",
   "execution_count": 104,
   "id": "fd0c8f9d-f22d-4d09-a5cb-1573be1017f5",
   "metadata": {},
   "outputs": [],
   "source": [
    "b <- getViz(ret$gam)"
   ]
  },
  {
   "cell_type": "code",
   "execution_count": 105,
   "id": "5519b316-59c2-41fa-9cbe-1f6f15812283",
   "metadata": {},
   "outputs": [
    {
     "data": {
      "image/png": "[encoded data removed]",
      "text/plain": [
       "plot without title"
      ]
     },
     "metadata": {
      "image/png": {
       "height": 420,
       "width": 420
      }
     },
     "output_type": "display_data"
    }
   ],
   "source": [
    "plot(sm(b, 1)) + \n",
    "  l_ciPoly(alpha = 0.5) +  # Add confidence interval with semi-transparency\n",
    "  l_fitLine() +  # Add fitted line\n",
    "  l_ciLine() +\n",
    "  l_rug()# +\n",
    "  #geom_vline(xintercept = 53, color = \"red\", linetype = \"dashed\", size = 1)"
   ]
  },
  {
   "cell_type": "code",
   "execution_count": 106,
   "id": "925e9f7e-2555-413d-b549-486d35f2eb4e",
   "metadata": {},
   "outputs": [
    {
     "name": "stdout",
     "output_type": "stream",
     "text": [
      "29.552 sec elapsed\n"
     ]
    }
   ],
   "source": [
    "toc()"
   ]
  },
  {
   "cell_type": "code",
   "execution_count": 107,
   "id": "763ce9f8-58c2-4328-b4c9-c35d5dcb2e49",
   "metadata": {},
   "outputs": [],
   "source": [
    "first_derivative <- derivatives(ret$gam, type = \"central\", order = 1)\n",
    "\n",
    "# Find where the first derivative changes from positive to negative\n",
    "inflection_points <- with(first_derivative, {\n",
    "  signs <- sign(.derivative)  # Assuming the column name for the derivative is 'derivative'\n",
    "  change_points <- which(diff(signs) < 0)  # Find where the sign changes from positive to negative\n",
    "  data.frame(x = first_derivative[change_points + 1,], y = ret$gam$fitted.values[change_points + 1])\n",
    "})"
   ]
  },
  {
   "cell_type": "code",
   "execution_count": 108,
   "id": "4de6a227-5b8f-426d-9b08-f29fb6ae1d20",
   "metadata": {},
   "outputs": [
    {
     "data": {
      "text/html": [
       "<table class=\"dataframe\">\n",
       "<caption>A data.frame: 3 × 11</caption>\n",
       "<thead>\n",
       "\t<tr><th></th><th scope=col>x..smooth</th><th scope=col>x..by</th><th scope=col>x..fs</th><th scope=col>x..derivative</th><th scope=col>x..se</th><th scope=col>x..crit</th><th scope=col>x..lower_ci</th><th scope=col>x..upper_ci</th><th scope=col>x.thi_mean_t0_3d</th><th scope=col>x.days_in_milk</th><th scope=col>y</th></tr>\n",
       "\t<tr><th></th><th scope=col>&lt;chr&gt;</th><th scope=col>&lt;chr&gt;</th><th scope=col>&lt;chr&gt;</th><th scope=col>&lt;dbl&gt;</th><th scope=col>&lt;dbl&gt;</th><th scope=col>&lt;dbl&gt;</th><th scope=col>&lt;dbl&gt;</th><th scope=col>&lt;dbl&gt;</th><th scope=col>&lt;dbl&gt;</th><th scope=col>&lt;dbl&gt;</th><th scope=col>&lt;dbl&gt;</th></tr>\n",
       "</thead>\n",
       "<tbody>\n",
       "\t<tr><th scope=row>57</th><td>s(thi_mean_t0_3d)</td><td>NA</td><td>NA</td><td>-0.001085338</td><td>0.005385884</td><td>1.959964</td><td>-0.011641476</td><td>0.009470800</td><td>43.07129</td><td>      NA</td><td>17.58726</td></tr>\n",
       "\t<tr><th scope=row>70</th><td>s(thi_mean_t0_3d)</td><td>NA</td><td>NA</td><td>-0.002080386</td><td>0.005372712</td><td>1.959964</td><td>-0.012610707</td><td>0.008449935</td><td>53.14956</td><td>      NA</td><td>17.29161</td></tr>\n",
       "\t<tr><th scope=row>166</th><td>s(days_in_milk)  </td><td>NA</td><td>NA</td><td>-0.000794488</td><td>0.003430647</td><td>1.959964</td><td>-0.007518433</td><td>0.005929457</td><td>      NA</td><td>907.3737</td><td>22.12696</td></tr>\n",
       "</tbody>\n",
       "</table>\n"
      ],
      "text/latex": [
       "A data.frame: 3 × 11\n",
       "\\begin{tabular}{r|lllllllllll}\n",
       "  & x..smooth & x..by & x..fs & x..derivative & x..se & x..crit & x..lower\\_ci & x..upper\\_ci & x.thi\\_mean\\_t0\\_3d & x.days\\_in\\_milk & y\\\\\n",
       "  & <chr> & <chr> & <chr> & <dbl> & <dbl> & <dbl> & <dbl> & <dbl> & <dbl> & <dbl> & <dbl>\\\\\n",
       "\\hline\n",
       "\t57 & s(thi\\_mean\\_t0\\_3d) & NA & NA & -0.001085338 & 0.005385884 & 1.959964 & -0.011641476 & 0.009470800 & 43.07129 &       NA & 17.58726\\\\\n",
       "\t70 & s(thi\\_mean\\_t0\\_3d) & NA & NA & -0.002080386 & 0.005372712 & 1.959964 & -0.012610707 & 0.008449935 & 53.14956 &       NA & 17.29161\\\\\n",
       "\t166 & s(days\\_in\\_milk)   & NA & NA & -0.000794488 & 0.003430647 & 1.959964 & -0.007518433 & 0.005929457 &       NA & 907.3737 & 22.12696\\\\\n",
       "\\end{tabular}\n"
      ],
      "text/markdown": [
       "\n",
       "A data.frame: 3 × 11\n",
       "\n",
       "| <!--/--> | x..smooth &lt;chr&gt; | x..by &lt;chr&gt; | x..fs &lt;chr&gt; | x..derivative &lt;dbl&gt; | x..se &lt;dbl&gt; | x..crit &lt;dbl&gt; | x..lower_ci &lt;dbl&gt; | x..upper_ci &lt;dbl&gt; | x.thi_mean_t0_3d &lt;dbl&gt; | x.days_in_milk &lt;dbl&gt; | y &lt;dbl&gt; |\n",
       "|---|---|---|---|---|---|---|---|---|---|---|---|\n",
       "| 57 | s(thi_mean_t0_3d) | NA | NA | -0.001085338 | 0.005385884 | 1.959964 | -0.011641476 | 0.009470800 | 43.07129 |       NA | 17.58726 |\n",
       "| 70 | s(thi_mean_t0_3d) | NA | NA | -0.002080386 | 0.005372712 | 1.959964 | -0.012610707 | 0.008449935 | 53.14956 |       NA | 17.29161 |\n",
       "| 166 | s(days_in_milk)   | NA | NA | -0.000794488 | 0.003430647 | 1.959964 | -0.007518433 | 0.005929457 |       NA | 907.3737 | 22.12696 |\n",
       "\n"
      ],
      "text/plain": [
       "    x..smooth         x..by x..fs x..derivative x..se       x..crit \n",
       "57  s(thi_mean_t0_3d) NA    NA    -0.001085338  0.005385884 1.959964\n",
       "70  s(thi_mean_t0_3d) NA    NA    -0.002080386  0.005372712 1.959964\n",
       "166 s(days_in_milk)   NA    NA    -0.000794488  0.003430647 1.959964\n",
       "    x..lower_ci  x..upper_ci x.thi_mean_t0_3d x.days_in_milk y       \n",
       "57  -0.011641476 0.009470800 43.07129               NA       17.58726\n",
       "70  -0.012610707 0.008449935 53.14956               NA       17.29161\n",
       "166 -0.007518433 0.005929457       NA         907.3737       22.12696"
      ]
     },
     "metadata": {},
     "output_type": "display_data"
    }
   ],
   "source": [
    "inflection_points"
   ]
  },
  {
   "cell_type": "code",
   "execution_count": 109,
   "id": "b174048d-9de4-4434-9a41-b94c3156d8db",
   "metadata": {},
   "outputs": [
    {
     "data": {
      "image/png": "[encoded data removed]",
      "text/plain": [
       "plot without title"
      ]
     },
     "metadata": {
      "image/png": {
       "height": 420,
       "width": 420
      }
     },
     "output_type": "display_data"
    }
   ],
   "source": [
    "check(b,\n",
    "      a.qq = list(method = \"tnorm\", \n",
    "                  a.cipoly = list(fill = \"light blue\")), \n",
    "      a.respoi = list(size = 0.5), \n",
    "      a.hist = list(bins = 50))"
   ]
  },
  {
   "cell_type": "code",
   "execution_count": 110,
   "id": "528a8ebf-d796-40e1-a169-9325fd0d9c8c",
   "metadata": {},
   "outputs": [
    {
     "name": "stdout",
     "output_type": "stream",
     "text": [
      "0.869 sec elapsed\n",
      "0.943 sec elapsed\n"
     ]
    }
   ],
   "source": [
    "tic()\n",
    "saveRDS(ret$gam,file=model_fname, compress=\"gzip\")\n",
    "toc()\n",
    "tic()\n",
    "saveRDS(b,file=plot_fname, compress=\"gzip\")\n",
    "toc()"
   ]
  }
 ],
 "metadata": {
  "kernelspec": {
   "display_name": "R",
   "language": "R",
   "name": "ir"
  },
  "language_info": {
   "codemirror_mode": "r",
   "file_extension": ".r",
   "mimetype": "text/x-r-source",
   "name": "R",
   "pygments_lexer": "r",
   "version": "4.4.1"
  }
 },
 "nbformat": 4,
 "nbformat_minor": 5
}
